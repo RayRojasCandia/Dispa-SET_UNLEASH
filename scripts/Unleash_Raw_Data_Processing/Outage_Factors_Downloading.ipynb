{
 "cells": [
  {
   "cell_type": "markdown",
   "id": "19e7ab79-8b59-4402-9772-c3573d835bfb",
   "metadata": {},
   "source": [
    "<div style=\"text-align: center; margin-left: 0em; font-weight: bold; font-size: 20px; font-family: TimesNewRoman; color: skyblue\">\n",
    "    TIME SERIES DATA PROCESSING\n",
    "    <br>\n",
    "    OUTAGE FACTORS\n",
    "<div style=\"text-align: center; margin-left: 0em; font-weight: bold; font-size: 18px; font-family: TimesNewRoman; color: skyblue\">\n",
    "    Raw Data Downloading Notebook\n",
    "</div>\n",
    "    </div>\n",
    "<br>\n",
    "<div style=\"text-align: justify; margin-left: 0em; font-weight: unbold; font-size: 14px; font-family: TimesNewRoman; color: skyblue\">\n",
    "Each part of the following script was used to download and storage the raw data for the outage Factors time series for all the european countries of the Dispa-SET_Unleash project.\n",
    "<br>\n",
    "Read explanation text cells to follow and understand all the process until final results were got stept by step.\n",
    "</div>\n",
    "<br>\n",
    "<div style=\"text-align: justify; margin-left: 3.0em; font-weight: bold; font-size: 18px; font-family: TimesNewRoman; color:skyblue\">\n",
    "    1. Notebook Set Up\n",
    "</div>\n",
    "<div style=\"text-align: justify; margin-left: 0.0em; font-weight: unbold; font-size: 16px; font-family: TimesNewRoman; color:skyblue\">\n",
    "    Importing needed libraries\n",
    "</div>"
   ]
  },
  {
   "cell_type": "code",
   "execution_count": 1,
   "id": "a590ae9c-56f6-4dbf-a4f4-9f39b4fa21eb",
   "metadata": {},
   "outputs": [],
   "source": [
    "import pandas as pd\n",
    "from entsoe import EntsoePandasClient\n",
    "import os\n",
    "import csv"
   ]
  },
  {
   "cell_type": "markdown",
   "id": "1de47724-25dd-456b-90ed-5b0f0f73cbb5",
   "metadata": {},
   "source": [
    " <div style=\"text-align: justify; margin-left: 3.0em; font-weight: bold; font-size: 18px; font-family: TimesNewRoman;color:skyblue\">\n",
    "    2. ENTSO-E RESTful API.\n",
    "</div>\n",
    "<div style=\"text-align: justify; margin-left: 0.0em; font-weight: unbold; font-size: 14px; font-family: TimesNewRoman;color:skyblue\">\n",
    "Connecting with the ENTSO-E API Tool.\n",
    "</div>\n",
    "<div style=\"text-align: justify; margin-left: 2.0em; font-weight: unbold; font-size: 13px; font-family: TimesNewRoman;color:skyblue\">\n",
    "To donwload the neeeded data using the API tool, is mandatory to use a token autentication to connect and make the future request of data.\n",
    "</div>"
   ]
  },
  {
   "cell_type": "code",
   "execution_count": 2,
   "id": "e6899aaf-90da-463a-b5e6-6092997b2312",
   "metadata": {},
   "outputs": [],
   "source": [
    "client = EntsoePandasClient(api_key='61e5bbbb-7e80-4540-a471-bd993873aa74')"
   ]
  },
  {
   "cell_type": "markdown",
   "id": "5dd2e76f-2442-4fdd-b2db-b3b71f3f544b",
   "metadata": {},
   "source": [
    "<div style=\"text-align: justify; margin-left: 3.0em; font-weight: bold; font-size: 18px; font-family: TimesNewRoman;color:skyblue\">\n",
    "    3. Dispa-SET_Unleash Folder Path\n",
    "</div>\n",
    "<div style=\"text-align: justify; margin-left: 0.0em; font-weight: unbold; font-size: 14px; font-family: TimesNewRoman;color:skyblue\">\n",
    "    Determinning dynamically the zone_folder_path based on the location of the \"Dispa-SET_Unleash\" folder relative to the current working directory.\n",
    "</div>\n",
    "<div style=\"text-align: justify; margin-left: 2.0em; font-weight: unbold; font-size: 13px; font-family: TimesNewRoman;color:skyblue\">If the \"Dispa-SET_Unleash\" folder is copied to a different machine or location, the dispaSET_unleash_folder_path variable will automatically adjust accordingly.\n",
    "</div>"
   ]
  },
  {
   "cell_type": "code",
   "execution_count": 3,
   "id": "8926675d-6398-4db7-80cd-42c829b7b0e1",
   "metadata": {},
   "outputs": [
    {
     "name": "stdout",
     "output_type": "stream",
     "text": [
      "dispaSET_unleash_folder_name: Dispa-SET_Unleash\n",
      "dispaSET_unleash_folder_path: /home/ray/Dispa-SET_Unleash\n"
     ]
    }
   ],
   "source": [
    "# Get the current working directory\n",
    "current_directory = os.getcwd()\n",
    "\n",
    "# Navigate to the parent directory of \"Dispa-SET_Unleash\"\n",
    "dispaSET_unleash_parent_directory = os.path.dirname(current_directory)\n",
    "\n",
    "# Get the path to the \"Dispa-SET_Unleash\" folder\n",
    "dispaSET_unleash_folder_path = os.path.dirname(dispaSET_unleash_parent_directory)\n",
    "\n",
    "# Construct the dispaSET_unleash_folder_name variable\n",
    "dispaSET_unleash_folder_name = os.path.basename(dispaSET_unleash_folder_path)\n",
    "\n",
    "print(\"dispaSET_unleash_folder_name:\", dispaSET_unleash_folder_name)\n",
    "print(\"dispaSET_unleash_folder_path:\", dispaSET_unleash_folder_path)"
   ]
  },
  {
   "cell_type": "markdown",
   "id": "8f38b8cd-b666-4738-9813-f1fbeb216ab7",
   "metadata": {},
   "source": [
    "<div style=\"text-align: justify; margin-left: 3.0em; font-weight: bold; font-size: 18px; font-family: TimesNewRoman;color:skyblue\">\n",
    "    4. Usefull Variable Definition\n",
    "</div>\n",
    "<div style=\"text-align: justify; margin-left: 0.0em; font-weight: unbold; font-size: 14px; font-family: TimesNewRoman;color:skyblue\">\n",
    "Entering a value to all the variables which content are going to be used in some of the next stages of this script. \n",
    "</div>\n",
    "<div style=\"text-align: justify; margin-left: 2.0em; font-weight: unbold; font-size: 13px; font-family: TimesNewRoman;color:skyblue\">\n",
    "Indicate the year of all data is referring to in the variable data_year.\n",
    "<br>\n",
    "The universal_standar_time variable is going to be used to download all the time series data in this horary zone. Additionally as each european country belongs a particular time sector the corresponding time series data related to its time sector are going to be downloaded as well but in a different file.\n",
    "<br>\n",
    "Additionally there are some default parameters that has to be defined to the correct working and calling to the ENTSO-E downloading functions.\n",
    "</div>"
   ]
  },
  {
   "cell_type": "code",
   "execution_count": 4,
   "id": "17cff013-7efc-43b0-a572-8f32f1f9a920",
   "metadata": {},
   "outputs": [],
   "source": [
    "# Year to which data refers to:\n",
    "data_year = 2020"
   ]
  },
  {
   "cell_type": "code",
   "execution_count": 5,
   "id": "7fe94548-6223-4ace-9793-b857b53e2ad8",
   "metadata": {},
   "outputs": [
    {
     "name": "stdout",
     "output_type": "stream",
     "text": [
      "reference_data_folder_path: /home/ray/Dispa-SET_Unleash/RawData/OutageFactors/\n",
      "outage_factor_folder_path: /home/ray/Dispa-SET_Unleash/RawData/OutageFactors/\n",
      "outage_factors_raw_data_folder_path: /home/ray/Dispa-SET_Unleash/RawData/OutageFactors/Raw_Data_Sources\n"
     ]
    }
   ],
   "source": [
    "# Additional string to be appended\n",
    "additional_path = \"/RawData/OutageFactors/\"\n",
    "additional_path_1 = \"/RawData/OutageFactors/Raw_Data_Sources\"\n",
    "\n",
    "# Construct the standard_time_data_folder_path variable\n",
    "reference_data_folder_path = dispaSET_unleash_folder_path + additional_path\n",
    "\n",
    "# Construct the Outage_Factors_folder_path variable\n",
    "outage_factor_folder_path = dispaSET_unleash_folder_path + additional_path\n",
    "\n",
    "# Construct the Outage_Factors_Raw_Data_folder_path variable\n",
    "outage_factors_raw_data_folder_path = dispaSET_unleash_folder_path + additional_path_1\n",
    "\n",
    "\n",
    "print(\"reference_data_folder_path:\", reference_data_folder_path)\n",
    "print(\"outage_factor_folder_path:\", outage_factor_folder_path)\n",
    "print(\"outage_factors_raw_data_folder_path:\", outage_factors_raw_data_folder_path)"
   ]
  },
  {
   "cell_type": "code",
   "execution_count": 6,
   "id": "ab19470a-140b-4a86-a0c9-32f845c3497a",
   "metadata": {},
   "outputs": [],
   "source": [
    "# Define other parameters\n",
    "type_marketagreement_type = 'A01'\n",
    "contract_marketagreement_type = \"A01\"\n",
    "process_type = 'A51'"
   ]
  },
  {
   "cell_type": "markdown",
   "id": "d610c8df-68ce-40aa-af2e-d67c3b2df7a0",
   "metadata": {},
   "source": [
    "<div style=\"text-align: justify; margin-left: 3.0em; font-weight: bold; font-size: 18px; font-family: TimesNewRoman;color:skyblue\">\n",
    "    5. Country List Variable Definition\n",
    "</div>\n",
    "<div style=\"text-align: justify; margin-left: 0.0em; font-weight: unbold; font-size: 14px; font-family: TimesNewRoman;color:skyblue\">\n",
    "Defining the list of countries according to the available data . \n",
    "</div>\n",
    "<div style=\"text-align: justify; margin-left: 2.0em; font-weight: unbold; font-size: 13px; font-family: TimesNewRoman;color:skyblue\">\n",
    "Since not all the Countries modelled in Dispa-SET has available data in the ENTSO-E API and also some countries are not be able to get the same kind of data e.g. The outages of Germany, Denmark and others cannot be downloaded, they are going to be avoided of the outages country to not interrupt the downloading proccess.\n",
    "</div>"
   ]
  },
  {
   "cell_type": "code",
   "execution_count": 7,
   "id": "9485328c-cd02-43c9-a78d-ad5c22cff2af",
   "metadata": {},
   "outputs": [],
   "source": [
    "# Define a list of country codes\n",
    "#country_list = [\"AT\", \"BE\", \"BG\", \"CH\", \"CY\", \"CZ\", \"DE\", \"DK\", \"EE\", \"EL\", \"ES\", \"FI\", \"FR\", \"HR\", \"HU\", \n",
    "#               \"IE\", \"IT\", \"LT\", \"LU\", \"LV\", \"MT\", \"NL\", \"NO\", \"PL\", \"PT\", \"RO\", \"SE\", \"SI\", \"SK\", \"UK\"]\n",
    "\n",
    "outages_data_per_unit_country_list = [\"AT\", \"BE\", \"BG\", \"CH\", \"CZ\", \"EE\", \"FI\", \"GR\", \"HU\", \"IE\", \n",
    "                                      \"LT\", \"LV\", \"NL\", \"NO\", \"PL\", \"PT\", \"RO\", \"SE\", \"SI\", \"SK\"]\n",
    "\n",
    "#outages_data_per_unit_country_list = [\"HU\", \"IE\", \n",
    "              #                        \"LT\", \"LV\", \"NL\", \"NO\", \"PL\", \"PT\", \"RO\", \"SE\", \"SI\", \"SK\"]\n",
    "\n",
    "non_outages_data_country_list = [\"CY\", \"DE\", \"DK\", \"ES\", \"FR\", \"HR\", \"IT\" ,\"LU\", \"MT\", \"UK\"]"
   ]
  },
  {
   "cell_type": "markdown",
   "id": "3aab8ab2-50cd-42bf-a8c4-bf74491b93ed",
   "metadata": {},
   "source": [
    "<div style=\"text-align: justify; margin-left: 3.0em; font-weight: bold; font-size: 18px; font-family: TimesNewRoman;color:skyblue\">\n",
    "    6. Outages Data Per Unit Downloading\n",
    "</div>\n",
    "<div style=\"text-align: justify; margin-left: 0.0em; font-weight: unbold; font-size: 14px; font-family: TimesNewRoman;color:skyblue\">\n",
    "Downloading the outages raw data which countries have a desagregation per unit. \n",
    "</div>"
   ]
  },
  {
   "cell_type": "code",
   "execution_count": 8,
   "id": "6476bb30-01aa-4f02-85d7-6f605182a443",
   "metadata": {},
   "outputs": [
    {
     "name": "stderr",
     "output_type": "stream",
     "text": [
      "/home/ray/anaconda3/lib/python3.11/site-packages/entsoe/decorators.py:79: FutureWarning: The behavior of DataFrame concatenation with empty or all-NA entries is deprecated. In a future version, this will no longer exclude empty or all-NA columns when determining the result dtypes. To retain the old behavior, exclude the relevant entries before the concat operation.\n",
      "  df = pd.concat(frames, sort=True)\n",
      "/home/ray/anaconda3/lib/python3.11/site-packages/entsoe/decorators.py:79: FutureWarning: The behavior of DataFrame concatenation with empty or all-NA entries is deprecated. In a future version, this will no longer exclude empty or all-NA columns when determining the result dtypes. To retain the old behavior, exclude the relevant entries before the concat operation.\n",
      "  df = pd.concat(frames, sort=True)\n",
      "Connection Error, retrying in 0 seconds\n"
     ]
    },
    {
     "ename": "ConnectionError",
     "evalue": "('Connection aborted.', RemoteDisconnected('Remote end closed connection without response'))",
     "output_type": "error",
     "traceback": [
      "Traceback \u001b[0;36m(most recent call last)\u001b[0m:\n",
      "\u001b[0m  File \u001b[1;32m~/anaconda3/lib/python3.11/site-packages/urllib3/connectionpool.py:791\u001b[0m in \u001b[1;35murlopen\u001b[0m\n    response = self._make_request(\u001b[0m\n",
      "\u001b[0m  File \u001b[1;32m~/anaconda3/lib/python3.11/site-packages/urllib3/connectionpool.py:537\u001b[0m in \u001b[1;35m_make_request\u001b[0m\n    response = conn.getresponse()\u001b[0m\n",
      "\u001b[0m  File \u001b[1;32m~/anaconda3/lib/python3.11/site-packages/urllib3/connection.py:461\u001b[0m in \u001b[1;35mgetresponse\u001b[0m\n    httplib_response = super().getresponse()\u001b[0m\n",
      "\u001b[0m  File \u001b[1;32m~/anaconda3/lib/python3.11/http/client.py:1386\u001b[0m in \u001b[1;35mgetresponse\u001b[0m\n    response.begin()\u001b[0m\n",
      "\u001b[0m  File \u001b[1;32m~/anaconda3/lib/python3.11/http/client.py:325\u001b[0m in \u001b[1;35mbegin\u001b[0m\n    version, status, reason = self._read_status()\u001b[0m\n",
      "\u001b[0;36m  File \u001b[0;32m~/anaconda3/lib/python3.11/http/client.py:294\u001b[0;36m in \u001b[0;35m_read_status\u001b[0;36m\n\u001b[0;31m    raise RemoteDisconnected(\"Remote end closed connection without\"\u001b[0;36m\n",
      "\u001b[0;31mRemoteDisconnected\u001b[0m\u001b[0;31m:\u001b[0m Remote end closed connection without response\n",
      "\nDuring handling of the above exception, another exception occurred:\n",
      "Traceback \u001b[0;36m(most recent call last)\u001b[0m:\n",
      "\u001b[0m  File \u001b[1;32m~/anaconda3/lib/python3.11/site-packages/requests/adapters.py:486\u001b[0m in \u001b[1;35msend\u001b[0m\n    resp = conn.urlopen(\u001b[0m\n",
      "\u001b[0m  File \u001b[1;32m~/anaconda3/lib/python3.11/site-packages/urllib3/connectionpool.py:845\u001b[0m in \u001b[1;35murlopen\u001b[0m\n    retries = retries.increment(\u001b[0m\n",
      "\u001b[0m  File \u001b[1;32m~/anaconda3/lib/python3.11/site-packages/urllib3/util/retry.py:470\u001b[0m in \u001b[1;35mincrement\u001b[0m\n    raise reraise(type(error), error, _stacktrace)\u001b[0m\n",
      "\u001b[0m  File \u001b[1;32m~/anaconda3/lib/python3.11/site-packages/urllib3/util/util.py:38\u001b[0m in \u001b[1;35mreraise\u001b[0m\n    raise value.with_traceback(tb)\u001b[0m\n",
      "\u001b[0m  File \u001b[1;32m~/anaconda3/lib/python3.11/site-packages/urllib3/connectionpool.py:791\u001b[0m in \u001b[1;35murlopen\u001b[0m\n    response = self._make_request(\u001b[0m\n",
      "\u001b[0m  File \u001b[1;32m~/anaconda3/lib/python3.11/site-packages/urllib3/connectionpool.py:537\u001b[0m in \u001b[1;35m_make_request\u001b[0m\n    response = conn.getresponse()\u001b[0m\n",
      "\u001b[0m  File \u001b[1;32m~/anaconda3/lib/python3.11/site-packages/urllib3/connection.py:461\u001b[0m in \u001b[1;35mgetresponse\u001b[0m\n    httplib_response = super().getresponse()\u001b[0m\n",
      "\u001b[0m  File \u001b[1;32m~/anaconda3/lib/python3.11/http/client.py:1386\u001b[0m in \u001b[1;35mgetresponse\u001b[0m\n    response.begin()\u001b[0m\n",
      "\u001b[0m  File \u001b[1;32m~/anaconda3/lib/python3.11/http/client.py:325\u001b[0m in \u001b[1;35mbegin\u001b[0m\n    version, status, reason = self._read_status()\u001b[0m\n",
      "\u001b[0;36m  File \u001b[0;32m~/anaconda3/lib/python3.11/http/client.py:294\u001b[0;36m in \u001b[0;35m_read_status\u001b[0;36m\n\u001b[0;31m    raise RemoteDisconnected(\"Remote end closed connection without\"\u001b[0;36m\n",
      "\u001b[0;31mProtocolError\u001b[0m\u001b[0;31m:\u001b[0m ('Connection aborted.', RemoteDisconnected('Remote end closed connection without response'))\n",
      "\nDuring handling of the above exception, another exception occurred:\n",
      "Traceback \u001b[0;36m(most recent call last)\u001b[0m:\n",
      "\u001b[0m  Cell \u001b[1;32mIn[8], line 8\u001b[0m\n    query_unavailability_of_generation_units = client.query_unavailability_of_generation_units(country_code, start=start, end=end, docstatus=None, periodstartupdate=None, periodendupdate=None)\u001b[0m\n",
      "\u001b[0m  File \u001b[1;32m~/anaconda3/lib/python3.11/site-packages/entsoe/entsoe.py:1981\u001b[0m in \u001b[1;35mquery_unavailability_of_generation_units\u001b[0m\n    df = self._query_unavailability(\u001b[0m\n",
      "\u001b[0m  File \u001b[1;32m~/anaconda3/lib/python3.11/site-packages/entsoe/decorators.py:124\u001b[0m in \u001b[1;35myear_wrapper\u001b[0m\n    frame = func(*args, start=_start, end=_end, **kwargs)\u001b[0m\n",
      "\u001b[0m  File \u001b[1;32m~/anaconda3/lib/python3.11/site-packages/entsoe/decorators.py:48\u001b[0m in \u001b[1;35mpagination_wrapper\u001b[0m\n    df = func(*args, start=start, end=end, **kwargs)\u001b[0m\n",
      "\u001b[0m  File \u001b[1;32m~/anaconda3/lib/python3.11/site-packages/entsoe/decorators.py:69\u001b[0m in \u001b[1;35mdocuments_wrapper\u001b[0m\n    frame = func(*args, offset=offset, **kwargs)\u001b[0m\n",
      "\u001b[0m  File \u001b[1;32m~/anaconda3/lib/python3.11/site-packages/entsoe/entsoe.py:1951\u001b[0m in \u001b[1;35m_query_unavailability\u001b[0m\n    content = super(EntsoePandasClient, self)._query_unavailability(\u001b[0m\n",
      "\u001b[0m  File \u001b[1;32m~/anaconda3/lib/python3.11/site-packages/entsoe/entsoe.py:982\u001b[0m in \u001b[1;35m_query_unavailability\u001b[0m\n    response = self._base_request(params=params, start=start, end=end)\u001b[0m\n",
      "\u001b[0m  File \u001b[1;32m~/anaconda3/lib/python3.11/site-packages/entsoe/decorators.py:36\u001b[0m in \u001b[1;35mretry_wrapper\u001b[0m\n    raise error\u001b[0m\n",
      "\u001b[0m  File \u001b[1;32m~/anaconda3/lib/python3.11/site-packages/entsoe/decorators.py:24\u001b[0m in \u001b[1;35mretry_wrapper\u001b[0m\n    result = func(*args, **kwargs)\u001b[0m\n",
      "\u001b[0m  File \u001b[1;32m~/anaconda3/lib/python3.11/site-packages/entsoe/entsoe.py:96\u001b[0m in \u001b[1;35m_base_request\u001b[0m\n    response = self.session.get(url=URL, params=params,\u001b[0m\n",
      "\u001b[0m  File \u001b[1;32m~/anaconda3/lib/python3.11/site-packages/requests/sessions.py:602\u001b[0m in \u001b[1;35mget\u001b[0m\n    return self.request(\"GET\", url, **kwargs)\u001b[0m\n",
      "\u001b[0m  File \u001b[1;32m~/anaconda3/lib/python3.11/site-packages/requests/sessions.py:589\u001b[0m in \u001b[1;35mrequest\u001b[0m\n    resp = self.send(prep, **send_kwargs)\u001b[0m\n",
      "\u001b[0m  File \u001b[1;32m~/anaconda3/lib/python3.11/site-packages/requests/sessions.py:703\u001b[0m in \u001b[1;35msend\u001b[0m\n    r = adapter.send(request, **kwargs)\u001b[0m\n",
      "\u001b[0;36m  File \u001b[0;32m~/anaconda3/lib/python3.11/site-packages/requests/adapters.py:501\u001b[0;36m in \u001b[0;35msend\u001b[0;36m\n\u001b[0;31m    raise ConnectionError(err, request=request)\u001b[0;36m\n",
      "\u001b[0;31mConnectionError\u001b[0m\u001b[0;31m:\u001b[0m ('Connection aborted.', RemoteDisconnected('Remote end closed connection without response'))\n"
     ]
    }
   ],
   "source": [
    "# Iterate over each country code\n",
    "for country_code in outages_data_per_unit_country_list:\n",
    "    # Define the start and end timestamps for the year\n",
    "    start = pd.Timestamp(str(data_year) + '0101', tz='Europe/Brussels')\n",
    "    end = pd.Timestamp(str(data_year) + '1231', tz='Europe/Brussels')\n",
    "\n",
    "    # Query unavailability of generation units for the current country code\n",
    "    query_unavailability_of_generation_units = client.query_unavailability_of_generation_units(country_code, start=start, end=end, docstatus=None, periodstartupdate=None, periodendupdate=None)\n",
    "\n",
    "    # Define the output folder path using the country code\n",
    "    output_folder_path = os.path.join(outage_factors_raw_data_folder_path, str(data_year))\n",
    "    os.makedirs(output_folder_path, exist_ok=True)  # Create the folder if it doesn't exist\n",
    "\n",
    "    # Define the output file path using the country code\n",
    "    output_file_path = os.path.join(output_folder_path, f'{country_code}.csv')\n",
    "    \n",
    "    # Save the queried data to a CSV file\n",
    "    query_unavailability_of_generation_units.to_csv(output_file_path, index=False)"
   ]
  },
  {
   "cell_type": "markdown",
   "id": "d93d1323-11c8-41a8-a51f-9bffc3ea9b13",
   "metadata": {},
   "source": [
    "<div style=\"text-align: justify; margin-left: 3.0em; font-weight: bold; font-size: 18px; font-family: TimesNewRoman;color:skyblue\">\n",
    "    8. Non Outages Data\n",
    "</div>\n",
    "<div style=\"text-align: justify; margin-left: 0.0em; font-weight: unbold; font-size: 14px; font-family: TimesNewRoman;color:skyblue\">\n",
    "Creating empty csv files with the corresponding headers for those countries which outages raw data are not available.\n",
    "</div>"
   ]
  },
  {
   "cell_type": "code",
   "execution_count": null,
   "id": "2ab80628-c3e3-4f28-9d6a-09deb0c19252",
   "metadata": {},
   "outputs": [],
   "source": [
    "# Get the header from an existing CSV file\n",
    "sample_file = os.path.join(output_folder_path, os.listdir(output_folder_path)[0])  # Assuming at least one file exists\n",
    "with open(sample_file, 'r') as file:\n",
    "    reader = csv.reader(file)\n",
    "    header = next(reader)\n",
    "\n",
    "# Create empty CSV files for each country\n",
    "for country_code in non_outages_data_country_list:\n",
    "    # Construct the file path\n",
    "    file_path = os.path.join(output_folder_path, f\"{country_code}.csv\")\n",
    "    # Write the header to the new CSV file\n",
    "    with open(file_path, 'w', newline='') as file:\n",
    "        writer = csv.writer(file)\n",
    "        writer.writerow(header)"
   ]
  },
  {
   "cell_type": "markdown",
   "id": "4fc3cb6f-1174-48eb-a560-eaff1054fe50",
   "metadata": {},
   "source": [
    "<div style=\"text-align: justify; margin-left: 3.0em; font-weight: bold; font-size: 18px; font-family: TimesNewRoman;color:skyblue\">\n",
    "    9. Greece Name\n",
    "</div>\n",
    "<div style=\"text-align: justify; margin-left: 0.0em; font-weight: unbold; font-size: 14px; font-family: TimesNewRoman;color:skyblue\">\n",
    "Changing the Acronym of Greece country to the correspondign to the Dispa-SET nomenclature.\n",
    "</div>"
   ]
  },
  {
   "cell_type": "code",
   "execution_count": null,
   "id": "1eaa3a14-bfb2-4f50-aacd-fe5348310584",
   "metadata": {},
   "outputs": [],
   "source": [
    "# Define the old and new file names\n",
    "old_file_name = 'GR.csv'\n",
    "new_file_name = 'EL.csv'\n",
    "\n",
    "# Construct the full paths for the old and new file\n",
    "old_file_path = os.path.join(output_folder_path, old_file_name)\n",
    "new_file_path = os.path.join(output_folder_path, new_file_name)\n",
    "\n",
    "# Rename the file\n",
    "os.rename(old_file_path, new_file_path)"
   ]
  }
 ],
 "metadata": {
  "kernelspec": {
   "display_name": "Python 3 (Spyder)",
   "language": "python3",
   "name": "python3"
  },
  "language_info": {
   "codemirror_mode": {
    "name": "ipython",
    "version": 3
   },
   "file_extension": ".py",
   "mimetype": "text/x-python",
   "name": "python",
   "nbconvert_exporter": "python",
   "pygments_lexer": "ipython3",
   "version": "3.11.7"
  }
 },
 "nbformat": 4,
 "nbformat_minor": 5
}
