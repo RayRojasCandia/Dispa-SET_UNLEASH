{
 "cells": [
  {
   "cell_type": "markdown",
   "id": "ede52729-ca52-47f6-b7a2-9ab76ea8783e",
   "metadata": {},
   "source": [
    "<div style=\"text-align: center; margin-left: 0em; font-weight: bold; font-size: 20px; font-family: TimesNewRoman; color: skyblue\">\n",
    "    TIME SERIES DATA PROCESSING\n",
    "    <br>\n",
    "    LOAD REAL TIME | LOAD DAY AHEAD\n",
    "<div style=\"text-align: center; margin-left: 0em; font-weight: bold; font-size: 18px; font-family: TimesNewRoman; color: skyblue\">\n",
    "    Raw Data Downloading Notebook\n",
    "</div>\n",
    "</div>\n",
    "<br>\n",
    "<div style=\"text-align: justify; margin-left: 0em; font-weight: unbold; font-size: 14px; font-family: TimesNewRoman; color: skyblue\">\n",
    "        Each part of the following script was used to download the raw data for the Real Time and Day Ahead Load Time Series Raw Data for all the european countries of the Dispa-SET_Unleash project.\n",
    "<br>\n",
    "Read explanation text cells to follow and understand all the process until final results were got stept by step.\n",
    "</div>\n",
    "<br>\n",
    "<div style=\"text-align: justify; margin-left: 3.0em; font-weight: bold; font-size: 18px; font-family: TimesNewRoman; color:skyblue\">\n",
    "    1. Notebook Set Up\n",
    "</div>\n",
    "<div style=\"text-align: justify; margin-left: 0.0em; font-weight: unbold; font-size: 14px; font-family: TimesNewRoman; color:skyblue\">\n",
    "    Importing needed libraries\n",
    "</div>"
   ]
  },
  {
   "cell_type": "code",
   "execution_count": 1,
   "id": "62da5c90-b995-4c9a-9d07-670174d90db4",
   "metadata": {},
   "outputs": [],
   "source": [
    "import pandas as pd\n",
    "from entsoe import EntsoePandasClient\n",
    "from entsoe.exceptions import NoMatchingDataError  # Ensure this line is included\n",
    "from entsoe.exceptions import NoMatchingDataError, InvalidBusinessParameterError  # Import relevant exceptions\n",
    "import os\n",
    "import csv\n",
    "from datetime import datetime\n",
    "import pytz\n",
    "from pytz import timezone, utc\n",
    "import shutil"
   ]
  },
  {
   "cell_type": "markdown",
   "id": "66e6fc8c-7d27-480c-8a8f-297e1899ad13",
   "metadata": {},
   "source": [
    " <div style=\"text-align: justify; margin-left: 3.0em; font-weight: bold; font-size: 18px; font-family: TimesNewRoman; color:skyblue\">\n",
    "    2. ENTSO-E RESTful API.\n",
    "</div>\n",
    "<div style=\"text-align: justify; margin-left: 0.0em; font-weight: unbold; font-size: 14px; font-family: TimesNewRoman; color:skyblue\">\n",
    "Connecting with the ENTSO-E API Tool.\n",
    "</div>\n",
    "<div style=\"text-align: justify; margin-left: 2.0em; font-weight: unbold; font-size: 13px; font-family: TimesNewRoman; color:skyblue\">\n",
    "To donwload the neeeded data using the API tool, is mandatory to use a token autentication to connect and make the future request of data.\n",
    "</div>"
   ]
  },
  {
   "cell_type": "code",
   "execution_count": 2,
   "id": "f72a1ec2-67e7-4ee8-b96a-304c3f1ef69a",
   "metadata": {},
   "outputs": [],
   "source": [
    "client = EntsoePandasClient(api_key='61e5bbbb-7e80-4540-a471-bd993873aa74')"
   ]
  },
  {
   "cell_type": "markdown",
   "id": "32a32a23-384e-4a82-8f49-984898124c88",
   "metadata": {},
   "source": [
    "<div style=\"text-align: justify; margin-left: 3.0em; font-weight: bold; font-size: 18px; font-family: TimesNewRoman; color:skyblue\">\n",
    "    3. Dispa-SET_Unleash Folder Path\n",
    "</div>\n",
    "<div style=\"text-align: justify; margin-left: 0.0em; font-weight: unbold; font-size: 14px; font-family: TimesNewRoman; color:skyblue\">\n",
    "    Determinning dynamically the zone_folder_path based on the location of the \"Dispa-SET_Unleash\" folder relative to the current working directory.\n",
    "</div>\n",
    "<div style=\"text-align: justify; margin-left: 2.0em; font-weight: unbold; font-size: 13px; font-family: TimesNewRoman; color:skyblue\">\n",
    "- If the \"Dispa-SET_Unleash\" folder is copied to a different machine or location, the dispaSET_unleash_folder_path variable will automatically adjust accordingly.\n",
    "</div>"
   ]
  },
  {
   "cell_type": "code",
   "execution_count": 3,
   "id": "a87fc81b-1f43-4ce9-babf-a57e75d61c77",
   "metadata": {},
   "outputs": [
    {
     "name": "stdout",
     "output_type": "stream",
     "text": [
      "dispaSET_unleash_folder_name: Dispa-SET_Unleash\n",
      "dispaSET_unleash_folder_path: /home/ray/Dispa-SET_Unleash\n"
     ]
    }
   ],
   "source": [
    "# Get the current working directory\n",
    "current_directory = os.getcwd()\n",
    "\n",
    "# Navigate to the parent directory of \"Dispa-SET_Unleash\"\n",
    "dispaSET_unleash_parent_directory = os.path.dirname(current_directory)\n",
    "\n",
    "# Get the path to the \"Dispa-SET_Unleash\" folder\n",
    "dispaSET_unleash_folder_path = os.path.dirname(dispaSET_unleash_parent_directory)\n",
    "\n",
    "# Construct the dispaSET_unleash_folder_name variable\n",
    "dispaSET_unleash_folder_name = os.path.basename(dispaSET_unleash_folder_path)\n",
    "\n",
    "print(\"dispaSET_unleash_folder_name:\", dispaSET_unleash_folder_name)\n",
    "print(\"dispaSET_unleash_folder_path:\", dispaSET_unleash_folder_path)"
   ]
  },
  {
   "cell_type": "markdown",
   "id": "9ffa46ac-15a5-41d2-a8ce-653af4ad27e2",
   "metadata": {},
   "source": [
    "<div style=\"text-align: justify; margin-left: 3.0em; font-weight: bold; font-size: 18px; font-family: TimesNewRoman; color:skyblue\">\n",
    "    4. Usefull Variable Definition\n",
    "</div>\n",
    "<div style=\"text-align: justify; margin-left: 0.0em; font-weight: unbold; font-size: 14px; font-family: TimesNewRoman; color:skyblue\">\n",
    "Entering a value to all the variables which content are going to be used in some of the next stages of this script. \n",
    "</div>\n",
    "<div style=\"text-align: Justify; margin-left: 2.0em; font-weight: unbold; font-size: 13px; font-family: TimesNewRoman; color:skyblue\">\n",
    "Indicate the year of all data is referring to in the variable data_year.\n",
    "<br>\n",
    "The universal_standar_time variable is going to be used to download all the time series data in this horary zone. Additionally as each european country belongs a particular time sector the corresponding time series data related to its time sector are going to be downloaded as well but in a different file.\n",
    "<br>Additionally there are some default parameters that has to be defined to the correct working and calling to the ENTSO-E downloading functions.\n",
    "</div>"
   ]
  },
  {
   "cell_type": "code",
   "execution_count": 4,
   "id": "4ae41f1f-421b-4ba2-8946-e40abf4a0813",
   "metadata": {},
   "outputs": [],
   "source": [
    "# Year to which data refers to:\n",
    "data_year = 2024\n",
    "data_year_1 = data_year + 1"
   ]
  },
  {
   "cell_type": "code",
   "execution_count": 5,
   "id": "f8ae79e3-c7e9-41c6-adac-cda6e24a14e4",
   "metadata": {},
   "outputs": [
    {
     "name": "stdout",
     "output_type": "stream",
     "text": [
      "load_realtime_folder_path: /home/ray/Dispa-SET_Unleash/RawData/Load_RealTime/\n",
      "load_dayAhead_folder_path: /home/ray/Dispa-SET_Unleash/RawData/Load_DayAhead/\n",
      "load_raw_data_folder_path: /home/ray/Dispa-SET_Unleash/RawData/Load_RealTime/Raw_Data_Sources/\n"
     ]
    }
   ],
   "source": [
    "# Additional string to be appended\n",
    "additional_path = \"/RawData/Load_RealTime/\"\n",
    "additional_path_1 = \"/RawData/Load_DayAhead/\"\n",
    "additional_path_2 = \"/RawData/Load_RealTime/Raw_Data_Sources/\"\n",
    "\n",
    "# Construct the Outage_Factors_folder_path variable\n",
    "load_realtime_folder_path = dispaSET_unleash_folder_path + additional_path\n",
    "\n",
    "# Construct the Outage_Factors_folder_path variable\n",
    "load_dayAhead_folder_path = dispaSET_unleash_folder_path + additional_path_1\n",
    "\n",
    "# Construct the Outage_Factors_Raw_Data_folder_path variable\n",
    "load_raw_data_folder_path = dispaSET_unleash_folder_path + additional_path_2\n",
    "\n",
    "print(\"load_realtime_folder_path:\", load_realtime_folder_path)\n",
    "print(\"load_dayAhead_folder_path:\", load_dayAhead_folder_path)\n",
    "print(\"load_raw_data_folder_path:\", load_raw_data_folder_path)"
   ]
  },
  {
   "cell_type": "code",
   "execution_count": 6,
   "id": "acf21852-85ba-4c3f-8e9f-fea8112a2f7c",
   "metadata": {},
   "outputs": [],
   "source": [
    "# Define other parameters\n",
    "type_marketagreement_type = 'A01'\n",
    "contract_marketagreement_type = \"A01\"\n",
    "process_type = 'A51'"
   ]
  },
  {
   "cell_type": "markdown",
   "id": "788b3b8d-c763-40e2-af71-6b020ac746ae",
   "metadata": {},
   "source": [
    "<div style=\"text-align: justify; margin-left: 3.0em; font-weight: bold; font-size: 18px; font-family: TimesNewRoman; color:skyblue\">\n",
    "    5. Country List Variable Definition\n",
    "</div>\n",
    "<div style=\"text-align: justify; margin-left: 0.0em; font-weight: unbold; font-size: 14px; font-family: TimesNewRoman; color:skyblue\">\n",
    "Defining the list of countries according to the available data. \n",
    "</div>\n",
    "<div style=\"text-align: justify; margin-left: 2.0em; font-weight: unbold; font-size: 13px; font-family: TimesNewRoman; color:skyblue\">\n",
    "Just those countries that interchange flows with other countries different of the ones modelled in Dispa-SET are defined in the list.\n",
    "</div>"
   ]
  },
  {
   "cell_type": "code",
   "execution_count": 7,
   "id": "f1a3d318-5fdc-458e-b94e-6d562a8bfd93",
   "metadata": {},
   "outputs": [],
   "source": [
    "# Define a list of country codes\n",
    "load_data_country_list = [\"AT\", \"BE\", \"BG\", \"CH\", \"CY\", \"CZ\", \"DE\", \"DK\", \"EE\", \"GR\", \"ES\", \"FI\", \"FR\", \"HR\", \"HU\", \n",
    "                          \"IE\", \"IT\", \"LT\", \"LU\", \"LV\", \"MT\", \"NL\", \"NO\", \"PL\", \"PT\", \"RO\", \"SE\", \"SI\", \"SK\", \"UK\"]"
   ]
  },
  {
   "cell_type": "code",
   "execution_count": 8,
   "id": "adb47c2b-2ffb-4ce1-9dec-b59c3deda599",
   "metadata": {},
   "outputs": [
    {
     "name": "stdout",
     "output_type": "stream",
     "text": [
      "DataFrame saved to '/home/ray/Dispa-SET_Unleash/RawData/Load_RealTime/Raw_Data_Sources/country_list.csv'\n"
     ]
    }
   ],
   "source": [
    "# Define the directory and file path\n",
    "file_name = 'country_list.csv'\n",
    "file_path = os.path.join(load_raw_data_folder_path, file_name)\n",
    "\n",
    "# Ensure the directory exists\n",
    "os.makedirs(load_raw_data_folder_path, exist_ok=True)\n",
    "\n",
    "# Create a DataFrame\n",
    "df = pd.DataFrame(load_data_country_list, columns=['Country_From'])\n",
    "\n",
    "# Save the DataFrame to a CSV file\n",
    "df.to_csv(file_path, index=False)\n",
    "\n",
    "print(f\"DataFrame saved to '{file_path}'\")\n",
    "load_data_country_list_file = file_path"
   ]
  },
  {
   "cell_type": "markdown",
   "id": "200b661d-19a1-4956-8412-0264e7afd86e",
   "metadata": {},
   "source": [
    "<div style=\"text-align: right; margin-left: 3.0em; font-weight: unbold; font-size: 14px; font-family: TimesNewRoman; color:skyblue\">\n",
    "    Tracking Variables. \n",
    "    <br>\n",
    "    <div style=\"text-align: right; margin-left: 1.50em; font-weight: unbold; font-size: 13px; font-family: TimesNewRoman; color:skyblue\">\n",
    "    This cells are just to confirm all the file names, file paths and other information related to the data being processed.\n",
    "    <br>\n",
    "  Also are used to ensure the inputs for next cells in order to avoid to re-enter the same information each time.\n",
    "</div>"
   ]
  },
  {
   "cell_type": "code",
   "execution_count": 9,
   "id": "077992e8-97f9-4a21-b09c-467e2b890697",
   "metadata": {},
   "outputs": [
    {
     "name": "stdout",
     "output_type": "stream",
     "text": [
      "dispaSET_unleash_folder_name:                              Dispa-SET_Unleash\n",
      "dispaSET_unleash_folder_path:                              /home/ray/Dispa-SET_Unleash\n",
      "data_year:                                                 2024\n",
      "load_realtime_folder_path:                                 /home/ray/Dispa-SET_Unleash/RawData/Load_RealTime/\n",
      "load_dayAhead_folder_path:                                 /home/ray/Dispa-SET_Unleash/RawData/Load_DayAhead/\n",
      "load_raw_data_folder_path:                                 /home/ray/Dispa-SET_Unleash/RawData/Load_RealTime/\n",
      "load_data_country_list_file:                               /home/ray/Dispa-SET_Unleash/RawData/Load_RealTime/Raw_Data_Sources/country_list.csv\n"
     ]
    }
   ],
   "source": [
    "print (f\"dispaSET_unleash_folder_name:                              {dispaSET_unleash_folder_name}\")\n",
    "print (f\"dispaSET_unleash_folder_path:                              {dispaSET_unleash_folder_path}\")\n",
    "print (f\"data_year:                                                 {data_year}\")\n",
    "print (f\"load_realtime_folder_path:                                 {load_realtime_folder_path}\")   \n",
    "print (f\"load_dayAhead_folder_path:                                 {load_dayAhead_folder_path}\")\n",
    "print (f\"load_raw_data_folder_path:                                 {load_realtime_folder_path}\")\n",
    "print (f\"load_data_country_list_file:                               {load_data_country_list_file}\")"
   ]
  },
  {
   "cell_type": "markdown",
   "id": "de218bb7-b523-495e-95cd-52f98e977f74",
   "metadata": {},
   "source": [
    "<div style=\"text-align: justify; margin-left: 0.0em; font-weight: unbold; font-size: 16px; font-family: TimesNewRoman; color:skyblue\">\n",
    "Defining the sub-folders where all the load raw data is saved. \n",
    "</div>"
   ]
  },
  {
   "cell_type": "code",
   "execution_count": 10,
   "id": "933e84b0-40ff-4864-b771-6be9bb857d3c",
   "metadata": {},
   "outputs": [
    {
     "name": "stdout",
     "output_type": "stream",
     "text": [
      "Updated CSV file saved to '/home/ray/Dispa-SET_Unleash/RawData/Load_RealTime/Raw_Data_Sources/country_list.csv' with new subfolders created.\n"
     ]
    }
   ],
   "source": [
    "# Convert data_year to string if it's not already\n",
    "data_year = str(data_year)\n",
    "\n",
    "# Read the CSV file into a DataFrame\n",
    "df = pd.read_csv(load_data_country_list_file)\n",
    "\n",
    "# Ensure the column 'Country_From' exists\n",
    "if 'Country_From' not in df.columns:\n",
    "    raise ValueError(\"Column 'Country_From' does not exist in the CSV file\")\n",
    "\n",
    "# Define the base directory where subfolders will be created\n",
    "base_directory = os.path.join(load_raw_data_folder_path, data_year)\n",
    "\n",
    "# Create a list to hold the paths of the created subfolders\n",
    "country_folder_paths = []\n",
    "\n",
    "# Create subfolders and save their paths\n",
    "for country in df['Country_From']:\n",
    "    # Create the subfolder path\n",
    "    subfolder_path = os.path.join(base_directory, country)\n",
    "    \n",
    "    # Create the subfolder if it doesn't exist\n",
    "    os.makedirs(subfolder_path, exist_ok=True)\n",
    "    \n",
    "    # Append the subfolder path to the list\n",
    "    country_folder_paths.append(subfolder_path)\n",
    "\n",
    "# Add the new column 'Country_Folder' to the DataFrame\n",
    "df['Country_Folder'] = country_folder_paths\n",
    "\n",
    "# Save the updated DataFrame back to the CSV file\n",
    "df.to_csv(load_data_country_list_file, index=False)\n",
    "\n",
    "print(f\"Updated CSV file saved to '{load_data_country_list_file}' with new subfolders created.\")"
   ]
  },
  {
   "cell_type": "markdown",
   "id": "b2beceb2-bf58-402b-9ef9-1bfc9465773e",
   "metadata": {},
   "source": [
    "<div style=\"text-align: justify; margin-left: 3.0em; font-weight: bold; font-size: 18px; font-family: TimesNewRoman; color:skyblue\">\n",
    "    6. Raw Data Download\n",
    "</div>\n",
    "<div style=\"text-align: justify; margin-left: 0.0em; font-weight: unbold; font-size: 14px; font-family: TimesNewRoman; color:skyblue\">\n",
    "Donwloading the real time and day ahead load raw data. \n",
    "</div>\n",
    "<div style=\"text-align: justify; margin-left: 2.0em; font-weight: unbold; font-size: 13px; font-family: TimesNewRoman; color:skyblue\">\n",
    "The load data is downloaded in separate files for each country.\n",
    "<br>\n",
    "Since the Acronym of Grece in the downloaded data is 'GR' and the Dispa-SET format for the country is 'EL'. All the needed changes in the used variables are done.\n",
    "<br>"
   ]
  },
  {
   "cell_type": "code",
   "execution_count": 11,
   "id": "004bcba0-614d-42d5-8d41-e55dbc003461",
   "metadata": {},
   "outputs": [
    {
     "name": "stdout",
     "output_type": "stream",
     "text": [
      "Data for AT saved to '/home/ray/Dispa-SET_Unleash/RawData/Load_RealTime/Raw_Data_Sources/2024/AT/2024_1.csv'\n",
      "Data for BE saved to '/home/ray/Dispa-SET_Unleash/RawData/Load_RealTime/Raw_Data_Sources/2024/BE/2024_1.csv'\n",
      "Data for BG saved to '/home/ray/Dispa-SET_Unleash/RawData/Load_RealTime/Raw_Data_Sources/2024/BG/2024_1.csv'\n",
      "Data for CH saved to '/home/ray/Dispa-SET_Unleash/RawData/Load_RealTime/Raw_Data_Sources/2024/CH/2024_1.csv'\n",
      "Data for CY saved to '/home/ray/Dispa-SET_Unleash/RawData/Load_RealTime/Raw_Data_Sources/2024/CY/2024_1.csv'\n",
      "Data for CZ saved to '/home/ray/Dispa-SET_Unleash/RawData/Load_RealTime/Raw_Data_Sources/2024/CZ/2024_1.csv'\n",
      "Data for DE saved to '/home/ray/Dispa-SET_Unleash/RawData/Load_RealTime/Raw_Data_Sources/2024/DE/2024_1.csv'\n",
      "Data for DK saved to '/home/ray/Dispa-SET_Unleash/RawData/Load_RealTime/Raw_Data_Sources/2024/DK/2024_1.csv'\n",
      "Data for EE saved to '/home/ray/Dispa-SET_Unleash/RawData/Load_RealTime/Raw_Data_Sources/2024/EE/2024_1.csv'\n",
      "Data for GR saved to '/home/ray/Dispa-SET_Unleash/RawData/Load_RealTime/Raw_Data_Sources/2024/GR/2024_1.csv'\n",
      "Data for ES saved to '/home/ray/Dispa-SET_Unleash/RawData/Load_RealTime/Raw_Data_Sources/2024/ES/2024_1.csv'\n",
      "Data for FI saved to '/home/ray/Dispa-SET_Unleash/RawData/Load_RealTime/Raw_Data_Sources/2024/FI/2024_1.csv'\n",
      "Data for FR saved to '/home/ray/Dispa-SET_Unleash/RawData/Load_RealTime/Raw_Data_Sources/2024/FR/2024_1.csv'\n",
      "Data for HR saved to '/home/ray/Dispa-SET_Unleash/RawData/Load_RealTime/Raw_Data_Sources/2024/HR/2024_1.csv'\n",
      "Data for HU saved to '/home/ray/Dispa-SET_Unleash/RawData/Load_RealTime/Raw_Data_Sources/2024/HU/2024_1.csv'\n",
      "Data for IE saved to '/home/ray/Dispa-SET_Unleash/RawData/Load_RealTime/Raw_Data_Sources/2024/IE/2024_1.csv'\n",
      "Data for IT saved to '/home/ray/Dispa-SET_Unleash/RawData/Load_RealTime/Raw_Data_Sources/2024/IT/2024_1.csv'\n",
      "Data for LT saved to '/home/ray/Dispa-SET_Unleash/RawData/Load_RealTime/Raw_Data_Sources/2024/LT/2024_1.csv'\n",
      "Data for LU saved to '/home/ray/Dispa-SET_Unleash/RawData/Load_RealTime/Raw_Data_Sources/2024/LU/2024_1.csv'\n",
      "Data for LV saved to '/home/ray/Dispa-SET_Unleash/RawData/Load_RealTime/Raw_Data_Sources/2024/LV/2024_1.csv'\n",
      "No matching data or invalid parameters for MT. Error: \n",
      "Data for NL saved to '/home/ray/Dispa-SET_Unleash/RawData/Load_RealTime/Raw_Data_Sources/2024/NL/2024_1.csv'\n",
      "Data for NO saved to '/home/ray/Dispa-SET_Unleash/RawData/Load_RealTime/Raw_Data_Sources/2024/NO/2024_1.csv'\n",
      "Data for PL saved to '/home/ray/Dispa-SET_Unleash/RawData/Load_RealTime/Raw_Data_Sources/2024/PL/2024_1.csv'\n",
      "Data for PT saved to '/home/ray/Dispa-SET_Unleash/RawData/Load_RealTime/Raw_Data_Sources/2024/PT/2024_1.csv'\n",
      "Data for RO saved to '/home/ray/Dispa-SET_Unleash/RawData/Load_RealTime/Raw_Data_Sources/2024/RO/2024_1.csv'\n",
      "Data for SE saved to '/home/ray/Dispa-SET_Unleash/RawData/Load_RealTime/Raw_Data_Sources/2024/SE/2024_1.csv'\n",
      "Data for SI saved to '/home/ray/Dispa-SET_Unleash/RawData/Load_RealTime/Raw_Data_Sources/2024/SI/2024_1.csv'\n",
      "Data for SK saved to '/home/ray/Dispa-SET_Unleash/RawData/Load_RealTime/Raw_Data_Sources/2024/SK/2024_1.csv'\n",
      "Data for UK saved to '/home/ray/Dispa-SET_Unleash/RawData/Load_RealTime/Raw_Data_Sources/2024/UK/2024_1.csv'\n",
      "Using /home/ray/Dispa-SET_Unleash/RawData/Load_RealTime/Raw_Data_Sources/2024/AT/2024_1.csv for handling errors.\n",
      "Error file created for MT at '/home/ray/Dispa-SET_Unleash/RawData/Load_RealTime/Raw_Data_Sources/2024/MT/2024_1.csv'\n",
      "All data processing completed.\n"
     ]
    }
   ],
   "source": [
    "# Define the start and end timestamps\n",
    "start = pd.Timestamp(f'{data_year}0101', tz='Europe/Brussels')\n",
    "end = pd.Timestamp(f'{data_year_1}0101', tz='Europe/Brussels')\n",
    "\n",
    "# Read the CSV file into a DataFrame\n",
    "df = pd.read_csv(load_data_country_list_file)\n",
    "\n",
    "# Ensure the necessary columns exist\n",
    "required_columns = ['Country_From', 'Country_Folder']\n",
    "for col in required_columns:\n",
    "    if col not in df.columns:\n",
    "        raise ValueError(f\"Column '{col}' does not exist in the CSV file\")\n",
    "\n",
    "# Add a new column for the raw data file paths\n",
    "df['Raw_Data_File_Path'] = \"\"\n",
    "\n",
    "# Lists to keep track of countries with connection errors and other errors\n",
    "retry_list = []\n",
    "error_list = []\n",
    "\n",
    "# Function to check if data is valid\n",
    "def is_valid_data(data):\n",
    "    return data is not None and not data.empty\n",
    "\n",
    "# Function to process each country\n",
    "def process_country(country_code, country_folder):\n",
    "    try:\n",
    "        # Query load and forecast data\n",
    "        load_forecast_data = client.query_load_and_forecast(country_code, start=start, end=end)\n",
    "        \n",
    "        # Check if the data is valid\n",
    "        if is_valid_data(load_forecast_data):\n",
    "            # Convert the index to a column\n",
    "            load_forecast_data = load_forecast_data.reset_index()\n",
    "            \n",
    "            # Define the output file path\n",
    "            output_file = os.path.join(country_folder, f'{data_year}_1.csv')\n",
    "            \n",
    "            # Save the DataFrame to a CSV file, including the index as a column\n",
    "            load_forecast_data.to_csv(output_file, index=False)\n",
    "\n",
    "            print(f\"Data for {country_code} saved to '{output_file}'\")\n",
    "            return output_file  # Return the path of the file\n",
    "        else:\n",
    "            print(f\"No valid data for {country_code}. Skipping.\")\n",
    "            return None\n",
    "    except ConnectionError:\n",
    "        print(f\"Connection error for {country_code}. Adding to retry list.\")\n",
    "        retry_list.append((country_code, country_folder))\n",
    "        return None\n",
    "    except (NoMatchingDataError, InvalidBusinessParameterError) as e:\n",
    "        print(f\"No matching data or invalid parameters for {country_code}. Error: {str(e)}\")\n",
    "        error_list.append((country_code, country_folder))\n",
    "        return None\n",
    "    except Exception as e:\n",
    "        print(f\"An unexpected error occurred for {country_code}. Error: {str(e)}\")\n",
    "        error_list.append((country_code, country_folder))\n",
    "        return None\n",
    "\n",
    "# Process each country\n",
    "first_successful_file = None\n",
    "for index, row in df.iterrows():\n",
    "    country_code = row['Country_From']\n",
    "    country_folder = row['Country_Folder']\n",
    "    \n",
    "    # Create the directory if it does not exist\n",
    "    os.makedirs(country_folder, exist_ok=True)\n",
    "    \n",
    "    # Process the country and get the path of the output file\n",
    "    output_file = process_country(country_code, country_folder)\n",
    "    \n",
    "    if output_file:\n",
    "        # Update the DataFrame with the path to the downloaded file\n",
    "        df.at[index, 'Raw_Data_File_Path'] = output_file\n",
    "        \n",
    "        # Track the first successful file for error handling\n",
    "        if not first_successful_file:\n",
    "            first_successful_file = output_file\n",
    "\n",
    "# Retry process for countries with connection errors\n",
    "if retry_list:\n",
    "    print(\"Retrying for countries with connection errors...\")\n",
    "    for country_code, country_folder in retry_list:\n",
    "        output_file = process_country(country_code, country_folder)\n",
    "        if output_file:\n",
    "            # Update the DataFrame with the path to the downloaded file\n",
    "            df.loc[df['Country_From'] == country_code, 'Raw_Data_File_Path'] = output_file\n",
    "\n",
    "# Handle countries with other errors by copying data from the first successful file\n",
    "if first_successful_file:\n",
    "    print(f\"Using {first_successful_file} for handling errors.\")\n",
    "    successful_data = pd.read_csv(first_successful_file)\n",
    "    first_column = successful_data.iloc[:, 0]  # First column data\n",
    "    second_and_third_headers = successful_data.columns[1:3].tolist()  # Second and third column headers\n",
    "    \n",
    "    for country_code, country_folder in error_list:\n",
    "        error_output_file = os.path.join(country_folder, f'{data_year}_1.csv')\n",
    "        # Create a DataFrame with the first column\n",
    "        error_data = pd.DataFrame({successful_data.columns[0]: first_column})\n",
    "        # Add dummy columns for the second and third headers\n",
    "        for header in second_and_third_headers:\n",
    "            error_data[header] = pd.Series(dtype='float64')\n",
    "        # Save the DataFrame to a CSV file\n",
    "        error_data.to_csv(error_output_file, index=False)\n",
    "        print(f\"Error file created for {country_code} at '{error_output_file}'\")\n",
    "        # Update the DataFrame with the path to the error file\n",
    "        df.loc[df['Country_From'] == country_code, 'Raw_Data_File_Path'] = error_output_file\n",
    "\n",
    "# Save the updated DataFrame with the file paths\n",
    "df.to_csv(load_data_country_list_file, index=False)\n",
    "\n",
    "print(\"All data processing completed.\")"
   ]
  },
  {
   "cell_type": "markdown",
   "id": "15c4ba9e-ebbd-4fc9-b1bc-c7f228c3347a",
   "metadata": {},
   "source": [
    "<div style=\"text-align: justify; margin-left: 3.0em; font-weight: bold; font-size: 18px; font-family: TimesNewRoman; color:skyblue\">\n",
    "    6.1 Downloading Errors\n",
    "</div>\n",
    "<div style=\"text-align: justify; margin-left: 0.0em; font-weight: unbold; font-size: 14px; font-family: TimesNewRoman; color:skyblue\">\n",
    "In the downloading process, there are some countries which related data cannot be obtained using the API connection, i.e.\n",
    "</div>\n",
    "<div style=\"text-align: justify; margin-left: 2.0em; font-weight: unbold; font-size: 13px; font-family: TimesNewRoman; color:skyblue\">\n",
    "Cyprus (CY).\n",
    "</div>\n",
    "<div style=\"text-align: justify; margin-left: 0.0em; font-weight: unbold; font-size: 14px; font-family: TimesNewRoman; color:skyblue\">\n",
    "The data of these countries are got manually from the following link.\n",
    "</div>\n",
    "<div style=\"text-align: justify; margin-left: 2.0em; font-weight: unbold; font-size: 13px; font-family: TimesNewRoman; color:skyblue\">\n",
    "<a href=\"https://transparency.entsoe.eu/load-domain/r2/totalLoadR2/show\" style=\"color:skyblue;\">https://transparency.entsoe.eu/load-domain/r2/totalLoadR2/show</a>\r",
    "</div>\n",
    "<br>\n",
    "<div style=\"text-align: justify; margin-left: 3.0em; font-weight: bold; font-size: 18px; font-family: TimesNewRoman; color:skyblue\">\n",
    "    7. Cleaning Folder\n",
    "</div>\n",
    "<div style=\"text-align: justify; margin-left: 0.0em; font-weight: unbold; font-size: 14px; font-family: TimesNewRoman; color:skyblue\">\n",
    "All the raw data files are storage in the following local directory inside a sub-folder named as the value defined by 'data_year' variable. \n",
    "</div>\n",
    "<div style=\"text-align: justify; margin-left: 2.0em; font-weight: unbold; font-size: 13px; font-family: TimesNewRoman; color:skyblue\">\n",
    "/local/directory/to/Dispa-SET_Unleash/RawData/Load_RealTime/Raw_Data_Sources\n",
    "</div>\n"
   ]
  },
  {
   "cell_type": "code",
   "execution_count": 12,
   "id": "ad5ad865-0bba-491b-9799-d1391ad3a4b5",
   "metadata": {},
   "outputs": [
    {
     "name": "stdout",
     "output_type": "stream",
     "text": [
      "File erased: /home/ray/Dispa-SET_Unleash/RawData/Load_RealTime/Raw_Data_Sources/country_list.csv\n"
     ]
    }
   ],
   "source": [
    "def erase_csv_file(file_path):\n",
    "  \"\"\"Erases a CSV file.\n",
    "\n",
    "  Args:\n",
    "    file_path: The path to the CSV file.\n",
    "  \"\"\"\n",
    "\n",
    "  if os.path.exists(file_path):\n",
    "    os.remove(file_path)\n",
    "    print(f\"File erased: {file_path}\")\n",
    "  else:\n",
    "    print(f\"File does not exist: {file_path}\")\n",
    "\n",
    "# Example usage:\n",
    "file_path = load_data_country_list_file\n",
    "erase_csv_file(file_path)"
   ]
  }
 ],
 "metadata": {
  "kernelspec": {
   "display_name": "Python 3 (ipykernel)",
   "language": "python",
   "name": "python3"
  },
  "language_info": {
   "codemirror_mode": {
    "name": "ipython",
    "version": 3
   },
   "file_extension": ".py",
   "mimetype": "text/x-python",
   "name": "python",
   "nbconvert_exporter": "python",
   "pygments_lexer": "ipython3",
   "version": "3.12.7"
  }
 },
 "nbformat": 4,
 "nbformat_minor": 5
}
