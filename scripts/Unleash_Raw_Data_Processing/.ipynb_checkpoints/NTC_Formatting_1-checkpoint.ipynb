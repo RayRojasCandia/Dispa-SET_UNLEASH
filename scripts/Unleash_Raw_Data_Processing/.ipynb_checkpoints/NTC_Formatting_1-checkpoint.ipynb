{
 "cells": [
  {
   "cell_type": "markdown",
   "id": "9cdc7bd8-8fac-427b-988f-3b3326682475",
   "metadata": {},
   "source": [
    "<div style=\"text-align: center; margin-left: 0em; font-weight: bold; font-size: 20px; font-family: TimesNewRoman; color: skyblue\">\n",
    "    TIME SERIES DATA PROCESSING\n",
    "    <br>\n",
    "    NET TRANSFER CAPACITY\n",
    "<div style=\"text-align: center; margin-left: 0em; font-weight: bold; font-size: 18px; font-family: TimesNewRoman; color: skyblue\">\n",
    "    Main Formatting Notebook\n",
    "</div>\n",
    "</div>\n",
    "<br>\n",
    "<div style=\"text-align: justify; margin-left: 0em; font-weight: unbold; font-size: 14px; font-family: TimesNewRoman; color: skyblue\">\n",
    "Each part of the following script was used to process the raw data for the Net Transfer Capacity Time Series Raw Data for all the european countries of the Dispa-SET_Unleash project.\n",
    "<br>\n",
    "Read explanation text cells to follow and understand all the process until final results were got stept by step.\n",
    "</div>\n",
    "<br>\n",
    "<div style=\"text-align: justify; margin-left: 3.0em; font-weight: bold; font-size: 18px; font-family: TimesNewRoman; color:skyblue\">\n",
    "    1. Notebook Set Up\n",
    "</div>\n",
    "<div style=\"text-align: justify; margin-left: 0.0em; font-weight: unbold; font-size: 14px; font-family: TimesNewRoman; color:skyblue\">\n",
    "    Importing needed libraries\n",
    "</div>"
   ]
  },
  {
   "cell_type": "code",
   "execution_count": 1,
   "id": "a15d1e5b-c9ca-4b73-9460-774737b12275",
   "metadata": {},
   "outputs": [],
   "source": [
    "import pandas as pd\n",
    "from entsoe import EntsoePandasClient\n",
    "from entsoe.exceptions import NoMatchingDataError  # Ensure this line is included\n",
    "import os\n",
    "import csv\n",
    "from datetime import datetime\n",
    "import pytz\n",
    "from pytz import timezone, utc\n",
    "import shutil"
   ]
  },
  {
   "cell_type": "markdown",
   "id": "a2527fc9-cfed-43fe-aa51-961836c9ad31",
   "metadata": {},
   "source": [
    "<div style=\"text-align: justify; margin-left: 3.0em; font-weight: bold; font-size: 18px; font-family: TimesNewRoman; color:skyblue\">\n",
    "    2. Dispa-SET_Unleash Folder Path\n",
    "</div>\n",
    "<div style=\"text-align: justify; margin-left: 0.0em; font-weight: unbold; font-size: 14px; font-family: TimesNewRoman; color:skyblue\">\n",
    "    Determinning dynamically the zone_folder_path based on the location of the \"Dispa-SET_Unleash\" folder relative to the current working directory.\n",
    "</div>\n",
    "<div style=\"text-align: justify; margin-left: 2.0em; font-weight: unbold; font-size: 13px; font-family: TimesNewRoman; color:skyblue\">\n",
    "If the \"Dispa-SET_Unleash\" folder is copied to a different machine or location, the dispaSET_unleash_folder_path variable will automatically adjust accordingly.\n",
    "</div>"
   ]
  },
  {
   "cell_type": "code",
   "execution_count": 2,
   "id": "7e5e9326-9444-4ddd-8955-bbceecba40ef",
   "metadata": {},
   "outputs": [
    {
     "name": "stdout",
     "output_type": "stream",
     "text": [
      "dispaSET_unleash_folder_name: Dispa-SET_Unleash\n",
      "dispaSET_unleash_folder_path: /home/ray/Dispa-SET_Unleash\n"
     ]
    }
   ],
   "source": [
    "# Get the current working directory\n",
    "current_directory = os.getcwd()\n",
    "\n",
    "# Navigate to the parent directory of \"Dispa-SET_Unleash\"\n",
    "dispaSET_unleash_parent_directory = os.path.dirname(current_directory)\n",
    "\n",
    "# Get the path to the \"Dispa-SET_Unleash\" folder\n",
    "dispaSET_unleash_folder_path = os.path.dirname(dispaSET_unleash_parent_directory)\n",
    "\n",
    "# Construct the dispaSET_unleash_folder_name variable\n",
    "dispaSET_unleash_folder_name = os.path.basename(dispaSET_unleash_folder_path)\n",
    "\n",
    "print(\"dispaSET_unleash_folder_name:\", dispaSET_unleash_folder_name)\n",
    "print(\"dispaSET_unleash_folder_path:\", dispaSET_unleash_folder_path)"
   ]
  },
  {
   "cell_type": "markdown",
   "id": "3a0a2c1d-bcf4-490d-8b23-e6f9e489f8cb",
   "metadata": {},
   "source": [
    "<div style=\"text-align: justify; margin-left: 3.0em; font-weight: bold; font-size: 18px; font-family: TimesNewRoman; color:skyblue\">\n",
    "    3. Usefull Variable Definition\n",
    "</div>\n",
    "<div style=\"text-align: justify; margin-left: 0.0em; font-weight: unbold; font-size: 14px; font-family: TimesNewRoman; color:skyblue\">\n",
    "Entering a value to all the variables which content are going to be used in some of the next stages of this script. \n",
    "</div>\n",
    "<div style=\"text-align: justify; margin-left: 2.0em; font-weight: unbold; font-size: 13px; font-family: TimesNewRoman; color:skyblue\">\n",
    "Indicate the year of all data is referring to in the variable data_year.\n",
    "</div>"
   ]
  },
  {
   "cell_type": "code",
   "execution_count": 3,
   "id": "e4dedb85-3475-43e0-bf1e-722dc659382a",
   "metadata": {},
   "outputs": [],
   "source": [
    "# Year to which data refers to:\n",
    "data_year = 2018"
   ]
  },
  {
   "cell_type": "code",
   "execution_count": 4,
   "id": "9d2c5023-6f7b-4683-8011-6d6d8ae1f874",
   "metadata": {},
   "outputs": [
    {
     "name": "stdout",
     "output_type": "stream",
     "text": [
      "ntc_folder_path: /home/ray/Dispa-SET_Unleash/RawData/NTC/\n",
      "ntc_raw_data_folder_path: /home/ray/Dispa-SET_Unleash/RawData/NTC/Raw_Data_Sources/\n"
     ]
    }
   ],
   "source": [
    "# Additional string to be appended\n",
    "additional_path = \"/RawData/NTC/\"\n",
    "additional_path_1 = \"/RawData/NTC/Raw_Data_Sources/\"\n",
    "\n",
    "# Construct the Outage_Factors_folder_path variable\n",
    "ntc_folder_path = dispaSET_unleash_folder_path + additional_path\n",
    "\n",
    "# Construct the Outage_Factors_Raw_Data_folder_path variable\n",
    "ntc_raw_data_folder_path = dispaSET_unleash_folder_path + additional_path_1\n",
    "\n",
    "print(\"ntc_folder_path:\", ntc_folder_path)\n",
    "print(\"ntc_raw_data_folder_path:\", ntc_raw_data_folder_path)"
   ]
  },
  {
   "cell_type": "markdown",
   "id": "ddbaac61-d76b-4084-9b11-78f037b92026",
   "metadata": {},
   "source": [
    "<div style=\"text-align: justify; margin-left: 3.0em; font-weight: bold; font-size: 17px; font-family: TimesNewRoman; color:skyblue\">\n",
    "    3.1. Back Up Directory\n",
    "</div>\n",
    "<div style=\"text-align: justify; margin-left: 0.0em; font-weight: unbold; font-size: 14px; font-family: TimesNewRoman; color:skyblue\">\n",
    "    Saving the original files into a Back up folder.\n",
    "</div>\n",
    "<div style=\"text-align: justify; margin-left: 2.0em; font-weight: unbold; font-size: 13px; font-family: TimesNewRoman; color:skyblue\">\n",
    "Since in the next steps of the processing data new subfolders and files are going to be created, the original ones are saved in a back up foldet to return them as its default content ones the process will be finished.\n",
    "</div>"
   ]
  },
  {
   "cell_type": "code",
   "execution_count": 5,
   "id": "8ead4f78-bd66-49a0-91ac-08ce6afb1567",
   "metadata": {},
   "outputs": [
    {
     "name": "stdout",
     "output_type": "stream",
     "text": [
      "backup_folder_path: /home/ray/Dispa-SET_Unleash/RawData/NTC_backup/\n",
      "Backup created at /home/ray/Dispa-SET_Unleash/RawData/NTC_backup/\n"
     ]
    }
   ],
   "source": [
    "additional_path_5 = '/RawData/NTC_backup/'\n",
    "\n",
    "# Construct the backup_folder_path variable\n",
    "backup_folder_path = dispaSET_unleash_folder_path + additional_path_5\n",
    "\n",
    "print(\"backup_folder_path:\", backup_folder_path)\n",
    "\n",
    "# Create a backup of the directory\n",
    "if os.path.exists(backup_folder_path):\n",
    "    shutil.rmtree(backup_folder_path)  # Remove any existing backup if necessary\n",
    "shutil.copytree(ntc_folder_path, backup_folder_path)\n",
    "\n",
    "print(f\"Backup created at {backup_folder_path}\")"
   ]
  },
  {
   "cell_type": "markdown",
   "id": "7bb70539-2d43-4925-b159-6113cf2fc785",
   "metadata": {},
   "source": [
    "<div style=\"text-align: justify; margin-left: 3.0em; font-weight: bold; font-size: 18px; font-family: TimesNewRoman;color:skyblue\">\n",
    "    4. Country List Variable Definition\n",
    "</div>\n",
    "<div style=\"text-align: justify; margin-left: 0.0em; font-weight: unbold; font-size: 14px; font-family: TimesNewRoman;color:skyblue\">\n",
    "Defining the list of countries according to the available data. \n",
    "</div>\n",
    "<div style=\"text-align: jusitfy; margin-left: 2.0em; font-weight: unbold; font-size: 13px; font-family: TimesNewRoman;color:skyblue\">\n",
    "Just those countries that interchange flows with other countries different of the ones modelled in Dispa-SET are defined in the list.\n",
    "</div>"
   ]
  },
  {
   "cell_type": "code",
   "execution_count": 6,
   "id": "286f700e-7ab3-4998-977c-19c885ff0b4f",
   "metadata": {},
   "outputs": [],
   "source": [
    "# Define a list of country codes\n",
    "ntc_per_unit_country_list = [\"AT\", \"BE\", \"BG\", \"CH\", \"CY\", \"CZ\", \"DE\", \"DK\", \"EE\", \"GR\", \"ES\", \"FI\", \"FR\", \"HR\", \"HU\", \n",
    "                             \"IE\", \"IT\", \"LT\", \"LU\", \"LV\", \"MT\", \"NL\", \"NO\", \"PL\", \"PT\", \"RO\", \"SE\", \"SI\", \"SK\", \"UK\"]"
   ]
  },
  {
   "cell_type": "code",
   "execution_count": 7,
   "id": "19d5e7cd-ecbe-4ddf-b4da-2006306d801c",
   "metadata": {},
   "outputs": [
    {
     "name": "stdout",
     "output_type": "stream",
     "text": [
      "DataFrame saved to '/home/ray/Dispa-SET_Unleash/RawData/NTC/Raw_Data_Sources/country_list.csv'\n"
     ]
    }
   ],
   "source": [
    "# Define the directory and file path\n",
    "file_name = 'country_list.csv'\n",
    "file_path = os.path.join(ntc_raw_data_folder_path, file_name)\n",
    "\n",
    "# Ensure the directory exists\n",
    "os.makedirs(ntc_raw_data_folder_path, exist_ok=True)\n",
    "\n",
    "# Create a DataFrame\n",
    "df = pd.DataFrame(ntc_per_unit_country_list, columns=['Country_From'])\n",
    "\n",
    "# Save the DataFrame to a CSV file\n",
    "df.to_csv(file_path, index=False)\n",
    "\n",
    "print(f\"DataFrame saved to '{file_path}'\")\n",
    "ntc_country_list_file = file_path"
   ]
  },
  {
   "cell_type": "markdown",
   "id": "1463abe5-bb93-4a02-ba07-6e75a80fde0a",
   "metadata": {},
   "source": [
    "<div style=\"text-align: right; margin-left: 3.0em; font-weight: unbold; font-size: 14px; font-family: TimesNewRoman; color:skyblue\">\n",
    "    Tracking Variables. \n",
    "    <br>\n",
    "    <div style=\"text-align: right; margin-left: 1.50em; font-weight: unbold; font-size: 13px; font-family: TimesNewRoman;\">\n",
    "    This cells are just to confirm all the file names, file paths and other information related to the data being processed.\n",
    "    <br>\n",
    "  Also are used to ensure the inputs for next cells in order to avoid to re-enter the same information each time.\n",
    "</div>"
   ]
  },
  {
   "cell_type": "code",
   "execution_count": 8,
   "id": "6153aa0f-231c-41a1-994a-2f24b93f8846",
   "metadata": {},
   "outputs": [
    {
     "name": "stdout",
     "output_type": "stream",
     "text": [
      "dispaSET_unleash_folder_name:                              Dispa-SET_Unleash\n",
      "dispaSET_unleash_folder_path:                              /home/ray/Dispa-SET_Unleash\n",
      "data_year:                                                 2018\n",
      "ntc_folder_path:                                           /home/ray/Dispa-SET_Unleash/RawData/NTC/\n",
      "ntc_raw_data_folder_path:                                  /home/ray/Dispa-SET_Unleash/RawData/NTC/Raw_Data_Sources/\n",
      "ntc_country_list_file:                                     /home/ray/Dispa-SET_Unleash/RawData/NTC/Raw_Data_Sources/country_list.csv\n"
     ]
    }
   ],
   "source": [
    "print (f\"dispaSET_unleash_folder_name:                              {dispaSET_unleash_folder_name}\")\n",
    "print (f\"dispaSET_unleash_folder_path:                              {dispaSET_unleash_folder_path}\")\n",
    "print (f\"data_year:                                                 {data_year}\")\n",
    "print (f\"ntc_folder_path:                                           {ntc_folder_path}\")   \n",
    "print (f\"ntc_raw_data_folder_path:                                  {ntc_raw_data_folder_path}\")\n",
    "print (f\"ntc_country_list_file:                                     {ntc_country_list_file}\")"
   ]
  },
  {
   "cell_type": "markdown",
   "id": "41f5fcc8-b862-4a4b-a506-4cd023b9dc62",
   "metadata": {},
   "source": [
    "<div style=\"text-align: justify; margin-left: 0.0em; font-weight: unbold; font-size: 16px; font-family: TimesNewRoman;color:skyblue\">\n",
    "Defining the path to the sub-folders where all the Net Transfer Capacity raw data is saved. \n",
    "</div>"
   ]
  },
  {
   "cell_type": "code",
   "execution_count": 9,
   "id": "246c6567-d836-4826-8cc4-4c9fec91bf54",
   "metadata": {},
   "outputs": [
    {
     "name": "stdout",
     "output_type": "stream",
     "text": [
      "Country_Folder column created successfully.\n"
     ]
    }
   ],
   "source": [
    "def create_country_folder_column(ntc_country_list_file, ntc_raw_data_folder_path, data_year):\n",
    "  \"\"\"\n",
    "  Creates a Country_Folder column in the specified CSV file.\n",
    "\n",
    "  Args:\n",
    "    cross_border_flows_country_list_file: The path to the CSV file.\n",
    "    cross_border_flows_folder_path: The path to the cross-border flows folder.\n",
    "    data_year: The data year (can be integer or string).\n",
    "  \"\"\"\n",
    "\n",
    "  df = pd.read_csv(ntc_country_list_file)\n",
    "\n",
    "  # Ensure data_year is a string before path joining\n",
    "  data_year_str = str(data_year)\n",
    "\n",
    "  def get_folder_path(country):\n",
    "    return os.path.join(ntc_raw_data_folder_path, data_year_str, country)\n",
    "\n",
    "  df['Country_Folder'] = df['Country_From'].apply(get_folder_path)\n",
    "  df.to_csv(ntc_country_list_file, index=False)\n",
    "\n",
    "  print(\"Country_Folder column created successfully.\")\n",
    "\n",
    "create_country_folder_column(ntc_country_list_file, ntc_raw_data_folder_path, data_year)"
   ]
  },
  {
   "cell_type": "markdown",
   "id": "dd99cbab-060b-4d6c-a3c6-3b7ce52ae352",
   "metadata": {},
   "source": [
    "<div style=\"text-align: justify; margin-left: 0.0em; font-weight: unbold; font-size: 14px; font-family: TimesNewRoman;color:skyblue\">\n",
    "Defining the neighbor countries. \n",
    "</div>"
   ]
  },
  {
   "cell_type": "code",
   "execution_count": 10,
   "id": "9741eb77-aa8e-4b1a-9841-2ceffc674214",
   "metadata": {},
   "outputs": [
    {
     "name": "stdout",
     "output_type": "stream",
     "text": [
      "Processed folder: /home/ray/Dispa-SET_Unleash/RawData/NTC/Raw_Data_Sources/2018/AT\n",
      "Processed folder: /home/ray/Dispa-SET_Unleash/RawData/NTC/Raw_Data_Sources/2018/BE\n",
      "Processed folder: /home/ray/Dispa-SET_Unleash/RawData/NTC/Raw_Data_Sources/2018/BG\n",
      "Processed folder: /home/ray/Dispa-SET_Unleash/RawData/NTC/Raw_Data_Sources/2018/CH\n",
      "Processed folder: /home/ray/Dispa-SET_Unleash/RawData/NTC/Raw_Data_Sources/2018/CY\n",
      "Processed folder: /home/ray/Dispa-SET_Unleash/RawData/NTC/Raw_Data_Sources/2018/CZ\n",
      "Processed folder: /home/ray/Dispa-SET_Unleash/RawData/NTC/Raw_Data_Sources/2018/DE\n",
      "Processed folder: /home/ray/Dispa-SET_Unleash/RawData/NTC/Raw_Data_Sources/2018/DK\n",
      "Processed folder: /home/ray/Dispa-SET_Unleash/RawData/NTC/Raw_Data_Sources/2018/EE\n",
      "Processed folder: /home/ray/Dispa-SET_Unleash/RawData/NTC/Raw_Data_Sources/2018/GR\n",
      "Processed folder: /home/ray/Dispa-SET_Unleash/RawData/NTC/Raw_Data_Sources/2018/ES\n",
      "Processed folder: /home/ray/Dispa-SET_Unleash/RawData/NTC/Raw_Data_Sources/2018/FI\n",
      "Processed folder: /home/ray/Dispa-SET_Unleash/RawData/NTC/Raw_Data_Sources/2018/FR\n",
      "Processed folder: /home/ray/Dispa-SET_Unleash/RawData/NTC/Raw_Data_Sources/2018/HR\n",
      "Processed folder: /home/ray/Dispa-SET_Unleash/RawData/NTC/Raw_Data_Sources/2018/HU\n",
      "Processed folder: /home/ray/Dispa-SET_Unleash/RawData/NTC/Raw_Data_Sources/2018/IE\n",
      "Processed folder: /home/ray/Dispa-SET_Unleash/RawData/NTC/Raw_Data_Sources/2018/IT\n",
      "Processed folder: /home/ray/Dispa-SET_Unleash/RawData/NTC/Raw_Data_Sources/2018/LT\n",
      "Processed folder: /home/ray/Dispa-SET_Unleash/RawData/NTC/Raw_Data_Sources/2018/LU\n",
      "Processed folder: /home/ray/Dispa-SET_Unleash/RawData/NTC/Raw_Data_Sources/2018/LV\n",
      "Processed folder: /home/ray/Dispa-SET_Unleash/RawData/NTC/Raw_Data_Sources/2018/MT\n",
      "Processed folder: /home/ray/Dispa-SET_Unleash/RawData/NTC/Raw_Data_Sources/2018/NL\n",
      "Processed folder: /home/ray/Dispa-SET_Unleash/RawData/NTC/Raw_Data_Sources/2018/NO\n",
      "Processed folder: /home/ray/Dispa-SET_Unleash/RawData/NTC/Raw_Data_Sources/2018/PL\n",
      "Processed folder: /home/ray/Dispa-SET_Unleash/RawData/NTC/Raw_Data_Sources/2018/PT\n",
      "Processed folder: /home/ray/Dispa-SET_Unleash/RawData/NTC/Raw_Data_Sources/2018/RO\n",
      "Processed folder: /home/ray/Dispa-SET_Unleash/RawData/NTC/Raw_Data_Sources/2018/SE\n",
      "Processed folder: /home/ray/Dispa-SET_Unleash/RawData/NTC/Raw_Data_Sources/2018/SI\n",
      "Processed folder: /home/ray/Dispa-SET_Unleash/RawData/NTC/Raw_Data_Sources/2018/SK\n",
      "Processed folder: /home/ray/Dispa-SET_Unleash/RawData/NTC/Raw_Data_Sources/2018/UK\n"
     ]
    }
   ],
   "source": [
    "def create_neighbor_columns(ntc_country_list_file):\n",
    "  \"\"\"\n",
    "  Creates neighbor columns based on CSV files in subfolders.\n",
    "\n",
    "  Args:\n",
    "    cross_border_flows_country_list_file: The path to the CSV file.\n",
    "  \"\"\"\n",
    "\n",
    "  df = pd.read_csv(ntc_country_list_file)\n",
    "\n",
    "  for index, row in df.iterrows():\n",
    "    folder_path = row['Country_Folder']\n",
    "    csv_files = [f for f in os.listdir(folder_path) if f.endswith('.csv')]\n",
    "    csv_file_names = [f[:-4] for f in csv_files]\n",
    "\n",
    "    for i, file_name in enumerate(csv_file_names):\n",
    "      df.loc[index, f\"Neighbor_{i+1}\"] = file_name\n",
    "\n",
    "    print(f\"Processed folder: {folder_path}\")\n",
    "\n",
    "  df.to_csv(ntc_country_list_file, index=False)\n",
    "\n",
    "create_neighbor_columns(ntc_country_list_file)"
   ]
  },
  {
   "cell_type": "markdown",
   "id": "9f728f02-f895-4a66-9658-d4e6df193880",
   "metadata": {},
   "source": [
    "<div style=\"text-align: justify; margin-left: 0.0em; font-weight: unbold; font-size: 14px; font-family: TimesNewRoman;color:skyblue\">\n",
    "Since the Acronym of Grece in the downloaded data is 'GR' and the Dispa-SET format for the country is 'EL'. All the needed changes in the used variables are done.\n",
    "<br>"
   ]
  },
  {
   "cell_type": "code",
   "execution_count": 11,
   "id": "286de87c-891c-4243-8938-b8f58ed84aac",
   "metadata": {},
   "outputs": [
    {
     "name": "stdout",
     "output_type": "stream",
     "text": [
      "Replacements made and file saved: /home/ray/Dispa-SET_Unleash/RawData/NTC/Raw_Data_Sources/country_list.csv\n"
     ]
    },
    {
     "name": "stderr",
     "output_type": "stream",
     "text": [
      "/tmp/ipykernel_251877/2584139094.py:5: FutureWarning: DataFrame.applymap has been deprecated. Use DataFrame.map instead.\n",
      "  df = df.applymap(lambda x: x.replace('GR', 'EL') if isinstance(x, str) else x)\n"
     ]
    }
   ],
   "source": [
    "# Read the CSV file into a DataFrame\n",
    "df = pd.read_csv(ntc_country_list_file)\n",
    "\n",
    "# Replace 'GR' with 'EL' in the entire DataFrame\n",
    "df = df.applymap(lambda x: x.replace('GR', 'EL') if isinstance(x, str) else x)\n",
    "\n",
    "# Save the updated DataFrame back to the CSV file\n",
    "df.to_csv(ntc_country_list_file, index=False)\n",
    "\n",
    "print(f\"Replacements made and file saved: {ntc_country_list_file}\")"
   ]
  },
  {
   "cell_type": "code",
   "execution_count": 12,
   "id": "cefaa308-865a-4622-8c74-1ed076317d75",
   "metadata": {},
   "outputs": [
    {
     "name": "stdout",
     "output_type": "stream",
     "text": [
      "Renamed directory: /home/ray/Dispa-SET_Unleash/RawData/NTC/Raw_Data_Sources/2017/GR to /home/ray/Dispa-SET_Unleash/RawData/NTC/Raw_Data_Sources/2017/EL\n",
      "Renamed file: /home/ray/Dispa-SET_Unleash/RawData/NTC/Raw_Data_Sources/2022/BG/GR.csv to /home/ray/Dispa-SET_Unleash/RawData/NTC/Raw_Data_Sources/2022/BG/EL.csv\n",
      "Renamed file: /home/ray/Dispa-SET_Unleash/RawData/NTC/Raw_Data_Sources/2022/IT/GR.csv to /home/ray/Dispa-SET_Unleash/RawData/NTC/Raw_Data_Sources/2022/IT/EL.csv\n",
      "Renamed directory: /home/ray/Dispa-SET_Unleash/RawData/NTC/Raw_Data_Sources/2022/GR to /home/ray/Dispa-SET_Unleash/RawData/NTC/Raw_Data_Sources/2022/EL\n",
      "Renamed file: /home/ray/Dispa-SET_Unleash/RawData/NTC/Raw_Data_Sources/2020/BG/GR.csv to /home/ray/Dispa-SET_Unleash/RawData/NTC/Raw_Data_Sources/2020/BG/EL.csv\n",
      "Renamed file: /home/ray/Dispa-SET_Unleash/RawData/NTC/Raw_Data_Sources/2020/IT/GR.csv to /home/ray/Dispa-SET_Unleash/RawData/NTC/Raw_Data_Sources/2020/IT/EL.csv\n",
      "Renamed directory: /home/ray/Dispa-SET_Unleash/RawData/NTC/Raw_Data_Sources/2020/GR to /home/ray/Dispa-SET_Unleash/RawData/NTC/Raw_Data_Sources/2020/EL\n",
      "Renamed file: /home/ray/Dispa-SET_Unleash/RawData/NTC/Raw_Data_Sources/2021/BG/GR.csv to /home/ray/Dispa-SET_Unleash/RawData/NTC/Raw_Data_Sources/2021/BG/EL.csv\n",
      "Renamed file: /home/ray/Dispa-SET_Unleash/RawData/NTC/Raw_Data_Sources/2021/IT/GR.csv to /home/ray/Dispa-SET_Unleash/RawData/NTC/Raw_Data_Sources/2021/IT/EL.csv\n",
      "Renamed directory: /home/ray/Dispa-SET_Unleash/RawData/NTC/Raw_Data_Sources/2021/GR to /home/ray/Dispa-SET_Unleash/RawData/NTC/Raw_Data_Sources/2021/EL\n",
      "Renamed file: /home/ray/Dispa-SET_Unleash/RawData/NTC/Raw_Data_Sources/2019/BG/GR.csv to /home/ray/Dispa-SET_Unleash/RawData/NTC/Raw_Data_Sources/2019/BG/EL.csv\n",
      "Renamed file: /home/ray/Dispa-SET_Unleash/RawData/NTC/Raw_Data_Sources/2019/IT/GR.csv to /home/ray/Dispa-SET_Unleash/RawData/NTC/Raw_Data_Sources/2019/IT/EL.csv\n",
      "Renamed directory: /home/ray/Dispa-SET_Unleash/RawData/NTC/Raw_Data_Sources/2019/GR to /home/ray/Dispa-SET_Unleash/RawData/NTC/Raw_Data_Sources/2019/EL\n",
      "Renamed file: /home/ray/Dispa-SET_Unleash/RawData/NTC/Raw_Data_Sources/2018/BG/GR.csv to /home/ray/Dispa-SET_Unleash/RawData/NTC/Raw_Data_Sources/2018/BG/EL.csv\n",
      "Renamed file: /home/ray/Dispa-SET_Unleash/RawData/NTC/Raw_Data_Sources/2018/IT/GR.csv to /home/ray/Dispa-SET_Unleash/RawData/NTC/Raw_Data_Sources/2018/IT/EL.csv\n",
      "Renamed directory: /home/ray/Dispa-SET_Unleash/RawData/NTC/Raw_Data_Sources/2018/GR to /home/ray/Dispa-SET_Unleash/RawData/NTC/Raw_Data_Sources/2018/EL\n",
      "Renamed file: /home/ray/Dispa-SET_Unleash/RawData/NTC/Raw_Data_Sources/2016/BG/GR.csv to /home/ray/Dispa-SET_Unleash/RawData/NTC/Raw_Data_Sources/2016/BG/EL.csv\n",
      "Renamed file: /home/ray/Dispa-SET_Unleash/RawData/NTC/Raw_Data_Sources/2016/IT/GR.csv to /home/ray/Dispa-SET_Unleash/RawData/NTC/Raw_Data_Sources/2016/IT/EL.csv\n",
      "Renamed directory: /home/ray/Dispa-SET_Unleash/RawData/NTC/Raw_Data_Sources/2016/GR to /home/ray/Dispa-SET_Unleash/RawData/NTC/Raw_Data_Sources/2016/EL\n",
      "Renamed file: /home/ray/Dispa-SET_Unleash/RawData/NTC/Raw_Data_Sources/2023/BG/GR.csv to /home/ray/Dispa-SET_Unleash/RawData/NTC/Raw_Data_Sources/2023/BG/EL.csv\n",
      "Renamed file: /home/ray/Dispa-SET_Unleash/RawData/NTC/Raw_Data_Sources/2023/IT/GR.csv to /home/ray/Dispa-SET_Unleash/RawData/NTC/Raw_Data_Sources/2023/IT/EL.csv\n",
      "Renamed directory: /home/ray/Dispa-SET_Unleash/RawData/NTC/Raw_Data_Sources/2023/GR to /home/ray/Dispa-SET_Unleash/RawData/NTC/Raw_Data_Sources/2023/EL\n"
     ]
    }
   ],
   "source": [
    "# Walk through the directory tree\n",
    "for root, dirs, files in os.walk(ntc_raw_data_folder_path, topdown=False):\n",
    "    # Rename files\n",
    "    for name in files:\n",
    "        if 'GR' in name:\n",
    "            new_name = name.replace('GR', 'EL')\n",
    "            old_file_path = os.path.join(root, name)\n",
    "            new_file_path = os.path.join(root, new_name)\n",
    "            os.rename(old_file_path, new_file_path)\n",
    "            print(f\"Renamed file: {old_file_path} to {new_file_path}\")\n",
    "\n",
    "    # Rename directories\n",
    "    for name in dirs:\n",
    "        if 'GR' in name:\n",
    "            new_name = name.replace('GR', 'EL')\n",
    "            old_dir_path = os.path.join(root, name)\n",
    "            new_dir_path = os.path.join(root, new_name)\n",
    "            os.rename(old_dir_path, new_dir_path)\n",
    "            print(f\"Renamed directory: {old_dir_path} to {new_dir_path}\")"
   ]
  },
  {
   "cell_type": "markdown",
   "id": "ce510b37-2c1f-4485-89c2-e478f3803873",
   "metadata": {},
   "source": [
    "<div style=\"text-align: justify; margin-left: 0.0em; font-weight: unbold; font-size: 14px; font-family: TimesNewRoman;color:skyblue\">\n",
    "The downloaded files are joined into a single csv file under the name of the country which the flow comes from.\n",
    "<br>"
   ]
  },
  {
   "cell_type": "code",
   "execution_count": 13,
   "id": "91d75bd7-8da5-4d50-8595-bb60b00bd7e9",
   "metadata": {},
   "outputs": [
    {
     "name": "stdout",
     "output_type": "stream",
     "text": [
      "Joined CSV file saved to '/home/ray/Dispa-SET_Unleash/RawData/NTC/Raw_Data_Sources/2018/AT/AT.csv'\n",
      "Joined CSV file saved to '/home/ray/Dispa-SET_Unleash/RawData/NTC/Raw_Data_Sources/2018/BE/BE.csv'\n",
      "Joined CSV file saved to '/home/ray/Dispa-SET_Unleash/RawData/NTC/Raw_Data_Sources/2018/BG/BG.csv'\n",
      "Joined CSV file saved to '/home/ray/Dispa-SET_Unleash/RawData/NTC/Raw_Data_Sources/2018/CH/CH.csv'\n",
      "Joined CSV file saved to '/home/ray/Dispa-SET_Unleash/RawData/NTC/Raw_Data_Sources/2018/CZ/CZ.csv'\n",
      "Joined CSV file saved to '/home/ray/Dispa-SET_Unleash/RawData/NTC/Raw_Data_Sources/2018/DE/DE.csv'\n",
      "Joined CSV file saved to '/home/ray/Dispa-SET_Unleash/RawData/NTC/Raw_Data_Sources/2018/DK/DK.csv'\n",
      "Joined CSV file saved to '/home/ray/Dispa-SET_Unleash/RawData/NTC/Raw_Data_Sources/2018/EE/EE.csv'\n",
      "Joined CSV file saved to '/home/ray/Dispa-SET_Unleash/RawData/NTC/Raw_Data_Sources/2018/EL/EL.csv'\n",
      "Joined CSV file saved to '/home/ray/Dispa-SET_Unleash/RawData/NTC/Raw_Data_Sources/2018/ES/ES.csv'\n",
      "Joined CSV file saved to '/home/ray/Dispa-SET_Unleash/RawData/NTC/Raw_Data_Sources/2018/FI/FI.csv'\n",
      "Joined CSV file saved to '/home/ray/Dispa-SET_Unleash/RawData/NTC/Raw_Data_Sources/2018/FR/FR.csv'\n",
      "Joined CSV file saved to '/home/ray/Dispa-SET_Unleash/RawData/NTC/Raw_Data_Sources/2018/HR/HR.csv'\n",
      "Joined CSV file saved to '/home/ray/Dispa-SET_Unleash/RawData/NTC/Raw_Data_Sources/2018/HU/HU.csv'\n",
      "Joined CSV file saved to '/home/ray/Dispa-SET_Unleash/RawData/NTC/Raw_Data_Sources/2018/IE/IE.csv'\n",
      "Joined CSV file saved to '/home/ray/Dispa-SET_Unleash/RawData/NTC/Raw_Data_Sources/2018/IT/IT.csv'\n",
      "Joined CSV file saved to '/home/ray/Dispa-SET_Unleash/RawData/NTC/Raw_Data_Sources/2018/LT/LT.csv'\n",
      "Joined CSV file saved to '/home/ray/Dispa-SET_Unleash/RawData/NTC/Raw_Data_Sources/2018/LU/LU.csv'\n",
      "Joined CSV file saved to '/home/ray/Dispa-SET_Unleash/RawData/NTC/Raw_Data_Sources/2018/LV/LV.csv'\n",
      "Joined CSV file saved to '/home/ray/Dispa-SET_Unleash/RawData/NTC/Raw_Data_Sources/2018/MT/MT.csv'\n",
      "Joined CSV file saved to '/home/ray/Dispa-SET_Unleash/RawData/NTC/Raw_Data_Sources/2018/NL/NL.csv'\n",
      "Joined CSV file saved to '/home/ray/Dispa-SET_Unleash/RawData/NTC/Raw_Data_Sources/2018/NO/NO.csv'\n",
      "Joined CSV file saved to '/home/ray/Dispa-SET_Unleash/RawData/NTC/Raw_Data_Sources/2018/PL/PL.csv'\n",
      "Joined CSV file saved to '/home/ray/Dispa-SET_Unleash/RawData/NTC/Raw_Data_Sources/2018/PT/PT.csv'\n",
      "Joined CSV file saved to '/home/ray/Dispa-SET_Unleash/RawData/NTC/Raw_Data_Sources/2018/RO/RO.csv'\n",
      "Joined CSV file saved to '/home/ray/Dispa-SET_Unleash/RawData/NTC/Raw_Data_Sources/2018/SE/SE.csv'\n",
      "Joined CSV file saved to '/home/ray/Dispa-SET_Unleash/RawData/NTC/Raw_Data_Sources/2018/SI/SI.csv'\n",
      "Joined CSV file saved to '/home/ray/Dispa-SET_Unleash/RawData/NTC/Raw_Data_Sources/2018/SK/SK.csv'\n",
      "Joined CSV file saved to '/home/ray/Dispa-SET_Unleash/RawData/NTC/Raw_Data_Sources/2018/UK/UK.csv'\n",
      "All data has been processed and saved.\n"
     ]
    }
   ],
   "source": [
    "# Read the CSV file into a DataFrame\n",
    "df = pd.read_csv(ntc_country_list_file)\n",
    "\n",
    "# Ensure the column 'Country_Folder' exists\n",
    "if 'Country_Folder' not in df.columns:\n",
    "    raise ValueError(\"Column 'Country_Folder' does not exist in the CSV file\")\n",
    "\n",
    "# Function to join CSV files in a directory\n",
    "def join_csv_files_in_directory(directory_path):\n",
    "    csv_files = [f for f in os.listdir(directory_path) if f.endswith('.csv')]\n",
    "    if not csv_files:\n",
    "        return None\n",
    "    \n",
    "    # Read all CSV files into DataFrames\n",
    "    dataframes = {csv_file: pd.read_csv(os.path.join(directory_path, csv_file)) for csv_file in csv_files}\n",
    "    \n",
    "    # Find the CSV file with the largest number of rows\n",
    "    largest_file = max(dataframes, key=lambda x: len(dataframes[x]))\n",
    "    base_df = dataframes[largest_file].iloc[:, :2].copy()\n",
    "    base_df.columns = [base_df.columns[0], largest_file.replace('.csv', '')]\n",
    "    \n",
    "    # Merge the other CSV files based on the first column\n",
    "    for csv_file, df in dataframes.items():\n",
    "        if csv_file == largest_file:\n",
    "            continue\n",
    "        temp_df = df.iloc[:, [0, 1]]\n",
    "        temp_df.columns = [temp_df.columns[0], csv_file.replace('.csv', '')]\n",
    "        base_df = pd.merge(base_df, temp_df, on=base_df.columns[0], how='left')\n",
    "    \n",
    "    return base_df\n",
    "\n",
    "# Create a new column for the paths of the new CSV files\n",
    "df['Country_File_Path'] = ''\n",
    "\n",
    "# Iterate through each row in the DataFrame\n",
    "for index, row in df.iterrows():\n",
    "    country_folder = row['Country_Folder']\n",
    "    \n",
    "    # Join CSV files in the directory\n",
    "    joined_df = join_csv_files_in_directory(country_folder)\n",
    "    \n",
    "    if joined_df is not None:\n",
    "        # Define the output file path\n",
    "        output_file = os.path.join(country_folder, f\"{os.path.basename(country_folder)}.csv\")\n",
    "        \n",
    "        # Save the joined DataFrame to a new CSV file\n",
    "        joined_df.to_csv(output_file, index=False)\n",
    "        \n",
    "        # Update the DataFrame with the path of the new CSV file\n",
    "        df.at[index, 'Country_File_Path'] = output_file\n",
    "\n",
    "        print(f\"Joined CSV file saved to '{output_file}'\")\n",
    "\n",
    "# Save the updated DataFrame back to the main CSV file\n",
    "df.to_csv(ntc_country_list_file, index=False)\n",
    "\n",
    "print(\"All data has been processed and saved.\")"
   ]
  },
  {
   "cell_type": "markdown",
   "id": "07afcb5f-33f7-44c6-bc12-c2721c41d07c",
   "metadata": {},
   "source": [
    "<div style=\"text-align: justify; margin-left: 0.0em; font-weight: unbold; font-size: 14px; font-family: TimesNewRoman;color:skyblue\">\n",
    "The headers of these joined csv files are changed accordign the Dispa-SET cross border flow data format e.g. BE -> DE\n",
    "</div>"
   ]
  },
  {
   "cell_type": "code",
   "execution_count": 14,
   "id": "42dda4a3-b294-4976-949c-1bd3c9a9df34",
   "metadata": {},
   "outputs": [
    {
     "name": "stdout",
     "output_type": "stream",
     "text": [
      "Updated headers in '/home/ray/Dispa-SET_Unleash/RawData/NTC/Raw_Data_Sources/2018/AT/AT.csv'\n",
      "Updated headers in '/home/ray/Dispa-SET_Unleash/RawData/NTC/Raw_Data_Sources/2018/BE/BE.csv'\n",
      "Updated headers in '/home/ray/Dispa-SET_Unleash/RawData/NTC/Raw_Data_Sources/2018/BG/BG.csv'\n",
      "Updated headers in '/home/ray/Dispa-SET_Unleash/RawData/NTC/Raw_Data_Sources/2018/CH/CH.csv'\n",
      "File path 'nan' does not exist or is empty. Skipping...\n",
      "Updated headers in '/home/ray/Dispa-SET_Unleash/RawData/NTC/Raw_Data_Sources/2018/CZ/CZ.csv'\n",
      "Updated headers in '/home/ray/Dispa-SET_Unleash/RawData/NTC/Raw_Data_Sources/2018/DE/DE.csv'\n",
      "Updated headers in '/home/ray/Dispa-SET_Unleash/RawData/NTC/Raw_Data_Sources/2018/DK/DK.csv'\n",
      "Updated headers in '/home/ray/Dispa-SET_Unleash/RawData/NTC/Raw_Data_Sources/2018/EE/EE.csv'\n",
      "Updated headers in '/home/ray/Dispa-SET_Unleash/RawData/NTC/Raw_Data_Sources/2018/EL/EL.csv'\n",
      "Updated headers in '/home/ray/Dispa-SET_Unleash/RawData/NTC/Raw_Data_Sources/2018/ES/ES.csv'\n",
      "Updated headers in '/home/ray/Dispa-SET_Unleash/RawData/NTC/Raw_Data_Sources/2018/FI/FI.csv'\n",
      "Updated headers in '/home/ray/Dispa-SET_Unleash/RawData/NTC/Raw_Data_Sources/2018/FR/FR.csv'\n",
      "Updated headers in '/home/ray/Dispa-SET_Unleash/RawData/NTC/Raw_Data_Sources/2018/HR/HR.csv'\n",
      "Updated headers in '/home/ray/Dispa-SET_Unleash/RawData/NTC/Raw_Data_Sources/2018/HU/HU.csv'\n",
      "Updated headers in '/home/ray/Dispa-SET_Unleash/RawData/NTC/Raw_Data_Sources/2018/IE/IE.csv'\n",
      "Updated headers in '/home/ray/Dispa-SET_Unleash/RawData/NTC/Raw_Data_Sources/2018/IT/IT.csv'\n",
      "Updated headers in '/home/ray/Dispa-SET_Unleash/RawData/NTC/Raw_Data_Sources/2018/LT/LT.csv'\n",
      "Updated headers in '/home/ray/Dispa-SET_Unleash/RawData/NTC/Raw_Data_Sources/2018/LU/LU.csv'\n",
      "Updated headers in '/home/ray/Dispa-SET_Unleash/RawData/NTC/Raw_Data_Sources/2018/LV/LV.csv'\n",
      "Updated headers in '/home/ray/Dispa-SET_Unleash/RawData/NTC/Raw_Data_Sources/2018/MT/MT.csv'\n",
      "Updated headers in '/home/ray/Dispa-SET_Unleash/RawData/NTC/Raw_Data_Sources/2018/NL/NL.csv'\n",
      "Updated headers in '/home/ray/Dispa-SET_Unleash/RawData/NTC/Raw_Data_Sources/2018/NO/NO.csv'\n",
      "Updated headers in '/home/ray/Dispa-SET_Unleash/RawData/NTC/Raw_Data_Sources/2018/PL/PL.csv'\n",
      "Updated headers in '/home/ray/Dispa-SET_Unleash/RawData/NTC/Raw_Data_Sources/2018/PT/PT.csv'\n",
      "Updated headers in '/home/ray/Dispa-SET_Unleash/RawData/NTC/Raw_Data_Sources/2018/RO/RO.csv'\n",
      "Updated headers in '/home/ray/Dispa-SET_Unleash/RawData/NTC/Raw_Data_Sources/2018/SE/SE.csv'\n",
      "Updated headers in '/home/ray/Dispa-SET_Unleash/RawData/NTC/Raw_Data_Sources/2018/SI/SI.csv'\n",
      "Updated headers in '/home/ray/Dispa-SET_Unleash/RawData/NTC/Raw_Data_Sources/2018/SK/SK.csv'\n",
      "Updated headers in '/home/ray/Dispa-SET_Unleash/RawData/NTC/Raw_Data_Sources/2018/UK/UK.csv'\n",
      "All CSV files have been processed.\n"
     ]
    }
   ],
   "source": [
    "# Read the main CSV file into a DataFrame\n",
    "df = pd.read_csv(ntc_country_list_file)\n",
    "\n",
    "# Ensure the required columns exist\n",
    "if 'Country_From' not in df.columns or 'Country_File_Path' not in df.columns:\n",
    "    raise ValueError(\"The CSV file must contain 'Country_From' and 'Country_File_Path' columns.\")\n",
    "\n",
    "# Function to update the headers of a CSV file\n",
    "def update_csv_headers(file_path, new_header_prefix):\n",
    "    # Read the CSV file into a DataFrame\n",
    "    csv_df = pd.read_csv(file_path)\n",
    "    \n",
    "    # Get the current headers\n",
    "    current_headers = csv_df.columns.tolist()\n",
    "    \n",
    "    # Create new headers for columns from the second column onward\n",
    "    new_headers = [current_headers[0]] + [f\"{new_header_prefix} -> {col}\" for col in current_headers[1:]]\n",
    "    \n",
    "    # Update the DataFrame with the new headers\n",
    "    csv_df.columns = new_headers\n",
    "    \n",
    "    # Save the updated DataFrame back to the CSV file\n",
    "    csv_df.to_csv(file_path, index=False)\n",
    "    print(f\"Updated headers in '{file_path}'\")\n",
    "\n",
    "# Iterate through each row in the main DataFrame\n",
    "for index, row in df.iterrows():\n",
    "    country_from = row['Country_From']\n",
    "    country_file_path = row['Country_File_Path']\n",
    "    \n",
    "    # Check if the file path is not empty and exists\n",
    "    if pd.notna(country_file_path) and os.path.exists(country_file_path):\n",
    "        update_csv_headers(country_file_path, country_from)\n",
    "    else:\n",
    "        print(f\"File path '{country_file_path}' does not exist or is empty. Skipping...\")\n",
    "\n",
    "print(\"All CSV files have been processed.\")"
   ]
  },
  {
   "cell_type": "markdown",
   "id": "acf4b824-fda0-42a6-9b76-e8dedc9e37cc",
   "metadata": {},
   "source": [
    "<div style=\"text-align: justify; margin-left: 3.0em; font-weight: bold; font-size: 18px; font-family: TimesNewRoman;color:skyblue\">\n",
    "    6. Raw Data Format\n",
    "</div>\n",
    "<div style=\"text-align: justify; margin-left: 0.0em; font-weight: unbold; font-size: 14px; font-family: TimesNewRoman;color:skyblue\">\n",
    "Addapting the time step data to the UTC for all the countries.\n",
    "</div>"
   ]
  },
  {
   "cell_type": "code",
   "execution_count": 15,
   "id": "0a1156b2-2a5c-40f0-bbe3-618a767f0bef",
   "metadata": {},
   "outputs": [
    {
     "name": "stdout",
     "output_type": "stream",
     "text": [
      "Updated file saved: /home/ray/Dispa-SET_Unleash/RawData/NTC/Raw_Data_Sources/2018/AT/AT.csv\n",
      "Updated file saved: /home/ray/Dispa-SET_Unleash/RawData/NTC/Raw_Data_Sources/2018/BE/BE.csv\n",
      "Updated file saved: /home/ray/Dispa-SET_Unleash/RawData/NTC/Raw_Data_Sources/2018/BG/BG.csv\n",
      "Updated file saved: /home/ray/Dispa-SET_Unleash/RawData/NTC/Raw_Data_Sources/2018/CH/CH.csv\n",
      "Updated file saved: /home/ray/Dispa-SET_Unleash/RawData/NTC/Raw_Data_Sources/2018/CZ/CZ.csv\n",
      "Updated file saved: /home/ray/Dispa-SET_Unleash/RawData/NTC/Raw_Data_Sources/2018/DE/DE.csv\n",
      "Updated file saved: /home/ray/Dispa-SET_Unleash/RawData/NTC/Raw_Data_Sources/2018/DK/DK.csv\n",
      "Updated file saved: /home/ray/Dispa-SET_Unleash/RawData/NTC/Raw_Data_Sources/2018/EE/EE.csv\n",
      "Updated file saved: /home/ray/Dispa-SET_Unleash/RawData/NTC/Raw_Data_Sources/2018/EL/EL.csv\n",
      "Updated file saved: /home/ray/Dispa-SET_Unleash/RawData/NTC/Raw_Data_Sources/2018/ES/ES.csv\n",
      "Updated file saved: /home/ray/Dispa-SET_Unleash/RawData/NTC/Raw_Data_Sources/2018/FI/FI.csv\n",
      "Updated file saved: /home/ray/Dispa-SET_Unleash/RawData/NTC/Raw_Data_Sources/2018/FR/FR.csv\n",
      "Updated file saved: /home/ray/Dispa-SET_Unleash/RawData/NTC/Raw_Data_Sources/2018/HR/HR.csv\n",
      "Updated file saved: /home/ray/Dispa-SET_Unleash/RawData/NTC/Raw_Data_Sources/2018/HU/HU.csv\n",
      "Updated file saved: /home/ray/Dispa-SET_Unleash/RawData/NTC/Raw_Data_Sources/2018/IE/IE.csv\n",
      "Updated file saved: /home/ray/Dispa-SET_Unleash/RawData/NTC/Raw_Data_Sources/2018/IT/IT.csv\n",
      "Updated file saved: /home/ray/Dispa-SET_Unleash/RawData/NTC/Raw_Data_Sources/2018/LT/LT.csv\n",
      "Updated file saved: /home/ray/Dispa-SET_Unleash/RawData/NTC/Raw_Data_Sources/2018/LU/LU.csv\n",
      "Updated file saved: /home/ray/Dispa-SET_Unleash/RawData/NTC/Raw_Data_Sources/2018/LV/LV.csv\n",
      "Updated file saved: /home/ray/Dispa-SET_Unleash/RawData/NTC/Raw_Data_Sources/2018/MT/MT.csv\n",
      "Updated file saved: /home/ray/Dispa-SET_Unleash/RawData/NTC/Raw_Data_Sources/2018/NL/NL.csv\n",
      "Updated file saved: /home/ray/Dispa-SET_Unleash/RawData/NTC/Raw_Data_Sources/2018/NO/NO.csv\n",
      "Updated file saved: /home/ray/Dispa-SET_Unleash/RawData/NTC/Raw_Data_Sources/2018/PL/PL.csv\n",
      "Updated file saved: /home/ray/Dispa-SET_Unleash/RawData/NTC/Raw_Data_Sources/2018/PT/PT.csv\n",
      "Updated file saved: /home/ray/Dispa-SET_Unleash/RawData/NTC/Raw_Data_Sources/2018/RO/RO.csv\n",
      "Updated file saved: /home/ray/Dispa-SET_Unleash/RawData/NTC/Raw_Data_Sources/2018/SE/SE.csv\n",
      "Updated file saved: /home/ray/Dispa-SET_Unleash/RawData/NTC/Raw_Data_Sources/2018/SI/SI.csv\n",
      "Updated file saved: /home/ray/Dispa-SET_Unleash/RawData/NTC/Raw_Data_Sources/2018/SK/SK.csv\n",
      "Updated file saved: /home/ray/Dispa-SET_Unleash/RawData/NTC/Raw_Data_Sources/2018/UK/UK.csv\n"
     ]
    }
   ],
   "source": [
    "# Read the country list CSV file\n",
    "country_list_df = pd.read_csv(ntc_country_list_file)\n",
    "\n",
    "# Ensure the 'Country_File_Path' column exists\n",
    "if 'Country_File_Path' not in country_list_df.columns:\n",
    "    raise ValueError(\"Column 'Country_File_Path' does not exist in the CSV file\")\n",
    "\n",
    "# Define the function to convert time to UTC\n",
    "def convert_to_utc(time_str):\n",
    "    local_time = datetime.strptime(time_str, '%Y-%m-%d %H:%M:%S%z')\n",
    "    utc_time = local_time.astimezone(pytz.utc)\n",
    "    return utc_time.strftime('%Y-%m-%d %H:%M:%S%z')\n",
    "\n",
    "# Process each CSV file\n",
    "for file_path in country_list_df['Country_File_Path'].dropna():\n",
    "    # Ensure the file exists\n",
    "    if not os.path.isfile(file_path):\n",
    "        print(f\"File not found: {file_path}\")\n",
    "        continue\n",
    "\n",
    "    # Read the CSV file\n",
    "    df = pd.read_csv(file_path)\n",
    "    \n",
    "    # Check if the 'index' column exists\n",
    "    if 'index' not in df.columns:\n",
    "        print(f\"'index' column not found in file: {file_path}\")\n",
    "        continue\n",
    "\n",
    "    # Convert the 'index' column to UTC\n",
    "    df['index'] = df['index'].apply(convert_to_utc)\n",
    "    \n",
    "    # Save the updated CSV file\n",
    "    df.to_csv(file_path, index=False)\n",
    "    print(f\"Updated file saved: {file_path}\")"
   ]
  },
  {
   "cell_type": "code",
   "execution_count": 16,
   "id": "74e0cfc3-f273-4e0f-906a-222789af7528",
   "metadata": {},
   "outputs": [
    {
     "name": "stdout",
     "output_type": "stream",
     "text": [
      "Updated file saved: /home/ray/Dispa-SET_Unleash/RawData/NTC/Raw_Data_Sources/2018/AT/AT.csv\n",
      "Updated file saved: /home/ray/Dispa-SET_Unleash/RawData/NTC/Raw_Data_Sources/2018/BE/BE.csv\n",
      "Updated file saved: /home/ray/Dispa-SET_Unleash/RawData/NTC/Raw_Data_Sources/2018/BG/BG.csv\n",
      "Updated file saved: /home/ray/Dispa-SET_Unleash/RawData/NTC/Raw_Data_Sources/2018/CH/CH.csv\n",
      "Updated file saved: /home/ray/Dispa-SET_Unleash/RawData/NTC/Raw_Data_Sources/2018/CZ/CZ.csv\n",
      "Updated file saved: /home/ray/Dispa-SET_Unleash/RawData/NTC/Raw_Data_Sources/2018/DE/DE.csv\n",
      "Updated file saved: /home/ray/Dispa-SET_Unleash/RawData/NTC/Raw_Data_Sources/2018/DK/DK.csv\n",
      "Updated file saved: /home/ray/Dispa-SET_Unleash/RawData/NTC/Raw_Data_Sources/2018/EE/EE.csv\n",
      "Updated file saved: /home/ray/Dispa-SET_Unleash/RawData/NTC/Raw_Data_Sources/2018/EL/EL.csv\n",
      "Updated file saved: /home/ray/Dispa-SET_Unleash/RawData/NTC/Raw_Data_Sources/2018/ES/ES.csv\n",
      "Updated file saved: /home/ray/Dispa-SET_Unleash/RawData/NTC/Raw_Data_Sources/2018/FI/FI.csv\n",
      "Updated file saved: /home/ray/Dispa-SET_Unleash/RawData/NTC/Raw_Data_Sources/2018/FR/FR.csv\n",
      "Updated file saved: /home/ray/Dispa-SET_Unleash/RawData/NTC/Raw_Data_Sources/2018/HR/HR.csv\n",
      "Updated file saved: /home/ray/Dispa-SET_Unleash/RawData/NTC/Raw_Data_Sources/2018/HU/HU.csv\n",
      "Updated file saved: /home/ray/Dispa-SET_Unleash/RawData/NTC/Raw_Data_Sources/2018/IE/IE.csv\n",
      "Updated file saved: /home/ray/Dispa-SET_Unleash/RawData/NTC/Raw_Data_Sources/2018/IT/IT.csv\n",
      "Updated file saved: /home/ray/Dispa-SET_Unleash/RawData/NTC/Raw_Data_Sources/2018/LT/LT.csv\n",
      "Updated file saved: /home/ray/Dispa-SET_Unleash/RawData/NTC/Raw_Data_Sources/2018/LU/LU.csv\n",
      "Updated file saved: /home/ray/Dispa-SET_Unleash/RawData/NTC/Raw_Data_Sources/2018/LV/LV.csv\n",
      "Updated file saved: /home/ray/Dispa-SET_Unleash/RawData/NTC/Raw_Data_Sources/2018/MT/MT.csv\n",
      "Updated file saved: /home/ray/Dispa-SET_Unleash/RawData/NTC/Raw_Data_Sources/2018/NL/NL.csv\n",
      "Updated file saved: /home/ray/Dispa-SET_Unleash/RawData/NTC/Raw_Data_Sources/2018/NO/NO.csv\n",
      "Updated file saved: /home/ray/Dispa-SET_Unleash/RawData/NTC/Raw_Data_Sources/2018/PL/PL.csv\n",
      "Updated file saved: /home/ray/Dispa-SET_Unleash/RawData/NTC/Raw_Data_Sources/2018/PT/PT.csv\n",
      "Updated file saved: /home/ray/Dispa-SET_Unleash/RawData/NTC/Raw_Data_Sources/2018/RO/RO.csv\n",
      "Updated file saved: /home/ray/Dispa-SET_Unleash/RawData/NTC/Raw_Data_Sources/2018/SE/SE.csv\n",
      "Updated file saved: /home/ray/Dispa-SET_Unleash/RawData/NTC/Raw_Data_Sources/2018/SI/SI.csv\n",
      "Updated file saved: /home/ray/Dispa-SET_Unleash/RawData/NTC/Raw_Data_Sources/2018/SK/SK.csv\n",
      "Updated file saved: /home/ray/Dispa-SET_Unleash/RawData/NTC/Raw_Data_Sources/2018/UK/UK.csv\n"
     ]
    }
   ],
   "source": [
    "# Read the country list CSV file\n",
    "country_list_df = pd.read_csv(ntc_country_list_file)\n",
    "\n",
    "# Ensure the 'Country_File_Path' column exists\n",
    "if 'Country_File_Path' not in country_list_df.columns:\n",
    "    raise ValueError(\"Column 'Country_File_Path' does not exist in the CSV file\")\n",
    "\n",
    "# Function to update the year in the 'index' column\n",
    "def update_index_year(df, data_year):\n",
    "    # Ensure the 'index' column exists\n",
    "    if 'index' not in df.columns:\n",
    "        raise ValueError(\"'index' column not found in DataFrame\")\n",
    "    \n",
    "    # Update the year in the 'index' column\n",
    "    df['index'] = df['index'].apply(lambda x: f\"{data_year}{x[4:]}\" if str(x)[:4] != str(data_year) else x)\n",
    "    \n",
    "    return df\n",
    "\n",
    "# Process each CSV file specified in the 'Country_File_Path' column\n",
    "for file_path in country_list_df['Country_File_Path'].dropna():\n",
    "    # Ensure the file exists\n",
    "    if not os.path.isfile(file_path):\n",
    "        print(f\"File not found: {file_path}\")\n",
    "        continue\n",
    "    \n",
    "    # Read the CSV file\n",
    "    df = pd.read_csv(file_path)\n",
    "    \n",
    "    # Ensure there are enough rows to move the first four rows to the last\n",
    "    if len(df) < 4:\n",
    "        print(f\"Not enough rows to process in file: {file_path}\")\n",
    "        continue\n",
    "    \n",
    "    # Extract the first four rows (excluding headers)\n",
    "    first_four_rows = df.iloc[:4].copy()\n",
    "    \n",
    "    # Drop the first four rows from the DataFrame\n",
    "    df = df.iloc[4:].reset_index(drop=True)\n",
    "    \n",
    "    # Append the first_four_rows to the end of the DataFrame\n",
    "    df = pd.concat([df, first_four_rows]).reset_index(drop=True)\n",
    "    \n",
    "    # Update the 'index' column year\n",
    "    df = update_index_year(df, data_year)\n",
    "    \n",
    "    # Save the updated DataFrame back to the CSV file\n",
    "    df.to_csv(file_path, index=False)\n",
    "    print(f\"Updated file saved: {file_path}\")"
   ]
  },
  {
   "cell_type": "markdown",
   "id": "bb691777-556b-4b3a-9ca6-fbdf45801822",
   "metadata": {},
   "source": [
    "<div style=\"text-align: justify; margin-left: 3.0em; font-weight: bold; font-size: 18px; font-family: TimesNewRoman;color:skyblue\">\n",
    "    7. Net Transfer Capacity Clean File\n",
    "</div>\n",
    "<div style=\"text-align: justify; margin-left: 0.0em; font-weight: unbold; font-size: 14px; font-family: TimesNewRoman;color:skyblue\">\n",
    "Joining all the net transfer capacity data to a single csv file with named as the analized year.\n",
    "</div>"
   ]
  },
  {
   "cell_type": "code",
   "execution_count": 17,
   "id": "ea16224a-758b-4ce5-8f8e-c43f54b871ac",
   "metadata": {},
   "outputs": [
    {
     "name": "stdout",
     "output_type": "stream",
     "text": [
      "Combined CSV file saved: /home/ray/Dispa-SET_Unleash/RawData/NTC/2018.csv\n"
     ]
    }
   ],
   "source": [
    "# Read the country list CSV file\n",
    "country_list_df = pd.read_csv(ntc_country_list_file)\n",
    "\n",
    "# Ensure the 'Country_File_Path' column exists\n",
    "if 'Country_File_Path' not in country_list_df.columns:\n",
    "    raise ValueError(\"Column 'Country_File_Path' does not exist in the CSV file\")\n",
    "\n",
    "# Process each CSV file specified in the 'Country_File_Path' column\n",
    "file_paths = country_list_df['Country_File_Path'].dropna().tolist()\n",
    "\n",
    "# Identify the CSV file with the largest number of rows\n",
    "max_rows = 0\n",
    "base_df = None\n",
    "for file_path in file_paths:\n",
    "    # Ensure the file exists\n",
    "    if os.path.isfile(file_path):\n",
    "        df = pd.read_csv(file_path)\n",
    "        if len(df) > max_rows:\n",
    "            max_rows = len(df)\n",
    "            base_df = df.copy()\n",
    "\n",
    "# If no base_df was found, raise an error\n",
    "if base_df is None:\n",
    "    raise ValueError(\"No valid CSV files found.\")\n",
    "\n",
    "# Initialize the combined DataFrame with the first column from the base DataFrame\n",
    "combined_df = pd.DataFrame(base_df.iloc[:, 0])\n",
    "combined_df.columns = [base_df.columns[0]]  # Keep the original name of the first column\n",
    "\n",
    "# Add data from each CSV file to the combined DataFrame\n",
    "for file_path in file_paths:\n",
    "    if os.path.isfile(file_path):\n",
    "        df = pd.read_csv(file_path)\n",
    "        # Merge the data based on the first column\n",
    "        combined_df = pd.merge(combined_df, df, on=base_df.columns[0], how='left')\n",
    "\n",
    "# Save the combined DataFrame to a new CSV file named after the data_year variable\n",
    "output_file_path = os.path.join(ntc_folder_path, f\"{data_year}.csv\")\n",
    "combined_df.to_csv(output_file_path, index=False)\n",
    "print(f\"Combined CSV file saved: {output_file_path}\")"
   ]
  },
  {
   "cell_type": "markdown",
   "id": "6e6a989b-3369-47f2-9c27-40e9203cd5a5",
   "metadata": {},
   "source": [
    "<div style=\"text-align: justify; margin-left: 0.0em; font-weight: unbold; font-size: 14px; font-family: TimesNewRoman;color:skyblue\">\n",
    "Filling empty values.\n",
    "</div>"
   ]
  },
  {
   "cell_type": "code",
   "execution_count": 18,
   "id": "8d9910aa-78de-4d18-80e4-b28c308d4568",
   "metadata": {},
   "outputs": [
    {
     "name": "stdout",
     "output_type": "stream",
     "text": [
      "Processed file: /home/ray/Dispa-SET_Unleash/RawData/NTC/2018.csv\n"
     ]
    }
   ],
   "source": [
    "def process_csv_file(file_path):\n",
    "    \"\"\"\n",
    "    Processes a CSV file, replacing empty rows with '0'.\n",
    "\n",
    "    Args:\n",
    "        file_path: The path to the CSV file.\n",
    "    \"\"\"\n",
    "\n",
    "    df = pd.read_csv(file_path)\n",
    "    df.iloc[:, 1:] = df.iloc[:, 1:].fillna(0)\n",
    "    df.to_csv(file_path, index=False)\n",
    "    print(f\"Processed file: {file_path}\")\n",
    "\n",
    "def process_folder(ntc_folder_path, data_year):\n",
    "    \"\"\"\n",
    "    Processes CSV files within a folder.\n",
    "\n",
    "    Args:\n",
    "        cross_border_flows_folder_path: The path to the folder.\n",
    "        data_year: The data year.\n",
    "    \"\"\"\n",
    "\n",
    "    file_path = os.path.join(ntc_folder_path, f\"{data_year}.csv\")\n",
    "    process_csv_file(file_path)\n",
    "\n",
    "process_folder(ntc_folder_path, data_year)"
   ]
  },
  {
   "cell_type": "markdown",
   "id": "63b7c620-b8b7-420d-861c-ca80787efaa5",
   "metadata": {},
   "source": [
    "<div style=\"text-align: justify; margin-left: 0.0em; font-weight: unbold; font-size: 14px; font-family: TimesNewRoman;color:skyblue\">\n",
    "Dividing the clean data in time stepts of 15 minutes, 30 minutes, and 1 hour.\n",
    "</div>"
   ]
  },
  {
   "cell_type": "code",
   "execution_count": 19,
   "id": "48a43866-a2d6-47e7-94e6-f208d16656f2",
   "metadata": {},
   "outputs": [
    {
     "name": "stderr",
     "output_type": "stream",
     "text": [
      "/tmp/ipykernel_251877/4274416861.py:17: FutureWarning: 'H' is deprecated and will be removed in a future version, please use 'h' instead.\n",
      "  resampled_df = df.set_index('index').resample(interval).first().reset_index()\n"
     ]
    },
    {
     "name": "stdout",
     "output_type": "stream",
     "text": [
      "File saved: /home/ray/Dispa-SET_Unleash/RawData/NTC/1h/2018.csv\n"
     ]
    },
    {
     "name": "stderr",
     "output_type": "stream",
     "text": [
      "/tmp/ipykernel_251877/4274416861.py:17: FutureWarning: 'T' is deprecated and will be removed in a future version, please use 'min' instead.\n",
      "  resampled_df = df.set_index('index').resample(interval).first().reset_index()\n"
     ]
    },
    {
     "name": "stdout",
     "output_type": "stream",
     "text": [
      "File saved: /home/ray/Dispa-SET_Unleash/RawData/NTC/30min/2018.csv\n"
     ]
    },
    {
     "name": "stderr",
     "output_type": "stream",
     "text": [
      "/tmp/ipykernel_251877/4274416861.py:17: FutureWarning: 'T' is deprecated and will be removed in a future version, please use 'min' instead.\n",
      "  resampled_df = df.set_index('index').resample(interval).first().reset_index()\n"
     ]
    },
    {
     "name": "stdout",
     "output_type": "stream",
     "text": [
      "File saved: /home/ray/Dispa-SET_Unleash/RawData/NTC/15min/2018.csv\n"
     ]
    }
   ],
   "source": [
    "csv_file_path = os.path.join(ntc_folder_path, f'{data_year}.csv')\n",
    "\n",
    "# Create the new directories\n",
    "intervals = ['1h', '30min', '15min']\n",
    "for interval in intervals:\n",
    "    os.makedirs(os.path.join(ntc_folder_path, interval), exist_ok=True)\n",
    "\n",
    "# Read the original CSV file\n",
    "df = pd.read_csv(csv_file_path)\n",
    "\n",
    "# Convert the 'index' column to datetime\n",
    "df['index'] = pd.to_datetime(df['index'], format='%Y-%m-%d %H:%M:%S%z')\n",
    "\n",
    "# Function to extract rows at a specific time step and save to a new CSV file\n",
    "def extract_and_save(df, interval, folder_name):\n",
    "    # Resample the DataFrame\n",
    "    resampled_df = df.set_index('index').resample(interval).first().reset_index()\n",
    "    \n",
    "    # Define the new file path\n",
    "    new_file_path = os.path.join(ntc_folder_path, folder_name, f'{data_year}.csv')\n",
    "    \n",
    "    # Save the resampled DataFrame to the new CSV file\n",
    "    resampled_df.to_csv(new_file_path, index=False)\n",
    "    print(f\"File saved: {new_file_path}\")\n",
    "\n",
    "# Extract and save rows at different time steps\n",
    "extract_and_save(df, '1H', '1h')\n",
    "extract_and_save(df, '30T', '30min')\n",
    "extract_and_save(df, '15T', '15min')"
   ]
  },
  {
   "cell_type": "markdown",
   "id": "e8096ba6-ab5e-4e4f-83f8-a6b549bcfe2d",
   "metadata": {},
   "source": [
    "<div style=\"text-align: justify; margin-left: 0.0em; font-weight: unbold; font-size: 14px; font-family: TimesNewRoman;color:skyblue\">\n",
    "Copying the time already formated Cross Border Flows data to the main Dispa-SET data base dirtectory\n",
    "</div>"
   ]
  },
  {
   "cell_type": "code",
   "execution_count": 20,
   "id": "2965a399-17a5-45a2-8526-5cae1f835dbb",
   "metadata": {},
   "outputs": [],
   "source": [
    "additional_path_2 = \"/Database/ntc/\"\n",
    "\n",
    "# Construct the power_plants_raw_data_folder_path variable\n",
    "ntc_data_base_folder_path = dispaSET_unleash_folder_path + additional_path_2"
   ]
  },
  {
   "cell_type": "code",
   "execution_count": 21,
   "id": "1dcf13d3-1825-40c3-aad0-bce88ae97506",
   "metadata": {},
   "outputs": [
    {
     "name": "stdout",
     "output_type": "stream",
     "text": [
      "Copied /home/ray/Dispa-SET_Unleash/RawData/NTC/1h/2018.csv to /home/ray/Dispa-SET_Unleash/Database/ntc/1h/2018.csv\n",
      "Copied /home/ray/Dispa-SET_Unleash/RawData/NTC/30min/2018.csv to /home/ray/Dispa-SET_Unleash/Database/ntc/30min/2018.csv\n",
      "Copied /home/ray/Dispa-SET_Unleash/RawData/NTC/15min/2018.csv to /home/ray/Dispa-SET_Unleash/Database/ntc/15min/2018.csv\n"
     ]
    }
   ],
   "source": [
    "# Define the subfolder names\n",
    "subfolders = ['1h', '30min', '15min']\n",
    "\n",
    "# Function to copy files\n",
    "def copy_files(data_year, source_base_path, dest_base_path, subfolders):\n",
    "    for subfolder in subfolders:\n",
    "        source_path = os.path.join(source_base_path, subfolder, f\"{data_year}.csv\")\n",
    "        dest_folder_path = os.path.join(dest_base_path, subfolder)\n",
    "\n",
    "        # Create the destination subfolder if it does not exist\n",
    "        os.makedirs(dest_folder_path, exist_ok=True)\n",
    "\n",
    "        dest_path = os.path.join(dest_folder_path, f\"{data_year}.csv\")\n",
    "        \n",
    "        # Copy the file\n",
    "        if os.path.isfile(source_path):\n",
    "            shutil.copy2(source_path, dest_path)\n",
    "            print(f\"Copied {source_path} to {dest_path}\")\n",
    "        else:\n",
    "            print(f\"File {source_path} does not exist\")\n",
    "\n",
    "# Call the function\n",
    "copy_files(data_year, ntc_folder_path, ntc_data_base_folder_path, subfolders)"
   ]
  },
  {
   "cell_type": "markdown",
   "id": "6067f566-b39a-406b-9c6c-fdfc2db3ccdb",
   "metadata": {},
   "source": [
    "<div style=\"text-align: justify; margin-left: 3.0em; font-weight: bold; font-size: 17px; font-family: TimesNewRoman; color:skyblue\">\n",
    "8. Net Transfer Capacity Folder Back Up\n",
    "</div>\n",
    "<div style=\"text-align: justify; margin-left: 0em; font-weight: unbold; font-size: 14px; font-family: TimesNewRoman; color:skyblue\">\n",
    "Once all the formating process was done the Net Tranfer Capacity Folder is restored to its defoult state.\n",
    "</div>"
   ]
  },
  {
   "cell_type": "code",
   "execution_count": 22,
   "id": "4d8b6f06-5e36-4f07-b4eb-3ec64d0821c5",
   "metadata": {},
   "outputs": [
    {
     "name": "stdout",
     "output_type": "stream",
     "text": [
      "Directory restored to original state from /home/ray/Dispa-SET_Unleash/RawData/NTC_backup/\n"
     ]
    }
   ],
   "source": [
    "if os.path.exists(ntc_folder_path):\n",
    "    shutil.rmtree(ntc_folder_path)  # Remove the current directory\n",
    "shutil.copytree(backup_folder_path, ntc_folder_path)\n",
    "\n",
    "print(f\"Directory restored to original state from {backup_folder_path}\")"
   ]
  },
  {
   "cell_type": "code",
   "execution_count": 23,
   "id": "268abb6f-1a9f-4efc-a1ef-04e86248c780",
   "metadata": {},
   "outputs": [
    {
     "name": "stdout",
     "output_type": "stream",
     "text": [
      "Backup folder /home/ray/Dispa-SET_Unleash/RawData/NTC_backup/ deleted successfully.\n"
     ]
    }
   ],
   "source": [
    "shutil.rmtree(backup_folder_path)\n",
    "print(f\"Backup folder {backup_folder_path} deleted successfully.\")"
   ]
  },
  {
   "cell_type": "code",
   "execution_count": null,
   "id": "28af9f14-f633-4ed4-8234-0d6c40dc8f38",
   "metadata": {},
   "outputs": [],
   "source": []
  }
 ],
 "metadata": {
  "kernelspec": {
   "display_name": "Python 3 (Spyder)",
   "language": "python3",
   "name": "python3"
  },
  "language_info": {
   "codemirror_mode": {
    "name": "ipython",
    "version": 3
   },
   "file_extension": ".py",
   "mimetype": "text/x-python",
   "name": "python",
   "nbconvert_exporter": "python",
   "pygments_lexer": "ipython3",
   "version": "3.11.7"
  }
 },
 "nbformat": 4,
 "nbformat_minor": 5
}
