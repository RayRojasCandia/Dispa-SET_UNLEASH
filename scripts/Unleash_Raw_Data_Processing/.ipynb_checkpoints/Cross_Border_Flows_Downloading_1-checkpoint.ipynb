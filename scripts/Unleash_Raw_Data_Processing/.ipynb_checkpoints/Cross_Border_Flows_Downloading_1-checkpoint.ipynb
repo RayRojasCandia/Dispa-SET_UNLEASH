{
 "cells": [
  {
   "cell_type": "markdown",
   "id": "0a1b304a-dd34-4e3e-ac28-5f54db43a844",
   "metadata": {},
   "source": [
    "<div style=\"text-align: center; margin-left: 0em; font-weight: bold; font-size: 20px; font-family: TimesNewRoman; color: skyblue\">\n",
    "    TIME SERIES DATA PROCESSING\n",
    "    <br>\n",
    "    CROSS BORDER FLOWS\n",
    "<div style=\"text-align: center; margin-left: 0em; font-weight: bold; font-size: 18px; font-family: TimesNewRoman; color: skyblue\">\n",
    "    Raw Data Downloading Notebook\n",
    "</div>\n",
    "</div>\n",
    "<br>\n",
    "<div style=\"text-align: justify; margin-left: 0em; font-weight: unbold; font-size: 14px; font-family: TimesNewRoman; color: skyblue\">\n",
    "Each part of the following script was used to download the raw data for the Cross Border Flows Time Series Raw Data for all the european countries of the Dispa-SET_Unleash project.\n",
    "<br>\n",
    "Read explanation text cells to follow and understand all the process until final results were got stept by step.\n",
    "</div>\n",
    "<br>\n",
    "<div style=\"text-align: justify; margin-left: 3.0em; font-weight: bold; font-size: 18px; font-family: TimesNewRoman; color:skyblue\">\n",
    "    1. Notebook Set Up\n",
    "</div>\n",
    "<div style=\"text-align: justify; margin-left: 0.0em; font-weight: unbold; font-size: 14px; font-family: TimesNewRoman; color:skyblue\">\n",
    "    Importing needed libraries\n",
    "</div>"
   ]
  },
  {
   "cell_type": "code",
   "execution_count": 1,
   "id": "a590ae9c-56f6-4dbf-a4f4-9f39b4fa21eb",
   "metadata": {},
   "outputs": [],
   "source": [
    "import pandas as pd\n",
    "from entsoe import EntsoePandasClient\n",
    "from entsoe.exceptions import NoMatchingDataError  # Ensure this line is included\n",
    "from entsoe.exceptions import NoMatchingDataError, InvalidBusinessParameterError  # Import relevant exceptions\n",
    "import os\n",
    "import csv\n",
    "from datetime import datetime\n",
    "import pytz\n",
    "from pytz import timezone, utc\n",
    "import shutil"
   ]
  },
  {
   "cell_type": "markdown",
   "id": "1de47724-25dd-456b-90ed-5b0f0f73cbb5",
   "metadata": {},
   "source": [
    " <div style=\"text-align: justify; margin-left: 3.0em; font-weight: bold; font-size: 18px; font-family: TimesNewRoman; color:skyblue\">\n",
    "    2. ENTSO-E RESTful API.\n",
    "</div>\n",
    "<div style=\"text-align: justify; margin-left: 0.0em; font-weight: unbold; font-size: 14px; font-family: TimesNewRoman;color:skyblue\">\n",
    "Connecting with the ENTSO-E API Tool.\n",
    "</div>\n",
    "<div style=\"text-align: justify; margin-left: 2.0em; font-weight: unbold; font-size: 13px; font-family: TimesNewRoman;color:skyblue\">\n",
    "To donwload the neeeded data using the API tool, is mandatory to use a token autentication to connect and make the future request of data.\n",
    "</div>"
   ]
  },
  {
   "cell_type": "code",
   "execution_count": 2,
   "id": "e6899aaf-90da-463a-b5e6-6092997b2312",
   "metadata": {},
   "outputs": [],
   "source": [
    "client = EntsoePandasClient(api_key='61e5bbbb-7e80-4540-a471-bd993873aa74')"
   ]
  },
  {
   "cell_type": "markdown",
   "id": "5dd2e76f-2442-4fdd-b2db-b3b71f3f544b",
   "metadata": {},
   "source": [
    "<div style=\"text-align: justify; margin-left: 3.0em; font-weight: bold; font-size: 18px; font-family: TimesNewRoman;color:skyblue\">\n",
    "    3. Dispa-SET_Unleash Folder Path\n",
    "</div>\n",
    "<div style=\"text-align: justify; margin-left: 0.0em; font-weight: unbold; font-size: 14px; font-family: TimesNewRoman;color:skyblue\">\n",
    "    Determinning dynamically the zone_folder_path based on the location of the \"Dispa-SET_Unleash\" folder relative to the current working directory.\n",
    "</div>\n",
    "<div style=\"text-align: justify; margin-left: 2.0em; font-weight: unbold; font-size: 13px; font-family: TimesNewRoman;color:skyblue\">\n",
    "If the \"Dispa-SET_Unleash\" folder is copied to a different machine or location, the dispaSET_unleash_folder_path variable will automatically adjust accordingly.\n",
    "</div>"
   ]
  },
  {
   "cell_type": "code",
   "execution_count": 3,
   "id": "8926675d-6398-4db7-80cd-42c829b7b0e1",
   "metadata": {},
   "outputs": [
    {
     "name": "stdout",
     "output_type": "stream",
     "text": [
      "dispaSET_unleash_folder_name: Dispa-SET_Unleash\n",
      "dispaSET_unleash_folder_path: /home/ray/Dispa-SET_Unleash\n"
     ]
    }
   ],
   "source": [
    "# Get the current working directory\n",
    "current_directory = os.getcwd()\n",
    "\n",
    "# Navigate to the parent directory of \"Dispa-SET_Unleash\"\n",
    "dispaSET_unleash_parent_directory = os.path.dirname(current_directory)\n",
    "\n",
    "# Get the path to the \"Dispa-SET_Unleash\" folder\n",
    "dispaSET_unleash_folder_path = os.path.dirname(dispaSET_unleash_parent_directory)\n",
    "\n",
    "# Construct the dispaSET_unleash_folder_name variable\n",
    "dispaSET_unleash_folder_name = os.path.basename(dispaSET_unleash_folder_path)\n",
    "\n",
    "print(\"dispaSET_unleash_folder_name:\", dispaSET_unleash_folder_name)\n",
    "print(\"dispaSET_unleash_folder_path:\", dispaSET_unleash_folder_path)"
   ]
  },
  {
   "cell_type": "markdown",
   "id": "8f38b8cd-b666-4738-9813-f1fbeb216ab7",
   "metadata": {},
   "source": [
    "<div style=\"text-align: justify; margin-left: 3.0em; font-weight: bold; font-size: 18px; font-family: TimesNewRoman;color:skyblue\">\n",
    "    4. Usefull Variable Definition\n",
    "</div>\n",
    "<div style=\"text-align: justify; margin-left: 0.0em; font-weight: unbold; font-size: 14px; font-family: TimesNewRoman;color:skyblue\">\n",
    "Entering a value to all the variables which content are going to be used in some of the next stages of this script. \n",
    "</div>\n",
    "<div style=\"text-align: justify; margin-left: 2.0em; font-weight: unbold; font-size: 13px; font-family: TimesNewRoman;color:skyblue\">\n",
    "Indicating the year of all data is referring to in the variable data_year.\n",
    "<br>\n",
    "The universal_standar_time variable is going to be used to download all the time series data in this horary zone. Additionally as each european country belongs a particular time sector the corresponding time series data related to its time sector are going to be downloaded as well but in a different file.\n",
    "<br>\n",
    "Additionally there are some default parameters that has to be defined to the correct working and calling to the ENTSO-E downloading functions.\n",
    "</div>"
   ]
  },
  {
   "cell_type": "code",
   "execution_count": 4,
   "id": "17cff013-7efc-43b0-a572-8f32f1f9a920",
   "metadata": {},
   "outputs": [],
   "source": [
    "# Year to which data refers to:\n",
    "data_year = 2022\n",
    "data_year_1 = data_year + 1"
   ]
  },
  {
   "cell_type": "code",
   "execution_count": 5,
   "id": "7fe94548-6223-4ace-9793-b857b53e2ad8",
   "metadata": {},
   "outputs": [
    {
     "name": "stdout",
     "output_type": "stream",
     "text": [
      "cross_border_flows_folder_path: /home/ray/Dispa-SET_Unleash/RawData/CrossBorderFlows/\n",
      "cross_border_flows_raw_data_folder_path: /home/ray/Dispa-SET_Unleash/RawData/CrossBorderFlows/Raw_Data_Sources/\n"
     ]
    }
   ],
   "source": [
    "# Additional string to be appended\n",
    "additional_path = \"/RawData/CrossBorderFlows/\"\n",
    "additional_path_1 = \"/RawData/CrossBorderFlows/Raw_Data_Sources/\"\n",
    "\n",
    "# Construct the Outage_Factors_folder_path variable\n",
    "cross_border_flows_folder_path = dispaSET_unleash_folder_path + additional_path\n",
    "\n",
    "# Construct the Outage_Factors_Raw_Data_folder_path variable\n",
    "cross_border_flows_raw_data_folder_path = dispaSET_unleash_folder_path + additional_path_1\n",
    "\n",
    "print(\"cross_border_flows_folder_path:\", cross_border_flows_folder_path)\n",
    "print(\"cross_border_flows_raw_data_folder_path:\", cross_border_flows_raw_data_folder_path)"
   ]
  },
  {
   "cell_type": "code",
   "execution_count": 6,
   "id": "ab19470a-140b-4a86-a0c9-32f845c3497a",
   "metadata": {},
   "outputs": [],
   "source": [
    "# Define other parameters\n",
    "type_marketagreement_type = 'A01'\n",
    "contract_marketagreement_type = \"A01\"\n",
    "process_type = 'A51'"
   ]
  },
  {
   "cell_type": "markdown",
   "id": "d610c8df-68ce-40aa-af2e-d67c3b2df7a0",
   "metadata": {},
   "source": [
    "<div style=\"text-align: justify; margin-left: 3.0em; font-weight: bold; font-size: 18px; font-family: TimesNewRoman;color:skyblue\">\n",
    "    5. Country List Variable Definition\n",
    "</div>\n",
    "<div style=\"text-align: justify; margin-left: 0.0em; font-weight: unbold; font-size: 14px; font-family: TimesNewRoman;color:skyblue\">\n",
    "Defining the list of countries according to the available data. \n",
    "</div>\n",
    "<div style=\"text-align: justify; margin-left: 2.0em; font-weight: unbold; font-size: 13px; font-family: TimesNewRoman;color:skyblue\">\n",
    "Just those countries that interchange flows with other countries different of the ones modelled in Dispa-SET are defined in the list.\n",
    "</div>"
   ]
  },
  {
   "cell_type": "code",
   "execution_count": 7,
   "id": "9485328c-cd02-43c9-a78d-ad5c22cff2af",
   "metadata": {},
   "outputs": [],
   "source": [
    "# Define a list of country codes\n",
    "cross_border_flows_per_unit_country_list = [\"AL\",\n",
    "                                            \"AT\",\n",
    "                                            \"BA\",\n",
    "                                            \"BE\",\n",
    "                                            \"BG\",\n",
    "                                            \"BY\",\n",
    "                                            \"CH\",\n",
    "                                            \"CY\",\n",
    "                                            \"CZ\",\n",
    "                                            \"DE\",\n",
    "                                            \"DK\",\n",
    "                                            \"EE\",\n",
    "                                            \"ES\",\n",
    "                                            \"FI\",\n",
    "                                            \"FR\",\n",
    "                                            \"GR\",\n",
    "                                            \"HR\",\n",
    "                                            \"HU\",\n",
    "                                            \"IE\",\n",
    "                                            \"IT\",\n",
    "                                            \"LT\",\n",
    "                                            \"LU\",\n",
    "                                            \"LV\",\n",
    "                                            \"MD\",\n",
    "                                            \"ME\",\n",
    "                                            \"MK\",\n",
    "                                            \"MT\",\n",
    "                                            \"NL\",\n",
    "                                            \"NO\",\n",
    "                                            \"PL\",\n",
    "                                            \"PT\",\n",
    "                                            \"RO\",\n",
    "                                            \"RU\",\n",
    "                                            \"RS\",\n",
    "                                            \"SE\",\n",
    "                                            \"SI\",\n",
    "                                            \"SK\",\n",
    "                                            \"TR\",\n",
    "                                            \"UA\",\n",
    "                                            \"UK\"\n",
    "                                           ]"
   ]
  },
  {
   "cell_type": "code",
   "execution_count": 8,
   "id": "1f959e45-e5f2-4856-831d-454684b52816",
   "metadata": {},
   "outputs": [
    {
     "name": "stdout",
     "output_type": "stream",
     "text": [
      "DataFrame saved to '/home/ray/Dispa-SET_Unleash/RawData/CrossBorderFlows/Raw_Data_Sources/country_list.csv'\n"
     ]
    }
   ],
   "source": [
    "# Define the directory and file path\n",
    "file_name = 'country_list.csv'\n",
    "file_path = os.path.join(cross_border_flows_raw_data_folder_path, file_name)\n",
    "\n",
    "# Ensure the directory exists\n",
    "os.makedirs(cross_border_flows_raw_data_folder_path, exist_ok=True)\n",
    "\n",
    "# Create a DataFrame\n",
    "df = pd.DataFrame(cross_border_flows_per_unit_country_list, columns=['Country_From'])\n",
    "\n",
    "# Save the DataFrame to a CSV file\n",
    "df.to_csv(file_path, index=False)\n",
    "\n",
    "print(f\"DataFrame saved to '{file_path}'\")\n",
    "cross_border_flows_country_list_file = file_path"
   ]
  },
  {
   "cell_type": "markdown",
   "id": "32e96e3b-c1f7-4dd1-b455-107f8f37d533",
   "metadata": {},
   "source": [
    "<div style=\"text-align: right; margin-left: 3.0em; font-weight: unbold; font-size: 14px; font-family: TimesNewRoman;color:skyblue\">\n",
    "    Tracking Variables. \n",
    "    <br>\n",
    "    <div style=\"text-align: right; margin-left: 1.50em; font-weight: unbold; font-size: 13px; font-family: TimesNewRoman;\">\n",
    "    This cells are just to confirm all the file names, file paths and other information related to the data being processed.\n",
    "    <br>\n",
    "  Also are used to ensure the inputs for next cells in order to avoid to re-enter the same information each time.\n",
    "</div>"
   ]
  },
  {
   "cell_type": "code",
   "execution_count": 9,
   "id": "b2d3ed6b-4f59-4092-a51c-e1e71c833e59",
   "metadata": {},
   "outputs": [
    {
     "name": "stdout",
     "output_type": "stream",
     "text": [
      "dispaSET_unleash_folder_name:                              Dispa-SET_Unleash\n",
      "dispaSET_unleash_folder_path:                              /home/ray/Dispa-SET_Unleash\n",
      "data_year:                                                 2022\n",
      "cross_border_flows_folder_path:                            /home/ray/Dispa-SET_Unleash/RawData/CrossBorderFlows/\n",
      "cross_border_flows_raw_data_folder_path:                   /home/ray/Dispa-SET_Unleash/RawData/CrossBorderFlows/Raw_Data_Sources/\n",
      "cross_border_flows_country_list_file:                      /home/ray/Dispa-SET_Unleash/RawData/CrossBorderFlows/Raw_Data_Sources/country_list.csv\n"
     ]
    }
   ],
   "source": [
    "print (f\"dispaSET_unleash_folder_name:                              {dispaSET_unleash_folder_name}\")\n",
    "print (f\"dispaSET_unleash_folder_path:                              {dispaSET_unleash_folder_path}\")\n",
    "print (f\"data_year:                                                 {data_year}\")\n",
    "print (f\"cross_border_flows_folder_path:                            {cross_border_flows_folder_path}\")   \n",
    "print (f\"cross_border_flows_raw_data_folder_path:                   {cross_border_flows_raw_data_folder_path}\")\n",
    "print (f\"cross_border_flows_country_list_file:                      {cross_border_flows_country_list_file}\")"
   ]
  },
  {
   "cell_type": "markdown",
   "id": "6e88b8d7-8432-4155-a9c7-c1731043ee24",
   "metadata": {},
   "source": [
    "<div style=\"text-align: justify; margin-left: 0.0em; font-weight: unbold; font-size: 14px; font-family: TimesNewRoman;color:skyblue\">\n",
    "Defining the sub-folders where all the cross border flows raw data is saved. \n",
    "</div>"
   ]
  },
  {
   "cell_type": "code",
   "execution_count": 10,
   "id": "14f38fa4-bfc9-44fd-862e-18fecb61998f",
   "metadata": {},
   "outputs": [
    {
     "name": "stdout",
     "output_type": "stream",
     "text": [
      "Updated CSV file saved to '/home/ray/Dispa-SET_Unleash/RawData/CrossBorderFlows/Raw_Data_Sources/country_list.csv' with new subfolders created.\n"
     ]
    }
   ],
   "source": [
    "# Convert data_year to string if it's not already\n",
    "data_year = str(data_year)\n",
    "\n",
    "# Read the CSV file into a DataFrame\n",
    "df = pd.read_csv(cross_border_flows_country_list_file)\n",
    "\n",
    "# Ensure the column 'Country_From' exists\n",
    "if 'Country_From' not in df.columns:\n",
    "    raise ValueError(\"Column 'Country_From' does not exist in the CSV file\")\n",
    "\n",
    "# Define the base directory where subfolders will be created\n",
    "base_directory = os.path.join(cross_border_flows_raw_data_folder_path, data_year)\n",
    "\n",
    "# Create a list to hold the paths of the created subfolders\n",
    "country_folder_paths = []\n",
    "\n",
    "# Create subfolders and save their paths\n",
    "for country in df['Country_From']:\n",
    "    # Create the subfolder path\n",
    "    subfolder_path = os.path.join(base_directory, country)\n",
    "    \n",
    "    # Create the subfolder if it doesn't exist\n",
    "    os.makedirs(subfolder_path, exist_ok=True)\n",
    "    \n",
    "    # Append the subfolder path to the list\n",
    "    country_folder_paths.append(subfolder_path)\n",
    "\n",
    "# Add the new column 'Country_Folder' to the DataFrame\n",
    "df['Country_Folder'] = country_folder_paths\n",
    "\n",
    "# Save the updated DataFrame back to the CSV file\n",
    "df.to_csv(cross_border_flows_country_list_file, index=False)\n",
    "\n",
    "print(f\"Updated CSV file saved to '{cross_border_flows_country_list_file}' with new subfolders created.\")"
   ]
  },
  {
   "cell_type": "markdown",
   "id": "84c69f72-aa17-4308-8525-710e0c91ae83",
   "metadata": {},
   "source": [
    "<div style=\"text-align: justify; margin-left: 0.0em; font-weight: unbold; font-size: 14px; font-family: TimesNewRoman;color:skyblue\">\n",
    "Defining the neighbor countries. \n",
    "</div>"
   ]
  },
  {
   "cell_type": "code",
   "execution_count": 11,
   "id": "92a1e488-9093-4e10-94c8-14ba4433958e",
   "metadata": {},
   "outputs": [
    {
     "name": "stdout",
     "output_type": "stream",
     "text": [
      "Data appended to '/home/ray/Dispa-SET_Unleash/RawData/CrossBorderFlows/Raw_Data_Sources/country_list.csv' as new columns\n"
     ]
    }
   ],
   "source": [
    "import pandas as pd\n",
    "\n",
    "# Raw data as a multiline string\n",
    "data = \"\"\"\n",
    "GR\n",
    "CZ, DE, HU, IT, SI, CH\n",
    "HR\n",
    "FR, DE, LU, NL, UK\n",
    "GR, RO, MK, RS, TR\n",
    "LT\n",
    "AT, FR, DE, IT\n",
    "\n",
    "AT, DE, PL, SK\n",
    "AT, BE, CZ, DK, FR, LU, NL, NO, PL, SE, CH\n",
    "DE, NL, NO, SE, UK\n",
    "FI, LV, RU\n",
    "FR, PT\n",
    "EE, NO, SE, RU\n",
    "BE, DE, IT, ES, CH, UK\n",
    "BG, IT, AL, MK, TR\n",
    "HU, SI, BA, RS\n",
    "AT, HR, RO, SK, SI, RS, UA\n",
    "UK\n",
    "AT, FR, GR, MT, SI, CH, MT, ME\n",
    "LV, PL, SE, BY, RU\n",
    "BE, DE\n",
    "EE, LT, RU\n",
    "RO\n",
    "IT\n",
    "BG, GR\n",
    "IT\n",
    "BE, DK, DE, NO, UK\n",
    "DK, FI, DE, NL, SE, UK\n",
    "CZ, DE, LT, SK, SE, UA\n",
    "ES\n",
    "BG, HU, MD, RS, UA\n",
    "EE, FI, LV, LT\n",
    "BG, HR, HU, RO\n",
    "DK, FI, DE, LT, NO, PL\n",
    "AT, HR, HU, IT\n",
    "CZ, HU, PL, UA\n",
    "BG, GR\n",
    "HU, PL, RO, SK\n",
    "BE, DK, FR, IE, NL, NO\n",
    "\"\"\"\n",
    "\n",
    "# Split the data into lines\n",
    "lines = data.strip().split(\"\\n\")\n",
    "\n",
    "# Initialize a list to hold the data\n",
    "data_list = []\n",
    "\n",
    "# Process each line\n",
    "for line in lines:\n",
    "    if line.strip() == \"\":\n",
    "        # If the line is empty, add an empty list\n",
    "        data_list.append([\"\"] * 4)\n",
    "    else:\n",
    "        neighbors = line.split(\", \")\n",
    "        # Ensure the neighbors list has exactly 4 items\n",
    "        neighbors = neighbors + [\"\"] * (4 - len(neighbors))  # Fill with empty strings if less than 4\n",
    "        neighbors = neighbors[:4]  # Truncate if more than 4\n",
    "        data_list.append(neighbors)\n",
    "\n",
    "# Create the DataFrame for new data\n",
    "new_df = pd.DataFrame(data_list, columns=[f\"Neighbor_{i}\" for i in range(1, 5)])\n",
    "\n",
    "# Path to the existing CSV file\n",
    "existing_csv_file_path = cross_border_flows_country_list_file  # Update this path\n",
    "\n",
    "# Read the existing CSV file into a DataFrame\n",
    "existing_df = pd.read_csv(existing_csv_file_path)\n",
    "\n",
    "# Concatenate the existing DataFrame with the new DataFrame horizontally\n",
    "combined_df = pd.concat([existing_df, new_df], axis=1)\n",
    "\n",
    "# Save the combined DataFrame back to the CSV file\n",
    "combined_df.to_csv(existing_csv_file_path, index=False)\n",
    "\n",
    "print(f\"Data appended to '{existing_csv_file_path}' as new columns\")\n"
   ]
  },
  {
   "cell_type": "markdown",
   "id": "c51abf96-5094-435e-948f-5e1ea885518f",
   "metadata": {},
   "source": [
    "<div style=\"text-align: justify; margin-left: 3.0em; font-weight: bold; font-size: 18px; font-family: TimesNewRoman;color:skyblue\">\n",
    "    6. Raw Data Download\n",
    "</div>\n",
    "<div style=\"text-align: justify; margin-left: 0.0em; font-weight: unbold; font-size: 14px; font-family: TimesNewRoman;color:skyblue\">\n",
    "Donwloading the cross border flows raw data. \n",
    "</div>\n",
    "<div style=\"text-align: justify; margin-left: 2.0em; font-weight: unbold; font-size: 13px; font-family: TimesNewRoman;color:skyblue\">\n",
    "The crows border flow data is downloaded in separate files for each country.\n",
    "<br>\n",
    "Since the Acronym of Grece in the downloaded data is 'GR' and the Dispa-SET format for the country is 'EL'. All the needed changes in the used variables are done.\n",
    "<br>\n",
    "The downloaded files will be joined into a single csv file under the name of the country which the flow comes from.\n",
    "<br>\n",
    "The headers of these joined csv files are changed accordign the Dispa-SET cross border flow data format e.g. BE -> DE\n",
    "</div>"
   ]
  },
  {
   "cell_type": "code",
   "execution_count": 12,
   "id": "a7a37faa-8f4e-4cf6-98af-f10f1bab227a",
   "metadata": {},
   "outputs": [
    {
     "name": "stdout",
     "output_type": "stream",
     "text": [
      "Data for AL to GR saved to '/home/ray/Dispa-SET_Unleash/RawData/CrossBorderFlows/Raw_Data_Sources/2022/AL/GR.csv'\n",
      "Data for AT to CZ saved to '/home/ray/Dispa-SET_Unleash/RawData/CrossBorderFlows/Raw_Data_Sources/2022/AT/CZ.csv'\n",
      "Data for AT to DE saved to '/home/ray/Dispa-SET_Unleash/RawData/CrossBorderFlows/Raw_Data_Sources/2022/AT/DE.csv'\n",
      "Data for AT to HU saved to '/home/ray/Dispa-SET_Unleash/RawData/CrossBorderFlows/Raw_Data_Sources/2022/AT/HU.csv'\n",
      "Data for AT to IT saved to '/home/ray/Dispa-SET_Unleash/RawData/CrossBorderFlows/Raw_Data_Sources/2022/AT/IT.csv'\n",
      "Data for BA to HR saved to '/home/ray/Dispa-SET_Unleash/RawData/CrossBorderFlows/Raw_Data_Sources/2022/BA/HR.csv'\n",
      "Data for BE to FR saved to '/home/ray/Dispa-SET_Unleash/RawData/CrossBorderFlows/Raw_Data_Sources/2022/BE/FR.csv'\n",
      "Data for BE to DE saved to '/home/ray/Dispa-SET_Unleash/RawData/CrossBorderFlows/Raw_Data_Sources/2022/BE/DE.csv'\n",
      "Data for BE to LU saved to '/home/ray/Dispa-SET_Unleash/RawData/CrossBorderFlows/Raw_Data_Sources/2022/BE/LU.csv'\n",
      "Data for BE to NL saved to '/home/ray/Dispa-SET_Unleash/RawData/CrossBorderFlows/Raw_Data_Sources/2022/BE/NL.csv'\n",
      "Data for BG to GR saved to '/home/ray/Dispa-SET_Unleash/RawData/CrossBorderFlows/Raw_Data_Sources/2022/BG/GR.csv'\n",
      "Data for BG to RO saved to '/home/ray/Dispa-SET_Unleash/RawData/CrossBorderFlows/Raw_Data_Sources/2022/BG/RO.csv'\n",
      "Data for BG to MK saved to '/home/ray/Dispa-SET_Unleash/RawData/CrossBorderFlows/Raw_Data_Sources/2022/BG/MK.csv'\n",
      "Data for BG to RS saved to '/home/ray/Dispa-SET_Unleash/RawData/CrossBorderFlows/Raw_Data_Sources/2022/BG/RS.csv'\n",
      "Data for BY to LT saved to '/home/ray/Dispa-SET_Unleash/RawData/CrossBorderFlows/Raw_Data_Sources/2022/BY/LT.csv'\n",
      "Data for CH to AT saved to '/home/ray/Dispa-SET_Unleash/RawData/CrossBorderFlows/Raw_Data_Sources/2022/CH/AT.csv'\n",
      "Data for CH to FR saved to '/home/ray/Dispa-SET_Unleash/RawData/CrossBorderFlows/Raw_Data_Sources/2022/CH/FR.csv'\n",
      "Data for CH to DE saved to '/home/ray/Dispa-SET_Unleash/RawData/CrossBorderFlows/Raw_Data_Sources/2022/CH/DE.csv'\n",
      "Data for CH to IT saved to '/home/ray/Dispa-SET_Unleash/RawData/CrossBorderFlows/Raw_Data_Sources/2022/CH/IT.csv'\n",
      "Data for CZ to AT saved to '/home/ray/Dispa-SET_Unleash/RawData/CrossBorderFlows/Raw_Data_Sources/2022/CZ/AT.csv'\n",
      "Data for CZ to DE saved to '/home/ray/Dispa-SET_Unleash/RawData/CrossBorderFlows/Raw_Data_Sources/2022/CZ/DE.csv'\n",
      "Data for CZ to PL saved to '/home/ray/Dispa-SET_Unleash/RawData/CrossBorderFlows/Raw_Data_Sources/2022/CZ/PL.csv'\n",
      "Data for CZ to SK saved to '/home/ray/Dispa-SET_Unleash/RawData/CrossBorderFlows/Raw_Data_Sources/2022/CZ/SK.csv'\n",
      "Data for DE to AT saved to '/home/ray/Dispa-SET_Unleash/RawData/CrossBorderFlows/Raw_Data_Sources/2022/DE/AT.csv'\n",
      "Data for DE to BE saved to '/home/ray/Dispa-SET_Unleash/RawData/CrossBorderFlows/Raw_Data_Sources/2022/DE/BE.csv'\n",
      "Data for DE to CZ saved to '/home/ray/Dispa-SET_Unleash/RawData/CrossBorderFlows/Raw_Data_Sources/2022/DE/CZ.csv'\n",
      "Data for DE to DK saved to '/home/ray/Dispa-SET_Unleash/RawData/CrossBorderFlows/Raw_Data_Sources/2022/DE/DK.csv'\n",
      "Data for DK to DE saved to '/home/ray/Dispa-SET_Unleash/RawData/CrossBorderFlows/Raw_Data_Sources/2022/DK/DE.csv'\n",
      "Data for DK to NL saved to '/home/ray/Dispa-SET_Unleash/RawData/CrossBorderFlows/Raw_Data_Sources/2022/DK/NL.csv'\n",
      "Data for DK to NO saved to '/home/ray/Dispa-SET_Unleash/RawData/CrossBorderFlows/Raw_Data_Sources/2022/DK/NO.csv'\n",
      "Data for DK to SE saved to '/home/ray/Dispa-SET_Unleash/RawData/CrossBorderFlows/Raw_Data_Sources/2022/DK/SE.csv'\n",
      "Data for EE to FI saved to '/home/ray/Dispa-SET_Unleash/RawData/CrossBorderFlows/Raw_Data_Sources/2022/EE/FI.csv'\n",
      "Data for EE to LV saved to '/home/ray/Dispa-SET_Unleash/RawData/CrossBorderFlows/Raw_Data_Sources/2022/EE/LV.csv'\n",
      "Data for EE to RU saved to '/home/ray/Dispa-SET_Unleash/RawData/CrossBorderFlows/Raw_Data_Sources/2022/EE/RU.csv'\n",
      "Data for ES to FR saved to '/home/ray/Dispa-SET_Unleash/RawData/CrossBorderFlows/Raw_Data_Sources/2022/ES/FR.csv'\n",
      "Data for ES to PT saved to '/home/ray/Dispa-SET_Unleash/RawData/CrossBorderFlows/Raw_Data_Sources/2022/ES/PT.csv'\n",
      "Data for FI to EE saved to '/home/ray/Dispa-SET_Unleash/RawData/CrossBorderFlows/Raw_Data_Sources/2022/FI/EE.csv'\n",
      "Data for FI to NO saved to '/home/ray/Dispa-SET_Unleash/RawData/CrossBorderFlows/Raw_Data_Sources/2022/FI/NO.csv'\n",
      "Data for FI to SE saved to '/home/ray/Dispa-SET_Unleash/RawData/CrossBorderFlows/Raw_Data_Sources/2022/FI/SE.csv'\n",
      "Data for FI to RU saved to '/home/ray/Dispa-SET_Unleash/RawData/CrossBorderFlows/Raw_Data_Sources/2022/FI/RU.csv'\n",
      "Data for FR to BE saved to '/home/ray/Dispa-SET_Unleash/RawData/CrossBorderFlows/Raw_Data_Sources/2022/FR/BE.csv'\n",
      "Data for FR to DE saved to '/home/ray/Dispa-SET_Unleash/RawData/CrossBorderFlows/Raw_Data_Sources/2022/FR/DE.csv'\n",
      "Data for FR to IT saved to '/home/ray/Dispa-SET_Unleash/RawData/CrossBorderFlows/Raw_Data_Sources/2022/FR/IT.csv'\n",
      "Data for FR to ES saved to '/home/ray/Dispa-SET_Unleash/RawData/CrossBorderFlows/Raw_Data_Sources/2022/FR/ES.csv'\n",
      "Data for GR to BG saved to '/home/ray/Dispa-SET_Unleash/RawData/CrossBorderFlows/Raw_Data_Sources/2022/GR/BG.csv'\n",
      "Data for GR to IT saved to '/home/ray/Dispa-SET_Unleash/RawData/CrossBorderFlows/Raw_Data_Sources/2022/GR/IT.csv'\n",
      "Data for GR to AL saved to '/home/ray/Dispa-SET_Unleash/RawData/CrossBorderFlows/Raw_Data_Sources/2022/GR/AL.csv'\n",
      "Data for GR to MK saved to '/home/ray/Dispa-SET_Unleash/RawData/CrossBorderFlows/Raw_Data_Sources/2022/GR/MK.csv'\n",
      "Data for HR to HU saved to '/home/ray/Dispa-SET_Unleash/RawData/CrossBorderFlows/Raw_Data_Sources/2022/HR/HU.csv'\n",
      "Data for HR to SI saved to '/home/ray/Dispa-SET_Unleash/RawData/CrossBorderFlows/Raw_Data_Sources/2022/HR/SI.csv'\n",
      "Data for HR to BA saved to '/home/ray/Dispa-SET_Unleash/RawData/CrossBorderFlows/Raw_Data_Sources/2022/HR/BA.csv'\n",
      "Data for HR to RS saved to '/home/ray/Dispa-SET_Unleash/RawData/CrossBorderFlows/Raw_Data_Sources/2022/HR/RS.csv'\n",
      "Data for HU to AT saved to '/home/ray/Dispa-SET_Unleash/RawData/CrossBorderFlows/Raw_Data_Sources/2022/HU/AT.csv'\n",
      "Data for HU to HR saved to '/home/ray/Dispa-SET_Unleash/RawData/CrossBorderFlows/Raw_Data_Sources/2022/HU/HR.csv'\n",
      "Data for HU to RO saved to '/home/ray/Dispa-SET_Unleash/RawData/CrossBorderFlows/Raw_Data_Sources/2022/HU/RO.csv'\n",
      "Data for HU to SK saved to '/home/ray/Dispa-SET_Unleash/RawData/CrossBorderFlows/Raw_Data_Sources/2022/HU/SK.csv'\n",
      "Data for IE to UK saved to '/home/ray/Dispa-SET_Unleash/RawData/CrossBorderFlows/Raw_Data_Sources/2022/IE/UK.csv'\n",
      "Data for IT to AT saved to '/home/ray/Dispa-SET_Unleash/RawData/CrossBorderFlows/Raw_Data_Sources/2022/IT/AT.csv'\n",
      "Data for IT to FR saved to '/home/ray/Dispa-SET_Unleash/RawData/CrossBorderFlows/Raw_Data_Sources/2022/IT/FR.csv'\n",
      "Data for IT to GR saved to '/home/ray/Dispa-SET_Unleash/RawData/CrossBorderFlows/Raw_Data_Sources/2022/IT/GR.csv'\n",
      "Data for IT to MT saved to '/home/ray/Dispa-SET_Unleash/RawData/CrossBorderFlows/Raw_Data_Sources/2022/IT/MT.csv'\n",
      "Data for LT to LV saved to '/home/ray/Dispa-SET_Unleash/RawData/CrossBorderFlows/Raw_Data_Sources/2022/LT/LV.csv'\n",
      "Data for LT to PL saved to '/home/ray/Dispa-SET_Unleash/RawData/CrossBorderFlows/Raw_Data_Sources/2022/LT/PL.csv'\n",
      "Data for LT to SE saved to '/home/ray/Dispa-SET_Unleash/RawData/CrossBorderFlows/Raw_Data_Sources/2022/LT/SE.csv'\n",
      "Data for LT to BY saved to '/home/ray/Dispa-SET_Unleash/RawData/CrossBorderFlows/Raw_Data_Sources/2022/LT/BY.csv'\n",
      "Data for LU to BE saved to '/home/ray/Dispa-SET_Unleash/RawData/CrossBorderFlows/Raw_Data_Sources/2022/LU/BE.csv'\n",
      "Data for LU to DE saved to '/home/ray/Dispa-SET_Unleash/RawData/CrossBorderFlows/Raw_Data_Sources/2022/LU/DE.csv'\n",
      "Data for LV to EE saved to '/home/ray/Dispa-SET_Unleash/RawData/CrossBorderFlows/Raw_Data_Sources/2022/LV/EE.csv'\n",
      "Data for LV to LT saved to '/home/ray/Dispa-SET_Unleash/RawData/CrossBorderFlows/Raw_Data_Sources/2022/LV/LT.csv'\n",
      "Data for LV to RU saved to '/home/ray/Dispa-SET_Unleash/RawData/CrossBorderFlows/Raw_Data_Sources/2022/LV/RU.csv'\n",
      "Data for MD to RO saved to '/home/ray/Dispa-SET_Unleash/RawData/CrossBorderFlows/Raw_Data_Sources/2022/MD/RO.csv'\n",
      "Data for ME to IT saved to '/home/ray/Dispa-SET_Unleash/RawData/CrossBorderFlows/Raw_Data_Sources/2022/ME/IT.csv'\n",
      "Data for MK to BG saved to '/home/ray/Dispa-SET_Unleash/RawData/CrossBorderFlows/Raw_Data_Sources/2022/MK/BG.csv'\n",
      "Data for MK to GR saved to '/home/ray/Dispa-SET_Unleash/RawData/CrossBorderFlows/Raw_Data_Sources/2022/MK/GR.csv'\n",
      "Data for MT to IT saved to '/home/ray/Dispa-SET_Unleash/RawData/CrossBorderFlows/Raw_Data_Sources/2022/MT/IT.csv'\n",
      "Data for NL to BE saved to '/home/ray/Dispa-SET_Unleash/RawData/CrossBorderFlows/Raw_Data_Sources/2022/NL/BE.csv'\n",
      "Data for NL to DK saved to '/home/ray/Dispa-SET_Unleash/RawData/CrossBorderFlows/Raw_Data_Sources/2022/NL/DK.csv'\n",
      "Data for NL to DE saved to '/home/ray/Dispa-SET_Unleash/RawData/CrossBorderFlows/Raw_Data_Sources/2022/NL/DE.csv'\n",
      "Data for NL to NO saved to '/home/ray/Dispa-SET_Unleash/RawData/CrossBorderFlows/Raw_Data_Sources/2022/NL/NO.csv'\n",
      "Data for NO to DK saved to '/home/ray/Dispa-SET_Unleash/RawData/CrossBorderFlows/Raw_Data_Sources/2022/NO/DK.csv'\n",
      "Data for NO to FI saved to '/home/ray/Dispa-SET_Unleash/RawData/CrossBorderFlows/Raw_Data_Sources/2022/NO/FI.csv'\n",
      "Data for NO to DE saved to '/home/ray/Dispa-SET_Unleash/RawData/CrossBorderFlows/Raw_Data_Sources/2022/NO/DE.csv'\n",
      "Data for NO to NL saved to '/home/ray/Dispa-SET_Unleash/RawData/CrossBorderFlows/Raw_Data_Sources/2022/NO/NL.csv'\n",
      "Data for PL to CZ saved to '/home/ray/Dispa-SET_Unleash/RawData/CrossBorderFlows/Raw_Data_Sources/2022/PL/CZ.csv'\n",
      "Data for PL to DE saved to '/home/ray/Dispa-SET_Unleash/RawData/CrossBorderFlows/Raw_Data_Sources/2022/PL/DE.csv'\n",
      "Data for PL to LT saved to '/home/ray/Dispa-SET_Unleash/RawData/CrossBorderFlows/Raw_Data_Sources/2022/PL/LT.csv'\n",
      "Data for PL to SK saved to '/home/ray/Dispa-SET_Unleash/RawData/CrossBorderFlows/Raw_Data_Sources/2022/PL/SK.csv'\n",
      "Data for PT to ES saved to '/home/ray/Dispa-SET_Unleash/RawData/CrossBorderFlows/Raw_Data_Sources/2022/PT/ES.csv'\n",
      "Data for RO to BG saved to '/home/ray/Dispa-SET_Unleash/RawData/CrossBorderFlows/Raw_Data_Sources/2022/RO/BG.csv'\n",
      "Data for RO to HU saved to '/home/ray/Dispa-SET_Unleash/RawData/CrossBorderFlows/Raw_Data_Sources/2022/RO/HU.csv'\n",
      "Data for RO to MD saved to '/home/ray/Dispa-SET_Unleash/RawData/CrossBorderFlows/Raw_Data_Sources/2022/RO/MD.csv'\n",
      "Data for RO to RS saved to '/home/ray/Dispa-SET_Unleash/RawData/CrossBorderFlows/Raw_Data_Sources/2022/RO/RS.csv'\n",
      "Data for RU to EE saved to '/home/ray/Dispa-SET_Unleash/RawData/CrossBorderFlows/Raw_Data_Sources/2022/RU/EE.csv'\n",
      "Data for RU to FI saved to '/home/ray/Dispa-SET_Unleash/RawData/CrossBorderFlows/Raw_Data_Sources/2022/RU/FI.csv'\n",
      "Data for RU to LV saved to '/home/ray/Dispa-SET_Unleash/RawData/CrossBorderFlows/Raw_Data_Sources/2022/RU/LV.csv'\n",
      "Invalid business parameter for RU to LT. This pair may not be supported by the API.\n",
      "Data for RS to BG saved to '/home/ray/Dispa-SET_Unleash/RawData/CrossBorderFlows/Raw_Data_Sources/2022/RS/BG.csv'\n",
      "Data for RS to HR saved to '/home/ray/Dispa-SET_Unleash/RawData/CrossBorderFlows/Raw_Data_Sources/2022/RS/HR.csv'\n",
      "Data for RS to HU saved to '/home/ray/Dispa-SET_Unleash/RawData/CrossBorderFlows/Raw_Data_Sources/2022/RS/HU.csv'\n",
      "Data for RS to RO saved to '/home/ray/Dispa-SET_Unleash/RawData/CrossBorderFlows/Raw_Data_Sources/2022/RS/RO.csv'\n",
      "Data for SE to DK saved to '/home/ray/Dispa-SET_Unleash/RawData/CrossBorderFlows/Raw_Data_Sources/2022/SE/DK.csv'\n",
      "Data for SE to FI saved to '/home/ray/Dispa-SET_Unleash/RawData/CrossBorderFlows/Raw_Data_Sources/2022/SE/FI.csv'\n",
      "Data for SE to DE saved to '/home/ray/Dispa-SET_Unleash/RawData/CrossBorderFlows/Raw_Data_Sources/2022/SE/DE.csv'\n",
      "Data for SE to LT saved to '/home/ray/Dispa-SET_Unleash/RawData/CrossBorderFlows/Raw_Data_Sources/2022/SE/LT.csv'\n",
      "Data for SI to AT saved to '/home/ray/Dispa-SET_Unleash/RawData/CrossBorderFlows/Raw_Data_Sources/2022/SI/AT.csv'\n",
      "Data for SI to HR saved to '/home/ray/Dispa-SET_Unleash/RawData/CrossBorderFlows/Raw_Data_Sources/2022/SI/HR.csv'\n",
      "Data for SI to HU saved to '/home/ray/Dispa-SET_Unleash/RawData/CrossBorderFlows/Raw_Data_Sources/2022/SI/HU.csv'\n",
      "Data for SI to IT saved to '/home/ray/Dispa-SET_Unleash/RawData/CrossBorderFlows/Raw_Data_Sources/2022/SI/IT.csv'\n",
      "Data for SK to CZ saved to '/home/ray/Dispa-SET_Unleash/RawData/CrossBorderFlows/Raw_Data_Sources/2022/SK/CZ.csv'\n",
      "Data for SK to HU saved to '/home/ray/Dispa-SET_Unleash/RawData/CrossBorderFlows/Raw_Data_Sources/2022/SK/HU.csv'\n",
      "Data for SK to PL saved to '/home/ray/Dispa-SET_Unleash/RawData/CrossBorderFlows/Raw_Data_Sources/2022/SK/PL.csv'\n",
      "Data for SK to UA saved to '/home/ray/Dispa-SET_Unleash/RawData/CrossBorderFlows/Raw_Data_Sources/2022/SK/UA.csv'\n",
      "Data for TR to BG saved to '/home/ray/Dispa-SET_Unleash/RawData/CrossBorderFlows/Raw_Data_Sources/2022/TR/BG.csv'\n"
     ]
    },
    {
     "name": "stderr",
     "output_type": "stream",
     "text": [
      "Connection Error, retrying in 0 seconds\n"
     ]
    },
    {
     "name": "stdout",
     "output_type": "stream",
     "text": [
      "Data for TR to GR saved to '/home/ray/Dispa-SET_Unleash/RawData/CrossBorderFlows/Raw_Data_Sources/2022/TR/GR.csv'\n",
      "An error occurred while processing data for UA to HU: ('Connection aborted.', RemoteDisconnected('Remote end closed connection without response'))\n",
      "Data for UA to PL saved to '/home/ray/Dispa-SET_Unleash/RawData/CrossBorderFlows/Raw_Data_Sources/2022/UA/PL.csv'\n",
      "Data for UA to RO saved to '/home/ray/Dispa-SET_Unleash/RawData/CrossBorderFlows/Raw_Data_Sources/2022/UA/RO.csv'\n",
      "Data for UA to SK saved to '/home/ray/Dispa-SET_Unleash/RawData/CrossBorderFlows/Raw_Data_Sources/2022/UA/SK.csv'\n",
      "Data for UK to BE saved to '/home/ray/Dispa-SET_Unleash/RawData/CrossBorderFlows/Raw_Data_Sources/2022/UK/BE.csv'\n",
      "No matching data for UK to DK for the period 2022-01-01 00:00:00+01:00 to 2023-01-01 00:00:00+01:00. Skipping.\n",
      "Data for UK to FR saved to '/home/ray/Dispa-SET_Unleash/RawData/CrossBorderFlows/Raw_Data_Sources/2022/UK/FR.csv'\n",
      "Data for UK to IE saved to '/home/ray/Dispa-SET_Unleash/RawData/CrossBorderFlows/Raw_Data_Sources/2022/UK/IE.csv'\n",
      "All data has been processed and saved.\n"
     ]
    }
   ],
   "source": [
    "# Define the start and end timestamps using the data_year variable\n",
    "start = pd.Timestamp(f'{data_year}0101', tz='Europe/Brussels')\n",
    "end = pd.Timestamp(f'{data_year_1}0101', tz='Europe/Brussels')\n",
    "\n",
    "# Read the CSV file into a DataFrame\n",
    "df = pd.read_csv(cross_border_flows_country_list_file)\n",
    "\n",
    "# Ensure the necessary columns exist\n",
    "required_columns = ['Country_From', 'Country_Folder'] + [f'Neighbor_{i}' for i in range(1, 5)]\n",
    "for col in required_columns:\n",
    "    if col not in df.columns:\n",
    "        raise ValueError(f\"Column '{col}' does not exist in the CSV file\")\n",
    "\n",
    "# Iterate through each row in the DataFrame\n",
    "for index, row in df.iterrows():\n",
    "    country_code_from = row['Country_From']\n",
    "    country_folder = row['Country_Folder']\n",
    "    \n",
    "    # Create the directory if it does not exist\n",
    "    os.makedirs(country_folder, exist_ok=True)\n",
    "    \n",
    "    # Iterate through each neighbor column\n",
    "    for neighbor_col in [f'Neighbor_{i}' for i in range(1, 5)]:\n",
    "        country_code_to = row[neighbor_col]\n",
    "        \n",
    "        # Skip if the neighbor field is empty\n",
    "        if pd.isna(country_code_to):\n",
    "            continue\n",
    "        \n",
    "        try:\n",
    "            # Query crossborder flows\n",
    "            net_transfer = client.query_crossborder_flows(\n",
    "                country_code_from, country_code_to, start=start, end=end\n",
    "            )\n",
    "            \n",
    "            # Convert the index to a column\n",
    "            net_transfer = net_transfer.reset_index()\n",
    "            \n",
    "            # Define the output file path\n",
    "            output_file = os.path.join(country_folder, f'{country_code_to}.csv')\n",
    "            \n",
    "            # Save the DataFrame to a CSV file, including the index as a column\n",
    "            net_transfer.to_csv(output_file, index=False)\n",
    "\n",
    "            print(f\"Data for {country_code_from} to {country_code_to} saved to '{output_file}'\")\n",
    "\n",
    "        except InvalidBusinessParameterError:\n",
    "            print(f\"Invalid business parameter for {country_code_from} to {country_code_to}. This pair may not be supported by the API.\")\n",
    "        \n",
    "        except NoMatchingDataError:\n",
    "            print(f\"No matching data for {country_code_from} to {country_code_to} for the period {start} to {end}. Skipping.\")\n",
    "        \n",
    "        except Exception as e:\n",
    "            print(f\"An error occurred while processing data for {country_code_from} to {country_code_to}: {e}\")\n",
    "\n",
    "print(\"All data has been processed and saved.\")"
   ]
  },
  {
   "cell_type": "markdown",
   "id": "cfbb398f-1c27-4dae-b948-a94d0c07eff7",
   "metadata": {},
   "source": [
    "<div style=\"text-align: justify; margin-left: 0.0em; font-weight: unbold; font-size: 14px; font-family: TimesNewRoman;color:skyblue\">\n",
    "Cleaning folders. \n",
    "</div>"
   ]
  },
  {
   "cell_type": "code",
   "execution_count": 13,
   "id": "1cd040cf-f2f2-42a0-8fa0-441b26d02c0e",
   "metadata": {},
   "outputs": [
    {
     "name": "stdout",
     "output_type": "stream",
     "text": [
      "File erased: /home/ray/Dispa-SET_Unleash/RawData/CrossBorderFlows/Raw_Data_Sources/country_list.csv\n"
     ]
    }
   ],
   "source": [
    "def erase_csv_file(file_path):\n",
    "  \"\"\"Erases a CSV file.\n",
    "\n",
    "  Args:\n",
    "    file_path: The path to the CSV file.\n",
    "  \"\"\"\n",
    "\n",
    "  if os.path.exists(file_path):\n",
    "    os.remove(file_path)\n",
    "    print(f\"File erased: {file_path}\")\n",
    "  else:\n",
    "    print(f\"File does not exist: {file_path}\")\n",
    "\n",
    "# Example usage:\n",
    "file_path = cross_border_flows_country_list_file\n",
    "erase_csv_file(file_path)"
   ]
  },
  {
   "cell_type": "markdown",
   "id": "2e3bc4b2-9fa8-4cb6-aa6b-24bfcc0d26e1",
   "metadata": {},
   "source": [
    "<div style=\"text-align: justify; margin-left: 0.0em; font-weight: unbold; font-size: 14px; font-family: TimesNewRoman;color:skyblue\">\n",
    "The Cros Border Flows Raw Data is stored in the path. \n",
    "</div>\n",
    "<div style=\"text-align: justify; margin-left: 2.0em; font-weight: unbold; font-size: 13px; font-family: TimesNewRoman;color:skyblue\">\n",
    "/Local/Path/to/Dispa-SET_Unleash/RawData/CrossBorderFlows/Raw_Data_Sources\n",
    "</div>"
   ]
  },
  {
   "cell_type": "code",
   "execution_count": null,
   "id": "8bb8388f-4585-422b-b8fa-e177cf2609c2",
   "metadata": {},
   "outputs": [],
   "source": []
  }
 ],
 "metadata": {
  "kernelspec": {
   "display_name": "Python 3 (Spyder)",
   "language": "python3",
   "name": "python3"
  },
  "language_info": {
   "codemirror_mode": {
    "name": "ipython",
    "version": 3
   },
   "file_extension": ".py",
   "mimetype": "text/x-python",
   "name": "python",
   "nbconvert_exporter": "python",
   "pygments_lexer": "ipython3",
   "version": "3.11.7"
  }
 },
 "nbformat": 4,
 "nbformat_minor": 5
}
