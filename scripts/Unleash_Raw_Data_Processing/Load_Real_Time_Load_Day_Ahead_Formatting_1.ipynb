{
 "cells": [
  {
   "cell_type": "markdown",
   "id": "9318f6dd-244f-4966-85c2-d54443eaae68",
   "metadata": {},
   "source": [
    "<div style=\"text-align: center; margin-left: 0em; font-weight: bold; font-size: 20px; font-family: TimesNewRoman; color: skyblue\">\n",
    "    TIME SERIES DATA PROCESSING\n",
    "    <br>\n",
    "    LOAD REAL TIME | LOAD DAY AHEAD\n",
    "<div style=\"text-align: center; margin-left: 0em; font-weight: bold; font-size: 18px; font-family: TimesNewRoman; color: skyblue\">\n",
    "    Main Formatting Notebook\n",
    "</div>\n",
    "</div>\n",
    "<br>\n",
    "<div style=\"text-align: justify; margin-left: 0em; font-weight: unbold; font-size: 14px; font-family: TimesNewRoman; color: skyblue\">\n",
    "        Each part of the following script was used to proccess the raw data for the Real Time and Day Ahead Load Time Series Raw Data for all the european countries of the Dispa-SET_Unleash project.\n",
    "<br>\n",
    "Read explanation text cells to follow and understand all the process until final results were got stept by step.\n",
    "</div>\n",
    "<br>\n",
    "<div style=\"text-align: justify; margin-left: 3.0em; font-weight: bold; font-size: 18px; font-family: TimesNewRoman; color:skyblue\">\n",
    "    1. Notebook Set Up\n",
    "</div>\n",
    "<div style=\"text-align: justify; margin-left: 0.0em; font-weight: unbold; font-size: 14px; font-family: TimesNewRoman; color:skyblue\">\n",
    "    Importing needed libraries\n",
    "</div>"
   ]
  },
  {
   "cell_type": "code",
   "execution_count": 100,
   "id": "a590ae9c-56f6-4dbf-a4f4-9f39b4fa21eb",
   "metadata": {},
   "outputs": [],
   "source": [
    "import pandas as pd\n",
    "from entsoe import EntsoePandasClient\n",
    "from entsoe.exceptions import NoMatchingDataError  # Ensure this line is included\n",
    "from entsoe.exceptions import NoMatchingDataError, InvalidBusinessParameterError  # Import relevant exceptions\n",
    "import os\n",
    "import csv\n",
    "from datetime import datetime\n",
    "import pytz\n",
    "from pytz import timezone, utc\n",
    "import shutil"
   ]
  },
  {
   "cell_type": "markdown",
   "id": "5dd2e76f-2442-4fdd-b2db-b3b71f3f544b",
   "metadata": {},
   "source": [
    "<div style=\"text-align: justify; margin-left: 3.0em; font-weight: bold; font-size: 18px; font-family: TimesNewRoman; color:skyblue\">\n",
    "    2. Dispa-SET_Unleash Folder Path\n",
    "</div>\n",
    "<div style=\"text-align: justify; margin-left: 0.0em; font-weight: unbold; font-size: 14px; font-family: TimesNewRoman; color:skyblue\">\n",
    "    Determinning dynamically the zone_folder_path based on the location of the \"Dispa-SET_Unleash\" folder relative to the current working directory.\n",
    "</div>\n",
    "<div style=\"text-align: justify; margin-left: 2.0em; font-weight: unbold; font-size: 13px; font-family: TimesNewRoman; color:skyblue\">\n",
    "- If the \"Dispa-SET_Unleash\" folder is copied to a different machine or location, the dispaSET_unleash_folder_path variable will automatically adjust accordingly.\n",
    "</div>"
   ]
  },
  {
   "cell_type": "code",
   "execution_count": 101,
   "id": "8926675d-6398-4db7-80cd-42c829b7b0e1",
   "metadata": {},
   "outputs": [
    {
     "name": "stdout",
     "output_type": "stream",
     "text": [
      "dispaSET_unleash_folder_name: Dispa-SET_Unleash\n",
      "dispaSET_unleash_folder_path: /home/ray/Dispa-SET_Unleash\n"
     ]
    }
   ],
   "source": [
    "# Get the current working directory\n",
    "current_directory = os.getcwd()\n",
    "\n",
    "# Navigate to the parent directory of \"Dispa-SET_Unleash\"\n",
    "dispaSET_unleash_parent_directory = os.path.dirname(current_directory)\n",
    "\n",
    "# Get the path to the \"Dispa-SET_Unleash\" folder\n",
    "dispaSET_unleash_folder_path = os.path.dirname(dispaSET_unleash_parent_directory)\n",
    "\n",
    "# Construct the dispaSET_unleash_folder_name variable\n",
    "dispaSET_unleash_folder_name = os.path.basename(dispaSET_unleash_folder_path)\n",
    "\n",
    "print(\"dispaSET_unleash_folder_name:\", dispaSET_unleash_folder_name)\n",
    "print(\"dispaSET_unleash_folder_path:\", dispaSET_unleash_folder_path)"
   ]
  },
  {
   "cell_type": "markdown",
   "id": "8f38b8cd-b666-4738-9813-f1fbeb216ab7",
   "metadata": {},
   "source": [
    "<div style=\"text-align: justify; margin-left: 3.0em; font-weight: bold; font-size: 18px; font-family: TimesNewRoman; color:skyblue\">\n",
    "    3. Usefull Variable Definition\n",
    "</div>\n",
    "<div style=\"text-align: justify; margin-left: 0.0em; font-weight: unbold; font-size: 14px; font-family: TimesNewRoman; color:skyblue\">\n",
    "Entering a value to all the variables which content are going to be used in some of the next stages of this script. \n",
    "</div>\n",
    "<div style=\"text-align: Justify; margin-left: 2.0em; font-weight: unbold; font-size: 13px; font-family: TimesNewRoman; color:skyblue\">\n",
    "Indicate the year of all data is referring to in the variable data_year.\n",
    "<br>\n",
    "The universal_standar_time variable is going to be used to download all the time series data in this horary zone. Additionally as each european country belongs a particular time sector the corresponding time series data related to its time sector are going to be downloaded as well but in a different file.\n",
    "<br>Additionally there are some default parameters that has to be defined to the correct working and calling to the ENTSO-E downloading functions.\n",
    "</div>"
   ]
  },
  {
   "cell_type": "code",
   "execution_count": 102,
   "id": "17cff013-7efc-43b0-a572-8f32f1f9a920",
   "metadata": {},
   "outputs": [],
   "source": [
    "# Year to which data refers to:\n",
    "data_year = 2023\n",
    "data_year_str = str(data_year)"
   ]
  },
  {
   "cell_type": "code",
   "execution_count": 109,
   "id": "7fe94548-6223-4ace-9793-b857b53e2ad8",
   "metadata": {},
   "outputs": [
    {
     "name": "stdout",
     "output_type": "stream",
     "text": [
      "load_realtime_folder_path: /home/ray/Dispa-SET_Unleash/RawData/Load_RealTime/\n",
      "load_dayAhead_folder_path: /home/ray/Dispa-SET_Unleash/RawData/Load_DayAhead/\n",
      "load_raw_data_folder_path: /home/ray/Dispa-SET_Unleash/RawData/Load_RealTime/Raw_Data_Sources/\n"
     ]
    }
   ],
   "source": [
    "# Additional string to be appended\n",
    "additional_path = \"/RawData/Load_RealTime/\"\n",
    "additional_path_1 = \"/RawData/Load_DayAhead/\"\n",
    "additional_path_2 = \"/RawData/Load_RealTime/Raw_Data_Sources/\"\n",
    "\n",
    "# Construct the Outage_Factors_folder_path variable\n",
    "load_realtime_folder_path = dispaSET_unleash_folder_path + additional_path\n",
    "\n",
    "# Construct the Outage_Factors_folder_path variable\n",
    "load_dayAhead_folder_path = dispaSET_unleash_folder_path + additional_path_1\n",
    "\n",
    "# Construct the Outage_Factors_Raw_Data_folder_path variable\n",
    "load_raw_data_folder_path = dispaSET_unleash_folder_path + additional_path_2\n",
    "\n",
    "print(\"load_realtime_folder_path:\", load_realtime_folder_path)\n",
    "print(\"load_dayAhead_folder_path:\", load_dayAhead_folder_path)\n",
    "print(\"load_raw_data_folder_path:\", load_raw_data_folder_path)"
   ]
  },
  {
   "cell_type": "markdown",
   "id": "60dbc780-1608-4b5b-9eda-2e1bc2cb7843",
   "metadata": {},
   "source": [
    "<div style=\"text-align: justify; margin-left: 3.0em; font-weight: bold; font-size: 17px; font-family: TimesNewRoman; color:skyblue\">\n",
    "    3.1. Back Up Directory\n",
    "</div>\n",
    "<div style=\"text-align: justify; margin-left: 0.0em; font-weight: unbold; font-size: 14px; font-family: TimesNewRoman; color:skyblue\">\n",
    "    Saving the original files into a Back up folder.\n",
    "</div>\n",
    "<div style=\"text-align: justify; margin-left: 2.0em; font-weight: unbold; font-size: 13px; font-family: TimesNewRoman; color:skyblue\">\n",
    "Since in the next steps of the processing data new subfolders and files are going to be created, the original ones are saved in a back up foldet to return them as its default content ones the process will be finished.\n",
    "</div>"
   ]
  },
  {
   "cell_type": "code",
   "execution_count": 104,
   "id": "f5d0ce18-3711-4764-ac28-5f2700f34778",
   "metadata": {},
   "outputs": [
    {
     "name": "stdout",
     "output_type": "stream",
     "text": [
      "backup_folder_path: /home/ray/Dispa-SET_Unleash/RawData/Load_RealTime_backup/\n",
      "Backup created at /home/ray/Dispa-SET_Unleash/RawData/Load_RealTime_backup/\n"
     ]
    }
   ],
   "source": [
    "additional_path_5 = '/RawData/Load_RealTime_backup/'\n",
    "\n",
    "# Construct the backup_folder_path variable\n",
    "backup_folder_path = dispaSET_unleash_folder_path + additional_path_5\n",
    "\n",
    "print(\"backup_folder_path:\", backup_folder_path)\n",
    "\n",
    "# Create a backup of the directory\n",
    "if os.path.exists(backup_folder_path):\n",
    "    shutil.rmtree(backup_folder_path)  # Remove any existing backup if necessary\n",
    "shutil.copytree(load_realtime_folder_path, backup_folder_path)\n",
    "\n",
    "print(f\"Backup created at {backup_folder_path}\")"
   ]
  },
  {
   "cell_type": "markdown",
   "id": "d610c8df-68ce-40aa-af2e-d67c3b2df7a0",
   "metadata": {},
   "source": [
    "<div style=\"text-align: justify; margin-left: 3.0em; font-weight: bold; font-size: 18px; font-family: TimesNewRoman; color:skyblue\">\n",
    "    4. Country List Variable Definition\n",
    "</div>\n",
    "<div style=\"text-align: justify; margin-left: 0.0em; font-weight: unbold; font-size: 14px; font-family: TimesNewRoman; color:skyblue\">\n",
    "Defining the list of countries according to the available data. \n",
    "</div>\n",
    "<div style=\"text-align: justify; margin-left: 2.0em; font-weight: unbold; font-size: 13px; font-family: TimesNewRoman; color:skyblue\">\n",
    "Just those countries that interchange flows with other countries different of the ones modelled in Dispa-SET are defined in the list.\n",
    "</div>"
   ]
  },
  {
   "cell_type": "code",
   "execution_count": 105,
   "id": "9485328c-cd02-43c9-a78d-ad5c22cff2af",
   "metadata": {},
   "outputs": [],
   "source": [
    "# Define a list of country codes\n",
    "load_data_country_list = [\"AT\", \"BE\", \"BG\", \"CH\", \"CY\", \"CZ\", \"DE\", \"DK\", \"EE\", \"GR\", \"ES\", \"FI\", \"FR\", \"HR\", \"HU\", \n",
    "                          \"IE\", \"IT\", \"LT\", \"LU\", \"LV\", \"MT\", \"NL\", \"NO\", \"PL\", \"PT\", \"RO\", \"SE\", \"SI\", \"SK\", \"UK\"]"
   ]
  },
  {
   "cell_type": "code",
   "execution_count": 110,
   "id": "1f959e45-e5f2-4856-831d-454684b52816",
   "metadata": {},
   "outputs": [
    {
     "name": "stdout",
     "output_type": "stream",
     "text": [
      "DataFrame saved to '/home/ray/Dispa-SET_Unleash/RawData/Load_RealTime/Raw_Data_Sources/country_list.csv'\n"
     ]
    }
   ],
   "source": [
    "# Define the directory and file path\n",
    "file_name = 'country_list.csv'\n",
    "file_path = os.path.join(load_raw_data_folder_path, file_name)\n",
    "\n",
    "# Ensure the directory exists\n",
    "os.makedirs(load_raw_data_folder_path, exist_ok=True)\n",
    "\n",
    "# Create a DataFrame\n",
    "df = pd.DataFrame(load_data_country_list, columns=['Country_From'])\n",
    "\n",
    "# Save the DataFrame to a CSV file\n",
    "df.to_csv(file_path, index=False)\n",
    "\n",
    "print(f\"DataFrame saved to '{file_path}'\")\n",
    "load_data_country_list_file = file_path"
   ]
  },
  {
   "cell_type": "markdown",
   "id": "32e96e3b-c1f7-4dd1-b455-107f8f37d533",
   "metadata": {},
   "source": [
    "<div style=\"text-align: right; margin-left: 3.0em; font-weight: unbold; font-size: 14px; font-family: TimesNewRoman; color:skyblue\">\n",
    "    Tracking Variables. \n",
    "    <br>\n",
    "    <div style=\"text-align: right; margin-left: 1.50em; font-weight: unbold; font-size: 13px; font-family: TimesNewRoman; color:skyblue\">\n",
    "    This cells are just to confirm all the file names, file paths and other information related to the data being processed.\n",
    "    <br>\n",
    "  Also are used to ensure the inputs for next cells in order to avoid to re-enter the same information each time.\n",
    "</div>"
   ]
  },
  {
   "cell_type": "code",
   "execution_count": 113,
   "id": "b2d3ed6b-4f59-4092-a51c-e1e71c833e59",
   "metadata": {},
   "outputs": [
    {
     "name": "stdout",
     "output_type": "stream",
     "text": [
      "dispaSET_unleash_folder_name:                              Dispa-SET_Unleash\n",
      "dispaSET_unleash_folder_path:                              /home/ray/Dispa-SET_Unleash\n",
      "data_year:                                                 2023\n",
      "load_realtime_folder_path:                                 /home/ray/Dispa-SET_Unleash/RawData/Load_RealTime/\n",
      "load_dayAhead_folder_path:                                 /home/ray/Dispa-SET_Unleash/RawData/Load_DayAhead/\n",
      "load_raw_data_folder_path:                                 /home/ray/Dispa-SET_Unleash/RawData/Load_RealTime/Raw_Data_Sources/\n",
      "load_data_country_list_file:                               /home/ray/Dispa-SET_Unleash/RawData/Load_RealTime/Raw_Data_Sources/country_list.csv\n"
     ]
    }
   ],
   "source": [
    "print (f\"dispaSET_unleash_folder_name:                              {dispaSET_unleash_folder_name}\")\n",
    "print (f\"dispaSET_unleash_folder_path:                              {dispaSET_unleash_folder_path}\")\n",
    "print (f\"data_year:                                                 {data_year}\")\n",
    "print (f\"load_realtime_folder_path:                                 {load_realtime_folder_path}\")   \n",
    "print (f\"load_dayAhead_folder_path:                                 {load_dayAhead_folder_path}\")\n",
    "print (f\"load_raw_data_folder_path:                                 {load_raw_data_folder_path}\")\n",
    "print (f\"load_data_country_list_file:                               {load_data_country_list_file}\")"
   ]
  },
  {
   "cell_type": "markdown",
   "id": "c6542962-be5e-4c21-bd71-2c2a6d3d3173",
   "metadata": {},
   "source": [
    "<div style=\"text-align: justify; margin-left: 0.0em; font-weight: unbold; font-size: 16px; font-family: TimesNewRoman;color:skyblue\">\n",
    "Defining the path to the sub-folders where all the Load Real Time and Load Day Ahead raw data is saved. \n",
    "</div>"
   ]
  },
  {
   "cell_type": "code",
   "execution_count": 118,
   "id": "e93c71f5-824e-4460-aece-4f3ba55834f4",
   "metadata": {},
   "outputs": [
    {
     "name": "stdout",
     "output_type": "stream",
     "text": [
      "Country_Folder column created successfully.\n"
     ]
    }
   ],
   "source": [
    "\n",
    "def create_country_folder_column(load_data_country_list_file, load_raw_data_folder_path, data_year_str):\n",
    "  \"\"\"\n",
    "  Creates a Country_Folder column in the specified CSV file.\n",
    "\n",
    "  Args:\n",
    "    load_data_country_list_file: The path to the CSV file.\n",
    "    load_raw_data_folder_path: The path to the load raw data folder.\n",
    "    data_year: The data year.\n",
    "  \"\"\"\n",
    "\n",
    "  df = pd.read_csv(load_data_country_list_file)\n",
    "\n",
    "  def get_folder_path(country):\n",
    "    return os.path.join(load_raw_data_folder_path, data_year_str, country)\n",
    "\n",
    "  df['Country_Folder'] = df['Country_From'].apply(get_folder_path)\n",
    "  df.to_csv(load_data_country_list_file, index=False)\n",
    "\n",
    "  print(\"Country_Folder column created successfully.\")\n",
    "\n",
    "create_country_folder_column(load_data_country_list_file, load_raw_data_folder_path, data_year_str)"
   ]
  },
  {
   "cell_type": "markdown",
   "id": "5a69af1c-a94b-4472-b4ab-6536bc172982",
   "metadata": {},
   "source": [
    "<div style=\"text-align: justify; margin-left: 0.0em; font-weight: unbold; font-size: 16px; font-family: TimesNewRoman;color:skyblue\">\n",
    "Defining the path to the files where all the Load Real Time and Lead Day Ahead raw data is saved. \n",
    "</div>"
   ]
  },
  {
   "cell_type": "code",
   "execution_count": 120,
   "id": "8735a981-8054-41a9-a674-a5311b04bd17",
   "metadata": {},
   "outputs": [
    {
     "name": "stdout",
     "output_type": "stream",
     "text": [
      "Raw_Data_File_Path column created successfully.\n"
     ]
    }
   ],
   "source": [
    "def create_raw_data_file_path_column(load_data_country_list_file):\n",
    "  \"\"\"\n",
    "  Creates a Raw_Data_File_Path column in the specified CSV file.\n",
    "\n",
    "  Args:\n",
    "    load_data_country_list_file: The path to the CSV file.\n",
    "  \"\"\"\n",
    "\n",
    "  df = pd.read_csv(load_data_country_list_file)\n",
    "\n",
    "  def get_raw_data_file_path(country_folder):\n",
    "    for root, dirs, files in os.walk(country_folder):\n",
    "      for file in files:\n",
    "        if file.endswith('.csv'):\n",
    "          return os.path.join(root, file)\n",
    "    return None\n",
    "\n",
    "  df['Raw_Data_File_Path'] = df['Country_Folder'].apply(get_raw_data_file_path)\n",
    "  df.to_csv(load_data_country_list_file, index=False)\n",
    "\n",
    "  print(\"Raw_Data_File_Path column created successfully.\")\n",
    "\n",
    "create_raw_data_file_path_column(load_data_country_list_file)"
   ]
  },
  {
   "cell_type": "markdown",
   "id": "95f0a280-7f92-411e-b883-12c0b708a3f7",
   "metadata": {},
   "source": [
    "<div style=\"text-align: justify; margin-left: 0.0em; font-weight: unbold; font-size: 14px; font-family: TimesNewRoman;color:skyblue\">\n",
    "Since the Acronym of Grece in the downloaded data is 'GR' and the Dispa-SET format for the country is 'EL'. All the needed changes in the used variables are done.\n",
    "<br>"
   ]
  },
  {
   "cell_type": "code",
   "execution_count": 121,
   "id": "6ff7d655-1f47-4729-ac12-9550c08e5a08",
   "metadata": {},
   "outputs": [
    {
     "name": "stdout",
     "output_type": "stream",
     "text": [
      "Replacements made and file saved: /home/ray/Dispa-SET_Unleash/RawData/Load_RealTime/Raw_Data_Sources/country_list.csv\n"
     ]
    },
    {
     "name": "stderr",
     "output_type": "stream",
     "text": [
      "/tmp/ipykernel_143036/2568165819.py:5: FutureWarning: DataFrame.applymap has been deprecated. Use DataFrame.map instead.\n",
      "  df = df.applymap(lambda x: x.replace('GR', 'EL') if isinstance(x, str) else x)\n"
     ]
    }
   ],
   "source": [
    "# Read the CSV file into a DataFrame\n",
    "df = pd.read_csv(load_data_country_list_file)\n",
    "\n",
    "# Replace 'GR' with 'EL' in the entire DataFrame\n",
    "df = df.applymap(lambda x: x.replace('GR', 'EL') if isinstance(x, str) else x)\n",
    "\n",
    "# Save the updated DataFrame back to the CSV file\n",
    "df.to_csv(load_data_country_list_file, index=False)\n",
    "\n",
    "print(f\"Replacements made and file saved: {load_data_country_list_file}\")"
   ]
  },
  {
   "cell_type": "code",
   "execution_count": 122,
   "id": "f06c431d-6d5f-464e-914b-5a4116440fb7",
   "metadata": {},
   "outputs": [
    {
     "name": "stdout",
     "output_type": "stream",
     "text": [
      "Renamed directory: /home/ray/Dispa-SET_Unleash/RawData/Load_RealTime/Raw_Data_Sources/2023/GR to /home/ray/Dispa-SET_Unleash/RawData/Load_RealTime/Raw_Data_Sources/2023/EL\n"
     ]
    }
   ],
   "source": [
    "data_year_str = str(data_year)\n",
    "\n",
    "load_raw_data_folder_path_1 = load_raw_data_folder_path + data_year_str\n",
    "\n",
    "# Walk through the directory tree\n",
    "for root, dirs, files in os.walk(load_raw_data_folder_path_1, topdown=False):  \n",
    "    # Rename files\n",
    "    for name in files:\n",
    "        if 'GR' in name:\n",
    "            new_name = name.replace('GR', 'EL')\n",
    "            old_file_path = os.path.join(root, name)\n",
    "            new_file_path = os.path.join(root, new_name)\n",
    "            os.rename(old_file_path, new_file_path)\n",
    "            print(f\"Renamed file: {old_file_path} to {new_file_path}\")\n",
    "\n",
    "    # Rename directories\n",
    "    for name in dirs:\n",
    "        if 'GR' in name:\n",
    "            new_name = name.replace('GR', 'EL')\n",
    "            old_dir_path = os.path.join(root, name)\n",
    "            new_dir_path = os.path.join(root, new_name)\n",
    "            os.rename(old_dir_path, new_dir_path)\n",
    "            print(f\"Renamed directory: {old_dir_path} to {new_dir_path}\")"
   ]
  },
  {
   "cell_type": "code",
   "execution_count": 123,
   "id": "c3884da9-281b-4848-ae8c-1b1755b1ec08",
   "metadata": {},
   "outputs": [
    {
     "name": "stdout",
     "output_type": "stream",
     "text": [
      "Updated load_data_country_list: ['AT', 'BE', 'BG', 'CH', 'CY', 'CZ', 'DE', 'DK', 'EE', 'EL', 'ES', 'FI', 'FR', 'HR', 'HU', 'IE', 'IT', 'LT', 'LU', 'LV', 'MT', 'NL', 'NO', 'PL', 'PT', 'RO', 'SE', 'SI', 'SK', 'UK']\n"
     ]
    }
   ],
   "source": [
    "# Function to replace 'GR' with 'EL'\n",
    "def replace_gr_with_el(lst):\n",
    "    return ['EL' if x == 'GR' else x for x in lst]\n",
    "\n",
    "# Applying the function to both lists\n",
    "load_data_country_list = replace_gr_with_el(load_data_country_list)\n",
    "\n",
    "# Print the updated lists\n",
    "print(\"Updated load_data_country_list:\", load_data_country_list)"
   ]
  },
  {
   "cell_type": "markdown",
   "id": "80667de7-f250-40b5-a1ab-ed3f2d57628a",
   "metadata": {},
   "source": [
    "<div style=\"text-align: justify; margin-left: 3.0em; font-weight: bold; font-size: 18px; font-family: TimesNewRoman; color:skyblue\">\n",
    "    5. Raw Data Formating\n",
    "</div>\n",
    "<div style=\"text-align: justify; margin-left: 0.0em; font-weight: unbold; font-size: 14px; font-family: TimesNewRoman; color:skyblue\">\n",
    "Addapting the time step data to the UTC for all the countries.\n",
    "</div>"
   ]
  },
  {
   "cell_type": "code",
   "execution_count": 124,
   "id": "d7963855-5bd9-4488-b5f5-40de4a3b4182",
   "metadata": {},
   "outputs": [
    {
     "name": "stdout",
     "output_type": "stream",
     "text": [
      "Updated file saved: /home/ray/Dispa-SET_Unleash/RawData/Load_RealTime/Raw_Data_Sources/2023/AT/2023_1.csv\n",
      "Updated file saved: /home/ray/Dispa-SET_Unleash/RawData/Load_RealTime/Raw_Data_Sources/2023/BE/2023_1.csv\n",
      "Updated file saved: /home/ray/Dispa-SET_Unleash/RawData/Load_RealTime/Raw_Data_Sources/2023/BG/2023_1.csv\n",
      "Updated file saved: /home/ray/Dispa-SET_Unleash/RawData/Load_RealTime/Raw_Data_Sources/2023/CH/2023_1.csv\n",
      "Updated file saved: /home/ray/Dispa-SET_Unleash/RawData/Load_RealTime/Raw_Data_Sources/2023/CY/2023_1.csv\n",
      "Updated file saved: /home/ray/Dispa-SET_Unleash/RawData/Load_RealTime/Raw_Data_Sources/2023/CZ/2023_1.csv\n",
      "Updated file saved: /home/ray/Dispa-SET_Unleash/RawData/Load_RealTime/Raw_Data_Sources/2023/DE/2023_1.csv\n",
      "Updated file saved: /home/ray/Dispa-SET_Unleash/RawData/Load_RealTime/Raw_Data_Sources/2023/DK/2023_1.csv\n",
      "Updated file saved: /home/ray/Dispa-SET_Unleash/RawData/Load_RealTime/Raw_Data_Sources/2023/EE/2023_1.csv\n",
      "Updated file saved: /home/ray/Dispa-SET_Unleash/RawData/Load_RealTime/Raw_Data_Sources/2023/EL/2023_1.csv\n",
      "Updated file saved: /home/ray/Dispa-SET_Unleash/RawData/Load_RealTime/Raw_Data_Sources/2023/ES/2023_1.csv\n",
      "Updated file saved: /home/ray/Dispa-SET_Unleash/RawData/Load_RealTime/Raw_Data_Sources/2023/FI/2023_1.csv\n",
      "Updated file saved: /home/ray/Dispa-SET_Unleash/RawData/Load_RealTime/Raw_Data_Sources/2023/FR/2023_1.csv\n",
      "Updated file saved: /home/ray/Dispa-SET_Unleash/RawData/Load_RealTime/Raw_Data_Sources/2023/HR/2023_1.csv\n",
      "Updated file saved: /home/ray/Dispa-SET_Unleash/RawData/Load_RealTime/Raw_Data_Sources/2023/HU/2023_1.csv\n",
      "Updated file saved: /home/ray/Dispa-SET_Unleash/RawData/Load_RealTime/Raw_Data_Sources/2023/IE/2023_1.csv\n",
      "Updated file saved: /home/ray/Dispa-SET_Unleash/RawData/Load_RealTime/Raw_Data_Sources/2023/IT/2023_1.csv\n",
      "Updated file saved: /home/ray/Dispa-SET_Unleash/RawData/Load_RealTime/Raw_Data_Sources/2023/LT/2023_1.csv\n",
      "Updated file saved: /home/ray/Dispa-SET_Unleash/RawData/Load_RealTime/Raw_Data_Sources/2023/LU/2023_1.csv\n",
      "Updated file saved: /home/ray/Dispa-SET_Unleash/RawData/Load_RealTime/Raw_Data_Sources/2023/LV/2023_1.csv\n",
      "Updated file saved: /home/ray/Dispa-SET_Unleash/RawData/Load_RealTime/Raw_Data_Sources/2023/MT/2023_1.csv\n",
      "Updated file saved: /home/ray/Dispa-SET_Unleash/RawData/Load_RealTime/Raw_Data_Sources/2023/NL/2023_1.csv\n",
      "Updated file saved: /home/ray/Dispa-SET_Unleash/RawData/Load_RealTime/Raw_Data_Sources/2023/NO/2023_1.csv\n",
      "Updated file saved: /home/ray/Dispa-SET_Unleash/RawData/Load_RealTime/Raw_Data_Sources/2023/PL/2023_1.csv\n",
      "Updated file saved: /home/ray/Dispa-SET_Unleash/RawData/Load_RealTime/Raw_Data_Sources/2023/PT/2023_1.csv\n",
      "Updated file saved: /home/ray/Dispa-SET_Unleash/RawData/Load_RealTime/Raw_Data_Sources/2023/RO/2023_1.csv\n",
      "Updated file saved: /home/ray/Dispa-SET_Unleash/RawData/Load_RealTime/Raw_Data_Sources/2023/SE/2023_1.csv\n",
      "Updated file saved: /home/ray/Dispa-SET_Unleash/RawData/Load_RealTime/Raw_Data_Sources/2023/SI/2023_1.csv\n",
      "Updated file saved: /home/ray/Dispa-SET_Unleash/RawData/Load_RealTime/Raw_Data_Sources/2023/SK/2023_1.csv\n",
      "Updated file saved: /home/ray/Dispa-SET_Unleash/RawData/Load_RealTime/Raw_Data_Sources/2023/UK/2023_1.csv\n"
     ]
    }
   ],
   "source": [
    "# Read the country list CSV file\n",
    "country_list_df = pd.read_csv(load_data_country_list_file)\n",
    "\n",
    "# Ensure the 'Country_File_Path' column exists\n",
    "if 'Raw_Data_File_Path' not in country_list_df.columns:\n",
    "    raise ValueError(\"Column 'Raw_Data_File_Path' does not exist in the CSV file\")\n",
    "\n",
    "# Define the function to convert time to UTC\n",
    "def convert_to_utc(time_str):\n",
    "    local_time = datetime.strptime(time_str, '%Y-%m-%d %H:%M:%S%z')\n",
    "    utc_time = local_time.astimezone(pytz.utc)\n",
    "    return utc_time.strftime('%Y-%m-%d %H:%M:%S%z')\n",
    "\n",
    "# Process each CSV file\n",
    "for file_path in country_list_df['Raw_Data_File_Path'].dropna():\n",
    "    # Ensure the file exists\n",
    "    if not os.path.isfile(file_path):\n",
    "        print(f\"File not found: {file_path}\")\n",
    "        continue\n",
    "\n",
    "    # Read the CSV file\n",
    "    df = pd.read_csv(file_path)\n",
    "    \n",
    "    # Check if the 'index' column exists\n",
    "    if 'index' not in df.columns:\n",
    "        print(f\"'index' column not found in file: {file_path}\")\n",
    "        continue\n",
    "\n",
    "    # Convert the 'index' column to UTC\n",
    "    df['index'] = df['index'].apply(convert_to_utc)\n",
    "    \n",
    "    # Save the updated CSV file\n",
    "    df.to_csv(file_path, index=False)\n",
    "    print(f\"Updated file saved: {file_path}\")"
   ]
  },
  {
   "cell_type": "code",
   "execution_count": 125,
   "id": "bcfa52ce-3e40-436d-8018-0165a3b56306",
   "metadata": {},
   "outputs": [
    {
     "name": "stdout",
     "output_type": "stream",
     "text": [
      "Processing file: /home/ray/Dispa-SET_Unleash/RawData/Load_RealTime/Raw_Data_Sources/2023/AT/2023_1.csv\n",
      "The minimum time step used in the column is: 900.0 seconds\n"
     ]
    },
    {
     "name": "stderr",
     "output_type": "stream",
     "text": [
      "/tmp/ipykernel_143036/2315473137.py:22: FutureWarning: 'S' is deprecated and will be removed in a future version, please use 's' instead.\n",
      "  date_range = pd.date_range(start=start_date, end=end_date, freq=f'{min_time_step}S')\n"
     ]
    },
    {
     "name": "stdout",
     "output_type": "stream",
     "text": [
      "Updated CSV file with 'Forecasted Load' and 'Actual Load' columns: /home/ray/Dispa-SET_Unleash/RawData/Load_RealTime/Raw_Data_Sources/2023/AT/2023.csv\n"
     ]
    },
    {
     "name": "stderr",
     "output_type": "stream",
     "text": [
      "/tmp/ipykernel_143036/2315473137.py:22: FutureWarning: 'S' is deprecated and will be removed in a future version, please use 's' instead.\n",
      "  date_range = pd.date_range(start=start_date, end=end_date, freq=f'{min_time_step}S')\n"
     ]
    },
    {
     "name": "stdout",
     "output_type": "stream",
     "text": [
      "Processing file: /home/ray/Dispa-SET_Unleash/RawData/Load_RealTime/Raw_Data_Sources/2023/BE/2023_1.csv\n",
      "The minimum time step used in the column is: 900.0 seconds\n",
      "Updated CSV file with 'Forecasted Load' and 'Actual Load' columns: /home/ray/Dispa-SET_Unleash/RawData/Load_RealTime/Raw_Data_Sources/2023/BE/2023.csv\n",
      "Processing file: /home/ray/Dispa-SET_Unleash/RawData/Load_RealTime/Raw_Data_Sources/2023/BG/2023_1.csv\n",
      "The minimum time step used in the column is: 3600.0 seconds\n"
     ]
    },
    {
     "name": "stderr",
     "output_type": "stream",
     "text": [
      "/tmp/ipykernel_143036/2315473137.py:22: FutureWarning: 'S' is deprecated and will be removed in a future version, please use 's' instead.\n",
      "  date_range = pd.date_range(start=start_date, end=end_date, freq=f'{min_time_step}S')\n"
     ]
    },
    {
     "name": "stdout",
     "output_type": "stream",
     "text": [
      "Updated CSV file with 'Forecasted Load' and 'Actual Load' columns: /home/ray/Dispa-SET_Unleash/RawData/Load_RealTime/Raw_Data_Sources/2023/BG/2023.csv\n",
      "Processing file: /home/ray/Dispa-SET_Unleash/RawData/Load_RealTime/Raw_Data_Sources/2023/CH/2023_1.csv\n",
      "The minimum time step used in the column is: 3600.0 seconds\n"
     ]
    },
    {
     "name": "stderr",
     "output_type": "stream",
     "text": [
      "/tmp/ipykernel_143036/2315473137.py:22: FutureWarning: 'S' is deprecated and will be removed in a future version, please use 's' instead.\n",
      "  date_range = pd.date_range(start=start_date, end=end_date, freq=f'{min_time_step}S')\n"
     ]
    },
    {
     "name": "stdout",
     "output_type": "stream",
     "text": [
      "Updated CSV file with 'Forecasted Load' and 'Actual Load' columns: /home/ray/Dispa-SET_Unleash/RawData/Load_RealTime/Raw_Data_Sources/2023/CH/2023.csv\n",
      "Processing file: /home/ray/Dispa-SET_Unleash/RawData/Load_RealTime/Raw_Data_Sources/2023/CY/2023_1.csv\n",
      "The minimum time step used in the column is: 900.0 seconds\n"
     ]
    },
    {
     "name": "stderr",
     "output_type": "stream",
     "text": [
      "/tmp/ipykernel_143036/2315473137.py:22: FutureWarning: 'S' is deprecated and will be removed in a future version, please use 's' instead.\n",
      "  date_range = pd.date_range(start=start_date, end=end_date, freq=f'{min_time_step}S')\n"
     ]
    },
    {
     "name": "stdout",
     "output_type": "stream",
     "text": [
      "Updated CSV file with 'Forecasted Load' and 'Actual Load' columns: /home/ray/Dispa-SET_Unleash/RawData/Load_RealTime/Raw_Data_Sources/2023/CY/2023.csv\n",
      "Processing file: /home/ray/Dispa-SET_Unleash/RawData/Load_RealTime/Raw_Data_Sources/2023/CZ/2023_1.csv\n",
      "The minimum time step used in the column is: 3600.0 seconds\n",
      "Updated CSV file with 'Forecasted Load' and 'Actual Load' columns: /home/ray/Dispa-SET_Unleash/RawData/Load_RealTime/Raw_Data_Sources/2023/CZ/2023.csv\n"
     ]
    },
    {
     "name": "stderr",
     "output_type": "stream",
     "text": [
      "/tmp/ipykernel_143036/2315473137.py:22: FutureWarning: 'S' is deprecated and will be removed in a future version, please use 's' instead.\n",
      "  date_range = pd.date_range(start=start_date, end=end_date, freq=f'{min_time_step}S')\n",
      "/tmp/ipykernel_143036/2315473137.py:22: FutureWarning: 'S' is deprecated and will be removed in a future version, please use 's' instead.\n",
      "  date_range = pd.date_range(start=start_date, end=end_date, freq=f'{min_time_step}S')\n"
     ]
    },
    {
     "name": "stdout",
     "output_type": "stream",
     "text": [
      "Processing file: /home/ray/Dispa-SET_Unleash/RawData/Load_RealTime/Raw_Data_Sources/2023/DE/2023_1.csv\n",
      "The minimum time step used in the column is: 900.0 seconds\n",
      "Updated CSV file with 'Forecasted Load' and 'Actual Load' columns: /home/ray/Dispa-SET_Unleash/RawData/Load_RealTime/Raw_Data_Sources/2023/DE/2023.csv\n",
      "Processing file: /home/ray/Dispa-SET_Unleash/RawData/Load_RealTime/Raw_Data_Sources/2023/DK/2023_1.csv\n",
      "The minimum time step used in the column is: 3600.0 seconds\n",
      "Updated CSV file with 'Forecasted Load' and 'Actual Load' columns: /home/ray/Dispa-SET_Unleash/RawData/Load_RealTime/Raw_Data_Sources/2023/DK/2023.csv\n"
     ]
    },
    {
     "name": "stderr",
     "output_type": "stream",
     "text": [
      "/tmp/ipykernel_143036/2315473137.py:22: FutureWarning: 'S' is deprecated and will be removed in a future version, please use 's' instead.\n",
      "  date_range = pd.date_range(start=start_date, end=end_date, freq=f'{min_time_step}S')\n"
     ]
    },
    {
     "name": "stdout",
     "output_type": "stream",
     "text": [
      "Processing file: /home/ray/Dispa-SET_Unleash/RawData/Load_RealTime/Raw_Data_Sources/2023/EE/2023_1.csv\n",
      "The minimum time step used in the column is: 3600.0 seconds\n",
      "Updated CSV file with 'Forecasted Load' and 'Actual Load' columns: /home/ray/Dispa-SET_Unleash/RawData/Load_RealTime/Raw_Data_Sources/2023/EE/2023.csv\n",
      "Processing file: /home/ray/Dispa-SET_Unleash/RawData/Load_RealTime/Raw_Data_Sources/2023/EL/2023_1.csv\n",
      "The minimum time step used in the column is: 3600.0 seconds\n",
      "Updated CSV file with 'Forecasted Load' and 'Actual Load' columns: /home/ray/Dispa-SET_Unleash/RawData/Load_RealTime/Raw_Data_Sources/2023/EL/2023.csv\n"
     ]
    },
    {
     "name": "stderr",
     "output_type": "stream",
     "text": [
      "/tmp/ipykernel_143036/2315473137.py:22: FutureWarning: 'S' is deprecated and will be removed in a future version, please use 's' instead.\n",
      "  date_range = pd.date_range(start=start_date, end=end_date, freq=f'{min_time_step}S')\n",
      "/tmp/ipykernel_143036/2315473137.py:22: FutureWarning: 'S' is deprecated and will be removed in a future version, please use 's' instead.\n",
      "  date_range = pd.date_range(start=start_date, end=end_date, freq=f'{min_time_step}S')\n"
     ]
    },
    {
     "name": "stdout",
     "output_type": "stream",
     "text": [
      "Processing file: /home/ray/Dispa-SET_Unleash/RawData/Load_RealTime/Raw_Data_Sources/2023/ES/2023_1.csv\n",
      "The minimum time step used in the column is: 900.0 seconds\n"
     ]
    },
    {
     "name": "stderr",
     "output_type": "stream",
     "text": [
      "/tmp/ipykernel_143036/2315473137.py:22: FutureWarning: 'S' is deprecated and will be removed in a future version, please use 's' instead.\n",
      "  date_range = pd.date_range(start=start_date, end=end_date, freq=f'{min_time_step}S')\n"
     ]
    },
    {
     "name": "stdout",
     "output_type": "stream",
     "text": [
      "Updated CSV file with 'Forecasted Load' and 'Actual Load' columns: /home/ray/Dispa-SET_Unleash/RawData/Load_RealTime/Raw_Data_Sources/2023/ES/2023.csv\n",
      "Processing file: /home/ray/Dispa-SET_Unleash/RawData/Load_RealTime/Raw_Data_Sources/2023/FI/2023_1.csv\n",
      "The minimum time step used in the column is: 900.0 seconds\n"
     ]
    },
    {
     "name": "stderr",
     "output_type": "stream",
     "text": [
      "/tmp/ipykernel_143036/2315473137.py:22: FutureWarning: 'S' is deprecated and will be removed in a future version, please use 's' instead.\n",
      "  date_range = pd.date_range(start=start_date, end=end_date, freq=f'{min_time_step}S')\n"
     ]
    },
    {
     "name": "stdout",
     "output_type": "stream",
     "text": [
      "Updated CSV file with 'Forecasted Load' and 'Actual Load' columns: /home/ray/Dispa-SET_Unleash/RawData/Load_RealTime/Raw_Data_Sources/2023/FI/2023.csv\n",
      "Processing file: /home/ray/Dispa-SET_Unleash/RawData/Load_RealTime/Raw_Data_Sources/2023/FR/2023_1.csv\n",
      "The minimum time step used in the column is: 3600.0 seconds\n",
      "Updated CSV file with 'Forecasted Load' and 'Actual Load' columns: /home/ray/Dispa-SET_Unleash/RawData/Load_RealTime/Raw_Data_Sources/2023/FR/2023.csv\n"
     ]
    },
    {
     "name": "stderr",
     "output_type": "stream",
     "text": [
      "/tmp/ipykernel_143036/2315473137.py:22: FutureWarning: 'S' is deprecated and will be removed in a future version, please use 's' instead.\n",
      "  date_range = pd.date_range(start=start_date, end=end_date, freq=f'{min_time_step}S')\n"
     ]
    },
    {
     "name": "stdout",
     "output_type": "stream",
     "text": [
      "Processing file: /home/ray/Dispa-SET_Unleash/RawData/Load_RealTime/Raw_Data_Sources/2023/HR/2023_1.csv\n",
      "The minimum time step used in the column is: 900.0 seconds\n"
     ]
    },
    {
     "name": "stderr",
     "output_type": "stream",
     "text": [
      "/tmp/ipykernel_143036/2315473137.py:22: FutureWarning: 'S' is deprecated and will be removed in a future version, please use 's' instead.\n",
      "  date_range = pd.date_range(start=start_date, end=end_date, freq=f'{min_time_step}S')\n"
     ]
    },
    {
     "name": "stdout",
     "output_type": "stream",
     "text": [
      "Updated CSV file with 'Forecasted Load' and 'Actual Load' columns: /home/ray/Dispa-SET_Unleash/RawData/Load_RealTime/Raw_Data_Sources/2023/HR/2023.csv\n",
      "Processing file: /home/ray/Dispa-SET_Unleash/RawData/Load_RealTime/Raw_Data_Sources/2023/HU/2023_1.csv\n",
      "The minimum time step used in the column is: 900.0 seconds\n"
     ]
    },
    {
     "name": "stderr",
     "output_type": "stream",
     "text": [
      "/tmp/ipykernel_143036/2315473137.py:22: FutureWarning: 'S' is deprecated and will be removed in a future version, please use 's' instead.\n",
      "  date_range = pd.date_range(start=start_date, end=end_date, freq=f'{min_time_step}S')\n"
     ]
    },
    {
     "name": "stdout",
     "output_type": "stream",
     "text": [
      "Updated CSV file with 'Forecasted Load' and 'Actual Load' columns: /home/ray/Dispa-SET_Unleash/RawData/Load_RealTime/Raw_Data_Sources/2023/HU/2023.csv\n",
      "Processing file: /home/ray/Dispa-SET_Unleash/RawData/Load_RealTime/Raw_Data_Sources/2023/IE/2023_1.csv\n",
      "The minimum time step used in the column is: 1800.0 seconds\n"
     ]
    },
    {
     "name": "stderr",
     "output_type": "stream",
     "text": [
      "/tmp/ipykernel_143036/2315473137.py:22: FutureWarning: 'S' is deprecated and will be removed in a future version, please use 's' instead.\n",
      "  date_range = pd.date_range(start=start_date, end=end_date, freq=f'{min_time_step}S')\n"
     ]
    },
    {
     "name": "stdout",
     "output_type": "stream",
     "text": [
      "Updated CSV file with 'Forecasted Load' and 'Actual Load' columns: /home/ray/Dispa-SET_Unleash/RawData/Load_RealTime/Raw_Data_Sources/2023/IE/2023.csv\n",
      "Processing file: /home/ray/Dispa-SET_Unleash/RawData/Load_RealTime/Raw_Data_Sources/2023/IT/2023_1.csv\n",
      "The minimum time step used in the column is: 3600.0 seconds\n",
      "Updated CSV file with 'Forecasted Load' and 'Actual Load' columns: /home/ray/Dispa-SET_Unleash/RawData/Load_RealTime/Raw_Data_Sources/2023/IT/2023.csv\n"
     ]
    },
    {
     "name": "stderr",
     "output_type": "stream",
     "text": [
      "/tmp/ipykernel_143036/2315473137.py:22: FutureWarning: 'S' is deprecated and will be removed in a future version, please use 's' instead.\n",
      "  date_range = pd.date_range(start=start_date, end=end_date, freq=f'{min_time_step}S')\n"
     ]
    },
    {
     "name": "stdout",
     "output_type": "stream",
     "text": [
      "Processing file: /home/ray/Dispa-SET_Unleash/RawData/Load_RealTime/Raw_Data_Sources/2023/LT/2023_1.csv\n",
      "The minimum time step used in the column is: 3600.0 seconds\n"
     ]
    },
    {
     "name": "stderr",
     "output_type": "stream",
     "text": [
      "/tmp/ipykernel_143036/2315473137.py:22: FutureWarning: 'S' is deprecated and will be removed in a future version, please use 's' instead.\n",
      "  date_range = pd.date_range(start=start_date, end=end_date, freq=f'{min_time_step}S')\n"
     ]
    },
    {
     "name": "stdout",
     "output_type": "stream",
     "text": [
      "Updated CSV file with 'Forecasted Load' and 'Actual Load' columns: /home/ray/Dispa-SET_Unleash/RawData/Load_RealTime/Raw_Data_Sources/2023/LT/2023.csv\n",
      "Processing file: /home/ray/Dispa-SET_Unleash/RawData/Load_RealTime/Raw_Data_Sources/2023/LU/2023_1.csv"
     ]
    },
    {
     "name": "stderr",
     "output_type": "stream",
     "text": [
      "/tmp/ipykernel_143036/2315473137.py:22: FutureWarning: 'S' is deprecated and will be removed in a future version, please use 's' instead.\n",
      "  date_range = pd.date_range(start=start_date, end=end_date, freq=f'{min_time_step}S')\n"
     ]
    },
    {
     "name": "stdout",
     "output_type": "stream",
     "text": [
      "\n",
      "The minimum time step used in the column is: 900.0 seconds\n",
      "Updated CSV file with 'Forecasted Load' and 'Actual Load' columns: /home/ray/Dispa-SET_Unleash/RawData/Load_RealTime/Raw_Data_Sources/2023/LU/2023.csv\n",
      "Processing file: /home/ray/Dispa-SET_Unleash/RawData/Load_RealTime/Raw_Data_Sources/2023/LV/2023_1.csv\n",
      "The minimum time step used in the column is: 3600.0 seconds\n",
      "Updated CSV file with 'Forecasted Load' and 'Actual Load' columns: /home/ray/Dispa-SET_Unleash/RawData/Load_RealTime/Raw_Data_Sources/2023/LV/2023.csv\n"
     ]
    },
    {
     "name": "stderr",
     "output_type": "stream",
     "text": [
      "/tmp/ipykernel_143036/2315473137.py:22: FutureWarning: 'S' is deprecated and will be removed in a future version, please use 's' instead.\n",
      "  date_range = pd.date_range(start=start_date, end=end_date, freq=f'{min_time_step}S')\n"
     ]
    },
    {
     "name": "stdout",
     "output_type": "stream",
     "text": [
      "Processing file: /home/ray/Dispa-SET_Unleash/RawData/Load_RealTime/Raw_Data_Sources/2023/MT/2023_1.csv\n",
      "The minimum time step used in the column is: 900.0 seconds\n"
     ]
    },
    {
     "name": "stderr",
     "output_type": "stream",
     "text": [
      "/tmp/ipykernel_143036/2315473137.py:22: FutureWarning: 'S' is deprecated and will be removed in a future version, please use 's' instead.\n",
      "  date_range = pd.date_range(start=start_date, end=end_date, freq=f'{min_time_step}S')\n"
     ]
    },
    {
     "name": "stdout",
     "output_type": "stream",
     "text": [
      "Updated CSV file with 'Forecasted Load' and 'Actual Load' columns: /home/ray/Dispa-SET_Unleash/RawData/Load_RealTime/Raw_Data_Sources/2023/MT/2023.csv\n",
      "Processing file: /home/ray/Dispa-SET_Unleash/RawData/Load_RealTime/Raw_Data_Sources/2023/NL/2023_1.csv\n",
      "The minimum time step used in the column is: 900.0 seconds\n"
     ]
    },
    {
     "name": "stderr",
     "output_type": "stream",
     "text": [
      "/tmp/ipykernel_143036/2315473137.py:22: FutureWarning: 'S' is deprecated and will be removed in a future version, please use 's' instead.\n",
      "  date_range = pd.date_range(start=start_date, end=end_date, freq=f'{min_time_step}S')\n"
     ]
    },
    {
     "name": "stdout",
     "output_type": "stream",
     "text": [
      "Updated CSV file with 'Forecasted Load' and 'Actual Load' columns: /home/ray/Dispa-SET_Unleash/RawData/Load_RealTime/Raw_Data_Sources/2023/NL/2023.csv\n",
      "Processing file: /home/ray/Dispa-SET_Unleash/RawData/Load_RealTime/Raw_Data_Sources/2023/NO/2023_1.csv\n",
      "The minimum time step used in the column is: 3600.0 seconds\n"
     ]
    },
    {
     "name": "stderr",
     "output_type": "stream",
     "text": [
      "/tmp/ipykernel_143036/2315473137.py:22: FutureWarning: 'S' is deprecated and will be removed in a future version, please use 's' instead.\n",
      "  date_range = pd.date_range(start=start_date, end=end_date, freq=f'{min_time_step}S')\n"
     ]
    },
    {
     "name": "stdout",
     "output_type": "stream",
     "text": [
      "Updated CSV file with 'Forecasted Load' and 'Actual Load' columns: /home/ray/Dispa-SET_Unleash/RawData/Load_RealTime/Raw_Data_Sources/2023/NO/2023.csv\n"
     ]
    },
    {
     "name": "stderr",
     "output_type": "stream",
     "text": [
      "/tmp/ipykernel_143036/2315473137.py:22: FutureWarning: 'S' is deprecated and will be removed in a future version, please use 's' instead.\n",
      "  date_range = pd.date_range(start=start_date, end=end_date, freq=f'{min_time_step}S')\n"
     ]
    },
    {
     "name": "stdout",
     "output_type": "stream",
     "text": [
      "Processing file: /home/ray/Dispa-SET_Unleash/RawData/Load_RealTime/Raw_Data_Sources/2023/PL/2023_1.csv\n",
      "The minimum time step used in the column is: 3600.0 seconds\n",
      "Updated CSV file with 'Forecasted Load' and 'Actual Load' columns: /home/ray/Dispa-SET_Unleash/RawData/Load_RealTime/Raw_Data_Sources/2023/PL/2023.csv\n",
      "Processing file: /home/ray/Dispa-SET_Unleash/RawData/Load_RealTime/Raw_Data_Sources/2023/PT/2023_1.csv\n",
      "The minimum time step used in the column is: 3600.0 seconds\n"
     ]
    },
    {
     "name": "stderr",
     "output_type": "stream",
     "text": [
      "/tmp/ipykernel_143036/2315473137.py:22: FutureWarning: 'S' is deprecated and will be removed in a future version, please use 's' instead.\n",
      "  date_range = pd.date_range(start=start_date, end=end_date, freq=f'{min_time_step}S')\n"
     ]
    },
    {
     "name": "stdout",
     "output_type": "stream",
     "text": [
      "Updated CSV file with 'Forecasted Load' and 'Actual Load' columns: /home/ray/Dispa-SET_Unleash/RawData/Load_RealTime/Raw_Data_Sources/2023/PT/2023.csv\n"
     ]
    },
    {
     "name": "stderr",
     "output_type": "stream",
     "text": [
      "/tmp/ipykernel_143036/2315473137.py:22: FutureWarning: 'S' is deprecated and will be removed in a future version, please use 's' instead.\n",
      "  date_range = pd.date_range(start=start_date, end=end_date, freq=f'{min_time_step}S')\n"
     ]
    },
    {
     "name": "stdout",
     "output_type": "stream",
     "text": [
      "Processing file: /home/ray/Dispa-SET_Unleash/RawData/Load_RealTime/Raw_Data_Sources/2023/RO/2023_1.csv\n",
      "The minimum time step used in the column is: 900.0 seconds\n",
      "Updated CSV file with 'Forecasted Load' and 'Actual Load' columns: /home/ray/Dispa-SET_Unleash/RawData/Load_RealTime/Raw_Data_Sources/2023/RO/2023.csv\n",
      "Processing file: /home/ray/Dispa-SET_Unleash/RawData/Load_RealTime/Raw_Data_Sources/2023/SE/2023_1.csv\n",
      "The minimum time step used in the column is: 3600.0 seconds\n",
      "Updated CSV file with 'Forecasted Load' and 'Actual Load' columns: /home/ray/Dispa-SET_Unleash/RawData/Load_RealTime/Raw_Data_Sources/2023/SE/2023.csv\n",
      "Processing file: /home/ray/Dispa-SET_Unleash/RawData/Load_RealTime/Raw_Data_Sources/2023/SI/2023_1.csv\n",
      "The minimum time step used in the column is: 3600.0 seconds\n"
     ]
    },
    {
     "name": "stderr",
     "output_type": "stream",
     "text": [
      "/tmp/ipykernel_143036/2315473137.py:22: FutureWarning: 'S' is deprecated and will be removed in a future version, please use 's' instead.\n",
      "  date_range = pd.date_range(start=start_date, end=end_date, freq=f'{min_time_step}S')\n",
      "/tmp/ipykernel_143036/2315473137.py:22: FutureWarning: 'S' is deprecated and will be removed in a future version, please use 's' instead.\n",
      "  date_range = pd.date_range(start=start_date, end=end_date, freq=f'{min_time_step}S')\n"
     ]
    },
    {
     "name": "stdout",
     "output_type": "stream",
     "text": [
      "Updated CSV file with 'Forecasted Load' and 'Actual Load' columns: /home/ray/Dispa-SET_Unleash/RawData/Load_RealTime/Raw_Data_Sources/2023/SI/2023.csv\n",
      "Processing file: /home/ray/Dispa-SET_Unleash/RawData/Load_RealTime/Raw_Data_Sources/2023/SK/2023_1.csv\n",
      "The minimum time step used in the column is: 3600.0 seconds\n"
     ]
    },
    {
     "name": "stderr",
     "output_type": "stream",
     "text": [
      "/tmp/ipykernel_143036/2315473137.py:22: FutureWarning: 'S' is deprecated and will be removed in a future version, please use 's' instead.\n",
      "  date_range = pd.date_range(start=start_date, end=end_date, freq=f'{min_time_step}S')\n"
     ]
    },
    {
     "name": "stdout",
     "output_type": "stream",
     "text": [
      "Updated CSV file with 'Forecasted Load' and 'Actual Load' columns: /home/ray/Dispa-SET_Unleash/RawData/Load_RealTime/Raw_Data_Sources/2023/SK/2023.csv\n",
      "Processing file: /home/ray/Dispa-SET_Unleash/RawData/Load_RealTime/Raw_Data_Sources/2023/UK/2023_1.csv\n",
      "The minimum time step used in the column is: 1800.0 seconds\n"
     ]
    },
    {
     "name": "stderr",
     "output_type": "stream",
     "text": [
      "/tmp/ipykernel_143036/2315473137.py:22: FutureWarning: 'S' is deprecated and will be removed in a future version, please use 's' instead.\n",
      "  date_range = pd.date_range(start=start_date, end=end_date, freq=f'{min_time_step}S')\n"
     ]
    },
    {
     "name": "stdout",
     "output_type": "stream",
     "text": [
      "Updated CSV file with 'Forecasted Load' and 'Actual Load' columns: /home/ray/Dispa-SET_Unleash/RawData/Load_RealTime/Raw_Data_Sources/2023/UK/2023.csv\n",
      "Updated country_list.csv with new file paths.\n"
     ]
    }
   ],
   "source": [
    "# Step 1: Read country list CSV file\n",
    "country_list_df = pd.read_csv(load_data_country_list_file)\n",
    "\n",
    "# Step 2-6: Process each CSV file specified in Raw_Data_File_Path column\n",
    "for index, row in country_list_df.iterrows():\n",
    "    raw_data_file_path = row['Raw_Data_File_Path']\n",
    "    \n",
    "    # Step 2: Read the original CSV file\n",
    "    df = pd.read_csv(raw_data_file_path)\n",
    "    df['index'] = pd.to_datetime(df['index'], format='%Y-%m-%d %H:%M:%S%z')\n",
    "    df.sort_values(by='index', inplace=True)\n",
    "    df['time_diff'] = df['index'].diff().dt.total_seconds()\n",
    "    min_time_step = df['time_diff'].dropna().min()\n",
    "    \n",
    "    print(f\"Processing file: {raw_data_file_path}\")\n",
    "    print(f\"The minimum time step used in the column is: {min_time_step} seconds\")\n",
    "    \n",
    "    # Step 3: Create a new DataFrame with reconstructed time values\n",
    "    start_date = pd.Timestamp(f'{data_year}-01-01')\n",
    "    end_date = pd.Timestamp(f'{data_year}-12-31 23:59:59')  # Assuming end of year, adjust as needed\n",
    "    time_step = pd.Timedelta(seconds=min_time_step)\n",
    "    date_range = pd.date_range(start=start_date, end=end_date, freq=f'{min_time_step}S')\n",
    "    df_new = pd.DataFrame(date_range, columns=['index'])\n",
    "\n",
    "\n",
    "    # Step 4: Verify and filter rows based on data_year in the original CSV file\n",
    "    df_filtered = df[df['index'].dt.year == data_year]\n",
    "    df_non_matching = df[df['index'].dt.year != data_year]\n",
    "    df_filtered = pd.concat([df_filtered, df_non_matching], ignore_index=True)\n",
    "    \n",
    "    # Step 5: Copy 'Forecasted Load' and 'Actual Load' columns to the new CSV file\n",
    "    df_to_write = df_new.copy()\n",
    "    df_to_write['Forecasted Load'] = df_filtered['Forecasted Load']\n",
    "    df_to_write['Actual Load'] = df_filtered['Actual Load']\n",
    "    \n",
    "    # Step 6: Save the final DataFrame to a new CSV file\n",
    "    new_file_path = os.path.join(os.path.dirname(raw_data_file_path), f\"{data_year}.csv\")\n",
    "    df_to_write.to_csv(new_file_path, index=False)\n",
    "    print(f\"Updated CSV file with 'Forecasted Load' and 'Actual Load' columns: {new_file_path}\")\n",
    "    \n",
    "    # Update the corresponding Raw_Data_File_Path in country_list.csv with the new file path\n",
    "    country_list_df.at[index, 'Raw_Data_File_Path'] = new_file_path\n",
    "\n",
    "# Step 7: Save the updated country_list_df back to the CSV file\n",
    "country_list_df.to_csv(load_data_country_list_file, index=False)\n",
    "print(f\"Updated country_list.csv with new file paths.\")"
   ]
  },
  {
   "cell_type": "code",
   "execution_count": 128,
   "id": "a9447930-bdcd-44fb-b34f-46cbd5c1e7da",
   "metadata": {},
   "outputs": [
    {
     "name": "stdout",
     "output_type": "stream",
     "text": [
      "Processing complete. All 'index' columns have been updated with '+00:00'.\n"
     ]
    }
   ],
   "source": [
    "# Load the list of file paths from the specified CSV file\n",
    "country_list_df = pd.read_csv(load_data_country_list_file)\n",
    "\n",
    "# Function to process each file\n",
    "def process_csv_file(file_path):\n",
    "    # Read the CSV file\n",
    "    df = pd.read_csv(file_path)\n",
    "\n",
    "    # Ensure the 'index' column exists and modify it by appending '+00:00'\n",
    "    if 'index' in df.columns:\n",
    "        df['index'] = df['index'].astype(str) + '+00:00'\n",
    "\n",
    "    # Save the modified DataFrame back to the original CSV file\n",
    "    df.to_csv(file_path, index=False)\n",
    "\n",
    "# Iterate over each file path in the 'Raw_Data_File_Path' column\n",
    "for file_path in country_list_df['Raw_Data_File_Path']:\n",
    "    process_csv_file(file_path)\n",
    "\n",
    "print(\"Processing complete. All 'index' columns have been updated with '+00:00'.\")\n"
   ]
  },
  {
   "cell_type": "markdown",
   "id": "b172374a-6245-4c5b-a767-844ed503d937",
   "metadata": {},
   "source": [
    "</div>\n",
    "<div style=\"text-align: justify; margin-left: 0.0em; font-weight: unbold; font-size: 14px; font-family: TimesNewRoman; color:skyblue\">\n",
    "Dividing the day Ahead and Real Time load data into diferent files.\n",
    "</div>"
   ]
  },
  {
   "cell_type": "code",
   "execution_count": 129,
   "id": "53d5ce13-5bba-4125-a931-42fbfe689fac",
   "metadata": {},
   "outputs": [
    {
     "name": "stdout",
     "output_type": "stream",
     "text": [
      "Loading the country list file...\n",
      "Processing AT...\n",
      "Creating directory: /home/ray/Dispa-SET_Unleash/RawData/Load_DayAhead/AT\n",
      "Creating directory: /home/ray/Dispa-SET_Unleash/RawData/Load_RealTime/AT\n",
      " - Saved day-ahead data to /home/ray/Dispa-SET_Unleash/RawData/Load_DayAhead/AT/2023.csv\n",
      " - Saved real-time data to /home/ray/Dispa-SET_Unleash/RawData/Load_RealTime/AT/2023.csv\n",
      "Processing BE...\n",
      "Creating directory: /home/ray/Dispa-SET_Unleash/RawData/Load_DayAhead/BE\n",
      "Creating directory: /home/ray/Dispa-SET_Unleash/RawData/Load_RealTime/BE\n",
      " - Saved day-ahead data to /home/ray/Dispa-SET_Unleash/RawData/Load_DayAhead/BE/2023.csv\n",
      " - Saved real-time data to /home/ray/Dispa-SET_Unleash/RawData/Load_RealTime/BE/2023.csv\n",
      "Processing BG...\n",
      "Creating directory: /home/ray/Dispa-SET_Unleash/RawData/Load_DayAhead/BG\n",
      "Creating directory: /home/ray/Dispa-SET_Unleash/RawData/Load_RealTime/BG\n",
      " - Saved day-ahead data to /home/ray/Dispa-SET_Unleash/RawData/Load_DayAhead/BG/2023.csv\n",
      " - Saved real-time data to /home/ray/Dispa-SET_Unleash/RawData/Load_RealTime/BG/2023.csv\n",
      "Processing CH...\n",
      "Creating directory: /home/ray/Dispa-SET_Unleash/RawData/Load_DayAhead/CH\n",
      "Creating directory: /home/ray/Dispa-SET_Unleash/RawData/Load_RealTime/CH\n",
      " - Saved day-ahead data to /home/ray/Dispa-SET_Unleash/RawData/Load_DayAhead/CH/2023.csv\n",
      " - Saved real-time data to /home/ray/Dispa-SET_Unleash/RawData/Load_RealTime/CH/2023.csv\n",
      "Processing CY...\n",
      "Creating directory: /home/ray/Dispa-SET_Unleash/RawData/Load_DayAhead/CY\n",
      "Creating directory: /home/ray/Dispa-SET_Unleash/RawData/Load_RealTime/CY\n",
      " - Saved day-ahead data to /home/ray/Dispa-SET_Unleash/RawData/Load_DayAhead/CY/2023.csv\n",
      " - Saved real-time data to /home/ray/Dispa-SET_Unleash/RawData/Load_RealTime/CY/2023.csv\n",
      "Processing CZ...\n",
      "Creating directory: /home/ray/Dispa-SET_Unleash/RawData/Load_DayAhead/CZ\n",
      "Creating directory: /home/ray/Dispa-SET_Unleash/RawData/Load_RealTime/CZ\n",
      " - Saved day-ahead data to /home/ray/Dispa-SET_Unleash/RawData/Load_DayAhead/CZ/2023.csv\n",
      " - Saved real-time data to /home/ray/Dispa-SET_Unleash/RawData/Load_RealTime/CZ/2023.csv\n",
      "Processing DE...\n",
      "Creating directory: /home/ray/Dispa-SET_Unleash/RawData/Load_DayAhead/DE\n",
      "Creating directory: /home/ray/Dispa-SET_Unleash/RawData/Load_RealTime/DE\n",
      " - Saved day-ahead data to /home/ray/Dispa-SET_Unleash/RawData/Load_DayAhead/DE/2023.csv\n",
      " - Saved real-time data to /home/ray/Dispa-SET_Unleash/RawData/Load_RealTime/DE/2023.csv\n",
      "Processing DK...\n",
      "Creating directory: /home/ray/Dispa-SET_Unleash/RawData/Load_DayAhead/DK\n",
      "Creating directory: /home/ray/Dispa-SET_Unleash/RawData/Load_RealTime/DK\n",
      " - Saved day-ahead data to /home/ray/Dispa-SET_Unleash/RawData/Load_DayAhead/DK/2023.csv\n",
      " - Saved real-time data to /home/ray/Dispa-SET_Unleash/RawData/Load_RealTime/DK/2023.csv\n",
      "Processing EE...\n",
      "Creating directory: /home/ray/Dispa-SET_Unleash/RawData/Load_DayAhead/EE\n",
      "Creating directory: /home/ray/Dispa-SET_Unleash/RawData/Load_RealTime/EE\n",
      " - Saved day-ahead data to /home/ray/Dispa-SET_Unleash/RawData/Load_DayAhead/EE/2023.csv\n",
      " - Saved real-time data to /home/ray/Dispa-SET_Unleash/RawData/Load_RealTime/EE/2023.csv\n",
      "Processing EL...\n",
      "Creating directory: /home/ray/Dispa-SET_Unleash/RawData/Load_DayAhead/EL\n",
      "Creating directory: /home/ray/Dispa-SET_Unleash/RawData/Load_RealTime/EL\n",
      " - Saved day-ahead data to /home/ray/Dispa-SET_Unleash/RawData/Load_DayAhead/EL/2023.csv\n",
      " - Saved real-time data to /home/ray/Dispa-SET_Unleash/RawData/Load_RealTime/EL/2023.csv\n",
      "Processing ES...\n",
      "Creating directory: /home/ray/Dispa-SET_Unleash/RawData/Load_DayAhead/ES\n",
      "Creating directory: /home/ray/Dispa-SET_Unleash/RawData/Load_RealTime/ES\n",
      " - Saved day-ahead data to /home/ray/Dispa-SET_Unleash/RawData/Load_DayAhead/ES/2023.csv\n",
      " - Saved real-time data to /home/ray/Dispa-SET_Unleash/RawData/Load_RealTime/ES/2023.csv\n",
      "Processing FI...\n",
      "Creating directory: /home/ray/Dispa-SET_Unleash/RawData/Load_DayAhead/FI\n",
      "Creating directory: /home/ray/Dispa-SET_Unleash/RawData/Load_RealTime/FI\n",
      " - Saved day-ahead data to /home/ray/Dispa-SET_Unleash/RawData/Load_DayAhead/FI/2023.csv\n",
      " - Saved real-time data to /home/ray/Dispa-SET_Unleash/RawData/Load_RealTime/FI/2023.csv\n",
      "Processing FR...\n",
      "Creating directory: /home/ray/Dispa-SET_Unleash/RawData/Load_DayAhead/FR\n",
      "Creating directory: /home/ray/Dispa-SET_Unleash/RawData/Load_RealTime/FR\n",
      " - Saved day-ahead data to /home/ray/Dispa-SET_Unleash/RawData/Load_DayAhead/FR/2023.csv\n",
      " - Saved real-time data to /home/ray/Dispa-SET_Unleash/RawData/Load_RealTime/FR/2023.csv\n",
      "Processing HR...\n",
      "Creating directory: /home/ray/Dispa-SET_Unleash/RawData/Load_DayAhead/HR\n",
      "Creating directory: /home/ray/Dispa-SET_Unleash/RawData/Load_RealTime/HR\n",
      " - Saved day-ahead data to /home/ray/Dispa-SET_Unleash/RawData/Load_DayAhead/HR/2023.csv\n",
      " - Saved real-time data to /home/ray/Dispa-SET_Unleash/RawData/Load_RealTime/HR/2023.csv\n",
      "Processing HU...\n",
      "Creating directory: /home/ray/Dispa-SET_Unleash/RawData/Load_DayAhead/HU\n",
      "Creating directory: /home/ray/Dispa-SET_Unleash/RawData/Load_RealTime/HU\n",
      " - Saved day-ahead data to /home/ray/Dispa-SET_Unleash/RawData/Load_DayAhead/HU/2023.csv\n",
      " - Saved real-time data to /home/ray/Dispa-SET_Unleash/RawData/Load_RealTime/HU/2023.csv\n",
      "Processing IE...\n",
      "Creating directory: /home/ray/Dispa-SET_Unleash/RawData/Load_DayAhead/IE\n",
      "Creating directory: /home/ray/Dispa-SET_Unleash/RawData/Load_RealTime/IE\n",
      " - Saved day-ahead data to /home/ray/Dispa-SET_Unleash/RawData/Load_DayAhead/IE/2023.csv\n",
      " - Saved real-time data to /home/ray/Dispa-SET_Unleash/RawData/Load_RealTime/IE/2023.csv\n",
      "Processing IT...\n",
      "Creating directory: /home/ray/Dispa-SET_Unleash/RawData/Load_DayAhead/IT\n",
      "Creating directory: /home/ray/Dispa-SET_Unleash/RawData/Load_RealTime/IT\n",
      " - Saved day-ahead data to /home/ray/Dispa-SET_Unleash/RawData/Load_DayAhead/IT/2023.csv\n",
      " - Saved real-time data to /home/ray/Dispa-SET_Unleash/RawData/Load_RealTime/IT/2023.csv\n",
      "Processing LT...\n",
      "Creating directory: /home/ray/Dispa-SET_Unleash/RawData/Load_DayAhead/LT\n",
      "Creating directory: /home/ray/Dispa-SET_Unleash/RawData/Load_RealTime/LT\n",
      " - Saved day-ahead data to /home/ray/Dispa-SET_Unleash/RawData/Load_DayAhead/LT/2023.csv\n",
      " - Saved real-time data to /home/ray/Dispa-SET_Unleash/RawData/Load_RealTime/LT/2023.csv\n",
      "Processing LU...\n",
      "Creating directory: /home/ray/Dispa-SET_Unleash/RawData/Load_DayAhead/LU\n",
      "Creating directory: /home/ray/Dispa-SET_Unleash/RawData/Load_RealTime/LU\n",
      " - Saved day-ahead data to /home/ray/Dispa-SET_Unleash/RawData/Load_DayAhead/LU/2023.csv\n",
      " - Saved real-time data to /home/ray/Dispa-SET_Unleash/RawData/Load_RealTime/LU/2023.csv\n",
      "Processing LV...\n",
      "Creating directory: /home/ray/Dispa-SET_Unleash/RawData/Load_DayAhead/LV\n",
      "Creating directory: /home/ray/Dispa-SET_Unleash/RawData/Load_RealTime/LV\n",
      " - Saved day-ahead data to /home/ray/Dispa-SET_Unleash/RawData/Load_DayAhead/LV/2023.csv\n",
      " - Saved real-time data to /home/ray/Dispa-SET_Unleash/RawData/Load_RealTime/LV/2023.csv\n",
      "Processing MT...\n",
      "Creating directory: /home/ray/Dispa-SET_Unleash/RawData/Load_DayAhead/MT\n",
      "Creating directory: /home/ray/Dispa-SET_Unleash/RawData/Load_RealTime/MT\n",
      " - Saved day-ahead data to /home/ray/Dispa-SET_Unleash/RawData/Load_DayAhead/MT/2023.csv\n",
      " - Saved real-time data to /home/ray/Dispa-SET_Unleash/RawData/Load_RealTime/MT/2023.csv\n",
      "Processing NL...\n",
      "Creating directory: /home/ray/Dispa-SET_Unleash/RawData/Load_DayAhead/NL\n",
      "Creating directory: /home/ray/Dispa-SET_Unleash/RawData/Load_RealTime/NL\n",
      " - Saved day-ahead data to /home/ray/Dispa-SET_Unleash/RawData/Load_DayAhead/NL/2023.csv\n",
      " - Saved real-time data to /home/ray/Dispa-SET_Unleash/RawData/Load_RealTime/NL/2023.csv\n",
      "Processing NO...\n",
      "Creating directory: /home/ray/Dispa-SET_Unleash/RawData/Load_DayAhead/NO\n",
      "Creating directory: /home/ray/Dispa-SET_Unleash/RawData/Load_RealTime/NO\n",
      " - Saved day-ahead data to /home/ray/Dispa-SET_Unleash/RawData/Load_DayAhead/NO/2023.csv\n",
      " - Saved real-time data to /home/ray/Dispa-SET_Unleash/RawData/Load_RealTime/NO/2023.csv\n",
      "Processing PL...\n",
      "Creating directory: /home/ray/Dispa-SET_Unleash/RawData/Load_DayAhead/PL\n",
      "Creating directory: /home/ray/Dispa-SET_Unleash/RawData/Load_RealTime/PL\n",
      " - Saved day-ahead data to /home/ray/Dispa-SET_Unleash/RawData/Load_DayAhead/PL/2023.csv\n",
      " - Saved real-time data to /home/ray/Dispa-SET_Unleash/RawData/Load_RealTime/PL/2023.csv\n",
      "Processing PT...\n",
      "Creating directory: /home/ray/Dispa-SET_Unleash/RawData/Load_DayAhead/PT\n",
      "Creating directory: /home/ray/Dispa-SET_Unleash/RawData/Load_RealTime/PT\n",
      " - Saved day-ahead data to /home/ray/Dispa-SET_Unleash/RawData/Load_DayAhead/PT/2023.csv\n",
      " - Saved real-time data to /home/ray/Dispa-SET_Unleash/RawData/Load_RealTime/PT/2023.csv\n",
      "Processing RO...\n",
      "Creating directory: /home/ray/Dispa-SET_Unleash/RawData/Load_DayAhead/RO\n",
      "Creating directory: /home/ray/Dispa-SET_Unleash/RawData/Load_RealTime/RO\n",
      " - Saved day-ahead data to /home/ray/Dispa-SET_Unleash/RawData/Load_DayAhead/RO/2023.csv\n",
      " - Saved real-time data to /home/ray/Dispa-SET_Unleash/RawData/Load_RealTime/RO/2023.csv\n",
      "Processing SE...\n",
      "Creating directory: /home/ray/Dispa-SET_Unleash/RawData/Load_DayAhead/SE\n",
      "Creating directory: /home/ray/Dispa-SET_Unleash/RawData/Load_RealTime/SE\n",
      " - Saved day-ahead data to /home/ray/Dispa-SET_Unleash/RawData/Load_DayAhead/SE/2023.csv\n",
      " - Saved real-time data to /home/ray/Dispa-SET_Unleash/RawData/Load_RealTime/SE/2023.csv\n",
      "Processing SI...\n",
      "Creating directory: /home/ray/Dispa-SET_Unleash/RawData/Load_DayAhead/SI\n",
      "Creating directory: /home/ray/Dispa-SET_Unleash/RawData/Load_RealTime/SI\n",
      " - Saved day-ahead data to /home/ray/Dispa-SET_Unleash/RawData/Load_DayAhead/SI/2023.csv\n",
      " - Saved real-time data to /home/ray/Dispa-SET_Unleash/RawData/Load_RealTime/SI/2023.csv\n",
      "Processing SK...\n",
      "Creating directory: /home/ray/Dispa-SET_Unleash/RawData/Load_DayAhead/SK\n",
      "Creating directory: /home/ray/Dispa-SET_Unleash/RawData/Load_RealTime/SK\n",
      " - Saved day-ahead data to /home/ray/Dispa-SET_Unleash/RawData/Load_DayAhead/SK/2023.csv\n",
      " - Saved real-time data to /home/ray/Dispa-SET_Unleash/RawData/Load_RealTime/SK/2023.csv\n",
      "Processing UK...\n",
      "Creating directory: /home/ray/Dispa-SET_Unleash/RawData/Load_DayAhead/UK\n",
      "Creating directory: /home/ray/Dispa-SET_Unleash/RawData/Load_RealTime/UK\n",
      " - Saved day-ahead data to /home/ray/Dispa-SET_Unleash/RawData/Load_DayAhead/UK/2023.csv\n",
      " - Saved real-time data to /home/ray/Dispa-SET_Unleash/RawData/Load_RealTime/UK/2023.csv\n",
      "Saving the updated country list file...\n",
      "Process completed successfully!\n"
     ]
    }
   ],
   "source": [
    "# Load the country list file\n",
    "print(\"Loading the country list file...\")\n",
    "country_list_df = pd.read_csv(load_data_country_list_file)\n",
    "\n",
    "# Initialize new columns for the output paths\n",
    "country_list_df['Load_DayAhead_File_Path'] = ''\n",
    "country_list_df['Load_Realtime_File_Path'] = ''\n",
    "\n",
    "# Process each country\n",
    "for index, row in country_list_df.iterrows():\n",
    "    raw_data_file_path = row['Raw_Data_File_Path']\n",
    "    country_from = row['Country_From']\n",
    "    \n",
    "    print(f\"Processing {country_from}...\")\n",
    "\n",
    "    # Check if the raw data file exists\n",
    "    if not os.path.exists(raw_data_file_path):\n",
    "        print(f\"Error: File not found - {raw_data_file_path}\")\n",
    "        continue\n",
    "    \n",
    "    # Load the raw data CSV file\n",
    "    raw_data_df = pd.read_csv(raw_data_file_path)\n",
    "    \n",
    "    # Create DataFrames for Forecasted Load and Actual Load\n",
    "    day_ahead_df = raw_data_df[['index', 'Forecasted Load']]\n",
    "    real_time_df = raw_data_df[['index', 'Actual Load']]\n",
    "    \n",
    "    # Create subdirectories for the country if they don't exist\n",
    "    country_dayAhead_path = os.path.join(load_dayAhead_folder_path, country_from)\n",
    "    country_realTime_path = os.path.join(load_realtime_folder_path, country_from)\n",
    "    \n",
    "    if not os.path.exists(country_dayAhead_path):\n",
    "        print(f\"Creating directory: {country_dayAhead_path}\")\n",
    "        os.makedirs(country_dayAhead_path, exist_ok=True)\n",
    "    \n",
    "    if not os.path.exists(country_realTime_path):\n",
    "        print(f\"Creating directory: {country_realTime_path}\")\n",
    "        os.makedirs(country_realTime_path, exist_ok=True)\n",
    "    \n",
    "    # Define paths for the new CSV files with the year as the file name\n",
    "    day_ahead_file_path = os.path.join(country_dayAhead_path, f\"{data_year}.csv\")\n",
    "    real_time_file_path = os.path.join(country_realTime_path, f\"{data_year}.csv\")\n",
    "    \n",
    "    # Save the new CSV files\n",
    "    day_ahead_df.to_csv(day_ahead_file_path, index=False)\n",
    "    print(f\" - Saved day-ahead data to {day_ahead_file_path}\")\n",
    "    \n",
    "    real_time_df.to_csv(real_time_file_path, index=False)\n",
    "    print(f\" - Saved real-time data to {real_time_file_path}\")\n",
    "    \n",
    "    # Update the paths in the country list DataFrame\n",
    "    country_list_df.at[index, 'Load_DayAhead_File_Path'] = day_ahead_file_path\n",
    "    country_list_df.at[index, 'Load_Realtime_File_Path'] = real_time_file_path\n",
    "\n",
    "# Save the updated country list DataFrame\n",
    "print(\"Saving the updated country list file...\")\n",
    "country_list_df.to_csv(load_data_country_list_file, index=False)\n",
    "\n",
    "print(\"Process completed successfully!\")"
   ]
  },
  {
   "cell_type": "code",
   "execution_count": 130,
   "id": "859b2da2-7919-449d-b6e5-bb383cc8d9cf",
   "metadata": {},
   "outputs": [
    {
     "name": "stdout",
     "output_type": "stream",
     "text": [
      "Loading country list file from /home/ray/Dispa-SET_Unleash/RawData/Load_RealTime/Raw_Data_Sources/country_list.csv...\n",
      "Processing files for row 1...\n",
      "Processing Day-Ahead file: /home/ray/Dispa-SET_Unleash/RawData/Load_DayAhead/AT/2023.csv\n",
      "Loading CSV file from /home/ray/Dispa-SET_Unleash/RawData/Load_DayAhead/AT/2023.csv...\n",
      "File saved: /home/ray/Dispa-SET_Unleash/RawData/Load_DayAhead/AT/1h/2023.csv\n",
      "Loading CSV file from /home/ray/Dispa-SET_Unleash/RawData/Load_DayAhead/AT/2023.csv...\n",
      "File saved: /home/ray/Dispa-SET_Unleash/RawData/Load_DayAhead/AT/30min/2023.csv\n",
      "Loading CSV file from /home/ray/Dispa-SET_Unleash/RawData/Load_DayAhead/AT/2023.csv...\n"
     ]
    },
    {
     "name": "stderr",
     "output_type": "stream",
     "text": [
      "/tmp/ipykernel_143036/3717144850.py:37: FutureWarning: 'T' is deprecated and will be removed in a future version, please use 'min' instead.\n",
      "  resampled_df = df_resample.resample(interval).first().reset_index()\n",
      "/tmp/ipykernel_143036/3717144850.py:37: FutureWarning: 'T' is deprecated and will be removed in a future version, please use 'min' instead.\n",
      "  resampled_df = df_resample.resample(interval).first().reset_index()\n"
     ]
    },
    {
     "name": "stdout",
     "output_type": "stream",
     "text": [
      "File saved: /home/ray/Dispa-SET_Unleash/RawData/Load_DayAhead/AT/15min/2023.csv\n",
      "Processing Real-Time file: /home/ray/Dispa-SET_Unleash/RawData/Load_RealTime/AT/2023.csv\n",
      "Loading CSV file from /home/ray/Dispa-SET_Unleash/RawData/Load_RealTime/AT/2023.csv...\n",
      "File saved: /home/ray/Dispa-SET_Unleash/RawData/Load_RealTime/AT/1h/2023.csv\n",
      "Loading CSV file from /home/ray/Dispa-SET_Unleash/RawData/Load_RealTime/AT/2023.csv...\n"
     ]
    },
    {
     "name": "stderr",
     "output_type": "stream",
     "text": [
      "/tmp/ipykernel_143036/3717144850.py:37: FutureWarning: 'T' is deprecated and will be removed in a future version, please use 'min' instead.\n",
      "  resampled_df = df_resample.resample(interval).first().reset_index()\n"
     ]
    },
    {
     "name": "stdout",
     "output_type": "stream",
     "text": [
      "File saved: /home/ray/Dispa-SET_Unleash/RawData/Load_RealTime/AT/30min/2023.csv\n",
      "Loading CSV file from /home/ray/Dispa-SET_Unleash/RawData/Load_RealTime/AT/2023.csv...\n"
     ]
    },
    {
     "name": "stderr",
     "output_type": "stream",
     "text": [
      "/tmp/ipykernel_143036/3717144850.py:37: FutureWarning: 'T' is deprecated and will be removed in a future version, please use 'min' instead.\n",
      "  resampled_df = df_resample.resample(interval).first().reset_index()\n"
     ]
    },
    {
     "name": "stdout",
     "output_type": "stream",
     "text": [
      "File saved: /home/ray/Dispa-SET_Unleash/RawData/Load_RealTime/AT/15min/2023.csv\n",
      "Processing files for row 2...\n",
      "Processing Day-Ahead file: /home/ray/Dispa-SET_Unleash/RawData/Load_DayAhead/BE/2023.csv\n",
      "Loading CSV file from /home/ray/Dispa-SET_Unleash/RawData/Load_DayAhead/BE/2023.csv...\n",
      "File saved: /home/ray/Dispa-SET_Unleash/RawData/Load_DayAhead/BE/1h/2023.csv\n",
      "Loading CSV file from /home/ray/Dispa-SET_Unleash/RawData/Load_DayAhead/BE/2023.csv...\n"
     ]
    },
    {
     "name": "stderr",
     "output_type": "stream",
     "text": [
      "/tmp/ipykernel_143036/3717144850.py:37: FutureWarning: 'T' is deprecated and will be removed in a future version, please use 'min' instead.\n",
      "  resampled_df = df_resample.resample(interval).first().reset_index()\n"
     ]
    },
    {
     "name": "stdout",
     "output_type": "stream",
     "text": [
      "File saved: /home/ray/Dispa-SET_Unleash/RawData/Load_DayAhead/BE/30min/2023.csv\n",
      "Loading CSV file from /home/ray/Dispa-SET_Unleash/RawData/Load_DayAhead/BE/2023.csv...\n"
     ]
    },
    {
     "name": "stderr",
     "output_type": "stream",
     "text": [
      "/tmp/ipykernel_143036/3717144850.py:37: FutureWarning: 'T' is deprecated and will be removed in a future version, please use 'min' instead.\n",
      "  resampled_df = df_resample.resample(interval).first().reset_index()\n"
     ]
    },
    {
     "name": "stdout",
     "output_type": "stream",
     "text": [
      "File saved: /home/ray/Dispa-SET_Unleash/RawData/Load_DayAhead/BE/15min/2023.csv\n",
      "Processing Real-Time file: /home/ray/Dispa-SET_Unleash/RawData/Load_RealTime/BE/2023.csv\n",
      "Loading CSV file from /home/ray/Dispa-SET_Unleash/RawData/Load_RealTime/BE/2023.csv...\n",
      "File saved: /home/ray/Dispa-SET_Unleash/RawData/Load_RealTime/BE/1h/2023.csv\n",
      "Loading CSV file from /home/ray/Dispa-SET_Unleash/RawData/Load_RealTime/BE/2023.csv...\n"
     ]
    },
    {
     "name": "stderr",
     "output_type": "stream",
     "text": [
      "/tmp/ipykernel_143036/3717144850.py:37: FutureWarning: 'T' is deprecated and will be removed in a future version, please use 'min' instead.\n",
      "  resampled_df = df_resample.resample(interval).first().reset_index()\n"
     ]
    },
    {
     "name": "stdout",
     "output_type": "stream",
     "text": [
      "File saved: /home/ray/Dispa-SET_Unleash/RawData/Load_RealTime/BE/30min/2023.csv\n",
      "Loading CSV file from /home/ray/Dispa-SET_Unleash/RawData/Load_RealTime/BE/2023.csv...\n"
     ]
    },
    {
     "name": "stderr",
     "output_type": "stream",
     "text": [
      "/tmp/ipykernel_143036/3717144850.py:37: FutureWarning: 'T' is deprecated and will be removed in a future version, please use 'min' instead.\n",
      "  resampled_df = df_resample.resample(interval).first().reset_index()\n"
     ]
    },
    {
     "name": "stdout",
     "output_type": "stream",
     "text": [
      "File saved: /home/ray/Dispa-SET_Unleash/RawData/Load_RealTime/BE/15min/2023.csv\n",
      "Processing files for row 3...\n",
      "Processing Day-Ahead file: /home/ray/Dispa-SET_Unleash/RawData/Load_DayAhead/BG/2023.csv\n",
      "Loading CSV file from /home/ray/Dispa-SET_Unleash/RawData/Load_DayAhead/BG/2023.csv...\n",
      "File saved: /home/ray/Dispa-SET_Unleash/RawData/Load_DayAhead/BG/1h/2023.csv\n",
      "Loading CSV file from /home/ray/Dispa-SET_Unleash/RawData/Load_DayAhead/BG/2023.csv...\n",
      "File saved: /home/ray/Dispa-SET_Unleash/RawData/Load_DayAhead/BG/30min/2023.csv\n",
      "Loading CSV file from /home/ray/Dispa-SET_Unleash/RawData/Load_DayAhead/BG/2023.csv...\n"
     ]
    },
    {
     "name": "stderr",
     "output_type": "stream",
     "text": [
      "/tmp/ipykernel_143036/3717144850.py:37: FutureWarning: 'T' is deprecated and will be removed in a future version, please use 'min' instead.\n",
      "  resampled_df = df_resample.resample(interval).first().reset_index()\n",
      "/tmp/ipykernel_143036/3717144850.py:37: FutureWarning: 'T' is deprecated and will be removed in a future version, please use 'min' instead.\n",
      "  resampled_df = df_resample.resample(interval).first().reset_index()\n"
     ]
    },
    {
     "name": "stdout",
     "output_type": "stream",
     "text": [
      "File saved: /home/ray/Dispa-SET_Unleash/RawData/Load_DayAhead/BG/15min/2023.csv\n",
      "Processing Real-Time file: /home/ray/Dispa-SET_Unleash/RawData/Load_RealTime/BG/2023.csv\n",
      "Loading CSV file from /home/ray/Dispa-SET_Unleash/RawData/Load_RealTime/BG/2023.csv...\n",
      "File saved: /home/ray/Dispa-SET_Unleash/RawData/Load_RealTime/BG/1h/2023.csv\n",
      "Loading CSV file from /home/ray/Dispa-SET_Unleash/RawData/Load_RealTime/BG/2023.csv...\n",
      "File saved: /home/ray/Dispa-SET_Unleash/RawData/Load_RealTime/BG/30min/2023.csv\n",
      "Loading CSV file from /home/ray/Dispa-SET_Unleash/RawData/Load_RealTime/BG/2023.csv...\n"
     ]
    },
    {
     "name": "stderr",
     "output_type": "stream",
     "text": [
      "/tmp/ipykernel_143036/3717144850.py:37: FutureWarning: 'T' is deprecated and will be removed in a future version, please use 'min' instead.\n",
      "  resampled_df = df_resample.resample(interval).first().reset_index()\n",
      "/tmp/ipykernel_143036/3717144850.py:37: FutureWarning: 'T' is deprecated and will be removed in a future version, please use 'min' instead.\n",
      "  resampled_df = df_resample.resample(interval).first().reset_index()\n"
     ]
    },
    {
     "name": "stdout",
     "output_type": "stream",
     "text": [
      "File saved: /home/ray/Dispa-SET_Unleash/RawData/Load_RealTime/BG/15min/2023.csv\n",
      "Processing files for row 4...\n",
      "Processing Day-Ahead file: /home/ray/Dispa-SET_Unleash/RawData/Load_DayAhead/CH/2023.csv\n",
      "Loading CSV file from /home/ray/Dispa-SET_Unleash/RawData/Load_DayAhead/CH/2023.csv...\n",
      "File saved: /home/ray/Dispa-SET_Unleash/RawData/Load_DayAhead/CH/1h/2023.csv\n",
      "Loading CSV file from /home/ray/Dispa-SET_Unleash/RawData/Load_DayAhead/CH/2023.csv...\n"
     ]
    },
    {
     "name": "stderr",
     "output_type": "stream",
     "text": [
      "/tmp/ipykernel_143036/3717144850.py:37: FutureWarning: 'T' is deprecated and will be removed in a future version, please use 'min' instead.\n",
      "  resampled_df = df_resample.resample(interval).first().reset_index()\n"
     ]
    },
    {
     "name": "stdout",
     "output_type": "stream",
     "text": [
      "File saved: /home/ray/Dispa-SET_Unleash/RawData/Load_DayAhead/CH/30min/2023.csv\n",
      "Loading CSV file from /home/ray/Dispa-SET_Unleash/RawData/Load_DayAhead/CH/2023.csv...\n"
     ]
    },
    {
     "name": "stderr",
     "output_type": "stream",
     "text": [
      "/tmp/ipykernel_143036/3717144850.py:37: FutureWarning: 'T' is deprecated and will be removed in a future version, please use 'min' instead.\n",
      "  resampled_df = df_resample.resample(interval).first().reset_index()\n"
     ]
    },
    {
     "name": "stdout",
     "output_type": "stream",
     "text": [
      "File saved: /home/ray/Dispa-SET_Unleash/RawData/Load_DayAhead/CH/15min/2023.csv\n",
      "Processing Real-Time file: /home/ray/Dispa-SET_Unleash/RawData/Load_RealTime/CH/2023.csv\n",
      "Loading CSV file from /home/ray/Dispa-SET_Unleash/RawData/Load_RealTime/CH/2023.csv...\n",
      "File saved: /home/ray/Dispa-SET_Unleash/RawData/Load_RealTime/CH/1h/2023.csv\n",
      "Loading CSV file from /home/ray/Dispa-SET_Unleash/RawData/Load_RealTime/CH/2023.csv...\n"
     ]
    },
    {
     "name": "stderr",
     "output_type": "stream",
     "text": [
      "/tmp/ipykernel_143036/3717144850.py:37: FutureWarning: 'T' is deprecated and will be removed in a future version, please use 'min' instead.\n",
      "  resampled_df = df_resample.resample(interval).first().reset_index()\n",
      "/tmp/ipykernel_143036/3717144850.py:37: FutureWarning: 'T' is deprecated and will be removed in a future version, please use 'min' instead.\n",
      "  resampled_df = df_resample.resample(interval).first().reset_index()\n"
     ]
    },
    {
     "name": "stdout",
     "output_type": "stream",
     "text": [
      "File saved: /home/ray/Dispa-SET_Unleash/RawData/Load_RealTime/CH/30min/2023.csv\n",
      "Loading CSV file from /home/ray/Dispa-SET_Unleash/RawData/Load_RealTime/CH/2023.csv...\n",
      "File saved: /home/ray/Dispa-SET_Unleash/RawData/Load_RealTime/CH/15min/2023.csv\n",
      "Processing files for row 5...\n",
      "Processing Day-Ahead file: /home/ray/Dispa-SET_Unleash/RawData/Load_DayAhead/CY/2023.csv\n",
      "Loading CSV file from /home/ray/Dispa-SET_Unleash/RawData/Load_DayAhead/CY/2023.csv...\n",
      "File saved: /home/ray/Dispa-SET_Unleash/RawData/Load_DayAhead/CY/1h/2023.csv\n",
      "Loading CSV file from /home/ray/Dispa-SET_Unleash/RawData/Load_DayAhead/CY/2023.csv...\n"
     ]
    },
    {
     "name": "stderr",
     "output_type": "stream",
     "text": [
      "/tmp/ipykernel_143036/3717144850.py:37: FutureWarning: 'T' is deprecated and will be removed in a future version, please use 'min' instead.\n",
      "  resampled_df = df_resample.resample(interval).first().reset_index()\n",
      "/tmp/ipykernel_143036/3717144850.py:37: FutureWarning: 'T' is deprecated and will be removed in a future version, please use 'min' instead.\n",
      "  resampled_df = df_resample.resample(interval).first().reset_index()\n"
     ]
    },
    {
     "name": "stdout",
     "output_type": "stream",
     "text": [
      "File saved: /home/ray/Dispa-SET_Unleash/RawData/Load_DayAhead/CY/30min/2023.csv\n",
      "Loading CSV file from /home/ray/Dispa-SET_Unleash/RawData/Load_DayAhead/CY/2023.csv...\n",
      "File saved: /home/ray/Dispa-SET_Unleash/RawData/Load_DayAhead/CY/15min/2023.csv\n",
      "Processing Real-Time file: /home/ray/Dispa-SET_Unleash/RawData/Load_RealTime/CY/2023.csv\n",
      "Loading CSV file from /home/ray/Dispa-SET_Unleash/RawData/Load_RealTime/CY/2023.csv...\n",
      "File saved: /home/ray/Dispa-SET_Unleash/RawData/Load_RealTime/CY/1h/2023.csv\n",
      "Loading CSV file from /home/ray/Dispa-SET_Unleash/RawData/Load_RealTime/CY/2023.csv...\n"
     ]
    },
    {
     "name": "stderr",
     "output_type": "stream",
     "text": [
      "/tmp/ipykernel_143036/3717144850.py:37: FutureWarning: 'T' is deprecated and will be removed in a future version, please use 'min' instead.\n",
      "  resampled_df = df_resample.resample(interval).first().reset_index()\n"
     ]
    },
    {
     "name": "stdout",
     "output_type": "stream",
     "text": [
      "File saved: /home/ray/Dispa-SET_Unleash/RawData/Load_RealTime/CY/30min/2023.csv\n",
      "Loading CSV file from /home/ray/Dispa-SET_Unleash/RawData/Load_RealTime/CY/2023.csv...\n"
     ]
    },
    {
     "name": "stderr",
     "output_type": "stream",
     "text": [
      "/tmp/ipykernel_143036/3717144850.py:37: FutureWarning: 'T' is deprecated and will be removed in a future version, please use 'min' instead.\n",
      "  resampled_df = df_resample.resample(interval).first().reset_index()\n"
     ]
    },
    {
     "name": "stdout",
     "output_type": "stream",
     "text": [
      "File saved: /home/ray/Dispa-SET_Unleash/RawData/Load_RealTime/CY/15min/2023.csv\n",
      "Processing files for row 6...\n",
      "Processing Day-Ahead file: /home/ray/Dispa-SET_Unleash/RawData/Load_DayAhead/CZ/2023.csv\n",
      "Loading CSV file from /home/ray/Dispa-SET_Unleash/RawData/Load_DayAhead/CZ/2023.csv...\n",
      "File saved: /home/ray/Dispa-SET_Unleash/RawData/Load_DayAhead/CZ/1h/2023.csv\n",
      "Loading CSV file from /home/ray/Dispa-SET_Unleash/RawData/Load_DayAhead/CZ/2023.csv...\n",
      "File saved: /home/ray/Dispa-SET_Unleash/RawData/Load_DayAhead/CZ/30min/2023.csv\n",
      "Loading CSV file from /home/ray/Dispa-SET_Unleash/RawData/Load_DayAhead/CZ/2023.csv...\n"
     ]
    },
    {
     "name": "stderr",
     "output_type": "stream",
     "text": [
      "/tmp/ipykernel_143036/3717144850.py:37: FutureWarning: 'T' is deprecated and will be removed in a future version, please use 'min' instead.\n",
      "  resampled_df = df_resample.resample(interval).first().reset_index()\n",
      "/tmp/ipykernel_143036/3717144850.py:37: FutureWarning: 'T' is deprecated and will be removed in a future version, please use 'min' instead.\n",
      "  resampled_df = df_resample.resample(interval).first().reset_index()\n",
      "/tmp/ipykernel_143036/3717144850.py:37: FutureWarning: 'T' is deprecated and will be removed in a future version, please use 'min' instead.\n",
      "  resampled_df = df_resample.resample(interval).first().reset_index()\n"
     ]
    },
    {
     "name": "stdout",
     "output_type": "stream",
     "text": [
      "File saved: /home/ray/Dispa-SET_Unleash/RawData/Load_DayAhead/CZ/15min/2023.csv\n",
      "Processing Real-Time file: /home/ray/Dispa-SET_Unleash/RawData/Load_RealTime/CZ/2023.csv\n",
      "Loading CSV file from /home/ray/Dispa-SET_Unleash/RawData/Load_RealTime/CZ/2023.csv...\n",
      "File saved: /home/ray/Dispa-SET_Unleash/RawData/Load_RealTime/CZ/1h/2023.csv\n",
      "Loading CSV file from /home/ray/Dispa-SET_Unleash/RawData/Load_RealTime/CZ/2023.csv...\n",
      "File saved: /home/ray/Dispa-SET_Unleash/RawData/Load_RealTime/CZ/30min/2023.csv\n",
      "Loading CSV file from /home/ray/Dispa-SET_Unleash/RawData/Load_RealTime/CZ/2023.csv...\n",
      "File saved: /home/ray/Dispa-SET_Unleash/RawData/Load_RealTime/CZ/15min/2023.csv\n",
      "Processing files for row 7...\n",
      "Processing Day-Ahead file: /home/ray/Dispa-SET_Unleash/RawData/Load_DayAhead/DE/2023.csv\n",
      "Loading CSV file from /home/ray/Dispa-SET_Unleash/RawData/Load_DayAhead/DE/2023.csv...\n",
      "File saved: /home/ray/Dispa-SET_Unleash/RawData/Load_DayAhead/DE/1h/2023.csv\n",
      "Loading CSV file from /home/ray/Dispa-SET_Unleash/RawData/Load_DayAhead/DE/2023.csv...\n"
     ]
    },
    {
     "name": "stderr",
     "output_type": "stream",
     "text": [
      "/tmp/ipykernel_143036/3717144850.py:37: FutureWarning: 'T' is deprecated and will be removed in a future version, please use 'min' instead.\n",
      "  resampled_df = df_resample.resample(interval).first().reset_index()\n",
      "/tmp/ipykernel_143036/3717144850.py:37: FutureWarning: 'T' is deprecated and will be removed in a future version, please use 'min' instead.\n",
      "  resampled_df = df_resample.resample(interval).first().reset_index()\n"
     ]
    },
    {
     "name": "stdout",
     "output_type": "stream",
     "text": [
      "File saved: /home/ray/Dispa-SET_Unleash/RawData/Load_DayAhead/DE/30min/2023.csv\n",
      "Loading CSV file from /home/ray/Dispa-SET_Unleash/RawData/Load_DayAhead/DE/2023.csv...\n"
     ]
    },
    {
     "name": "stderr",
     "output_type": "stream",
     "text": [
      "/tmp/ipykernel_143036/3717144850.py:37: FutureWarning: 'T' is deprecated and will be removed in a future version, please use 'min' instead.\n",
      "  resampled_df = df_resample.resample(interval).first().reset_index()\n"
     ]
    },
    {
     "name": "stdout",
     "output_type": "stream",
     "text": [
      "File saved: /home/ray/Dispa-SET_Unleash/RawData/Load_DayAhead/DE/15min/2023.csv\n",
      "Processing Real-Time file: /home/ray/Dispa-SET_Unleash/RawData/Load_RealTime/DE/2023.csv\n",
      "Loading CSV file from /home/ray/Dispa-SET_Unleash/RawData/Load_RealTime/DE/2023.csv...\n",
      "File saved: /home/ray/Dispa-SET_Unleash/RawData/Load_RealTime/DE/1h/2023.csv\n",
      "Loading CSV file from /home/ray/Dispa-SET_Unleash/RawData/Load_RealTime/DE/2023.csv...\n",
      "File saved: /home/ray/Dispa-SET_Unleash/RawData/Load_RealTime/DE/30min/2023.csv\n",
      "Loading CSV file from /home/ray/Dispa-SET_Unleash/RawData/Load_RealTime/DE/2023.csv...\n"
     ]
    },
    {
     "name": "stderr",
     "output_type": "stream",
     "text": [
      "/tmp/ipykernel_143036/3717144850.py:37: FutureWarning: 'T' is deprecated and will be removed in a future version, please use 'min' instead.\n",
      "  resampled_df = df_resample.resample(interval).first().reset_index()\n",
      "/tmp/ipykernel_143036/3717144850.py:37: FutureWarning: 'T' is deprecated and will be removed in a future version, please use 'min' instead.\n",
      "  resampled_df = df_resample.resample(interval).first().reset_index()\n"
     ]
    },
    {
     "name": "stdout",
     "output_type": "stream",
     "text": [
      "File saved: /home/ray/Dispa-SET_Unleash/RawData/Load_RealTime/DE/15min/2023.csv\n",
      "Processing files for row 8...\n",
      "Processing Day-Ahead file: /home/ray/Dispa-SET_Unleash/RawData/Load_DayAhead/DK/2023.csv\n",
      "Loading CSV file from /home/ray/Dispa-SET_Unleash/RawData/Load_DayAhead/DK/2023.csv...\n",
      "File saved: /home/ray/Dispa-SET_Unleash/RawData/Load_DayAhead/DK/1h/2023.csv\n",
      "Loading CSV file from /home/ray/Dispa-SET_Unleash/RawData/Load_DayAhead/DK/2023.csv...\n",
      "File saved: /home/ray/Dispa-SET_Unleash/RawData/Load_DayAhead/DK/30min/2023.csv\n",
      "Loading CSV file from /home/ray/Dispa-SET_Unleash/RawData/Load_DayAhead/DK/2023.csv...\n"
     ]
    },
    {
     "name": "stderr",
     "output_type": "stream",
     "text": [
      "/tmp/ipykernel_143036/3717144850.py:37: FutureWarning: 'T' is deprecated and will be removed in a future version, please use 'min' instead.\n",
      "  resampled_df = df_resample.resample(interval).first().reset_index()\n",
      "/tmp/ipykernel_143036/3717144850.py:37: FutureWarning: 'T' is deprecated and will be removed in a future version, please use 'min' instead.\n",
      "  resampled_df = df_resample.resample(interval).first().reset_index()\n"
     ]
    },
    {
     "name": "stdout",
     "output_type": "stream",
     "text": [
      "File saved: /home/ray/Dispa-SET_Unleash/RawData/Load_DayAhead/DK/15min/2023.csv\n",
      "Processing Real-Time file: /home/ray/Dispa-SET_Unleash/RawData/Load_RealTime/DK/2023.csv\n",
      "Loading CSV file from /home/ray/Dispa-SET_Unleash/RawData/Load_RealTime/DK/2023.csv...\n",
      "File saved: /home/ray/Dispa-SET_Unleash/RawData/Load_RealTime/DK/1h/2023.csv\n",
      "Loading CSV file from /home/ray/Dispa-SET_Unleash/RawData/Load_RealTime/DK/2023.csv...\n"
     ]
    },
    {
     "name": "stderr",
     "output_type": "stream",
     "text": [
      "/tmp/ipykernel_143036/3717144850.py:37: FutureWarning: 'T' is deprecated and will be removed in a future version, please use 'min' instead.\n",
      "  resampled_df = df_resample.resample(interval).first().reset_index()\n"
     ]
    },
    {
     "name": "stdout",
     "output_type": "stream",
     "text": [
      "File saved: /home/ray/Dispa-SET_Unleash/RawData/Load_RealTime/DK/30min/2023.csv\n",
      "Loading CSV file from /home/ray/Dispa-SET_Unleash/RawData/Load_RealTime/DK/2023.csv...\n"
     ]
    },
    {
     "name": "stderr",
     "output_type": "stream",
     "text": [
      "/tmp/ipykernel_143036/3717144850.py:37: FutureWarning: 'T' is deprecated and will be removed in a future version, please use 'min' instead.\n",
      "  resampled_df = df_resample.resample(interval).first().reset_index()\n"
     ]
    },
    {
     "name": "stdout",
     "output_type": "stream",
     "text": [
      "File saved: /home/ray/Dispa-SET_Unleash/RawData/Load_RealTime/DK/15min/2023.csv\n",
      "Processing files for row 9...\n",
      "Processing Day-Ahead file: /home/ray/Dispa-SET_Unleash/RawData/Load_DayAhead/EE/2023.csv\n",
      "Loading CSV file from /home/ray/Dispa-SET_Unleash/RawData/Load_DayAhead/EE/2023.csv...\n",
      "File saved: /home/ray/Dispa-SET_Unleash/RawData/Load_DayAhead/EE/1h/2023.csv\n",
      "Loading CSV file from /home/ray/Dispa-SET_Unleash/RawData/Load_DayAhead/EE/2023.csv...\n",
      "File saved: /home/ray/Dispa-SET_Unleash/RawData/Load_DayAhead/EE/30min/2023.csv\n",
      "Loading CSV file from /home/ray/Dispa-SET_Unleash/RawData/Load_DayAhead/EE/2023.csv...\n",
      "File saved: /home/ray/Dispa-SET_Unleash/RawData/Load_DayAhead/EE/15min/2023.csv\n",
      "Processing Real-Time file: /home/ray/Dispa-SET_Unleash/RawData/Load_RealTime/EE/2023.csv\n",
      "Loading CSV file from /home/ray/Dispa-SET_Unleash/RawData/Load_RealTime/EE/2023.csv...\n"
     ]
    },
    {
     "name": "stderr",
     "output_type": "stream",
     "text": [
      "/tmp/ipykernel_143036/3717144850.py:37: FutureWarning: 'T' is deprecated and will be removed in a future version, please use 'min' instead.\n",
      "  resampled_df = df_resample.resample(interval).first().reset_index()\n",
      "/tmp/ipykernel_143036/3717144850.py:37: FutureWarning: 'T' is deprecated and will be removed in a future version, please use 'min' instead.\n",
      "  resampled_df = df_resample.resample(interval).first().reset_index()\n"
     ]
    },
    {
     "name": "stdout",
     "output_type": "stream",
     "text": [
      "File saved: /home/ray/Dispa-SET_Unleash/RawData/Load_RealTime/EE/1h/2023.csv\n",
      "Loading CSV file from /home/ray/Dispa-SET_Unleash/RawData/Load_RealTime/EE/2023.csv...\n"
     ]
    },
    {
     "name": "stderr",
     "output_type": "stream",
     "text": [
      "/tmp/ipykernel_143036/3717144850.py:37: FutureWarning: 'T' is deprecated and will be removed in a future version, please use 'min' instead.\n",
      "  resampled_df = df_resample.resample(interval).first().reset_index()\n"
     ]
    },
    {
     "name": "stdout",
     "output_type": "stream",
     "text": [
      "File saved: /home/ray/Dispa-SET_Unleash/RawData/Load_RealTime/EE/30min/2023.csv\n",
      "Loading CSV file from /home/ray/Dispa-SET_Unleash/RawData/Load_RealTime/EE/2023.csv...\n"
     ]
    },
    {
     "name": "stderr",
     "output_type": "stream",
     "text": [
      "/tmp/ipykernel_143036/3717144850.py:37: FutureWarning: 'T' is deprecated and will be removed in a future version, please use 'min' instead.\n",
      "  resampled_df = df_resample.resample(interval).first().reset_index()\n"
     ]
    },
    {
     "name": "stdout",
     "output_type": "stream",
     "text": [
      "File saved: /home/ray/Dispa-SET_Unleash/RawData/Load_RealTime/EE/15min/2023.csv\n",
      "Processing files for row 10...\n",
      "Processing Day-Ahead file: /home/ray/Dispa-SET_Unleash/RawData/Load_DayAhead/EL/2023.csv\n",
      "Loading CSV file from /home/ray/Dispa-SET_Unleash/RawData/Load_DayAhead/EL/2023.csv...\n",
      "File saved: /home/ray/Dispa-SET_Unleash/RawData/Load_DayAhead/EL/1h/2023.csv\n",
      "Loading CSV file from /home/ray/Dispa-SET_Unleash/RawData/Load_DayAhead/EL/2023.csv...\n",
      "File saved: /home/ray/Dispa-SET_Unleash/RawData/Load_DayAhead/EL/30min/2023.csv\n",
      "Loading CSV file from /home/ray/Dispa-SET_Unleash/RawData/Load_DayAhead/EL/2023.csv...\n"
     ]
    },
    {
     "name": "stderr",
     "output_type": "stream",
     "text": [
      "/tmp/ipykernel_143036/3717144850.py:37: FutureWarning: 'T' is deprecated and will be removed in a future version, please use 'min' instead.\n",
      "  resampled_df = df_resample.resample(interval).first().reset_index()\n",
      "/tmp/ipykernel_143036/3717144850.py:37: FutureWarning: 'T' is deprecated and will be removed in a future version, please use 'min' instead.\n",
      "  resampled_df = df_resample.resample(interval).first().reset_index()\n"
     ]
    },
    {
     "name": "stdout",
     "output_type": "stream",
     "text": [
      "File saved: /home/ray/Dispa-SET_Unleash/RawData/Load_DayAhead/EL/15min/2023.csv\n",
      "Processing Real-Time file: /home/ray/Dispa-SET_Unleash/RawData/Load_RealTime/EL/2023.csv\n",
      "Loading CSV file from /home/ray/Dispa-SET_Unleash/RawData/Load_RealTime/EL/2023.csv...\n",
      "File saved: /home/ray/Dispa-SET_Unleash/RawData/Load_RealTime/EL/1h/2023.csv\n",
      "Loading CSV file from /home/ray/Dispa-SET_Unleash/RawData/Load_RealTime/EL/2023.csv...\n",
      "File saved: /home/ray/Dispa-SET_Unleash/RawData/Load_RealTime/EL/30min/2023.csv\n",
      "Loading CSV file from /home/ray/Dispa-SET_Unleash/RawData/Load_RealTime/EL/2023.csv...\n"
     ]
    },
    {
     "name": "stderr",
     "output_type": "stream",
     "text": [
      "/tmp/ipykernel_143036/3717144850.py:37: FutureWarning: 'T' is deprecated and will be removed in a future version, please use 'min' instead.\n",
      "  resampled_df = df_resample.resample(interval).first().reset_index()\n",
      "/tmp/ipykernel_143036/3717144850.py:37: FutureWarning: 'T' is deprecated and will be removed in a future version, please use 'min' instead.\n",
      "  resampled_df = df_resample.resample(interval).first().reset_index()\n"
     ]
    },
    {
     "name": "stdout",
     "output_type": "stream",
     "text": [
      "File saved: /home/ray/Dispa-SET_Unleash/RawData/Load_RealTime/EL/15min/2023.csv\n",
      "Processing files for row 11...\n",
      "Processing Day-Ahead file: /home/ray/Dispa-SET_Unleash/RawData/Load_DayAhead/ES/2023.csv\n",
      "Loading CSV file from /home/ray/Dispa-SET_Unleash/RawData/Load_DayAhead/ES/2023.csv...\n",
      "File saved: /home/ray/Dispa-SET_Unleash/RawData/Load_DayAhead/ES/1h/2023.csv\n",
      "Loading CSV file from /home/ray/Dispa-SET_Unleash/RawData/Load_DayAhead/ES/2023.csv...\n",
      "File saved: /home/ray/Dispa-SET_Unleash/RawData/Load_DayAhead/ES/30min/2023.csv\n",
      "Loading CSV file from /home/ray/Dispa-SET_Unleash/RawData/Load_DayAhead/ES/2023.csv...\n"
     ]
    },
    {
     "name": "stderr",
     "output_type": "stream",
     "text": [
      "/tmp/ipykernel_143036/3717144850.py:37: FutureWarning: 'T' is deprecated and will be removed in a future version, please use 'min' instead.\n",
      "  resampled_df = df_resample.resample(interval).first().reset_index()\n",
      "/tmp/ipykernel_143036/3717144850.py:37: FutureWarning: 'T' is deprecated and will be removed in a future version, please use 'min' instead.\n",
      "  resampled_df = df_resample.resample(interval).first().reset_index()\n"
     ]
    },
    {
     "name": "stdout",
     "output_type": "stream",
     "text": [
      "File saved: /home/ray/Dispa-SET_Unleash/RawData/Load_DayAhead/ES/15min/2023.csv\n",
      "Processing Real-Time file: /home/ray/Dispa-SET_Unleash/RawData/Load_RealTime/ES/2023.csv\n",
      "Loading CSV file from /home/ray/Dispa-SET_Unleash/RawData/Load_RealTime/ES/2023.csv...\n",
      "File saved: /home/ray/Dispa-SET_Unleash/RawData/Load_RealTime/ES/1h/2023.csv\n",
      "Loading CSV file from /home/ray/Dispa-SET_Unleash/RawData/Load_RealTime/ES/2023.csv...\n",
      "File saved: /home/ray/Dispa-SET_Unleash/RawData/Load_RealTime/ES/30min/2023.csv\n",
      "Loading CSV file from /home/ray/Dispa-SET_Unleash/RawData/Load_RealTime/ES/2023.csv...\n",
      "File saved: /home/ray/Dispa-SET_Unleash/RawData/Load_RealTime/ES/15min/2023.csv\n",
      "Processing files for row 12...\n",
      "Processing Day-Ahead file: /home/ray/Dispa-SET_Unleash/RawData/Load_DayAhead/FI/2023.csv\n",
      "Loading CSV file from /home/ray/Dispa-SET_Unleash/RawData/Load_DayAhead/FI/2023.csv...\n"
     ]
    },
    {
     "name": "stderr",
     "output_type": "stream",
     "text": [
      "/tmp/ipykernel_143036/3717144850.py:37: FutureWarning: 'T' is deprecated and will be removed in a future version, please use 'min' instead.\n",
      "  resampled_df = df_resample.resample(interval).first().reset_index()\n",
      "/tmp/ipykernel_143036/3717144850.py:37: FutureWarning: 'T' is deprecated and will be removed in a future version, please use 'min' instead.\n",
      "  resampled_df = df_resample.resample(interval).first().reset_index()\n"
     ]
    },
    {
     "name": "stdout",
     "output_type": "stream",
     "text": [
      "File saved: /home/ray/Dispa-SET_Unleash/RawData/Load_DayAhead/FI/1h/2023.csv\n",
      "Loading CSV file from /home/ray/Dispa-SET_Unleash/RawData/Load_DayAhead/FI/2023.csv...\n"
     ]
    },
    {
     "name": "stderr",
     "output_type": "stream",
     "text": [
      "/tmp/ipykernel_143036/3717144850.py:37: FutureWarning: 'T' is deprecated and will be removed in a future version, please use 'min' instead.\n",
      "  resampled_df = df_resample.resample(interval).first().reset_index()\n",
      "/tmp/ipykernel_143036/3717144850.py:37: FutureWarning: 'T' is deprecated and will be removed in a future version, please use 'min' instead.\n",
      "  resampled_df = df_resample.resample(interval).first().reset_index()\n"
     ]
    },
    {
     "name": "stdout",
     "output_type": "stream",
     "text": [
      "File saved: /home/ray/Dispa-SET_Unleash/RawData/Load_DayAhead/FI/30min/2023.csv\n",
      "Loading CSV file from /home/ray/Dispa-SET_Unleash/RawData/Load_DayAhead/FI/2023.csv...\n",
      "File saved: /home/ray/Dispa-SET_Unleash/RawData/Load_DayAhead/FI/15min/2023.csv\n",
      "Processing Real-Time file: /home/ray/Dispa-SET_Unleash/RawData/Load_RealTime/FI/2023.csv\n",
      "Loading CSV file from /home/ray/Dispa-SET_Unleash/RawData/Load_RealTime/FI/2023.csv...\n"
     ]
    },
    {
     "name": "stderr",
     "output_type": "stream",
     "text": [
      "/tmp/ipykernel_143036/3717144850.py:37: FutureWarning: 'T' is deprecated and will be removed in a future version, please use 'min' instead.\n",
      "  resampled_df = df_resample.resample(interval).first().reset_index()\n"
     ]
    },
    {
     "name": "stdout",
     "output_type": "stream",
     "text": [
      "File saved: /home/ray/Dispa-SET_Unleash/RawData/Load_RealTime/FI/1h/2023.csv\n",
      "Loading CSV file from /home/ray/Dispa-SET_Unleash/RawData/Load_RealTime/FI/2023.csv...\n",
      "File saved: /home/ray/Dispa-SET_Unleash/RawData/Load_RealTime/FI/30min/2023.csv\n",
      "Loading CSV file from /home/ray/Dispa-SET_Unleash/RawData/Load_RealTime/FI/2023.csv...\n"
     ]
    },
    {
     "name": "stderr",
     "output_type": "stream",
     "text": [
      "/tmp/ipykernel_143036/3717144850.py:37: FutureWarning: 'T' is deprecated and will be removed in a future version, please use 'min' instead.\n",
      "  resampled_df = df_resample.resample(interval).first().reset_index()\n",
      "/tmp/ipykernel_143036/3717144850.py:37: FutureWarning: 'T' is deprecated and will be removed in a future version, please use 'min' instead.\n",
      "  resampled_df = df_resample.resample(interval).first().reset_index()\n",
      "/tmp/ipykernel_143036/3717144850.py:37: FutureWarning: 'T' is deprecated and will be removed in a future version, please use 'min' instead.\n",
      "  resampled_df = df_resample.resample(interval).first().reset_index()\n"
     ]
    },
    {
     "name": "stdout",
     "output_type": "stream",
     "text": [
      "File saved: /home/ray/Dispa-SET_Unleash/RawData/Load_RealTime/FI/15min/2023.csv\n",
      "Processing files for row 13...\n",
      "Processing Day-Ahead file: /home/ray/Dispa-SET_Unleash/RawData/Load_DayAhead/FR/2023.csv\n",
      "Loading CSV file from /home/ray/Dispa-SET_Unleash/RawData/Load_DayAhead/FR/2023.csv...\n",
      "File saved: /home/ray/Dispa-SET_Unleash/RawData/Load_DayAhead/FR/1h/2023.csv\n",
      "Loading CSV file from /home/ray/Dispa-SET_Unleash/RawData/Load_DayAhead/FR/2023.csv...\n",
      "File saved: /home/ray/Dispa-SET_Unleash/RawData/Load_DayAhead/FR/30min/2023.csv\n",
      "Loading CSV file from /home/ray/Dispa-SET_Unleash/RawData/Load_DayAhead/FR/2023.csv...\n",
      "File saved: /home/ray/Dispa-SET_Unleash/RawData/Load_DayAhead/FR/15min/2023.csv\n",
      "Processing Real-Time file: /home/ray/Dispa-SET_Unleash/RawData/Load_RealTime/FR/2023.csv\n",
      "Loading CSV file from /home/ray/Dispa-SET_Unleash/RawData/Load_RealTime/FR/2023.csv...\n"
     ]
    },
    {
     "name": "stderr",
     "output_type": "stream",
     "text": [
      "/tmp/ipykernel_143036/3717144850.py:37: FutureWarning: 'T' is deprecated and will be removed in a future version, please use 'min' instead.\n",
      "  resampled_df = df_resample.resample(interval).first().reset_index()\n"
     ]
    },
    {
     "name": "stdout",
     "output_type": "stream",
     "text": [
      "File saved: /home/ray/Dispa-SET_Unleash/RawData/Load_RealTime/FR/1h/2023.csv\n",
      "Loading CSV file from /home/ray/Dispa-SET_Unleash/RawData/Load_RealTime/FR/2023.csv...\n",
      "File saved: /home/ray/Dispa-SET_Unleash/RawData/Load_RealTime/FR/30min/2023.csv\n",
      "Loading CSV file from /home/ray/Dispa-SET_Unleash/RawData/Load_RealTime/FR/2023.csv...\n"
     ]
    },
    {
     "name": "stderr",
     "output_type": "stream",
     "text": [
      "/tmp/ipykernel_143036/3717144850.py:37: FutureWarning: 'T' is deprecated and will be removed in a future version, please use 'min' instead.\n",
      "  resampled_df = df_resample.resample(interval).first().reset_index()\n"
     ]
    },
    {
     "name": "stdout",
     "output_type": "stream",
     "text": [
      "File saved: /home/ray/Dispa-SET_Unleash/RawData/Load_RealTime/FR/15min/2023.csv\n",
      "Processing files for row 14...\n",
      "Processing Day-Ahead file: /home/ray/Dispa-SET_Unleash/RawData/Load_DayAhead/HR/2023.csv\n",
      "Loading CSV file from /home/ray/Dispa-SET_Unleash/RawData/Load_DayAhead/HR/2023.csv...\n",
      "File saved: /home/ray/Dispa-SET_Unleash/RawData/Load_DayAhead/HR/1h/2023.csv\n",
      "Loading CSV file from /home/ray/Dispa-SET_Unleash/RawData/Load_DayAhead/HR/2023.csv...\n"
     ]
    },
    {
     "name": "stderr",
     "output_type": "stream",
     "text": [
      "/tmp/ipykernel_143036/3717144850.py:37: FutureWarning: 'T' is deprecated and will be removed in a future version, please use 'min' instead.\n",
      "  resampled_df = df_resample.resample(interval).first().reset_index()\n"
     ]
    },
    {
     "name": "stdout",
     "output_type": "stream",
     "text": [
      "File saved: /home/ray/Dispa-SET_Unleash/RawData/Load_DayAhead/HR/30min/2023.csv\n",
      "Loading CSV file from /home/ray/Dispa-SET_Unleash/RawData/Load_DayAhead/HR/2023.csv...\n"
     ]
    },
    {
     "name": "stderr",
     "output_type": "stream",
     "text": [
      "/tmp/ipykernel_143036/3717144850.py:37: FutureWarning: 'T' is deprecated and will be removed in a future version, please use 'min' instead.\n",
      "  resampled_df = df_resample.resample(interval).first().reset_index()\n"
     ]
    },
    {
     "name": "stdout",
     "output_type": "stream",
     "text": [
      "File saved: /home/ray/Dispa-SET_Unleash/RawData/Load_DayAhead/HR/15min/2023.csv\n",
      "Processing Real-Time file: /home/ray/Dispa-SET_Unleash/RawData/Load_RealTime/HR/2023.csv\n",
      "Loading CSV file from /home/ray/Dispa-SET_Unleash/RawData/Load_RealTime/HR/2023.csv...\n",
      "File saved: /home/ray/Dispa-SET_Unleash/RawData/Load_RealTime/HR/1h/2023.csv\n",
      "Loading CSV file from /home/ray/Dispa-SET_Unleash/RawData/Load_RealTime/HR/2023.csv...\n"
     ]
    },
    {
     "name": "stderr",
     "output_type": "stream",
     "text": [
      "/tmp/ipykernel_143036/3717144850.py:37: FutureWarning: 'T' is deprecated and will be removed in a future version, please use 'min' instead.\n",
      "  resampled_df = df_resample.resample(interval).first().reset_index()\n"
     ]
    },
    {
     "name": "stdout",
     "output_type": "stream",
     "text": [
      "File saved: /home/ray/Dispa-SET_Unleash/RawData/Load_RealTime/HR/30min/2023.csv\n",
      "Loading CSV file from /home/ray/Dispa-SET_Unleash/RawData/Load_RealTime/HR/2023.csv...\n"
     ]
    },
    {
     "name": "stderr",
     "output_type": "stream",
     "text": [
      "/tmp/ipykernel_143036/3717144850.py:37: FutureWarning: 'T' is deprecated and will be removed in a future version, please use 'min' instead.\n",
      "  resampled_df = df_resample.resample(interval).first().reset_index()\n"
     ]
    },
    {
     "name": "stdout",
     "output_type": "stream",
     "text": [
      "File saved: /home/ray/Dispa-SET_Unleash/RawData/Load_RealTime/HR/15min/2023.csv\n",
      "Processing files for row 15...\n",
      "Processing Day-Ahead file: /home/ray/Dispa-SET_Unleash/RawData/Load_DayAhead/HU/2023.csv\n",
      "Loading CSV file from /home/ray/Dispa-SET_Unleash/RawData/Load_DayAhead/HU/2023.csv...\n",
      "File saved: /home/ray/Dispa-SET_Unleash/RawData/Load_DayAhead/HU/1h/2023.csv\n",
      "Loading CSV file from /home/ray/Dispa-SET_Unleash/RawData/Load_DayAhead/HU/2023.csv...\n"
     ]
    },
    {
     "name": "stderr",
     "output_type": "stream",
     "text": [
      "/tmp/ipykernel_143036/3717144850.py:37: FutureWarning: 'T' is deprecated and will be removed in a future version, please use 'min' instead.\n",
      "  resampled_df = df_resample.resample(interval).first().reset_index()\n"
     ]
    },
    {
     "name": "stdout",
     "output_type": "stream",
     "text": [
      "File saved: /home/ray/Dispa-SET_Unleash/RawData/Load_DayAhead/HU/30min/2023.csv\n",
      "Loading CSV file from /home/ray/Dispa-SET_Unleash/RawData/Load_DayAhead/HU/2023.csv...\n"
     ]
    },
    {
     "name": "stderr",
     "output_type": "stream",
     "text": [
      "/tmp/ipykernel_143036/3717144850.py:37: FutureWarning: 'T' is deprecated and will be removed in a future version, please use 'min' instead.\n",
      "  resampled_df = df_resample.resample(interval).first().reset_index()\n"
     ]
    },
    {
     "name": "stdout",
     "output_type": "stream",
     "text": [
      "File saved: /home/ray/Dispa-SET_Unleash/RawData/Load_DayAhead/HU/15min/2023.csv\n",
      "Processing Real-Time file: /home/ray/Dispa-SET_Unleash/RawData/Load_RealTime/HU/2023.csv\n",
      "Loading CSV file from /home/ray/Dispa-SET_Unleash/RawData/Load_RealTime/HU/2023.csv...\n",
      "File saved: /home/ray/Dispa-SET_Unleash/RawData/Load_RealTime/HU/1h/2023.csv\n",
      "Loading CSV file from /home/ray/Dispa-SET_Unleash/RawData/Load_RealTime/HU/2023.csv...\n"
     ]
    },
    {
     "name": "stderr",
     "output_type": "stream",
     "text": [
      "/tmp/ipykernel_143036/3717144850.py:37: FutureWarning: 'T' is deprecated and will be removed in a future version, please use 'min' instead.\n",
      "  resampled_df = df_resample.resample(interval).first().reset_index()\n"
     ]
    },
    {
     "name": "stdout",
     "output_type": "stream",
     "text": [
      "File saved: /home/ray/Dispa-SET_Unleash/RawData/Load_RealTime/HU/30min/2023.csv\n",
      "Loading CSV file from /home/ray/Dispa-SET_Unleash/RawData/Load_RealTime/HU/2023.csv...\n"
     ]
    },
    {
     "name": "stderr",
     "output_type": "stream",
     "text": [
      "/tmp/ipykernel_143036/3717144850.py:37: FutureWarning: 'T' is deprecated and will be removed in a future version, please use 'min' instead.\n",
      "  resampled_df = df_resample.resample(interval).first().reset_index()\n"
     ]
    },
    {
     "name": "stdout",
     "output_type": "stream",
     "text": [
      "File saved: /home/ray/Dispa-SET_Unleash/RawData/Load_RealTime/HU/15min/2023.csv\n",
      "Processing files for row 16...\n",
      "Processing Day-Ahead file: /home/ray/Dispa-SET_Unleash/RawData/Load_DayAhead/IE/2023.csv\n",
      "Loading CSV file from /home/ray/Dispa-SET_Unleash/RawData/Load_DayAhead/IE/2023.csv...\n",
      "File saved: /home/ray/Dispa-SET_Unleash/RawData/Load_DayAhead/IE/1h/2023.csv\n",
      "Loading CSV file from /home/ray/Dispa-SET_Unleash/RawData/Load_DayAhead/IE/2023.csv...\n",
      "File saved: /home/ray/Dispa-SET_Unleash/RawData/Load_DayAhead/IE/30min/2023.csv\n",
      "Loading CSV file from /home/ray/Dispa-SET_Unleash/RawData/Load_DayAhead/IE/2023.csv...\n"
     ]
    },
    {
     "name": "stderr",
     "output_type": "stream",
     "text": [
      "/tmp/ipykernel_143036/3717144850.py:37: FutureWarning: 'T' is deprecated and will be removed in a future version, please use 'min' instead.\n",
      "  resampled_df = df_resample.resample(interval).first().reset_index()\n",
      "/tmp/ipykernel_143036/3717144850.py:37: FutureWarning: 'T' is deprecated and will be removed in a future version, please use 'min' instead.\n",
      "  resampled_df = df_resample.resample(interval).first().reset_index()\n"
     ]
    },
    {
     "name": "stdout",
     "output_type": "stream",
     "text": [
      "File saved: /home/ray/Dispa-SET_Unleash/RawData/Load_DayAhead/IE/15min/2023.csv\n",
      "Processing Real-Time file: /home/ray/Dispa-SET_Unleash/RawData/Load_RealTime/IE/2023.csv\n",
      "Loading CSV file from /home/ray/Dispa-SET_Unleash/RawData/Load_RealTime/IE/2023.csv...\n",
      "File saved: /home/ray/Dispa-SET_Unleash/RawData/Load_RealTime/IE/1h/2023.csv\n",
      "Loading CSV file from /home/ray/Dispa-SET_Unleash/RawData/Load_RealTime/IE/2023.csv...\n"
     ]
    },
    {
     "name": "stderr",
     "output_type": "stream",
     "text": [
      "/tmp/ipykernel_143036/3717144850.py:37: FutureWarning: 'T' is deprecated and will be removed in a future version, please use 'min' instead.\n",
      "  resampled_df = df_resample.resample(interval).first().reset_index()\n"
     ]
    },
    {
     "name": "stdout",
     "output_type": "stream",
     "text": [
      "File saved: /home/ray/Dispa-SET_Unleash/RawData/Load_RealTime/IE/30min/2023.csv"
     ]
    },
    {
     "name": "stderr",
     "output_type": "stream",
     "text": [
      "/tmp/ipykernel_143036/3717144850.py:37: FutureWarning: 'T' is deprecated and will be removed in a future version, please use 'min' instead.\n",
      "  resampled_df = df_resample.resample(interval).first().reset_index()\n"
     ]
    },
    {
     "name": "stdout",
     "output_type": "stream",
     "text": [
      "\n",
      "Loading CSV file from /home/ray/Dispa-SET_Unleash/RawData/Load_RealTime/IE/2023.csv...\n",
      "File saved: /home/ray/Dispa-SET_Unleash/RawData/Load_RealTime/IE/15min/2023.csv\n",
      "Processing files for row 17...\n",
      "Processing Day-Ahead file: /home/ray/Dispa-SET_Unleash/RawData/Load_DayAhead/IT/2023.csv\n",
      "Loading CSV file from /home/ray/Dispa-SET_Unleash/RawData/Load_DayAhead/IT/2023.csv...\n",
      "File saved: /home/ray/Dispa-SET_Unleash/RawData/Load_DayAhead/IT/1h/2023.csv\n",
      "Loading CSV file from /home/ray/Dispa-SET_Unleash/RawData/Load_DayAhead/IT/2023.csv...\n"
     ]
    },
    {
     "name": "stderr",
     "output_type": "stream",
     "text": [
      "/tmp/ipykernel_143036/3717144850.py:37: FutureWarning: 'T' is deprecated and will be removed in a future version, please use 'min' instead.\n",
      "  resampled_df = df_resample.resample(interval).first().reset_index()\n"
     ]
    },
    {
     "name": "stdout",
     "output_type": "stream",
     "text": [
      "File saved: /home/ray/Dispa-SET_Unleash/RawData/Load_DayAhead/IT/30min/2023.csv\n",
      "Loading CSV file from /home/ray/Dispa-SET_Unleash/RawData/Load_DayAhead/IT/2023.csv...\n"
     ]
    },
    {
     "name": "stderr",
     "output_type": "stream",
     "text": [
      "/tmp/ipykernel_143036/3717144850.py:37: FutureWarning: 'T' is deprecated and will be removed in a future version, please use 'min' instead.\n",
      "  resampled_df = df_resample.resample(interval).first().reset_index()\n"
     ]
    },
    {
     "name": "stdout",
     "output_type": "stream",
     "text": [
      "File saved: /home/ray/Dispa-SET_Unleash/RawData/Load_DayAhead/IT/15min/2023.csv\n",
      "Processing Real-Time file: /home/ray/Dispa-SET_Unleash/RawData/Load_RealTime/IT/2023.csv\n",
      "Loading CSV file from /home/ray/Dispa-SET_Unleash/RawData/Load_RealTime/IT/2023.csv...\n",
      "File saved: /home/ray/Dispa-SET_Unleash/RawData/Load_RealTime/IT/1h/2023.csv\n",
      "Loading CSV file from /home/ray/Dispa-SET_Unleash/RawData/Load_RealTime/IT/2023.csv...\n"
     ]
    },
    {
     "name": "stderr",
     "output_type": "stream",
     "text": [
      "/tmp/ipykernel_143036/3717144850.py:37: FutureWarning: 'T' is deprecated and will be removed in a future version, please use 'min' instead.\n",
      "  resampled_df = df_resample.resample(interval).first().reset_index()\n"
     ]
    },
    {
     "name": "stdout",
     "output_type": "stream",
     "text": [
      "File saved: /home/ray/Dispa-SET_Unleash/RawData/Load_RealTime/IT/30min/2023.csv\n",
      "Loading CSV file from /home/ray/Dispa-SET_Unleash/RawData/Load_RealTime/IT/2023.csv...\n"
     ]
    },
    {
     "name": "stderr",
     "output_type": "stream",
     "text": [
      "/tmp/ipykernel_143036/3717144850.py:37: FutureWarning: 'T' is deprecated and will be removed in a future version, please use 'min' instead.\n",
      "  resampled_df = df_resample.resample(interval).first().reset_index()\n"
     ]
    },
    {
     "name": "stdout",
     "output_type": "stream",
     "text": [
      "File saved: /home/ray/Dispa-SET_Unleash/RawData/Load_RealTime/IT/15min/2023.csv\n",
      "Processing files for row 18...\n",
      "Processing Day-Ahead file: /home/ray/Dispa-SET_Unleash/RawData/Load_DayAhead/LT/2023.csv\n",
      "Loading CSV file from /home/ray/Dispa-SET_Unleash/RawData/Load_DayAhead/LT/2023.csv...\n",
      "File saved: /home/ray/Dispa-SET_Unleash/RawData/Load_DayAhead/LT/1h/2023.csv\n",
      "Loading CSV file from /home/ray/Dispa-SET_Unleash/RawData/Load_DayAhead/LT/2023.csv...\n"
     ]
    },
    {
     "name": "stderr",
     "output_type": "stream",
     "text": [
      "/tmp/ipykernel_143036/3717144850.py:37: FutureWarning: 'T' is deprecated and will be removed in a future version, please use 'min' instead.\n",
      "  resampled_df = df_resample.resample(interval).first().reset_index()\n"
     ]
    },
    {
     "name": "stdout",
     "output_type": "stream",
     "text": [
      "File saved: /home/ray/Dispa-SET_Unleash/RawData/Load_DayAhead/LT/30min/2023.csv\n",
      "Loading CSV file from /home/ray/Dispa-SET_Unleash/RawData/Load_DayAhead/LT/2023.csv...\n"
     ]
    },
    {
     "name": "stderr",
     "output_type": "stream",
     "text": [
      "/tmp/ipykernel_143036/3717144850.py:37: FutureWarning: 'T' is deprecated and will be removed in a future version, please use 'min' instead.\n",
      "  resampled_df = df_resample.resample(interval).first().reset_index()\n"
     ]
    },
    {
     "name": "stdout",
     "output_type": "stream",
     "text": [
      "File saved: /home/ray/Dispa-SET_Unleash/RawData/Load_DayAhead/LT/15min/2023.csv\n",
      "Processing Real-Time file: /home/ray/Dispa-SET_Unleash/RawData/Load_RealTime/LT/2023.csv\n",
      "Loading CSV file from /home/ray/Dispa-SET_Unleash/RawData/Load_RealTime/LT/2023.csv...\n",
      "File saved: /home/ray/Dispa-SET_Unleash/RawData/Load_RealTime/LT/1h/2023.csv\n",
      "Loading CSV file from /home/ray/Dispa-SET_Unleash/RawData/Load_RealTime/LT/2023.csv...\n",
      "File saved: /home/ray/Dispa-SET_Unleash/RawData/Load_RealTime/LT/30min/2023.csv\n",
      "Loading CSV file from /home/ray/Dispa-SET_Unleash/RawData/Load_RealTime/LT/2023.csv...\n"
     ]
    },
    {
     "name": "stderr",
     "output_type": "stream",
     "text": [
      "/tmp/ipykernel_143036/3717144850.py:37: FutureWarning: 'T' is deprecated and will be removed in a future version, please use 'min' instead.\n",
      "  resampled_df = df_resample.resample(interval).first().reset_index()\n",
      "/tmp/ipykernel_143036/3717144850.py:37: FutureWarning: 'T' is deprecated and will be removed in a future version, please use 'min' instead.\n",
      "  resampled_df = df_resample.resample(interval).first().reset_index()\n"
     ]
    },
    {
     "name": "stdout",
     "output_type": "stream",
     "text": [
      "File saved: /home/ray/Dispa-SET_Unleash/RawData/Load_RealTime/LT/15min/2023.csv\n",
      "Processing files for row 19...\n",
      "Processing Day-Ahead file: /home/ray/Dispa-SET_Unleash/RawData/Load_DayAhead/LU/2023.csv\n",
      "Loading CSV file from /home/ray/Dispa-SET_Unleash/RawData/Load_DayAhead/LU/2023.csv...\n",
      "File saved: /home/ray/Dispa-SET_Unleash/RawData/Load_DayAhead/LU/1h/2023.csv\n",
      "Loading CSV file from /home/ray/Dispa-SET_Unleash/RawData/Load_DayAhead/LU/2023.csv...\n",
      "File saved: /home/ray/Dispa-SET_Unleash/RawData/Load_DayAhead/LU/30min/2023.csv\n",
      "Loading CSV file from /home/ray/Dispa-SET_Unleash/RawData/Load_DayAhead/LU/2023.csv...\n",
      "File saved: /home/ray/Dispa-SET_Unleash/RawData/Load_DayAhead/LU/15min/2023.csv\n",
      "Processing Real-Time file: /home/ray/Dispa-SET_Unleash/RawData/Load_RealTime/LU/2023.csv\n",
      "Loading CSV file from /home/ray/Dispa-SET_Unleash/RawData/Load_RealTime/LU/2023.csv...\n"
     ]
    },
    {
     "name": "stderr",
     "output_type": "stream",
     "text": [
      "/tmp/ipykernel_143036/3717144850.py:37: FutureWarning: 'T' is deprecated and will be removed in a future version, please use 'min' instead.\n",
      "  resampled_df = df_resample.resample(interval).first().reset_index()\n",
      "/tmp/ipykernel_143036/3717144850.py:37: FutureWarning: 'T' is deprecated and will be removed in a future version, please use 'min' instead.\n",
      "  resampled_df = df_resample.resample(interval).first().reset_index()\n"
     ]
    },
    {
     "name": "stdout",
     "output_type": "stream",
     "text": [
      "File saved: /home/ray/Dispa-SET_Unleash/RawData/Load_RealTime/LU/1h/2023.csv\n",
      "Loading CSV file from /home/ray/Dispa-SET_Unleash/RawData/Load_RealTime/LU/2023.csv...\n",
      "File saved: /home/ray/Dispa-SET_Unleash/RawData/Load_RealTime/LU/30min/2023.csv\n",
      "Loading CSV file from /home/ray/Dispa-SET_Unleash/RawData/Load_RealTime/LU/2023.csv...\n"
     ]
    },
    {
     "name": "stderr",
     "output_type": "stream",
     "text": [
      "/tmp/ipykernel_143036/3717144850.py:37: FutureWarning: 'T' is deprecated and will be removed in a future version, please use 'min' instead.\n",
      "  resampled_df = df_resample.resample(interval).first().reset_index()\n",
      "/tmp/ipykernel_143036/3717144850.py:37: FutureWarning: 'T' is deprecated and will be removed in a future version, please use 'min' instead.\n",
      "  resampled_df = df_resample.resample(interval).first().reset_index()\n"
     ]
    },
    {
     "name": "stdout",
     "output_type": "stream",
     "text": [
      "File saved: /home/ray/Dispa-SET_Unleash/RawData/Load_RealTime/LU/15min/2023.csv\n",
      "Processing files for row 20...\n",
      "Processing Day-Ahead file: /home/ray/Dispa-SET_Unleash/RawData/Load_DayAhead/LV/2023.csv\n",
      "Loading CSV file from /home/ray/Dispa-SET_Unleash/RawData/Load_DayAhead/LV/2023.csv...\n",
      "File saved: /home/ray/Dispa-SET_Unleash/RawData/Load_DayAhead/LV/1h/2023.csv\n",
      "Loading CSV file from /home/ray/Dispa-SET_Unleash/RawData/Load_DayAhead/LV/2023.csv...\n"
     ]
    },
    {
     "name": "stderr",
     "output_type": "stream",
     "text": [
      "/tmp/ipykernel_143036/3717144850.py:37: FutureWarning: 'T' is deprecated and will be removed in a future version, please use 'min' instead.\n",
      "  resampled_df = df_resample.resample(interval).first().reset_index()\n",
      "/tmp/ipykernel_143036/3717144850.py:37: FutureWarning: 'T' is deprecated and will be removed in a future version, please use 'min' instead.\n",
      "  resampled_df = df_resample.resample(interval).first().reset_index()\n"
     ]
    },
    {
     "name": "stdout",
     "output_type": "stream",
     "text": [
      "File saved: /home/ray/Dispa-SET_Unleash/RawData/Load_DayAhead/LV/30min/2023.csv\n",
      "Loading CSV file from /home/ray/Dispa-SET_Unleash/RawData/Load_DayAhead/LV/2023.csv...\n",
      "File saved: /home/ray/Dispa-SET_Unleash/RawData/Load_DayAhead/LV/15min/2023.csv\n",
      "Processing Real-Time file: /home/ray/Dispa-SET_Unleash/RawData/Load_RealTime/LV/2023.csv\n",
      "Loading CSV file from /home/ray/Dispa-SET_Unleash/RawData/Load_RealTime/LV/2023.csv...\n",
      "File saved: /home/ray/Dispa-SET_Unleash/RawData/Load_RealTime/LV/1h/2023.csv\n",
      "Loading CSV file from /home/ray/Dispa-SET_Unleash/RawData/Load_RealTime/LV/2023.csv...\n"
     ]
    },
    {
     "name": "stderr",
     "output_type": "stream",
     "text": [
      "/tmp/ipykernel_143036/3717144850.py:37: FutureWarning: 'T' is deprecated and will be removed in a future version, please use 'min' instead.\n",
      "  resampled_df = df_resample.resample(interval).first().reset_index()\n",
      "/tmp/ipykernel_143036/3717144850.py:37: FutureWarning: 'T' is deprecated and will be removed in a future version, please use 'min' instead.\n",
      "  resampled_df = df_resample.resample(interval).first().reset_index()\n"
     ]
    },
    {
     "name": "stdout",
     "output_type": "stream",
     "text": [
      "File saved: /home/ray/Dispa-SET_Unleash/RawData/Load_RealTime/LV/30min/2023.csv\n",
      "Loading CSV file from /home/ray/Dispa-SET_Unleash/RawData/Load_RealTime/LV/2023.csv...\n",
      "File saved: /home/ray/Dispa-SET_Unleash/RawData/Load_RealTime/LV/15min/2023.csv\n",
      "Processing files for row 21...\n",
      "Processing Day-Ahead file: /home/ray/Dispa-SET_Unleash/RawData/Load_DayAhead/MT/2023.csv\n",
      "Loading CSV file from /home/ray/Dispa-SET_Unleash/RawData/Load_DayAhead/MT/2023.csv...\n",
      "File saved: /home/ray/Dispa-SET_Unleash/RawData/Load_DayAhead/MT/1h/2023.csv\n",
      "Loading CSV file from /home/ray/Dispa-SET_Unleash/RawData/Load_DayAhead/MT/2023.csv...\n"
     ]
    },
    {
     "name": "stderr",
     "output_type": "stream",
     "text": [
      "/tmp/ipykernel_143036/3717144850.py:37: FutureWarning: 'T' is deprecated and will be removed in a future version, please use 'min' instead.\n",
      "  resampled_df = df_resample.resample(interval).first().reset_index()\n",
      "/tmp/ipykernel_143036/3717144850.py:37: FutureWarning: 'T' is deprecated and will be removed in a future version, please use 'min' instead.\n",
      "  resampled_df = df_resample.resample(interval).first().reset_index()\n"
     ]
    },
    {
     "name": "stdout",
     "output_type": "stream",
     "text": [
      "File saved: /home/ray/Dispa-SET_Unleash/RawData/Load_DayAhead/MT/30min/2023.csv\n",
      "Loading CSV file from /home/ray/Dispa-SET_Unleash/RawData/Load_DayAhead/MT/2023.csv...\n",
      "File saved: /home/ray/Dispa-SET_Unleash/RawData/Load_DayAhead/MT/15min/2023.csv\n",
      "Processing Real-Time file: /home/ray/Dispa-SET_Unleash/RawData/Load_RealTime/MT/2023.csv\n",
      "Loading CSV file from /home/ray/Dispa-SET_Unleash/RawData/Load_RealTime/MT/2023.csv...\n",
      "File saved: /home/ray/Dispa-SET_Unleash/RawData/Load_RealTime/MT/1h/2023.csv\n",
      "Loading CSV file from /home/ray/Dispa-SET_Unleash/RawData/Load_RealTime/MT/2023.csv...\n"
     ]
    },
    {
     "name": "stderr",
     "output_type": "stream",
     "text": [
      "/tmp/ipykernel_143036/3717144850.py:37: FutureWarning: 'T' is deprecated and will be removed in a future version, please use 'min' instead.\n",
      "  resampled_df = df_resample.resample(interval).first().reset_index()\n"
     ]
    },
    {
     "name": "stdout",
     "output_type": "stream",
     "text": [
      "File saved: /home/ray/Dispa-SET_Unleash/RawData/Load_RealTime/MT/30min/2023.csv\n",
      "Loading CSV file from /home/ray/Dispa-SET_Unleash/RawData/Load_RealTime/MT/2023.csv...\n"
     ]
    },
    {
     "name": "stderr",
     "output_type": "stream",
     "text": [
      "/tmp/ipykernel_143036/3717144850.py:37: FutureWarning: 'T' is deprecated and will be removed in a future version, please use 'min' instead.\n",
      "  resampled_df = df_resample.resample(interval).first().reset_index()\n"
     ]
    },
    {
     "name": "stdout",
     "output_type": "stream",
     "text": [
      "File saved: /home/ray/Dispa-SET_Unleash/RawData/Load_RealTime/MT/15min/2023.csv\n",
      "Processing files for row 22...\n",
      "Processing Day-Ahead file: /home/ray/Dispa-SET_Unleash/RawData/Load_DayAhead/NL/2023.csv\n",
      "Loading CSV file from /home/ray/Dispa-SET_Unleash/RawData/Load_DayAhead/NL/2023.csv...\n",
      "File saved: /home/ray/Dispa-SET_Unleash/RawData/Load_DayAhead/NL/1h/2023.csv\n",
      "Loading CSV file from /home/ray/Dispa-SET_Unleash/RawData/Load_DayAhead/NL/2023.csv...\n"
     ]
    },
    {
     "name": "stderr",
     "output_type": "stream",
     "text": [
      "/tmp/ipykernel_143036/3717144850.py:37: FutureWarning: 'T' is deprecated and will be removed in a future version, please use 'min' instead.\n",
      "  resampled_df = df_resample.resample(interval).first().reset_index()\n",
      "/tmp/ipykernel_143036/3717144850.py:37: FutureWarning: 'T' is deprecated and will be removed in a future version, please use 'min' instead.\n",
      "  resampled_df = df_resample.resample(interval).first().reset_index()\n"
     ]
    },
    {
     "name": "stdout",
     "output_type": "stream",
     "text": [
      "File saved: /home/ray/Dispa-SET_Unleash/RawData/Load_DayAhead/NL/30min/2023.csv\n",
      "Loading CSV file from /home/ray/Dispa-SET_Unleash/RawData/Load_DayAhead/NL/2023.csv...\n",
      "File saved: /home/ray/Dispa-SET_Unleash/RawData/Load_DayAhead/NL/15min/2023.csv\n",
      "Processing Real-Time file: /home/ray/Dispa-SET_Unleash/RawData/Load_RealTime/NL/2023.csv\n",
      "Loading CSV file from /home/ray/Dispa-SET_Unleash/RawData/Load_RealTime/NL/2023.csv...\n",
      "File saved: /home/ray/Dispa-SET_Unleash/RawData/Load_RealTime/NL/1h/2023.csv\n",
      "Loading CSV file from /home/ray/Dispa-SET_Unleash/RawData/Load_RealTime/NL/2023.csv...\n"
     ]
    },
    {
     "name": "stderr",
     "output_type": "stream",
     "text": [
      "/tmp/ipykernel_143036/3717144850.py:37: FutureWarning: 'T' is deprecated and will be removed in a future version, please use 'min' instead.\n",
      "  resampled_df = df_resample.resample(interval).first().reset_index()\n"
     ]
    },
    {
     "name": "stdout",
     "output_type": "stream",
     "text": [
      "File saved: /home/ray/Dispa-SET_Unleash/RawData/Load_RealTime/NL/30min/2023.csv\n",
      "Loading CSV file from /home/ray/Dispa-SET_Unleash/RawData/Load_RealTime/NL/2023.csv...\n"
     ]
    },
    {
     "name": "stderr",
     "output_type": "stream",
     "text": [
      "/tmp/ipykernel_143036/3717144850.py:37: FutureWarning: 'T' is deprecated and will be removed in a future version, please use 'min' instead.\n",
      "  resampled_df = df_resample.resample(interval).first().reset_index()\n"
     ]
    },
    {
     "name": "stdout",
     "output_type": "stream",
     "text": [
      "File saved: /home/ray/Dispa-SET_Unleash/RawData/Load_RealTime/NL/15min/2023.csv\n",
      "Processing files for row 23...\n",
      "Processing Day-Ahead file: /home/ray/Dispa-SET_Unleash/RawData/Load_DayAhead/NO/2023.csv\n",
      "Loading CSV file from /home/ray/Dispa-SET_Unleash/RawData/Load_DayAhead/NO/2023.csv...\n",
      "File saved: /home/ray/Dispa-SET_Unleash/RawData/Load_DayAhead/NO/1h/2023.csv\n",
      "Loading CSV file from /home/ray/Dispa-SET_Unleash/RawData/Load_DayAhead/NO/2023.csv...\n"
     ]
    },
    {
     "name": "stderr",
     "output_type": "stream",
     "text": [
      "/tmp/ipykernel_143036/3717144850.py:37: FutureWarning: 'T' is deprecated and will be removed in a future version, please use 'min' instead.\n",
      "  resampled_df = df_resample.resample(interval).first().reset_index()\n",
      "/tmp/ipykernel_143036/3717144850.py:37: FutureWarning: 'T' is deprecated and will be removed in a future version, please use 'min' instead.\n",
      "  resampled_df = df_resample.resample(interval).first().reset_index()\n"
     ]
    },
    {
     "name": "stdout",
     "output_type": "stream",
     "text": [
      "File saved: /home/ray/Dispa-SET_Unleash/RawData/Load_DayAhead/NO/30min/2023.csv\n",
      "Loading CSV file from /home/ray/Dispa-SET_Unleash/RawData/Load_DayAhead/NO/2023.csv...\n",
      "File saved: /home/ray/Dispa-SET_Unleash/RawData/Load_DayAhead/NO/15min/2023.csv\n",
      "Processing Real-Time file: /home/ray/Dispa-SET_Unleash/RawData/Load_RealTime/NO/2023.csv\n",
      "Loading CSV file from /home/ray/Dispa-SET_Unleash/RawData/Load_RealTime/NO/2023.csv...\n"
     ]
    },
    {
     "name": "stderr",
     "output_type": "stream",
     "text": [
      "/tmp/ipykernel_143036/3717144850.py:37: FutureWarning: 'T' is deprecated and will be removed in a future version, please use 'min' instead.\n",
      "  resampled_df = df_resample.resample(interval).first().reset_index()\n"
     ]
    },
    {
     "name": "stdout",
     "output_type": "stream",
     "text": [
      "File saved: /home/ray/Dispa-SET_Unleash/RawData/Load_RealTime/NO/1h/2023.csv\n",
      "Loading CSV file from /home/ray/Dispa-SET_Unleash/RawData/Load_RealTime/NO/2023.csv...\n",
      "File saved: /home/ray/Dispa-SET_Unleash/RawData/Load_RealTime/NO/30min/2023.csv\n",
      "Loading CSV file from /home/ray/Dispa-SET_Unleash/RawData/Load_RealTime/NO/2023.csv...\n"
     ]
    },
    {
     "name": "stderr",
     "output_type": "stream",
     "text": [
      "/tmp/ipykernel_143036/3717144850.py:37: FutureWarning: 'T' is deprecated and will be removed in a future version, please use 'min' instead.\n",
      "  resampled_df = df_resample.resample(interval).first().reset_index()\n"
     ]
    },
    {
     "name": "stdout",
     "output_type": "stream",
     "text": [
      "File saved: /home/ray/Dispa-SET_Unleash/RawData/Load_RealTime/NO/15min/2023.csv\n",
      "Processing files for row 24...\n",
      "Processing Day-Ahead file: /home/ray/Dispa-SET_Unleash/RawData/Load_DayAhead/PL/2023.csv\n",
      "Loading CSV file from /home/ray/Dispa-SET_Unleash/RawData/Load_DayAhead/PL/2023.csv...\n",
      "File saved: /home/ray/Dispa-SET_Unleash/RawData/Load_DayAhead/PL/1h/2023.csv\n",
      "Loading CSV file from /home/ray/Dispa-SET_Unleash/RawData/Load_DayAhead/PL/2023.csv...\n"
     ]
    },
    {
     "name": "stderr",
     "output_type": "stream",
     "text": [
      "/tmp/ipykernel_143036/3717144850.py:37: FutureWarning: 'T' is deprecated and will be removed in a future version, please use 'min' instead.\n",
      "  resampled_df = df_resample.resample(interval).first().reset_index()\n",
      "/tmp/ipykernel_143036/3717144850.py:37: FutureWarning: 'T' is deprecated and will be removed in a future version, please use 'min' instead.\n",
      "  resampled_df = df_resample.resample(interval).first().reset_index()\n"
     ]
    },
    {
     "name": "stdout",
     "output_type": "stream",
     "text": [
      "File saved: /home/ray/Dispa-SET_Unleash/RawData/Load_DayAhead/PL/30min/2023.csv\n",
      "Loading CSV file from /home/ray/Dispa-SET_Unleash/RawData/Load_DayAhead/PL/2023.csv...\n",
      "File saved: /home/ray/Dispa-SET_Unleash/RawData/Load_DayAhead/PL/15min/2023.csv\n",
      "Processing Real-Time file: /home/ray/Dispa-SET_Unleash/RawData/Load_RealTime/PL/2023.csv\n",
      "Loading CSV file from /home/ray/Dispa-SET_Unleash/RawData/Load_RealTime/PL/2023.csv...\n",
      "File saved: /home/ray/Dispa-SET_Unleash/RawData/Load_RealTime/PL/1h/2023.csv\n",
      "Loading CSV file from /home/ray/Dispa-SET_Unleash/RawData/Load_RealTime/PL/2023.csv...\n"
     ]
    },
    {
     "name": "stderr",
     "output_type": "stream",
     "text": [
      "/tmp/ipykernel_143036/3717144850.py:37: FutureWarning: 'T' is deprecated and will be removed in a future version, please use 'min' instead.\n",
      "  resampled_df = df_resample.resample(interval).first().reset_index()\n"
     ]
    },
    {
     "name": "stdout",
     "output_type": "stream",
     "text": [
      "File saved: /home/ray/Dispa-SET_Unleash/RawData/Load_RealTime/PL/30min/2023.csv\n",
      "Loading CSV file from /home/ray/Dispa-SET_Unleash/RawData/Load_RealTime/PL/2023.csv...\n"
     ]
    },
    {
     "name": "stderr",
     "output_type": "stream",
     "text": [
      "/tmp/ipykernel_143036/3717144850.py:37: FutureWarning: 'T' is deprecated and will be removed in a future version, please use 'min' instead.\n",
      "  resampled_df = df_resample.resample(interval).first().reset_index()\n"
     ]
    },
    {
     "name": "stdout",
     "output_type": "stream",
     "text": [
      "File saved: /home/ray/Dispa-SET_Unleash/RawData/Load_RealTime/PL/15min/2023.csv\n",
      "Processing files for row 25...\n",
      "Processing Day-Ahead file: /home/ray/Dispa-SET_Unleash/RawData/Load_DayAhead/PT/2023.csv\n",
      "Loading CSV file from /home/ray/Dispa-SET_Unleash/RawData/Load_DayAhead/PT/2023.csv...\n",
      "File saved: /home/ray/Dispa-SET_Unleash/RawData/Load_DayAhead/PT/1h/2023.csv\n",
      "Loading CSV file from /home/ray/Dispa-SET_Unleash/RawData/Load_DayAhead/PT/2023.csv...\n",
      "File saved: /home/ray/Dispa-SET_Unleash/RawData/Load_DayAhead/PT/30min/2023.csv\n",
      "Loading CSV file from /home/ray/Dispa-SET_Unleash/RawData/Load_DayAhead/PT/2023.csv...\n"
     ]
    },
    {
     "name": "stderr",
     "output_type": "stream",
     "text": [
      "/tmp/ipykernel_143036/3717144850.py:37: FutureWarning: 'T' is deprecated and will be removed in a future version, please use 'min' instead.\n",
      "  resampled_df = df_resample.resample(interval).first().reset_index()\n",
      "/tmp/ipykernel_143036/3717144850.py:37: FutureWarning: 'T' is deprecated and will be removed in a future version, please use 'min' instead.\n",
      "  resampled_df = df_resample.resample(interval).first().reset_index()\n"
     ]
    },
    {
     "name": "stdout",
     "output_type": "stream",
     "text": [
      "File saved: /home/ray/Dispa-SET_Unleash/RawData/Load_DayAhead/PT/15min/2023.csv\n",
      "Processing Real-Time file: /home/ray/Dispa-SET_Unleash/RawData/Load_RealTime/PT/2023.csv\n",
      "Loading CSV file from /home/ray/Dispa-SET_Unleash/RawData/Load_RealTime/PT/2023.csv...\n",
      "File saved: /home/ray/Dispa-SET_Unleash/RawData/Load_RealTime/PT/1h/2023.csv\n",
      "Loading CSV file from /home/ray/Dispa-SET_Unleash/RawData/Load_RealTime/PT/2023.csv...\n"
     ]
    },
    {
     "name": "stderr",
     "output_type": "stream",
     "text": [
      "/tmp/ipykernel_143036/3717144850.py:37: FutureWarning: 'T' is deprecated and will be removed in a future version, please use 'min' instead.\n",
      "  resampled_df = df_resample.resample(interval).first().reset_index()\n"
     ]
    },
    {
     "name": "stdout",
     "output_type": "stream",
     "text": [
      "File saved: /home/ray/Dispa-SET_Unleash/RawData/Load_RealTime/PT/30min/2023.csv\n",
      "Loading CSV file from /home/ray/Dispa-SET_Unleash/RawData/Load_RealTime/PT/2023.csv...\n"
     ]
    },
    {
     "name": "stderr",
     "output_type": "stream",
     "text": [
      "/tmp/ipykernel_143036/3717144850.py:37: FutureWarning: 'T' is deprecated and will be removed in a future version, please use 'min' instead.\n",
      "  resampled_df = df_resample.resample(interval).first().reset_index()\n"
     ]
    },
    {
     "name": "stdout",
     "output_type": "stream",
     "text": [
      "File saved: /home/ray/Dispa-SET_Unleash/RawData/Load_RealTime/PT/15min/2023.csv\n",
      "Processing files for row 26...\n",
      "Processing Day-Ahead file: /home/ray/Dispa-SET_Unleash/RawData/Load_DayAhead/RO/2023.csv\n",
      "Loading CSV file from /home/ray/Dispa-SET_Unleash/RawData/Load_DayAhead/RO/2023.csv...\n",
      "File saved: /home/ray/Dispa-SET_Unleash/RawData/Load_DayAhead/RO/1h/2023.csv\n",
      "Loading CSV file from /home/ray/Dispa-SET_Unleash/RawData/Load_DayAhead/RO/2023.csv...\n"
     ]
    },
    {
     "name": "stderr",
     "output_type": "stream",
     "text": [
      "/tmp/ipykernel_143036/3717144850.py:37: FutureWarning: 'T' is deprecated and will be removed in a future version, please use 'min' instead.\n",
      "  resampled_df = df_resample.resample(interval).first().reset_index()\n"
     ]
    },
    {
     "name": "stdout",
     "output_type": "stream",
     "text": [
      "File saved: /home/ray/Dispa-SET_Unleash/RawData/Load_DayAhead/RO/30min/2023.csv\n",
      "Loading CSV file from /home/ray/Dispa-SET_Unleash/RawData/Load_DayAhead/RO/2023.csv...\n"
     ]
    },
    {
     "name": "stderr",
     "output_type": "stream",
     "text": [
      "/tmp/ipykernel_143036/3717144850.py:37: FutureWarning: 'T' is deprecated and will be removed in a future version, please use 'min' instead.\n",
      "  resampled_df = df_resample.resample(interval).first().reset_index()\n"
     ]
    },
    {
     "name": "stdout",
     "output_type": "stream",
     "text": [
      "File saved: /home/ray/Dispa-SET_Unleash/RawData/Load_DayAhead/RO/15min/2023.csv\n",
      "Processing Real-Time file: /home/ray/Dispa-SET_Unleash/RawData/Load_RealTime/RO/2023.csv\n",
      "Loading CSV file from /home/ray/Dispa-SET_Unleash/RawData/Load_RealTime/RO/2023.csv...\n",
      "File saved: /home/ray/Dispa-SET_Unleash/RawData/Load_RealTime/RO/1h/2023.csv\n",
      "Loading CSV file from /home/ray/Dispa-SET_Unleash/RawData/Load_RealTime/RO/2023.csv...\n",
      "File saved: /home/ray/Dispa-SET_Unleash/RawData/Load_RealTime/RO/30min/2023.csv\n",
      "Loading CSV file from /home/ray/Dispa-SET_Unleash/RawData/Load_RealTime/RO/2023.csv...\n"
     ]
    },
    {
     "name": "stderr",
     "output_type": "stream",
     "text": [
      "/tmp/ipykernel_143036/3717144850.py:37: FutureWarning: 'T' is deprecated and will be removed in a future version, please use 'min' instead.\n",
      "  resampled_df = df_resample.resample(interval).first().reset_index()\n",
      "/tmp/ipykernel_143036/3717144850.py:37: FutureWarning: 'T' is deprecated and will be removed in a future version, please use 'min' instead.\n",
      "  resampled_df = df_resample.resample(interval).first().reset_index()\n"
     ]
    },
    {
     "name": "stdout",
     "output_type": "stream",
     "text": [
      "File saved: /home/ray/Dispa-SET_Unleash/RawData/Load_RealTime/RO/15min/2023.csv\n",
      "Processing files for row 27...\n",
      "Processing Day-Ahead file: /home/ray/Dispa-SET_Unleash/RawData/Load_DayAhead/SE/2023.csv\n",
      "Loading CSV file from /home/ray/Dispa-SET_Unleash/RawData/Load_DayAhead/SE/2023.csv...\n",
      "File saved: /home/ray/Dispa-SET_Unleash/RawData/Load_DayAhead/SE/1h/2023.csv\n",
      "Loading CSV file from /home/ray/Dispa-SET_Unleash/RawData/Load_DayAhead/SE/2023.csv...\n",
      "File saved: /home/ray/Dispa-SET_Unleash/RawData/Load_DayAhead/SE/30min/2023.csv\n",
      "Loading CSV file from /home/ray/Dispa-SET_Unleash/RawData/Load_DayAhead/SE/2023.csv...\n"
     ]
    },
    {
     "name": "stderr",
     "output_type": "stream",
     "text": [
      "/tmp/ipykernel_143036/3717144850.py:37: FutureWarning: 'T' is deprecated and will be removed in a future version, please use 'min' instead.\n",
      "  resampled_df = df_resample.resample(interval).first().reset_index()\n",
      "/tmp/ipykernel_143036/3717144850.py:37: FutureWarning: 'T' is deprecated and will be removed in a future version, please use 'min' instead.\n",
      "  resampled_df = df_resample.resample(interval).first().reset_index()\n"
     ]
    },
    {
     "name": "stdout",
     "output_type": "stream",
     "text": [
      "File saved: /home/ray/Dispa-SET_Unleash/RawData/Load_DayAhead/SE/15min/2023.csv\n",
      "Processing Real-Time file: /home/ray/Dispa-SET_Unleash/RawData/Load_RealTime/SE/2023.csv\n",
      "Loading CSV file from /home/ray/Dispa-SET_Unleash/RawData/Load_RealTime/SE/2023.csv...\n"
     ]
    },
    {
     "name": "stderr",
     "output_type": "stream",
     "text": [
      "/tmp/ipykernel_143036/3717144850.py:37: FutureWarning: 'T' is deprecated and will be removed in a future version, please use 'min' instead.\n",
      "  resampled_df = df_resample.resample(interval).first().reset_index()\n"
     ]
    },
    {
     "name": "stdout",
     "output_type": "stream",
     "text": [
      "File saved: /home/ray/Dispa-SET_Unleash/RawData/Load_RealTime/SE/1h/2023.csv\n",
      "Loading CSV file from /home/ray/Dispa-SET_Unleash/RawData/Load_RealTime/SE/2023.csv...\n",
      "File saved: /home/ray/Dispa-SET_Unleash/RawData/Load_RealTime/SE/30min/2023.csv\n",
      "Loading CSV file from /home/ray/Dispa-SET_Unleash/RawData/Load_RealTime/SE/2023.csv...\n"
     ]
    },
    {
     "name": "stderr",
     "output_type": "stream",
     "text": [
      "/tmp/ipykernel_143036/3717144850.py:37: FutureWarning: 'T' is deprecated and will be removed in a future version, please use 'min' instead.\n",
      "  resampled_df = df_resample.resample(interval).first().reset_index()\n"
     ]
    },
    {
     "name": "stdout",
     "output_type": "stream",
     "text": [
      "File saved: /home/ray/Dispa-SET_Unleash/RawData/Load_RealTime/SE/15min/2023.csv\n",
      "Processing files for row 28...\n",
      "Processing Day-Ahead file: /home/ray/Dispa-SET_Unleash/RawData/Load_DayAhead/SI/2023.csv\n",
      "Loading CSV file from /home/ray/Dispa-SET_Unleash/RawData/Load_DayAhead/SI/2023.csv...\n"
     ]
    },
    {
     "name": "stderr",
     "output_type": "stream",
     "text": [
      "/tmp/ipykernel_143036/3717144850.py:37: FutureWarning: 'T' is deprecated and will be removed in a future version, please use 'min' instead.\n",
      "  resampled_df = df_resample.resample(interval).first().reset_index()\n",
      "/tmp/ipykernel_143036/3717144850.py:37: FutureWarning: 'T' is deprecated and will be removed in a future version, please use 'min' instead.\n",
      "  resampled_df = df_resample.resample(interval).first().reset_index()\n"
     ]
    },
    {
     "name": "stdout",
     "output_type": "stream",
     "text": [
      "File saved: /home/ray/Dispa-SET_Unleash/RawData/Load_DayAhead/SI/1h/2023.csv\n",
      "Loading CSV file from /home/ray/Dispa-SET_Unleash/RawData/Load_DayAhead/SI/2023.csv...\n",
      "File saved: /home/ray/Dispa-SET_Unleash/RawData/Load_DayAhead/SI/30min/2023.csv\n",
      "Loading CSV file from /home/ray/Dispa-SET_Unleash/RawData/Load_DayAhead/SI/2023.csv...\n",
      "File saved: /home/ray/Dispa-SET_Unleash/RawData/Load_DayAhead/SI/15min/2023.csv\n",
      "Processing Real-Time file: /home/ray/Dispa-SET_Unleash/RawData/Load_RealTime/SI/2023.csv\n",
      "Loading CSV file from /home/ray/Dispa-SET_Unleash/RawData/Load_RealTime/SI/2023.csv...\n",
      "File saved: /home/ray/Dispa-SET_Unleash/RawData/Load_RealTime/SI/1h/2023.csv\n",
      "Loading CSV file from /home/ray/Dispa-SET_Unleash/RawData/Load_RealTime/SI/2023.csv...\n"
     ]
    },
    {
     "name": "stderr",
     "output_type": "stream",
     "text": [
      "/tmp/ipykernel_143036/3717144850.py:37: FutureWarning: 'T' is deprecated and will be removed in a future version, please use 'min' instead.\n",
      "  resampled_df = df_resample.resample(interval).first().reset_index()\n"
     ]
    },
    {
     "name": "stdout",
     "output_type": "stream",
     "text": [
      "File saved: /home/ray/Dispa-SET_Unleash/RawData/Load_RealTime/SI/30min/2023.csv\n",
      "Loading CSV file from /home/ray/Dispa-SET_Unleash/RawData/Load_RealTime/SI/2023.csv...\n"
     ]
    },
    {
     "name": "stderr",
     "output_type": "stream",
     "text": [
      "/tmp/ipykernel_143036/3717144850.py:37: FutureWarning: 'T' is deprecated and will be removed in a future version, please use 'min' instead.\n",
      "  resampled_df = df_resample.resample(interval).first().reset_index()\n"
     ]
    },
    {
     "name": "stdout",
     "output_type": "stream",
     "text": [
      "File saved: /home/ray/Dispa-SET_Unleash/RawData/Load_RealTime/SI/15min/2023.csv\n",
      "Processing files for row 29...\n",
      "Processing Day-Ahead file: /home/ray/Dispa-SET_Unleash/RawData/Load_DayAhead/SK/2023.csv\n",
      "Loading CSV file from /home/ray/Dispa-SET_Unleash/RawData/Load_DayAhead/SK/2023.csv...\n",
      "File saved: /home/ray/Dispa-SET_Unleash/RawData/Load_DayAhead/SK/1h/2023.csv\n",
      "Loading CSV file from /home/ray/Dispa-SET_Unleash/RawData/Load_DayAhead/SK/2023.csv...\n"
     ]
    },
    {
     "name": "stderr",
     "output_type": "stream",
     "text": [
      "/tmp/ipykernel_143036/3717144850.py:37: FutureWarning: 'T' is deprecated and will be removed in a future version, please use 'min' instead.\n",
      "  resampled_df = df_resample.resample(interval).first().reset_index()\n",
      "/tmp/ipykernel_143036/3717144850.py:37: FutureWarning: 'T' is deprecated and will be removed in a future version, please use 'min' instead.\n",
      "  resampled_df = df_resample.resample(interval).first().reset_index()\n"
     ]
    },
    {
     "name": "stdout",
     "output_type": "stream",
     "text": [
      "File saved: /home/ray/Dispa-SET_Unleash/RawData/Load_DayAhead/SK/30min/2023.csv\n",
      "Loading CSV file from /home/ray/Dispa-SET_Unleash/RawData/Load_DayAhead/SK/2023.csv...\n",
      "File saved: /home/ray/Dispa-SET_Unleash/RawData/Load_DayAhead/SK/15min/2023.csv\n",
      "Processing Real-Time file: /home/ray/Dispa-SET_Unleash/RawData/Load_RealTime/SK/2023.csv\n",
      "Loading CSV file from /home/ray/Dispa-SET_Unleash/RawData/Load_RealTime/SK/2023.csv...\n",
      "File saved: /home/ray/Dispa-SET_Unleash/RawData/Load_RealTime/SK/1h/2023.csv\n",
      "Loading CSV file from /home/ray/Dispa-SET_Unleash/RawData/Load_RealTime/SK/2023.csv...\n",
      "File saved: /home/ray/Dispa-SET_Unleash/RawData/Load_RealTime/SK/30min/2023.csv\n",
      "Loading CSV file from /home/ray/Dispa-SET_Unleash/RawData/Load_RealTime/SK/2023.csv...\n"
     ]
    },
    {
     "name": "stderr",
     "output_type": "stream",
     "text": [
      "/tmp/ipykernel_143036/3717144850.py:37: FutureWarning: 'T' is deprecated and will be removed in a future version, please use 'min' instead.\n",
      "  resampled_df = df_resample.resample(interval).first().reset_index()\n",
      "/tmp/ipykernel_143036/3717144850.py:37: FutureWarning: 'T' is deprecated and will be removed in a future version, please use 'min' instead.\n",
      "  resampled_df = df_resample.resample(interval).first().reset_index()\n"
     ]
    },
    {
     "name": "stdout",
     "output_type": "stream",
     "text": [
      "File saved: /home/ray/Dispa-SET_Unleash/RawData/Load_RealTime/SK/15min/2023.csv\n",
      "Processing files for row 30...\n",
      "Processing Day-Ahead file: /home/ray/Dispa-SET_Unleash/RawData/Load_DayAhead/UK/2023.csv\n",
      "Loading CSV file from /home/ray/Dispa-SET_Unleash/RawData/Load_DayAhead/UK/2023.csv...\n",
      "File saved: /home/ray/Dispa-SET_Unleash/RawData/Load_DayAhead/UK/1h/2023.csv\n",
      "Loading CSV file from /home/ray/Dispa-SET_Unleash/RawData/Load_DayAhead/UK/2023.csv...\n",
      "File saved: /home/ray/Dispa-SET_Unleash/RawData/Load_DayAhead/UK/30min/2023.csv\n",
      "Loading CSV file from /home/ray/Dispa-SET_Unleash/RawData/Load_DayAhead/UK/2023.csv...\n"
     ]
    },
    {
     "name": "stderr",
     "output_type": "stream",
     "text": [
      "/tmp/ipykernel_143036/3717144850.py:37: FutureWarning: 'T' is deprecated and will be removed in a future version, please use 'min' instead.\n",
      "  resampled_df = df_resample.resample(interval).first().reset_index()\n",
      "/tmp/ipykernel_143036/3717144850.py:37: FutureWarning: 'T' is deprecated and will be removed in a future version, please use 'min' instead.\n",
      "  resampled_df = df_resample.resample(interval).first().reset_index()\n"
     ]
    },
    {
     "name": "stdout",
     "output_type": "stream",
     "text": [
      "File saved: /home/ray/Dispa-SET_Unleash/RawData/Load_DayAhead/UK/15min/2023.csv\n",
      "Processing Real-Time file: /home/ray/Dispa-SET_Unleash/RawData/Load_RealTime/UK/2023.csv\n",
      "Loading CSV file from /home/ray/Dispa-SET_Unleash/RawData/Load_RealTime/UK/2023.csv...\n",
      "File saved: /home/ray/Dispa-SET_Unleash/RawData/Load_RealTime/UK/1h/2023.csv\n",
      "Loading CSV file from /home/ray/Dispa-SET_Unleash/RawData/Load_RealTime/UK/2023.csv...\n"
     ]
    },
    {
     "name": "stderr",
     "output_type": "stream",
     "text": [
      "/tmp/ipykernel_143036/3717144850.py:37: FutureWarning: 'T' is deprecated and will be removed in a future version, please use 'min' instead.\n",
      "  resampled_df = df_resample.resample(interval).first().reset_index()\n"
     ]
    },
    {
     "name": "stdout",
     "output_type": "stream",
     "text": [
      "File saved: /home/ray/Dispa-SET_Unleash/RawData/Load_RealTime/UK/30min/2023.csv\n",
      "Loading CSV file from /home/ray/Dispa-SET_Unleash/RawData/Load_RealTime/UK/2023.csv...\n"
     ]
    },
    {
     "name": "stderr",
     "output_type": "stream",
     "text": [
      "/tmp/ipykernel_143036/3717144850.py:37: FutureWarning: 'T' is deprecated and will be removed in a future version, please use 'min' instead.\n",
      "  resampled_df = df_resample.resample(interval).first().reset_index()\n"
     ]
    },
    {
     "name": "stdout",
     "output_type": "stream",
     "text": [
      "File saved: /home/ray/Dispa-SET_Unleash/RawData/Load_RealTime/UK/15min/2023.csv\n",
      "All files processed successfully!\n"
     ]
    }
   ],
   "source": [
    "# Load the country list file\n",
    "print(f\"Loading country list file from {load_data_country_list_file}...\")\n",
    "country_list_df = pd.read_csv(load_data_country_list_file)\n",
    "\n",
    "# Define the new directory names for each time step\n",
    "intervals = ['1h', '30min', '15min']\n",
    "time_steps = {\n",
    "    '1h': '1h',\n",
    "    '30min': '30T',\n",
    "    '15min': '15T'\n",
    "}\n",
    "\n",
    "# Function to extract rows at a specific time step and save to a new CSV file\n",
    "def extract_and_save(file_path, interval, folder_name):\n",
    "    # Extract the base directory from the file path\n",
    "    base_directory = os.path.dirname(file_path)\n",
    "    \n",
    "    # Create the new directory for the time step\n",
    "    new_dir = os.path.join(base_directory, folder_name)\n",
    "    os.makedirs(new_dir, exist_ok=True)\n",
    "\n",
    "    # Read the original CSV file\n",
    "    print(f\"Loading CSV file from {file_path}...\")\n",
    "    df = pd.read_csv(file_path)\n",
    "    \n",
    "    # Ensure the first column is named 'index'\n",
    "    if df.columns[0] != 'index':\n",
    "        df.rename(columns={df.columns[0]: 'index'}, inplace=True)\n",
    "\n",
    "    # Convert the 'index' column to datetime\n",
    "    df['index'] = pd.to_datetime(df['index'], format='%Y-%m-%d %H:%M:%S%z')\n",
    "\n",
    "    # Set the 'index' column as the DataFrame index\n",
    "    df_resample = df.set_index('index')\n",
    "\n",
    "    # Resample the DataFrame based on the interval\n",
    "    resampled_df = df_resample.resample(interval).first().reset_index()\n",
    "\n",
    "    # Define the new file path\n",
    "    new_file_path = os.path.join(new_dir, os.path.basename(file_path))\n",
    "    \n",
    "    # Save the resampled DataFrame to the new CSV file\n",
    "    resampled_df.to_csv(new_file_path, index=False)\n",
    "    print(f\"File saved: {new_file_path}\")\n",
    "\n",
    "# Process each file in the 'Load_DayAhead_File_Path' and 'Load_Realtime_File_Path' columns\n",
    "for index, row in country_list_df.iterrows():\n",
    "    day_ahead_path = row['Load_DayAhead_File_Path']\n",
    "    real_time_path = row['Load_Realtime_File_Path']\n",
    "\n",
    "    print(f\"Processing files for row {index + 1}...\")\n",
    "    \n",
    "    # Apply the resampling and saving process for the day-ahead file\n",
    "    if os.path.exists(day_ahead_path):\n",
    "        print(f\"Processing Day-Ahead file: {day_ahead_path}\")\n",
    "        for folder, interval in time_steps.items():\n",
    "            extract_and_save(day_ahead_path, interval, folder)\n",
    "    else:\n",
    "        print(f\"Error: Day-Ahead file not found at {day_ahead_path}\")\n",
    "    \n",
    "    # Apply the resampling and saving process for the real-time file\n",
    "    if os.path.exists(real_time_path):\n",
    "        print(f\"Processing Real-Time file: {real_time_path}\")\n",
    "        for folder, interval in time_steps.items():\n",
    "            extract_and_save(real_time_path, interval, folder)\n",
    "    else:\n",
    "        print(f\"Error: Real-Time file not found at {real_time_path}\")\n",
    "\n",
    "print(\"All files processed successfully!\")\n"
   ]
  },
  {
   "cell_type": "markdown",
   "id": "b8c6caaf-602e-40a1-b46a-ae1620b6d9fc",
   "metadata": {},
   "source": [
    "<div style=\"text-align: Justify; margin-left: 0.0em; font-weight: unbold; font-size: 14px; font-family: TimesNewRoman; color:skyblue\">\n",
    "Dividing the clean data in time stepts of 15 minutes, 30 minutes, and 1 hour.\n",
    "</div>"
   ]
  },
  {
   "cell_type": "code",
   "execution_count": 131,
   "id": "cabd4e71-009c-4956-aaf6-21f5617bc461",
   "metadata": {},
   "outputs": [
    {
     "name": "stdout",
     "output_type": "stream",
     "text": [
      "No missing values in file: /home/ray/Dispa-SET_Unleash/RawData/Load_DayAhead/AT/1h/2023.csv\n",
      "No missing values in file: /home/ray/Dispa-SET_Unleash/RawData/Load_DayAhead/AT/15min/2023.csv\n",
      "No missing values in file: /home/ray/Dispa-SET_Unleash/RawData/Load_DayAhead/AT/30min/2023.csv\n",
      "No missing values in file: /home/ray/Dispa-SET_Unleash/RawData/Load_DayAhead/BE/1h/2023.csv\n",
      "No missing values in file: /home/ray/Dispa-SET_Unleash/RawData/Load_DayAhead/BE/15min/2023.csv\n",
      "No missing values in file: /home/ray/Dispa-SET_Unleash/RawData/Load_DayAhead/BE/30min/2023.csv\n",
      "No missing values in file: /home/ray/Dispa-SET_Unleash/RawData/Load_DayAhead/BG/1h/2023.csv\n",
      "Deleted folder due to missing values: /home/ray/Dispa-SET_Unleash/RawData/Load_DayAhead/BG/15min\n",
      "Deleted folder due to missing values: /home/ray/Dispa-SET_Unleash/RawData/Load_DayAhead/BG/30min\n",
      "No missing values in file: /home/ray/Dispa-SET_Unleash/RawData/Load_DayAhead/CH/1h/2023.csv\n",
      "Deleted folder due to missing values: /home/ray/Dispa-SET_Unleash/RawData/Load_DayAhead/CH/15min\n",
      "Deleted folder due to missing values: /home/ray/Dispa-SET_Unleash/RawData/Load_DayAhead/CH/30min\n",
      "Deleted folder due to missing values: /home/ray/Dispa-SET_Unleash/RawData/Load_DayAhead/CY/1h\n",
      "Deleted folder due to missing values: /home/ray/Dispa-SET_Unleash/RawData/Load_DayAhead/CY/15min\n",
      "Deleted folder due to missing values: /home/ray/Dispa-SET_Unleash/RawData/Load_DayAhead/CY/30min\n",
      "No missing values in file: /home/ray/Dispa-SET_Unleash/RawData/Load_DayAhead/CZ/1h/2023.csv\n",
      "Deleted folder due to missing values: /home/ray/Dispa-SET_Unleash/RawData/Load_DayAhead/CZ/15min\n",
      "Deleted folder due to missing values: /home/ray/Dispa-SET_Unleash/RawData/Load_DayAhead/CZ/30min\n",
      "No missing values in file: /home/ray/Dispa-SET_Unleash/RawData/Load_DayAhead/DE/1h/2023.csv\n",
      "No missing values in file: /home/ray/Dispa-SET_Unleash/RawData/Load_DayAhead/DE/15min/2023.csv\n",
      "No missing values in file: /home/ray/Dispa-SET_Unleash/RawData/Load_DayAhead/DE/30min/2023.csv\n",
      "No missing values in file: /home/ray/Dispa-SET_Unleash/RawData/Load_DayAhead/DK/1h/2023.csv\n",
      "Deleted folder due to missing values: /home/ray/Dispa-SET_Unleash/RawData/Load_DayAhead/DK/15min\n",
      "Deleted folder due to missing values: /home/ray/Dispa-SET_Unleash/RawData/Load_DayAhead/DK/30min\n",
      "Deleted folder due to missing values: /home/ray/Dispa-SET_Unleash/RawData/Load_DayAhead/EE/1h\n",
      "Deleted folder due to missing values: /home/ray/Dispa-SET_Unleash/RawData/Load_DayAhead/EE/15min\n",
      "Deleted folder due to missing values: /home/ray/Dispa-SET_Unleash/RawData/Load_DayAhead/EE/30min\n",
      "No missing values in file: /home/ray/Dispa-SET_Unleash/RawData/Load_DayAhead/EL/1h/2023.csv\n",
      "Deleted folder due to missing values: /home/ray/Dispa-SET_Unleash/RawData/Load_DayAhead/EL/15min\n",
      "Deleted folder due to missing values: /home/ray/Dispa-SET_Unleash/RawData/Load_DayAhead/EL/30min\n",
      "No missing values in file: /home/ray/Dispa-SET_Unleash/RawData/Load_DayAhead/ES/1h/2023.csv\n",
      "No missing values in file: /home/ray/Dispa-SET_Unleash/RawData/Load_DayAhead/ES/15min/2023.csv\n",
      "No missing values in file: /home/ray/Dispa-SET_Unleash/RawData/Load_DayAhead/ES/30min/2023.csv\n",
      "Deleted folder due to missing values: /home/ray/Dispa-SET_Unleash/RawData/Load_DayAhead/FI/1h\n",
      "Deleted folder due to missing values: /home/ray/Dispa-SET_Unleash/RawData/Load_DayAhead/FI/15min\n",
      "Deleted folder due to missing values: /home/ray/Dispa-SET_Unleash/RawData/Load_DayAhead/FI/30min\n",
      "No missing values in file: /home/ray/Dispa-SET_Unleash/RawData/Load_DayAhead/FR/1h/2023.csv\n",
      "Deleted folder due to missing values: /home/ray/Dispa-SET_Unleash/RawData/Load_DayAhead/FR/15min\n",
      "Deleted folder due to missing values: /home/ray/Dispa-SET_Unleash/RawData/Load_DayAhead/FR/30min\n",
      "No missing values in file: /home/ray/Dispa-SET_Unleash/RawData/Load_DayAhead/HR/1h/2023.csv\n",
      "No missing values in file: /home/ray/Dispa-SET_Unleash/RawData/Load_DayAhead/HR/15min/2023.csv\n",
      "No missing values in file: /home/ray/Dispa-SET_Unleash/RawData/Load_DayAhead/HR/30min/2023.csv\n",
      "No missing values in file: /home/ray/Dispa-SET_Unleash/RawData/Load_DayAhead/HU/1h/2023.csv\n",
      "No missing values in file: /home/ray/Dispa-SET_Unleash/RawData/Load_DayAhead/HU/15min/2023.csv\n",
      "No missing values in file: /home/ray/Dispa-SET_Unleash/RawData/Load_DayAhead/HU/30min/2023.csv\n",
      "Deleted folder due to missing values: /home/ray/Dispa-SET_Unleash/RawData/Load_DayAhead/IE/1h\n",
      "Deleted folder due to missing values: /home/ray/Dispa-SET_Unleash/RawData/Load_DayAhead/IE/15min\n",
      "Deleted folder due to missing values: /home/ray/Dispa-SET_Unleash/RawData/Load_DayAhead/IE/30min\n",
      "No missing values in file: /home/ray/Dispa-SET_Unleash/RawData/Load_DayAhead/IT/1h/2023.csv\n",
      "Deleted folder due to missing values: /home/ray/Dispa-SET_Unleash/RawData/Load_DayAhead/IT/15min\n",
      "Deleted folder due to missing values: /home/ray/Dispa-SET_Unleash/RawData/Load_DayAhead/IT/30min\n",
      "No missing values in file: /home/ray/Dispa-SET_Unleash/RawData/Load_DayAhead/LT/1h/2023.csv\n",
      "Deleted folder due to missing values: /home/ray/Dispa-SET_Unleash/RawData/Load_DayAhead/LT/15min\n",
      "Deleted folder due to missing values: /home/ray/Dispa-SET_Unleash/RawData/Load_DayAhead/LT/30min\n",
      "Deleted folder due to missing values: /home/ray/Dispa-SET_Unleash/RawData/Load_DayAhead/LU/1h\n",
      "Deleted folder due to missing values: /home/ray/Dispa-SET_Unleash/RawData/Load_DayAhead/LU/15min\n",
      "Deleted folder due to missing values: /home/ray/Dispa-SET_Unleash/RawData/Load_DayAhead/LU/30min\n",
      "No missing values in file: /home/ray/Dispa-SET_Unleash/RawData/Load_DayAhead/LV/1h/2023.csv\n",
      "Deleted folder due to missing values: /home/ray/Dispa-SET_Unleash/RawData/Load_DayAhead/LV/15min\n",
      "Deleted folder due to missing values: /home/ray/Dispa-SET_Unleash/RawData/Load_DayAhead/LV/30min\n",
      "Deleted folder due to missing values: /home/ray/Dispa-SET_Unleash/RawData/Load_DayAhead/MT/1h\n",
      "Deleted folder due to missing values: /home/ray/Dispa-SET_Unleash/RawData/Load_DayAhead/MT/15min\n",
      "Deleted folder due to missing values: /home/ray/Dispa-SET_Unleash/RawData/Load_DayAhead/MT/30min\n",
      "No missing values in file: /home/ray/Dispa-SET_Unleash/RawData/Load_DayAhead/NL/1h/2023.csv\n",
      "No missing values in file: /home/ray/Dispa-SET_Unleash/RawData/Load_DayAhead/NL/15min/2023.csv\n",
      "No missing values in file: /home/ray/Dispa-SET_Unleash/RawData/Load_DayAhead/NL/30min/2023.csv\n",
      "No missing values in file: /home/ray/Dispa-SET_Unleash/RawData/Load_DayAhead/NO/1h/2023.csv\n",
      "Deleted folder due to missing values: /home/ray/Dispa-SET_Unleash/RawData/Load_DayAhead/NO/15min\n",
      "Deleted folder due to missing values: /home/ray/Dispa-SET_Unleash/RawData/Load_DayAhead/NO/30min\n",
      "No missing values in file: /home/ray/Dispa-SET_Unleash/RawData/Load_DayAhead/PL/1h/2023.csv\n",
      "Deleted folder due to missing values: /home/ray/Dispa-SET_Unleash/RawData/Load_DayAhead/PL/15min\n",
      "Deleted folder due to missing values: /home/ray/Dispa-SET_Unleash/RawData/Load_DayAhead/PL/30min\n",
      "No missing values in file: /home/ray/Dispa-SET_Unleash/RawData/Load_DayAhead/PT/1h/2023.csv\n",
      "Deleted folder due to missing values: /home/ray/Dispa-SET_Unleash/RawData/Load_DayAhead/PT/15min\n",
      "Deleted folder due to missing values: /home/ray/Dispa-SET_Unleash/RawData/Load_DayAhead/PT/30min\n",
      "No missing values in file: /home/ray/Dispa-SET_Unleash/RawData/Load_DayAhead/RO/1h/2023.csv\n",
      "No missing values in file: /home/ray/Dispa-SET_Unleash/RawData/Load_DayAhead/RO/15min/2023.csv\n",
      "No missing values in file: /home/ray/Dispa-SET_Unleash/RawData/Load_DayAhead/RO/30min/2023.csv\n",
      "No missing values in file: /home/ray/Dispa-SET_Unleash/RawData/Load_DayAhead/SE/1h/2023.csv\n",
      "Deleted folder due to missing values: /home/ray/Dispa-SET_Unleash/RawData/Load_DayAhead/SE/15min\n",
      "Deleted folder due to missing values: /home/ray/Dispa-SET_Unleash/RawData/Load_DayAhead/SE/30min\n",
      "Deleted folder due to missing values: /home/ray/Dispa-SET_Unleash/RawData/Load_DayAhead/SI/1h\n",
      "Deleted folder due to missing values: /home/ray/Dispa-SET_Unleash/RawData/Load_DayAhead/SI/15min\n",
      "Deleted folder due to missing values: /home/ray/Dispa-SET_Unleash/RawData/Load_DayAhead/SI/30min\n",
      "No missing values in file: /home/ray/Dispa-SET_Unleash/RawData/Load_DayAhead/SK/1h/2023.csv\n",
      "Deleted folder due to missing values: /home/ray/Dispa-SET_Unleash/RawData/Load_DayAhead/SK/15min\n",
      "Deleted folder due to missing values: /home/ray/Dispa-SET_Unleash/RawData/Load_DayAhead/SK/30min\n",
      "Deleted folder due to missing values: /home/ray/Dispa-SET_Unleash/RawData/Load_DayAhead/UK/1h\n",
      "Deleted folder due to missing values: /home/ray/Dispa-SET_Unleash/RawData/Load_DayAhead/UK/15min\n",
      "Deleted folder due to missing values: /home/ray/Dispa-SET_Unleash/RawData/Load_DayAhead/UK/30min\n",
      "No missing values in file: /home/ray/Dispa-SET_Unleash/RawData/Load_RealTime/AT/1h/2023.csv\n",
      "No missing values in file: /home/ray/Dispa-SET_Unleash/RawData/Load_RealTime/AT/15min/2023.csv\n",
      "No missing values in file: /home/ray/Dispa-SET_Unleash/RawData/Load_RealTime/AT/30min/2023.csv\n",
      "No missing values in file: /home/ray/Dispa-SET_Unleash/RawData/Load_RealTime/BE/1h/2023.csv\n",
      "No missing values in file: /home/ray/Dispa-SET_Unleash/RawData/Load_RealTime/BE/15min/2023.csv\n",
      "No missing values in file: /home/ray/Dispa-SET_Unleash/RawData/Load_RealTime/BE/30min/2023.csv\n",
      "Deleted folder due to missing values: /home/ray/Dispa-SET_Unleash/RawData/Load_RealTime/BG/1h\n",
      "Deleted folder due to missing values: /home/ray/Dispa-SET_Unleash/RawData/Load_RealTime/BG/15min\n",
      "Deleted folder due to missing values: /home/ray/Dispa-SET_Unleash/RawData/Load_RealTime/BG/30min\n",
      "No missing values in file: /home/ray/Dispa-SET_Unleash/RawData/Load_RealTime/CH/1h/2023.csv\n",
      "Deleted folder due to missing values: /home/ray/Dispa-SET_Unleash/RawData/Load_RealTime/CH/15min\n",
      "Deleted folder due to missing values: /home/ray/Dispa-SET_Unleash/RawData/Load_RealTime/CH/30min\n",
      "Deleted folder due to missing values: /home/ray/Dispa-SET_Unleash/RawData/Load_RealTime/CY/1h\n",
      "Deleted folder due to missing values: /home/ray/Dispa-SET_Unleash/RawData/Load_RealTime/CY/15min\n",
      "Deleted folder due to missing values: /home/ray/Dispa-SET_Unleash/RawData/Load_RealTime/CY/30min\n",
      "Deleted folder due to missing values: /home/ray/Dispa-SET_Unleash/RawData/Load_RealTime/CZ/1h\n",
      "Deleted folder due to missing values: /home/ray/Dispa-SET_Unleash/RawData/Load_RealTime/CZ/15min\n",
      "Deleted folder due to missing values: /home/ray/Dispa-SET_Unleash/RawData/Load_RealTime/CZ/30min\n",
      "No missing values in file: /home/ray/Dispa-SET_Unleash/RawData/Load_RealTime/DE/1h/2023.csv\n",
      "No missing values in file: /home/ray/Dispa-SET_Unleash/RawData/Load_RealTime/DE/15min/2023.csv\n",
      "No missing values in file: /home/ray/Dispa-SET_Unleash/RawData/Load_RealTime/DE/30min/2023.csv\n",
      "Deleted folder due to missing values: /home/ray/Dispa-SET_Unleash/RawData/Load_RealTime/DK/1h\n",
      "Deleted folder due to missing values: /home/ray/Dispa-SET_Unleash/RawData/Load_RealTime/DK/15min\n",
      "Deleted folder due to missing values: /home/ray/Dispa-SET_Unleash/RawData/Load_RealTime/DK/30min\n",
      "Deleted folder due to missing values: /home/ray/Dispa-SET_Unleash/RawData/Load_RealTime/EE/1h\n",
      "Deleted folder due to missing values: /home/ray/Dispa-SET_Unleash/RawData/Load_RealTime/EE/15min\n",
      "Deleted folder due to missing values: /home/ray/Dispa-SET_Unleash/RawData/Load_RealTime/EE/30min\n",
      "Deleted folder due to missing values: /home/ray/Dispa-SET_Unleash/RawData/Load_RealTime/EL/1h\n",
      "Deleted folder due to missing values: /home/ray/Dispa-SET_Unleash/RawData/Load_RealTime/EL/15min\n",
      "Deleted folder due to missing values: /home/ray/Dispa-SET_Unleash/RawData/Load_RealTime/EL/30min\n",
      "No missing values in file: /home/ray/Dispa-SET_Unleash/RawData/Load_RealTime/ES/1h/2023.csv\n",
      "Deleted folder due to missing values: /home/ray/Dispa-SET_Unleash/RawData/Load_RealTime/ES/15min\n",
      "No missing values in file: /home/ray/Dispa-SET_Unleash/RawData/Load_RealTime/ES/30min/2023.csv\n",
      "Deleted folder due to missing values: /home/ray/Dispa-SET_Unleash/RawData/Load_RealTime/FI/1h\n",
      "Deleted folder due to missing values: /home/ray/Dispa-SET_Unleash/RawData/Load_RealTime/FI/15min\n",
      "Deleted folder due to missing values: /home/ray/Dispa-SET_Unleash/RawData/Load_RealTime/FI/30min\n",
      "Deleted folder due to missing values: /home/ray/Dispa-SET_Unleash/RawData/Load_RealTime/FR/1h\n",
      "Deleted folder due to missing values: /home/ray/Dispa-SET_Unleash/RawData/Load_RealTime/FR/15min\n",
      "Deleted folder due to missing values: /home/ray/Dispa-SET_Unleash/RawData/Load_RealTime/FR/30min\n",
      "No missing values in file: /home/ray/Dispa-SET_Unleash/RawData/Load_RealTime/HR/1h/2023.csv\n",
      "No missing values in file: /home/ray/Dispa-SET_Unleash/RawData/Load_RealTime/HR/15min/2023.csv\n",
      "No missing values in file: /home/ray/Dispa-SET_Unleash/RawData/Load_RealTime/HR/30min/2023.csv\n",
      "Deleted folder due to missing values: /home/ray/Dispa-SET_Unleash/RawData/Load_RealTime/HU/1h\n",
      "Deleted folder due to missing values: /home/ray/Dispa-SET_Unleash/RawData/Load_RealTime/HU/15min\n",
      "Deleted folder due to missing values: /home/ray/Dispa-SET_Unleash/RawData/Load_RealTime/HU/30min\n",
      "Deleted folder due to missing values: /home/ray/Dispa-SET_Unleash/RawData/Load_RealTime/IE/1h\n",
      "Deleted folder due to missing values: /home/ray/Dispa-SET_Unleash/RawData/Load_RealTime/IE/15min\n",
      "Deleted folder due to missing values: /home/ray/Dispa-SET_Unleash/RawData/Load_RealTime/IE/30min\n",
      "No missing values in file: /home/ray/Dispa-SET_Unleash/RawData/Load_RealTime/IT/1h/2023.csv\n",
      "Deleted folder due to missing values: /home/ray/Dispa-SET_Unleash/RawData/Load_RealTime/IT/15min\n",
      "Deleted folder due to missing values: /home/ray/Dispa-SET_Unleash/RawData/Load_RealTime/IT/30min\n",
      "Deleted folder due to missing values: /home/ray/Dispa-SET_Unleash/RawData/Load_RealTime/LT/1h\n",
      "Deleted folder due to missing values: /home/ray/Dispa-SET_Unleash/RawData/Load_RealTime/LT/15min\n",
      "Deleted folder due to missing values: /home/ray/Dispa-SET_Unleash/RawData/Load_RealTime/LT/30min\n",
      "No missing values in file: /home/ray/Dispa-SET_Unleash/RawData/Load_RealTime/LU/1h/2023.csv\n",
      "No missing values in file: /home/ray/Dispa-SET_Unleash/RawData/Load_RealTime/LU/15min/2023.csv\n",
      "No missing values in file: /home/ray/Dispa-SET_Unleash/RawData/Load_RealTime/LU/30min/2023.csv\n",
      "Deleted folder due to missing values: /home/ray/Dispa-SET_Unleash/RawData/Load_RealTime/LV/1h\n",
      "Deleted folder due to missing values: /home/ray/Dispa-SET_Unleash/RawData/Load_RealTime/LV/15min\n",
      "Deleted folder due to missing values: /home/ray/Dispa-SET_Unleash/RawData/Load_RealTime/LV/30min\n",
      "Deleted folder due to missing values: /home/ray/Dispa-SET_Unleash/RawData/Load_RealTime/MT/1h\n",
      "Deleted folder due to missing values: /home/ray/Dispa-SET_Unleash/RawData/Load_RealTime/MT/15min\n",
      "Deleted folder due to missing values: /home/ray/Dispa-SET_Unleash/RawData/Load_RealTime/MT/30min\n",
      "No missing values in file: /home/ray/Dispa-SET_Unleash/RawData/Load_RealTime/NL/1h/2023.csv\n",
      "No missing values in file: /home/ray/Dispa-SET_Unleash/RawData/Load_RealTime/NL/15min/2023.csv\n",
      "No missing values in file: /home/ray/Dispa-SET_Unleash/RawData/Load_RealTime/NL/30min/2023.csv\n",
      "No missing values in file: /home/ray/Dispa-SET_Unleash/RawData/Load_RealTime/NO/1h/2023.csv\n",
      "Deleted folder due to missing values: /home/ray/Dispa-SET_Unleash/RawData/Load_RealTime/NO/15min\n",
      "Deleted folder due to missing values: /home/ray/Dispa-SET_Unleash/RawData/Load_RealTime/NO/30min\n",
      "No missing values in file: /home/ray/Dispa-SET_Unleash/RawData/Load_RealTime/PL/1h/2023.csv\n",
      "Deleted folder due to missing values: /home/ray/Dispa-SET_Unleash/RawData/Load_RealTime/PL/15min\n",
      "Deleted folder due to missing values: /home/ray/Dispa-SET_Unleash/RawData/Load_RealTime/PL/30min\n",
      "Deleted folder due to missing values: /home/ray/Dispa-SET_Unleash/RawData/Load_RealTime/PT/1h\n",
      "Deleted folder due to missing values: /home/ray/Dispa-SET_Unleash/RawData/Load_RealTime/PT/15min\n",
      "Deleted folder due to missing values: /home/ray/Dispa-SET_Unleash/RawData/Load_RealTime/PT/30min\n",
      "No missing values in file: /home/ray/Dispa-SET_Unleash/RawData/Load_RealTime/RO/1h/2023.csv\n",
      "Deleted folder due to missing values: /home/ray/Dispa-SET_Unleash/RawData/Load_RealTime/RO/15min\n",
      "Deleted folder due to missing values: /home/ray/Dispa-SET_Unleash/RawData/Load_RealTime/RO/30min\n",
      "No missing values in file: /home/ray/Dispa-SET_Unleash/RawData/Load_RealTime/SE/1h/2023.csv\n",
      "Deleted folder due to missing values: /home/ray/Dispa-SET_Unleash/RawData/Load_RealTime/SE/15min\n",
      "Deleted folder due to missing values: /home/ray/Dispa-SET_Unleash/RawData/Load_RealTime/SE/30min\n",
      "Deleted folder due to missing values: /home/ray/Dispa-SET_Unleash/RawData/Load_RealTime/SI/1h\n",
      "Deleted folder due to missing values: /home/ray/Dispa-SET_Unleash/RawData/Load_RealTime/SI/15min\n",
      "Deleted folder due to missing values: /home/ray/Dispa-SET_Unleash/RawData/Load_RealTime/SI/30min\n",
      "Deleted folder due to missing values: /home/ray/Dispa-SET_Unleash/RawData/Load_RealTime/SK/1h\n",
      "Deleted folder due to missing values: /home/ray/Dispa-SET_Unleash/RawData/Load_RealTime/SK/15min\n",
      "Deleted folder due to missing values: /home/ray/Dispa-SET_Unleash/RawData/Load_RealTime/SK/30min\n",
      "Deleted folder due to missing values: /home/ray/Dispa-SET_Unleash/RawData/Load_RealTime/UK/1h\n",
      "Deleted folder due to missing values: /home/ray/Dispa-SET_Unleash/RawData/Load_RealTime/UK/15min\n",
      "Deleted folder due to missing values: /home/ray/Dispa-SET_Unleash/RawData/Load_RealTime/UK/30min\n",
      "Processing complete. All specified folders have been checked and cleaned if necessary.\n"
     ]
    }
   ],
   "source": [
    "# Load the list of file paths from the specified CSV file\n",
    "country_list_df = pd.read_csv(load_data_country_list_file)\n",
    "\n",
    "# Folders to check within each directory\n",
    "time_intervals = ['1h', '15min', '30min']\n",
    "\n",
    "# Function to check for missing values and delete folders if necessary\n",
    "def check_and_delete(folder_path, data_year):\n",
    "    try:\n",
    "        # Construct the path to the CSV file within the folder\n",
    "        csv_file_path = os.path.join(folder_path, f'{data_year}.csv')\n",
    "        \n",
    "        if os.path.exists(csv_file_path):\n",
    "            # Read the CSV file\n",
    "            df = pd.read_csv(csv_file_path)\n",
    "\n",
    "            # Check if there are missing values in the second column\n",
    "            second_column = df.columns[1]  # Get the name of the second column\n",
    "            if df[second_column].isna().any():\n",
    "                # If there are missing values, delete the folder and its content\n",
    "                shutil.rmtree(folder_path)\n",
    "                print(f\"Deleted folder due to missing values: {folder_path}\")\n",
    "            else:\n",
    "                print(f\"No missing values in file: {csv_file_path}\")\n",
    "        else:\n",
    "            print(f\"CSV file not found: {csv_file_path}\")\n",
    "    except Exception as e:\n",
    "        print(f\"Error processing folder: {folder_path}. Error: {e}\")\n",
    "\n",
    "# Iterate over each path in the 'Load_DayAhead_File_Path' and 'Load_Realtime_File_Path' columns\n",
    "for path_column in ['Load_DayAhead_File_Path', 'Load_Realtime_File_Path']:\n",
    "    for file_path in country_list_df[path_column].dropna():  # Drop any NaN entries to avoid processing empty paths\n",
    "        directory = os.path.dirname(file_path)  # Get the directory of the file\n",
    "\n",
    "        for interval in time_intervals:\n",
    "            interval_folder_path = os.path.join(directory, interval)\n",
    "            if os.path.isdir(interval_folder_path):\n",
    "                check_and_delete(interval_folder_path, data_year)\n",
    "\n",
    "print(\"Processing complete. All specified folders have been checked and cleaned if necessary.\")"
   ]
  },
  {
   "cell_type": "markdown",
   "id": "2575bcdd-32e9-4609-97f0-bda70fb66977",
   "metadata": {},
   "source": [
    "<div style=\"text-align: justify; margin-left: 0.0em; font-weight: unbold; font-size: 14px; font-family: TimesNewRoman; color:skyblue\">\n",
    "Erasing all those unnecesary folders and unnecesary rows in the files.\n",
    "</div>"
   ]
  },
  {
   "cell_type": "code",
   "execution_count": 132,
   "id": "38d2af6f-e04e-4317-9143-168ec34c5a48",
   "metadata": {},
   "outputs": [
    {
     "name": "stdout",
     "output_type": "stream",
     "text": [
      "The minimum time step used in /home/ray/Dispa-SET_Unleash/RawData/Load_DayAhead/AT/2023.csv is: 900.0 seconds\n",
      "Kept folder: /home/ray/Dispa-SET_Unleash/RawData/Load_DayAhead/AT/1h\n",
      "Kept folder: /home/ray/Dispa-SET_Unleash/RawData/Load_DayAhead/AT/15min\n",
      "Kept folder: /home/ray/Dispa-SET_Unleash/RawData/Load_DayAhead/AT/30min\n",
      "The minimum time step used in /home/ray/Dispa-SET_Unleash/RawData/Load_DayAhead/BE/2023.csv is: 900.0 seconds\n",
      "Kept folder: /home/ray/Dispa-SET_Unleash/RawData/Load_DayAhead/BE/1h\n",
      "Kept folder: /home/ray/Dispa-SET_Unleash/RawData/Load_DayAhead/BE/15min\n",
      "Kept folder: /home/ray/Dispa-SET_Unleash/RawData/Load_DayAhead/BE/30min\n",
      "The minimum time step used in /home/ray/Dispa-SET_Unleash/RawData/Load_DayAhead/BG/2023.csv is: 3600.0 seconds\n",
      "Kept folder: /home/ray/Dispa-SET_Unleash/RawData/Load_DayAhead/BG/1h\n",
      "Kept folder: /home/ray/Dispa-SET_Unleash/RawData/Load_DayAhead/BG/15min\n",
      "Kept folder: /home/ray/Dispa-SET_Unleash/RawData/Load_DayAhead/BG/30min\n",
      "The minimum time step used in /home/ray/Dispa-SET_Unleash/RawData/Load_DayAhead/CH/2023.csv is: 3600.0 seconds\n",
      "Kept folder: /home/ray/Dispa-SET_Unleash/RawData/Load_DayAhead/CH/1h\n",
      "Kept folder: /home/ray/Dispa-SET_Unleash/RawData/Load_DayAhead/CH/15min\n",
      "Kept folder: /home/ray/Dispa-SET_Unleash/RawData/Load_DayAhead/CH/30min\n",
      "The minimum time step used in /home/ray/Dispa-SET_Unleash/RawData/Load_DayAhead/CY/2023.csv is: 900.0 seconds\n",
      "Kept folder: /home/ray/Dispa-SET_Unleash/RawData/Load_DayAhead/CY/1h\n",
      "Kept folder: /home/ray/Dispa-SET_Unleash/RawData/Load_DayAhead/CY/15min\n",
      "Kept folder: /home/ray/Dispa-SET_Unleash/RawData/Load_DayAhead/CY/30min\n",
      "The minimum time step used in /home/ray/Dispa-SET_Unleash/RawData/Load_DayAhead/CZ/2023.csv is: 3600.0 seconds\n",
      "Kept folder: /home/ray/Dispa-SET_Unleash/RawData/Load_DayAhead/CZ/1h\n",
      "Kept folder: /home/ray/Dispa-SET_Unleash/RawData/Load_DayAhead/CZ/15min\n",
      "Kept folder: /home/ray/Dispa-SET_Unleash/RawData/Load_DayAhead/CZ/30min\n",
      "The minimum time step used in /home/ray/Dispa-SET_Unleash/RawData/Load_DayAhead/DE/2023.csv is: 900.0 seconds\n",
      "Kept folder: /home/ray/Dispa-SET_Unleash/RawData/Load_DayAhead/DE/1h\n",
      "Kept folder: /home/ray/Dispa-SET_Unleash/RawData/Load_DayAhead/DE/15min\n",
      "Kept folder: /home/ray/Dispa-SET_Unleash/RawData/Load_DayAhead/DE/30min\n",
      "The minimum time step used in /home/ray/Dispa-SET_Unleash/RawData/Load_DayAhead/DK/2023.csv is: 3600.0 seconds\n",
      "Kept folder: /home/ray/Dispa-SET_Unleash/RawData/Load_DayAhead/DK/1h\n",
      "Kept folder: /home/ray/Dispa-SET_Unleash/RawData/Load_DayAhead/DK/15min\n",
      "Kept folder: /home/ray/Dispa-SET_Unleash/RawData/Load_DayAhead/DK/30min\n",
      "The minimum time step used in /home/ray/Dispa-SET_Unleash/RawData/Load_DayAhead/EE/2023.csv is: 3600.0 seconds\n",
      "Kept folder: /home/ray/Dispa-SET_Unleash/RawData/Load_DayAhead/EE/1h\n",
      "Kept folder: /home/ray/Dispa-SET_Unleash/RawData/Load_DayAhead/EE/15min\n",
      "Kept folder: /home/ray/Dispa-SET_Unleash/RawData/Load_DayAhead/EE/30min\n",
      "The minimum time step used in /home/ray/Dispa-SET_Unleash/RawData/Load_DayAhead/EL/2023.csv is: 3600.0 seconds\n",
      "Kept folder: /home/ray/Dispa-SET_Unleash/RawData/Load_DayAhead/EL/1h\n",
      "Kept folder: /home/ray/Dispa-SET_Unleash/RawData/Load_DayAhead/EL/15min\n",
      "Kept folder: /home/ray/Dispa-SET_Unleash/RawData/Load_DayAhead/EL/30min\n",
      "The minimum time step used in /home/ray/Dispa-SET_Unleash/RawData/Load_DayAhead/ES/2023.csv is: 900.0 seconds\n",
      "Kept folder: /home/ray/Dispa-SET_Unleash/RawData/Load_DayAhead/ES/1h\n",
      "Kept folder: /home/ray/Dispa-SET_Unleash/RawData/Load_DayAhead/ES/15min\n",
      "Kept folder: /home/ray/Dispa-SET_Unleash/RawData/Load_DayAhead/ES/30min\n",
      "The minimum time step used in /home/ray/Dispa-SET_Unleash/RawData/Load_DayAhead/FI/2023.csv is: 900.0 seconds\n",
      "Kept folder: /home/ray/Dispa-SET_Unleash/RawData/Load_DayAhead/FI/1h\n",
      "Kept folder: /home/ray/Dispa-SET_Unleash/RawData/Load_DayAhead/FI/15min\n",
      "Kept folder: /home/ray/Dispa-SET_Unleash/RawData/Load_DayAhead/FI/30min\n",
      "The minimum time step used in /home/ray/Dispa-SET_Unleash/RawData/Load_DayAhead/FR/2023.csv is: 3600.0 seconds\n",
      "Kept folder: /home/ray/Dispa-SET_Unleash/RawData/Load_DayAhead/FR/1h\n",
      "Kept folder: /home/ray/Dispa-SET_Unleash/RawData/Load_DayAhead/FR/15min\n",
      "Kept folder: /home/ray/Dispa-SET_Unleash/RawData/Load_DayAhead/FR/30min\n",
      "The minimum time step used in /home/ray/Dispa-SET_Unleash/RawData/Load_DayAhead/HR/2023.csv is: 900.0 seconds\n",
      "Kept folder: /home/ray/Dispa-SET_Unleash/RawData/Load_DayAhead/HR/1h\n",
      "Kept folder: /home/ray/Dispa-SET_Unleash/RawData/Load_DayAhead/HR/15min\n",
      "Kept folder: /home/ray/Dispa-SET_Unleash/RawData/Load_DayAhead/HR/30min\n",
      "The minimum time step used in /home/ray/Dispa-SET_Unleash/RawData/Load_DayAhead/HU/2023.csv is: 900.0 seconds\n",
      "Kept folder: /home/ray/Dispa-SET_Unleash/RawData/Load_DayAhead/HU/1h\n",
      "Kept folder: /home/ray/Dispa-SET_Unleash/RawData/Load_DayAhead/HU/15min\n",
      "Kept folder: /home/ray/Dispa-SET_Unleash/RawData/Load_DayAhead/HU/30min\n",
      "The minimum time step used in /home/ray/Dispa-SET_Unleash/RawData/Load_DayAhead/IE/2023.csv is: 1800.0 seconds\n",
      "Kept folder: /home/ray/Dispa-SET_Unleash/RawData/Load_DayAhead/IE/1h\n",
      "Kept folder: /home/ray/Dispa-SET_Unleash/RawData/Load_DayAhead/IE/15min\n",
      "Kept folder: /home/ray/Dispa-SET_Unleash/RawData/Load_DayAhead/IE/30min\n",
      "The minimum time step used in /home/ray/Dispa-SET_Unleash/RawData/Load_DayAhead/IT/2023.csv is: 3600.0 seconds\n",
      "Kept folder: /home/ray/Dispa-SET_Unleash/RawData/Load_DayAhead/IT/1h\n",
      "Kept folder: /home/ray/Dispa-SET_Unleash/RawData/Load_DayAhead/IT/15min\n",
      "Kept folder: /home/ray/Dispa-SET_Unleash/RawData/Load_DayAhead/IT/30min\n",
      "The minimum time step used in /home/ray/Dispa-SET_Unleash/RawData/Load_DayAhead/LT/2023.csv is: 3600.0 seconds\n",
      "Kept folder: /home/ray/Dispa-SET_Unleash/RawData/Load_DayAhead/LT/1h\n",
      "Kept folder: /home/ray/Dispa-SET_Unleash/RawData/Load_DayAhead/LT/15min\n",
      "Kept folder: /home/ray/Dispa-SET_Unleash/RawData/Load_DayAhead/LT/30min\n",
      "The minimum time step used in /home/ray/Dispa-SET_Unleash/RawData/Load_DayAhead/LU/2023.csv is: 900.0 seconds\n",
      "Kept folder: /home/ray/Dispa-SET_Unleash/RawData/Load_DayAhead/LU/1h\n",
      "Kept folder: /home/ray/Dispa-SET_Unleash/RawData/Load_DayAhead/LU/15min\n",
      "Kept folder: /home/ray/Dispa-SET_Unleash/RawData/Load_DayAhead/LU/30min\n",
      "The minimum time step used in /home/ray/Dispa-SET_Unleash/RawData/Load_DayAhead/LV/2023.csv is: 3600.0 seconds\n",
      "Kept folder: /home/ray/Dispa-SET_Unleash/RawData/Load_DayAhead/LV/1h\n",
      "Kept folder: /home/ray/Dispa-SET_Unleash/RawData/Load_DayAhead/LV/15min\n",
      "Kept folder: /home/ray/Dispa-SET_Unleash/RawData/Load_DayAhead/LV/30min\n",
      "The minimum time step used in /home/ray/Dispa-SET_Unleash/RawData/Load_DayAhead/MT/2023.csv is: 900.0 seconds\n",
      "Kept folder: /home/ray/Dispa-SET_Unleash/RawData/Load_DayAhead/MT/1h\n",
      "Kept folder: /home/ray/Dispa-SET_Unleash/RawData/Load_DayAhead/MT/15min\n",
      "Kept folder: /home/ray/Dispa-SET_Unleash/RawData/Load_DayAhead/MT/30min\n",
      "The minimum time step used in /home/ray/Dispa-SET_Unleash/RawData/Load_DayAhead/NL/2023.csv is: 900.0 seconds\n",
      "Kept folder: /home/ray/Dispa-SET_Unleash/RawData/Load_DayAhead/NL/1h\n",
      "Kept folder: /home/ray/Dispa-SET_Unleash/RawData/Load_DayAhead/NL/15min\n",
      "Kept folder: /home/ray/Dispa-SET_Unleash/RawData/Load_DayAhead/NL/30min\n",
      "The minimum time step used in /home/ray/Dispa-SET_Unleash/RawData/Load_DayAhead/NO/2023.csv is: 3600.0 seconds\n",
      "Kept folder: /home/ray/Dispa-SET_Unleash/RawData/Load_DayAhead/NO/1h\n",
      "Kept folder: /home/ray/Dispa-SET_Unleash/RawData/Load_DayAhead/NO/15min\n",
      "Kept folder: /home/ray/Dispa-SET_Unleash/RawData/Load_DayAhead/NO/30min\n",
      "The minimum time step used in /home/ray/Dispa-SET_Unleash/RawData/Load_DayAhead/PL/2023.csv is: 3600.0 seconds\n",
      "Kept folder: /home/ray/Dispa-SET_Unleash/RawData/Load_DayAhead/PL/1h\n",
      "Kept folder: /home/ray/Dispa-SET_Unleash/RawData/Load_DayAhead/PL/15min\n",
      "Kept folder: /home/ray/Dispa-SET_Unleash/RawData/Load_DayAhead/PL/30min\n",
      "The minimum time step used in /home/ray/Dispa-SET_Unleash/RawData/Load_DayAhead/PT/2023.csv is: 3600.0 seconds\n",
      "Kept folder: /home/ray/Dispa-SET_Unleash/RawData/Load_DayAhead/PT/1h\n",
      "Kept folder: /home/ray/Dispa-SET_Unleash/RawData/Load_DayAhead/PT/15min\n",
      "Kept folder: /home/ray/Dispa-SET_Unleash/RawData/Load_DayAhead/PT/30min\n",
      "The minimum time step used in /home/ray/Dispa-SET_Unleash/RawData/Load_DayAhead/RO/2023.csv is: 900.0 seconds\n",
      "Kept folder: /home/ray/Dispa-SET_Unleash/RawData/Load_DayAhead/RO/1h\n",
      "Kept folder: /home/ray/Dispa-SET_Unleash/RawData/Load_DayAhead/RO/15min\n",
      "Kept folder: /home/ray/Dispa-SET_Unleash/RawData/Load_DayAhead/RO/30min\n",
      "The minimum time step used in /home/ray/Dispa-SET_Unleash/RawData/Load_DayAhead/SE/2023.csv is: 3600.0 seconds\n",
      "Kept folder: /home/ray/Dispa-SET_Unleash/RawData/Load_DayAhead/SE/1h\n",
      "Kept folder: /home/ray/Dispa-SET_Unleash/RawData/Load_DayAhead/SE/15min\n",
      "Kept folder: /home/ray/Dispa-SET_Unleash/RawData/Load_DayAhead/SE/30min\n",
      "The minimum time step used in /home/ray/Dispa-SET_Unleash/RawData/Load_DayAhead/SI/2023.csv is: 3600.0 seconds\n",
      "Kept folder: /home/ray/Dispa-SET_Unleash/RawData/Load_DayAhead/SI/1h\n",
      "Kept folder: /home/ray/Dispa-SET_Unleash/RawData/Load_DayAhead/SI/15min\n",
      "Kept folder: /home/ray/Dispa-SET_Unleash/RawData/Load_DayAhead/SI/30min\n",
      "The minimum time step used in /home/ray/Dispa-SET_Unleash/RawData/Load_DayAhead/SK/2023.csv is: 3600.0 seconds\n",
      "Kept folder: /home/ray/Dispa-SET_Unleash/RawData/Load_DayAhead/SK/1h\n",
      "Kept folder: /home/ray/Dispa-SET_Unleash/RawData/Load_DayAhead/SK/15min\n",
      "Kept folder: /home/ray/Dispa-SET_Unleash/RawData/Load_DayAhead/SK/30min\n",
      "The minimum time step used in /home/ray/Dispa-SET_Unleash/RawData/Load_DayAhead/UK/2023.csv is: 1800.0 seconds\n",
      "Kept folder: /home/ray/Dispa-SET_Unleash/RawData/Load_DayAhead/UK/1h\n",
      "Kept folder: /home/ray/Dispa-SET_Unleash/RawData/Load_DayAhead/UK/15min\n",
      "Kept folder: /home/ray/Dispa-SET_Unleash/RawData/Load_DayAhead/UK/30min\n",
      "The minimum time step used in /home/ray/Dispa-SET_Unleash/RawData/Load_RealTime/AT/2023.csv is: 900.0 seconds\n",
      "Kept folder: /home/ray/Dispa-SET_Unleash/RawData/Load_RealTime/AT/1h\n",
      "Kept folder: /home/ray/Dispa-SET_Unleash/RawData/Load_RealTime/AT/15min\n",
      "Kept folder: /home/ray/Dispa-SET_Unleash/RawData/Load_RealTime/AT/30min\n",
      "The minimum time step used in /home/ray/Dispa-SET_Unleash/RawData/Load_RealTime/BE/2023.csv is: 900.0 seconds\n",
      "Kept folder: /home/ray/Dispa-SET_Unleash/RawData/Load_RealTime/BE/1h\n",
      "Kept folder: /home/ray/Dispa-SET_Unleash/RawData/Load_RealTime/BE/15min\n",
      "Kept folder: /home/ray/Dispa-SET_Unleash/RawData/Load_RealTime/BE/30min\n",
      "The minimum time step used in /home/ray/Dispa-SET_Unleash/RawData/Load_RealTime/BG/2023.csv is: 3600.0 seconds\n",
      "Kept folder: /home/ray/Dispa-SET_Unleash/RawData/Load_RealTime/BG/1h\n",
      "Kept folder: /home/ray/Dispa-SET_Unleash/RawData/Load_RealTime/BG/15min\n",
      "Kept folder: /home/ray/Dispa-SET_Unleash/RawData/Load_RealTime/BG/30min\n",
      "The minimum time step used in /home/ray/Dispa-SET_Unleash/RawData/Load_RealTime/CH/2023.csv is: 3600.0 seconds\n",
      "Kept folder: /home/ray/Dispa-SET_Unleash/RawData/Load_RealTime/CH/1h\n",
      "Kept folder: /home/ray/Dispa-SET_Unleash/RawData/Load_RealTime/CH/15min\n",
      "Kept folder: /home/ray/Dispa-SET_Unleash/RawData/Load_RealTime/CH/30min\n",
      "The minimum time step used in /home/ray/Dispa-SET_Unleash/RawData/Load_RealTime/CY/2023.csv is: 900.0 seconds\n",
      "Kept folder: /home/ray/Dispa-SET_Unleash/RawData/Load_RealTime/CY/1h\n",
      "Kept folder: /home/ray/Dispa-SET_Unleash/RawData/Load_RealTime/CY/15min\n",
      "Kept folder: /home/ray/Dispa-SET_Unleash/RawData/Load_RealTime/CY/30min\n",
      "The minimum time step used in /home/ray/Dispa-SET_Unleash/RawData/Load_RealTime/CZ/2023.csv is: 3600.0 seconds\n",
      "Kept folder: /home/ray/Dispa-SET_Unleash/RawData/Load_RealTime/CZ/1h\n",
      "Kept folder: /home/ray/Dispa-SET_Unleash/RawData/Load_RealTime/CZ/15min\n",
      "Kept folder: /home/ray/Dispa-SET_Unleash/RawData/Load_RealTime/CZ/30min\n",
      "The minimum time step used in /home/ray/Dispa-SET_Unleash/RawData/Load_RealTime/DE/2023.csv is: 900.0 seconds\n",
      "Kept folder: /home/ray/Dispa-SET_Unleash/RawData/Load_RealTime/DE/1h\n",
      "Kept folder: /home/ray/Dispa-SET_Unleash/RawData/Load_RealTime/DE/15min\n",
      "Kept folder: /home/ray/Dispa-SET_Unleash/RawData/Load_RealTime/DE/30min\n",
      "The minimum time step used in /home/ray/Dispa-SET_Unleash/RawData/Load_RealTime/DK/2023.csv is: 3600.0 seconds\n",
      "Kept folder: /home/ray/Dispa-SET_Unleash/RawData/Load_RealTime/DK/1h\n",
      "Kept folder: /home/ray/Dispa-SET_Unleash/RawData/Load_RealTime/DK/15min\n",
      "Kept folder: /home/ray/Dispa-SET_Unleash/RawData/Load_RealTime/DK/30min\n",
      "The minimum time step used in /home/ray/Dispa-SET_Unleash/RawData/Load_RealTime/EE/2023.csv is: 3600.0 seconds\n",
      "Kept folder: /home/ray/Dispa-SET_Unleash/RawData/Load_RealTime/EE/1h\n",
      "Kept folder: /home/ray/Dispa-SET_Unleash/RawData/Load_RealTime/EE/15min\n",
      "Kept folder: /home/ray/Dispa-SET_Unleash/RawData/Load_RealTime/EE/30min\n",
      "The minimum time step used in /home/ray/Dispa-SET_Unleash/RawData/Load_RealTime/EL/2023.csv is: 3600.0 seconds\n",
      "Kept folder: /home/ray/Dispa-SET_Unleash/RawData/Load_RealTime/EL/1h\n",
      "Kept folder: /home/ray/Dispa-SET_Unleash/RawData/Load_RealTime/EL/15min\n",
      "Kept folder: /home/ray/Dispa-SET_Unleash/RawData/Load_RealTime/EL/30min\n",
      "The minimum time step used in /home/ray/Dispa-SET_Unleash/RawData/Load_RealTime/ES/2023.csv is: 900.0 seconds\n",
      "Kept folder: /home/ray/Dispa-SET_Unleash/RawData/Load_RealTime/ES/1h\n",
      "Kept folder: /home/ray/Dispa-SET_Unleash/RawData/Load_RealTime/ES/15min\n",
      "Kept folder: /home/ray/Dispa-SET_Unleash/RawData/Load_RealTime/ES/30min\n",
      "The minimum time step used in /home/ray/Dispa-SET_Unleash/RawData/Load_RealTime/FI/2023.csv is: 900.0 seconds\n",
      "Kept folder: /home/ray/Dispa-SET_Unleash/RawData/Load_RealTime/FI/1h\n",
      "Kept folder: /home/ray/Dispa-SET_Unleash/RawData/Load_RealTime/FI/15min\n",
      "Kept folder: /home/ray/Dispa-SET_Unleash/RawData/Load_RealTime/FI/30min\n",
      "The minimum time step used in /home/ray/Dispa-SET_Unleash/RawData/Load_RealTime/FR/2023.csv is: 3600.0 seconds\n",
      "Kept folder: /home/ray/Dispa-SET_Unleash/RawData/Load_RealTime/FR/1h\n",
      "Kept folder: /home/ray/Dispa-SET_Unleash/RawData/Load_RealTime/FR/15min\n",
      "Kept folder: /home/ray/Dispa-SET_Unleash/RawData/Load_RealTime/FR/30min\n",
      "The minimum time step used in /home/ray/Dispa-SET_Unleash/RawData/Load_RealTime/HR/2023.csv is: 900.0 seconds\n",
      "Kept folder: /home/ray/Dispa-SET_Unleash/RawData/Load_RealTime/HR/1h\n",
      "Kept folder: /home/ray/Dispa-SET_Unleash/RawData/Load_RealTime/HR/15min\n",
      "Kept folder: /home/ray/Dispa-SET_Unleash/RawData/Load_RealTime/HR/30min\n",
      "The minimum time step used in /home/ray/Dispa-SET_Unleash/RawData/Load_RealTime/HU/2023.csv is: 900.0 seconds\n",
      "Kept folder: /home/ray/Dispa-SET_Unleash/RawData/Load_RealTime/HU/1h\n",
      "Kept folder: /home/ray/Dispa-SET_Unleash/RawData/Load_RealTime/HU/15min\n",
      "Kept folder: /home/ray/Dispa-SET_Unleash/RawData/Load_RealTime/HU/30min\n",
      "The minimum time step used in /home/ray/Dispa-SET_Unleash/RawData/Load_RealTime/IE/2023.csv is: 1800.0 seconds\n",
      "Kept folder: /home/ray/Dispa-SET_Unleash/RawData/Load_RealTime/IE/1h\n",
      "Kept folder: /home/ray/Dispa-SET_Unleash/RawData/Load_RealTime/IE/15min\n",
      "Kept folder: /home/ray/Dispa-SET_Unleash/RawData/Load_RealTime/IE/30min\n",
      "The minimum time step used in /home/ray/Dispa-SET_Unleash/RawData/Load_RealTime/IT/2023.csv is: 3600.0 seconds\n",
      "Kept folder: /home/ray/Dispa-SET_Unleash/RawData/Load_RealTime/IT/1h\n",
      "Kept folder: /home/ray/Dispa-SET_Unleash/RawData/Load_RealTime/IT/15min\n",
      "Kept folder: /home/ray/Dispa-SET_Unleash/RawData/Load_RealTime/IT/30min\n",
      "The minimum time step used in /home/ray/Dispa-SET_Unleash/RawData/Load_RealTime/LT/2023.csv is: 3600.0 seconds\n",
      "Kept folder: /home/ray/Dispa-SET_Unleash/RawData/Load_RealTime/LT/1h\n",
      "Kept folder: /home/ray/Dispa-SET_Unleash/RawData/Load_RealTime/LT/15min\n",
      "Kept folder: /home/ray/Dispa-SET_Unleash/RawData/Load_RealTime/LT/30min\n",
      "The minimum time step used in /home/ray/Dispa-SET_Unleash/RawData/Load_RealTime/LU/2023.csv is: 900.0 seconds\n",
      "Kept folder: /home/ray/Dispa-SET_Unleash/RawData/Load_RealTime/LU/1h\n",
      "Kept folder: /home/ray/Dispa-SET_Unleash/RawData/Load_RealTime/LU/15min\n",
      "Kept folder: /home/ray/Dispa-SET_Unleash/RawData/Load_RealTime/LU/30min\n",
      "The minimum time step used in /home/ray/Dispa-SET_Unleash/RawData/Load_RealTime/LV/2023.csv is: 3600.0 seconds\n",
      "Kept folder: /home/ray/Dispa-SET_Unleash/RawData/Load_RealTime/LV/1h\n",
      "Kept folder: /home/ray/Dispa-SET_Unleash/RawData/Load_RealTime/LV/15min\n",
      "Kept folder: /home/ray/Dispa-SET_Unleash/RawData/Load_RealTime/LV/30min\n",
      "The minimum time step used in /home/ray/Dispa-SET_Unleash/RawData/Load_RealTime/MT/2023.csv is: 900.0 seconds\n",
      "Kept folder: /home/ray/Dispa-SET_Unleash/RawData/Load_RealTime/MT/1h\n",
      "Kept folder: /home/ray/Dispa-SET_Unleash/RawData/Load_RealTime/MT/15min\n",
      "Kept folder: /home/ray/Dispa-SET_Unleash/RawData/Load_RealTime/MT/30min\n",
      "The minimum time step used in /home/ray/Dispa-SET_Unleash/RawData/Load_RealTime/NL/2023.csv is: 900.0 seconds\n",
      "Kept folder: /home/ray/Dispa-SET_Unleash/RawData/Load_RealTime/NL/1h\n",
      "Kept folder: /home/ray/Dispa-SET_Unleash/RawData/Load_RealTime/NL/15min\n",
      "Kept folder: /home/ray/Dispa-SET_Unleash/RawData/Load_RealTime/NL/30min\n",
      "The minimum time step used in /home/ray/Dispa-SET_Unleash/RawData/Load_RealTime/NO/2023.csv is: 3600.0 seconds\n",
      "Kept folder: /home/ray/Dispa-SET_Unleash/RawData/Load_RealTime/NO/1h\n",
      "Kept folder: /home/ray/Dispa-SET_Unleash/RawData/Load_RealTime/NO/15min\n",
      "Kept folder: /home/ray/Dispa-SET_Unleash/RawData/Load_RealTime/NO/30min\n",
      "The minimum time step used in /home/ray/Dispa-SET_Unleash/RawData/Load_RealTime/PL/2023.csv is: 3600.0 seconds\n",
      "Kept folder: /home/ray/Dispa-SET_Unleash/RawData/Load_RealTime/PL/1h\n",
      "Kept folder: /home/ray/Dispa-SET_Unleash/RawData/Load_RealTime/PL/15min\n",
      "Kept folder: /home/ray/Dispa-SET_Unleash/RawData/Load_RealTime/PL/30min\n",
      "The minimum time step used in /home/ray/Dispa-SET_Unleash/RawData/Load_RealTime/PT/2023.csv is: 3600.0 seconds\n",
      "Kept folder: /home/ray/Dispa-SET_Unleash/RawData/Load_RealTime/PT/1h\n",
      "Kept folder: /home/ray/Dispa-SET_Unleash/RawData/Load_RealTime/PT/15min\n",
      "Kept folder: /home/ray/Dispa-SET_Unleash/RawData/Load_RealTime/PT/30min\n",
      "The minimum time step used in /home/ray/Dispa-SET_Unleash/RawData/Load_RealTime/RO/2023.csv is: 900.0 seconds\n",
      "Kept folder: /home/ray/Dispa-SET_Unleash/RawData/Load_RealTime/RO/1h\n",
      "Kept folder: /home/ray/Dispa-SET_Unleash/RawData/Load_RealTime/RO/15min\n",
      "Kept folder: /home/ray/Dispa-SET_Unleash/RawData/Load_RealTime/RO/30min\n",
      "The minimum time step used in /home/ray/Dispa-SET_Unleash/RawData/Load_RealTime/SE/2023.csv is: 3600.0 seconds\n",
      "Kept folder: /home/ray/Dispa-SET_Unleash/RawData/Load_RealTime/SE/1h\n",
      "Kept folder: /home/ray/Dispa-SET_Unleash/RawData/Load_RealTime/SE/15min\n",
      "Kept folder: /home/ray/Dispa-SET_Unleash/RawData/Load_RealTime/SE/30min\n",
      "The minimum time step used in /home/ray/Dispa-SET_Unleash/RawData/Load_RealTime/SI/2023.csv is: 3600.0 seconds\n",
      "Kept folder: /home/ray/Dispa-SET_Unleash/RawData/Load_RealTime/SI/1h\n",
      "Kept folder: /home/ray/Dispa-SET_Unleash/RawData/Load_RealTime/SI/15min\n",
      "Kept folder: /home/ray/Dispa-SET_Unleash/RawData/Load_RealTime/SI/30min\n",
      "The minimum time step used in /home/ray/Dispa-SET_Unleash/RawData/Load_RealTime/SK/2023.csv is: 3600.0 seconds\n",
      "Kept folder: /home/ray/Dispa-SET_Unleash/RawData/Load_RealTime/SK/1h\n",
      "Kept folder: /home/ray/Dispa-SET_Unleash/RawData/Load_RealTime/SK/15min\n",
      "Kept folder: /home/ray/Dispa-SET_Unleash/RawData/Load_RealTime/SK/30min\n",
      "The minimum time step used in /home/ray/Dispa-SET_Unleash/RawData/Load_RealTime/UK/2023.csv is: 1800.0 seconds\n",
      "Kept folder: /home/ray/Dispa-SET_Unleash/RawData/Load_RealTime/UK/1h\n",
      "Kept folder: /home/ray/Dispa-SET_Unleash/RawData/Load_RealTime/UK/15min\n",
      "Kept folder: /home/ray/Dispa-SET_Unleash/RawData/Load_RealTime/UK/30min\n",
      "Processing complete. All specified folders have been checked and cleaned if necessary.\n"
     ]
    }
   ],
   "source": [
    "# Time intervals in seconds\n",
    "time_intervals = {\n",
    "    '1h': 3600,\n",
    "    '15min': 900,\n",
    "    '30min': 1800\n",
    "}\n",
    "\n",
    "# Function to identify the minimum time step in the 'index' column\n",
    "def identify_time_step(csv_file_path):\n",
    "    df = pd.read_csv(csv_file_path)\n",
    "\n",
    "    if 'index' not in df.columns:\n",
    "        raise ValueError(f\"'index' column not found in the file: {csv_file_path}\")\n",
    "    \n",
    "    # Convert 'index' column to datetime\n",
    "    df['index'] = pd.to_datetime(df['index'])\n",
    "    \n",
    "    # Calculate the differences between consecutive timestamps in seconds\n",
    "    time_deltas = df['index'].diff().dropna().dt.total_seconds()\n",
    "    \n",
    "    # Identify the minimum time step used\n",
    "    min_time_step = time_deltas.min()\n",
    "    print(f\"The minimum time step used in {csv_file_path} is: {min_time_step} seconds\")\n",
    "    return min_time_step\n",
    "\n",
    "# Function to delete folders with smaller time steps\n",
    "def delete_smaller_time_step_folders(base_directory, identified_time_step):\n",
    "    for interval_name, interval_seconds in time_intervals.items():\n",
    "        interval_folder_path = os.path.join(base_directory, interval_name)\n",
    "        if os.path.isdir(interval_folder_path) and interval_seconds < identified_time_step:\n",
    "            shutil.rmtree(interval_folder_path)\n",
    "            print(f\"Deleted folder: {interval_folder_path}\")\n",
    "        else:\n",
    "            print(f\"Kept folder: {interval_folder_path}\")\n",
    "\n",
    "# Load the list of file paths from the specified CSV file\n",
    "country_list_df = pd.read_csv(load_data_country_list_file)\n",
    "\n",
    "# Iterate over each path in the 'Load_DayAhead_File_Path' and 'Load_Realtime_File_Path' columns\n",
    "for path_column in ['Load_DayAhead_File_Path', 'Load_Realtime_File_Path']:\n",
    "    for file_path in country_list_df[path_column].dropna():  # Drop any NaN entries to avoid processing empty paths\n",
    "        directory = os.path.dirname(file_path)  # Get the directory of the file\n",
    "        \n",
    "        # Construct the path to the CSV file named as the data_year\n",
    "        year_csv_path = os.path.join(directory, f'{data_year}.csv')\n",
    "        \n",
    "        if os.path.exists(year_csv_path):\n",
    "            identified_time_step = identify_time_step(year_csv_path)\n",
    "            delete_smaller_time_step_folders(directory, identified_time_step)\n",
    "        else:\n",
    "            print(f\"CSV file for the year {data_year} not found: {year_csv_path}\")\n",
    "\n",
    "print(\"Processing complete. All specified folders have been checked and cleaned if necessary.\")"
   ]
  },
  {
   "cell_type": "code",
   "execution_count": 133,
   "id": "f0c680d5-512f-49cf-9876-27ccce98129a",
   "metadata": {},
   "outputs": [
    {
     "name": "stdout",
     "output_type": "stream",
     "text": [
      "Header removed from file: /home/ray/Dispa-SET_Unleash/RawData/Load_DayAhead/AT/1h/2023.csv\n",
      "Header removed from file: /home/ray/Dispa-SET_Unleash/RawData/Load_DayAhead/AT/15min/2023.csv\n",
      "Header removed from file: /home/ray/Dispa-SET_Unleash/RawData/Load_DayAhead/AT/30min/2023.csv\n",
      "Header removed from file: /home/ray/Dispa-SET_Unleash/RawData/Load_DayAhead/BE/1h/2023.csv\n",
      "Header removed from file: /home/ray/Dispa-SET_Unleash/RawData/Load_DayAhead/BE/15min/2023.csv\n",
      "Header removed from file: /home/ray/Dispa-SET_Unleash/RawData/Load_DayAhead/BE/30min/2023.csv\n",
      "Header removed from file: /home/ray/Dispa-SET_Unleash/RawData/Load_DayAhead/BG/1h/2023.csv\n",
      "Header removed from file: /home/ray/Dispa-SET_Unleash/RawData/Load_DayAhead/CH/1h/2023.csv\n",
      "Header removed from file: /home/ray/Dispa-SET_Unleash/RawData/Load_DayAhead/CZ/1h/2023.csv\n",
      "Header removed from file: /home/ray/Dispa-SET_Unleash/RawData/Load_DayAhead/DE/1h/2023.csv\n",
      "Header removed from file: /home/ray/Dispa-SET_Unleash/RawData/Load_DayAhead/DE/15min/2023.csv\n",
      "Header removed from file: /home/ray/Dispa-SET_Unleash/RawData/Load_DayAhead/DE/30min/2023.csv\n",
      "Header removed from file: /home/ray/Dispa-SET_Unleash/RawData/Load_DayAhead/DK/1h/2023.csv\n",
      "Header removed from file: /home/ray/Dispa-SET_Unleash/RawData/Load_DayAhead/EL/1h/2023.csv\n",
      "Header removed from file: /home/ray/Dispa-SET_Unleash/RawData/Load_DayAhead/ES/1h/2023.csv\n",
      "Header removed from file: /home/ray/Dispa-SET_Unleash/RawData/Load_DayAhead/ES/15min/2023.csv\n",
      "Header removed from file: /home/ray/Dispa-SET_Unleash/RawData/Load_DayAhead/ES/30min/2023.csv\n",
      "Header removed from file: /home/ray/Dispa-SET_Unleash/RawData/Load_DayAhead/FR/1h/2023.csv\n",
      "Header removed from file: /home/ray/Dispa-SET_Unleash/RawData/Load_DayAhead/HR/1h/2023.csv\n",
      "Header removed from file: /home/ray/Dispa-SET_Unleash/RawData/Load_DayAhead/HR/15min/2023.csv\n",
      "Header removed from file: /home/ray/Dispa-SET_Unleash/RawData/Load_DayAhead/HR/30min/2023.csv\n",
      "Header removed from file: /home/ray/Dispa-SET_Unleash/RawData/Load_DayAhead/HU/1h/2023.csv\n",
      "Header removed from file: /home/ray/Dispa-SET_Unleash/RawData/Load_DayAhead/HU/15min/2023.csv\n",
      "Header removed from file: /home/ray/Dispa-SET_Unleash/RawData/Load_DayAhead/HU/30min/2023.csv\n",
      "Header removed from file: /home/ray/Dispa-SET_Unleash/RawData/Load_DayAhead/IT/1h/2023.csv\n",
      "Header removed from file: /home/ray/Dispa-SET_Unleash/RawData/Load_DayAhead/LT/1h/2023.csv\n",
      "Header removed from file: /home/ray/Dispa-SET_Unleash/RawData/Load_DayAhead/LV/1h/2023.csv\n",
      "Header removed from file: /home/ray/Dispa-SET_Unleash/RawData/Load_DayAhead/NL/1h/2023.csv\n",
      "Header removed from file: /home/ray/Dispa-SET_Unleash/RawData/Load_DayAhead/NL/15min/2023.csv\n",
      "Header removed from file: /home/ray/Dispa-SET_Unleash/RawData/Load_DayAhead/NL/30min/2023.csv\n",
      "Header removed from file: /home/ray/Dispa-SET_Unleash/RawData/Load_DayAhead/NO/1h/2023.csv\n",
      "Header removed from file: /home/ray/Dispa-SET_Unleash/RawData/Load_DayAhead/PL/1h/2023.csv\n",
      "Header removed from file: /home/ray/Dispa-SET_Unleash/RawData/Load_DayAhead/PT/1h/2023.csv\n",
      "Header removed from file: /home/ray/Dispa-SET_Unleash/RawData/Load_DayAhead/RO/1h/2023.csv\n",
      "Header removed from file: /home/ray/Dispa-SET_Unleash/RawData/Load_DayAhead/RO/15min/2023.csv\n",
      "Header removed from file: /home/ray/Dispa-SET_Unleash/RawData/Load_DayAhead/RO/30min/2023.csv\n",
      "Header removed from file: /home/ray/Dispa-SET_Unleash/RawData/Load_DayAhead/SE/1h/2023.csv\n",
      "Header removed from file: /home/ray/Dispa-SET_Unleash/RawData/Load_DayAhead/SK/1h/2023.csv\n",
      "Header removed from file: /home/ray/Dispa-SET_Unleash/RawData/Load_RealTime/AT/1h/2023.csv\n",
      "Header removed from file: /home/ray/Dispa-SET_Unleash/RawData/Load_RealTime/AT/15min/2023.csv\n",
      "Header removed from file: /home/ray/Dispa-SET_Unleash/RawData/Load_RealTime/AT/30min/2023.csv\n",
      "Header removed from file: /home/ray/Dispa-SET_Unleash/RawData/Load_RealTime/BE/1h/2023.csv\n",
      "Header removed from file: /home/ray/Dispa-SET_Unleash/RawData/Load_RealTime/BE/15min/2023.csv\n",
      "Header removed from file: /home/ray/Dispa-SET_Unleash/RawData/Load_RealTime/BE/30min/2023.csv\n",
      "Header removed from file: /home/ray/Dispa-SET_Unleash/RawData/Load_RealTime/CH/1h/2023.csv\n",
      "Header removed from file: /home/ray/Dispa-SET_Unleash/RawData/Load_RealTime/DE/1h/2023.csv\n",
      "Header removed from file: /home/ray/Dispa-SET_Unleash/RawData/Load_RealTime/DE/15min/2023.csv\n",
      "Header removed from file: /home/ray/Dispa-SET_Unleash/RawData/Load_RealTime/DE/30min/2023.csv\n",
      "Header removed from file: /home/ray/Dispa-SET_Unleash/RawData/Load_RealTime/ES/1h/2023.csv\n",
      "Header removed from file: /home/ray/Dispa-SET_Unleash/RawData/Load_RealTime/ES/30min/2023.csv\n",
      "Header removed from file: /home/ray/Dispa-SET_Unleash/RawData/Load_RealTime/HR/1h/2023.csv\n",
      "Header removed from file: /home/ray/Dispa-SET_Unleash/RawData/Load_RealTime/HR/15min/2023.csv\n",
      "Header removed from file: /home/ray/Dispa-SET_Unleash/RawData/Load_RealTime/HR/30min/2023.csv\n",
      "Header removed from file: /home/ray/Dispa-SET_Unleash/RawData/Load_RealTime/IT/1h/2023.csv\n",
      "Header removed from file: /home/ray/Dispa-SET_Unleash/RawData/Load_RealTime/LU/1h/2023.csv\n",
      "Header removed from file: /home/ray/Dispa-SET_Unleash/RawData/Load_RealTime/LU/15min/2023.csv\n",
      "Header removed from file: /home/ray/Dispa-SET_Unleash/RawData/Load_RealTime/LU/30min/2023.csv\n",
      "Header removed from file: /home/ray/Dispa-SET_Unleash/RawData/Load_RealTime/NL/1h/2023.csv\n",
      "Header removed from file: /home/ray/Dispa-SET_Unleash/RawData/Load_RealTime/NL/15min/2023.csv\n",
      "Header removed from file: /home/ray/Dispa-SET_Unleash/RawData/Load_RealTime/NL/30min/2023.csv\n",
      "Header removed from file: /home/ray/Dispa-SET_Unleash/RawData/Load_RealTime/NO/1h/2023.csv\n",
      "Header removed from file: /home/ray/Dispa-SET_Unleash/RawData/Load_RealTime/PL/1h/2023.csv\n",
      "Header removed from file: /home/ray/Dispa-SET_Unleash/RawData/Load_RealTime/RO/1h/2023.csv\n",
      "Header removed from file: /home/ray/Dispa-SET_Unleash/RawData/Load_RealTime/SE/1h/2023.csv\n",
      "Processing complete. Headers removed where applicable.\n"
     ]
    }
   ],
   "source": [
    "# Load the list of file paths from the specified CSV file\n",
    "country_list_df = pd.read_csv(load_data_country_list_file)\n",
    "\n",
    "# Folders to check\n",
    "folders_to_check = ['1h', '15min', '30min']\n",
    "\n",
    "# Function to remove the first row (header) from a CSV file\n",
    "def remove_csv_header(file_path):\n",
    "    # Read the CSV file, skip the header, and save it back without the header\n",
    "    df = pd.read_csv(file_path, skiprows=1)  # Skip the header row\n",
    "    df.to_csv(file_path, index=False)  # Save without the original header\n",
    "    print(f\"Header removed from file: {file_path}\")\n",
    "\n",
    "# Iterate over each path in the 'Load_DayAhead_File_Path' and 'Load_Realtime_File_Path' columns\n",
    "for path_column in ['Load_DayAhead_File_Path', 'Load_Realtime_File_Path']:\n",
    "    for file_path in country_list_df[path_column].dropna():  # Drop any NaN entries to avoid processing empty paths\n",
    "        directory = os.path.dirname(file_path)  # Get the directory of the file\n",
    "        \n",
    "        # Check each of the specified folders ('1h', '15min', '30min')\n",
    "        for folder in folders_to_check:\n",
    "            folder_path = os.path.join(directory, folder)\n",
    "            \n",
    "            if os.path.exists(folder_path) and os.path.isdir(folder_path):\n",
    "                # Construct the path to the CSV file named as the data_year\n",
    "                year_csv_path = os.path.join(folder_path, f'{data_year}.csv')\n",
    "                \n",
    "                if os.path.exists(year_csv_path):\n",
    "                    remove_csv_header(year_csv_path)\n",
    "                else:\n",
    "                    print(f\"CSV file not found: {year_csv_path}\")\n",
    "\n",
    "print(\"Processing complete. Headers removed where applicable.\")\n"
   ]
  },
  {
   "cell_type": "markdown",
   "id": "a635513e-ee86-4c66-8df3-65c1e37a7797",
   "metadata": {},
   "source": [
    "<div style=\"text-align: justify; margin-left: 0.0em; font-weight: unbold; font-size: 14px; font-family: TimesNewRoman; color:skyblue\">\n",
    "Copying the time already formated Load Real Time and Day Ahead Load data to the main Dispa-SET data base dirtectory\n",
    "</div>"
   ]
  },
  {
   "cell_type": "code",
   "execution_count": 134,
   "id": "118d9e2f-718d-4bbd-ae71-6acf9243de4b",
   "metadata": {},
   "outputs": [],
   "source": [
    "additional_path_3 = \"/Database/Load_RealTime/\"\n",
    "additional_path_4 = \"/Database/Load_DayAhead/\"\n",
    "\n",
    "# Construct the power_plants_raw_data_folder_path variable\n",
    "load_realTime_data_base_folder_path = dispaSET_unleash_folder_path + additional_path_3\n",
    "load_dayAhead_data_base_folder_path = dispaSET_unleash_folder_path + additional_path_4"
   ]
  },
  {
   "cell_type": "code",
   "execution_count": 135,
   "id": "4aea9198-78ba-4a80-bb13-e2dc0c4c0a13",
   "metadata": {},
   "outputs": [
    {
     "name": "stdout",
     "output_type": "stream",
     "text": [
      "File /home/ray/Dispa-SET_Unleash/Database/Load_RealTime/AT/1h/2023.csv already exists. Skipping copy.\n",
      "File /home/ray/Dispa-SET_Unleash/Database/Load_RealTime/AT/30min/2023.csv already exists. Skipping copy.\n",
      "File /home/ray/Dispa-SET_Unleash/Database/Load_RealTime/AT/15min/2023.csv already exists. Skipping copy.\n",
      "File /home/ray/Dispa-SET_Unleash/Database/Load_RealTime/BE/1h/2023.csv already exists. Skipping copy.\n",
      "File /home/ray/Dispa-SET_Unleash/Database/Load_RealTime/BE/30min/2023.csv already exists. Skipping copy.\n",
      "File /home/ray/Dispa-SET_Unleash/Database/Load_RealTime/BE/15min/2023.csv already exists. Skipping copy.\n",
      "File /home/ray/Dispa-SET_Unleash/Database/Load_RealTime/CH/1h/2023.csv already exists. Skipping copy.\n",
      "File /home/ray/Dispa-SET_Unleash/Database/Load_RealTime/DE/1h/2023.csv already exists. Skipping copy.\n",
      "File /home/ray/Dispa-SET_Unleash/Database/Load_RealTime/DE/30min/2023.csv already exists. Skipping copy.\n",
      "File /home/ray/Dispa-SET_Unleash/Database/Load_RealTime/DE/15min/2023.csv already exists. Skipping copy.\n",
      "File /home/ray/Dispa-SET_Unleash/Database/Load_RealTime/ES/1h/2023.csv already exists. Skipping copy.\n",
      "File /home/ray/Dispa-SET_Unleash/Database/Load_RealTime/ES/30min/2023.csv already exists. Skipping copy.\n",
      "File /home/ray/Dispa-SET_Unleash/Database/Load_RealTime/HR/1h/2023.csv already exists. Skipping copy.\n",
      "File /home/ray/Dispa-SET_Unleash/Database/Load_RealTime/HR/30min/2023.csv already exists. Skipping copy.\n",
      "File /home/ray/Dispa-SET_Unleash/Database/Load_RealTime/HR/15min/2023.csv already exists. Skipping copy.\n",
      "File /home/ray/Dispa-SET_Unleash/Database/Load_RealTime/IT/1h/2023.csv already exists. Skipping copy.\n",
      "File /home/ray/Dispa-SET_Unleash/Database/Load_RealTime/LU/1h/2023.csv already exists. Skipping copy.\n",
      "File /home/ray/Dispa-SET_Unleash/Database/Load_RealTime/LU/30min/2023.csv already exists. Skipping copy.\n",
      "File /home/ray/Dispa-SET_Unleash/Database/Load_RealTime/LU/15min/2023.csv already exists. Skipping copy.\n",
      "File /home/ray/Dispa-SET_Unleash/Database/Load_RealTime/NL/1h/2023.csv already exists. Skipping copy.\n",
      "File /home/ray/Dispa-SET_Unleash/Database/Load_RealTime/NL/30min/2023.csv already exists. Skipping copy.\n",
      "File /home/ray/Dispa-SET_Unleash/Database/Load_RealTime/NL/15min/2023.csv already exists. Skipping copy.\n",
      "File /home/ray/Dispa-SET_Unleash/Database/Load_RealTime/NO/1h/2023.csv already exists. Skipping copy.\n",
      "File /home/ray/Dispa-SET_Unleash/Database/Load_RealTime/PL/1h/2023.csv already exists. Skipping copy.\n",
      "File /home/ray/Dispa-SET_Unleash/Database/Load_RealTime/RO/1h/2023.csv already exists. Skipping copy.\n",
      "File /home/ray/Dispa-SET_Unleash/Database/Load_RealTime/SE/1h/2023.csv already exists. Skipping copy.\n",
      "File /home/ray/Dispa-SET_Unleash/Database/Load_DayAhead/AT/1h/2023.csv already exists. Skipping copy.\n",
      "File /home/ray/Dispa-SET_Unleash/Database/Load_DayAhead/AT/30min/2023.csv already exists. Skipping copy.\n",
      "File /home/ray/Dispa-SET_Unleash/Database/Load_DayAhead/AT/15min/2023.csv already exists. Skipping copy.\n",
      "File /home/ray/Dispa-SET_Unleash/Database/Load_DayAhead/BE/1h/2023.csv already exists. Skipping copy.\n",
      "File /home/ray/Dispa-SET_Unleash/Database/Load_DayAhead/BE/30min/2023.csv already exists. Skipping copy.\n",
      "File /home/ray/Dispa-SET_Unleash/Database/Load_DayAhead/BE/15min/2023.csv already exists. Skipping copy.\n",
      "File /home/ray/Dispa-SET_Unleash/Database/Load_DayAhead/BG/1h/2023.csv already exists. Skipping copy.\n",
      "File /home/ray/Dispa-SET_Unleash/Database/Load_DayAhead/CH/1h/2023.csv already exists. Skipping copy.\n",
      "File /home/ray/Dispa-SET_Unleash/Database/Load_DayAhead/CZ/1h/2023.csv already exists. Skipping copy.\n",
      "File /home/ray/Dispa-SET_Unleash/Database/Load_DayAhead/DE/1h/2023.csv already exists. Skipping copy.\n",
      "File /home/ray/Dispa-SET_Unleash/Database/Load_DayAhead/DE/30min/2023.csv already exists. Skipping copy.\n",
      "File /home/ray/Dispa-SET_Unleash/Database/Load_DayAhead/DE/15min/2023.csv already exists. Skipping copy.\n",
      "File /home/ray/Dispa-SET_Unleash/Database/Load_DayAhead/DK/1h/2023.csv already exists. Skipping copy.\n",
      "File /home/ray/Dispa-SET_Unleash/Database/Load_DayAhead/EL/1h/2023.csv already exists. Skipping copy.\n",
      "File /home/ray/Dispa-SET_Unleash/Database/Load_DayAhead/ES/1h/2023.csv already exists. Skipping copy.\n",
      "File /home/ray/Dispa-SET_Unleash/Database/Load_DayAhead/ES/30min/2023.csv already exists. Skipping copy.\n",
      "File /home/ray/Dispa-SET_Unleash/Database/Load_DayAhead/ES/15min/2023.csv already exists. Skipping copy.\n",
      "File /home/ray/Dispa-SET_Unleash/Database/Load_DayAhead/FR/1h/2023.csv already exists. Skipping copy.\n",
      "File /home/ray/Dispa-SET_Unleash/Database/Load_DayAhead/HR/1h/2023.csv already exists. Skipping copy.\n",
      "File /home/ray/Dispa-SET_Unleash/Database/Load_DayAhead/HR/30min/2023.csv already exists. Skipping copy.\n",
      "File /home/ray/Dispa-SET_Unleash/Database/Load_DayAhead/HR/15min/2023.csv already exists. Skipping copy.\n",
      "File /home/ray/Dispa-SET_Unleash/Database/Load_DayAhead/HU/1h/2023.csv already exists. Skipping copy.\n",
      "File /home/ray/Dispa-SET_Unleash/Database/Load_DayAhead/HU/30min/2023.csv already exists. Skipping copy.\n",
      "File /home/ray/Dispa-SET_Unleash/Database/Load_DayAhead/HU/15min/2023.csv already exists. Skipping copy.\n",
      "File /home/ray/Dispa-SET_Unleash/Database/Load_DayAhead/IT/1h/2023.csv already exists. Skipping copy.\n",
      "File /home/ray/Dispa-SET_Unleash/Database/Load_DayAhead/LT/1h/2023.csv already exists. Skipping copy.\n",
      "File /home/ray/Dispa-SET_Unleash/Database/Load_DayAhead/LV/1h/2023.csv already exists. Skipping copy.\n",
      "File /home/ray/Dispa-SET_Unleash/Database/Load_DayAhead/NL/1h/2023.csv already exists. Skipping copy.\n",
      "File /home/ray/Dispa-SET_Unleash/Database/Load_DayAhead/NL/30min/2023.csv already exists. Skipping copy.\n",
      "File /home/ray/Dispa-SET_Unleash/Database/Load_DayAhead/NL/15min/2023.csv already exists. Skipping copy.\n",
      "File /home/ray/Dispa-SET_Unleash/Database/Load_DayAhead/NO/1h/2023.csv already exists. Skipping copy.\n",
      "File /home/ray/Dispa-SET_Unleash/Database/Load_DayAhead/PL/1h/2023.csv already exists. Skipping copy.\n",
      "File /home/ray/Dispa-SET_Unleash/Database/Load_DayAhead/PT/1h/2023.csv already exists. Skipping copy.\n",
      "File /home/ray/Dispa-SET_Unleash/Database/Load_DayAhead/RO/1h/2023.csv already exists. Skipping copy.\n",
      "File /home/ray/Dispa-SET_Unleash/Database/Load_DayAhead/RO/30min/2023.csv already exists. Skipping copy.\n",
      "File /home/ray/Dispa-SET_Unleash/Database/Load_DayAhead/RO/15min/2023.csv already exists. Skipping copy.\n",
      "File /home/ray/Dispa-SET_Unleash/Database/Load_DayAhead/SE/1h/2023.csv already exists. Skipping copy.\n",
      "File /home/ray/Dispa-SET_Unleash/Database/Load_DayAhead/SK/1h/2023.csv already exists. Skipping copy.\n",
      "All specified CSV files have been copied.\n"
     ]
    }
   ],
   "source": [
    "# Read the country list CSV file\n",
    "country_list_df = pd.read_csv(load_data_country_list_file)\n",
    "\n",
    "# Extract the 'Country_From' column values\n",
    "countries = country_list_df['Country_From'].tolist()\n",
    "\n",
    "# Function to copy files while preserving the existing structure\n",
    "def copy_csv_files(src_base_path, dest_base_path, subfolders):\n",
    "    for country in subfolders:\n",
    "        src_country_folder = os.path.join(src_base_path, country)\n",
    "        \n",
    "        if os.path.exists(src_country_folder):\n",
    "            for subfolder in os.listdir(src_country_folder):\n",
    "                src_subfolder_path = os.path.join(src_country_folder, subfolder)\n",
    "                \n",
    "                if os.path.isdir(src_subfolder_path):\n",
    "                    # Source file path\n",
    "                    src_file_path = os.path.join(src_subfolder_path, f\"{data_year}.csv\")\n",
    "                    \n",
    "                    if os.path.exists(src_file_path):\n",
    "                        # Destination path should mimic the structure\n",
    "                        dest_country_folder = os.path.join(dest_base_path, country)\n",
    "                        dest_subfolder_path = os.path.join(dest_country_folder, subfolder)\n",
    "                        \n",
    "                        # Ensure the destination subfolder exists\n",
    "                        os.makedirs(dest_subfolder_path, exist_ok=True)\n",
    "                        \n",
    "                        # Destination file path\n",
    "                        dest_file_path = os.path.join(dest_subfolder_path, f\"{data_year}.csv\")\n",
    "                        \n",
    "                        # Copy the file if it doesn't already exist in the destination\n",
    "                        if not os.path.exists(dest_file_path):\n",
    "                            shutil.copy2(src_file_path, dest_file_path)\n",
    "                            print(f\"Copied {src_file_path} to {dest_file_path}\")\n",
    "                        else:\n",
    "                            print(f\"File {dest_file_path} already exists. Skipping copy.\")\n",
    "        else:\n",
    "            print(f\"Source folder {src_country_folder} does not exist. Skipping.\")\n",
    "\n",
    "# Copy CSV files from Load_RealTime folder\n",
    "copy_csv_files(load_realtime_folder_path, load_realTime_data_base_folder_path, countries)\n",
    "\n",
    "# Copy CSV files from Load_DayAhead folder\n",
    "copy_csv_files(load_dayAhead_folder_path, load_dayAhead_data_base_folder_path, countries)\n",
    "\n",
    "print(\"All specified CSV files have been copied.\")\n"
   ]
  },
  {
   "cell_type": "markdown",
   "id": "6b9bf10d-c893-45d9-9011-957cf42be99c",
   "metadata": {},
   "source": [
    "<div style=\"text-align: justify; margin-left: 3.0em; font-weight: bold; font-size: 17px; font-family: TimesNewRoman; color:skyblue\">\n",
    "8.  Load Real Time and Load Day Ahead Folder Back Up\n",
    "</div>\n",
    "<div style=\"text-align: justify; margin-left: 0em; font-weight: unbold; font-size: 14px; font-family: TimesNewRoman; color:skyblue\">\n",
    "Once all the formating process was done the Net Tranfer Capacity Folder is restored to its defoult state.\n",
    "</div>"
   ]
  },
  {
   "cell_type": "code",
   "execution_count": 136,
   "id": "9c74ff0d-32b2-4895-a37d-678b5bdafe4a",
   "metadata": {},
   "outputs": [
    {
     "name": "stdout",
     "output_type": "stream",
     "text": [
      "Directory restored to original state from /home/ray/Dispa-SET_Unleash/RawData/Load_RealTime_backup/\n"
     ]
    }
   ],
   "source": [
    "if os.path.exists(load_realtime_folder_path):\n",
    "    shutil.rmtree(load_realtime_folder_path)  # Remove the current directory\n",
    "shutil.copytree(backup_folder_path, load_realtime_folder_path)\n",
    "\n",
    "print(f\"Directory restored to original state from {backup_folder_path}\")"
   ]
  },
  {
   "cell_type": "code",
   "execution_count": 137,
   "id": "2afe7cb5-8ff3-4999-a690-48f047738fe6",
   "metadata": {},
   "outputs": [
    {
     "name": "stdout",
     "output_type": "stream",
     "text": [
      "Backup folder /home/ray/Dispa-SET_Unleash/RawData/Load_RealTime_backup/ deleted successfully.\n"
     ]
    }
   ],
   "source": [
    "shutil.rmtree(backup_folder_path)\n",
    "print(f\"Backup folder {backup_folder_path} deleted successfully.\")"
   ]
  },
  {
   "cell_type": "code",
   "execution_count": 138,
   "id": "fec429a9-40e8-4c06-83ef-812b78565913",
   "metadata": {},
   "outputs": [
    {
     "name": "stdout",
     "output_type": "stream",
     "text": [
      "All folders and their contents inside '/home/ray/Dispa-SET_Unleash/RawData/Load_DayAhead/' have been deleted.\n"
     ]
    }
   ],
   "source": [
    "# Iterate over all items in the directory\n",
    "for item in os.listdir(load_dayAhead_folder_path):\n",
    "    item_path = os.path.join(load_dayAhead_folder_path, item)\n",
    "    \n",
    "    # Check if the item is a directory\n",
    "    if os.path.isdir(item_path):\n",
    "        # Remove the directory and all its contents\n",
    "        shutil.rmtree(item_path)\n",
    "\n",
    "print(f\"All folders and their contents inside '{load_dayAhead_folder_path}' have been deleted.\")"
   ]
  },
  {
   "cell_type": "code",
   "execution_count": null,
   "id": "0911d90c-7455-4aa9-9505-b4f12ed93172",
   "metadata": {},
   "outputs": [],
   "source": []
  },
  {
   "cell_type": "code",
   "execution_count": null,
   "id": "a83e0e6e-7078-4535-9557-bbecf3ec9ed3",
   "metadata": {},
   "outputs": [],
   "source": []
  },
  {
   "cell_type": "code",
   "execution_count": null,
   "id": "84caf42c-6ba5-4bdd-aa73-24304c5693ce",
   "metadata": {},
   "outputs": [],
   "source": []
  }
 ],
 "metadata": {
  "kernelspec": {
   "display_name": "Python 3 (Spyder)",
   "language": "python3",
   "name": "python3"
  },
  "language_info": {
   "codemirror_mode": {
    "name": "ipython",
    "version": 3
   },
   "file_extension": ".py",
   "mimetype": "text/x-python",
   "name": "python",
   "nbconvert_exporter": "python",
   "pygments_lexer": "ipython3",
   "version": "3.11.7"
  }
 },
 "nbformat": 4,
 "nbformat_minor": 5
}
