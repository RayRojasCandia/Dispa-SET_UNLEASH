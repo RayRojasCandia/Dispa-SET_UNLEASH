{
 "cells": [
  {
   "cell_type": "code",
   "execution_count": 2,
   "id": "9301d2d3-a0d5-4b46-9007-172c49d48eb6",
   "metadata": {},
   "outputs": [
    {
     "name": "stdout",
     "output_type": "stream",
     "text": [
      "Copied: /media/ray/KINQSTON__/AvailabiltyFactors/AT/2024_1.csv → /home/ray/Dispa-SET_Unleash/RawData/AvailabilityFactors/Time_Series_Raw_Data_Source/UTC/AT/2024_1.csv\n",
      "Copied: /media/ray/KINQSTON__/AvailabiltyFactors/BE/2024_1.csv → /home/ray/Dispa-SET_Unleash/RawData/AvailabilityFactors/Time_Series_Raw_Data_Source/UTC/BE/2024_1.csv\n",
      "Copied: /media/ray/KINQSTON__/AvailabiltyFactors/BG/2024_1.csv → /home/ray/Dispa-SET_Unleash/RawData/AvailabilityFactors/Time_Series_Raw_Data_Source/UTC/BG/2024_1.csv\n",
      "Copied: /media/ray/KINQSTON__/AvailabiltyFactors/CH/2024_1.csv → /home/ray/Dispa-SET_Unleash/RawData/AvailabilityFactors/Time_Series_Raw_Data_Source/UTC/CH/2024_1.csv\n",
      "Copied: /media/ray/KINQSTON__/AvailabiltyFactors/CY/2024_1.csv → /home/ray/Dispa-SET_Unleash/RawData/AvailabilityFactors/Time_Series_Raw_Data_Source/UTC/CY/2024_1.csv\n",
      "Copied: /media/ray/KINQSTON__/AvailabiltyFactors/CZ/2024_1.csv → /home/ray/Dispa-SET_Unleash/RawData/AvailabilityFactors/Time_Series_Raw_Data_Source/UTC/CZ/2024_1.csv\n",
      "Copied: /media/ray/KINQSTON__/AvailabiltyFactors/DE/2024_1.csv → /home/ray/Dispa-SET_Unleash/RawData/AvailabilityFactors/Time_Series_Raw_Data_Source/UTC/DE/2024_1.csv\n",
      "Copied: /media/ray/KINQSTON__/AvailabiltyFactors/DK/2024_1.csv → /home/ray/Dispa-SET_Unleash/RawData/AvailabilityFactors/Time_Series_Raw_Data_Source/UTC/DK/2024_1.csv\n",
      "Copied: /media/ray/KINQSTON__/AvailabiltyFactors/EE/2024_1.csv → /home/ray/Dispa-SET_Unleash/RawData/AvailabilityFactors/Time_Series_Raw_Data_Source/UTC/EE/2024_1.csv\n",
      "Copied: /media/ray/KINQSTON__/AvailabiltyFactors/EL/2024_1.csv → /home/ray/Dispa-SET_Unleash/RawData/AvailabilityFactors/Time_Series_Raw_Data_Source/UTC/EL/2024_1.csv\n",
      "Copied: /media/ray/KINQSTON__/AvailabiltyFactors/ES/2024_1.csv → /home/ray/Dispa-SET_Unleash/RawData/AvailabilityFactors/Time_Series_Raw_Data_Source/UTC/ES/2024_1.csv\n",
      "Copied: /media/ray/KINQSTON__/AvailabiltyFactors/FI/2024_1.csv → /home/ray/Dispa-SET_Unleash/RawData/AvailabilityFactors/Time_Series_Raw_Data_Source/UTC/FI/2024_1.csv\n",
      "Copied: /media/ray/KINQSTON__/AvailabiltyFactors/FR/2024_1.csv → /home/ray/Dispa-SET_Unleash/RawData/AvailabilityFactors/Time_Series_Raw_Data_Source/UTC/FR/2024_1.csv\n",
      "Copied: /media/ray/KINQSTON__/AvailabiltyFactors/HR/2024_1.csv → /home/ray/Dispa-SET_Unleash/RawData/AvailabilityFactors/Time_Series_Raw_Data_Source/UTC/HR/2024_1.csv\n",
      "Copied: /media/ray/KINQSTON__/AvailabiltyFactors/HU/2024_1.csv → /home/ray/Dispa-SET_Unleash/RawData/AvailabilityFactors/Time_Series_Raw_Data_Source/UTC/HU/2024_1.csv\n",
      "Copied: /media/ray/KINQSTON__/AvailabiltyFactors/IE/2024_1.csv → /home/ray/Dispa-SET_Unleash/RawData/AvailabilityFactors/Time_Series_Raw_Data_Source/UTC/IE/2024_1.csv\n",
      "Copied: /media/ray/KINQSTON__/AvailabiltyFactors/IT/2024_1.csv → /home/ray/Dispa-SET_Unleash/RawData/AvailabilityFactors/Time_Series_Raw_Data_Source/UTC/IT/2024_1.csv\n",
      "Copied: /media/ray/KINQSTON__/AvailabiltyFactors/LT/2024_1.csv → /home/ray/Dispa-SET_Unleash/RawData/AvailabilityFactors/Time_Series_Raw_Data_Source/UTC/LT/2024_1.csv\n",
      "Copied: /media/ray/KINQSTON__/AvailabiltyFactors/LU/2024_1.csv → /home/ray/Dispa-SET_Unleash/RawData/AvailabilityFactors/Time_Series_Raw_Data_Source/UTC/LU/2024_1.csv\n",
      "Copied: /media/ray/KINQSTON__/AvailabiltyFactors/LV/2024_1.csv → /home/ray/Dispa-SET_Unleash/RawData/AvailabilityFactors/Time_Series_Raw_Data_Source/UTC/LV/2024_1.csv\n",
      "Copied: /media/ray/KINQSTON__/AvailabiltyFactors/MT/2024_1.csv → /home/ray/Dispa-SET_Unleash/RawData/AvailabilityFactors/Time_Series_Raw_Data_Source/UTC/MT/2024_1.csv\n",
      "Copied: /media/ray/KINQSTON__/AvailabiltyFactors/NL/2024_1.csv → /home/ray/Dispa-SET_Unleash/RawData/AvailabilityFactors/Time_Series_Raw_Data_Source/UTC/NL/2024_1.csv\n",
      "Copied: /media/ray/KINQSTON__/AvailabiltyFactors/NO/2024_1.csv → /home/ray/Dispa-SET_Unleash/RawData/AvailabilityFactors/Time_Series_Raw_Data_Source/UTC/NO/2024_1.csv\n",
      "Copied: /media/ray/KINQSTON__/AvailabiltyFactors/PL/2024_1.csv → /home/ray/Dispa-SET_Unleash/RawData/AvailabilityFactors/Time_Series_Raw_Data_Source/UTC/PL/2024_1.csv\n",
      "Copied: /media/ray/KINQSTON__/AvailabiltyFactors/PT/2024_1.csv → /home/ray/Dispa-SET_Unleash/RawData/AvailabilityFactors/Time_Series_Raw_Data_Source/UTC/PT/2024_1.csv\n",
      "Copied: /media/ray/KINQSTON__/AvailabiltyFactors/RO/2024_1.csv → /home/ray/Dispa-SET_Unleash/RawData/AvailabilityFactors/Time_Series_Raw_Data_Source/UTC/RO/2024_1.csv\n",
      "Copied: /media/ray/KINQSTON__/AvailabiltyFactors/SE/2024_1.csv → /home/ray/Dispa-SET_Unleash/RawData/AvailabilityFactors/Time_Series_Raw_Data_Source/UTC/SE/2024_1.csv\n",
      "Copied: /media/ray/KINQSTON__/AvailabiltyFactors/SI/2024_1.csv → /home/ray/Dispa-SET_Unleash/RawData/AvailabilityFactors/Time_Series_Raw_Data_Source/UTC/SI/2024_1.csv\n",
      "Copied: /media/ray/KINQSTON__/AvailabiltyFactors/SK/2024_1.csv → /home/ray/Dispa-SET_Unleash/RawData/AvailabilityFactors/Time_Series_Raw_Data_Source/UTC/SK/2024_1.csv\n",
      "Copied: /media/ray/KINQSTON__/AvailabiltyFactors/UK/2024_1.csv → /home/ray/Dispa-SET_Unleash/RawData/AvailabilityFactors/Time_Series_Raw_Data_Source/UTC/UK/2024_1.csv\n",
      "✅ File copying process completed!\n"
     ]
    }
   ],
   "source": [
    "import os\n",
    "import shutil\n",
    "\n",
    "# Define source and destination directories\n",
    "source_directory = \"/media/ray/KINQSTON__/AvailabiltyFactors\"\n",
    "destination_directory = \"/home/ray/Dispa-SET_Unleash/RawData/AvailabilityFactors/Time_Series_Raw_Data_Source/UTC\"\n",
    "\n",
    "# Ensure destination directory exists\n",
    "if not os.path.exists(destination_directory):\n",
    "    raise FileNotFoundError(f\"Destination directory '{destination_directory}' does not exist!\")\n",
    "\n",
    "# Loop through each folder in the source directory\n",
    "for folder_name in os.listdir(source_directory):\n",
    "    source_folder_path = os.path.join(source_directory, folder_name)\n",
    "    destination_folder_path = os.path.join(destination_directory, folder_name)\n",
    "\n",
    "    # Check if both source and destination are directories\n",
    "    if os.path.isdir(source_folder_path) and os.path.isdir(destination_folder_path):\n",
    "        source_file_path = os.path.join(source_folder_path, \"2024_1.csv\")\n",
    "        destination_file_path = os.path.join(destination_folder_path, \"2024_1.csv\")\n",
    "\n",
    "        # Check if the source file exists\n",
    "        if os.path.exists(source_file_path):\n",
    "            # Copy the file\n",
    "            shutil.copy2(source_file_path, destination_file_path)\n",
    "            print(f\"Copied: {source_file_path} → {destination_file_path}\")\n",
    "        else:\n",
    "            print(f\"Skipped: {source_file_path} (File not found)\")\n",
    "    else:\n",
    "        print(f\"Skipped: {folder_name} (Folder missing in one of the directories)\")\n",
    "\n",
    "print(\"✅ File copying process completed!\")\n"
   ]
  },
  {
   "cell_type": "code",
   "execution_count": null,
   "id": "3bab04cf-c0dc-4d53-ba15-54809d945e97",
   "metadata": {},
   "outputs": [],
   "source": []
  }
 ],
 "metadata": {
  "kernelspec": {
   "display_name": "Python 3 (ipykernel)",
   "language": "python",
   "name": "python3"
  },
  "language_info": {
   "codemirror_mode": {
    "name": "ipython",
    "version": 3
   },
   "file_extension": ".py",
   "mimetype": "text/x-python",
   "name": "python",
   "nbconvert_exporter": "python",
   "pygments_lexer": "ipython3",
   "version": "3.12.7"
  }
 },
 "nbformat": 4,
 "nbformat_minor": 5
}
