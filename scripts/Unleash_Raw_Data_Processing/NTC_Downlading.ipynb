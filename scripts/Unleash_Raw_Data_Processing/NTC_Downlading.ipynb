{
 "cells": [
  {
   "cell_type": "markdown",
   "id": "f5db6638-426e-4ed4-be90-569e0e288e75",
   "metadata": {},
   "source": [
    "<div style=\"text-align: center; margin-left: 0em; font-weight: bold; font-size: 20px; font-family: TimesNewRoman; color: skyblue\">\n",
    "    TIME SERIES DATA PROCESSING\n",
    "    <br>\n",
    "    NET TRANSFER CAPACITY\n",
    "<div style=\"text-align: center; margin-left: 0em; font-weight: bold; font-size: 18px; font-family: TimesNewRoman; color: skyblue\">\n",
    "    Raw Data Downloading Notebook\n",
    "</div>\n",
    "</div>\n",
    "<br>\n",
    "<div style=\"text-align: justify; margin-left: 0em; font-weight: unbold; font-size: 14px; font-family: TimesNewRoman; color: skyblue\">\n",
    "Each part of the following script was used to download the raw data for the Net Transfer Capacity Time Series Raw Data for all the european countries of the Dispa-SET_Unleash project.\n",
    "<br>\n",
    "Read explanation text cells to follow and understand all the process until final results were got stept by step.\n",
    "</div>\n",
    "<br>\n",
    "<div style=\"text-align: justify; margin-left: 3.0em; font-weight: bold; font-size: 18px; font-family: TimesNewRoman; color:skyblue\">\n",
    "    1. Notebook Set Up\n",
    "</div>\n",
    "<div style=\"text-align: justify; margin-left: 0.0em; font-weight: unbold; font-size: 14px; font-family: TimesNewRoman; color:skyblue\">\n",
    "    Importing needed libraries\n",
    "</div>"
   ]
  },
  {
   "cell_type": "code",
   "execution_count": 1,
   "id": "fd9a0798-15cb-4801-9f08-d4c1278679dd",
   "metadata": {},
   "outputs": [],
   "source": [
    "import pandas as pd\n",
    "from entsoe import EntsoePandasClient\n",
    "from entsoe.exceptions import NoMatchingDataError  # Ensure this line is included\n",
    "import os\n",
    "import csv\n",
    "from datetime import datetime\n",
    "import pytz\n",
    "from pytz import timezone, utc\n",
    "import shutil"
   ]
  },
  {
   "cell_type": "markdown",
   "id": "b3b91b4e-2bcb-4fff-84d6-4b2c1cc7488c",
   "metadata": {},
   "source": [
    " <div style=\"text-align: justify; margin-left: 3.0em; font-weight: bold; font-size: 18px; font-family: TimesNewRoman; color:skyblue\">\n",
    "    2. ENTSO-E RESTful API.\n",
    "</div>\n",
    "<div style=\"text-align: justify; margin-left: 0.0em; font-weight: unbold; font-size: 14px; font-family: TimesNewRoman; color:skyblue\">\n",
    "Connecting with the ENTSO-E API Tool.\n",
    "</div>\n",
    "<div style=\"text-align: justify; margin-left: 2.0em; font-weight: unbold; font-size: 13px; font-family: TimesNewRoman;color:skyblue\">\n",
    "To donwload the neeeded data using the API tool, is mandatory to use a token autentication to connect and make the future request of data.\n",
    "</div>"
   ]
  },
  {
   "cell_type": "code",
   "execution_count": 2,
   "id": "efe689ae-fbac-43c7-a2ff-99d486339b21",
   "metadata": {},
   "outputs": [],
   "source": [
    "client = EntsoePandasClient(api_key='61e5bbbb-7e80-4540-a471-bd993873aa74')"
   ]
  },
  {
   "cell_type": "markdown",
   "id": "8c665302-811c-4933-b109-bdaafcfaa327",
   "metadata": {},
   "source": [
    "<div style=\"text-align: justify; margin-left: 3.0em; font-weight: bold; font-size: 18px; font-family: TimesNewRoman; color:skyblue\">\n",
    "    3. Dispa-SET_Unleash Folder Path\n",
    "</div>\n",
    "<div style=\"text-align: justify; margin-left: 0.0em; font-weight: unbold; font-size: 14px; font-family: TimesNewRoman; color:skyblue\">\n",
    "    Determinning dynamically the zone_folder_path based on the location of the \"Dispa-SET_Unleash\" folder relative to the current working directory.\n",
    "</div>\n",
    "<div style=\"text-align: justify; margin-left: 2.0em; font-weight: unbold; font-size: 13px; font-family: TimesNewRoman; color:skyblue\">\n",
    "If the \"Dispa-SET_Unleash\" folder is copied to a different machine or location, the dispaSET_unleash_folder_path variable will automatically adjust accordingly.\n",
    "</div>"
   ]
  },
  {
   "cell_type": "code",
   "execution_count": 3,
   "id": "d4217e73-335c-4a9b-a95c-63b334ba376b",
   "metadata": {},
   "outputs": [
    {
     "name": "stdout",
     "output_type": "stream",
     "text": [
      "dispaSET_unleash_folder_name: Dispa-SET_Unleash\n",
      "dispaSET_unleash_folder_path: /home/ray/Dispa-SET_Unleash\n"
     ]
    }
   ],
   "source": [
    "# Get the current working directory\n",
    "current_directory = os.getcwd()\n",
    "\n",
    "# Navigate to the parent directory of \"Dispa-SET_Unleash\"\n",
    "dispaSET_unleash_parent_directory = os.path.dirname(current_directory)\n",
    "\n",
    "# Get the path to the \"Dispa-SET_Unleash\" folder\n",
    "dispaSET_unleash_folder_path = os.path.dirname(dispaSET_unleash_parent_directory)\n",
    "\n",
    "# Construct the dispaSET_unleash_folder_name variable\n",
    "dispaSET_unleash_folder_name = os.path.basename(dispaSET_unleash_folder_path)\n",
    "\n",
    "print(\"dispaSET_unleash_folder_name:\", dispaSET_unleash_folder_name)\n",
    "print(\"dispaSET_unleash_folder_path:\", dispaSET_unleash_folder_path)"
   ]
  },
  {
   "cell_type": "markdown",
   "id": "1cdd0d02-f4ae-437b-bfb7-27bd95126afb",
   "metadata": {},
   "source": [
    "<div style=\"text-align: justify; margin-left: 3.0em; font-weight: bold; font-size: 18px; font-family: TimesNewRoman; color:skyblue\">\n",
    "    4. Usefull Variable Definition\n",
    "</div>\n",
    "<div style=\"text-align: justify; margin-left: 0.0em; font-weight: unbold; font-size: 14px; font-family: TimesNewRoman; color:skyblue\">\n",
    "Entering a value to all the variables which content are going to be used in some of the next stages of this script. \n",
    "</div>\n",
    "<div style=\"text-align: justify; margin-left: 2.0em; font-weight: unbold; font-size: 13px; font-family: TimesNewRoman; color:skyblue\">\n",
    "Indicate the year of all data is referring to in the variable data_year.\n",
    "<br>\n",
    "The universal_standar_time variable is going to be used to download all the time series data in this horary zone. \n",
    "<br>\n",
    "Additionally there are some default parameters that has to be defined to the correct working and calling to the ENTSO-E downloading functions.\n",
    "</div>"
   ]
  },
  {
   "cell_type": "code",
   "execution_count": 4,
   "id": "5ce919b9-c594-40f4-8104-e574ac8efb13",
   "metadata": {},
   "outputs": [],
   "source": [
    "# Year to which data refers to:\n",
    "data_year = 2016\n",
    "data_year_1 = data_year + 1"
   ]
  },
  {
   "cell_type": "code",
   "execution_count": 5,
   "id": "374714e4-d922-400d-a04d-00da77fb5a5a",
   "metadata": {},
   "outputs": [
    {
     "name": "stdout",
     "output_type": "stream",
     "text": [
      "ntc_folder_path: /home/ray/Dispa-SET_Unleash/RawData/NTC/\n",
      "ntc_raw_data_folder_path: /home/ray/Dispa-SET_Unleash/RawData/NTC/Raw_Data_Sources/\n"
     ]
    }
   ],
   "source": [
    "# Additional string to be appended\n",
    "additional_path = \"/RawData/NTC/\"\n",
    "additional_path_1 = \"/RawData/NTC/Raw_Data_Sources/\"\n",
    "\n",
    "# Construct the Outage_Factors_folder_path variable\n",
    "ntc_folder_path = dispaSET_unleash_folder_path + additional_path\n",
    "\n",
    "# Construct the Outage_Factors_Raw_Data_folder_path variable\n",
    "ntc_raw_data_folder_path = dispaSET_unleash_folder_path + additional_path_1\n",
    "\n",
    "print(\"ntc_folder_path:\", ntc_folder_path)\n",
    "print(\"ntc_raw_data_folder_path:\", ntc_raw_data_folder_path)"
   ]
  },
  {
   "cell_type": "code",
   "execution_count": 6,
   "id": "cab35ce5-71bd-483a-8e34-529ef3cdfaa4",
   "metadata": {},
   "outputs": [],
   "source": [
    "# Define other parameters\n",
    "type_marketagreement_type = 'A01'\n",
    "contract_marketagreement_type = \"A01\"\n",
    "process_type = 'A51'"
   ]
  },
  {
   "cell_type": "markdown",
   "id": "757140f0-058b-4d95-8d2d-d4c289a24938",
   "metadata": {},
   "source": [
    "<div style=\"text-align: justify; margin-left: 3.0em; font-weight: bold; font-size: 18px; font-family: TimesNewRoman; color:skyblue\">\n",
    "    5. Country List Variable Definition\n",
    "</div>\n",
    "<div style=\"text-align: justify; margin-left: 0.0em; font-weight: unbold; font-size: 1]4px; font-family: TimesNewRoman; color:skyblue\">\n",
    "Defining the list of countries according to the available data. \n",
    "</div>"
   ]
  },
  {
   "cell_type": "code",
   "execution_count": 7,
   "id": "acaada5f-ce95-43b3-98e0-ae94a05cfa79",
   "metadata": {},
   "outputs": [],
   "source": [
    "# Define a list of country codes\n",
    "ntc_per_unit_country_list = [\"AT\", \"BE\", \"BG\", \"CH\", \"CY\", \"CZ\", \"DE\", \"DK\", \"EE\", \"GR\", \"ES\", \"FI\", \"FR\", \"HR\", \"HU\", \n",
    "                             \"IE\", \"IT\", \"LT\", \"LU\", \"LV\", \"MT\", \"NL\", \"NO\", \"PL\", \"PT\", \"RO\", \"SE\", \"SI\", \"SK\", \"UK\"]"
   ]
  },
  {
   "cell_type": "code",
   "execution_count": 8,
   "id": "ad4ad065-deca-4e06-8c5e-02533d2c4a0d",
   "metadata": {},
   "outputs": [
    {
     "name": "stdout",
     "output_type": "stream",
     "text": [
      "DataFrame saved to '/home/ray/Dispa-SET_Unleash/RawData/NTC/country_list.csv'\n"
     ]
    }
   ],
   "source": [
    "# Define the directory and file path\n",
    "file_name = 'country_list.csv'\n",
    "file_path = os.path.join(ntc_folder_path, file_name)\n",
    "\n",
    "# Ensure the directory exists\n",
    "os.makedirs(ntc_raw_data_folder_path, exist_ok=True)\n",
    "\n",
    "# Create a DataFrame\n",
    "df = pd.DataFrame(ntc_per_unit_country_list, columns=['Country_From'])\n",
    "\n",
    "# Save the DataFrame to a CSV file\n",
    "df.to_csv(file_path, index=False)\n",
    "\n",
    "print(f\"DataFrame saved to '{file_path}'\")\n",
    "ntc_country_list_file = file_path"
   ]
  },
  {
   "cell_type": "markdown",
   "id": "2cfe3bcc-06a0-44ca-b286-76df1ca121a8",
   "metadata": {},
   "source": [
    "<div style=\"text-align: right; margin-left: 3.0em; font-weight: unbold; font-size: 14px; font-family: TimesNewRoman; color:skyblue\">\n",
    "    Tracking Variables. \n",
    "    <br>\n",
    "    <div style=\"text-align: right; margin-left: 1.50em; font-weight: unbold; font-size: 13px; font-family: TimesNewRoman;\">\n",
    "    This cells are just to confirm all the file names, file paths and other information related to the data being processed.\n",
    "    <br>\n",
    "  Also are used to ensure the inputs for next cells in order to avoid to re-enter the same information each time.\n",
    "</div>"
   ]
  },
  {
   "cell_type": "code",
   "execution_count": 9,
   "id": "0c81c1e0-40db-4ebc-b539-066bfe77402c",
   "metadata": {},
   "outputs": [
    {
     "name": "stdout",
     "output_type": "stream",
     "text": [
      "dispaSET_unleash_folder_name:                              Dispa-SET_Unleash\n",
      "dispaSET_unleash_folder_path:                              /home/ray/Dispa-SET_Unleash\n",
      "data_year:                                                 2016\n",
      "ntc_folder_path:                                           /home/ray/Dispa-SET_Unleash/RawData/NTC/\n",
      "ntc_raw_data_folder_path:                                  /home/ray/Dispa-SET_Unleash/RawData/NTC/Raw_Data_Sources/\n",
      "ntc_country_list_file:                                     /home/ray/Dispa-SET_Unleash/RawData/NTC/country_list.csv\n"
     ]
    }
   ],
   "source": [
    "print (f\"dispaSET_unleash_folder_name:                              {dispaSET_unleash_folder_name}\")\n",
    "print (f\"dispaSET_unleash_folder_path:                              {dispaSET_unleash_folder_path}\")\n",
    "print (f\"data_year:                                                 {data_year}\")\n",
    "print (f\"ntc_folder_path:                                           {ntc_folder_path}\")   \n",
    "print (f\"ntc_raw_data_folder_path:                                  {ntc_raw_data_folder_path}\")\n",
    "print (f\"ntc_country_list_file:                                     {ntc_country_list_file}\")"
   ]
  },
  {
   "cell_type": "markdown",
   "id": "293f8192-3e0b-4281-9c16-37b5a40a8cce",
   "metadata": {},
   "source": [
    "<div style=\"text-align: justify; margin-left: 0.0em; font-weight: unbold; font-size: 14px; font-family: TimesNewRoman; color:skyblue\">\n",
    "Defining the sub-folders where all the cross border flows raw data is saved. \n",
    "</div>"
   ]
  },
  {
   "cell_type": "code",
   "execution_count": 10,
   "id": "c5661a77-1487-4c0b-a633-9f45bd392a9c",
   "metadata": {},
   "outputs": [
    {
     "name": "stdout",
     "output_type": "stream",
     "text": [
      "Updated CSV file saved to '/home/ray/Dispa-SET_Unleash/RawData/NTC/country_list.csv' with new subfolders created.\n"
     ]
    }
   ],
   "source": [
    "# Convert data_year to string if it's not already\n",
    "data_year = str(data_year)\n",
    "\n",
    "# Read the CSV file into a DataFrame\n",
    "df = pd.read_csv(ntc_country_list_file)\n",
    "\n",
    "# Ensure the column 'Country_From' exists\n",
    "if 'Country_From' not in df.columns:\n",
    "    raise ValueError(\"Column 'Country_From' does not exist in the CSV file\")\n",
    "\n",
    "# Define the base directory where subfolders will be created\n",
    "base_directory = os.path.join(ntc_raw_data_folder_path, data_year)\n",
    "\n",
    "# Create a list to hold the paths of the created subfolders\n",
    "country_folder_paths = []\n",
    "\n",
    "# Create subfolders and save their paths\n",
    "for country in df['Country_From']:\n",
    "    # Create the subfolder path\n",
    "    subfolder_path = os.path.join(base_directory, country)\n",
    "    \n",
    "    # Create the subfolder if it doesn't exist\n",
    "    os.makedirs(subfolder_path, exist_ok=True)\n",
    "    \n",
    "    # Append the subfolder path to the list\n",
    "    country_folder_paths.append(subfolder_path)\n",
    "\n",
    "# Add the new column 'Country_Folder' to the DataFrame\n",
    "df['Country_Folder'] = country_folder_paths\n",
    "\n",
    "# Save the updated DataFrame back to the CSV file\n",
    "df.to_csv(ntc_country_list_file, index=False)\n",
    "\n",
    "print(f\"Updated CSV file saved to '{ntc_country_list_file}' with new subfolders created.\")"
   ]
  },
  {
   "cell_type": "markdown",
   "id": "ab9cc253-10e4-4c6f-8f09-c71b634095c5",
   "metadata": {},
   "source": [
    "<div style=\"text-align: justify; margin-left: 0.0em; font-weight: unbold; font-size: 14px; font-family: TimesNewRoman; color:skyblue\">\n",
    "Defining the neighbor countries. \n",
    "</div>"
   ]
  },
  {
   "cell_type": "code",
   "execution_count": 11,
   "id": "0ad95b09-c070-4c6d-ac3f-9b12f3938080",
   "metadata": {},
   "outputs": [
    {
     "name": "stdout",
     "output_type": "stream",
     "text": [
      "Data appended to '/home/ray/Dispa-SET_Unleash/RawData/NTC/country_list.csv' as new columns\n"
     ]
    }
   ],
   "source": [
    "# Raw data as a multiline string\n",
    "data = \"\"\"\n",
    "CZ, DE, HU, IT, SI, CH\n",
    "FR, DE, LU, NL, UK\n",
    "GR, RO, \n",
    "AT, FR, DE, IT\n",
    "\n",
    "AT, DE, PL, SK\n",
    "AT, BE, CZ, DK, FR, LU, NL, NO, PL, SE, CH\n",
    "DE, NL, NO, SE, UK\n",
    "FI, LV\n",
    "BG, IT\n",
    "FR, PT\n",
    "EE, NO, SE\n",
    "BE, DE, IT, ES, CH, UK\n",
    "HU, SI\n",
    "AT, HR, RO, SK, SI\n",
    "UK\n",
    "AT, FR, GR, MT, SI, CH\n",
    "LV, PL, SE\n",
    "BE, DE\n",
    "EE, LT\n",
    "IT\n",
    "BE, DK, DE, NO, UK\n",
    "DK, FI, DE, NL, SE, UK\n",
    "CZ, DE, LT, SK, SE\n",
    "ES\n",
    "BG, HU\n",
    "DK, FI, DE, LT, NO, PL\n",
    "AT, HR, HU, IT\n",
    "CZ, HU, PL\n",
    "BE, DK, FR, IE, NL, NO\n",
    "\"\"\"\n",
    "\n",
    "# Split the data into lines\n",
    "lines = data.strip().split(\"\\n\")\n",
    "\n",
    "# Initialize a list to hold the data\n",
    "data_list = []\n",
    "\n",
    "# Process each line\n",
    "for line in lines:\n",
    "    if line.strip() == \"\":\n",
    "        # If the line is empty, add 11 empty strings\n",
    "        data_list.append([\"\"] * 11)\n",
    "    else:\n",
    "        neighbors = line.split(\", \")\n",
    "        data_list.append(neighbors)\n",
    "\n",
    "# Create the DataFrame for new data\n",
    "new_df = pd.DataFrame(data_list, columns=[f\"Neighbor_{i}\" for i in range(1, 12)])\n",
    "\n",
    "# Path to the existing CSV file\n",
    "existing_csv_file_path = ntc_country_list_file\n",
    "\n",
    "# Read the existing CSV file into a DataFrame\n",
    "existing_df = pd.read_csv(existing_csv_file_path)\n",
    "\n",
    "# Concatenate the existing DataFrame with the new DataFrame horizontally\n",
    "combined_df = pd.concat([existing_df, new_df], axis=1)\n",
    "\n",
    "# Save the combined DataFrame back to the CSV file\n",
    "combined_df.to_csv(existing_csv_file_path, index=False)\n",
    "print(f\"Data appended to '{existing_csv_file_path}' as new columns\")"
   ]
  },
  {
   "cell_type": "markdown",
   "id": "772d10c0-7c97-4c63-8d81-747d91a21572",
   "metadata": {},
   "source": [
    "<div style=\"text-align: justify; margin-left: 3.0em; font-weight: bold; font-size: 18px; font-family: TimesNewRoman; color:skyblue\">\n",
    "    6. Raw Data Download\n",
    "</div>\n",
    "<div style=\"text-align: justify; margin-left: 0.0em; font-weight: unbold; font-size: 14px; font-family: TimesNewRoman; color:skyblue\">\n",
    "Donwloading the cross border flows raw data. \n",
    "</div>\n",
    "<div style=\"text-align: justify; margin-left: 2.0em; font-weight: unbold; font-size: 13px; font-family: TimesNewRoman; color:skyblue\">\n",
    "The crows border flow data is downloaded in separate files for each country.\n",
    "<br>\n",
    "Since the Acronym of Grece in the downloaded data is 'GR' and the Dispa-SET format for the country is 'EL'. All the needed changes in the used variables are done.\n",
    "<br>\n",
    "The downloaded files will be joined into a single csv file under the name of the country which the flow comes from.\n",
    "<br>\n",
    "The headers of these joined csv files are changed accordign the Dispa-SET cross border flow data format e.g. BE -> DE\n",
    "</div>"
   ]
  },
  {
   "cell_type": "code",
   "execution_count": 12,
   "id": "4373a92e-5c9f-445b-8f20-345654007177",
   "metadata": {},
   "outputs": [
    {
     "name": "stdout",
     "output_type": "stream",
     "text": [
      "Data for AT to CZ saved to '/home/ray/Dispa-SET_Unleash/RawData/NTC/Raw_Data_Sources/2016/AT/CZ.csv'\n",
      "Data for AT to DE saved to '/home/ray/Dispa-SET_Unleash/RawData/NTC/Raw_Data_Sources/2016/AT/DE.csv'\n",
      "Data for AT to HU saved to '/home/ray/Dispa-SET_Unleash/RawData/NTC/Raw_Data_Sources/2016/AT/HU.csv'\n",
      "Data for AT to IT saved to '/home/ray/Dispa-SET_Unleash/RawData/NTC/Raw_Data_Sources/2016/AT/IT.csv'\n",
      "Data for AT to SI saved to '/home/ray/Dispa-SET_Unleash/RawData/NTC/Raw_Data_Sources/2016/AT/SI.csv'\n",
      "Data for AT to CH saved to '/home/ray/Dispa-SET_Unleash/RawData/NTC/Raw_Data_Sources/2016/AT/CH.csv'\n",
      "Data for BE to FR saved to '/home/ray/Dispa-SET_Unleash/RawData/NTC/Raw_Data_Sources/2016/BE/FR.csv'\n",
      "No matching data for BE to DE for the period 2016-01-01 00:00:00+01:00 to 2017-01-01 00:00:00+01:00. Skipping.\n",
      "No matching data for BE to LU for the period 2016-01-01 00:00:00+01:00 to 2017-01-01 00:00:00+01:00. Skipping.\n",
      "Data for BE to NL saved to '/home/ray/Dispa-SET_Unleash/RawData/NTC/Raw_Data_Sources/2016/BE/NL.csv'\n",
      "No matching data for BE to UK for the period 2016-01-01 00:00:00+01:00 to 2017-01-01 00:00:00+01:00. Skipping.\n",
      "Data for BG to GR saved to '/home/ray/Dispa-SET_Unleash/RawData/NTC/Raw_Data_Sources/2016/BG/GR.csv'\n",
      "Data for BG to RO saved to '/home/ray/Dispa-SET_Unleash/RawData/NTC/Raw_Data_Sources/2016/BG/RO.csv'\n",
      "Data for CH to AT saved to '/home/ray/Dispa-SET_Unleash/RawData/NTC/Raw_Data_Sources/2016/CH/AT.csv'\n",
      "Data for CH to FR saved to '/home/ray/Dispa-SET_Unleash/RawData/NTC/Raw_Data_Sources/2016/CH/FR.csv'\n",
      "Data for CH to DE saved to '/home/ray/Dispa-SET_Unleash/RawData/NTC/Raw_Data_Sources/2016/CH/DE.csv'\n",
      "Data for CH to IT saved to '/home/ray/Dispa-SET_Unleash/RawData/NTC/Raw_Data_Sources/2016/CH/IT.csv'\n",
      "Data for CZ to AT saved to '/home/ray/Dispa-SET_Unleash/RawData/NTC/Raw_Data_Sources/2016/CZ/AT.csv'\n",
      "Data for CZ to DE saved to '/home/ray/Dispa-SET_Unleash/RawData/NTC/Raw_Data_Sources/2016/CZ/DE.csv'\n",
      "Data for CZ to PL saved to '/home/ray/Dispa-SET_Unleash/RawData/NTC/Raw_Data_Sources/2016/CZ/PL.csv'\n",
      "Data for CZ to SK saved to '/home/ray/Dispa-SET_Unleash/RawData/NTC/Raw_Data_Sources/2016/CZ/SK.csv'\n",
      "Data for DE to AT saved to '/home/ray/Dispa-SET_Unleash/RawData/NTC/Raw_Data_Sources/2016/DE/AT.csv'\n",
      "No matching data for DE to BE for the period 2016-01-01 00:00:00+01:00 to 2017-01-01 00:00:00+01:00. Skipping.\n",
      "Data for DE to CZ saved to '/home/ray/Dispa-SET_Unleash/RawData/NTC/Raw_Data_Sources/2016/DE/CZ.csv'\n",
      "Data for DE to DK saved to '/home/ray/Dispa-SET_Unleash/RawData/NTC/Raw_Data_Sources/2016/DE/DK.csv'\n",
      "Data for DE to FR saved to '/home/ray/Dispa-SET_Unleash/RawData/NTC/Raw_Data_Sources/2016/DE/FR.csv'\n",
      "No matching data for DE to LU for the period 2016-01-01 00:00:00+01:00 to 2017-01-01 00:00:00+01:00. Skipping.\n",
      "Data for DE to NL saved to '/home/ray/Dispa-SET_Unleash/RawData/NTC/Raw_Data_Sources/2016/DE/NL.csv'\n",
      "No matching data for DE to NO for the period 2016-01-01 00:00:00+01:00 to 2017-01-01 00:00:00+01:00. Skipping.\n",
      "Data for DE to PL saved to '/home/ray/Dispa-SET_Unleash/RawData/NTC/Raw_Data_Sources/2016/DE/PL.csv'\n",
      "Data for DE to SE saved to '/home/ray/Dispa-SET_Unleash/RawData/NTC/Raw_Data_Sources/2016/DE/SE.csv'\n",
      "Data for DE to CH saved to '/home/ray/Dispa-SET_Unleash/RawData/NTC/Raw_Data_Sources/2016/DE/CH.csv'\n",
      "Data for DK to DE saved to '/home/ray/Dispa-SET_Unleash/RawData/NTC/Raw_Data_Sources/2016/DK/DE.csv'\n",
      "No matching data for DK to NL for the period 2016-01-01 00:00:00+01:00 to 2017-01-01 00:00:00+01:00. Skipping.\n",
      "Data for DK to NO saved to '/home/ray/Dispa-SET_Unleash/RawData/NTC/Raw_Data_Sources/2016/DK/NO.csv'\n",
      "Data for DK to SE saved to '/home/ray/Dispa-SET_Unleash/RawData/NTC/Raw_Data_Sources/2016/DK/SE.csv'\n",
      "No matching data for DK to UK for the period 2016-01-01 00:00:00+01:00 to 2017-01-01 00:00:00+01:00. Skipping.\n",
      "Data for EE to FI saved to '/home/ray/Dispa-SET_Unleash/RawData/NTC/Raw_Data_Sources/2016/EE/FI.csv'\n",
      "Data for EE to LV saved to '/home/ray/Dispa-SET_Unleash/RawData/NTC/Raw_Data_Sources/2016/EE/LV.csv'\n",
      "Data for GR to BG saved to '/home/ray/Dispa-SET_Unleash/RawData/NTC/Raw_Data_Sources/2016/GR/BG.csv'\n",
      "Data for GR to IT saved to '/home/ray/Dispa-SET_Unleash/RawData/NTC/Raw_Data_Sources/2016/GR/IT.csv'\n",
      "Data for ES to FR saved to '/home/ray/Dispa-SET_Unleash/RawData/NTC/Raw_Data_Sources/2016/ES/FR.csv'\n",
      "Data for ES to PT saved to '/home/ray/Dispa-SET_Unleash/RawData/NTC/Raw_Data_Sources/2016/ES/PT.csv'\n",
      "Data for FI to EE saved to '/home/ray/Dispa-SET_Unleash/RawData/NTC/Raw_Data_Sources/2016/FI/EE.csv'\n",
      "Data for FI to NO saved to '/home/ray/Dispa-SET_Unleash/RawData/NTC/Raw_Data_Sources/2016/FI/NO.csv'\n",
      "Data for FI to SE saved to '/home/ray/Dispa-SET_Unleash/RawData/NTC/Raw_Data_Sources/2016/FI/SE.csv'\n",
      "Data for FR to BE saved to '/home/ray/Dispa-SET_Unleash/RawData/NTC/Raw_Data_Sources/2016/FR/BE.csv'\n",
      "Data for FR to DE saved to '/home/ray/Dispa-SET_Unleash/RawData/NTC/Raw_Data_Sources/2016/FR/DE.csv'\n",
      "Data for FR to IT saved to '/home/ray/Dispa-SET_Unleash/RawData/NTC/Raw_Data_Sources/2016/FR/IT.csv'\n",
      "Data for FR to ES saved to '/home/ray/Dispa-SET_Unleash/RawData/NTC/Raw_Data_Sources/2016/FR/ES.csv'\n",
      "Data for FR to CH saved to '/home/ray/Dispa-SET_Unleash/RawData/NTC/Raw_Data_Sources/2016/FR/CH.csv'\n",
      "Data for FR to UK saved to '/home/ray/Dispa-SET_Unleash/RawData/NTC/Raw_Data_Sources/2016/FR/UK.csv'\n",
      "Data for HR to HU saved to '/home/ray/Dispa-SET_Unleash/RawData/NTC/Raw_Data_Sources/2016/HR/HU.csv'\n",
      "Data for HR to SI saved to '/home/ray/Dispa-SET_Unleash/RawData/NTC/Raw_Data_Sources/2016/HR/SI.csv'\n",
      "Data for HU to AT saved to '/home/ray/Dispa-SET_Unleash/RawData/NTC/Raw_Data_Sources/2016/HU/AT.csv'\n",
      "Data for HU to HR saved to '/home/ray/Dispa-SET_Unleash/RawData/NTC/Raw_Data_Sources/2016/HU/HR.csv'\n",
      "Data for HU to RO saved to '/home/ray/Dispa-SET_Unleash/RawData/NTC/Raw_Data_Sources/2016/HU/RO.csv'\n",
      "Data for HU to SK saved to '/home/ray/Dispa-SET_Unleash/RawData/NTC/Raw_Data_Sources/2016/HU/SK.csv'\n",
      "No matching data for HU to SI for the period 2016-01-01 00:00:00+01:00 to 2017-01-01 00:00:00+01:00. Skipping.\n",
      "Data for IE to UK saved to '/home/ray/Dispa-SET_Unleash/RawData/NTC/Raw_Data_Sources/2016/IE/UK.csv'\n",
      "Data for IT to AT saved to '/home/ray/Dispa-SET_Unleash/RawData/NTC/Raw_Data_Sources/2016/IT/AT.csv'\n",
      "Data for IT to FR saved to '/home/ray/Dispa-SET_Unleash/RawData/NTC/Raw_Data_Sources/2016/IT/FR.csv'\n",
      "Data for IT to GR saved to '/home/ray/Dispa-SET_Unleash/RawData/NTC/Raw_Data_Sources/2016/IT/GR.csv'\n",
      "Data for IT to MT saved to '/home/ray/Dispa-SET_Unleash/RawData/NTC/Raw_Data_Sources/2016/IT/MT.csv'\n",
      "Data for IT to SI saved to '/home/ray/Dispa-SET_Unleash/RawData/NTC/Raw_Data_Sources/2016/IT/SI.csv'\n",
      "Data for IT to CH saved to '/home/ray/Dispa-SET_Unleash/RawData/NTC/Raw_Data_Sources/2016/IT/CH.csv'\n",
      "Data for LT to LV saved to '/home/ray/Dispa-SET_Unleash/RawData/NTC/Raw_Data_Sources/2016/LT/LV.csv'\n",
      "Data for LT to PL saved to '/home/ray/Dispa-SET_Unleash/RawData/NTC/Raw_Data_Sources/2016/LT/PL.csv'\n",
      "Data for LT to SE saved to '/home/ray/Dispa-SET_Unleash/RawData/NTC/Raw_Data_Sources/2016/LT/SE.csv'\n",
      "No matching data for LU to BE for the period 2016-01-01 00:00:00+01:00 to 2017-01-01 00:00:00+01:00. Skipping.\n",
      "No matching data for LU to DE for the period 2016-01-01 00:00:00+01:00 to 2017-01-01 00:00:00+01:00. Skipping.\n",
      "Data for LV to EE saved to '/home/ray/Dispa-SET_Unleash/RawData/NTC/Raw_Data_Sources/2016/LV/EE.csv'\n",
      "Data for LV to LT saved to '/home/ray/Dispa-SET_Unleash/RawData/NTC/Raw_Data_Sources/2016/LV/LT.csv'\n",
      "Data for MT to IT saved to '/home/ray/Dispa-SET_Unleash/RawData/NTC/Raw_Data_Sources/2016/MT/IT.csv'\n",
      "Data for NL to BE saved to '/home/ray/Dispa-SET_Unleash/RawData/NTC/Raw_Data_Sources/2016/NL/BE.csv'\n",
      "No matching data for NL to DK for the period 2016-01-01 00:00:00+01:00 to 2017-01-01 00:00:00+01:00. Skipping.\n",
      "Data for NL to DE saved to '/home/ray/Dispa-SET_Unleash/RawData/NTC/Raw_Data_Sources/2016/NL/DE.csv'\n",
      "Data for NL to NO saved to '/home/ray/Dispa-SET_Unleash/RawData/NTC/Raw_Data_Sources/2016/NL/NO.csv'\n",
      "Data for NL to UK saved to '/home/ray/Dispa-SET_Unleash/RawData/NTC/Raw_Data_Sources/2016/NL/UK.csv'\n",
      "Data for NO to DK saved to '/home/ray/Dispa-SET_Unleash/RawData/NTC/Raw_Data_Sources/2016/NO/DK.csv'\n",
      "Data for NO to FI saved to '/home/ray/Dispa-SET_Unleash/RawData/NTC/Raw_Data_Sources/2016/NO/FI.csv'\n",
      "No matching data for NO to DE for the period 2016-01-01 00:00:00+01:00 to 2017-01-01 00:00:00+01:00. Skipping.\n",
      "Data for NO to NL saved to '/home/ray/Dispa-SET_Unleash/RawData/NTC/Raw_Data_Sources/2016/NO/NL.csv'\n",
      "Data for NO to SE saved to '/home/ray/Dispa-SET_Unleash/RawData/NTC/Raw_Data_Sources/2016/NO/SE.csv'\n",
      "No matching data for NO to UK for the period 2016-01-01 00:00:00+01:00 to 2017-01-01 00:00:00+01:00. Skipping.\n",
      "Data for PL to CZ saved to '/home/ray/Dispa-SET_Unleash/RawData/NTC/Raw_Data_Sources/2016/PL/CZ.csv'\n",
      "Data for PL to DE saved to '/home/ray/Dispa-SET_Unleash/RawData/NTC/Raw_Data_Sources/2016/PL/DE.csv'\n",
      "Data for PL to LT saved to '/home/ray/Dispa-SET_Unleash/RawData/NTC/Raw_Data_Sources/2016/PL/LT.csv'\n",
      "Data for PL to SK saved to '/home/ray/Dispa-SET_Unleash/RawData/NTC/Raw_Data_Sources/2016/PL/SK.csv'\n",
      "Data for PL to SE saved to '/home/ray/Dispa-SET_Unleash/RawData/NTC/Raw_Data_Sources/2016/PL/SE.csv'\n",
      "Data for PT to ES saved to '/home/ray/Dispa-SET_Unleash/RawData/NTC/Raw_Data_Sources/2016/PT/ES.csv'\n",
      "Data for RO to BG saved to '/home/ray/Dispa-SET_Unleash/RawData/NTC/Raw_Data_Sources/2016/RO/BG.csv'\n",
      "Data for RO to HU saved to '/home/ray/Dispa-SET_Unleash/RawData/NTC/Raw_Data_Sources/2016/RO/HU.csv'\n",
      "Data for SE to DK saved to '/home/ray/Dispa-SET_Unleash/RawData/NTC/Raw_Data_Sources/2016/SE/DK.csv'\n",
      "Data for SE to FI saved to '/home/ray/Dispa-SET_Unleash/RawData/NTC/Raw_Data_Sources/2016/SE/FI.csv'\n",
      "Data for SE to DE saved to '/home/ray/Dispa-SET_Unleash/RawData/NTC/Raw_Data_Sources/2016/SE/DE.csv'\n",
      "Data for SE to LT saved to '/home/ray/Dispa-SET_Unleash/RawData/NTC/Raw_Data_Sources/2016/SE/LT.csv'\n",
      "Data for SE to NO saved to '/home/ray/Dispa-SET_Unleash/RawData/NTC/Raw_Data_Sources/2016/SE/NO.csv'\n",
      "Data for SE to PL saved to '/home/ray/Dispa-SET_Unleash/RawData/NTC/Raw_Data_Sources/2016/SE/PL.csv'\n",
      "Data for SI to AT saved to '/home/ray/Dispa-SET_Unleash/RawData/NTC/Raw_Data_Sources/2016/SI/AT.csv'\n",
      "Data for SI to HR saved to '/home/ray/Dispa-SET_Unleash/RawData/NTC/Raw_Data_Sources/2016/SI/HR.csv'\n",
      "No matching data for SI to HU for the period 2016-01-01 00:00:00+01:00 to 2017-01-01 00:00:00+01:00. Skipping.\n",
      "Data for SI to IT saved to '/home/ray/Dispa-SET_Unleash/RawData/NTC/Raw_Data_Sources/2016/SI/IT.csv'\n",
      "Data for SK to CZ saved to '/home/ray/Dispa-SET_Unleash/RawData/NTC/Raw_Data_Sources/2016/SK/CZ.csv'\n",
      "Data for SK to HU saved to '/home/ray/Dispa-SET_Unleash/RawData/NTC/Raw_Data_Sources/2016/SK/HU.csv'\n",
      "Data for SK to PL saved to '/home/ray/Dispa-SET_Unleash/RawData/NTC/Raw_Data_Sources/2016/SK/PL.csv'\n",
      "No matching data for UK to BE for the period 2016-01-01 00:00:00+01:00 to 2017-01-01 00:00:00+01:00. Skipping.\n",
      "No matching data for UK to DK for the period 2016-01-01 00:00:00+01:00 to 2017-01-01 00:00:00+01:00. Skipping.\n",
      "Data for UK to FR saved to '/home/ray/Dispa-SET_Unleash/RawData/NTC/Raw_Data_Sources/2016/UK/FR.csv'\n",
      "Data for UK to IE saved to '/home/ray/Dispa-SET_Unleash/RawData/NTC/Raw_Data_Sources/2016/UK/IE.csv'\n",
      "Data for UK to NL saved to '/home/ray/Dispa-SET_Unleash/RawData/NTC/Raw_Data_Sources/2016/UK/NL.csv'\n",
      "No matching data for UK to NO for the period 2016-01-01 00:00:00+01:00 to 2017-01-01 00:00:00+01:00. Skipping.\n",
      "All data has been processed and saved.\n"
     ]
    }
   ],
   "source": [
    "# Define the start and end timestamps using the data_year variable\n",
    "start = pd.Timestamp(f'{data_year}0101', tz='Europe/Brussels')\n",
    "end = pd.Timestamp(f'{data_year_1}0101', tz='Europe/Brussels')\n",
    "\n",
    "# Read the CSV file into a DataFrame\n",
    "df = pd.read_csv(ntc_country_list_file)\n",
    "\n",
    "# Ensure the necessary columns exist\n",
    "required_columns = ['Country_From', 'Country_Folder'] + [f'Neighbor_{i}' for i in range(1, 12)]\n",
    "for col in required_columns:\n",
    "    if col not in df.columns:\n",
    "        raise ValueError(f\"Column '{col}' does not exist in the CSV file\")\n",
    "\n",
    "# Iterate through each row in the DataFrame\n",
    "for index, row in df.iterrows():\n",
    "    country_code_from = row['Country_From']\n",
    "    country_folder = row['Country_Folder']\n",
    "    \n",
    "    # Create the directory if it does not exist\n",
    "    os.makedirs(country_folder, exist_ok=True)\n",
    "    \n",
    "    # Iterate through each neighbor column\n",
    "    for neighbor_col in [f'Neighbor_{i}' for i in range(1, 12)]:\n",
    "        country_code_to = row[neighbor_col]\n",
    "        \n",
    "        # Skip if the neighbor field is empty\n",
    "        if pd.isna(country_code_to):\n",
    "            continue\n",
    "        \n",
    "        try:\n",
    "            # Query crossborder flows\n",
    "            net_transfer = client.query_crossborder_flows(\n",
    "                country_code_from, country_code_to, start=start, end=end\n",
    "            )\n",
    "            \n",
    "            # Convert the index to a column\n",
    "            net_transfer = net_transfer.reset_index()\n",
    "            \n",
    "            # Define the output file path\n",
    "            output_file = os.path.join(country_folder, f'{country_code_to}.csv')\n",
    "            \n",
    "            # Save the DataFrame to a CSV file, including the index as a column\n",
    "            net_transfer.to_csv(output_file, index=False)\n",
    "\n",
    "            print(f\"Data for {country_code_from} to {country_code_to} saved to '{output_file}'\")\n",
    "        \n",
    "        except NoMatchingDataError:\n",
    "            print(f\"No matching data for {country_code_from} to {country_code_to} for the period {start} to {end}. Skipping.\")\n",
    "\n",
    "print(\"All data has been processed and saved.\")"
   ]
  },
  {
   "cell_type": "markdown",
   "id": "6e5ded76-5dac-4b90-8c00-3f4a55b43b66",
   "metadata": {},
   "source": [
    "<div style=\"text-align: justify; margin-left: 0.0em; font-weight: unbold; font-size: 14px; font-family: TimesNewRoman;color:skyblue\">\n",
    "Cleaning folders. \n",
    "</div>"
   ]
  },
  {
   "cell_type": "code",
   "execution_count": 13,
   "id": "7db281ba-1230-4c91-b66b-fdd241cce424",
   "metadata": {},
   "outputs": [
    {
     "name": "stdout",
     "output_type": "stream",
     "text": [
      "File erased: /home/ray/Dispa-SET_Unleash/RawData/NTC/country_list.csv\n"
     ]
    }
   ],
   "source": [
    "def erase_csv_file(file_path):\n",
    "  \"\"\"Erases a CSV file.\n",
    "\n",
    "  Args:\n",
    "    file_path: The path to the CSV file.\n",
    "  \"\"\"\n",
    "\n",
    "  if os.path.exists(file_path):\n",
    "    os.remove(file_path)\n",
    "    print(f\"File erased: {file_path}\")\n",
    "  else:\n",
    "    print(f\"File does not exist: {file_path}\")\n",
    "\n",
    "# Example usage:\n",
    "file_path = ntc_country_list_file\n",
    "erase_csv_file(file_path)"
   ]
  },
  {
   "cell_type": "markdown",
   "id": "df7a3349-6516-40ef-8ba0-8ec712aa6fca",
   "metadata": {},
   "source": [
    "<div style=\"text-align: justify; margin-left: 0.0em; font-weight: unbold; font-size: 14px; font-family: TimesNewRoman; color:skyblue\">\n",
    "All the raw data files are storage in the following local directory inside a subfolde named as the value defined by 'data_year' variable. \n",
    "</div>\n",
    "<div style=\"text-align: justify; margin-left: 2.0em; font-weight: unbold; font-size: 13px; font-family: TimesNewRoman; color:skyblue\">\n",
    "/local/directory/to/Dispa-SET_Unleash/RawData/NTC/Raw_Data_Sources\n",
    "</div>"
   ]
  }
 ],
 "metadata": {
  "kernelspec": {
   "display_name": "Python 3 (Spyder)",
   "language": "python3",
   "name": "python3"
  },
  "language_info": {
   "codemirror_mode": {
    "name": "ipython",
    "version": 3
   },
   "file_extension": ".py",
   "mimetype": "text/x-python",
   "name": "python",
   "nbconvert_exporter": "python",
   "pygments_lexer": "ipython3",
   "version": "3.11.7"
  }
 },
 "nbformat": 4,
 "nbformat_minor": 5
}
