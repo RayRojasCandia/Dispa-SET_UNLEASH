{
 "cells": [
  {
   "cell_type": "markdown",
   "id": "93a4aa19-ec88-49c9-9e05-f0ad258876e4",
   "metadata": {},
   "source": [
    "<div style=\"text-align: center; margin-left: 0em; font-weight: bold; font-size: 20px; font-family: TimesNewRoman;\">\n",
    "    TIME SERIES DATA PROCESSING | OUTAGE FACTORS - Downloading Notebook\n",
    "</div>"
   ]
  },
  {
   "cell_type": "code",
   "execution_count": 1,
   "id": "a590ae9c-56f6-4dbf-a4f4-9f39b4fa21eb",
   "metadata": {},
   "outputs": [],
   "source": [
    "import pandas as pd\n",
    "from entsoe import EntsoePandasClient\n",
    "import os\n",
    "\n",
    "client = EntsoePandasClient(api_key='61e5bbbb-7e80-4540-a471-bd993873aa74')"
   ]
  },
  {
   "cell_type": "code",
   "execution_count": 2,
   "id": "8926675d-6398-4db7-80cd-42c829b7b0e1",
   "metadata": {},
   "outputs": [
    {
     "name": "stdout",
     "output_type": "stream",
     "text": [
      "dispaSET_unleash_folder_name: Dispa-SET_Unleash\n",
      "dispaSET_unleash_folder_path: /home/ray/Dispa-SET_Unleash\n"
     ]
    }
   ],
   "source": [
    "# Get the current working directory\n",
    "current_directory = os.getcwd()\n",
    "\n",
    "# Navigate to the parent directory of \"Dispa-SET_Unleash\"\n",
    "dispaSET_unleash_parent_directory = os.path.dirname(current_directory)\n",
    "\n",
    "# Get the path to the \"Dispa-SET_Unleash\" folder\n",
    "dispaSET_unleash_folder_path = os.path.dirname(dispaSET_unleash_parent_directory)\n",
    "\n",
    "# Construct the dispaSET_unleash_folder_name variable\n",
    "dispaSET_unleash_folder_name = os.path.basename(dispaSET_unleash_folder_path)\n",
    "\n",
    "print(\"dispaSET_unleash_folder_name:\", dispaSET_unleash_folder_name)\n",
    "print(\"dispaSET_unleash_folder_path:\", dispaSET_unleash_folder_path)"
   ]
  },
  {
   "cell_type": "code",
   "execution_count": 3,
   "id": "7fe94548-6223-4ace-9793-b857b53e2ad8",
   "metadata": {},
   "outputs": [
    {
     "name": "stdout",
     "output_type": "stream",
     "text": [
      "reference_data_folder_path: /home/ray/Dispa-SET_Unleash/RawData/OutageFactors/\n",
      "outage_factor_folder_path: /home/ray/Dispa-SET_Unleash/RawData/OutageFactors/\n",
      "outage_factors_raw_data_folder_path: /home/ray/Dispa-SET_Unleash/RawData/OutageFactors/Raw_Data_Sources\n"
     ]
    }
   ],
   "source": [
    "# Additional string to be appended\n",
    "additional_path = \"/RawData/OutageFactors/\"\n",
    "additional_path_1 = \"/RawData/OutageFactors/Raw_Data_Sources\"\n",
    "\n",
    "# Construct the standard_time_data_folder_path variable\n",
    "reference_data_folder_path = dispaSET_unleash_folder_path + additional_path\n",
    "\n",
    "# Construct the Outage_Factors_folder_path variable\n",
    "outage_factor_folder_path = dispaSET_unleash_folder_path + additional_path\n",
    "\n",
    "# Construct the Outage_Factors_Raw_Data_folder_path variable\n",
    "outage_factors_raw_data_folder_path = dispaSET_unleash_folder_path + additional_path_1\n",
    "\n",
    "\n",
    "print(\"reference_data_folder_path:\", reference_data_folder_path)\n",
    "print(\"outage_factor_folder_path:\", outage_factor_folder_path)\n",
    "print(\"outage_factors_raw_data_folder_path:\", outage_factors_raw_data_folder_path)"
   ]
  },
  {
   "cell_type": "code",
   "execution_count": 4,
   "id": "17cff013-7efc-43b0-a572-8f32f1f9a920",
   "metadata": {},
   "outputs": [],
   "source": [
    "# Year to which data refers to:\n",
    "data_year = 2023"
   ]
  },
  {
   "cell_type": "code",
   "execution_count": 5,
   "id": "9485328c-cd02-43c9-a78d-ad5c22cff2af",
   "metadata": {},
   "outputs": [],
   "source": [
    "# Define a list of country codes\n",
    "country_list = [\"DE\", \"DK\", \"EE\", \"EL\", \"ES\", \"FI\", \"FR\", \"HR\", \"HU\", \n",
    "                \"IE\", \"IT\", \"LT\", \"LU\", \"LV\", \"MT\", \"NL\", \"NO\", \"PL\", \"PT\", \"RO\", \"SE\", \"SI\", \"SK\", \"UK\"]"
   ]
  },
  {
   "cell_type": "code",
   "execution_count": null,
   "id": "b54c2272-8686-4a84-987d-2294db126ed1",
   "metadata": {},
   "outputs": [],
   "source": [
    "# Define other parameters\n",
    "type_marketagreement_type = 'A01'\n",
    "contract_marketagreement_type = \"A01\"\n",
    "process_type = 'A51'\n",
    "\n",
    "# Define the path to the outage factors raw data folder\n",
    "outage_factors_raw_data_folder_path = f'/home/ray/Dispa-SET_Unleash/RawData/OutageFactors/Raw_Data_Sources/{data_year}/'\n",
    "\n",
    "# Create the directory if it doesn't exist\n",
    "os.makedirs(outage_factors_raw_data_folder_path, exist_ok=True)\n",
    "\n",
    "# Initialize variable to store headers\n",
    "headers = None\n",
    "\n",
    "# Iterate over each country code\n",
    "for country_code in country_list:\n",
    "    # Define the start and end timestamps for the year\n",
    "    start = pd.Timestamp(str(data_year) + '0101', tz='Europe/Brussels')\n",
    "    end = pd.Timestamp(str(data_year) + '1231', tz='Europe/Brussels')\n",
    "\n",
    "    # Query unavailability of generation units for the current country code\n",
    "    query_unavailability_of_generation_units = client.query_unavailability_of_generation_units(country_code, start=start, end=end, docstatus=None, periodstartupdate=None, periodendupdate=None)\n",
    "    \n",
    "    # Check if the resulting DataFrame is empty\n",
    "    if not query_unavailability_of_generation_units.empty:\n",
    "        # Define the output file path using the country code\n",
    "        output_file_path = f'{outage_factors_raw_data_folder_path}{country_code}.csv'\n",
    "        \n",
    "        # Save the queried data to a CSV file\n",
    "        query_unavailability_of_generation_units.to_csv(output_file_path, index=False)\n",
    "        \n",
    "        # Update headers if needed\n",
    "        headers = query_unavailability_of_generation_units.columns\n",
    "    else:\n",
    "        # If the DataFrame is empty, create an empty CSV file with the same headers as the last file saved\n",
    "        if headers is not None:\n",
    "            empty_csv_path = f'{outage_factors_raw_data_folder_path}{country_code}.csv'\n",
    "            pd.DataFrame(columns=headers).to_csv(empty_csv_path, index=False)\n"
   ]
  },
  {
   "cell_type": "code",
   "execution_count": null,
   "id": "2ab80628-c3e3-4f28-9d6a-09deb0c19252",
   "metadata": {},
   "outputs": [],
   "source": []
  },
  {
   "cell_type": "code",
   "execution_count": null,
   "id": "315efda5-3a9d-4993-8ccd-600ccc8e42a5",
   "metadata": {},
   "outputs": [],
   "source": []
  }
 ],
 "metadata": {
  "kernelspec": {
   "display_name": "Python 3 (ipykernel)",
   "language": "python",
   "name": "python3"
  },
  "language_info": {
   "codemirror_mode": {
    "name": "ipython",
    "version": 3
   },
   "file_extension": ".py",
   "mimetype": "text/x-python",
   "name": "python",
   "nbconvert_exporter": "python",
   "pygments_lexer": "ipython3",
   "version": "3.11.7"
  }
 },
 "nbformat": 4,
 "nbformat_minor": 5
}
