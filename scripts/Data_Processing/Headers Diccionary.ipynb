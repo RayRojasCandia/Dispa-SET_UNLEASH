{
 "cells": [
  {
   "cell_type": "markdown",
   "id": "d670a5bc-9c9e-4a1d-a4ef-f0468120d525",
   "metadata": {},
   "source": [
    "POWER PLANTS EQUIVALENT HEADERS DATA"
   ]
  },
  {
   "cell_type": "markdown",
   "id": "b2735e01-eb38-431f-adbc-f1ba7b3d7ddc",
   "metadata": {},
   "source": [
    "Creating the csv file with the appropiated headers"
   ]
  },
  {
   "cell_type": "markdown",
   "id": "2bb8ab1c-4852-450a-bc3a-38d2654bad88",
   "metadata": {},
   "source": [
    "Enter the file path and the file name of the Headers file"
   ]
  },
  {
   "cell_type": "code",
   "execution_count": 1,
   "id": "00993821-6227-4ccb-a515-d5fc10fcbfde",
   "metadata": {},
   "outputs": [],
   "source": [
    "power_plants_clean_data_headers_file_name = 'power_plants_clean_data_headers.csv'\n",
    "power_plants_clean_data_headers_file_path = '/home/ray/Dispa-SET_Unleash/RawData/PowerPlants/power_plants_clean_data_headers.csv'\n",
    "power_plants_clean_data_headers = [' ', 'Unit', 'PowerCapacity', 'Nunits', 'Zone', 'Zone_th', 'Zone_h2', 'Technology', 'Fuel', 'Efficiency', 'MinUpTime', 'MinDownTime', 'RampUpRate', 'RampDownRate', 'StartUpCost', 'NoLoadCost_pu', 'RampingCost', 'PartLoadMin', 'MinEfficiency', 'StartUpTime', 'CO2Intensity', 'CHPType', 'CHPPowerToHeat', 'CHPPowerLossFactor', 'CHPMaxHeat', 'COP', 'Tnominal', 'coef_COP_a', 'coef_COP_b', 'STOCapacity', 'STOSelfDischarge', 'STOMaxChargingPower', 'STOChargingEfficiency', 'WaterWithdrawal', 'WaterConsumption', 'Status', 'Source']"
   ]
  },
  {
   "cell_type": "markdown",
   "id": "e008c0f5-03e5-4bae-b45a-91ce1524b38a",
   "metadata": {},
   "source": [
    "Creating the power_plants_clean_data_headers_file"
   ]
  },
  {
   "cell_type": "code",
   "execution_count": 2,
   "id": "c2f0829c-ddc6-45dc-bf6d-ba5c654f755d",
   "metadata": {},
   "outputs": [
    {
     "name": "stdout",
     "output_type": "stream",
     "text": [
      "CSV file with headers created at: /home/ray/Dispa-SET_Unleash/RawData/PowerPlants/power_plants_clean_data_headers.csv\n"
     ]
    }
   ],
   "source": [
    "import pandas as pd\n",
    "\n",
    "# Create a DataFrame with headers\n",
    "df = pd.DataFrame(columns=power_plants_clean_data_headers)\n",
    "\n",
    "# Write the DataFrame to a CSV file\n",
    "df.to_csv(power_plants_clean_data_headers_file_path, index=False)\n",
    "\n",
    "print(f\"CSV file with headers created at: {power_plants_clean_data_headers_file_path}\")\n"
   ]
  },
  {
   "cell_type": "code",
   "execution_count": 3,
   "id": "42213109-2222-4ca1-90cc-f076b119e466",
   "metadata": {},
   "outputs": [
    {
     "name": "stdout",
     "output_type": "stream",
     "text": [
      "power_plants_clean_data_headers_file_name: power_plants_clean_data_headers.csv\n",
      "power_plants_clean_data_headers_file_path: /home/ray/Dispa-SET_Unleash/RawData/PowerPlants/power_plants_clean_data_headers.csv\n"
     ]
    }
   ],
   "source": [
    "print (f\"power_plants_clean_data_headers_file_name: {power_plants_clean_data_headers_file_name}\\npower_plants_clean_data_headers_file_path: {power_plants_clean_data_headers_file_path}\")"
   ]
  },
  {
   "cell_type": "markdown",
   "id": "da8e19db-b6b8-4988-aa8c-24718b769807",
   "metadata": {},
   "source": [
    "Introduce the features of the file wanted to identify the headers"
   ]
  },
  {
   "cell_type": "code",
   "execution_count": 4,
   "id": "646d967f-cc16-4afa-add5-9d943efece62",
   "metadata": {},
   "outputs": [],
   "source": [
    "power_plants_raw_data_file_path = '/home/ray/Dispa-SET_Unleash/RawData/PowerPlants/DE/2020-01.csv'\n",
    "power_plants_raw_data_file_name = '2020-01.csv'"
   ]
  },
  {
   "cell_type": "code",
   "execution_count": 5,
   "id": "e7faac56-93ef-4be9-87b6-82c9300a61fa",
   "metadata": {},
   "outputs": [
    {
     "name": "stdout",
     "output_type": "stream",
     "text": [
      "power_plants_clean_data_headers_file_name: power_plants_clean_data_headers.csv\n",
      "power_plants_clean_data_headers_file_path: /home/ray/Dispa-SET_Unleash/RawData/PowerPlants/power_plants_clean_data_headers.csv\n",
      "npower_plants_raw_data_file_path: /home/ray/Dispa-SET_Unleash/RawData/PowerPlants/DE/2020-01.csv\n",
      "power_plants_raw_data_file_name: 2020-01.csv\n"
     ]
    }
   ],
   "source": [
    "print (f\"power_plants_clean_data_headers_file_name: {power_plants_clean_data_headers_file_name}\\npower_plants_clean_data_headers_file_path: {power_plants_clean_data_headers_file_path}\\nnpower_plants_raw_data_file_path: {power_plants_raw_data_file_path}\\npower_plants_raw_data_file_name: {power_plants_raw_data_file_name}\")"
   ]
  },
  {
   "cell_type": "markdown",
   "id": "59b6794a-970a-48ae-8402-0091971bbde9",
   "metadata": {},
   "source": [
    "Watching the headers of the raw data"
   ]
  },
  {
   "cell_type": "code",
   "execution_count": 19,
   "id": "bd1db7a2-0b94-4715-a263-b7181d4fbc90",
   "metadata": {},
   "outputs": [
    {
     "data": {
      "text/plain": [
       "Index(['name', 'company', 'street', 'postcode', 'city', 'country', 'capacity',\n",
       "       'energy_source', 'technology', 'chp', 'commissioned', 'type', 'lat',\n",
       "       'lon', 'eic_code', 'energy_source_level_1', 'energy_source_level_2',\n",
       "       'energy_source_level_3', 'additional_info', 'comment', 'source'],\n",
       "      dtype='object')"
      ]
     },
     "execution_count": 19,
     "metadata": {},
     "output_type": "execute_result"
    }
   ],
   "source": [
    "import pandas as pd\n",
    "df = pd.read_csv(power_plants_raw_data_file_path)\n",
    "df.columns"
   ]
  },
  {
   "cell_type": "code",
   "execution_count": 20,
   "id": "2865b724-0279-4cd9-806a-9d64b2dea38d",
   "metadata": {},
   "outputs": [
    {
     "data": {
      "text/plain": [
       "Index([' ', 'Unit', 'PowerCapacity', 'Nunits', 'Zone', 'Zone_th', 'Zone_h2',\n",
       "       'Technology', 'Fuel', 'Efficiency', 'MinUpTime', 'MinDownTime',\n",
       "       'RampUpRate', 'RampDownRate', 'StartUpCost', 'NoLoadCost_pu',\n",
       "       'RampingCost', 'PartLoadMin', 'MinEfficiency', 'StartUpTime',\n",
       "       'CO2Intensity', 'CHPType', 'CHPPowerToHeat', 'CHPPowerLossFactor',\n",
       "       'CHPMaxHeat', 'COP', 'Tnominal', 'coef_COP_a', 'coef_COP_b',\n",
       "       'STOCapacity', 'STOSelfDischarge', 'STOMaxChargingPower',\n",
       "       'STOChargingEfficiency', 'WaterWithdrawal', 'WaterConsumption',\n",
       "       'Status', 'Source'],\n",
       "      dtype='object')"
      ]
     },
     "execution_count": 20,
     "metadata": {},
     "output_type": "execute_result"
    }
   ],
   "source": [
    "import pandas as pd\n",
    "df0 = pd.read_csv(power_plants_clean_data_headers_file_path)\n",
    "df0.columns"
   ]
  },
  {
   "cell_type": "markdown",
   "id": "2443cd07-34bb-40de-9059-fd04bbe0c954",
   "metadata": {},
   "source": [
    "Creating the headers dictionary"
   ]
  },
  {
   "cell_type": "code",
   "execution_count": 16,
   "id": "8a5a3d3e-1873-4dcf-86a9-c2ca77037138",
   "metadata": {},
   "outputs": [
    {
     "name": "stdout",
     "output_type": "stream",
     "text": [
      "power_plants_clean_data_equivalent_headers CSV file saved at: /home/ray/Dispa-SET_Unleash/RawData/PowerPlants/power_plants_clean_data_equivalent_headers.csv\n"
     ]
    }
   ],
   "source": [
    "import pandas as pd\n",
    "\n",
    "# Read the CSV file into a DataFrame\n",
    "df = pd.read_csv(power_plants_clean_data_headers_file_path)\n",
    "\n",
    "# Transpose the DataFrame to convert rows to columns\n",
    "power_plants_clean_data_equivalent_headers = df.transpose()\n",
    "\n",
    "# Define the file path for the transposed CSV file\n",
    "power_plants_clean_data_equivalent_headers_file_path = '/home/ray/Dispa-SET_Unleash/RawData/PowerPlants/power_plants_clean_data_equivalent_headers.csv'\n",
    "\n",
    "# Save the transposed DataFrame to a CSV file\n",
    "power_plants_clean_data_equivalent_headers.to_csv(power_plants_clean_data_equivalent_headers_file_path)\n",
    "\n",
    "print(f\"power_plants_clean_data_equivalent_headers CSV file saved at: {power_plants_clean_data_equivalent_headers_file_path}\")"
   ]
  },
  {
   "cell_type": "code",
   "execution_count": 43,
   "id": "0626806f-4069-48b8-a5ac-42f975eeac94",
   "metadata": {},
   "outputs": [
    {
     "name": "stdout",
     "output_type": "stream",
     "text": [
      "<class 'pandas.core.frame.DataFrame'>\n",
      "RangeIndex: 37 entries, 0 to 36\n",
      "Data columns (total 2 columns):\n",
      " #   Column              Non-Null Count  Dtype \n",
      "---  ------              --------------  ----- \n",
      " 0   Dispaset_Headers    37 non-null     object\n",
      " 1   Equivalent_Headers  7 non-null      object\n",
      "dtypes: object(2)\n",
      "memory usage: 724.0+ bytes\n"
     ]
    }
   ],
   "source": [
    "import pandas as pd\n",
    "df1 = pd.read_csv(power_plants_clean_data_equivalent_headers_file_path)\n",
    "df1.info()"
   ]
  },
  {
   "cell_type": "code",
   "execution_count": null,
   "id": "b20e233c-5a24-4d9e-a6d9-c1d6b89b320a",
   "metadata": {},
   "outputs": [],
   "source": []
  }
 ],
 "metadata": {
  "kernelspec": {
   "display_name": "Python 3 (Spyder)",
   "language": "python3",
   "name": "python3"
  },
  "language_info": {
   "codemirror_mode": {
    "name": "ipython",
    "version": 3
   },
   "file_extension": ".py",
   "mimetype": "text/x-python",
   "name": "python",
   "nbconvert_exporter": "python",
   "pygments_lexer": "ipython3",
   "version": "3.11.7"
  }
 },
 "nbformat": 4,
 "nbformat_minor": 5
}
