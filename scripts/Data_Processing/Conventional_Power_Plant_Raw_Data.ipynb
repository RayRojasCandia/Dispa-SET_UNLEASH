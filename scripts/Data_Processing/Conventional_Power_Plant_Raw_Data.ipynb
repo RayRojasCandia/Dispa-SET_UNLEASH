{
 "cells": [
  {
   "cell_type": "markdown",
   "id": "7b8a6ae0-52c7-4b71-98fd-ba1e2e036644",
   "metadata": {},
   "source": [
    "EUROPEAN CONVENTIONAL POWER PLANTS DATA FROM THE \"OPEN POWER SYSTEM DATA\" PORTAL WEB"
   ]
  },
  {
   "cell_type": "markdown",
   "id": "f9a49a40-628b-4d9a-ba15-950f6e5e9e8d",
   "metadata": {},
   "source": [
    "Importing libraries"
   ]
  },
  {
   "cell_type": "code",
   "execution_count": 1,
   "id": "d1709b10-c42e-4b30-bb47-66d49826dbab",
   "metadata": {},
   "outputs": [],
   "source": [
    "import os\n",
    "import requests"
   ]
  },
  {
   "cell_type": "code",
   "execution_count": 2,
   "id": "df756402-4ffd-4080-9937-c60b43c3a4c4",
   "metadata": {},
   "outputs": [],
   "source": [
    "import requests"
   ]
  },
  {
   "cell_type": "markdown",
   "id": "1c6c7bcb-a50d-4a80-be73-7bb40a90f6c0",
   "metadata": {},
   "source": [
    "Defining the download directory. Modify this path and replace it with the desired directory"
   ]
  },
  {
   "cell_type": "code",
   "execution_count": 3,
   "id": "1d950139-349c-4eea-a516-9c9d7b8fa9c1",
   "metadata": {},
   "outputs": [],
   "source": [
    "download_dir = \"/home/ray/Dispa-SET_Unleash/RawData/PowerPlants\"  "
   ]
  },
  {
   "cell_type": "markdown",
   "id": "c31b251d-069d-441e-a2e7-f273c0b33207",
   "metadata": {},
   "source": [
    "Defining the URL of the wanted file to be downloaded. Replace with the actual URL"
   ]
  },
  {
   "cell_type": "code",
   "execution_count": 4,
   "id": "9521b5dc-bd3b-42bd-8438-481f568502f6",
   "metadata": {},
   "outputs": [],
   "source": [
    "url = \"https://data.open-power-system-data.org/conventional_power_plants/2020-10-01/conventional_power_plants_EU.csv\"  "
   ]
  },
  {
   "cell_type": "markdown",
   "id": "d1887d2e-fa35-4723-9817-687624ce74e1",
   "metadata": {},
   "source": [
    "Sending a GET request to the URL"
   ]
  },
  {
   "cell_type": "code",
   "execution_count": 5,
   "id": "2ef5120c-3dd9-44d4-a805-0b9de86ce41f",
   "metadata": {},
   "outputs": [],
   "source": [
    "response = requests.get(url)"
   ]
  },
  {
   "cell_type": "markdown",
   "id": "a4366694-ee80-4695-b373-b6913811ccac",
   "metadata": {},
   "source": [
    "Checking if the request was successful. Downloading the required file. Printing a succes or error message"
   ]
  },
  {
   "cell_type": "code",
   "execution_count": 6,
   "id": "6fb158b9-8fc0-4af1-9708-586ff9d756a3",
   "metadata": {},
   "outputs": [
    {
     "name": "stdout",
     "output_type": "stream",
     "text": [
      "File downloaded successfully: /home/ray/Dispa-SET_Unleash/RawData/PowerPlants/conventional_power_plants_EU2.csv\n"
     ]
    }
   ],
   "source": [
    "if response.status_code == 200:\n",
    "  # Get the filename from the response headers (optional)\n",
    "  filename = response.headers.get('Content-Disposition')\n",
    "  if filename:\n",
    "    filename = filename.split(\"filename=\")[1].strip('\"')\n",
    "  else:\n",
    "    # Use a default filename if not provided\n",
    "    filename, ext = os.path.splitext(\"conventional_power_plants_EU.csv\")  # Separate filename and extension\n",
    "\n",
    "  # Add number suffix to avoid overwriting (if needed)\n",
    "  counter = 1\n",
    "  while os.path.isfile(os.path.join(download_dir, f\"{filename}{counter}{ext}\")):\n",
    "    counter += 1\n",
    "\n",
    "  filename = f\"{filename}{counter}{ext}\"  # Update filename with counter\n",
    "\n",
    "  # Construct the full path to the downloaded file\n",
    "  full_filepath = os.path.join(download_dir, filename)\n",
    "\n",
    "  # Write the downloaded content to a file\n",
    "  with open(full_filepath, 'wb') as f:\n",
    "    f.write(response.content)\n",
    "  \n",
    "  print(f\"File downloaded successfully: {full_filepath}\")\n",
    "else:\n",
    "  print(f\"Error downloading file: {response.status_code}\")"
   ]
  }
 ],
 "metadata": {
  "kernelspec": {
   "display_name": "Python 3 (Spyder)",
   "language": "python3",
   "name": "python3"
  },
  "language_info": {
   "codemirror_mode": {
    "name": "ipython",
    "version": 3
   },
   "file_extension": ".py",
   "mimetype": "text/x-python",
   "name": "python",
   "nbconvert_exporter": "python",
   "pygments_lexer": "ipython3",
   "version": "3.10.13"
  }
 },
 "nbformat": 4,
 "nbformat_minor": 5
}
