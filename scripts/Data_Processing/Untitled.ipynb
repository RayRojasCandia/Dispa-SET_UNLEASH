{
 "cells": [
  {
   "cell_type": "code",
   "execution_count": 4,
   "id": "156af5f6-35db-406a-903f-02bf2293c69b",
   "metadata": {},
   "outputs": [],
   "source": [
    "power_plants_raw_data_folder_path = '/home/ray/Dispa-SET_Unleash/RawData/PowerPlants/'"
   ]
  },
  {
   "cell_type": "code",
   "execution_count": 7,
   "id": "b70df824-78ae-49ee-ad96-021977574121",
   "metadata": {},
   "outputs": [
    {
     "name": "stdout",
     "output_type": "stream",
     "text": [
      "Download links saved to: /home/ray/Dispa-SET_Unleash/RawData/PowerPlants/power_plants_raw_data_sources_20240404_150659.csv\n"
     ]
    }
   ],
   "source": [
    "import os\n",
    "import csv\n",
    "from datetime import datetime\n",
    "\n",
    "def save_download_links_to_csv(links, folder_path):\n",
    "    # Create the filename using the current date and time\n",
    "    now = datetime.now()\n",
    "    timestamp = now.strftime(\"%Y%m%d_%H%M%S\")\n",
    "    file_name = f\"power_plants_raw_data_sources_{timestamp}.csv\"\n",
    "    \n",
    "    # Combine the folder path and filename\n",
    "    file_path = os.path.join(folder_path, file_name)\n",
    "    \n",
    "    # Write links to CSV file\n",
    "    with open(file_path, 'w', newline='') as csvfile:\n",
    "        fieldnames = ['Download_Link_Sources']\n",
    "        writer = csv.DictWriter(csvfile, fieldnames=fieldnames)\n",
    "        \n",
    "        writer.writeheader()\n",
    "        for link in links:\n",
    "            writer.writerow({'Download_Link_Sources': link})\n",
    "    \n",
    "    print(f\"Download links saved to: {file_path}\")\n",
    "\n",
    "# Example usage:\n",
    "download_links = [\n",
    "    'https://data.open-power-system-data.org/conventional_power_plants/2020-10-01/conventional_power_plants_EU.csv',\n",
    "    'https://data.open-power-system-data.org/conventional_power_plants/2020-10-01/conventional_power_plants_DE.csv',\n",
    "    'https://data.open-power-system-data.org/renewable_power_plants/2020-08-25/renewable_power_plants_DK.csv',\n",
    "    'https://data.open-power-system-data.org/renewable_power_plants/2020-08-25/renewable_power_plants_CH.csv'\n",
    "]\n",
    "\n",
    "# Save the download links to a CSV file\n",
    "save_download_links_to_csv(download_links, power_plants_raw_data_folder_path)\n"
   ]
  },
  {
   "cell_type": "code",
   "execution_count": 6,
   "id": "a93c11cf-6528-4a47-aa0c-42cf13497fca",
   "metadata": {},
   "outputs": [
    {
     "name": "stdout",
     "output_type": "stream",
     "text": [
      "Download links saved to: /home/ray/Dispa-SET_Unleash/RawData/PowerPlants/power_plants_raw_data_sources_20240404_150552.csv\n"
     ]
    }
   ],
   "source": []
  },
  {
   "cell_type": "code",
   "execution_count": null,
   "id": "b708b1bd-7ff2-4c05-beb1-1af0b8ec2fdd",
   "metadata": {},
   "outputs": [],
   "source": []
  }
 ],
 "metadata": {
  "kernelspec": {
   "display_name": "Python 3 (ipykernel)",
   "language": "python",
   "name": "python3"
  },
  "language_info": {
   "codemirror_mode": {
    "name": "ipython",
    "version": 3
   },
   "file_extension": ".py",
   "mimetype": "text/x-python",
   "name": "python",
   "nbconvert_exporter": "python",
   "pygments_lexer": "ipython3",
   "version": "3.11.7"
  }
 },
 "nbformat": 4,
 "nbformat_minor": 5
}
