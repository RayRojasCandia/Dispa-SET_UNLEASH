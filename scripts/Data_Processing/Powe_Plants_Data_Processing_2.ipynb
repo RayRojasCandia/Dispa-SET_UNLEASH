{
 "cells": [
  {
   "cell_type": "markdown",
   "id": "9673ddcf-cd4c-4b95-aab5-ab49b5c49514",
   "metadata": {},
   "source": [
    "<div style=\"text-align: center; margin-left: 0em; font-weight: bold; font-size: 20px; font-family: TimesNewRoman;\">\n",
    "    POWER PLANTS DATA PROCESSING - Main Notebook\n",
    "</div>"
   ]
  },
  {
   "cell_type": "markdown",
   "id": "0755a09a-9ba6-4b6b-b0ee-b17760f50078",
   "metadata": {},
   "source": [
    "<div style=\"text-align: left; margin-left: 0em; font-weight: unbold; font-size: 16px; font-family: TimesNewRoman;\">\n",
    "    Each part of the following script was used to proccess the raw data for power plants units of the Dispa-SET_Unleash project.\n",
    "    <br>\n",
    "    Read explanation text cells to follow and understand all the process until final results were got stept by step.\n",
    "</div>"
   ]
  },
  {
   "cell_type": "markdown",
   "id": "8d6a6e6f-51e4-4464-b909-2a18cb89271e",
   "metadata": {},
   "source": [
    "<div style=\"text-align: left; margin-left: 3.0em; font-weight: bold; font-size: 18px; font-family: TimesNewRoman;\">\n",
    "    1. Notebook Set Up\n",
    "</div>"
   ]
  },
  {
   "cell_type": "markdown",
   "id": "92bb156f-0187-4679-acb0-090bdc623675",
   "metadata": {},
   "source": [
    "<div style=\"text-align: left; margin-left: 0.0em; font-weight: unbold; font-size: 16px; font-family: TimesNewRoman;\">\n",
    "    Importing needed libraries\n",
    "</div>"
   ]
  },
  {
   "cell_type": "code",
   "execution_count": 1,
   "id": "124e1ebd-cfd1-40d0-8571-38d1a5997f88",
   "metadata": {},
   "outputs": [],
   "source": [
    "import os\n",
    "import csv\n",
    "from datetime import datetime\n",
    "import requests\n",
    "import pandas as pd\n",
    "from shutil import move\n",
    "import numpy as np\n",
    "import shutil"
   ]
  },
  {
   "cell_type": "markdown",
   "id": "61ef78e5-6ee4-4015-acc5-f9843445c668",
   "metadata": {},
   "source": [
    "<div style=\"text-align: left; margin-left: 3.0em; font-weight: bold; font-size: 18px; font-family: TimesNewRoman;\">\n",
    "    2. Dispa-SET_Unleash Folder Path\n",
    "</div>"
   ]
  },
  {
   "cell_type": "markdown",
   "id": "2b4307bb-12f2-4d63-9131-9f3f7b349e4c",
   "metadata": {},
   "source": [
    "<div style=\"text-align: left; margin-left: 0.0em; font-weight: unbold; font-size: 16px; font-family: TimesNewRoman;\">\n",
    "    Determinning dynamically the zone_folder_path based on the location of the \"Dispa-SET_Unleash\" folder relative to the current working directory. \n",
    "<br>\n",
    "    If the \"Dispa-SET_Unleash\" folder is copied to a different machine or location, the dispaSET_unleash_folder_path variable will automatically adjust accordingly.\n",
    "</div>"
   ]
  },
  {
   "cell_type": "code",
   "execution_count": 2,
   "id": "01352aec-0922-4df8-8203-9aa91494e2ef",
   "metadata": {},
   "outputs": [
    {
     "name": "stdout",
     "output_type": "stream",
     "text": [
      "dispaSET_unleash_folder_name: Dispa-SET_Unleash\n",
      "dispaSET_unleash_folder_path: /home/ray/Dispa-SET_Unleash\n"
     ]
    }
   ],
   "source": [
    "# Get the current working directory\n",
    "current_directory = os.getcwd()\n",
    "\n",
    "# Navigate to the parent directory of \"Dispa-SET_Unleash\"\n",
    "dispaSET_unleash_parent_directory = os.path.dirname(current_directory)\n",
    "\n",
    "# Get the path to the \"Dispa-SET_Unleash\" folder\n",
    "dispaSET_unleash_folder_path = os.path.dirname(dispaSET_unleash_parent_directory)\n",
    "\n",
    "# Construct the dispaSET_unleash_folder_name variable\n",
    "dispaSET_unleash_folder_name = os.path.basename(dispaSET_unleash_folder_path)\n",
    "\n",
    "print(\"dispaSET_unleash_folder_name:\", dispaSET_unleash_folder_name)\n",
    "print(\"dispaSET_unleash_folder_path:\", dispaSET_unleash_folder_path)"
   ]
  },
  {
   "cell_type": "markdown",
   "id": "869cd9cd-255a-4670-ab92-d0f810f53670",
   "metadata": {},
   "source": [
    "<div style=\"text-align: left; margin-left: 3.0em; font-weight: bold; font-size: 18px; font-family: TimesNewRoman;\">\n",
    "    3. Zone(s) Creation\n",
    "</div>"
   ]
  },
  {
   "cell_type": "markdown",
   "id": "80ee6216-cd5b-4646-954d-5dfe0bd77c1c",
   "metadata": {},
   "source": [
    "<div style=\"text-align: left; margin-left: 0.0em; font-weight: unbold; font-size: 16px; font-family: TimesNewRoman;\">\n",
    "    Entering the zone name or names (in case of more than one zone wanted to be modelled) to create the folder where all data related to the corresponding zone are going to be storage\n",
    "</div>\n",
    "<div style=\"text-align: left; margin-left: 1.0em; font-weight: unbold; font-size: 14px; font-family: TimesNewRoman;\">\n",
    "    For European country names use the ISO 3166-1 standars i.e. AT, BE, BG, CH.... etc. to give the zone_name.\n",
    "<br>\n",
    "    For non European countries it would rather to call the zone_name with the same word of how it is defined in the data to be downloaded and processed. e.g. \n",
    "</div>\n",
    "    <div style=\"text-align: left; margin-left: 2.00em; font-weight: unbold; font-size: 14px; font-family: TimesNewRoman;\">\n",
    "        If it is downloading a csv file with all power plants of Spain but just the units fo Pamplona city are wanted, and in the corresponding donwloaded file, Pamplona is refering with the acronim \"PMPLN\"; set the zone_name variable with the word \"PMPLN\".\n",
    "</div>"
   ]
  },
  {
   "cell_type": "code",
   "execution_count": 3,
   "id": "7e6805cf-9138-445d-abfd-17af3532a341",
   "metadata": {},
   "outputs": [],
   "source": [
    "# List of folder names to create\n",
    "zone_names = [\n",
    "\"AT\",\n",
    "\"BE\",\n",
    "\"BG\",\n",
    "\"CH\",\n",
    "\"CY\",\n",
    "\"CZ\",\n",
    "\"DE\",\n",
    "\"DK\",\n",
    "\"EE\",\n",
    "\"EL\",\n",
    "\"ES\",\n",
    "\"FI\",\n",
    "\"FR\",\n",
    "\"HR\",\n",
    "\"HU\",\n",
    "\"IE\",\n",
    "\"IT\",\n",
    "\"LT\",\n",
    "\"LU\",\n",
    "\"LV\",\n",
    "\"MT\",\n",
    "\"NL\",\n",
    "\"NO\",\n",
    "\"PL\",\n",
    "\"PT\",\n",
    "\"RO\",\n",
    "\"SE\",\n",
    "\"SI\",\n",
    "\"SK\",\n",
    "\"UK\"\n",
    "]"
   ]
  },
  {
   "cell_type": "code",
   "execution_count": 4,
   "id": "42dc50eb-dbbe-46e2-878c-94249e2e2d68",
   "metadata": {},
   "outputs": [
    {
     "name": "stdout",
     "output_type": "stream",
     "text": [
      "power_plants_raw_data_folder_path: /home/ray/Dispa-SET_Unleash/RawData/PowerPlants/\n",
      "Created zone: /home/ray/Dispa-SET_Unleash/RawData/PowerPlants/AT\n",
      "Created zone: /home/ray/Dispa-SET_Unleash/RawData/PowerPlants/BE\n",
      "Created zone: /home/ray/Dispa-SET_Unleash/RawData/PowerPlants/BG\n",
      "Created zone: /home/ray/Dispa-SET_Unleash/RawData/PowerPlants/CH\n",
      "Created zone: /home/ray/Dispa-SET_Unleash/RawData/PowerPlants/CY\n",
      "Created zone: /home/ray/Dispa-SET_Unleash/RawData/PowerPlants/CZ\n",
      "Created zone: /home/ray/Dispa-SET_Unleash/RawData/PowerPlants/DE\n",
      "Created zone: /home/ray/Dispa-SET_Unleash/RawData/PowerPlants/DK\n",
      "Created zone: /home/ray/Dispa-SET_Unleash/RawData/PowerPlants/EE\n",
      "Created zone: /home/ray/Dispa-SET_Unleash/RawData/PowerPlants/EL\n",
      "Created zone: /home/ray/Dispa-SET_Unleash/RawData/PowerPlants/ES\n",
      "Created zone: /home/ray/Dispa-SET_Unleash/RawData/PowerPlants/FI\n",
      "Created zone: /home/ray/Dispa-SET_Unleash/RawData/PowerPlants/FR\n",
      "Created zone: /home/ray/Dispa-SET_Unleash/RawData/PowerPlants/HR\n",
      "Created zone: /home/ray/Dispa-SET_Unleash/RawData/PowerPlants/HU\n",
      "Created zone: /home/ray/Dispa-SET_Unleash/RawData/PowerPlants/IE\n",
      "Created zone: /home/ray/Dispa-SET_Unleash/RawData/PowerPlants/IT\n",
      "Created zone: /home/ray/Dispa-SET_Unleash/RawData/PowerPlants/LT\n",
      "Created zone: /home/ray/Dispa-SET_Unleash/RawData/PowerPlants/LU\n",
      "Created zone: /home/ray/Dispa-SET_Unleash/RawData/PowerPlants/LV\n",
      "Created zone: /home/ray/Dispa-SET_Unleash/RawData/PowerPlants/MT\n",
      "Created zone: /home/ray/Dispa-SET_Unleash/RawData/PowerPlants/NL\n",
      "Created zone: /home/ray/Dispa-SET_Unleash/RawData/PowerPlants/NO\n",
      "Created zone: /home/ray/Dispa-SET_Unleash/RawData/PowerPlants/PL\n",
      "Created zone: /home/ray/Dispa-SET_Unleash/RawData/PowerPlants/PT\n",
      "Created zone: /home/ray/Dispa-SET_Unleash/RawData/PowerPlants/RO\n",
      "Created zone: /home/ray/Dispa-SET_Unleash/RawData/PowerPlants/SE\n",
      "Created zone: /home/ray/Dispa-SET_Unleash/RawData/PowerPlants/SI\n",
      "Created zone: /home/ray/Dispa-SET_Unleash/RawData/PowerPlants/SK\n",
      "Created zone: /home/ray/Dispa-SET_Unleash/RawData/PowerPlants/UK\n",
      "Created zones:\n",
      "AT: /home/ray/Dispa-SET_Unleash/RawData/PowerPlants/AT\n",
      "BE: /home/ray/Dispa-SET_Unleash/RawData/PowerPlants/BE\n",
      "BG: /home/ray/Dispa-SET_Unleash/RawData/PowerPlants/BG\n",
      "CH: /home/ray/Dispa-SET_Unleash/RawData/PowerPlants/CH\n",
      "CY: /home/ray/Dispa-SET_Unleash/RawData/PowerPlants/CY\n",
      "CZ: /home/ray/Dispa-SET_Unleash/RawData/PowerPlants/CZ\n",
      "DE: /home/ray/Dispa-SET_Unleash/RawData/PowerPlants/DE\n",
      "DK: /home/ray/Dispa-SET_Unleash/RawData/PowerPlants/DK\n",
      "EE: /home/ray/Dispa-SET_Unleash/RawData/PowerPlants/EE\n",
      "EL: /home/ray/Dispa-SET_Unleash/RawData/PowerPlants/EL\n",
      "ES: /home/ray/Dispa-SET_Unleash/RawData/PowerPlants/ES\n",
      "FI: /home/ray/Dispa-SET_Unleash/RawData/PowerPlants/FI\n",
      "FR: /home/ray/Dispa-SET_Unleash/RawData/PowerPlants/FR\n",
      "HR: /home/ray/Dispa-SET_Unleash/RawData/PowerPlants/HR\n",
      "HU: /home/ray/Dispa-SET_Unleash/RawData/PowerPlants/HU\n",
      "IE: /home/ray/Dispa-SET_Unleash/RawData/PowerPlants/IE\n",
      "IT: /home/ray/Dispa-SET_Unleash/RawData/PowerPlants/IT\n",
      "LT: /home/ray/Dispa-SET_Unleash/RawData/PowerPlants/LT\n",
      "LU: /home/ray/Dispa-SET_Unleash/RawData/PowerPlants/LU\n",
      "LV: /home/ray/Dispa-SET_Unleash/RawData/PowerPlants/LV\n",
      "MT: /home/ray/Dispa-SET_Unleash/RawData/PowerPlants/MT\n",
      "NL: /home/ray/Dispa-SET_Unleash/RawData/PowerPlants/NL\n",
      "NO: /home/ray/Dispa-SET_Unleash/RawData/PowerPlants/NO\n",
      "PL: /home/ray/Dispa-SET_Unleash/RawData/PowerPlants/PL\n",
      "PT: /home/ray/Dispa-SET_Unleash/RawData/PowerPlants/PT\n",
      "RO: /home/ray/Dispa-SET_Unleash/RawData/PowerPlants/RO\n",
      "SE: /home/ray/Dispa-SET_Unleash/RawData/PowerPlants/SE\n",
      "SI: /home/ray/Dispa-SET_Unleash/RawData/PowerPlants/SI\n",
      "SK: /home/ray/Dispa-SET_Unleash/RawData/PowerPlants/SK\n",
      "UK: /home/ray/Dispa-SET_Unleash/RawData/PowerPlants/UK\n"
     ]
    },
    {
     "data": {
      "text/plain": [
       "{'AT': '/home/ray/Dispa-SET_Unleash/RawData/PowerPlants/AT',\n",
       " 'BE': '/home/ray/Dispa-SET_Unleash/RawData/PowerPlants/BE',\n",
       " 'BG': '/home/ray/Dispa-SET_Unleash/RawData/PowerPlants/BG',\n",
       " 'CH': '/home/ray/Dispa-SET_Unleash/RawData/PowerPlants/CH',\n",
       " 'CY': '/home/ray/Dispa-SET_Unleash/RawData/PowerPlants/CY',\n",
       " 'CZ': '/home/ray/Dispa-SET_Unleash/RawData/PowerPlants/CZ',\n",
       " 'DE': '/home/ray/Dispa-SET_Unleash/RawData/PowerPlants/DE',\n",
       " 'DK': '/home/ray/Dispa-SET_Unleash/RawData/PowerPlants/DK',\n",
       " 'EE': '/home/ray/Dispa-SET_Unleash/RawData/PowerPlants/EE',\n",
       " 'EL': '/home/ray/Dispa-SET_Unleash/RawData/PowerPlants/EL',\n",
       " 'ES': '/home/ray/Dispa-SET_Unleash/RawData/PowerPlants/ES',\n",
       " 'FI': '/home/ray/Dispa-SET_Unleash/RawData/PowerPlants/FI',\n",
       " 'FR': '/home/ray/Dispa-SET_Unleash/RawData/PowerPlants/FR',\n",
       " 'HR': '/home/ray/Dispa-SET_Unleash/RawData/PowerPlants/HR',\n",
       " 'HU': '/home/ray/Dispa-SET_Unleash/RawData/PowerPlants/HU',\n",
       " 'IE': '/home/ray/Dispa-SET_Unleash/RawData/PowerPlants/IE',\n",
       " 'IT': '/home/ray/Dispa-SET_Unleash/RawData/PowerPlants/IT',\n",
       " 'LT': '/home/ray/Dispa-SET_Unleash/RawData/PowerPlants/LT',\n",
       " 'LU': '/home/ray/Dispa-SET_Unleash/RawData/PowerPlants/LU',\n",
       " 'LV': '/home/ray/Dispa-SET_Unleash/RawData/PowerPlants/LV',\n",
       " 'MT': '/home/ray/Dispa-SET_Unleash/RawData/PowerPlants/MT',\n",
       " 'NL': '/home/ray/Dispa-SET_Unleash/RawData/PowerPlants/NL',\n",
       " 'NO': '/home/ray/Dispa-SET_Unleash/RawData/PowerPlants/NO',\n",
       " 'PL': '/home/ray/Dispa-SET_Unleash/RawData/PowerPlants/PL',\n",
       " 'PT': '/home/ray/Dispa-SET_Unleash/RawData/PowerPlants/PT',\n",
       " 'RO': '/home/ray/Dispa-SET_Unleash/RawData/PowerPlants/RO',\n",
       " 'SE': '/home/ray/Dispa-SET_Unleash/RawData/PowerPlants/SE',\n",
       " 'SI': '/home/ray/Dispa-SET_Unleash/RawData/PowerPlants/SI',\n",
       " 'SK': '/home/ray/Dispa-SET_Unleash/RawData/PowerPlants/SK',\n",
       " 'UK': '/home/ray/Dispa-SET_Unleash/RawData/PowerPlants/UK'}"
      ]
     },
     "execution_count": 4,
     "metadata": {},
     "output_type": "execute_result"
    }
   ],
   "source": [
    "# Original value of dispaSET_unleash_folder_path\n",
    "#dispaSET_unleash_folder_path = \"/home/ray/Dispa-SET_Unleash\"\n",
    "\n",
    "# Additional string to be appended\n",
    "additional_path = \"/RawData/PowerPlants/\"\n",
    "\n",
    "# Construct the power_plants_raw_data_folder_path variable\n",
    "power_plants_raw_data_folder_path = dispaSET_unleash_folder_path + additional_path\n",
    "print(\"power_plants_raw_data_folder_path:\", power_plants_raw_data_folder_path)\n",
    "\n",
    "# Dictionary to store created zone paths\n",
    "created_zones = {}\n",
    "\n",
    "# Create the zone\n",
    "for zone_name in zone_names:\n",
    "    zone_path = os.path.join(power_plants_raw_data_folder_path, zone_name)\n",
    "    os.makedirs(zone_path, exist_ok=True)\n",
    "    created_zones[zone_name] = zone_path\n",
    "    print(f\"Created zone: {zone_path}\")\n",
    "\n",
    "# Print the created zone paths\n",
    "print(\"Created zones:\")\n",
    "for zone_name, zone_path in created_zones.items():\n",
    "    print(f\"{zone_name}: {zone_path}\")\n",
    "    \n",
    "created_zones"
   ]
  },
  {
   "cell_type": "markdown",
   "id": "164c72ac-b9ce-4476-90af-83967ca3bfe7",
   "metadata": {},
   "source": [
    "<div style=\"text-align: right; margin-left: 3.0em; font-weight: unbold; font-size: 14px; font-family: TimesNewRoman;\">\n",
    "    Tracking Variables. \n",
    "    <br>\n",
    "    <div style=\"text-align: right; margin-left: 1.50em; font-weight: unbold; font-size: 13px; font-family: TimesNewRoman;\">\n",
    "    This cells are just to confirm all the file names, file paths and other information related to the data being processed.\n",
    "    <br>\n",
    "  Also are used to ensure the inputs for next cells in order to avoid to re-enter the same information each time.\n",
    "</div>"
   ]
  },
  {
   "cell_type": "code",
   "execution_count": 5,
   "id": "8cc6e9cc-0d2a-4c82-91c8-745bc5a9aafe",
   "metadata": {},
   "outputs": [
    {
     "name": "stdout",
     "output_type": "stream",
     "text": [
      "dispaSET_unleash_folder_name:                              Dispa-SET_Unleash\n",
      "dispaSET_unleash_folder_path:                              /home/ray/Dispa-SET_Unleash\n",
      "power_plants_raw_data_folder_path:                         /home/ray/Dispa-SET_Unleash/RawData/PowerPlants/\n",
      "zone_names:                                                ['AT', 'BE', 'BG', 'CH', 'CY', 'CZ', 'DE', 'DK', 'EE', 'EL', 'ES', 'FI', 'FR', 'HR', 'HU', 'IE', 'IT', 'LT', 'LU', 'LV', 'MT', 'NL', 'NO', 'PL', 'PT', 'RO', 'SE', 'SI', 'SK', 'UK']\n",
      "created_zones:                                             {'AT': '/home/ray/Dispa-SET_Unleash/RawData/PowerPlants/AT', 'BE': '/home/ray/Dispa-SET_Unleash/RawData/PowerPlants/BE', 'BG': '/home/ray/Dispa-SET_Unleash/RawData/PowerPlants/BG', 'CH': '/home/ray/Dispa-SET_Unleash/RawData/PowerPlants/CH', 'CY': '/home/ray/Dispa-SET_Unleash/RawData/PowerPlants/CY', 'CZ': '/home/ray/Dispa-SET_Unleash/RawData/PowerPlants/CZ', 'DE': '/home/ray/Dispa-SET_Unleash/RawData/PowerPlants/DE', 'DK': '/home/ray/Dispa-SET_Unleash/RawData/PowerPlants/DK', 'EE': '/home/ray/Dispa-SET_Unleash/RawData/PowerPlants/EE', 'EL': '/home/ray/Dispa-SET_Unleash/RawData/PowerPlants/EL', 'ES': '/home/ray/Dispa-SET_Unleash/RawData/PowerPlants/ES', 'FI': '/home/ray/Dispa-SET_Unleash/RawData/PowerPlants/FI', 'FR': '/home/ray/Dispa-SET_Unleash/RawData/PowerPlants/FR', 'HR': '/home/ray/Dispa-SET_Unleash/RawData/PowerPlants/HR', 'HU': '/home/ray/Dispa-SET_Unleash/RawData/PowerPlants/HU', 'IE': '/home/ray/Dispa-SET_Unleash/RawData/PowerPlants/IE', 'IT': '/home/ray/Dispa-SET_Unleash/RawData/PowerPlants/IT', 'LT': '/home/ray/Dispa-SET_Unleash/RawData/PowerPlants/LT', 'LU': '/home/ray/Dispa-SET_Unleash/RawData/PowerPlants/LU', 'LV': '/home/ray/Dispa-SET_Unleash/RawData/PowerPlants/LV', 'MT': '/home/ray/Dispa-SET_Unleash/RawData/PowerPlants/MT', 'NL': '/home/ray/Dispa-SET_Unleash/RawData/PowerPlants/NL', 'NO': '/home/ray/Dispa-SET_Unleash/RawData/PowerPlants/NO', 'PL': '/home/ray/Dispa-SET_Unleash/RawData/PowerPlants/PL', 'PT': '/home/ray/Dispa-SET_Unleash/RawData/PowerPlants/PT', 'RO': '/home/ray/Dispa-SET_Unleash/RawData/PowerPlants/RO', 'SE': '/home/ray/Dispa-SET_Unleash/RawData/PowerPlants/SE', 'SI': '/home/ray/Dispa-SET_Unleash/RawData/PowerPlants/SI', 'SK': '/home/ray/Dispa-SET_Unleash/RawData/PowerPlants/SK', 'UK': '/home/ray/Dispa-SET_Unleash/RawData/PowerPlants/UK'}\n"
     ]
    }
   ],
   "source": [
    "print (f\"dispaSET_unleash_folder_name:                              {dispaSET_unleash_folder_name}\")\n",
    "print (f\"dispaSET_unleash_folder_path:                              {dispaSET_unleash_folder_path}\")\n",
    "print (f\"power_plants_raw_data_folder_path:                         {power_plants_raw_data_folder_path}\")\n",
    "print (f\"zone_names:                                                {zone_names}\")\n",
    "print (f\"created_zones:                                             {created_zones}\")"
   ]
  },
  {
   "cell_type": "markdown",
   "id": "2b9d5364-f18b-420e-9634-b2ee4d109781",
   "metadata": {},
   "source": [
    "<div style=\"text-align: left; margin-left: 3.0em; font-weight: bold; font-size: 18px; font-family: TimesNewRoman;\">\n",
    "    4. Raw Data Sources Path\n",
    "</div>"
   ]
  },
  {
   "cell_type": "markdown",
   "id": "65c323d8-ad26-477e-b9a6-a623dac42cca",
   "metadata": {},
   "source": [
    "<div style=\"text-align: left; margin-left: 0.0em; font-weight: unbold; font-size: 16px; font-family: TimesNewRoman;\">\n",
    "    Entering all the files paths where the raw data is content.\n",
    "     <br>\n",
    "        If a set of files where all the all power plants raw data is content, put them all in the local folder which path is:\n",
    "    <div style=\"text-align: left; margin-left: 1.0em; font-weight: unbold; font-size: 15px; font-family: TimesNewRoman;\">\n",
    "/Local/Dispa_Set/Path/Dispa-SET_Unleash/RawData/PowerPlants/EU_Power_Units_Raw_Data_Source/\n",
    "        </div>\n",
    "     Order them adding a number between pharentesys (), this ordernation is going to be saved by the variable sources_list. \n",
    "      <br>\n",
    "        That list is going to be saved to be used as input for next stages.\n",
    "      <br>\n",
    "</div>\n",
    "    <div style=\"text-align: left; margin-left: 1.0em; font-weight: unbold; font-size: 14px; font-family: TimesNewRoman;\">\n",
    "        Notice that to process the data all the source files have to be .csv files.\n",
    "</div>\n",
    "    <div style=\"text-align: left; margin-left: 0.0em; font-weight: unbold; font-size: 16px; font-family: TimesNewRoman;\">\n",
    "    In the other hand, it is important to define which zone is refering the file source.\n",
    "</div>\n",
    "    <div style=\"text-align: left; margin-left: 1.0em; font-weight: unbold; font-size: 14px; font-family: TimesNewRoman;\">\n",
    "    If all the source file contents data that belongs to only one zone, epecify it in the variable download_links_zone_related applying the same order than the variable sources_list.\n",
    "    <br>\n",
    "    If the source file contents data that refers different zones at the same time, specify it with the word \"General\" in the variable download_links_zone_related using the same order than the variable sources_list.\n",
    "</div>\n",
    "    <div style=\"text-align: left; margin-left: 2.0em; font-weight: unbold; font-size: 13px; font-family: TimesNewRoman;\">\n",
    "    Remember that the next filtering stages depend on the correct setting of this step.\n",
    "</div>\n",
    "    <div style=\"text-align: left; margin-left: 0.0em; font-weight: unbold; font-size: 16px; font-family: TimesNewRoman;\">\n",
    "    Additionally indicate the year of all data is referring to.\n",
    "</div>\n",
    "    <div style=\"text-align: left; margin-left: 1.0em; font-weight: unbold; font-size: 14px; font-family: TimesNewRoman;\">\n",
    "    This is going to be used as the name root under which all next files are going to be created.\n",
    "</div>"
   ]
  },
  {
   "cell_type": "code",
   "execution_count": 6,
   "id": "f9dad09d-7a34-46ca-afd8-3d5392ccdcdd",
   "metadata": {},
   "outputs": [],
   "source": [
    "# Year to which data refers to:\n",
    "data_year = '2020'"
   ]
  },
  {
   "cell_type": "code",
   "execution_count": 7,
   "id": "311c6124-11e6-405f-99ac-2dafd7ac2cfa",
   "metadata": {},
   "outputs": [
    {
     "name": "stdout",
     "output_type": "stream",
     "text": [
      "power_plants_raw_data_sources_folder_path: /home/ray/Dispa-SET_Unleash/RawData/PowerPlants/EU_Power_Units_Raw_Data_Source/2020/\n"
     ]
    }
   ],
   "source": [
    "# Additional string to be appended\n",
    "#additional_path_1 = \"/RawData/PowerPlants/EU_Power_Units_Raw_Data_Source/\"\n",
    "\n",
    "# Construct the power_plants_raw_data_folder_path variable\n",
    "#power_plants_raw_data_sources_folder_path = dispaSET_unleash_folder_path + additional_path_1\n",
    "#print(\"power_plants_raw_data_sources_folder_path:\", power_plants_raw_data_sources_folder_path)\n",
    "\n",
    "\n",
    "additional_path_1 = \"/RawData/PowerPlants/EU_Power_Units_Raw_Data_Source/\"\n",
    "\n",
    "# Create the power_plants_raw_data_sources_folder_path\n",
    "power_plants_raw_data_sources_folder_path = dispaSET_unleash_folder_path + additional_path_1 + str(data_year) + \"/\"\n",
    "print(\"power_plants_raw_data_sources_folder_path:\", power_plants_raw_data_sources_folder_path)"
   ]
  },
  {
   "cell_type": "code",
   "execution_count": 8,
   "id": "ec519a71-5f7a-4e51-aee2-69caad59181a",
   "metadata": {},
   "outputs": [
    {
     "name": "stdout",
     "output_type": "stream",
     "text": [
      "[]\n"
     ]
    },
    {
     "data": {
      "text/plain": [
       "[]"
      ]
     },
     "execution_count": 8,
     "metadata": {},
     "output_type": "execute_result"
    }
   ],
   "source": [
    "#power_plants_raw_data_sources_folder_path = \"/home/ray/Dispa-SET_Unleash/RawData/PowerPlants/EU_Power_Units_ENTSOE_Raw_Data/\"\n",
    "\n",
    "# List to store the file paths\n",
    "sources_list = []\n",
    "\n",
    "# Function to extract the number from within parentheses\n",
    "def extract_number(filename):\n",
    "    start = filename.rfind('(') + 1\n",
    "    end = filename.rfind(')')\n",
    "    return int(filename[start:end])\n",
    "\n",
    "# Iterate over all files in the folder\n",
    "for root, dirs, files in os.walk(power_plants_raw_data_sources_folder_path):\n",
    "    for file in files:\n",
    "        # Construct the full file path\n",
    "        file_path = os.path.join(root, file)\n",
    "        # Append the file path to the source list\n",
    "        sources_list.append(file_path)\n",
    "\n",
    "# Sort the source list based on the numbers within parentheses\n",
    "sources_list.sort(key=lambda x: extract_number(os.path.basename(x)))\n",
    "\n",
    "# Print the sorted list of file paths\n",
    "print(sources_list)\n",
    "\n",
    "sources_list"
   ]
  },
  {
   "cell_type": "code",
   "execution_count": 9,
   "id": "26f91f27-5f40-472e-b099-e61c224daa8d",
   "metadata": {},
   "outputs": [],
   "source": [
    "# List of the download links:\n",
    "download_links = sources_list"
   ]
  },
  {
   "cell_type": "code",
   "execution_count": 10,
   "id": "c431ed5d-3b8a-4914-a379-ad28a0406bcf",
   "metadata": {},
   "outputs": [],
   "source": [
    "# List of zones related to the download links:\n",
    "download_links_zone_related = [\n",
    "\"AT\",\n",
    "\"BE\",\n",
    "\"BG\",\n",
    "\"CH\",\n",
    "\"CY\",\n",
    "\"CZ\",\n",
    "\"DE\",\n",
    "\"DE\",\n",
    "\"DE\",\n",
    "\"DE\",\n",
    "\"DK\",\n",
    "\"EE\",\n",
    "\"EL\",\n",
    "\"ES\",\n",
    "\"FI\",\n",
    "\"FR\",\n",
    "\"HR\",\n",
    "\"HU\",\n",
    "\"IE\",\n",
    "\"IT\",\n",
    "\"LT\",\n",
    "\"LU\",\n",
    "\"LV\",\n",
    "\"MT\",\n",
    "\"NL\",\n",
    "\"NO\",\n",
    "\"PL\",\n",
    "\"PT\",\n",
    "\"RO\",\n",
    "\"SE\",\n",
    "\"SI\",\n",
    "\"SK\",\n",
    "\"UK\",\n",
    "\"UK\"\n",
    "]"
   ]
  },
  {
   "cell_type": "code",
   "execution_count": 11,
   "id": "0cd4f487-2c59-4c46-bc9c-5122f296e55f",
   "metadata": {},
   "outputs": [
    {
     "name": "stdout",
     "output_type": "stream",
     "text": [
      "Download links saved to: /home/ray/Dispa-SET_Unleash/RawData/PowerPlants/2020_power_plants_raw_data_sources_20240711_080920/2020_power_plants_raw_data_sources_20240711_080920.csv\n",
      "File path: /home/ray/Dispa-SET_Unleash/RawData/PowerPlants/2020_power_plants_raw_data_sources_20240711_080920/2020_power_plants_raw_data_sources_20240711_080920.csv\n",
      "File name: 2020_power_plants_raw_data_sources_20240711_080920.csv\n"
     ]
    }
   ],
   "source": [
    "def save_download_links_to_csv(links, zones, folder_path, data_year):\n",
    "    # Create the filename using the data year, current date, and time\n",
    "    now = datetime.now()\n",
    "    timestamp = now.strftime(\"%Y%m%d_%H%M%S\")\n",
    "    file_name = f\"{data_year}_power_plants_raw_data_sources_{timestamp}.csv\"\n",
    "    \n",
    "    # Create a folder with the same name as the file (without extension)\n",
    "    folder_name = os.path.splitext(file_name)[0]\n",
    "    folder_path = os.path.join(folder_path, folder_name)\n",
    "    os.makedirs(folder_path, exist_ok=True)\n",
    "    \n",
    "    # Combine the folder path and filename\n",
    "    file_path = os.path.join(folder_path, file_name)\n",
    "    \n",
    "    # Write links to CSV file\n",
    "    with open(file_path, 'w', newline='') as csvfile:\n",
    "        writer = csv.writer(csvfile)\n",
    "        \n",
    "        # Write the header\n",
    "        writer.writerow(['Download_Link_Sources', 'Zone', 'File_Name'])\n",
    "        \n",
    "        # Write the links, zones, and file names\n",
    "        for i, (link, zone) in enumerate(zip(links, zones), start=1):\n",
    "            writer.writerow([link, zone, i])\n",
    "    \n",
    "    print(f\"Download links saved to: {file_path}\")\n",
    "    \n",
    "    return file_path, file_name\n",
    "\n",
    "# Save the download links to a CSV file and get the file path and name\n",
    "power_plants_raw_data_sources_file_path, power_plants_raw_data_sources_file_name = save_download_links_to_csv(download_links, download_links_zone_related, power_plants_raw_data_folder_path, data_year)\n",
    "\n",
    "print(\"File path:\", power_plants_raw_data_sources_file_path)\n",
    "print(\"File name:\", power_plants_raw_data_sources_file_name)"
   ]
  },
  {
   "cell_type": "markdown",
   "id": "a81d8108-9537-49f5-8475-0928b96d36b2",
   "metadata": {},
   "source": [
    "<div style=\"text-align: right; margin-left: 3.0em; font-weight: unbold; font-size: 14px; font-family: TimesNewRoman;\">\n",
    "    Tracking Variables. \n",
    "    <br>\n",
    "    <div style=\"text-align: right; margin-left: 1.50em; font-weight: unbold; font-size: 13px; font-family: TimesNewRoman;\">\n",
    "    This cells are just to confirm all the file names, file paths and other information related to the data being processed.\n",
    "    <br>\n",
    "  Also are used to ensure the inputs for next cells in order to avoid to re-enter the same information each time.\n",
    "</div>"
   ]
  },
  {
   "cell_type": "code",
   "execution_count": 12,
   "id": "33b7ddb5-df65-46de-aad3-042b6b0b1cca",
   "metadata": {},
   "outputs": [
    {
     "name": "stdout",
     "output_type": "stream",
     "text": [
      "dispaSET_unleash_folder_name:                            Dispa-SET_Unleash\n",
      "dispaSET_unleash_folder_path:                            /home/ray/Dispa-SET_Unleash\n",
      "power_plants_raw_data_folder_path:                       /home/ray/Dispa-SET_Unleash/RawData/PowerPlants/\n",
      "zone_names:                                              ['AT', 'BE', 'BG', 'CH', 'CY', 'CZ', 'DE', 'DK', 'EE', 'EL', 'ES', 'FI', 'FR', 'HR', 'HU', 'IE', 'IT', 'LT', 'LU', 'LV', 'MT', 'NL', 'NO', 'PL', 'PT', 'RO', 'SE', 'SI', 'SK', 'UK']\n",
      "created_zones:                                           {'AT': '/home/ray/Dispa-SET_Unleash/RawData/PowerPlants/AT', 'BE': '/home/ray/Dispa-SET_Unleash/RawData/PowerPlants/BE', 'BG': '/home/ray/Dispa-SET_Unleash/RawData/PowerPlants/BG', 'CH': '/home/ray/Dispa-SET_Unleash/RawData/PowerPlants/CH', 'CY': '/home/ray/Dispa-SET_Unleash/RawData/PowerPlants/CY', 'CZ': '/home/ray/Dispa-SET_Unleash/RawData/PowerPlants/CZ', 'DE': '/home/ray/Dispa-SET_Unleash/RawData/PowerPlants/DE', 'DK': '/home/ray/Dispa-SET_Unleash/RawData/PowerPlants/DK', 'EE': '/home/ray/Dispa-SET_Unleash/RawData/PowerPlants/EE', 'EL': '/home/ray/Dispa-SET_Unleash/RawData/PowerPlants/EL', 'ES': '/home/ray/Dispa-SET_Unleash/RawData/PowerPlants/ES', 'FI': '/home/ray/Dispa-SET_Unleash/RawData/PowerPlants/FI', 'FR': '/home/ray/Dispa-SET_Unleash/RawData/PowerPlants/FR', 'HR': '/home/ray/Dispa-SET_Unleash/RawData/PowerPlants/HR', 'HU': '/home/ray/Dispa-SET_Unleash/RawData/PowerPlants/HU', 'IE': '/home/ray/Dispa-SET_Unleash/RawData/PowerPlants/IE', 'IT': '/home/ray/Dispa-SET_Unleash/RawData/PowerPlants/IT', 'LT': '/home/ray/Dispa-SET_Unleash/RawData/PowerPlants/LT', 'LU': '/home/ray/Dispa-SET_Unleash/RawData/PowerPlants/LU', 'LV': '/home/ray/Dispa-SET_Unleash/RawData/PowerPlants/LV', 'MT': '/home/ray/Dispa-SET_Unleash/RawData/PowerPlants/MT', 'NL': '/home/ray/Dispa-SET_Unleash/RawData/PowerPlants/NL', 'NO': '/home/ray/Dispa-SET_Unleash/RawData/PowerPlants/NO', 'PL': '/home/ray/Dispa-SET_Unleash/RawData/PowerPlants/PL', 'PT': '/home/ray/Dispa-SET_Unleash/RawData/PowerPlants/PT', 'RO': '/home/ray/Dispa-SET_Unleash/RawData/PowerPlants/RO', 'SE': '/home/ray/Dispa-SET_Unleash/RawData/PowerPlants/SE', 'SI': '/home/ray/Dispa-SET_Unleash/RawData/PowerPlants/SI', 'SK': '/home/ray/Dispa-SET_Unleash/RawData/PowerPlants/SK', 'UK': '/home/ray/Dispa-SET_Unleash/RawData/PowerPlants/UK'}\n",
      "power_plants_raw_data_sources_file_path:                 /home/ray/Dispa-SET_Unleash/RawData/PowerPlants/2020_power_plants_raw_data_sources_20240711_080920/2020_power_plants_raw_data_sources_20240711_080920.csv\n",
      "power_plants_raw_data_sources_file_name:                 2020_power_plants_raw_data_sources_20240711_080920.csv\n",
      "data_year:                                               2020\n",
      "download_links_zone_related:                             ['AT', 'BE', 'BG', 'CH', 'CY', 'CZ', 'DE', 'DE', 'DE', 'DE', 'DK', 'EE', 'EL', 'ES', 'FI', 'FR', 'HR', 'HU', 'IE', 'IT', 'LT', 'LU', 'LV', 'MT', 'NL', 'NO', 'PL', 'PT', 'RO', 'SE', 'SI', 'SK', 'UK', 'UK']\n"
     ]
    }
   ],
   "source": [
    "print (f\"dispaSET_unleash_folder_name:                            {dispaSET_unleash_folder_name}\")\n",
    "print (f\"dispaSET_unleash_folder_path:                            {dispaSET_unleash_folder_path}\")\n",
    "print (f\"power_plants_raw_data_folder_path:                       {power_plants_raw_data_folder_path}\")\n",
    "print (f\"zone_names:                                              {zone_names}\")\n",
    "print (f\"created_zones:                                           {created_zones}\")\n",
    "print (f\"power_plants_raw_data_sources_file_path:                 {power_plants_raw_data_sources_file_path}\")\n",
    "print (f\"power_plants_raw_data_sources_file_name:                 {power_plants_raw_data_sources_file_name}\")\n",
    "print (f\"data_year:                                               {data_year}\")\n",
    "print (f\"download_links_zone_related:                             {download_links_zone_related}\")"
   ]
  },
  {
   "cell_type": "code",
   "execution_count": 13,
   "id": "ab6fab8d-f835-4e3f-b93f-d3f5c18d17e9",
   "metadata": {},
   "outputs": [
    {
     "data": {
      "text/plain": [
       "{'AT': '/home/ray/Dispa-SET_Unleash/RawData/PowerPlants/AT',\n",
       " 'BE': '/home/ray/Dispa-SET_Unleash/RawData/PowerPlants/BE',\n",
       " 'BG': '/home/ray/Dispa-SET_Unleash/RawData/PowerPlants/BG',\n",
       " 'CH': '/home/ray/Dispa-SET_Unleash/RawData/PowerPlants/CH',\n",
       " 'CY': '/home/ray/Dispa-SET_Unleash/RawData/PowerPlants/CY',\n",
       " 'CZ': '/home/ray/Dispa-SET_Unleash/RawData/PowerPlants/CZ',\n",
       " 'DE': '/home/ray/Dispa-SET_Unleash/RawData/PowerPlants/DE',\n",
       " 'DK': '/home/ray/Dispa-SET_Unleash/RawData/PowerPlants/DK',\n",
       " 'EE': '/home/ray/Dispa-SET_Unleash/RawData/PowerPlants/EE',\n",
       " 'EL': '/home/ray/Dispa-SET_Unleash/RawData/PowerPlants/EL',\n",
       " 'ES': '/home/ray/Dispa-SET_Unleash/RawData/PowerPlants/ES',\n",
       " 'FI': '/home/ray/Dispa-SET_Unleash/RawData/PowerPlants/FI',\n",
       " 'FR': '/home/ray/Dispa-SET_Unleash/RawData/PowerPlants/FR',\n",
       " 'HR': '/home/ray/Dispa-SET_Unleash/RawData/PowerPlants/HR',\n",
       " 'HU': '/home/ray/Dispa-SET_Unleash/RawData/PowerPlants/HU',\n",
       " 'IE': '/home/ray/Dispa-SET_Unleash/RawData/PowerPlants/IE',\n",
       " 'IT': '/home/ray/Dispa-SET_Unleash/RawData/PowerPlants/IT',\n",
       " 'LT': '/home/ray/Dispa-SET_Unleash/RawData/PowerPlants/LT',\n",
       " 'LU': '/home/ray/Dispa-SET_Unleash/RawData/PowerPlants/LU',\n",
       " 'LV': '/home/ray/Dispa-SET_Unleash/RawData/PowerPlants/LV',\n",
       " 'MT': '/home/ray/Dispa-SET_Unleash/RawData/PowerPlants/MT',\n",
       " 'NL': '/home/ray/Dispa-SET_Unleash/RawData/PowerPlants/NL',\n",
       " 'NO': '/home/ray/Dispa-SET_Unleash/RawData/PowerPlants/NO',\n",
       " 'PL': '/home/ray/Dispa-SET_Unleash/RawData/PowerPlants/PL',\n",
       " 'PT': '/home/ray/Dispa-SET_Unleash/RawData/PowerPlants/PT',\n",
       " 'RO': '/home/ray/Dispa-SET_Unleash/RawData/PowerPlants/RO',\n",
       " 'SE': '/home/ray/Dispa-SET_Unleash/RawData/PowerPlants/SE',\n",
       " 'SI': '/home/ray/Dispa-SET_Unleash/RawData/PowerPlants/SI',\n",
       " 'SK': '/home/ray/Dispa-SET_Unleash/RawData/PowerPlants/SK',\n",
       " 'UK': '/home/ray/Dispa-SET_Unleash/RawData/PowerPlants/UK'}"
      ]
     },
     "execution_count": 13,
     "metadata": {},
     "output_type": "execute_result"
    }
   ],
   "source": [
    "created_zones"
   ]
  },
  {
   "cell_type": "markdown",
   "id": "8801c12b-f6f9-4fb4-920a-53541fb3bafd",
   "metadata": {},
   "source": [
    "<div style=\"text-align: left; margin-left: 3.0em; font-weight: bold; font-size: 18px; font-family: TimesNewRoman;\">\n",
    "    5. Power Plants Raw Data Download Files\n",
    "</div>"
   ]
  },
  {
   "cell_type": "markdown",
   "id": "0f5b01bd-b83d-4089-a4c9-a01f9033201d",
   "metadata": {},
   "source": [
    "<div style=\"text-align: left; margin-left: 0.0em; font-weight: unbold; font-size: 16px; font-family: TimesNewRoman;\">\n",
    "    Using the download list given previously to download and save all the power units raw data files inside a folder called as is it specified in the variable power_plants_raw_data_sources_folder_path.\n",
    "    <br>\n",
    "    All the downloaded files are named under the ordering of the download_links list.\n",
    "    <br>\n",
    "    Additionally, as some files use different kind of column delimiters e.g. \",\"; \";\"; \"/\"; etc. the code verifies and changes this to be acceptable for the next steps \n",
    "</div>"
   ]
  },
  {
   "cell_type": "code",
   "execution_count": 14,
   "id": "01b05f2c-6845-4027-99dd-219f9e0c09c2",
   "metadata": {
    "scrolled": true
   },
   "outputs": [],
   "source": [
    "#power_plants_raw_data_sources_file_path = \"/home/ray/Dispa-SET_Unleash/RawData/PowerPlants/2023_power_plants_raw_data_sources_20240418_185453/2023_power_plants_raw_data_sources_20240418_185453.csv\"\n",
    "\n",
    "# Read the CSV file into a DataFrame\n",
    "df = pd.read_csv(power_plants_raw_data_sources_file_path)\n",
    "\n",
    "# Iterate over each row in the DataFrame\n",
    "for index, row in df.iterrows():\n",
    "    download_link = row['Download_Link_Sources']\n",
    "    file_name = str(row['File_Name'])  # Convert to string\n",
    "    \n",
    "    # Check if the download link is valid\n",
    "    if pd.notnull(download_link) and pd.notnull(file_name):\n",
    "        # Construct the destination file path\n",
    "        destination_path = os.path.join(os.path.dirname(power_plants_raw_data_sources_file_path), file_name)\n",
    "        \n",
    "        # Copy the content from the download link to the destination file path\n",
    "        shutil.copy(download_link, destination_path)\n",
    "        print(f\"File '{file_name}' copied successfully.\")\n",
    "    else:\n",
    "        print(\"Download link or file name is missing.\")\n"
   ]
  },
  {
   "cell_type": "markdown",
   "id": "b1628f4f-2a1d-4a15-9711-af79cfcb0712",
   "metadata": {},
   "source": [
    "<div style=\"text-align: left; margin-left: 3.0em; font-weight: bold; font-size: 18px; font-family: TimesNewRoman;\">\n",
    "    6. Zone Classification\n",
    "</div>"
   ]
  },
  {
   "cell_type": "markdown",
   "id": "05b79d84-437d-44a6-a899-dd7ecbd0c9e4",
   "metadata": {},
   "source": [
    "<div style=\"text-align: left; margin-left: 0.0em; font-weight: unbold; font-size: 16px; font-family: TimesNewRoman;\">\n",
    "    Filtering the data contained in each downloaded file accordingly the zone previously specified. \n",
    "</div>"
   ]
  },
  {
   "cell_type": "markdown",
   "id": "7033fab2-fa04-4214-8e54-cabc154238b9",
   "metadata": {},
   "source": [
    "<div style=\"text-align: left; margin-left: 3.0em; font-weight: bold; font-size: 17px; font-family: TimesNewRoman;\">\n",
    "    6.1. Zone Definition\n",
    "</div>"
   ]
  },
  {
   "cell_type": "markdown",
   "id": "e87c451a-82cc-4b5c-8de7-9cf8dff9fe41",
   "metadata": {},
   "source": [
    "<div style=\"text-align: left; margin-left: 0.0em; font-weight: unbold; font-size: 16px; font-family: TimesNewRoman;\">\n",
    "    Adding a new column under the name \"Country\" to each downloaded file which have been relationated with a key Zone in the list download_links_zone_related fulfilled previously\n",
    "    <br>\n",
    "    For all those files that have been set with the key \"General\", it is assumed that so file contains data from various zones, so It will be filtered in a different way.\n",
    "</div>"
   ]
  },
  {
   "cell_type": "code",
   "execution_count": 15,
   "id": "260e6277-71d9-4725-932c-72c55f228ded",
   "metadata": {},
   "outputs": [],
   "source": [
    "# Read the CSV file specified in power_plants_raw_data_sources_file_path\n",
    "df_sources = pd.read_csv(power_plants_raw_data_sources_file_path)\n",
    "\n",
    "# Iterate over each row in the DataFrame\n",
    "for index, row in df_sources.iterrows():\n",
    "    file_name = str(row['File_Name'])  # Convert to string\n",
    "    zone = row['Zone']\n",
    "    \n",
    "    # Check if the zone is not \"General\"\n",
    "    if zone != \"General\":\n",
    "        # Construct the path to the corresponding CSV file\n",
    "        csv_file_path = os.path.join(os.path.dirname(power_plants_raw_data_sources_file_path), file_name)\n",
    "        \n",
    "        # Check if the CSV file exists\n",
    "        if os.path.exists(csv_file_path):\n",
    "            # Read the CSV file\n",
    "            df_csv = pd.read_csv(csv_file_path)\n",
    "            \n",
    "            # Add a new column \"Country\" with the value from the \"Zone\" column\n",
    "            df_csv['Country'] = zone\n",
    "            \n",
    "            # Write the updated DataFrame back to the CSV file\n",
    "            df_csv.to_csv(csv_file_path, index=False)\n",
    "            \n",
    "            print(f\"Added 'Country' column to {file_name} with value '{zone}'\")\n",
    "        else:\n",
    "            print(f\"CSV file {file_name} does not exist.\")\n",
    "    else:\n",
    "        print(f\"No action needed for {file_name}\")\n"
   ]
  },
  {
   "cell_type": "markdown",
   "id": "cac2bbe1-e14b-440a-91b8-46f8113406a7",
   "metadata": {},
   "source": [
    "<div style=\"text-align: right; margin-left: 3.0em; font-weight: unbold; font-size: 14px; font-family: TimesNewRoman;\">\n",
    "    Tracking Variables. \n",
    "    <br>\n",
    "    <div style=\"text-align: right; margin-left: 1.50em; font-weight: unbold; font-size: 13px; font-family: TimesNewRoman;\">\n",
    "    This cells are just to confirm all the file names, file paths and other information related to the data being processed.\n",
    "    <br>\n",
    "  Also are used to ensure the inputs for next cells in order to avoid to re-enter the same information each time.\n",
    "</div>"
   ]
  },
  {
   "cell_type": "code",
   "execution_count": 16,
   "id": "bf073512-a22b-444f-a888-b83e46e3da37",
   "metadata": {
    "scrolled": true
   },
   "outputs": [
    {
     "name": "stdout",
     "output_type": "stream",
     "text": [
      "dispaSET_unleash_folder_name: Dispa-SET_Unleash\n",
      "dispaSET_unleash_folder_path: /home/ray/Dispa-SET_Unleash\n",
      "power_plants_raw_data_folder_path: /home/ray/Dispa-SET_Unleash/RawData/PowerPlants/\n",
      "zone_names: ['AT', 'BE', 'BG', 'CH', 'CY', 'CZ', 'DE', 'DK', 'EE', 'EL', 'ES', 'FI', 'FR', 'HR', 'HU', 'IE', 'IT', 'LT', 'LU', 'LV', 'MT', 'NL', 'NO', 'PL', 'PT', 'RO', 'SE', 'SI', 'SK', 'UK']\n",
      "created_zones: {'AT': '/home/ray/Dispa-SET_Unleash/RawData/PowerPlants/AT', 'BE': '/home/ray/Dispa-SET_Unleash/RawData/PowerPlants/BE', 'BG': '/home/ray/Dispa-SET_Unleash/RawData/PowerPlants/BG', 'CH': '/home/ray/Dispa-SET_Unleash/RawData/PowerPlants/CH', 'CY': '/home/ray/Dispa-SET_Unleash/RawData/PowerPlants/CY', 'CZ': '/home/ray/Dispa-SET_Unleash/RawData/PowerPlants/CZ', 'DE': '/home/ray/Dispa-SET_Unleash/RawData/PowerPlants/DE', 'DK': '/home/ray/Dispa-SET_Unleash/RawData/PowerPlants/DK', 'EE': '/home/ray/Dispa-SET_Unleash/RawData/PowerPlants/EE', 'EL': '/home/ray/Dispa-SET_Unleash/RawData/PowerPlants/EL', 'ES': '/home/ray/Dispa-SET_Unleash/RawData/PowerPlants/ES', 'FI': '/home/ray/Dispa-SET_Unleash/RawData/PowerPlants/FI', 'FR': '/home/ray/Dispa-SET_Unleash/RawData/PowerPlants/FR', 'HR': '/home/ray/Dispa-SET_Unleash/RawData/PowerPlants/HR', 'HU': '/home/ray/Dispa-SET_Unleash/RawData/PowerPlants/HU', 'IE': '/home/ray/Dispa-SET_Unleash/RawData/PowerPlants/IE', 'IT': '/home/ray/Dispa-SET_Unleash/RawData/PowerPlants/IT', 'LT': '/home/ray/Dispa-SET_Unleash/RawData/PowerPlants/LT', 'LU': '/home/ray/Dispa-SET_Unleash/RawData/PowerPlants/LU', 'LV': '/home/ray/Dispa-SET_Unleash/RawData/PowerPlants/LV', 'MT': '/home/ray/Dispa-SET_Unleash/RawData/PowerPlants/MT', 'NL': '/home/ray/Dispa-SET_Unleash/RawData/PowerPlants/NL', 'NO': '/home/ray/Dispa-SET_Unleash/RawData/PowerPlants/NO', 'PL': '/home/ray/Dispa-SET_Unleash/RawData/PowerPlants/PL', 'PT': '/home/ray/Dispa-SET_Unleash/RawData/PowerPlants/PT', 'RO': '/home/ray/Dispa-SET_Unleash/RawData/PowerPlants/RO', 'SE': '/home/ray/Dispa-SET_Unleash/RawData/PowerPlants/SE', 'SI': '/home/ray/Dispa-SET_Unleash/RawData/PowerPlants/SI', 'SK': '/home/ray/Dispa-SET_Unleash/RawData/PowerPlants/SK', 'UK': '/home/ray/Dispa-SET_Unleash/RawData/PowerPlants/UK'}\n",
      "power_plants_raw_data_sources_file_path: /home/ray/Dispa-SET_Unleash/RawData/PowerPlants/2020_power_plants_raw_data_sources_20240711_080920/2020_power_plants_raw_data_sources_20240711_080920.csv\n",
      "power_plants_raw_data_sources_file_name: 2020_power_plants_raw_data_sources_20240711_080920.csv\n",
      "data_year: 2020\n",
      "download_links_zone_related: ['AT', 'BE', 'BG', 'CH', 'CY', 'CZ', 'DE', 'DE', 'DE', 'DE', 'DK', 'EE', 'EL', 'ES', 'FI', 'FR', 'HR', 'HU', 'IE', 'IT', 'LT', 'LU', 'LV', 'MT', 'NL', 'NO', 'PL', 'PT', 'RO', 'SE', 'SI', 'SK', 'UK', 'UK']\n"
     ]
    }
   ],
   "source": [
    "print (f\"dispaSET_unleash_folder_name: {dispaSET_unleash_folder_name}\")\n",
    "print (f\"dispaSET_unleash_folder_path: {dispaSET_unleash_folder_path}\")\n",
    "print (f\"power_plants_raw_data_folder_path: {power_plants_raw_data_folder_path}\")\n",
    "print (f\"zone_names: {zone_names}\")\n",
    "print (f\"created_zones: {created_zones}\")\n",
    "print (f\"power_plants_raw_data_sources_file_path: {power_plants_raw_data_sources_file_path}\")\n",
    "print (f\"power_plants_raw_data_sources_file_name: {power_plants_raw_data_sources_file_name}\")\n",
    "print (f\"data_year: {data_year}\")\n",
    "print (f\"download_links_zone_related: {download_links_zone_related}\")"
   ]
  },
  {
   "cell_type": "markdown",
   "id": "a17f7261-6553-44a9-bec6-8e6e0d1c5857",
   "metadata": {},
   "source": [
    "<div style=\"text-align: left; margin-left: 3.0em; font-weight: bold; font-size: 17px; font-family: TimesNewRoman;\">\n",
    "    6.2. Raw Data File Zone Classification\n",
    "</div>"
   ]
  },
  {
   "cell_type": "markdown",
   "id": "ef588fdb-0222-49e2-b6e9-ae53b4dea77b",
   "metadata": {},
   "source": [
    "<div style=\"text-align: left; margin-left: 0.0em; font-weight: unbold; font-size: 16px; font-family: TimesNewRoman;\">\n",
    "    Moving each downloaded file to its corresponding folder zone accordinlgy the download_links_zone_related list.\n",
    "    <br>\n",
    "    The files relationed to the key \"General\" just will keep their current location.\n",
    "</div>"
   ]
  },
  {
   "cell_type": "code",
   "execution_count": 17,
   "id": "85f79b72-1a42-4370-b385-0c8a81b829c2",
   "metadata": {},
   "outputs": [],
   "source": [
    "# Read the raw data sources file\n",
    "df_sources = pd.read_csv(power_plants_raw_data_sources_file_path)\n",
    "\n",
    "# Create a new column Final_File_Path\n",
    "df_sources['Final_File_Path'] = ''\n",
    "\n",
    "# Iterate over each row in the DataFrame\n",
    "for index, row in df_sources.iterrows():\n",
    "    file_name = str(row['File_Name'])\n",
    "    file_path = os.path.join(os.path.dirname(power_plants_raw_data_sources_file_path), file_name)\n",
    "    \n",
    "    # Check if the file exists\n",
    "    if os.path.exists(file_path):\n",
    "        # Open and read the file\n",
    "        df_csv = pd.read_csv(file_path)\n",
    "        \n",
    "        # Check if the file has the header 'Country'\n",
    "        if 'Country' in df_csv.columns:\n",
    "            # Get the corresponding value of 'Zone'\n",
    "            zone_value = row['Zone']\n",
    "            \n",
    "            # Check if the zone folder exists\n",
    "            if zone_value in zone_names:\n",
    "                # Construct the destination folder path\n",
    "                destination_folder = os.path.join(power_plants_raw_data_folder_path, zone_value)\n",
    "                \n",
    "                # Move the file to the destination folder\n",
    "                destination_file_path = os.path.join(destination_folder, file_name)\n",
    "                move(file_path, destination_file_path)\n",
    "                print(f\"Moved file '{file_name}' to '{destination_folder}'\")\n",
    "                \n",
    "                # Get the current path of the moved file\n",
    "                final_file_path = os.path.abspath(destination_file_path)\n",
    "                df_sources.at[index, 'Final_File_Path'] = final_file_path\n",
    "            else:\n",
    "                print(f\"Destination folder for zone '{zone_value}' does not exist.\")\n",
    "        else:\n",
    "            print(f\"No 'Country' header found in file '{file_name}'. No action needed.\")\n",
    "    else:\n",
    "        print(f\"File '{file_name}' does not exist.\")\n",
    "        \n",
    "    # If file was not moved, update Final_File_Path with current path\n",
    "    if not df_sources.at[index, 'Final_File_Path']:\n",
    "        df_sources.at[index, 'Final_File_Path'] = os.path.abspath(file_path)\n",
    "\n",
    "# Save the DataFrame back to the CSV file\n",
    "df_sources.to_csv(power_plants_raw_data_sources_file_path, index=False)"
   ]
  },
  {
   "cell_type": "markdown",
   "id": "ad649afd-68a7-49a1-9fdd-e7d040490919",
   "metadata": {},
   "source": [
    "<div style=\"text-align: left; margin-left: 0.0em; font-weight: unbold; font-size: 16px; font-family: TimesNewRoman;\">\n",
    "    Extracting a list of all the path of the power plants raw data files.\n",
    "    <br>\n",
    "    This list is goning to be used as reference for future filtration stepts.\n",
    "</div>"
   ]
  },
  {
   "cell_type": "code",
   "execution_count": 18,
   "id": "7d1ae4dd-a2c5-4d49-bbf8-0176e692dfd1",
   "metadata": {
    "scrolled": true
   },
   "outputs": [
    {
     "name": "stdout",
     "output_type": "stream",
     "text": [
      "[]\n"
     ]
    }
   ],
   "source": [
    "# Read the CSV file\n",
    "df = pd.read_csv(power_plants_raw_data_sources_file_path)\n",
    "\n",
    "# Create the list power_plants_raw_data_file_list\n",
    "power_plants_raw_data_file_list = []\n",
    "\n",
    "# Iterate over each row in the DataFrame\n",
    "for index, row in df.iterrows():\n",
    "    # Convert integer values to string for File_Name and Final_File_Path\n",
    "    file_name = str(row['File_Name'])\n",
    "    final_file_path = str(row['Final_File_Path'])\n",
    "    \n",
    "    # Concatenate File_Name and Final_File_Path and append to the list\n",
    "    file_path = os.path.join(file_name, final_file_path)\n",
    "    power_plants_raw_data_file_list.append(file_path)\n",
    "\n",
    "# Print the list\n",
    "print(power_plants_raw_data_file_list)"
   ]
  },
  {
   "cell_type": "code",
   "execution_count": 19,
   "id": "34acf3ec-5d39-4d5d-8ef7-ef7b3a1b8d64",
   "metadata": {},
   "outputs": [],
   "source": [
    "# Iterate over each row in the DataFrame\n",
    "for index, row in df.iterrows():\n",
    "    # Extract the folder path\n",
    "    folder_path = os.path.dirname(row['Final_File_Path'])\n",
    "    \n",
    "    # Update the DataFrame with the folder path\n",
    "    df.at[index, 'Folder_Path'] = folder_path\n",
    "\n",
    "# Save the DataFrame back to the CSV file\n",
    "df.to_csv(power_plants_raw_data_sources_file_path, index=False)\n"
   ]
  },
  {
   "cell_type": "markdown",
   "id": "7357227c-c359-43c6-ae52-e4a453bcfcb1",
   "metadata": {},
   "source": [
    "<div style=\"text-align: right; margin-left: 3.0em; font-weight: unbold; font-size: 14px; font-family: TimesNewRoman;\">\n",
    "    Tracking Variables. \n",
    "    <br>\n",
    "    <div style=\"text-align: right; margin-left: 1.50em; font-weight: unbold; font-size: 13px; font-family: TimesNewRoman;\">\n",
    "    This cells are just to confirm all the file names, file paths and other information related to the data being processed.\n",
    "    <br>\n",
    "  Also are used to ensure the inputs for next cells in order to avoid to re-enter the same information each time.\n",
    "</div>"
   ]
  },
  {
   "cell_type": "code",
   "execution_count": 20,
   "id": "f1d68217-9860-4e6b-86b1-5b7d1a97fe87",
   "metadata": {},
   "outputs": [
    {
     "name": "stdout",
     "output_type": "stream",
     "text": [
      "dispaSET_unleash_folder_name: Dispa-SET_Unleash\n",
      "dispaSET_unleash_folder_path: /home/ray/Dispa-SET_Unleash\n",
      "power_plants_raw_data_folder_path: /home/ray/Dispa-SET_Unleash/RawData/PowerPlants/\n",
      "zone_names: ['AT', 'BE', 'BG', 'CH', 'CY', 'CZ', 'DE', 'DK', 'EE', 'EL', 'ES', 'FI', 'FR', 'HR', 'HU', 'IE', 'IT', 'LT', 'LU', 'LV', 'MT', 'NL', 'NO', 'PL', 'PT', 'RO', 'SE', 'SI', 'SK', 'UK']\n",
      "created_zones: {'AT': '/home/ray/Dispa-SET_Unleash/RawData/PowerPlants/AT', 'BE': '/home/ray/Dispa-SET_Unleash/RawData/PowerPlants/BE', 'BG': '/home/ray/Dispa-SET_Unleash/RawData/PowerPlants/BG', 'CH': '/home/ray/Dispa-SET_Unleash/RawData/PowerPlants/CH', 'CY': '/home/ray/Dispa-SET_Unleash/RawData/PowerPlants/CY', 'CZ': '/home/ray/Dispa-SET_Unleash/RawData/PowerPlants/CZ', 'DE': '/home/ray/Dispa-SET_Unleash/RawData/PowerPlants/DE', 'DK': '/home/ray/Dispa-SET_Unleash/RawData/PowerPlants/DK', 'EE': '/home/ray/Dispa-SET_Unleash/RawData/PowerPlants/EE', 'EL': '/home/ray/Dispa-SET_Unleash/RawData/PowerPlants/EL', 'ES': '/home/ray/Dispa-SET_Unleash/RawData/PowerPlants/ES', 'FI': '/home/ray/Dispa-SET_Unleash/RawData/PowerPlants/FI', 'FR': '/home/ray/Dispa-SET_Unleash/RawData/PowerPlants/FR', 'HR': '/home/ray/Dispa-SET_Unleash/RawData/PowerPlants/HR', 'HU': '/home/ray/Dispa-SET_Unleash/RawData/PowerPlants/HU', 'IE': '/home/ray/Dispa-SET_Unleash/RawData/PowerPlants/IE', 'IT': '/home/ray/Dispa-SET_Unleash/RawData/PowerPlants/IT', 'LT': '/home/ray/Dispa-SET_Unleash/RawData/PowerPlants/LT', 'LU': '/home/ray/Dispa-SET_Unleash/RawData/PowerPlants/LU', 'LV': '/home/ray/Dispa-SET_Unleash/RawData/PowerPlants/LV', 'MT': '/home/ray/Dispa-SET_Unleash/RawData/PowerPlants/MT', 'NL': '/home/ray/Dispa-SET_Unleash/RawData/PowerPlants/NL', 'NO': '/home/ray/Dispa-SET_Unleash/RawData/PowerPlants/NO', 'PL': '/home/ray/Dispa-SET_Unleash/RawData/PowerPlants/PL', 'PT': '/home/ray/Dispa-SET_Unleash/RawData/PowerPlants/PT', 'RO': '/home/ray/Dispa-SET_Unleash/RawData/PowerPlants/RO', 'SE': '/home/ray/Dispa-SET_Unleash/RawData/PowerPlants/SE', 'SI': '/home/ray/Dispa-SET_Unleash/RawData/PowerPlants/SI', 'SK': '/home/ray/Dispa-SET_Unleash/RawData/PowerPlants/SK', 'UK': '/home/ray/Dispa-SET_Unleash/RawData/PowerPlants/UK'}\n",
      "power_plants_raw_data_sources_file_path: /home/ray/Dispa-SET_Unleash/RawData/PowerPlants/2020_power_plants_raw_data_sources_20240711_080920/2020_power_plants_raw_data_sources_20240711_080920.csv\n",
      "power_plants_raw_data_sources_file_name: 2020_power_plants_raw_data_sources_20240711_080920.csv\n",
      "data_year: 2020\n",
      "download_links_zone_related: ['AT', 'BE', 'BG', 'CH', 'CY', 'CZ', 'DE', 'DE', 'DE', 'DE', 'DK', 'EE', 'EL', 'ES', 'FI', 'FR', 'HR', 'HU', 'IE', 'IT', 'LT', 'LU', 'LV', 'MT', 'NL', 'NO', 'PL', 'PT', 'RO', 'SE', 'SI', 'SK', 'UK', 'UK']\n",
      "power_plants_raw_data_file_list: []\n"
     ]
    }
   ],
   "source": [
    "print (f\"dispaSET_unleash_folder_name: {dispaSET_unleash_folder_name}\")\n",
    "print (f\"dispaSET_unleash_folder_path: {dispaSET_unleash_folder_path}\")\n",
    "print (f\"power_plants_raw_data_folder_path: {power_plants_raw_data_folder_path}\")\n",
    "print (f\"zone_names: {zone_names}\")\n",
    "print (f\"created_zones: {created_zones}\")\n",
    "print (f\"power_plants_raw_data_sources_file_path: {power_plants_raw_data_sources_file_path}\")\n",
    "print (f\"power_plants_raw_data_sources_file_name: {power_plants_raw_data_sources_file_name}\")\n",
    "print (f\"data_year: {data_year}\")\n",
    "print (f\"download_links_zone_related: {download_links_zone_related}\")\n",
    "print (f\"power_plants_raw_data_file_list: {power_plants_raw_data_file_list}\")"
   ]
  },
  {
   "cell_type": "markdown",
   "id": "c48c450b-fe13-4ece-bde0-e6bbe0555e10",
   "metadata": {},
   "source": [
    "<div style=\"text-align: left; margin-left: 3.0em; font-weight: bold; font-size: 18px; font-family: TimesNewRoman;\">\n",
    "    7. Data Formating\n",
    "</div>"
   ]
  },
  {
   "cell_type": "markdown",
   "id": "78730c7a-354d-4431-b90a-5c1d5691da49",
   "metadata": {},
   "source": [
    "<div style=\"text-align: left; margin-left: 3.0em; font-weight: bold; font-size: 17px; font-family: TimesNewRoman;\">\n",
    "    7.1. Clean Data File Creation\n",
    "</div>"
   ]
  },
  {
   "cell_type": "markdown",
   "id": "d7f95902-be45-4c99-b76b-166fa14c69f4",
   "metadata": {},
   "source": [
    "<div style=\"text-align: left; margin-left: 0.0em; font-weight: unbold; font-size: 16px; font-family: TimesNewRoman;\">\n",
    "    Creating for each zone an empty csv file with all the technical features needed for Dispa-SET simulations as headers.\n",
    "    <br>\n",
    "    This file will be named under the value of the variable data year previously specified\n",
    "    <br>\n",
    "    On this csv file all the filtered data in the following steps will be written.\n",
    "</div>"
   ]
  },
  {
   "cell_type": "code",
   "execution_count": 21,
   "id": "ecfaad8c-4ace-4c05-a186-c0945c60cc04",
   "metadata": {},
   "outputs": [
    {
     "ename": "KeyError",
     "evalue": "'Final_Clean_File_Path'",
     "output_type": "error",
     "traceback": [
      "Traceback \u001b[0;36m(most recent call last)\u001b[0m:\n",
      "\u001b[0m  File \u001b[1;32m~/anaconda3/lib/python3.11/site-packages/pandas/core/indexes/base.py:3805\u001b[0m in \u001b[1;35mget_loc\u001b[0m\n    return self._engine.get_loc(casted_key)\u001b[0m\n",
      "\u001b[0m  File \u001b[1;32mindex.pyx:167\u001b[0m in \u001b[1;35mpandas._libs.index.IndexEngine.get_loc\u001b[0m\n",
      "\u001b[0m  File \u001b[1;32mindex.pyx:196\u001b[0m in \u001b[1;35mpandas._libs.index.IndexEngine.get_loc\u001b[0m\n",
      "\u001b[0m  File \u001b[1;32mpandas/_libs/hashtable_class_helper.pxi:7081\u001b[0m in \u001b[1;35mpandas._libs.hashtable.PyObjectHashTable.get_item\u001b[0m\n",
      "\u001b[0;36m  File \u001b[0;32mpandas/_libs/hashtable_class_helper.pxi:7089\u001b[0;36m in \u001b[0;35mpandas._libs.hashtable.PyObjectHashTable.get_item\u001b[0;36m\n",
      "\u001b[0;31mKeyError\u001b[0m\u001b[0;31m:\u001b[0m 'Final_Clean_File_Path'\n",
      "\nThe above exception was the direct cause of the following exception:\n",
      "Traceback \u001b[0;36m(most recent call last)\u001b[0m:\n",
      "\u001b[0m  Cell \u001b[1;32mIn[21], line 33\u001b[0m\n    power_plants_clean_data_file_list = df['Final_Clean_File_Path'].tolist()\u001b[0m\n",
      "\u001b[0m  File \u001b[1;32m~/anaconda3/lib/python3.11/site-packages/pandas/core/frame.py:4102\u001b[0m in \u001b[1;35m__getitem__\u001b[0m\n    indexer = self.columns.get_loc(key)\u001b[0m\n",
      "\u001b[0;36m  File \u001b[0;32m~/anaconda3/lib/python3.11/site-packages/pandas/core/indexes/base.py:3812\u001b[0;36m in \u001b[0;35mget_loc\u001b[0;36m\n\u001b[0;31m    raise KeyError(key) from err\u001b[0;36m\n",
      "\u001b[0;31mKeyError\u001b[0m\u001b[0;31m:\u001b[0m 'Final_Clean_File_Path'\n"
     ]
    }
   ],
   "source": [
    "# Read the CSV file\n",
    "df = pd.read_csv(power_plants_raw_data_sources_file_path)\n",
    "\n",
    "# Iterate over each row in the DataFrame\n",
    "for index, row in df.iterrows():\n",
    "    # Get the folder path and file name\n",
    "    folder_path = row['Folder_Path']\n",
    "    file_name = f\"{data_year}.csv\"\n",
    "    \n",
    "    # Check if the file already exists in the folder\n",
    "    file_path = os.path.join(folder_path, file_name)\n",
    "    if os.path.exists(file_path):\n",
    "        print(f\"File '{file_name}' already exists in '{folder_path}'.\")\n",
    "        # Update the DataFrame with the existing file name and path\n",
    "        df.at[index, 'Clean_File_Name'] = file_name\n",
    "        df.at[index, 'Final_Clean_File_Path'] = file_path\n",
    "    else:\n",
    "        # Create the new CSV file with the specified headers\n",
    "        headers = [\"\", \"Unit\", \"PowerCapacity\", \"Nunits\", \"Zone\", \"Zone_th\", \"Zone_h2\", \"Technology\", \"Fuel\", \"Efficiency\",\n",
    "                   \"MinUpTime\", \"MinDownTime\", \"RampUpRate\", \"RampDownRate\", \"StartUpCost\", \"NoLoadCost_pu\", \"RampingCost\",\n",
    "                   \"PartLoadMin\", \"MinEfficiency\", \"StartUpTime\", \"CO2Intensity\", \"CHPType\", \"CHPPowerToHeat\",\n",
    "                   \"CHPPowerLossFactor\", \"CHPMaxHeat\", \"COP\", \"Tnominal\", \"coef_COP_a\", \"coef_COP_b\", \"STOCapacity\",\n",
    "                   \"STOSelfDischarge\", \"STOMaxChargingPower\", \"STOChargingEfficiency\", \"WaterWithdrawal\", \"WaterConsumption\", \"Status\", \"Source\",\n",
    "                   \"Company\", \"Lat\", \"Lon\"]\n",
    "        with open(file_path, 'w') as f:\n",
    "            f.write(','.join(headers))\n",
    "        print(f\"Created file '{file_name}' in '{folder_path}'.\")\n",
    "        # Update the DataFrame with the new file name and path\n",
    "        df.at[index, 'Clean_File_Name'] = file_name\n",
    "        df.at[index, 'Final_Clean_File_Path'] = file_path\n",
    "\n",
    "# Create the list of clean data file paths\n",
    "power_plants_clean_data_file_list = df['Final_Clean_File_Path'].tolist()\n",
    "\n",
    "# Remove the header from the list\n",
    "power_plants_clean_data_file_list.pop(0)\n",
    "\n",
    "# Save the DataFrame back to the CSV file\n",
    "df.to_csv(power_plants_raw_data_sources_file_path, index=False)"
   ]
  },
  {
   "cell_type": "code",
   "execution_count": null,
   "id": "8d1dfd3b-2363-4364-9a09-70243c3780d4",
   "metadata": {
    "scrolled": true
   },
   "outputs": [],
   "source": [
    "# Read the CSV file\n",
    "df = pd.read_csv(power_plants_raw_data_sources_file_path)\n",
    "\n",
    "# Create the list power_plants_clean_data_file_list\n",
    "power_plants_clean_data_file_list = []\n",
    "\n",
    "# Iterate over each row in the DataFrame\n",
    "for index, row in df.iterrows():\n",
    "    # Convert integer values to string for File_Name and Final_Clean_File_Path\n",
    "    file_name = str(row['File_Name'])\n",
    "    final_file_path = str(row['Final_Clean_File_Path'])\n",
    "    \n",
    "    # Concatenate File_Name and Final_Clean_File_Path and append to the list\n",
    "    file_path = os.path.join(file_name, final_file_path)\n",
    "    power_plants_clean_data_file_list.append(file_path)\n",
    "\n",
    "# Print the list\n",
    "print(power_plants_clean_data_file_list)"
   ]
  },
  {
   "cell_type": "markdown",
   "id": "cf24a8f4-3a9d-4de2-94a8-6bc312809586",
   "metadata": {},
   "source": [
    "<div style=\"text-align: right; margin-left: 3.0em; font-weight: unbold; font-size: 14px; font-family: TimesNewRoman;\">\n",
    "    Tracking Variables. \n",
    "    <br>\n",
    "    <div style=\"text-align: right; margin-left: 1.50em; font-weight: unbold; font-size: 13px; font-family: TimesNewRoman;\">\n",
    "    This cells are just to confirm all the file names, file paths and other information related to the data being processed.\n",
    "    <br>\n",
    "  Also are used to ensure the inputs for next cells in order to avoid to re-enter the same information each time.\n",
    "</div>"
   ]
  },
  {
   "cell_type": "code",
   "execution_count": null,
   "id": "753a1d1f-7fda-47fb-89a1-d8e588df4936",
   "metadata": {
    "scrolled": true
   },
   "outputs": [],
   "source": [
    "print (f\"dispaSET_unleash_folder_name: {dispaSET_unleash_folder_name}\")\n",
    "print (f\"dispaSET_unleash_folder_path: {dispaSET_unleash_folder_path}\")\n",
    "print (f\"power_plants_raw_data_folder_path: {power_plants_raw_data_folder_path}\")\n",
    "print (f\"zone_names: {zone_names}\")\n",
    "print (f\"created_zones: {created_zones}\")\n",
    "print (f\"power_plants_raw_data_sources_file_path: {power_plants_raw_data_sources_file_path}\")\n",
    "print (f\"power_plants_raw_data_sources_file_name: {power_plants_raw_data_sources_file_name}\")\n",
    "print (f\"data_year: {data_year}\")\n",
    "print (f\"download_links_zone_related: {download_links_zone_related}\")\n",
    "print (f\"power_plants_raw_data_file_list: {power_plants_raw_data_file_list}\")\n",
    "print (f\"power_plants_clean_data_file_list: {power_plants_clean_data_file_list}\")"
   ]
  },
  {
   "cell_type": "markdown",
   "id": "bd7db60a-0dfe-48ea-af65-c336631a04ba",
   "metadata": {},
   "source": [
    "<div style=\"text-align: left; margin-left: 3.0em; font-weight: bold; font-size: 17px; font-family: TimesNewRoman;\">\n",
    "    7.2. Dictionary Files\n",
    "</div>"
   ]
  },
  {
   "cell_type": "markdown",
   "id": "e8be1e61-9351-409f-9d30-ee934141a702",
   "metadata": {},
   "source": [
    "<div style=\"text-align: left; margin-left: 0.0em; font-weight: unbold; font-size: 16px; font-family: TimesNewRoman;\">\n",
    "    Getting the current paths of all the dictionary files that are going to be used as reference for the next filtering data process.\n",
    "        <br>\n",
    "    The dictionady files are .csv files that contain a small data base of al the technical denomination ussually used for the power units, e.g. 'PowerCapacity', 'Energy Source\", 'Technology' etc.\n",
    "</div>"
   ]
  },
  {
   "cell_type": "code",
   "execution_count": null,
   "id": "43cb4c0d-ba67-4047-bab5-44d9a2e43c9f",
   "metadata": {},
   "outputs": [],
   "source": [
    "#dispaSET_unleash_folder_path = \"/home/ray/Dispa-SET_Unleash\"  # Replace with your actual path\n",
    "\n",
    "# List of file names\n",
    "file_names = [\n",
    "    \"ENTSOE_Production_Type.csv\",\n",
    "    \"power_plants_clean_data_equivalent_headers.csv\",\n",
    "    \"power_plants_all_data_equivalent_technologies.csv\",\n",
    "    \"power_plants_all_data_equivalent_fuels.csv\",\n",
    "    \"power_plants_all_data_equivalent_CHPTypes.csv\",\n",
    "    \"EU_Power_Units_Technical_Features.csv\"\n",
    "]\n",
    "\n",
    "# Dictionary to store file paths\n",
    "file_paths = {}\n",
    "\n",
    "# Construct file paths\n",
    "for file_name in file_names:\n",
    "    # Construct the file path\n",
    "    file_path = os.path.join(dispaSET_unleash_folder_path, \"RawData\", \"PowerPlants\", file_name)\n",
    "\n",
    "    # Store the file path in the dictionary\n",
    "    file_paths[file_name] = file_path\n",
    "\n",
    "# Define variables explicitly using the file paths\n",
    "EU_Power_Units_Technical_Features_file_path = file_paths[\"EU_Power_Units_Technical_Features.csv\"]\n",
    "power_plants_clean_data_equivalent_headers_file_path = file_paths[\"power_plants_clean_data_equivalent_headers.csv\"]\n",
    "power_plants_all_data_equivalent_technologies_file_path = file_paths[\"power_plants_all_data_equivalent_technologies.csv\"]\n",
    "power_plants_all_data_equivalent_fuels_file_path = file_paths[\"power_plants_all_data_equivalent_fuels.csv\"]\n",
    "power_plants_all_data_equivalent_CHPTypes_file_path = file_paths[\"power_plants_all_data_equivalent_CHPTypes.csv\"]\n",
    "ENTSOE_Production_Type_file_path = file_paths[\"ENTSOE_Production_Type.csv\"]\n",
    "# ... Define other variables similarly using file_paths dictionary\n",
    "\n",
    "# The variables are now accessible throughout your code.\n",
    "\n",
    "# Print the variables (optional)\n",
    "for file_name, file_path in file_paths.items():\n",
    "     print(f\"{file_name.split('.')[0]}_file_path: {file_path}\")"
   ]
  },
  {
   "cell_type": "markdown",
   "id": "e0647c46-3621-4056-8ed3-2287b09ad77f",
   "metadata": {},
   "source": [
    "<div style=\"text-align: right; margin-left: 3.0em; font-weight: unbold; font-size: 14px; font-family: TimesNewRoman;\">\n",
    "    Tracking Variables. \n",
    "    <br>\n",
    "    <div style=\"text-align: right; margin-left: 1.50em; font-weight: unbold; font-size: 13px; font-family: TimesNewRoman;\">\n",
    "    This cells are just to confirm all the file names, file paths and other information related to the data being processed.\n",
    "    <br>\n",
    "  Also are used to ensure the inputs for next cells in order to avoid to re-enter the same information each time.\n",
    "</div>"
   ]
  },
  {
   "cell_type": "code",
   "execution_count": null,
   "id": "b8a3ab53-7bb8-405a-b9d3-34ce120e1ad2",
   "metadata": {
    "scrolled": true
   },
   "outputs": [],
   "source": [
    "print (f\"dispaSET_unleash_folder_name: {dispaSET_unleash_folder_name}\")\n",
    "print (f\"dispaSET_unleash_folder_path: {dispaSET_unleash_folder_path}\")\n",
    "print (f\"power_plants_raw_data_folder_path: {power_plants_raw_data_folder_path}\")\n",
    "print (f\"zone_names: {zone_names}\")\n",
    "print (f\"created_zones: {created_zones}\")\n",
    "print (f\"power_plants_raw_data_sources_file_path: {power_plants_raw_data_sources_file_path}\")\n",
    "print (f\"power_plants_raw_data_sources_file_name: {power_plants_raw_data_sources_file_name}\")\n",
    "print (f\"data_year: {data_year}\")\n",
    "print (f\"download_links_zone_related: {download_links_zone_related}\")\n",
    "print (f\"power_plants_raw_data_file_list: {power_plants_raw_data_file_list}\")\n",
    "print (f\"power_plants_clean_data_file_list: {power_plants_clean_data_file_list}\")\n",
    "print (f\"power_plants_clean_data_equivalent_headers_file_path: {power_plants_clean_data_equivalent_headers_file_path}\")\n",
    "print (f\"power_plants_all_data_equivalent_technologies_file_path: {power_plants_all_data_equivalent_technologies_file_path}\")\n",
    "print (f\"power_plants_all_data_equivalent_fuels_file_path: {power_plants_all_data_equivalent_fuels_file_path}\")\n",
    "print (f\"power_plants_all_data_equivalent_CHPTypes_file_path: {power_plants_all_data_equivalent_CHPTypes_file_path}\")\n",
    "print (f\"EU_Power_Units_Technical_Features_file_path: {EU_Power_Units_Technical_Features_file_path}\")\n",
    "print (f\"ENTSOE_Production_Type_file_path: {ENTSOE_Production_Type_file_path}\")"
   ]
  },
  {
   "cell_type": "markdown",
   "id": "bec3ab42-124b-42cf-9e33-d86e5ec60db3",
   "metadata": {},
   "source": [
    "<div style=\"text-align: left; margin-left: 3.0em; font-weight: bold; font-size: 17px; font-family: TimesNewRoman;\">\n",
    "    7.3. ENTSOE SOURCE FILES DATA PRODUCTION TECHNOLOGY TYPE\n",
    "</div>"
   ]
  },
  {
   "cell_type": "markdown",
   "id": "e5a4c7f1-72d1-4ca6-9f56-0bef5cbd6263",
   "metadata": {},
   "source": [
    "<div style=\"text-align: left; margin-left: 0.0em; font-weight: unbold; font-size: 16px; font-family: TimesNewRoman;\">\n",
    "    Getting the technology and fuel clasification for all the raw data from ENTSO-E source.\n",
    "        <br>\n",
    "    Since all the data obtained from ENTSO-E web portal does not make a classification of generation technology and fuel source, it is going to use the dictionary called \"ENTSO-E_Production_Type.csv\" where all the equivalent technologies and fuels are going to be extracted accoding the \"Production Type\" classification used by ENTSO-E.\n",
    " \n",
    "</div>"
   ]
  },
  {
   "cell_type": "code",
   "execution_count": null,
   "id": "e54bbca8-7e40-4675-8049-203203497fbd",
   "metadata": {},
   "outputs": [],
   "source": [
    "# Read the CSV files\n",
    "#power_plants_file_path = \"/home/ray/Dispa-SET_Unleash/RawData/PowerPlants/2023_power_plants_raw_data_sources_20240507_132711/2023_power_plants_raw_data_sources_20240507_132711.csv\"\n",
    "#entsoe_production_type_file_path = \"/home/ray/Dispa-SET_Unleash/RawData/PowerPlants/ENTSOE_Production_Type.csv\"\n",
    "\n",
    "power_plants_df = pd.read_csv(power_plants_raw_data_sources_file_path)\n",
    "entsoe_production_type_df = pd.read_csv(ENTSOE_Production_Type_file_path)\n",
    "\n",
    "# Function to process each text file\n",
    "def process_text_file(text_file_path):\n",
    "    # Read the text file\n",
    "    with open(text_file_path, 'r') as file:\n",
    "        lines = file.readlines()\n",
    "\n",
    "    # Check if 'Production Type' column exists\n",
    "    header = lines[0].strip().split(',')\n",
    "    if 'Production Type' in header:\n",
    "        # Add 'Technology' and 'Fuel' columns if not present\n",
    "        if 'Technology' not in header:\n",
    "            header.extend(['Technology', 'Fuel'])\n",
    "            lines[0] = ','.join(header) + '\\n'\n",
    "\n",
    "        # Extract 'Production Type' column index\n",
    "        production_type_index = header.index('Production Type')\n",
    "\n",
    "        # Process each row in the text file\n",
    "        for i in range(1, len(lines)):\n",
    "            fields = lines[i].strip().split(',')\n",
    "            production_type = fields[production_type_index]\n",
    "\n",
    "            # Find corresponding technology and fuel\n",
    "            match_row = entsoe_production_type_df[entsoe_production_type_df['Complete Term'] == production_type]\n",
    "            if not match_row.empty:\n",
    "                technology = match_row['technology'].values[0]\n",
    "                fuel = match_row['fuel'].values[0]\n",
    "                fields.extend([technology, fuel])\n",
    "                lines[i] = ','.join(fields) + '\\n'\n",
    "\n",
    "        # Write back to the text file\n",
    "        with open(text_file_path, 'w') as file:\n",
    "            file.writelines(lines)\n",
    "        \n",
    "        # Print message when the file is done\n",
    "        print(f\"Processed {text_file_path}\")\n",
    "\n",
    "# Process each row in power_plants_df\n",
    "for index, row in power_plants_df.iterrows():\n",
    "    text_file_path = row['Final_File_Path']\n",
    "    if os.path.exists(text_file_path):\n",
    "        process_text_file(text_file_path)"
   ]
  },
  {
   "cell_type": "markdown",
   "id": "63e3a3f7-60ca-49ec-8108-7876e9908e14",
   "metadata": {},
   "source": [
    "<div style=\"text-align: left; margin-left: 3.0em; font-weight: bold; font-size: 17px; font-family: TimesNewRoman;\">\n",
    "    7.4. Raw Data Files Zone Classification\n",
    "</div>"
   ]
  },
  {
   "cell_type": "markdown",
   "id": "789fb16d-28a2-45a4-bde4-a2fe5fc22881",
   "metadata": {},
   "source": [
    "<div style=\"text-align: left; margin-left: 0.0em; font-weight: unbold; font-size: 16px; font-family: TimesNewRoman;\">\n",
    "    Copying all the needed columns from the raw data files to the clean data files in base to the order given by the lists power_plants_raw_data_file_list and power_plants_clean_data_file_list.\n",
    "        <br>\n",
    "    This processes is made to each zone calling the function copy_columns_to_clean_data.py\n",
    "</div>"
   ]
  },
  {
   "cell_type": "markdown",
   "id": "ee653ceb-5361-4133-b06f-bcc4eaa24b88",
   "metadata": {},
   "source": [
    "<div style=\"text-align: right; margin-left: 3.0em; font-weight: unbold; font-size: 14px; font-family: TimesNewRoman;\">\n",
    "    Tracking Variables. \n",
    "    <br>\n",
    "    <div style=\"text-align: right; margin-left: 1.50em; font-weight: unbold; font-size: 13px; font-family: TimesNewRoman;\">\n",
    "    This cells are just to confirm all the file names, file paths and other information related to the data being processed.\n",
    "    <br>\n",
    "  Also are used to ensure the inputs for next cells in order to avoid to re-enter the same information each time.\n",
    "</div>"
   ]
  },
  {
   "cell_type": "code",
   "execution_count": null,
   "id": "1347274b-6d99-4569-97e9-016dfacb0ab8",
   "metadata": {},
   "outputs": [],
   "source": [
    "power_plants_raw_data_file_list"
   ]
  },
  {
   "cell_type": "code",
   "execution_count": null,
   "id": "ad2b8535-b904-4555-881e-e51c8b4bcb18",
   "metadata": {},
   "outputs": [],
   "source": [
    "power_plants_clean_data_file_list"
   ]
  },
  {
   "cell_type": "code",
   "execution_count": null,
   "id": "4d480d94-e558-4c80-b688-b6c5c517a7eb",
   "metadata": {},
   "outputs": [],
   "source": [
    "from copy_columns_to_clean_data import copy_columns_to_clean_data\n",
    "# Iterate over each pair of files\n",
    "for raw_data_file, clean_data_file in zip(power_plants_raw_data_file_list, power_plants_clean_data_file_list):\n",
    "    # Call the function with appropriate arguments\n",
    "    copy_columns_to_clean_data(raw_data_file, clean_data_file, power_plants_clean_data_equivalent_headers_file_path)"
   ]
  },
  {
   "cell_type": "markdown",
   "id": "8b50ee57-cfbf-41b1-832b-30b5aef8f9ca",
   "metadata": {},
   "source": [
    "<div style=\"text-align: left; margin-left: 3.0em; font-weight: bold; font-size: 17px; font-family: TimesNewRoman;\">\n",
    "    7.5. Units Name Field Fulfill\n",
    "</div>"
   ]
  },
  {
   "cell_type": "markdown",
   "id": "c51c058e-f972-47d0-850b-1a8dbf92a332",
   "metadata": {},
   "source": [
    "<div style=\"text-align: left; margin-left: 0.0em; font-weight: unbold; font-size: 16px; font-family: TimesNewRoman;\">\n",
    "    Verifying the \"Unit\" field in all the rows of each cleand data file.\n",
    "        <br>\n",
    "     If there is no value, the corresponding latitud and longitud value is going to be used as identifier of the corresponding unit. \n",
    "        <br>\n",
    "    If there is no value in the latitud and longitud fields the corresponding \"Company\" data is going to be taken.\n",
    "    <br>\n",
    "    Finally if there is not any company related data, the \"Unit\" field is going to be performed form the zone name plus an increasing numner.\n",
    "        <br>\n",
    "    This processes is made to each zone calling the function units_name_filfilling.py\n",
    "</div>"
   ]
  },
  {
   "cell_type": "markdown",
   "id": "0713cc8c-a135-460d-9a96-67a4983871ce",
   "metadata": {},
   "source": [
    "<div style=\"text-align: right; margin-left: 3.0em; font-weight: unbold; font-size: 14px; font-family: TimesNewRoman;\">\n",
    "    Tracking Variables. \n",
    "    <br>\n",
    "    <div style=\"text-align: right; margin-left: 1.50em; font-weight: unbold; font-size: 13px; font-family: TimesNewRoman;\">\n",
    "    This cells are just to confirm all the file names, file paths and other information related to the data being processed.\n",
    "    <br>\n",
    "  Also are used to ensure the inputs for next cells in order to avoid to re-enter the same information each time.\n",
    "</div>"
   ]
  },
  {
   "cell_type": "code",
   "execution_count": null,
   "id": "b85483a8-2534-4ce0-b529-32264b438003",
   "metadata": {},
   "outputs": [],
   "source": [
    "power_plants_clean_data_file_list"
   ]
  },
  {
   "cell_type": "code",
   "execution_count": null,
   "id": "fdfad990-718e-47de-93d3-e13b981c1f7e",
   "metadata": {
    "scrolled": true
   },
   "outputs": [],
   "source": [
    "from Data_Processing_Functions import fill_unit_field\n",
    "\n",
    "# List of file paths\n",
    "#power_plants_clean_data_file_list = ['path_to_file1.csv', 'path_to_file2.csv', 'path_to_file3.csv']\n",
    "\n",
    "# Iterate over each file path\n",
    "for file_path in power_plants_clean_data_file_list:\n",
    "    fill_unit_field(file_path)"
   ]
  },
  {
   "cell_type": "markdown",
   "id": "84a69326-47d5-449a-a0a6-9573bb7ed56d",
   "metadata": {},
   "source": [
    "<div style=\"text-align: left; margin-left: 3.0em; font-weight: bold; font-size: 17px; font-family: TimesNewRoman;\">\n",
    "    7.6. Nunits Field Fulfill\n",
    "</div>"
   ]
  },
  {
   "cell_type": "markdown",
   "id": "2c52173a-eb81-4793-9ed2-737e17ae28a3",
   "metadata": {},
   "source": [
    "<div style=\"text-align: left; margin-left: 0.0em; font-weight: unbold; font-size: 16px; font-family: TimesNewRoman;\">\n",
    "    Verifying the \"Nunit\" field in all the rows of each cleand data file.\n",
    "        <br>\n",
    "     If there is no value, the field is gonna be filled by 1.\n",
    "        <br>\n",
    "    This processes is made for each zone calling the function fill_nunits_column.py\n",
    "</div>"
   ]
  },
  {
   "cell_type": "markdown",
   "id": "a051f936-0db3-4051-8790-43128c1db12b",
   "metadata": {},
   "source": [
    "<div style=\"text-align: right; margin-left: 3.0em; font-weight: unbold; font-size: 14px; font-family: TimesNewRoman;\">\n",
    "    Tracking Variables. \n",
    "    <br>\n",
    "    <div style=\"text-align: right; margin-left: 1.50em; font-weight: unbold; font-size: 13px; font-family: TimesNewRoman;\">\n",
    "    This cells are just to confirm all the file names, file paths and other information related to the data being processed.\n",
    "    <br>\n",
    "  Also are used to ensure the inputs for next cells in order to avoid to re-enter the same information each time.\n",
    "</div>"
   ]
  },
  {
   "cell_type": "code",
   "execution_count": null,
   "id": "bbed1c82-1722-4182-bad7-3017f1d97993",
   "metadata": {},
   "outputs": [],
   "source": [
    "power_plants_clean_data_file_list"
   ]
  },
  {
   "cell_type": "code",
   "execution_count": null,
   "id": "03eb6033-dbf1-4c3e-a60c-41689e740215",
   "metadata": {
    "scrolled": true
   },
   "outputs": [],
   "source": [
    "from Data_Processing_Functions import fill_nunits_column\n",
    "\n",
    "# List of file paths\n",
    "#clean_data_file_paths = [\"path/to/your/clean_data1.csv\", \"path/to/your/clean_data2.csv\", ...]\n",
    "\n",
    "# Apply the function to each file\n",
    "for file_path in power_plants_clean_data_file_list:\n",
    "    fill_nunits_column(file_path)"
   ]
  },
  {
   "cell_type": "markdown",
   "id": "4abac9b0-8d7d-4156-8dfe-a8f959f7b748",
   "metadata": {},
   "source": [
    "<div style=\"text-align: left; margin-left: 3.0em; font-weight: bold; font-size: 17px; font-family: TimesNewRoman;\">\n",
    "    7.7. Zone Field Filter\n",
    "</div>"
   ]
  },
  {
   "cell_type": "markdown",
   "id": "5af55ca0-97d8-4216-8d28-505cd89628f0",
   "metadata": {},
   "source": [
    "<div style=\"text-align: left; margin-left: 0.0em; font-weight: unbold; font-size: 16px; font-family: TimesNewRoman;\">\n",
    "    Verifying the \"Zone\" field in all the rows of each cleand data file.\n",
    "        <br>\n",
    "     If there is no value, the field is gonna be took out from the file.\n",
    "    <br>\n",
    "     Additionally all the eliminated rows are going to be storage in a csv file called power_plants_all_data_not_defined_units.\n",
    "        <br>\n",
    "    This processes is made for each zone calling the function units_name_filter.py\n",
    "</div>"
   ]
  },
  {
   "cell_type": "markdown",
   "id": "e3c7e08e-51e8-4c23-bade-fc542c96ff5c",
   "metadata": {},
   "source": [
    "<div style=\"text-align: right; margin-left: 3.0em; font-weight: unbold; font-size: 14px; font-family: TimesNewRoman;\">\n",
    "    Tracking Variables. \n",
    "    <br>\n",
    "    <div style=\"text-align: right; margin-left: 1.50em; font-weight: unbold; font-size: 13px; font-family: TimesNewRoman;\">\n",
    "    This cells are just to confirm all the file names, file paths and other information related to the data being processed.\n",
    "    <br>\n",
    "  Also are used to ensure the inputs for next cells in order to avoid to re-enter the same information each time.\n",
    "</div>"
   ]
  },
  {
   "cell_type": "code",
   "execution_count": null,
   "id": "144e4606-1de8-4980-b0ea-33857fae6f4b",
   "metadata": {
    "scrolled": true
   },
   "outputs": [],
   "source": [
    "print (f\"dispaSET_unleash_folder_name: {dispaSET_unleash_folder_name}\")\n",
    "print (f\"dispaSET_unleash_folder_path: {dispaSET_unleash_folder_path}\")\n",
    "print (f\"power_plants_raw_data_folder_path: {power_plants_raw_data_folder_path}\")\n",
    "print (f\"zone_names: {zone_names}\")\n",
    "print (f\"created_zones: {created_zones}\")\n",
    "print (f\"power_plants_raw_data_sources_file_path: {power_plants_raw_data_sources_file_path}\")\n",
    "print (f\"power_plants_raw_data_sources_file_name: {power_plants_raw_data_sources_file_name}\")\n",
    "print (f\"data_year: {data_year}\")\n",
    "print (f\"download_links_zone_related: {download_links_zone_related}\")\n",
    "print (f\"power_plants_raw_data_file_list: {power_plants_raw_data_file_list}\")\n",
    "print (f\"power_plants_clean_data_file_list: {power_plants_clean_data_file_list}\")\n",
    "print (f\"power_plants_clean_data_equivalent_headers_file_path: {power_plants_clean_data_equivalent_headers_file_path}\")\n",
    "print (f\"power_plants_all_data_equivalent_technologies_file_path: {power_plants_all_data_equivalent_technologies_file_path}\")\n",
    "print (f\"power_plants_all_data_equivalent_fuels_file_path: {power_plants_all_data_equivalent_fuels_file_path}\")\n",
    "print (f\"power_plants_all_data_equivalent_CHPTypes_file_path: {power_plants_all_data_equivalent_CHPTypes_file_path}\")\n",
    "print (f\"EU_Power_Units_Technical_Features_file_path: {EU_Power_Units_Technical_Features_file_path}\")"
   ]
  },
  {
   "attachments": {},
   "cell_type": "markdown",
   "id": "055745d0-1cd8-4122-bf44-0f0881307eb2",
   "metadata": {},
   "source": [
    "<div style=\"text-align: left; margin-left: 3.0em; font-weight: bold; font-size: 16px; font-family: TimesNewRoman;\">\n",
    "    7.7.1. Not Defined Units File Creation\n",
    "</div>\n",
    "\n",
    "<div style=\"text-align: left; margin-left: 0.0em; font-weight: unbold; font-size: 16px; font-family: TimesNewRoman;\">\n",
    "    Creating a .csv file for each zone where all those units that has some missing data in one of their field are going to be written such as all the units that are took out from the final clean data file for some other reason.\n",
    "\n",
    "</div>"
   ]
  },
  {
   "cell_type": "code",
   "execution_count": null,
   "id": "75f39925-beac-41eb-934a-23655f3cc5e7",
   "metadata": {},
   "outputs": [],
   "source": [
    "# Function to create the CSV file with specified headers\n",
    "def create_csv_file(file_path, headers):\n",
    "    with open(file_path, 'w', newline='') as csvfile:\n",
    "        writer = csv.writer(csvfile)\n",
    "        writer.writerow(headers)\n",
    "\n",
    "# Define the headers for the CSV file\n",
    "headers = [\"\", \"Unit\", \"PowerCapacity\", \"Nunits\", \"Zone\", \"Zone_th\", \"Zone_h2\", \"Technology\", \"Fuel\", \"Efficiency\",\n",
    "           \"MinUpTime\", \"MinDownTime\", \"RampUpRate\", \"RampDownRate\", \"StartUpCost\", \"NoLoadCost_pu\", \"RampingCost\",\n",
    "           \"PartLoadMin\", \"MinEfficiency\", \"StartUpTime\", \"CO2Intensity\", \"CHPType\", \"CHPPowerToHeat\",\n",
    "           \"CHPPowerLossFactor\", \"CHPMaxHeat\", \"COP\", \"Tnominal\", \"coef_COP_a\", \"coef_COP_b\", \"STOCapacity\",\n",
    "           \"STOSelfDischarge\", \"STOMaxChargingPower\", \"STOChargingEfficiency\", \"WaterWithdrawal\", \"WaterConsumption\", \"Status\", \"Source\",\n",
    "           \"Company\", \"Lat\", \"Lon\"]\n",
    "\n",
    "# List to store the paths of created CSV files\n",
    "power_plants_all_data_not_defined_units_file_list = []\n",
    "\n",
    "# Read the CSV file and create CSV files in each folder path\n",
    "with open(power_plants_raw_data_sources_file_path, 'r') as csvfile:\n",
    "    reader = csv.DictReader(csvfile)\n",
    "    for row in reader:\n",
    "        folder_path = row['Folder_Path']\n",
    "        file_name = 'power_plants_all_data_not_defined_units.csv'\n",
    "        file_path = os.path.join(folder_path, file_name)\n",
    "        create_csv_file(file_path, headers)\n",
    "        print(f\"CSV file created at {file_path}\")\n",
    "        power_plants_all_data_not_defined_units_file_list.append(file_path)\n",
    "\n",
    "print(\"All CSV files created successfully.\")"
   ]
  },
  {
   "cell_type": "markdown",
   "id": "05728d2e-4f01-4c59-8051-8b88591daa49",
   "metadata": {},
   "source": [
    "<div style=\"text-align: left; margin-left: 3.0em; font-weight: bold; font-size: 16px; font-family: TimesNewRoman;\">\n",
    "    7.7.2. No Data Zone Field Elimination\n",
    "</div>\n",
    "<div style=\"text-align: left; margin-left: 0.0em; font-weight: unbold; font-size: 16px; font-family: TimesNewRoman;\">\n",
    "    Eliminating all the data that does not have a zone, country, region etc. in its Zone field.\n",
    "</div>"
   ]
  },
  {
   "cell_type": "markdown",
   "id": "3fc73fc3-e4b4-4979-866a-009a03faf654",
   "metadata": {},
   "source": [
    "<div style=\"text-align: right; margin-left: 3.0em; font-weight: unbold; font-size: 14px; font-family: TimesNewRoman;\">\n",
    "    Tracking Variables. \n",
    "    <br>\n",
    "    <div style=\"text-align: right; margin-left: 1.50em; font-weight: unbold; font-size: 13px; font-family: TimesNewRoman;\">\n",
    "    This cells are just to confirm all the file names, file paths and other information related to the data being processed.\n",
    "    <br>\n",
    "  Also are used to ensure the inputs for next cells in order to avoid to re-enter the same information each time.\n",
    "</div>"
   ]
  },
  {
   "cell_type": "code",
   "execution_count": null,
   "id": "aaf48d85-dde7-42fc-856b-3657050fe430",
   "metadata": {},
   "outputs": [],
   "source": [
    "power_plants_all_data_not_defined_units_file_list"
   ]
  },
  {
   "cell_type": "code",
   "execution_count": null,
   "id": "9aa96616-36dc-4d81-881e-328c288664bf",
   "metadata": {},
   "outputs": [],
   "source": [
    "power_plants_clean_data_file_list"
   ]
  },
  {
   "cell_type": "code",
   "execution_count": null,
   "id": "107dfc6f-7821-4c9d-95b5-2727650c71de",
   "metadata": {},
   "outputs": [],
   "source": [
    "from Data_Processing_Functions import move_rows_with_empty_zone\n",
    "\n",
    "# Iterate over each pair of files\n",
    "for clean_data_file, all_data_file in zip(power_plants_clean_data_file_list, power_plants_all_data_not_defined_units_file_list):\n",
    "    # Call the function with appropriate arguments\n",
    "    move_rows_with_empty_zone([clean_data_file], [all_data_file])"
   ]
  },
  {
   "cell_type": "markdown",
   "id": "9a0965c4-2c1c-4773-8d0e-c9bd9ff43586",
   "metadata": {},
   "source": [
    "<div style=\"text-align: left; margin-left: 3.0em; font-weight: bold; font-size: 17px; font-family: TimesNewRoman;\">\n",
    "    7.8. Technology Field Filter\n",
    "</div>"
   ]
  },
  {
   "cell_type": "markdown",
   "id": "76b64b0f-7cd5-483b-adf1-b2ef5488644d",
   "metadata": {},
   "source": [
    "<div style=\"text-align: left; margin-left: 0.0em; font-weight: unbold; font-size: 16px; font-family: TimesNewRoman;\">\n",
    "    Re-naming the current value of all the fileds of Technology column.\n",
    "    <br>\n",
    "    Since the generation technology name of the power units may not be homogeneous among all data sources. The current value of this field is compared with the technology equivalence dictionary database to obtain the one corresponding to the Dispa-SET format.\n",
    "        <br>\n",
    "    Additionally all the rows which Technolgy field have not been matched with any equivalency are going to be took out fron the cleand data file and added to the not defined units data list.\n",
    "    <br>\n",
    "    This process is done for each zone.\n",
    "</div>"
   ]
  },
  {
   "cell_type": "markdown",
   "id": "88355f5b-1f82-4eeb-8146-ed31c2a75f16",
   "metadata": {},
   "source": [
    "<div style=\"text-align: right; margin-left: 3.0em; font-weight: unbold; font-size: 14px; font-family: TimesNewRoman;\">\n",
    "    Tracking Variables. \n",
    "    <br>\n",
    "    <div style=\"text-align: right; margin-left: 1.50em; font-weight: unbold; font-size: 13px; font-family: TimesNewRoman;\">\n",
    "    This cells are just to confirm all the file names, file paths and other information related to the data being processed.\n",
    "    <br>\n",
    "  Also are used to ensure the inputs for next cells in order to avoid to re-enter the same information each time.\n",
    "</div>"
   ]
  },
  {
   "cell_type": "code",
   "execution_count": null,
   "id": "239b1a33-5969-476e-9521-e0ad95133dc5",
   "metadata": {
    "scrolled": true
   },
   "outputs": [],
   "source": [
    "print (f\"dispaSET_unleash_folder_name:                                {dispaSET_unleash_folder_name}\")\n",
    "print (f\"dispaSET_unleash_folder_path:                                {dispaSET_unleash_folder_path}\")\n",
    "print (f\"power_plants_raw_data_folder_path:                           {power_plants_raw_data_folder_path}\")\n",
    "print (f\"zone_names:                                                  {zone_names}\")\n",
    "print (f\"created_zones:                                               {created_zones}\")\n",
    "print (f\"power_plants_raw_data_sources_file_path:                     {power_plants_raw_data_sources_file_path}\")\n",
    "print (f\"power_plants_raw_data_sources_file_name:                     {power_plants_raw_data_sources_file_name}\")\n",
    "print (f\"data_year:                                                   {data_year}\")\n",
    "print (f\"download_links_zone_related:                                 {download_links_zone_related}\")\n",
    "print (f\"power_plants_raw_data_file_list:                             {power_plants_raw_data_file_list}\")\n",
    "print (f\"power_plants_clean_data_file_list:                           {power_plants_clean_data_file_list}\")\n",
    "print (f\"power_plants_clean_data_equivalent_headers_file_path:        {power_plants_clean_data_equivalent_headers_file_path}\")\n",
    "print (f\"power_plants_all_data_equivalent_technologies_file_path:     {power_plants_all_data_equivalent_technologies_file_path}\")\n",
    "print (f\"power_plants_all_data_equivalent_fuels_file_path:            {power_plants_all_data_equivalent_fuels_file_path}\")\n",
    "print (f\"power_plants_all_data_equivalent_CHPTypes_file_path:         {power_plants_all_data_equivalent_CHPTypes_file_path}\")\n",
    "print (f\"EU_Power_Units_Technical_Features_file_path:                 {EU_Power_Units_Technical_Features_file_path}\")\n",
    "print (f\"power_plants_clean_data_file_list:                           {power_plants_clean_data_file_list}\")\n",
    "print (f\"power_plants_raw_data_file_list:                             {power_plants_raw_data_file_list}\")\n",
    "print (f\"power_plants_all_data_not_defined_units_file_list:           {power_plants_all_data_not_defined_units_file_list}\")"
   ]
  },
  {
   "cell_type": "code",
   "execution_count": null,
   "id": "61e72cef-7c1e-44d3-9562-07ccba28330f",
   "metadata": {},
   "outputs": [],
   "source": [
    "from Data_Processing_Functions import update_technology_equivalents\n",
    "\n",
    "# Iterate over each pair of files\n",
    "for clean_data_file, not_defined_units_file in zip(power_plants_clean_data_file_list, power_plants_all_data_not_defined_units_file_list):\n",
    "    # Call the function with appropriate arguments\n",
    "    update_technology_equivalents(clean_data_file, power_plants_all_data_equivalent_technologies_file_path, not_defined_units_file)"
   ]
  },
  {
   "cell_type": "markdown",
   "id": "367e5dd8-6719-488e-b0c7-816607513c7c",
   "metadata": {},
   "source": [
    "<div style=\"text-align: left; margin-left: 3.0em; font-weight: bold; font-size: 17px; font-family: TimesNewRoman;\">\n",
    "    7.9. Fuel Field Filter\n",
    "</div>"
   ]
  },
  {
   "cell_type": "markdown",
   "id": "5b7dab31-f449-41fb-9437-8241d30346d9",
   "metadata": {},
   "source": [
    "<div style=\"text-align: left; margin-left: 0.0em; font-weight: unbold; font-size: 16px; font-family: TimesNewRoman;\">\n",
    "    Re-naming the current value of all the fields of Fuel column.\n",
    "    <br>\n",
    "    Since the fuel sources names of the power units may not be homogeneous among all data sources. The current value of this field is compared with the fuel equivalence dictionary database to obtain the one corresponding to the Dispa-SET format.\n",
    "        <br>\n",
    "    Additionally all the rows which Fuel field have not been matched with any equivalency are going to be took out fron the cleand data file and added to the not defined units data list. \n",
    "    <br>\n",
    "    This process is done for each zone.\n",
    "</div>"
   ]
  },
  {
   "cell_type": "code",
   "execution_count": null,
   "id": "873676ad-89cd-430c-8fae-fc269a5d7a64",
   "metadata": {},
   "outputs": [],
   "source": [
    "from Data_Processing_Functions import update_fuel_equivalents\n",
    "\n",
    "# Iterate over each pair of files\n",
    "for clean_data_file_path, not_defined_units_file_path in zip(power_plants_clean_data_file_list, power_plants_all_data_not_defined_units_file_list):\n",
    "    # Call the function with appropriate arguments\n",
    "    update_fuel_equivalents(clean_data_file_path, power_plants_all_data_equivalent_fuels_file_path, not_defined_units_file_path)"
   ]
  },
  {
   "cell_type": "markdown",
   "id": "5827b8cd-9537-43b8-a005-d32db984cb59",
   "metadata": {},
   "source": [
    "<div style=\"text-align: left; margin-left: 3.0em; font-weight: bold; font-size: 17px; font-family: TimesNewRoman;\">\n",
    "    7.10. CHPType, CHPPowerToHeat, CHPPowerLossFactor and CHPMaxHeat Fields Filter\n",
    "</div>"
   ]
  },
  {
   "cell_type": "markdown",
   "id": "71e1acdb-19fa-46a1-89ed-ed38ae75f3a7",
   "metadata": {},
   "source": [
    "<div style=\"text-align: left; margin-left: 0.0em; font-weight: unbold; font-size: 16px; font-family: TimesNewRoman;\">\n",
    "    Re-naming the current value of all the fields of CHPType column.\n",
    "    <br>\n",
    "    Since the fuel sources names of the power units may not be homogeneous among all data sources. The current value of CHPType field is compared with the CHP equivalence dictionary database to obtain the one corresponding to the Dispa-SET format.\n",
    "        <br>\n",
    "    This part reads for each unit the current value of the column called \"CHPMaxHeat\" of power_plants_clean_data file. If the unit has any value on this field,  checks out its respective value in the column CHPType, and compares wiht the table power_plants_all_data_equivalent_CHPTypes_file, if there is no coincydense, copies the row to the power_plants_all_data_not_defined_units_file leaving this field empty, but keeping the information of the other related fields.\n",
    "     <br>\n",
    "    This process is done for each zone.\n",
    "</div"
   ]
  },
  {
   "cell_type": "code",
   "execution_count": null,
   "id": "02ca02e0-c745-41ae-8d44-15c3ce3a7465",
   "metadata": {},
   "outputs": [],
   "source": [
    "from Data_Processing_Functions import update_chp_types\n",
    "\n",
    "# Iterate over each pair of files\n",
    "for clean_data_file_path, not_defined_units_file_path in zip(power_plants_clean_data_file_list, power_plants_all_data_not_defined_units_file_list):\n",
    "    # Call the function with appropriate arguments\n",
    "    update_chp_types(clean_data_file_path, power_plants_all_data_equivalent_CHPTypes_file_path, not_defined_units_file_path)"
   ]
  },
  {
   "cell_type": "markdown",
   "id": "251909be-4580-4985-a7cb-abe3b5d5e094",
   "metadata": {},
   "source": [
    "<div style=\"text-align: left; margin-left: 3.0em; font-weight: bold; font-size: 17px; font-family: TimesNewRoman;\">\n",
    "    7.11. Power Capacity Field Filter\n",
    "</div>"
   ]
  },
  {
   "cell_type": "markdown",
   "id": "e66ecfd2-703b-4545-823d-104f7925f6bf",
   "metadata": {},
   "source": [
    "<div style=\"text-align: left; margin-left: 0.0em; font-weight: unbold; font-size: 16px; font-family: TimesNewRoman;\">\n",
    "    Erasing all the units with the Power Capacity field empty or with zero value.\n",
    "         <br>\n",
    "    This process is done for each zone.\n",
    "</div"
   ]
  },
  {
   "cell_type": "code",
   "execution_count": null,
   "id": "d1d2b604-1d7a-477c-b2da-ec6a79168519",
   "metadata": {},
   "outputs": [],
   "source": [
    "from Data_Processing_Functions import remove_zero_power_capacity\n",
    "\n",
    "# Iterate over each pair of files\n",
    "for clean_data_file_path, not_defined_units_file_path in zip(power_plants_clean_data_file_list, power_plants_all_data_not_defined_units_file_list):\n",
    "    # Call the function with appropriate arguments\n",
    "    remove_zero_power_capacity(clean_data_file_path, not_defined_units_file_path)"
   ]
  },
  {
   "cell_type": "markdown",
   "id": "afb1fdfb-45ff-4f7f-bde4-953e785fb46f",
   "metadata": {},
   "source": [
    "<div style=\"text-align: left; margin-left: 3.0em; font-weight: bold; font-size: 17px; font-family: TimesNewRoman;\">\n",
    "    7.12. Efficiency Field Fullfilling\n",
    "</div>"
   ]
  },
  {
   "cell_type": "markdown",
   "id": "e0794801-484e-458b-9635-4829249896e4",
   "metadata": {},
   "source": [
    "<div style=\"text-align: left; margin-left: 0.0em; font-weight: unbold; font-size: 16px; font-family: TimesNewRoman;\">\n",
    "    Finding the closest efficiency value for all the units with the Efficiency field empty or with zero value.\n",
    "    <br>\n",
    "    The Efficiency technical feauture is taken from the already agregated data base EU_Power_Units_Technical_Features.csv using the notebook: EU_Power_Plant_Technical_Data_Base_Gathering.ipynb and is os sellected in base on the Technology, the Fuel and the PowerCapacity features.\n",
    "     <br>\n",
    "    This process is done for each zone.\n",
    "</div"
   ]
  },
  {
   "cell_type": "code",
   "execution_count": null,
   "id": "38ebcb1a-53d4-48fb-9c7d-a21b479fe1dd",
   "metadata": {},
   "outputs": [],
   "source": [
    "power_plants_clean_data_file_list"
   ]
  },
  {
   "cell_type": "code",
   "execution_count": null,
   "id": "9ca8c772-6ad6-4b9d-8060-ee7b89df905a",
   "metadata": {},
   "outputs": [],
   "source": [
    "EU_Power_Units_Technical_Features_file_path"
   ]
  },
  {
   "cell_type": "code",
   "execution_count": null,
   "id": "c86b84be-8ec5-42a5-b4fd-c579e7290264",
   "metadata": {
    "scrolled": true
   },
   "outputs": [],
   "source": [
    "# Import the function from the external script\n",
    "from Data_Processing_Functions import copy_technical_values\n",
    "\n",
    "# Define the paths and variables\n",
    "#EU_Power_Units_Technical_Features_file_path = '/home/ray/Dispa-SET_Unleash/RawData/PowerPlants/EU_Power_Units_Technical_Features.csv'\n",
    "#power_plants_clean_data_file_list = [\n",
    "#    '/home/ray/Dispa-SET_Unleash/RawData/PowerPlants/2020_power_plants_raw_data_sources_20240407_172323/2020.csv',\n",
    "#    '/home/ray/Dispa-SET_Unleash/RawData/PowerPlants/DK/2020.csv',\n",
    "#    '/home/ray/Dispa-SET_Unleash/RawData/PowerPlants/CH/2020.csv',\n",
    "#    '/home/ray/Dispa-SET_Unleash/RawData/PowerPlants/BE/2020.csv'\n",
    "#]\n",
    "common_columns = ['PowerCapacity', 'Technology', 'Fuel']\n",
    "column_to_copy = 'Efficiency'\n",
    "\n",
    "copy_technical_values(EU_Power_Units_Technical_Features_file_path, power_plants_clean_data_file_list, common_columns, column_to_copy)"
   ]
  },
  {
   "cell_type": "markdown",
   "id": "e04fd1af-15f8-4d87-9ce6-aa41b1f473ff",
   "metadata": {},
   "source": [
    "<div style=\"text-align: left; margin-left: 0.0em; font-weight: unbold; font-size: 16px; font-family: TimesNewRoman;\">\n",
    "    Filling with a value of 1 the efficiency technical feature for all the units with the Efficiency field empty or with zero value.\n",
    "    <br>\n",
    "    Additionally all this units found with any efficiency value, will be copied to the corresponding no denined units file.\n",
    "     <br>\n",
    "    This process is done for each zone.\n",
    "</div"
   ]
  },
  {
   "cell_type": "code",
   "execution_count": null,
   "id": "c69abfed-bdea-4319-8109-6a2d5fdd12a4",
   "metadata": {},
   "outputs": [],
   "source": [
    "from Data_Processing_Functions import fill_empty_values_with_specified\n",
    "\n",
    "# Define the columns to be filled\n",
    "Column = 'Efficiency'\n",
    "Value = '1'  # Change this to the desired value\n",
    "\n",
    "# Iterate over each pair of files\n",
    "for input_file, output_file in zip(power_plants_clean_data_file_list, power_plants_all_data_not_defined_units_file_list):\n",
    "    # Call the function for the current pair of files\n",
    "    fill_empty_values_with_specified(input_file, output_file, Column, Value)"
   ]
  },
  {
   "attachments": {},
   "cell_type": "markdown",
   "id": "42fe532f-84e9-4982-8749-7ea57bbfc620",
   "metadata": {},
   "source": [
    "<div style=\"text-align: left; margin-left: 3.0em; font-weight: bold; font-size: 17px; font-family: TimesNewRoman;\">\n",
    "    7.13.  MinDownTime | MinDownTime | RampUpRate | RampDownRate | StartUpCost | NoLoadCost_pu | RampingCost | PartLoadMin | MinEfficiency | StartUpTime | CO2Intensity Fields Fulfilling\n",
    "</div>"
   ]
  },
  {
   "cell_type": "markdown",
   "id": "c8dfc698-6d72-4300-864e-1b9d6b576819",
   "metadata": {},
   "source": [
    "<div style=\"text-align: left; margin-left: 0.0em; font-weight: unbold; font-size: 16px; font-family: TimesNewRoman;\">\n",
    "    Finding the closest value for the next technical features:\n",
    "    <br>\n",
    "    MinUpTime, MinDownTime, MinDownTime, RampUpRate, RampDownRate, StartUpCost, NoLoadCost_pu, RampingCost, PartLoadMin, MinEfficiency, StartUpTime, CO2Intensity.\n",
    "    <br>\n",
    "    This is done for all the units which corresponding field value is empty or with zero.\n",
    "    <br>\n",
    "    All the technical feautures are taken from the already agregated data base EU_Power_Units_Technical_Features.csv using the notebook: EU_Power_Plant_Technical_Data_Base_Gathering.ipynb and are sellected in base on the Technology, the Fuel and the PowerCapacity features.\n",
    "     <br>\n",
    "    This process is done for each zone.\n",
    "</div"
   ]
  },
  {
   "cell_type": "code",
   "execution_count": null,
   "id": "f000cbec-b8ab-4519-aff4-272cf49db368",
   "metadata": {},
   "outputs": [],
   "source": [
    "columns_to_copy = [\n",
    "    'MinUpTime',\n",
    "    'MinDownTime',\n",
    "    'RampUpRate',\n",
    "    'RampDownRate',\n",
    "    'StartUpCost',\n",
    "    'NoLoadCost_pu',\n",
    "    'RampingCost',\n",
    "    'PartLoadMin',\n",
    "    'MinEfficiency',\n",
    "    'StartUpTime',\n",
    "    'CO2Intensity'\n",
    "]\n",
    "common_columns = ['PowerCapacity', 'Technology', 'Fuel']"
   ]
  },
  {
   "cell_type": "code",
   "execution_count": null,
   "id": "594d275b-fd46-4b87-95d1-58f5d5b28031",
   "metadata": {},
   "outputs": [],
   "source": [
    "for column_to_copy in columns_to_copy:\n",
    "    copy_technical_values(EU_Power_Units_Technical_Features_file_path, power_plants_clean_data_file_list, common_columns, column_to_copy)"
   ]
  },
  {
   "cell_type": "markdown",
   "id": "7357c916-30c0-4a00-bc04-d76c28ffa167",
   "metadata": {},
   "source": [
    "<div style=\"text-align: left; margin-left: 3.0em; font-weight: bold; font-size: 18px; font-family: TimesNewRoman;\">\n",
    "    8. Zone Final Classification\n",
    "</div>"
   ]
  },
  {
   "cell_type": "markdown",
   "id": "12f1da64-00a9-4b86-97cf-44176edd3b31",
   "metadata": {},
   "source": [
    "<div style=\"text-align: left; margin-left: 0.0em; font-weight: unbold; font-size: 16px; font-family: TimesNewRoman;\">\n",
    "    Filtering by Zone all the formating files resulting from the downloads files set by the \"General\" key at the begining of the process.\n",
    "    <br>\n",
    "    Each row of the files are copied according their zone clasification in their corresponding folder path. \n",
    "</div>"
   ]
  },
  {
   "cell_type": "markdown",
   "id": "df8d4b03-6b6c-4e0c-a041-d9ff8e17ca20",
   "metadata": {},
   "source": [
    "<div style=\"text-align: left; margin-left: 3.0em; font-weight: bold; font-size: 17px; font-family: TimesNewRoman;\">\n",
    "    8.1. Zone Field Homogenization\n",
    "</div>"
   ]
  },
  {
   "cell_type": "markdown",
   "id": "8ab2f10b-52cd-414d-8822-4e6efc57784b",
   "metadata": {},
   "source": [
    "<div style=\"text-align: left; margin-left: 0.0em; font-weight: unbold; font-size: 16px; font-family: TimesNewRoman;\">\n",
    "    Eliminating the space characters from the Zone fileds to avoid errors in the zone classifiaction process.\n",
    "    <br>\n",
    "    This process is done for each zone.\n",
    "</div"
   ]
  },
  {
   "cell_type": "code",
   "execution_count": null,
   "id": "feaff19d-49e5-4497-8346-03a3652fdb7f",
   "metadata": {},
   "outputs": [],
   "source": [
    "# List of file paths\n",
    "#power_plants_clean_data_file_list = [\n",
    "#    '/home/ray/Dispa-SET_Unleash/RawData/PowerPlants/2020_power_plants_raw_data_sources_20240407_201458/2020.csv',\n",
    "#    '/home/ray/Dispa-SET_Unleash/RawData/PowerPlants/DK/2020.csv',\n",
    "#    '/home/ray/Dispa-SET_Unleash/RawData/PowerPlants/CH/2020.csv',\n",
    "#    '/home/ray/Dispa-SET_Unleash/RawData/PowerPlants/BE/2020.csv'\n",
    "#]\n",
    "\n",
    "# Iterate over each file\n",
    "for file_path in power_plants_clean_data_file_list:\n",
    "    # Read the CSV file into a DataFrame\n",
    "    df = pd.read_csv(file_path)\n",
    "\n",
    "    # Trim values in the 'Zone' column\n",
    "    if 'Zone' in df.columns:\n",
    "        df['Zone'] = df['Zone'].str.strip()\n",
    "\n",
    "        # Write the modified DataFrame back to the CSV file\n",
    "        df.to_csv(file_path, index=False)\n",
    "\n",
    "        print(f\"Trimmed 'Zone' column values in {file_path}\")\n",
    "    else:\n",
    "        print(f\"'Zone' column not found in {file_path}\")\n"
   ]
  },
  {
   "cell_type": "markdown",
   "id": "72d755e4-7ab3-475f-839a-9e8b313ecf82",
   "metadata": {},
   "source": [
    "<div style=\"text-align: left; margin-left: 0.0em; font-weight: unbold; font-size: 16px; font-family: TimesNewRoman;\">\n",
    "    Filtering by Zone all the formating files resulting from the downloads files set by the \"General\" key at the begining of the process.\n",
    "    <br>\n",
    "    Each row of the files are copied according their zone clasification in their corresponding folder path. \n",
    "</div>"
   ]
  },
  {
   "cell_type": "code",
   "execution_count": null,
   "id": "13baaa79-634a-46e9-b668-96aa40383868",
   "metadata": {},
   "outputs": [],
   "source": [
    "# File paths\n",
    "#power_plants_raw_data_sources_file_path = '/home/ray/Dispa-SET_Unleash/RawData/PowerPlants/2020_power_plants_raw_data_sources_20240407_191506/2020_power_plants_raw_data_sources_20240407_191506.csv'\n",
    "\n",
    "# Dictionary of created zones\n",
    "#created_zones = {'DE': '/home/ray/Dispa-SET_Unleash/RawData/PowerPlants/DE',\n",
    "#                 'DK': '/home/ray/Dispa-SET_Unleash/RawData/PowerPlants/DK',\n",
    "#                 'CH': '/home/ray/Dispa-SET_Unleash/RawData/PowerPlants/CH',\n",
    "#                'BE': '/home/ray/Dispa-SET_Unleash/RawData/PowerPlants/BE'}\n",
    "\n",
    "# Read the first file\n",
    "first_df = pd.read_csv(power_plants_raw_data_sources_file_path)\n",
    "\n",
    "# Filter rows with Zone as \"General\"\n",
    "general_zones_df = first_df[first_df['Zone'] == 'General']\n",
    "\n",
    "# Iterate over rows with Zone as \"General\"\n",
    "for index, row in general_zones_df.iterrows():\n",
    "    # Get the path of the corresponding file\n",
    "    file_path = row['Final_Clean_File_Path']\n",
    "    \n",
    "    # Read the second CSV file\n",
    "    second_df = pd.read_csv(file_path)\n",
    "    \n",
    "    # Iterate over zone names\n",
    "    for zone in zone_names:\n",
    "        # Filter rows in the second file with matching Zone\n",
    "        zone_rows = second_df[second_df['Zone'] == zone]\n",
    "        \n",
    "        # Check if there are matching rows\n",
    "        if not zone_rows.empty:\n",
    "            # Get the corresponding zone path\n",
    "            zone_path = created_zones.get(zone)\n",
    "            \n",
    "            # Create the directory if it does not exist\n",
    "            if not os.path.exists(zone_path):\n",
    "                os.makedirs(zone_path)\n",
    "            \n",
    "            # Get the file name\n",
    "            file_name = os.path.basename(file_path)\n",
    "            zone_file_path = os.path.join(zone_path, file_name)\n",
    "            \n",
    "            # Copy the rows to the corresponding zone file\n",
    "            if not os.path.exists(zone_file_path):\n",
    "                zone_rows.to_csv(zone_file_path, index=False)\n",
    "            else:\n",
    "                zone_rows.to_csv(zone_file_path, mode='a', index=False, header=False)\n",
    "            \n",
    "            # Remove the copied rows from the original DataFrame\n",
    "            second_df.drop(zone_rows.index, inplace=True)\n",
    "            \n",
    "            # Print message\n",
    "            print(f\"Copied rows to {zone_file_path} for zone {zone}.\")\n",
    "    \n",
    "    # Write the updated DataFrame back to the second file\n",
    "    second_df.to_csv(file_path, index=False)\n",
    "    print(f\"Original file {file_path} updated after row deletion.\")"
   ]
  },
  {
   "cell_type": "markdown",
   "id": "f4849b91-00e0-409d-98e2-42971f91f2cd",
   "metadata": {},
   "source": [
    "<div style=\"text-align: left; margin-left: 3.0em; font-weight: bold; font-size: 18px; font-family: TimesNewRoman;\">\n",
    "    9. Zone Clustering\n",
    "</div>"
   ]
  },
  {
   "cell_type": "markdown",
   "id": "a19a15ad-c7e5-4871-bd58-8c81988de215",
   "metadata": {},
   "source": [
    "<div style=\"text-align: left; margin-left: 0.0em; font-weight: unbold; font-size: 16px; font-family: TimesNewRoman;\">\n",
    "    Grouping power units according the location, the company or the name. \n",
    "    <br>\n",
    "    This part is set to make a cluster of all the units that have the same Latitud and Longitud location (if the data is provided)\n",
    "     <br>\n",
    "    However, there is the posibility to cluster the units by the name for all the units that has the same name or by the company (if the data is also provided). \n",
    "    <br>\n",
    "    To do it, just Uncomment the corresponding line of the following lines of the code.\n",
    "</div>"
   ]
  },
  {
   "cell_type": "markdown",
   "id": "c44f9bb0-7689-4fbe-be3f-8a88443eee1b",
   "metadata": {},
   "source": [
    "<div style=\"text-align: left; margin-left: 3.0em; font-weight: bold; font-size: 17px; font-family: TimesNewRoman;\">\n",
    "    9.1. Lat/Lon Column Creation\n",
    "</div>"
   ]
  },
  {
   "cell_type": "markdown",
   "id": "9720a0e8-89de-42d9-9fc8-24370124a3ae",
   "metadata": {},
   "source": [
    "<div style=\"text-align: left; margin-left: 0.0em; font-weight: unbold; font-size: 16px; font-family: TimesNewRoman;\">\n",
    "    Joining the filed of the columns Lat and Lon into a new column under the name Lat/Lon to clustering purposes.\n",
    "</div>"
   ]
  },
  {
   "cell_type": "code",
   "execution_count": null,
   "id": "94467a37-b48d-4d58-b2f2-c58422752f39",
   "metadata": {},
   "outputs": [],
   "source": [
    "#created_zones = {\n",
    "#    'DE': '/home/ray/Dispa-SET_Unleash/RawData/PowerPlants/DE',\n",
    "#    'DK': '/home/ray/Dispa-SET_Unleash/RawData/PowerPlants/DK',\n",
    "#    'CH': '/home/ray/Dispa-SET_Unleash/RawData/PowerPlants/CH',\n",
    "#    'BE': '/home/ray/Dispa-SET_Unleash/RawData/PowerPlants/BE'\n",
    "#}\n",
    "\n",
    "#data_year = '2020'\n",
    "\n",
    "power_plants_clean_data_file_path_list = []\n",
    "\n",
    "# Extract and format paths\n",
    "for zone, path in created_zones.items():\n",
    "  full_path = f\"{path}/{data_year}.csv\"\n",
    "  power_plants_clean_data_file_path_list.append(full_path)\n",
    "\n",
    "# Print the list of paths\n",
    "print(power_plants_clean_data_file_path_list)"
   ]
  },
  {
   "cell_type": "code",
   "execution_count": null,
   "id": "b191e4a2-6ffc-43e2-b1e1-c645ab057696",
   "metadata": {},
   "outputs": [],
   "source": [
    "power_plants_clean_data_file_path_list"
   ]
  },
  {
   "cell_type": "code",
   "execution_count": null,
   "id": "fe20fad6-d11d-4515-9022-f8b5944dc144",
   "metadata": {},
   "outputs": [],
   "source": [
    "for file_path in power_plants_clean_data_file_path_list:\n",
    "  # Read the CSV file\n",
    "  df = pd.read_csv(file_path)\n",
    "\n",
    "  # Check if \"Lat\" and \"Lon\" columns exist\n",
    "  if 'Lat' in df.columns and 'Lon' in df.columns:\n",
    "    # Create a new column named \"Lat+Lon\" with empty string as default\n",
    "    df['Lat/Lon'] = np.where((df['Lat'].notna()) & (df['Lon'].notna()), df['Lat'].astype(str) + \"/\" + df['Lon'].astype(str), '')\n",
    "\n",
    "    # Save the modified DataFrame back to the CSV file\n",
    "    df.to_csv(file_path, index=False)\n",
    "  else:\n",
    "    print(f\"Warning: 'Lat' or 'Lon' column not found in {file_path}\")\n",
    "\n",
    "print(\"Lat/Lon column added to files (if columns exist).\")"
   ]
  },
  {
   "cell_type": "markdown",
   "id": "6fb10f88-f545-4548-a33a-163e4b99c58a",
   "metadata": {},
   "source": [
    "<div style=\"text-align: left; margin-left: 3.0em; font-weight: bold; font-size: 17px; font-family: TimesNewRoman;\">\n",
    "    9.2. Fields Cluster\n",
    "</div>"
   ]
  },
  {
   "cell_type": "markdown",
   "id": "fcd58b9c-b59b-4a97-b10e-99d403811db7",
   "metadata": {},
   "source": [
    "<div style=\"text-align: left; margin-left: 0.0em; font-weight: unbold; font-size: 16px; font-family: TimesNewRoman;\">\n",
    "    Clustering the units with the repeated values in the Lat/Lon.\n",
    "     <br>\n",
    "    The next code just clusters the units which Latitud and longitud repeated values under the condition that have the same Technology, Fuel and CHPType as well.\n",
    "    <br>\n",
    "    This process is made for each zone.\n",
    "    <br>\n",
    "    There is the posibility to make a cluster looking for duplicate fields in the name of the units or the company (If the data exists). For this purpouse just uncomend the corresponding lines.\n",
    "</div>"
   ]
  },
  {
   "cell_type": "code",
   "execution_count": null,
   "id": "b80b6164-be78-4f42-8aa2-b8e107164627",
   "metadata": {},
   "outputs": [],
   "source": [
    "# Column to be looked for\n",
    "column_to_look_for = 'Lat/Lon'  # Change 'YourColumnNameHere' to the actual column name\n",
    "#column_to_look_for = 'Unit'\n",
    "#column_to_look_for = 'Company'\n",
    "\n",
    "\n",
    "# Iterate over each file\n",
    "for file_path in power_plants_clean_data_file_path_list:\n",
    "    # Read the CSV file into a DataFrame\n",
    "    df = pd.read_csv(file_path)\n",
    "\n",
    "    # Check if the column to look for exists\n",
    "    if column_to_look_for in df.columns:\n",
    "        # Iterate over each value in the specified column\n",
    "        for value in df[column_to_look_for].unique():\n",
    "            # Check if the field has some value\n",
    "            if pd.notnull(value):\n",
    "                # Filter rows where the specified column has the exact same value\n",
    "                matched_rows = df[df[column_to_look_for] == value]\n",
    "\n",
    "                # Check if there are more than one row with the same value\n",
    "                if len(matched_rows) > 1:\n",
    "                    # Perform additional matching based on Technology, Fuel, and CHPType\n",
    "                    # You can adjust the conditions as per your requirement\n",
    "                    matched_rows = matched_rows.groupby(['Technology', 'Fuel', 'CHPType']).filter(lambda x: len(x) > 1)\n",
    "\n",
    "                    if len(matched_rows) > 1:\n",
    "                        # Sum the corresponding fields\n",
    "                        summed_fields = matched_rows[['PowerCapacity', 'Nunits', 'StartUpCost', 'NoLoadCost_pu',\n",
    "                                                       'RampingCost', 'CHPPowerToHeat', 'CHPMaxHeat', 'STOCapacity',\n",
    "                                                       'WaterWithdrawal', 'WaterConsumption']].sum()\n",
    "\n",
    "                        # Calculate the average of the corresponding fields\n",
    "                        averaged_fields = matched_rows[['Efficiency', 'MinUpTime', 'MinDownTime', 'RampUpRate',\n",
    "                                                         'RampDownRate', 'PartLoadMin', 'MinEfficiency', 'StartUpTime',\n",
    "                                                         'CO2Intensity', 'CHPPowerLossFactor', 'CHPMaxHeat', 'COP',\n",
    "                                                         'Tnominal', 'coef_COP_a', 'coef_COP_b', 'STOSelfDischarge',\n",
    "                                                         'STOMaxChargingPower', 'STOChargingEfficiency']].mean()\n",
    "\n",
    "                        # Keep the first row and update its values with the sums and averages\n",
    "                        first_row_index = matched_rows.index[0]\n",
    "                        df.loc[first_row_index, ['PowerCapacity', 'Nunits', 'StartUpCost', 'NoLoadCost_pu',\n",
    "                                                 'RampingCost', 'CHPPowerToHeat', 'CHPMaxHeat', 'STOCapacity',\n",
    "                                                 'WaterWithdrawal', 'WaterConsumption']] = summed_fields\n",
    "                        df.loc[first_row_index, ['Efficiency', 'MinUpTime', 'MinDownTime', 'RampUpRate',\n",
    "                                                 'RampDownRate', 'PartLoadMin', 'MinEfficiency', 'StartUpTime',\n",
    "                                                 'CO2Intensity', 'CHPPowerLossFactor', 'CHPMaxHeat', 'COP',\n",
    "                                                 'Tnominal', 'coef_COP_a', 'coef_COP_b', 'STOSelfDischarge',\n",
    "                                                 'STOMaxChargingPower', 'STOChargingEfficiency']] = averaged_fields\n",
    "\n",
    "                        # Copy the matched rows to a new DataFrame\n",
    "                        clustered_df = matched_rows.copy()\n",
    "\n",
    "                        # Write the matched rows to a new CSV file\n",
    "                        output_file_path = os.path.splitext(file_path)[0] + '_clustered.csv'\n",
    "                        clustered_df.to_csv(output_file_path, index=False)\n",
    "\n",
    "                        # Erase the rows from the original DataFrame\n",
    "                        df.drop(matched_rows.index, inplace=True)\n",
    "\n",
    "    # Write the modified DataFrame back to the original CSV file\n",
    "    df.to_csv(file_path, index=False)"
   ]
  },
  {
   "cell_type": "markdown",
   "id": "58e36c02-2198-4d94-90ec-2c33512a9ed9",
   "metadata": {},
   "source": [
    "<div style=\"text-align: left; margin-left: 3.0em; font-weight: bold; font-size: 17px; font-family: TimesNewRoman;\">\n",
    "10. Copying Power Plants Formatted Data\n",
    "</div>"
   ]
  },
  {
   "cell_type": "markdown",
   "id": "4dd836c4-fdf7-4b11-8634-6d9e3c5cb75a",
   "metadata": {},
   "source": [
    "<div style=\"text-align: left; margin-left: 0.0em; font-weight: unbold; font-size: 16px; font-family: TimesNewRoman;\">\n",
    "    Moving the already clean and formatted data of the power units to the main Dispa-SET data base directory.\n",
    "     <br>\n",
    "    <div style=\"text-align: left; margin-left: 2.0em; font-weight: unbold; font-size: 15px; font-family: TimesNewRoman;\">\n",
    "    - The data base directory has to be identified.\n",
    "</div>"
   ]
  },
  {
   "cell_type": "code",
   "execution_count": null,
   "id": "6427147f-ce51-4b3f-8b5d-f0aaedd079ce",
   "metadata": {},
   "outputs": [],
   "source": [
    "additional_path_1 = \"/Database/PowerPlants/\"\n",
    "\n",
    "# Construct the power_plants_raw_data_folder_path variable\n",
    "power_plants_data_base_folder_path = dispaSET_unleash_folder_path + additional_path_1"
   ]
  },
  {
   "cell_type": "code",
   "execution_count": null,
   "id": "276ed837-cc62-45b0-90ef-4533cfcdfdfe",
   "metadata": {},
   "outputs": [],
   "source": [
    "# Iterate over each zone in the list\n",
    "for zone in zone_names:\n",
    "    # Define the source file path\n",
    "    source_file_path = os.path.join(power_plants_raw_data_folder_path, zone, f\"{data_year}.csv\")\n",
    "    \n",
    "    # Define the destination folder path\n",
    "    destination_folder_path = os.path.join(power_plants_data_base_folder_path, zone)\n",
    "    \n",
    "    # Define the destination file path\n",
    "    destination_file_path = os.path.join(destination_folder_path, f\"{data_year}.csv\")\n",
    "    \n",
    "    # Check if the source file exists\n",
    "    if os.path.exists(source_file_path):\n",
    "        # Ensure the destination folder exists\n",
    "        os.makedirs(destination_folder_path, exist_ok=True)\n",
    "        \n",
    "        # Copy the file\n",
    "        shutil.copyfile(source_file_path, destination_file_path)\n",
    "        print(f\"Copied {source_file_path} to {destination_file_path}\")\n",
    "    else:\n",
    "        print(f\"Source file does not exist: {source_file_path}\")\n",
    "\n",
    "print(\"Task completed.\")"
   ]
  },
  {
   "cell_type": "markdown",
   "id": "89c59b5a-1be3-44b6-9e0b-afdf5f4d49f8",
   "metadata": {},
   "source": [
    "<div style=\"text-align: left; margin-left: 3.0em; font-weight: bold; font-size: 18px; font-family: TimesNewRoman;\">\n",
    "    10. Final considerations \n",
    "</div>"
   ]
  },
  {
   "cell_type": "markdown",
   "id": "2dfc23d4-d6c0-49e8-8caf-2529494be40d",
   "metadata": {},
   "source": [
    "<div style=\"text-align: left; margin-left: 0.0em; font-weight: unbold; font-size: 16px; font-family: TimesNewRoman;\">\n",
    "    All the files with the appropiated format needed for Dispa-SET simulations are located at the folders named as the created zone entered in section 3 and follows the next path patron:\n",
    "    Local/paht/to/dispa-SET/folder/RawData/PowerPlants/zone_created\n",
    "    <br>\n",
    "    All the formated files are named with the value introduced in the variable \"data_year\" entered in section 4\n",
    "     <br>\n",
    "    The files can be copied to the needed location to into the Dispa-SET directory envinronment.\n",
    "    <br>\n",
    "    In the other hand, the formated files still contain columns that are not usefull for Dispa-SET runs, however as the same are not taken account for the simulation those columns can be removed manually or not. In future version of this code is going to be implemented a final stept ot eliminate these columns automatically\n",
    "</div"
   ]
  }
 ],
 "metadata": {
  "kernelspec": {
   "display_name": "Python 3 (Spyder)",
   "language": "python3",
   "name": "python3"
  },
  "language_info": {
   "codemirror_mode": {
    "name": "ipython",
    "version": 3
   },
   "file_extension": ".py",
   "mimetype": "text/x-python",
   "name": "python",
   "nbconvert_exporter": "python",
   "pygments_lexer": "ipython3",
   "version": "3.10.13"
  }
 },
 "nbformat": 4,
 "nbformat_minor": 5
}
