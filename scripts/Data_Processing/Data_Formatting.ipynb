{
 "cells": [
  {
   "cell_type": "markdown",
   "id": "6f19617f-8cea-4154-824e-8ed8d98409be",
   "metadata": {},
   "source": [
    "2. PRE_DOWNLOADED POWER PLANT DATA FORMATING SCRIPT"
   ]
  },
  {
   "cell_type": "markdown",
   "id": "7003d31c-cc7a-4ad3-8aed-444612727565",
   "metadata": {},
   "source": [
    "The following gives the adecuated format to the collected data previously donwloaded and storaged into the direcotry /Path/to/the/Local/Dispa-SET/Repository/RawData/PowerPlants/#_202#/ in order to be usefull and readable for Dispa-SET."
   ]
  },
  {
   "cell_type": "markdown",
   "id": "1179b262-8cda-44e3-adac-3f688a2f4f8b",
   "metadata": {},
   "source": [
    "2.1. Creating the Contained Files Folders\n",
    "        This segment creates the folders that are to contain the csv files of the powert plant data collected.\n",
    "        Notice that in order to keep the previous Dispa-SET directories sctructure is recomended to create a separated folder for each country; state; region; etc wanted to be simulated. e.g. In Next lines it is going to create a unique folder for Belgium country under the name \"BE\" according to the ISO 3166-1 standard.\n",
    "            names_line = \"Name1, Name2, Name3,... NameN\"\n",
    "        However for more folders/countries just separe the names by comas \n",
    "            names_line = \"Name1, Name2, Name3,... NameN\"\n",
    "        Additionally indicate the path where folders are going to be storages. In order to keep the Dispa-SET directories structure, the defaoult path is allready set, just be needed to add the current path to the local dispa-SET repository\n",
    "            base_path = \"/Path/to/the/Local/Dispa-SET/Repository/Database/PowerPlants/"
   ]
  },
  {
   "cell_type": "code",
   "execution_count": null,
   "id": "eade0dc5-bca5-4a2d-8048-39557b041ddd",
   "metadata": {},
   "outputs": [],
   "source": [
    "# Get the line of names (replace \"Name1, Name2,... NameN with the actual input)\n",
    "names_line = \"BE\"\n",
    "\n",
    "# Specify the base path for folders\n",
    "base_path = \"/path/to/your/desired/location\"\n",
    "\n",
    "# Split the line into a list of names\n",
    "names = names_line.split(\", \")\n",
    "\n",
    "# Loop through each name and create a folder\n",
    "import os\n",
    "for name in names:\n",
    "  folder_name = name.strip()\n",
    "  # Combine base path and folder name\n",
    "  full_path = os.path.join(base_path, folder_name)\n",
    "  os.makedirs(full_path, exist_ok=True)\n",
    "\n",
    "print(f\"Folders created for names at: {base_path}\")\n"
   ]
  },
  {
   "cell_type": "markdown",
   "id": "56541307-a940-4533-8216-04770f9fe160",
   "metadata": {},
   "source": [
    "2.2. Creating the main csv Power Plant File\n",
    "        This segment creates the file with its respective columns headers\n",
    "       Note that"
   ]
  },
  {
   "cell_type": "code",
   "execution_count": null,
   "id": "f424dffe-416c-4c86-921e-f22ead1065d4",
   "metadata": {},
   "outputs": [],
   "source": [
    "import csv\n",
    "\n",
    "# Define headers\n",
    "headers = [\"Unit\", \"PowerCapacity\", \"Nunits\", \"Zone\", \"Zone_th\", \"Zone_h2\", \"Technology\", \"Fuel\", \"Efficiency\", \n",
    "          \"MinUpTime\", \"MinDownTime\", \"RampUpRate\", \"RampDownRate\", \"StartUpCost\", \"NoLoadCost_pu\", \"RampingCost\", \n",
    "          \"PartLoadMin\", \"MinEfficiency\", \"StartUpTime\", \"CO2Intensity\", \"CHPType\", \"CHPPowerToHeat\", \"CHPPowerLossFactor\", \n",
    "          \"CHPMaxHeat\", \"COP\", \"Tnominal\", \"coef_COP_a\", \"coef_COP_b\", \"STOCapacity\", \"STOSelfDischarge\", \"STOMaxChargingPower\", \n",
    "          \"STOChargingEfficiency\", \"WaterWithdrawal\", \"WaterConsumption\"]\n",
    "\n",
    "# Specify the filename for the CSV\n",
    "filename = \"power_plant_data.csv\"\n",
    "\n",
    "# Open the CSV file in write mode with newline='' to avoid extra blank lines\n",
    "with open(filename, 'w', newline='') as csvfile:\n",
    "  # Create a CSV writer object\n",
    "  writer = csv.writer(csvfile)\n",
    "  \n",
    "  # Write the header row\n",
    "  writer.writerow(headers)\n",
    "\n",
    "print(f\"CSV file created with headers: {filename}\")\n"
   ]
  }
 ],
 "metadata": {
  "kernelspec": {
   "display_name": "Python 3 (Spyder)",
   "language": "python3",
   "name": "python3"
  },
  "language_info": {
   "codemirror_mode": {
    "name": "ipython",
    "version": 3
   },
   "file_extension": ".py",
   "mimetype": "text/x-python",
   "name": "python",
   "nbconvert_exporter": "python",
   "pygments_lexer": "ipython3",
   "version": "3.11.7"
  }
 },
 "nbformat": 4,
 "nbformat_minor": 5
}
