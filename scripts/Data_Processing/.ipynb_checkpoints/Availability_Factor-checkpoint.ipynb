{
 "cells": [
  {
   "cell_type": "markdown",
   "id": "246cc501-e52d-4a23-bfca-a9b4ed11d37d",
   "metadata": {},
   "source": [
    "<div style=\"text-align: center; margin-left: 0em; font-weight: bold; font-size: 20px; font-family: TimesNewRoman;\">\n",
    "    TIME SERIES DATA PROCESSING - Main Notebook\n",
    "</div>"
   ]
  },
  {
   "cell_type": "code",
   "execution_count": 3,
   "id": "bc3c2b4c-0666-42a8-8101-72861ef4d95e",
   "metadata": {},
   "outputs": [
    {
     "name": "stdout",
     "output_type": "stream",
     "text": [
      "10YAT-APG------L!CTA|10YAT-APG------\n"
     ]
    }
   ],
   "source": [
    "url = \"https://transparency.entsoe.eu/generation/r2/actualGenerationPerProductionType/show?name=&defaultValue=false&viewType=TABLE&areaType=CTA&atch=false&datepicker-day-offset-select-dv-date-from_input=D&dateTime.dateTime=02.01.2023+00:00|CET|DAYTIMERANGE&dateTime.endDateTime=02.01.2023+00:00|CET|DAYTIMERANGE&area.values=CTY|10YAT-APG------L!CTA|10YAT-APG------L&productionType.values=B01&productionType.values=B02&productionType.values=B03&productionType.values=B04&productionType.values=B05&productionType.values=B06&productionType.values=B07&productionType.values=B08&productionType.values=B09&productionType.values=B10&productionType.values=B11&productionType.values=B12&productionType.values=B13&productionType.values=B14&productionType.values=B20&productionType.values=B15&productionType.values=B16&productionType.values=B17&productionType.values=B18&productionType.values=B19&showConsumption.values=SHOW_CONSUMPTION&dateTime.timezone=CET_CEST&dateTime.timezone_input=CET+(UTC+1)+/+CEST+(UTC+2)\"\n",
    "\n",
    "# Find the index of \"values=CTY|\"\n",
    "start_index = url.find(\"values=CTY|\")\n",
    "\n",
    "# Extract the substring after \"values=CTY|\"\n",
    "substring = url[start_index + len(\"values=CTY|\"):start_index + len(\"values=CTY|\") + 36]\n",
    "\n",
    "print(substring)"
   ]
  },
  {
   "cell_type": "code",
   "execution_count": null,
   "id": "0cd65e79-8afa-4bee-aba8-e50a57fd3e26",
   "metadata": {},
   "outputs": [],
   "source": []
  },
  {
   "cell_type": "code",
   "execution_count": 5,
   "id": "a4c7c60c-d079-45d7-a901-7c9e52c25db1",
   "metadata": {},
   "outputs": [],
   "source": [
    "import requests\n",
    "from bs4 import BeautifulSoup\n",
    "import csv\n",
    "\n",
    "# URL of the webpage containing the table\n",
    "url = 'https://transparency.entsoe.eu/generation/r2/actualGenerationPerProductionType/show?name=&defaultValue=false&viewType=TABLE&areaType=CTA&atch=false&datepicker-day-offset-select-dv-date-from_input=D&dateTime.dateTime=11.02.2023+00:00|CET|DAYTIMERANGE&dateTime.endDateTime=01.01.2023+00:00|CET|DAYTIMERANGE&area.values=CTY|10YBE----------2!CTA|10YBE----------2&productionType.values=B01&productionType.values=B02&productionType.values=B03&productionType.values=B04&productionType.values=B05&productionType.values=B06&productionType.values=B07&productionType.values=B08&productionType.values=B09&productionType.values=B10&productionType.values=B11&productionType.values=B12&productionType.values=B13&productionType.values=B14&productionType.values=B20&productionType.values=B15&productionType.values=B16&productionType.values=B17&productionType.values=B18&productionType.values=B19&showConsumption.values=SHOW_CONSUMPTION&dateTime.timezone=CET_CEST&dateTime.timezone_input=CET+(UTC+1)+/+CEST+(UTC+2)'\n",
    "\n",
    "# Send a GET request to the webpage\n",
    "response = requests.get(url)\n",
    "\n",
    "# Parse the HTML content of the webpage\n",
    "soup = BeautifulSoup(response.text, 'html.parser')\n",
    "\n",
    "# Find the table element\n",
    "table = soup.find('table')\n",
    "\n",
    "# Extract data from the table\n",
    "data = []\n",
    "for row in table.find_all('tr'):\n",
    "    row_data = []\n",
    "    for cell in row.find_all('td'):\n",
    "        row_data.append(cell.text.strip())\n",
    "    if row_data:  # Ensures we don't add empty rows\n",
    "        data.append(row_data)\n",
    "\n",
    "# Write the data to a CSV file\n",
    "with open('table_data.csv', 'w', newline='') as csvfile:\n",
    "    writer = csv.writer(csvfile)\n",
    "    writer.writerows(data)"
   ]
  },
  {
   "cell_type": "code",
   "execution_count": 6,
   "id": "363b08b6-5139-421a-8a84-8eac138f89b4",
   "metadata": {},
   "outputs": [
    {
     "name": "stdout",
     "output_type": "stream",
     "text": [
      "['00:00 - 01:00', '268', '273', '281', '', '', '', 'n/e', 'n/e', 'n/e', 'n/e', 'n/e', 'n/e', 'n/e', 'n/e', 'n/e', 'n/e', 'n/e', 'n/e', '2953', '3573', '1995', '', '', '', 'n/e', 'n/e', 'n/e', 'n/e', 'n/e', 'n/e', '0', '0', '0', '', '', '', 'n/e', 'n/e', 'n/e', 'n/e', 'n/e', 'n/e', 'n/e', 'n/e', 'n/e', 'n/e', 'n/e', 'n/e', 'n/e', 'n/e', 'n/e', 'n/e', 'n/e', 'n/e', '', '', '116', '390', '105', '', '36', '32', '30', '', '', '', 'n/e', 'n/e', 'n/e', 'n/e', 'n/e', 'n/e', 'n/e', 'n/e', 'n/e', 'n/e', 'n/e', 'n/e', '3951', '3949', '3952', '', '', '', '767', '829', '905', '', '', '', 'n/e', 'n/e', 'n/e', 'n/e', 'n/e', 'n/e', '0', '0', '0', '', '', '', '221', '227', '232', '', '', '', '464', '53', '590', '', '', '', '768', '141', '844', '', '', '']\n",
      "['01:00 - 02:00', '270', '271', '283', '', '', '', 'n/e', 'n/e', 'n/e', 'n/e', 'n/e', 'n/e', 'n/e', 'n/e', 'n/e', 'n/e', 'n/e', 'n/e', '2623', '3415', '2036', '', '', '', 'n/e', 'n/e', 'n/e', 'n/e', 'n/e', 'n/e', '0', '0', '0', '', '', '', 'n/e', 'n/e', 'n/e', 'n/e', 'n/e', 'n/e', 'n/e', 'n/e', 'n/e', 'n/e', 'n/e', 'n/e', 'n/e', 'n/e', 'n/e', 'n/e', 'n/e', 'n/e', '', '', '36', '381', '647', '36', '36', '31', '30', '', '', '', 'n/e', 'n/e', 'n/e', 'n/e', 'n/e', 'n/e', 'n/e', 'n/e', 'n/e', 'n/e', 'n/e', 'n/e', '3951', '3949', '3953', '', '', '', '686', '841', '877', '', '', '', 'n/e', 'n/e', 'n/e', 'n/e', 'n/e', 'n/e', '0', '0', '0', '', '', '', '220', '225', '231', '', '', '', '710', '44', '641', '', '', '', '844', '134', '856', '', '', '']\n",
      "['02:00 - 03:00', '269', '274', '282', '', '', '', 'n/e', 'n/e', 'n/e', 'n/e', 'n/e', 'n/e', 'n/e', 'n/e', 'n/e', 'n/e', 'n/e', 'n/e', '2619', '3423', '2004', '', '', '', 'n/e', 'n/e', 'n/e', 'n/e', 'n/e', 'n/e', '0', '0', '0', '', '', '', 'n/e', 'n/e', 'n/e', 'n/e', 'n/e', 'n/e', 'n/e', 'n/e', 'n/e', 'n/e', 'n/e', 'n/e', 'n/e', 'n/e', 'n/e', 'n/e', 'n/e', 'n/e', '', '', '', '541', '484', '161', '36', '35', '32', '', '', '', 'n/e', 'n/e', 'n/e', 'n/e', 'n/e', 'n/e', 'n/e', 'n/e', 'n/e', 'n/e', 'n/e', 'n/e', '3950', '3947', '3954', '', '', '', '690', '780', '792', '', '', '', 'n/e', 'n/e', 'n/e', 'n/e', 'n/e', 'n/e', '0', '0', '0', '', '', '', '221', '227', '227', '', '', '', '738', '103', '750', '', '', '', '826', '126', '841', '', '', '']\n",
      "['03:00 - 04:00', '269', '272', '285', '', '', '', 'n/e', 'n/e', 'n/e', 'n/e', 'n/e', 'n/e', 'n/e', 'n/e', 'n/e', 'n/e', 'n/e', 'n/e', '2612', '3518', '2084', '', '', '', 'n/e', 'n/e', 'n/e', 'n/e', 'n/e', 'n/e', '0', '0', '0', '', '', '', 'n/e', 'n/e', 'n/e', 'n/e', 'n/e', 'n/e', 'n/e', 'n/e', 'n/e', 'n/e', 'n/e', 'n/e', 'n/e', 'n/e', 'n/e', 'n/e', 'n/e', 'n/e', '', '', '', '472', '650', '410', '36', '37', '31', '', '', '', 'n/e', 'n/e', 'n/e', 'n/e', 'n/e', 'n/e', 'n/e', 'n/e', 'n/e', 'n/e', 'n/e', 'n/e', '3949', '3947', '3954', '', '', '', '707', '782', '777', '', '', '', 'n/e', 'n/e', 'n/e', 'n/e', 'n/e', 'n/e', '0', '0', '0', '', '', '', '214', '224', '230', '', '', '', '647', '208', '713', '', '', '', '849', '137', '678', '', '', '']\n",
      "['04:00 - 05:00', '267', '274', '279', '', '', '', 'n/e', 'n/e', 'n/e', 'n/e', 'n/e', 'n/e', 'n/e', 'n/e', 'n/e', 'n/e', 'n/e', 'n/e', '2692', '3491', '2148', '', '', '', 'n/e', 'n/e', 'n/e', 'n/e', 'n/e', 'n/e', '0', '0', '0', '', '', '', 'n/e', 'n/e', 'n/e', 'n/e', 'n/e', 'n/e', 'n/e', 'n/e', 'n/e', 'n/e', 'n/e', 'n/e', 'n/e', 'n/e', 'n/e', 'n/e', 'n/e', 'n/e', '', '', '', '550', '777', '159', '36', '37', '31', '', '', '', 'n/e', 'n/e', 'n/e', 'n/e', 'n/e', 'n/e', 'n/e', 'n/e', 'n/e', 'n/e', 'n/e', 'n/e', '3951', '3950', '3953', '', '', '', '726', '814', '817', '', '', '', 'n/e', 'n/e', 'n/e', 'n/e', 'n/e', 'n/e', '0', '0', '0', '', '', '', '221', '227', '232', '', '', '', '673', '167', '529', '', '', '', '930', '167', '524', '', '', '']\n",
      "['05:00 - 06:00', '264', '272', '278', '', '', '', 'n/e', 'n/e', 'n/e', 'n/e', 'n/e', 'n/e', 'n/e', 'n/e', 'n/e', 'n/e', 'n/e', 'n/e', '3269', '3631', '2168', '', '', '', 'n/e', 'n/e', 'n/e', 'n/e', 'n/e', 'n/e', '0', '0', '0', '', '', '', 'n/e', 'n/e', 'n/e', 'n/e', 'n/e', 'n/e', 'n/e', 'n/e', 'n/e', 'n/e', 'n/e', 'n/e', 'n/e', 'n/e', 'n/e', 'n/e', 'n/e', 'n/e', '', '', '20', '492', '250', '4', '36', '36', '32', '', '', '', 'n/e', 'n/e', 'n/e', 'n/e', 'n/e', 'n/e', 'n/e', 'n/e', 'n/e', 'n/e', 'n/e', 'n/e', '3951', '3952', '3954', '', '', '', '746', '822', '893', '', '', '', 'n/e', 'n/e', 'n/e', 'n/e', 'n/e', 'n/e', '0', '0', '0', '', '', '', '219', '225', '228', '', '', '', '578', '134', '542', '', '', '', '966', '202', '452', '', '', '']\n",
      "['06:00 - 07:00', '271', '272', '274', '', '', '', 'n/e', 'n/e', 'n/e', 'n/e', 'n/e', 'n/e', 'n/e', 'n/e', 'n/e', 'n/e', 'n/e', 'n/e', '3920', '4040', '2591', '', '', '', 'n/e', 'n/e', 'n/e', 'n/e', 'n/e', 'n/e', '0', '0', '0', '', '', '', 'n/e', 'n/e', 'n/e', 'n/e', 'n/e', 'n/e', 'n/e', 'n/e', 'n/e', 'n/e', 'n/e', 'n/e', 'n/e', 'n/e', 'n/e', 'n/e', 'n/e', 'n/e', '', '', '', '433', '53', '8', '35', '35', '32', '', '', '', 'n/e', 'n/e', 'n/e', 'n/e', 'n/e', 'n/e', 'n/e', 'n/e', 'n/e', 'n/e', 'n/e', 'n/e', '3951', '3952', '3955', '', '', '', '771', '879', '875', '', '', '', 'n/e', 'n/e', 'n/e', 'n/e', 'n/e', 'n/e', '0', '0', '0', '', '', '', '214', '224', '232', '', '', '', '472', '83', '490', '', '', '', '853', '245', '457', '', '', '']\n",
      "['07:00 - 08:00', '270', '275', '276', '', '', '', 'n/e', 'n/e', 'n/e', 'n/e', 'n/e', 'n/e', 'n/e', 'n/e', 'n/e', 'n/e', 'n/e', 'n/e', '4299', '4429', '3189', '', '', '', 'n/e', 'n/e', 'n/e', 'n/e', 'n/e', 'n/e', '0', '0', '0', '', '', '', 'n/e', 'n/e', 'n/e', 'n/e', 'n/e', 'n/e', 'n/e', 'n/e', 'n/e', 'n/e', 'n/e', 'n/e', 'n/e', 'n/e', 'n/e', 'n/e', 'n/e', 'n/e', '538', '608', '', '', '', '8', '35', '35', '32', '', '', '', 'n/e', 'n/e', 'n/e', 'n/e', 'n/e', 'n/e', 'n/e', 'n/e', 'n/e', 'n/e', 'n/e', 'n/e', '3949', '3951', '3954', '', '', '', '931', '933', '887', '', '', '', 'n/e', 'n/e', 'n/e', 'n/e', 'n/e', 'n/e', '0', '0', '0', '', '', '', '215', '224', '231', '', '', '', '304', '94', '452', '', '', '', '642', '284', '422', '', '', '']\n",
      "['08:00 - 09:00', '273', '273', '273', '', '', '', 'n/e', 'n/e', 'n/e', 'n/e', 'n/e', 'n/e', 'n/e', 'n/e', 'n/e', 'n/e', 'n/e', 'n/e', '4459', '4429', '3254', '', '', '', 'n/e', 'n/e', 'n/e', 'n/e', 'n/e', 'n/e', '0', '0', '0', '', '', '', 'n/e', 'n/e', 'n/e', 'n/e', 'n/e', 'n/e', 'n/e', 'n/e', 'n/e', 'n/e', 'n/e', 'n/e', 'n/e', 'n/e', 'n/e', 'n/e', 'n/e', 'n/e', '669', '637', '', '', '', '8', '33', '33', '32', '', '', '', 'n/e', 'n/e', 'n/e', 'n/e', 'n/e', 'n/e', 'n/e', 'n/e', 'n/e', 'n/e', 'n/e', 'n/e', '3951', '3953', '3955', '', '', '', '992', '977', '957', '', '', '', 'n/e', 'n/e', 'n/e', 'n/e', 'n/e', 'n/e', '199', '63', '49', '', '', '', '217', '224', '237', '', '', '', '272', '169', '431', '', '', '', '561', '335', '400', '', '', '']\n",
      "['09:00 - 10:00', '271', '274', '273', '', '', '', 'n/e', 'n/e', 'n/e', 'n/e', 'n/e', 'n/e', 'n/e', 'n/e', 'n/e', 'n/e', 'n/e', 'n/e', '3745', '4351', '3189', '', '', '', 'n/e', 'n/e', 'n/e', 'n/e', 'n/e', 'n/e', '0', '0', '0', '', '', '', 'n/e', 'n/e', 'n/e', 'n/e', 'n/e', 'n/e', 'n/e', 'n/e', 'n/e', 'n/e', 'n/e', 'n/e', 'n/e', 'n/e', 'n/e', 'n/e', 'n/e', 'n/e', '13', '271', '', '122', '', '130', '32', '32', '31', '', '', '', 'n/e', 'n/e', 'n/e', 'n/e', 'n/e', 'n/e', 'n/e', 'n/e', 'n/e', 'n/e', 'n/e', 'n/e', '3952', '3950', '3954', '', '', '', '916', '960', '971', '', '', '', 'n/e', 'n/e', 'n/e', 'n/e', 'n/e', 'n/e', '924', '387', '162', '', '', '', '215', '222', '234', '', '', '', '302', '272', '499', '', '', '', '460', '327', '336', '', '', '']\n",
      "['10:00 - 11:00', '268', '277', '277', '', '', '', 'n/e', 'n/e', 'n/e', 'n/e', 'n/e', 'n/e', 'n/e', 'n/e', 'n/e', 'n/e', 'n/e', 'n/e', '3645', '4381', '3203', '', '', '', 'n/e', 'n/e', 'n/e', 'n/e', 'n/e', 'n/e', '0', '0', '0', '', '', '', 'n/e', 'n/e', 'n/e', 'n/e', 'n/e', 'n/e', 'n/e', 'n/e', 'n/e', 'n/e', 'n/e', 'n/e', 'n/e', 'n/e', 'n/e', 'n/e', 'n/e', 'n/e', '', '39', '67', '628', '5', '14', '32', '31', '30', '', '', '', 'n/e', 'n/e', 'n/e', 'n/e', 'n/e', 'n/e', 'n/e', 'n/e', 'n/e', 'n/e', 'n/e', 'n/e', '3950', '3931', '3953', '', '', '', '893', '961', '1008', '', '', '', 'n/e', 'n/e', 'n/e', 'n/e', 'n/e', 'n/e', '1773', '1016', '325', '', '', '', '216', '222', '237', '', '', '', '300', '320', '398', '', '', '', '298', '222', '263', '', '', '']\n",
      "['11:00 - 12:00', '273', '277', '277', '', '', '', 'n/e', 'n/e', 'n/e', 'n/e', 'n/e', 'n/e', 'n/e', 'n/e', 'n/e', 'n/e', 'n/e', 'n/e', '3594', '3935', '3245', '', '', '', 'n/e', 'n/e', 'n/e', 'n/e', 'n/e', 'n/e', '0', '10', '0', '', '', '', 'n/e', 'n/e', 'n/e', 'n/e', 'n/e', 'n/e', 'n/e', 'n/e', 'n/e', 'n/e', 'n/e', 'n/e', 'n/e', 'n/e', 'n/e', 'n/e', 'n/e', 'n/e', '', '', '66', '738', '284', '', '30', '30', '27', '', '', '', 'n/e', 'n/e', 'n/e', 'n/e', 'n/e', 'n/e', 'n/e', 'n/e', 'n/e', 'n/e', 'n/e', 'n/e', '3953', '3942', '3953', '', '', '', '867', '961', '1038', '', '', '', 'n/e', 'n/e', 'n/e', 'n/e', 'n/e', 'n/e', '2533', '1414', '425', '', '', '', '211', '219', '247', '', '', '', '271', '438', '246', '', '', '', '170', '186', '209', '', '', '']\n",
      "['12:00 - 13:00', '265', '276', '279', '', '', '', 'n/e', 'n/e', 'n/e', 'n/e', 'n/e', 'n/e', 'n/e', 'n/e', 'n/e', 'n/e', 'n/e', 'n/e', '3532', '3322', '3234', '', '', '', 'n/e', 'n/e', 'n/e', 'n/e', 'n/e', 'n/e', '0', '18', '0', '', '', '', 'n/e', 'n/e', 'n/e', 'n/e', 'n/e', 'n/e', 'n/e', 'n/e', 'n/e', 'n/e', 'n/e', 'n/e', 'n/e', 'n/e', 'n/e', 'n/e', 'n/e', 'n/e', '', '16', '178', '152', '80', '', '30', '30', '26', '', '', '', 'n/e', 'n/e', 'n/e', 'n/e', 'n/e', 'n/e', 'n/e', 'n/e', 'n/e', 'n/e', 'n/e', 'n/e', '3949', '3946', '3951', '', '', '', '889', '986', '1025', '', '', '', 'n/e', 'n/e', 'n/e', 'n/e', 'n/e', 'n/e', '2696', '1568', '519', '', '', '', '219', '222', '247', '', '', '', '205', '524', '148', '', '', '', '120', '205', '155', '', '', '']\n",
      "['13:00 - 14:00', '256', '276', '278', '', '', '', 'n/e', 'n/e', 'n/e', 'n/e', 'n/e', 'n/e', 'n/e', 'n/e', 'n/e', 'n/e', 'n/e', 'n/e', '3534', '2726', '3176', '', '', '', 'n/e', 'n/e', 'n/e', 'n/e', 'n/e', 'n/e', '0', '9', '0', '', '', '', 'n/e', 'n/e', 'n/e', 'n/e', 'n/e', 'n/e', 'n/e', 'n/e', 'n/e', 'n/e', 'n/e', 'n/e', 'n/e', 'n/e', 'n/e', 'n/e', 'n/e', 'n/e', '', '', '', '138', '353', '433', '31', '31', '28', '', '', '', 'n/e', 'n/e', 'n/e', 'n/e', 'n/e', 'n/e', 'n/e', 'n/e', 'n/e', 'n/e', 'n/e', 'n/e', '3947', '3943', '3951', '', '', '', '863', '968', '993', '', '', '', 'n/e', 'n/e', 'n/e', 'n/e', 'n/e', 'n/e', '2346', '1814', '467', '', '', '', '218', '221', '249', '', '', '', '67', '719', '88', '', '', '', '113', '254', '113', '', '', '']\n",
      "['14:00 - 15:00', '259', '275', '282', '', '', '', 'n/e', 'n/e', 'n/e', 'n/e', 'n/e', 'n/e', 'n/e', 'n/e', 'n/e', 'n/e', 'n/e', 'n/e', '3907', '2475', '3212', '', '', '', 'n/e', 'n/e', 'n/e', 'n/e', 'n/e', 'n/e', '0', '0', '0', '', '', '', 'n/e', 'n/e', 'n/e', 'n/e', 'n/e', 'n/e', 'n/e', 'n/e', 'n/e', 'n/e', 'n/e', 'n/e', 'n/e', 'n/e', 'n/e', 'n/e', 'n/e', 'n/e', '', '', '', '15', '349', '517', '32', '31', '32', '', '', '', 'n/e', 'n/e', 'n/e', 'n/e', 'n/e', 'n/e', 'n/e', 'n/e', 'n/e', 'n/e', 'n/e', 'n/e', '3946', '3944', '3951', '', '', '', '894', '916', '987', '', '', '', 'n/e', 'n/e', 'n/e', 'n/e', 'n/e', 'n/e', '1755', '1553', '401', '', '', '', '223', '224', '251', '', '', '', '1', '901', '59', '9', '', '', '106', '353', '91', '', '', '']\n",
      "['15:00 - 16:00', '258', '276', '281', '', '', '', 'n/e', 'n/e', 'n/e', 'n/e', 'n/e', 'n/e', 'n/e', 'n/e', 'n/e', 'n/e', 'n/e', 'n/e', '4116', '2596', '3254', '', '', '', 'n/e', 'n/e', 'n/e', 'n/e', 'n/e', 'n/e', '0', '0', '0', '', '', '', 'n/e', 'n/e', 'n/e', 'n/e', 'n/e', 'n/e', 'n/e', 'n/e', 'n/e', 'n/e', 'n/e', 'n/e', 'n/e', 'n/e', 'n/e', 'n/e', 'n/e', 'n/e', '39', '0', '', '0', '54', '546', '32', '31', '35', '', '', '', 'n/e', 'n/e', 'n/e', 'n/e', 'n/e', 'n/e', 'n/e', 'n/e', 'n/e', 'n/e', 'n/e', 'n/e', '3945', '3944', '3951', '', '', '', '941', '997', '988', '', '', '', 'n/e', 'n/e', 'n/e', 'n/e', 'n/e', 'n/e', '1018', '907', '306', '', '', '', '219', '222', '249', '', '', '', '19', '881', '22', '5', '', '', '120', '409', '69', '', '', '']\n",
      "['16:00 - 17:00', '258', '276', '276', '', '', '', 'n/e', 'n/e', 'n/e', 'n/e', 'n/e', 'n/e', 'n/e', 'n/e', 'n/e', 'n/e', 'n/e', 'n/e', '4839', '3298', '3339', '', '', '', 'n/e', 'n/e', 'n/e', 'n/e', 'n/e', 'n/e', '0', '0', '0', '', '', '', 'n/e', 'n/e', 'n/e', 'n/e', 'n/e', 'n/e', 'n/e', 'n/e', 'n/e', 'n/e', 'n/e', 'n/e', 'n/e', 'n/e', 'n/e', 'n/e', 'n/e', 'n/e', '7', '166', '7', '0', '', '80', '34', '31', '37', '', '', '', 'n/e', 'n/e', 'n/e', 'n/e', 'n/e', 'n/e', 'n/e', 'n/e', 'n/e', 'n/e', 'n/e', 'n/e', '3947', '3946', '3951', '', '', '', '983', '1050', '1007', '', '', '', 'n/e', 'n/e', 'n/e', 'n/e', 'n/e', 'n/e', '334', '448', '154', '', '', '', '219', '226', '250', '', '', '', '23', '958', '17', '3', '', '', '135', '393', '47', '', '', '']\n",
      "['17:00 - 18:00', '266', '277', '274', '', '', '', 'n/e', 'n/e', 'n/e', 'n/e', 'n/e', 'n/e', 'n/e', 'n/e', 'n/e', 'n/e', 'n/e', 'n/e', '5028', '3522', '3491', '', '', '', 'n/e', 'n/e', 'n/e', 'n/e', 'n/e', 'n/e', '0', '0', '0', '', '', '', 'n/e', 'n/e', 'n/e', 'n/e', 'n/e', 'n/e', 'n/e', 'n/e', 'n/e', 'n/e', 'n/e', 'n/e', 'n/e', 'n/e', 'n/e', 'n/e', 'n/e', 'n/e', '648', '233', '72', '', '', '17', '36', '32', '40', '', '', '', 'n/e', 'n/e', 'n/e', 'n/e', 'n/e', 'n/e', 'n/e', 'n/e', 'n/e', 'n/e', 'n/e', 'n/e', '3947', '3950', '3951', '', '', '', '1013', '1024', '1037', '', '', '', 'n/e', 'n/e', 'n/e', 'n/e', 'n/e', 'n/e', '34', '63', '21', '', '', '', '224', '224', '249', '', '', '', '', '1198', '3', '19', '', '1', '163', '454', '42', '', '', '']\n",
      "['18:00 - 19:00', '266', '274', '276', '', '', '', 'n/e', 'n/e', 'n/e', 'n/e', 'n/e', 'n/e', 'n/e', 'n/e', 'n/e', 'n/e', 'n/e', 'n/e', '5140', '3484', '3546', '', '', '', 'n/e', 'n/e', 'n/e', 'n/e', 'n/e', 'n/e', '0', '0', '0', '', '', '', 'n/e', 'n/e', 'n/e', 'n/e', 'n/e', 'n/e', 'n/e', 'n/e', 'n/e', 'n/e', 'n/e', 'n/e', 'n/e', 'n/e', 'n/e', 'n/e', 'n/e', 'n/e', '655', '508', '549', '', '', '', '36', '32', '36', '', '', '', 'n/e', 'n/e', 'n/e', 'n/e', 'n/e', 'n/e', 'n/e', 'n/e', 'n/e', 'n/e', 'n/e', 'n/e', '3948', '3952', '3951', '', '', '', '1025', '939', '1029', '', '', '', 'n/e', 'n/e', 'n/e', 'n/e', 'n/e', 'n/e', '0', '0', '0', '', '', '', '225', '227', '251', '', '', '', '', '1479', '5', '16', '', '5', '210', '743', '52', '', '', '']\n",
      "['19:00 - 20:00', '272', '279', '272', '', '', '', 'n/e', 'n/e', 'n/e', 'n/e', 'n/e', 'n/e', 'n/e', 'n/e', 'n/e', 'n/e', 'n/e', 'n/e', '5258', '3446', '3516', '', '', '', 'n/e', 'n/e', 'n/e', 'n/e', 'n/e', 'n/e', '0', '0', '0', '', '', '', 'n/e', 'n/e', 'n/e', 'n/e', 'n/e', 'n/e', 'n/e', 'n/e', 'n/e', 'n/e', 'n/e', 'n/e', 'n/e', 'n/e', 'n/e', 'n/e', 'n/e', 'n/e', '701', '143', '666', '', '0', '', '36', '32', '30', '', '', '', 'n/e', 'n/e', 'n/e', 'n/e', 'n/e', 'n/e', 'n/e', 'n/e', 'n/e', 'n/e', 'n/e', 'n/e', '3949', '3951', '3951', '', '', '', '1027', '889', '1033', '', '', '', 'n/e', 'n/e', 'n/e', 'n/e', 'n/e', 'n/e', '0', '0', '0', '', '', '', '221', '221', '250', '', '', '', '1', '1545', '', '11', '', '23', '239', '935', '55', '', '', '']\n",
      "['20:00 - 21:00', '274', '279', '276', '', '', '', 'n/e', 'n/e', 'n/e', 'n/e', 'n/e', 'n/e', 'n/e', 'n/e', 'n/e', 'n/e', 'n/e', 'n/e', '5185', '3625', '3532', '', '', '', 'n/e', 'n/e', 'n/e', 'n/e', 'n/e', 'n/e', '0', '0', '0', '', '', '', 'n/e', 'n/e', 'n/e', 'n/e', 'n/e', 'n/e', 'n/e', 'n/e', 'n/e', 'n/e', 'n/e', 'n/e', 'n/e', 'n/e', 'n/e', 'n/e', 'n/e', 'n/e', '185', '93', '217', '', '', '', '33', '33', '29', '', '', '', 'n/e', 'n/e', 'n/e', 'n/e', 'n/e', 'n/e', 'n/e', 'n/e', 'n/e', 'n/e', 'n/e', 'n/e', '3950', '3951', '3951', '', '', '', '1019', '852', '1010', '', '', '', 'n/e', 'n/e', 'n/e', 'n/e', 'n/e', 'n/e', '0', '0', '0', '', '', '', '227', '226', '250', '', '', '', '', '1536', '', '5', '', '20', '224', '1004', '53', '', '', '']\n",
      "['21:00 - 22:00', '274', '281', '274', '', '', '', 'n/e', 'n/e', 'n/e', 'n/e', 'n/e', 'n/e', 'n/e', 'n/e', 'n/e', 'n/e', 'n/e', 'n/e', '4864', '2719', '3393', '', '', '', 'n/e', 'n/e', 'n/e', 'n/e', 'n/e', 'n/e', '0', '0', '0', '', '', '', 'n/e', 'n/e', 'n/e', 'n/e', 'n/e', 'n/e', 'n/e', 'n/e', 'n/e', 'n/e', 'n/e', 'n/e', 'n/e', 'n/e', 'n/e', 'n/e', 'n/e', 'n/e', '58', '96', '13', '2', '55', '1', '31', '32', '30', '', '', '', 'n/e', 'n/e', 'n/e', 'n/e', 'n/e', 'n/e', 'n/e', 'n/e', 'n/e', 'n/e', 'n/e', 'n/e', '3950', '3953', '3951', '', '', '', '920', '888', '968', '', '', '', 'n/e', 'n/e', 'n/e', 'n/e', 'n/e', 'n/e', '0', '0', '0', '', '', '', '229', '230', '248', '', '', '', '17', '1212', '', '', '', '20', '201', '993', '37', '', '', '']\n",
      "['22:00 - 23:00', '274', '278', '270', '', '', '', 'n/e', 'n/e', 'n/e', 'n/e', 'n/e', 'n/e', 'n/e', 'n/e', 'n/e', 'n/e', 'n/e', 'n/e', '4430', '2002', '2892', '', '', '', 'n/e', 'n/e', 'n/e', 'n/e', 'n/e', 'n/e', '0', '0', '0', '', '', '', 'n/e', 'n/e', 'n/e', 'n/e', 'n/e', 'n/e', 'n/e', 'n/e', 'n/e', 'n/e', 'n/e', 'n/e', 'n/e', 'n/e', 'n/e', 'n/e', 'n/e', 'n/e', '', '2', '9', '11', '6', '4', '31', '32', '31', '', '', '', 'n/e', 'n/e', 'n/e', 'n/e', 'n/e', 'n/e', 'n/e', 'n/e', 'n/e', 'n/e', 'n/e', 'n/e', '3950', '3952', '3951', '', '', '', '848', '943', '856', '', '', '', 'n/e', 'n/e', 'n/e', 'n/e', 'n/e', 'n/e', '0', '0', '0', '', '', '', '228', '227', '249', '', '', '', '49', '1093', '', '', '', '26', '171', '973', '24', '', '', '']\n",
      "['23:00 - 00:00', '275', '283', '273', '', '', '', 'n/e', 'n/e', 'n/e', 'n/e', 'n/e', 'n/e', 'n/e', 'n/e', 'n/e', 'n/e', 'n/e', 'n/e', '4377', '1958', '2548', '', '', '', 'n/e', 'n/e', 'n/e', 'n/e', 'n/e', 'n/e', '0', '0', '0', '', '', '', 'n/e', 'n/e', 'n/e', 'n/e', 'n/e', 'n/e', 'n/e', 'n/e', 'n/e', 'n/e', 'n/e', 'n/e', 'n/e', 'n/e', 'n/e', 'n/e', 'n/e', 'n/e', '', '85', '78', '11', '0', '1', '31', '31', '32', '', '', '', 'n/e', 'n/e', 'n/e', 'n/e', 'n/e', 'n/e', 'n/e', 'n/e', 'n/e', 'n/e', 'n/e', 'n/e', '3950', '3952', '3951', '', '', '', '852', '954', '884', '', '', '', 'n/e', 'n/e', 'n/e', 'n/e', 'n/e', 'n/e', '0', '0', '0', '', '', '', '225', '230', '249', '', '', '', '49', '883', '', '', '', '27', '143', '899', '14', '', '', '']\n"
     ]
    }
   ],
   "source": [
    "for row in data:\n",
    "    print(row)"
   ]
  },
  {
   "cell_type": "code",
   "execution_count": 7,
   "id": "da36b086-ea28-4cb9-8754-0bdd90ab37f6",
   "metadata": {},
   "outputs": [
    {
     "name": "stdout",
     "output_type": "stream",
     "text": [
      "              0    1    2    3   4   5   6    7    8    9    ...  111 112 113  \\\n",
      "0   00:00 - 01:00  268  273  281              n/e  n/e  n/e  ...  590           \n",
      "1   01:00 - 02:00  270  271  283              n/e  n/e  n/e  ...  641           \n",
      "2   02:00 - 03:00  269  274  282              n/e  n/e  n/e  ...  750           \n",
      "3   03:00 - 04:00  269  272  285              n/e  n/e  n/e  ...  713           \n",
      "4   04:00 - 05:00  267  274  279              n/e  n/e  n/e  ...  529           \n",
      "5   05:00 - 06:00  264  272  278              n/e  n/e  n/e  ...  542           \n",
      "6   06:00 - 07:00  271  272  274              n/e  n/e  n/e  ...  490           \n",
      "7   07:00 - 08:00  270  275  276              n/e  n/e  n/e  ...  452           \n",
      "8   08:00 - 09:00  273  273  273              n/e  n/e  n/e  ...  431           \n",
      "9   09:00 - 10:00  271  274  273              n/e  n/e  n/e  ...  499           \n",
      "10  10:00 - 11:00  268  277  277              n/e  n/e  n/e  ...  398           \n",
      "11  11:00 - 12:00  273  277  277              n/e  n/e  n/e  ...  246           \n",
      "12  12:00 - 13:00  265  276  279              n/e  n/e  n/e  ...  148           \n",
      "13  13:00 - 14:00  256  276  278              n/e  n/e  n/e  ...   88           \n",
      "14  14:00 - 15:00  259  275  282              n/e  n/e  n/e  ...   59   9       \n",
      "15  15:00 - 16:00  258  276  281              n/e  n/e  n/e  ...   22   5       \n",
      "16  16:00 - 17:00  258  276  276              n/e  n/e  n/e  ...   17   3       \n",
      "17  17:00 - 18:00  266  277  274              n/e  n/e  n/e  ...    3  19       \n",
      "18  18:00 - 19:00  266  274  276              n/e  n/e  n/e  ...    5  16       \n",
      "19  19:00 - 20:00  272  279  272              n/e  n/e  n/e  ...       11       \n",
      "20  20:00 - 21:00  274  279  276              n/e  n/e  n/e  ...        5       \n",
      "21  21:00 - 22:00  274  281  274              n/e  n/e  n/e  ...                \n",
      "22  22:00 - 23:00  274  278  270              n/e  n/e  n/e  ...                \n",
      "23  23:00 - 00:00  275  283  273              n/e  n/e  n/e  ...                \n",
      "\n",
      "   114  115   116  117 118 119 120  \n",
      "0       768   141  844              \n",
      "1       844   134  856              \n",
      "2       826   126  841              \n",
      "3       849   137  678              \n",
      "4       930   167  524              \n",
      "5       966   202  452              \n",
      "6       853   245  457              \n",
      "7       642   284  422              \n",
      "8       561   335  400              \n",
      "9       460   327  336              \n",
      "10      298   222  263              \n",
      "11      170   186  209              \n",
      "12      120   205  155              \n",
      "13      113   254  113              \n",
      "14      106   353   91              \n",
      "15      120   409   69              \n",
      "16      135   393   47              \n",
      "17   1  163   454   42              \n",
      "18   5  210   743   52              \n",
      "19  23  239   935   55              \n",
      "20  20  224  1004   53              \n",
      "21  20  201   993   37              \n",
      "22  26  171   973   24              \n",
      "23  27  143   899   14              \n",
      "\n",
      "[24 rows x 121 columns]\n"
     ]
    }
   ],
   "source": [
    "import pandas as pd\n",
    "\n",
    "# Convert the data list into a pandas DataFrame\n",
    "df = pd.DataFrame(data)\n",
    "\n",
    "# Print the DataFrame\n",
    "print(df)"
   ]
  },
  {
   "cell_type": "code",
   "execution_count": 2,
   "id": "bf15ee37-f168-4ca7-9fd9-68382ce01deb",
   "metadata": {},
   "outputs": [],
   "source": [
    "base_url = 'https://transparency.entsoe.eu/generation/r2/actualGenerationPerProductionType/show?name=&defaultValue=false&viewType=TABLE&areaType=CTA&atch=false&datepicker-day-offset-select-dv-date-from_input=D&dateTime.dateTime=01.01.2023+00:00|CET|DAYTIMERANGE&dateTime.endDateTime=01.01.2023+00:00|CET|DAYTIMERANGE&area.values=CTY|10YBE----------2!CTA|10YBE----------2&productionType.values=B01&productionType.values=B02&productionType.values=B03&productionType.values=B04&productionType.values=B05&productionType.values=B06&productionType.values=B07&productionType.values=B08&productionType.values=B09&productionType.values=B10&productionType.values=B11&productionType.values=B12&productionType.values=B13&productionType.values=B14&productionType.values=B20&productionType.values=B15&productionType.values=B16&productionType.values=B17&productionType.values=B18&productionType.values=B19&showConsumption.values=SHOW_CONSUMPTION&dateTime.timezone=CET_CEST&dateTime.timezone_input=CET+(UTC+1)+/+CEST+(UTC+2)'"
   ]
  },
  {
   "cell_type": "code",
   "execution_count": null,
   "id": "4681100e-9af5-4c92-b62f-6a5c93dc9492",
   "metadata": {},
   "outputs": [],
   "source": [
    "from datetime import datetime, timedelta\n",
    "\n",
    "# Define the start date\n",
    "start_date = datetime(2023, 1, 1)\n",
    "\n",
    "# Define the end date\n",
    "end_date = datetime(2023, 12, 31)\n",
    "\n",
    "# File path to save the dates\n",
    "file_path = \"2023_dates.txt\"  # Change this to your desired file path\n",
    "\n",
    "# Open the file in write mode\n",
    "with open(file_path, 'w') as file:\n",
    "    # Generate all the days between start and end date\n",
    "    current_date = start_date\n",
    "    while current_date <= end_date:\n",
    "        # Format the date in the desired format\n",
    "        formatted_date = current_date.strftime('%d.%m.%Y+00:00')\n",
    "        \n",
    "        # Write the formatted date to the file\n",
    "        file.write(formatted_date + '\\n')\n",
    "        \n",
    "        # Move to the next day\n",
    "        current_date += timedelta(days=1)\n"
   ]
  }
 ],
 "metadata": {
  "kernelspec": {
   "display_name": "Python 3 (ipykernel)",
   "language": "python",
   "name": "python3"
  },
  "language_info": {
   "codemirror_mode": {
    "name": "ipython",
    "version": 3
   },
   "file_extension": ".py",
   "mimetype": "text/x-python",
   "name": "python",
   "nbconvert_exporter": "python",
   "pygments_lexer": "ipython3",
   "version": "3.11.7"
  }
 },
 "nbformat": 4,
 "nbformat_minor": 5
}
