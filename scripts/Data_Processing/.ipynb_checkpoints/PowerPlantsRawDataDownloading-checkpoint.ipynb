{
 "cells": [
  {
   "attachments": {},
   "cell_type": "markdown",
   "id": "6dc919c3-4d30-4b5b-921b-348ab544b97d",
   "metadata": {},
   "source": [
    "<div style=\"text-align: center; margin-left: 0em; font-weight: bold; font-size: 20px; font-family: TimesNewRoman;\">\n",
    "    POWER PLANTS DATA PROCESSING - Downloading Notebook\n",
    "</div>\n",
    "\n",
    "<div style=\"text-align: left; margin-left: 0em; font-weight: unbold; font-size: 16px; font-family: TimesNewRoman;\">\n",
    "- Each part of the following script was used to download and gatter the raw data for the Power Plants Generation Units for all the european countries modelled in the Dispa-SET.\n",
    "<br>\n",
    "- This notebook has been separated of the main data processing notebook (PowerPlants.ipynb) as a secondary script since the download process, in some cases, may take to much time, so in order to not interrupt the flow of the formatting notebook, this code storages all the needed data to be used by the formatting script in a separated folder and give the corresponding names to the downloaded files, in a way that the main formatting notebook can read and format them.\n",
    "</div>\n",
    "<br>\n",
    "<div style=\"text-align: left; margin-left: 3.0em; font-weight: bold; font-size: 18px; font-family: TimesNewRoman;\">\n",
    "    1. Notebook Set Up\n",
    "</div>\n",
    "\n",
    "<div style=\"text-align: left; margin-left: 0.0em; font-weight: unbold; font-size: 16px; font-family: TimesNewRoman;\">\n",
    "- Importing needed libraries.\n",
    "</div>"
   ]
  },
  {
   "cell_type": "code",
   "execution_count": 3,
   "id": "154b9aee-b28e-401a-b418-29686d42e01d",
   "metadata": {},
   "outputs": [],
   "source": [
    "import pandas as pd\n",
    "from entsoe import EntsoePandasClient\n",
    "import os"
   ]
  },
  {
   "attachments": {},
   "cell_type": "markdown",
   "id": "e690e8e3-9045-4ae8-853b-52c67e123a51",
   "metadata": {},
   "source": [
    "<div style=\"text-align: left; margin-left: 3.0em; font-weight: bold; font-size: 17px; font-family: TimesNewRoman;\">\n",
    "2. ENTSOE RESTful API Connection\n",
    "</div>\n",
    "\n",
    "<div style=\"text-align: left; margin-left: 0em; font-weight: unbold; font-size: 16px; font-family: TimesNewRoman;\">\n",
    "Stablishing the API connection to request the raw data.\n",
    "    </div>\n",
    "<div style=\"text-align: left; margin-left: 2.0em; font-weight: unbold; font-size: 16px; font-family: TimesNewRoman;\">\n",
    "- For this case the ENTSO-E API is going to be used to collect the raw data.\n",
    "<br>\n",
    "- This method was previously verified to assure the correct response of the alredy developed functions to download the data straigth from the ENTSO-E API connection. \n",
    "<br>\n",
    "- However it was found some mismachets with some countries which data is not available in the ENTSO-E web portal, this can derive into a interruption of the current notebook flow proccess, this can derive into a interruption of the current notebook flow process, if this happens is recommended, to start again avoiding those countries which data is missing and provokes an error message.  \n",
    "     <br>\n",
    "- Thus, once all the raw data has been downloaded, the same is going to be added to a folder with the same name of the analized year, defined by the data_year variable, and located inside the local Dispa-SET directory:\n",
    "</div>\n",
    "<div style=\"text-align: left; margin-left: 4.0em; font-weight: unbold; font-size: 16px; font-family: TimesNewRoman;\">\n",
    "    /Local/Dispa-SET/Folder/Path/RawData/PowerPlants/EU_Power_Units_Raw_Data_Source/\n",
    "</div>\n",
    "<div style=\"text-align: left; margin-left: 2.0em; font-weight: unbold; font-size: 16px; font-family: TimesNewRoman;\">\n",
    "- However this is a usefull tool, there are some missworking when relating other data e.g. generation per unit. The data is not available for all the years and for all the countries. For that reason different download methods are used among the different data formating notebooks.\n",
    "</div>"
   ]
  },
  {
   "cell_type": "code",
   "execution_count": 11,
   "id": "3883c948-08f9-4d14-be7f-6f9e7c4cc8af",
   "metadata": {},
   "outputs": [],
   "source": [
    "client = EntsoePandasClient(api_key='61e5bbbb-7e80-4540-a471-bd993873aa74')"
   ]
  },
  {
   "cell_type": "markdown",
   "id": "d13f16b8-fa7d-4fd1-8bbe-373c2ab8b13e",
   "metadata": {},
   "source": [
    "<div style=\"text-align: left; margin-left: 3.0em; font-weight: bold; font-size: 17px; font-family: TimesNewRoman;\">\n",
    "3. Local Directory Paths\n",
    "</div>\n",
    "<div style=\"text-align: left; margin-left: 0em; font-weight: unbold; font-size: 16px; font-family: TimesNewRoman;\">\n",
    "Getting all the needed paths in the local directory where Dispa-SET were installed.\n",
    "    </div>\n",
    "<div style=\"text-align: left; margin-left: 2.0em; font-weight: unbold; font-size: 16px; font-family: TimesNewRoman;\">\n",
    "- Some local paths are needed to be defined as variables to be used in the download process, this mainly because of storage location purposes.\n",
    "</div>"
   ]
  },
  {
   "cell_type": "code",
   "execution_count": 5,
   "id": "ff63406f-b5da-47bb-a7f2-e6e827a9d6fe",
   "metadata": {},
   "outputs": [
    {
     "name": "stdout",
     "output_type": "stream",
     "text": [
      "dispaSET_unleash_folder_name: Dispa-SET_Unleash\n",
      "dispaSET_unleash_folder_path: /home/ray/Dispa-SET_Unleash\n"
     ]
    }
   ],
   "source": [
    "# Get the current working directory\n",
    "current_directory = os.getcwd()\n",
    "\n",
    "# Navigate to the parent directory of \"Dispa-SET_Unleash\"\n",
    "dispaSET_unleash_parent_directory = os.path.dirname(current_directory)\n",
    "\n",
    "# Get the path to the \"Dispa-SET_Unleash\" folder\n",
    "dispaSET_unleash_folder_path = os.path.dirname(dispaSET_unleash_parent_directory)\n",
    "\n",
    "# Construct the dispaSET_unleash_folder_name variable\n",
    "dispaSET_unleash_folder_name = os.path.basename(dispaSET_unleash_folder_path)\n",
    "\n",
    "print(\"dispaSET_unleash_folder_name:\", dispaSET_unleash_folder_name)\n",
    "print(\"dispaSET_unleash_folder_path:\", dispaSET_unleash_folder_path)"
   ]
  },
  {
   "cell_type": "code",
   "execution_count": 15,
   "id": "019da43c-8944-4c83-a642-31e749f9fdc9",
   "metadata": {},
   "outputs": [
    {
     "name": "stdout",
     "output_type": "stream",
     "text": [
      "power_plants_folder_path: /home/ray/Dispa-SET_Unleash/RawData/PowerPlants/\n",
      "power_plants_raw_data_folder_path: /home/ray/Dispa-SET_Unleash/RawData/PowerPlants/EU_Power_Units_Raw_Data_Source\n"
     ]
    }
   ],
   "source": [
    "# Additional string to be appended\n",
    "additional_path = \"/RawData/PowerPlants/\"\n",
    "additional_path_1 = \"/RawData/PowerPlants/EU_Power_Units_Raw_Data_Source\"\n",
    "\n",
    "# Construct the standard_time_data_folder_path variable\n",
    "#reference_data_folder_path = dispaSET_unleash_folder_path + additional_path\n",
    "\n",
    "# Construct the Power_Units_folder_path variable\n",
    "power_plants_folder_path = dispaSET_unleash_folder_path + additional_path\n",
    "\n",
    "# Construct the Power_Units_Raw_Data_folder_path variable\n",
    "power_plants_raw_data_folder_path = dispaSET_unleash_folder_path + additional_path_1\n",
    "\n",
    "\n",
    "#print(\"reference_data_folder_path:\", reference_data_folder_path)\n",
    "print(\"power_plants_folder_path:\", power_plants_folder_path)\n",
    "print(\"power_plants_raw_data_folder_path:\", power_plants_raw_data_folder_path)"
   ]
  },
  {
   "cell_type": "code",
   "execution_count": null,
   "id": "5e303754-456d-4185-9ff3-6439e60f9cc8",
   "metadata": {},
   "outputs": [],
   "source": []
  },
  {
   "cell_type": "code",
   "execution_count": null,
   "id": "82a1fc0b-74f8-4577-a0ca-d8557c8b4d7f",
   "metadata": {},
   "outputs": [],
   "source": [
    "# Year to which data refers to:\n",
    "data_year = 2023"
   ]
  },
  {
   "cell_type": "code",
   "execution_count": null,
   "id": "ac016609-ca40-4d61-a96c-dd4e827e6069",
   "metadata": {},
   "outputs": [],
   "source": []
  },
  {
   "cell_type": "code",
   "execution_count": 13,
   "id": "066c9c1c-c25c-420d-9c9f-e857961b39aa",
   "metadata": {},
   "outputs": [],
   "source": [
    "# Define a list of country codes\n",
    "country_list = [\"AT\", \"BE\", \"BG\", \"CH\", \"CY\", \"CZ\", \"DE\", \"DK\", \"EE\", \"EL\", \"ES\", \"FI\", \"FR\", \"HR\", \"HU\", \n",
    "                \"IE\", \"IT\", \"LT\", \"LU\", \"LV\", \"MT\", \"NL\", \"NO\", \"PL\", \"PT\", \"RO\", \"SE\", \"SI\", \"SK\", \"UK\"]"
   ]
  },
  {
   "cell_type": "code",
   "execution_count": null,
   "id": "6b9b1184-4dfe-41b9-8532-6ab3070abfa7",
   "metadata": {},
   "outputs": [],
   "source": []
  },
  {
   "cell_type": "code",
   "execution_count": null,
   "id": "a2fb4680-dcee-4f31-901d-6019b0ebd6f8",
   "metadata": {},
   "outputs": [],
   "source": [
    "# Define other parameters\n",
    "type_marketagreement_type = 'A01'\n",
    "contract_marketagreement_type = \"A01\"\n",
    "process_type = 'A51'\n",
    "\n",
    "# Define the path to the outage factors raw data folder\n",
    "country_power_plants_raw_data_folder_path = f\"{power_plants_raw_data_folder_path}/{data_year}/\"\n",
    "\n",
    "# Create the directory if it doesn't exist\n",
    "os.makedirs(country_power_plants_raw_data_folder_path, exist_ok=True)\n",
    "\n",
    "# Initialize variable to store headers\n",
    "headers = None\n",
    "\n",
    "# Iterate over each country code\n",
    "for country_code in country_list:\n",
    "    # Define the start and end timestamps for the year\n",
    "    start = pd.Timestamp(str(data_year) + '0101', tz='Europe/Brussels')\n",
    "    end = pd.Timestamp(str(data_year) + '1231', tz='Europe/Brussels')\n",
    "\n",
    "    # Query unavailability of generation units for the current country code\n",
    "    query_installed_generation_capacity_per_units = client.query_installed_generation_capacity_per_unit(country_code, start=start, end=end, psr_type=None)    \n",
    "    # Check if the resulting DataFrame is empty\n",
    "    if not query_installed_generation_capacity_per_units.empty:\n",
    "        # Define the output file path using the country code\n",
    "        output_file_path = f'{outage_factors_raw_data_folder_path}{country_code}.csv'\n",
    "        \n",
    "        # Save the queried data to a CSV file\n",
    "        query_unavailability_of_generation_units.to_csv(output_file_path, index=False)\n",
    "        \n",
    "        # Update headers if needed\n",
    "        headers = query_unavailability_of_generation_units.columns\n",
    "    else:\n",
    "        # If the DataFrame is empty, create an empty CSV file with the same headers as the last file saved\n",
    "        if headers is not None:\n",
    "            empty_csv_path = f'{outage_factors_raw_data_folder_path}{country_code}.csv'\n",
    "            pd.DataFrame(columns=headers).to_csv(empty_csv_path, index=False)\n"
   ]
  }
 ],
 "metadata": {
  "kernelspec": {
   "display_name": "Python 3 (Spyder)",
   "language": "python3",
   "name": "python3"
  },
  "language_info": {
   "codemirror_mode": {
    "name": "ipython",
    "version": 3
   },
   "file_extension": ".py",
   "mimetype": "text/x-python",
   "name": "python",
   "nbconvert_exporter": "python",
   "pygments_lexer": "ipython3",
   "version": "3.11.7"
  }
 },
 "nbformat": 4,
 "nbformat_minor": 5
}
