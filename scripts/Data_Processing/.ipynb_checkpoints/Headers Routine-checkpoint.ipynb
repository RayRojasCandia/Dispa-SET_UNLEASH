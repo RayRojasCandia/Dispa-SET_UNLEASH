{
 "cells": [
  {
   "cell_type": "markdown",
   "id": "c21c1c6c-9474-48d1-8a72-3748fef52f84",
   "metadata": {},
   "source": [
    "POWER PLANTS HEADERS DICTIONARY"
   ]
  },
  {
   "cell_type": "code",
   "execution_count": 9,
   "id": "324c1fe5-1c3f-40e3-9221-255b6f7c85d5",
   "metadata": {},
   "outputs": [],
   "source": [
    "power_plants_clean_data_file_name = '2020.csv'\n",
    "power_plants_clean_data_folder_path = '/home/ray/Dispa-SET_Unleash/RawData/PowerPlants/0'\n",
    "power_plants_clean_data_file_path = '/home/ray/Dispa-SET_Unleash/RawData/PowerPlants/0/2020.csv'\n",
    "power_plants_raw_data_file_name = '2020-01.csv'\n",
    "power_plants_raw_data_file_path = '/home/ray/Dispa-SET_Unleash/RawData/PowerPlants/0/2020-01.csv'\n",
    "power_plants_clean_data_equivalent_headers_file_name = 'power_plants_clean_data_equivalent_headers.csv'\n",
    "power_plants_clean_data_equivalent_headers_file_path = '/home/ray/Dispa-SET_Unleash/RawData/PowerPlants/power_plants_clean_data_equivalent_headers.csv'"
   ]
  },
  {
   "cell_type": "code",
   "execution_count": 10,
   "id": "f680f11f-d921-49a6-81c3-5545fb2319b3",
   "metadata": {},
   "outputs": [
    {
     "name": "stdout",
     "output_type": "stream",
     "text": [
      "Columns copied successfully.\n"
     ]
    }
   ],
   "source": [
    "import pandas as pd\n",
    "\n",
    "# Read the headers from the raw data file\n",
    "raw_data_headers = pd.read_csv(power_plants_raw_data_file_path, nrows=0).columns.tolist()\n",
    "\n",
    "# Read the equivalent headers file\n",
    "equivalent_headers_df = pd.read_csv(power_plants_clean_data_equivalent_headers_file_path)\n",
    "\n",
    "# Initialize an empty dictionary to store mapping of equivalent headers to dispaset headers\n",
    "equivalent_to_dispaset_mapping = dict(zip(equivalent_headers_df['Equivalent_Headers'], equivalent_headers_df['Dispaset_Headers']))\n",
    "\n",
    "# Read the clean data file to get all existing headers\n",
    "existing_headers_df = pd.read_csv(power_plants_clean_data_file_path, nrows=0)\n",
    "existing_headers = existing_headers_df.columns.tolist()\n",
    "\n",
    "# Read the raw data file\n",
    "raw_data_df = pd.read_csv(power_plants_raw_data_file_path)\n",
    "\n",
    "# Initialize a new DataFrame to store the copied columns along with existing headers\n",
    "clean_data_df = pd.DataFrame()\n",
    "\n",
    "# Iterate over the existing headers in the clean data file\n",
    "for existing_header in existing_headers:\n",
    "    # Check if the existing header exists in the equivalent headers mapping\n",
    "    if existing_header in equivalent_to_dispaset_mapping.values():\n",
    "        # Find the corresponding equivalent header\n",
    "        equivalent_header = next((key for key, value in equivalent_to_dispaset_mapping.items() if value == existing_header), None)\n",
    "        if equivalent_header is not None and equivalent_header in raw_data_df.columns:\n",
    "            # Copy the corresponding column from the raw data file to the clean data DataFrame\n",
    "            clean_data_df[existing_header] = raw_data_df[equivalent_header]\n",
    "        else:\n",
    "            # Handle case where equivalent header is not found or is NaN\n",
    "            clean_data_df[existing_header] = None\n",
    "    else:\n",
    "        # If the existing header doesn't have a corresponding equivalent, copy it as is\n",
    "        clean_data_df[existing_header] = None\n",
    "\n",
    "# Write the clean data DataFrame to the clean data file\n",
    "clean_data_df.to_csv(power_plants_clean_data_file_path, index=False)\n",
    "\n",
    "print(\"Columns copied successfully.\")\n"
   ]
  },
  {
   "cell_type": "code",
   "execution_count": null,
   "id": "8bc062d4-5fe0-49d7-8dce-2146d5837d64",
   "metadata": {},
   "outputs": [],
   "source": []
  }
 ],
 "metadata": {
  "kernelspec": {
   "display_name": "Python 3 (Spyder)",
   "language": "python3",
   "name": "python3"
  },
  "language_info": {
   "codemirror_mode": {
    "name": "ipython",
    "version": 3
   },
   "file_extension": ".py",
   "mimetype": "text/x-python",
   "name": "python",
   "nbconvert_exporter": "python",
   "pygments_lexer": "ipython3",
   "version": "3.11.7"
  }
 },
 "nbformat": 4,
 "nbformat_minor": 5
}
