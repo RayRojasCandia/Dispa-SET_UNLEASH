{
 "cells": [
  {
   "cell_type": "code",
   "execution_count": 2,
   "id": "8f08b738-e67b-4dec-af15-6a601c47432d",
   "metadata": {},
   "outputs": [],
   "source": [
    "import requests\n",
    "from bs4 import BeautifulSoup\n",
    "import csv\n",
    "\n",
    "# URL of the webpage containing the table\n",
    "url = 'https://transparency.entsoe.eu/generation/r2/actualGenerationPerProductionType/show?name=&defaultValue=false&viewType=TABLE&areaType=CTA&atch=false&datepicker-day-offset-select-dv-date-from_input=D&dateTime.dateTime=09.04.2024+00:00|CET|DAYTIMERANGE&dateTime.endDateTime=09.04.2024+00:00|CET|DAYTIMERANGE&area.values=CTY|10YBE----------2!CTA|10YBE----------2&productionType.values=B01&productionType.values=B02&productionType.values=B03&productionType.values=B04&productionType.values=B05&productionType.values=B06&productionType.values=B07&productionType.values=B08&productionType.values=B09&productionType.values=B10&productionType.values=B11&productionType.values=B12&productionType.values=B13&productionType.values=B14&productionType.values=B20&productionType.values=B15&productionType.values=B16&productionType.values=B17&productionType.values=B18&productionType.values=B19&showConsumption.values=SHOW_CONSUMPTION&dateTime.timezone=CET_CEST&dateTime.timezone_input=CET+(UTC+1)+/+CEST+(UTC+2)'\n",
    "\n",
    "# Send a GET request to the webpage\n",
    "response = requests.get(url)\n",
    "\n",
    "# Parse the HTML content of the webpage\n",
    "soup = BeautifulSoup(response.text, 'html.parser')\n",
    "\n",
    "# Find the table element\n",
    "table = soup.find('table')\n",
    "\n",
    "# Extract data from the table\n",
    "data = []\n",
    "for row in table.find_all('tr'):\n",
    "    row_data = []\n",
    "    for cell in row.find_all('td'):\n",
    "        row_data.append(cell.text.strip())\n",
    "    if row_data:  # Ensures we don't add empty rows\n",
    "        data.append(row_data)\n",
    "\n",
    "# Write the data to a CSV file\n",
    "with open('table_data.csv', 'w', newline='') as csvfile:\n",
    "    writer = csv.writer(csvfile)\n",
    "    writer.writerows(data)"
   ]
  },
  {
   "cell_type": "code",
   "execution_count": 3,
   "id": "7f1d6d06-f62c-4732-8c55-a5f6389fb76d",
   "metadata": {},
   "outputs": [
    {
     "name": "stdout",
     "output_type": "stream",
     "text": [
      "['00:00 - 01:00', '43', '', 'n/e', 'n/e', 'n/e', 'n/e', '1148', '', 'n/e', 'n/e', '0', '', 'n/e', 'n/e', 'n/e', 'n/e', 'n/e', 'n/e', '29', '59', '0', '', 'n/e', 'n/e', 'n/e', 'n/e', '2516', '', '393', '', 'n/e', 'n/e', '0', '', '133', '', '1120', '', '884', '']\n",
      "['01:00 - 02:00', '44', '', 'n/e', 'n/e', 'n/e', 'n/e', '712', '', 'n/e', 'n/e', '0', '', 'n/e', 'n/e', 'n/e', 'n/e', 'n/e', 'n/e', '86', '3', '0', '', 'n/e', 'n/e', 'n/e', 'n/e', '2518', '', '431', '', 'n/e', 'n/e', '0', '', '135', '', '1266', '', '572', '']\n",
      "['02:00 - 03:00', '47', '', 'n/e', 'n/e', 'n/e', 'n/e', '651', '', 'n/e', 'n/e', '0', '', 'n/e', 'n/e', 'n/e', 'n/e', 'n/e', 'n/e', '42', '14', '0', '', 'n/e', 'n/e', 'n/e', 'n/e', '2521', '', '430', '', 'n/e', 'n/e', '0', '', '134', '', '1848', '', '484', '']\n",
      "['03:00 - 04:00', '42', '', 'n/e', 'n/e', 'n/e', 'n/e', '713', '', 'n/e', 'n/e', '0', '', 'n/e', 'n/e', 'n/e', 'n/e', 'n/e', 'n/e', '', '538', '0', '', 'n/e', 'n/e', 'n/e', 'n/e', '2523', '', '441', '', 'n/e', 'n/e', '0', '', '135', '', '1840', '', '694', '']\n",
      "['04:00 - 05:00', '41', '', 'n/e', 'n/e', 'n/e', 'n/e', '760', '', 'n/e', 'n/e', '0', '', 'n/e', 'n/e', 'n/e', 'n/e', 'n/e', 'n/e', '', '385', '0', '', 'n/e', 'n/e', 'n/e', 'n/e', '2525', '', '476', '', 'n/e', 'n/e', '0', '', '134', '', '1851', '', '797', '']\n",
      "['05:00 - 06:00', '39', '', 'n/e', 'n/e', 'n/e', 'n/e', '646', '', 'n/e', 'n/e', '0', '', 'n/e', 'n/e', 'n/e', 'n/e', 'n/e', 'n/e', '', '299', '0', '', 'n/e', 'n/e', 'n/e', 'n/e', '2525', '', '463', '', 'n/e', 'n/e', '0', '', '136', '', '1936', '', '1236', '']\n",
      "['06:00 - 07:00', '42', '', 'n/e', 'n/e', 'n/e', 'n/e', '632', '', 'n/e', 'n/e', '0', '', 'n/e', 'n/e', 'n/e', 'n/e', 'n/e', 'n/e', '', '169', '0', '', 'n/e', 'n/e', 'n/e', 'n/e', '2525', '', '451', '', 'n/e', 'n/e', '0', '', '135', '', '1910', '', '1719', '']\n",
      "['07:00 - 08:00', '43', '', 'n/e', 'n/e', 'n/e', 'n/e', '688', '', 'n/e', 'n/e', '0', '', 'n/e', 'n/e', 'n/e', 'n/e', 'n/e', 'n/e', '547', '', '0', '', 'n/e', 'n/e', 'n/e', 'n/e', '2525', '', '457', '', 'n/e', 'n/e', '95', '', '136', '', '1969', '', '1661', '']\n",
      "['08:00 - 09:00', '41', '', 'n/e', 'n/e', 'n/e', 'n/e', '698', '', 'n/e', 'n/e', '0', '', 'n/e', 'n/e', 'n/e', 'n/e', 'n/e', 'n/e', '233', '', '0', '', 'n/e', 'n/e', 'n/e', 'n/e', '2524', '', '454', '', 'n/e', 'n/e', '648', '', '133', '', '1987', '', '1942', '']\n",
      "['09:00 - 10:00', '45', '', 'n/e', 'n/e', 'n/e', 'n/e', '667', '', 'n/e', 'n/e', '0', '', 'n/e', 'n/e', 'n/e', 'n/e', 'n/e', 'n/e', '2', '77', '0', '', 'n/e', 'n/e', 'n/e', 'n/e', '2523', '', '438', '', 'n/e', 'n/e', '1558', '', '132', '', '1902', '', '1994', '']\n",
      "['10:00 - 11:00', '47', '', 'n/e', 'n/e', 'n/e', 'n/e', '584', '', 'n/e', 'n/e', '0', '', 'n/e', 'n/e', 'n/e', 'n/e', 'n/e', 'n/e', '', '109', '0', '', 'n/e', 'n/e', 'n/e', 'n/e', '2524', '', '442', '', 'n/e', 'n/e', '2281', '', '135', '', '1904', '', '2061', '']\n",
      "['11:00 - 12:00', '47', '', 'n/e', 'n/e', 'n/e', 'n/e', '574', '', 'n/e', 'n/e', '0', '', 'n/e', 'n/e', 'n/e', 'n/e', 'n/e', 'n/e', '', '524', '0', '', 'n/e', 'n/e', 'n/e', 'n/e', '2523', '', '420', '', 'n/e', 'n/e', '2841', '', '121', '', '1994', '', '2076', '']\n",
      "['12:00 - 13:00', '46', '', 'n/e', 'n/e', 'n/e', 'n/e', '557', '', 'n/e', 'n/e', '0', '', 'n/e', 'n/e', 'n/e', 'n/e', 'n/e', 'n/e', '', '648', '0', '', 'n/e', 'n/e', 'n/e', 'n/e', '2523', '', '429', '', 'n/e', 'n/e', '2856', '', '127', '', '2018', '', '2103', '']\n",
      "['13:00 - 14:00', '46', '', 'n/e', 'n/e', 'n/e', 'n/e', '561', '', 'n/e', 'n/e', '0', '', 'n/e', 'n/e', 'n/e', 'n/e', 'n/e', 'n/e', '', '748', '0', '', 'n/e', 'n/e', 'n/e', 'n/e', '2524', '', '465', '', 'n/e', 'n/e', '2934', '', '133', '', '1995', '', '2190', '']\n",
      "['14:00 - 15:00', '43', '', 'n/e', 'n/e', 'n/e', 'n/e', '563', '', 'n/e', 'n/e', '0', '', 'n/e', 'n/e', 'n/e', 'n/e', 'n/e', 'n/e', '', '880', '0', '', 'n/e', 'n/e', 'n/e', 'n/e', '2524', '', '434', '', 'n/e', 'n/e', '2982', '', '141', '', '1948', '', '2127', '']\n",
      "['15:00 - 16:00', '45', '', 'n/e', 'n/e', 'n/e', 'n/e', '572', '', 'n/e', 'n/e', '0', '', 'n/e', 'n/e', 'n/e', 'n/e', 'n/e', 'n/e', '', '900', '0', '', 'n/e', 'n/e', 'n/e', 'n/e', '2525', '', '454', '', 'n/e', 'n/e', '2835', '', '143', '', '1778', '', '2042', '']\n",
      "['16:00 - 17:00', '45', '', 'n/e', 'n/e', 'n/e', 'n/e', '592', '', 'n/e', 'n/e', '0', '', 'n/e', 'n/e', 'n/e', 'n/e', 'n/e', 'n/e', '', '626', '0', '', 'n/e', 'n/e', 'n/e', 'n/e', '2526', '', '473', '', 'n/e', 'n/e', '2316', '', '143', '', '1739', '', '1968', '']\n",
      "['17:00 - 18:00', '-', '-', 'n/e', 'n/e', 'n/e', 'n/e', '-', '-', 'n/e', 'n/e', '-', '-', 'n/e', 'n/e', 'n/e', 'n/e', 'n/e', 'n/e', '-', '-', '-', '-', 'n/e', 'n/e', 'n/e', 'n/e', '-', '-', '-', '-', 'n/e', 'n/e', '-', '-', '-', '-', '-', '-', '-', '-']\n",
      "['18:00 - 19:00', '-', '-', 'n/e', 'n/e', 'n/e', 'n/e', '-', '-', 'n/e', 'n/e', '-', '-', 'n/e', 'n/e', 'n/e', 'n/e', 'n/e', 'n/e', '-', '-', '-', '-', 'n/e', 'n/e', 'n/e', 'n/e', '-', '-', '-', '-', 'n/e', 'n/e', '-', '-', '-', '-', '-', '-', '-', '-']\n",
      "['19:00 - 20:00', '-', '-', 'n/e', 'n/e', 'n/e', 'n/e', '-', '-', 'n/e', 'n/e', '-', '-', 'n/e', 'n/e', 'n/e', 'n/e', 'n/e', 'n/e', '-', '-', '-', '-', 'n/e', 'n/e', 'n/e', 'n/e', '-', '-', '-', '-', 'n/e', 'n/e', '-', '-', '-', '-', '-', '-', '-', '-']\n",
      "['20:00 - 21:00', '-', '-', 'n/e', 'n/e', 'n/e', 'n/e', '-', '-', 'n/e', 'n/e', '-', '-', 'n/e', 'n/e', 'n/e', 'n/e', 'n/e', 'n/e', '-', '-', '-', '-', 'n/e', 'n/e', 'n/e', 'n/e', '-', '-', '-', '-', 'n/e', 'n/e', '-', '-', '-', '-', '-', '-', '-', '-']\n",
      "['21:00 - 22:00', '-', '-', 'n/e', 'n/e', 'n/e', 'n/e', '-', '-', 'n/e', 'n/e', '-', '-', 'n/e', 'n/e', 'n/e', 'n/e', 'n/e', 'n/e', '-', '-', '-', '-', 'n/e', 'n/e', 'n/e', 'n/e', '-', '-', '-', '-', 'n/e', 'n/e', '-', '-', '-', '-', '-', '-', '-', '-']\n",
      "['22:00 - 23:00', '-', '-', 'n/e', 'n/e', 'n/e', 'n/e', '-', '-', 'n/e', 'n/e', '-', '-', 'n/e', 'n/e', 'n/e', 'n/e', 'n/e', 'n/e', '-', '-', '-', '-', 'n/e', 'n/e', 'n/e', 'n/e', '-', '-', '-', '-', 'n/e', 'n/e', '-', '-', '-', '-', '-', '-', '-', '-']\n",
      "['23:00 - 00:00', '-', '-', 'n/e', 'n/e', 'n/e', 'n/e', '-', '-', 'n/e', 'n/e', '-', '-', 'n/e', 'n/e', 'n/e', 'n/e', 'n/e', 'n/e', '-', '-', '-', '-', 'n/e', 'n/e', 'n/e', 'n/e', '-', '-', '-', '-', 'n/e', 'n/e', '-', '-', '-', '-', '-', '-', '-', '-']\n"
     ]
    }
   ],
   "source": [
    "for row in data:\n",
    "    print(row)"
   ]
  },
  {
   "cell_type": "code",
   "execution_count": 4,
   "id": "2a47893c-15b5-461e-9fe1-6da47da014c0",
   "metadata": {},
   "outputs": [
    {
     "name": "stdout",
     "output_type": "stream",
     "text": [
      "               0   1  2    3    4    5    6     7  8    9   ...   31   32  \\\n",
      "0   00:00 - 01:00  43     n/e  n/e  n/e  n/e  1148     n/e  ...  n/e  n/e   \n",
      "1   01:00 - 02:00  44     n/e  n/e  n/e  n/e   712     n/e  ...  n/e  n/e   \n",
      "2   02:00 - 03:00  47     n/e  n/e  n/e  n/e   651     n/e  ...  n/e  n/e   \n",
      "3   03:00 - 04:00  42     n/e  n/e  n/e  n/e   713     n/e  ...  n/e  n/e   \n",
      "4   04:00 - 05:00  41     n/e  n/e  n/e  n/e   760     n/e  ...  n/e  n/e   \n",
      "5   05:00 - 06:00  39     n/e  n/e  n/e  n/e   646     n/e  ...  n/e  n/e   \n",
      "6   06:00 - 07:00  42     n/e  n/e  n/e  n/e   632     n/e  ...  n/e  n/e   \n",
      "7   07:00 - 08:00  43     n/e  n/e  n/e  n/e   688     n/e  ...  n/e  n/e   \n",
      "8   08:00 - 09:00  41     n/e  n/e  n/e  n/e   698     n/e  ...  n/e  n/e   \n",
      "9   09:00 - 10:00  45     n/e  n/e  n/e  n/e   667     n/e  ...  n/e  n/e   \n",
      "10  10:00 - 11:00  47     n/e  n/e  n/e  n/e   584     n/e  ...  n/e  n/e   \n",
      "11  11:00 - 12:00  47     n/e  n/e  n/e  n/e   574     n/e  ...  n/e  n/e   \n",
      "12  12:00 - 13:00  46     n/e  n/e  n/e  n/e   557     n/e  ...  n/e  n/e   \n",
      "13  13:00 - 14:00  46     n/e  n/e  n/e  n/e   561     n/e  ...  n/e  n/e   \n",
      "14  14:00 - 15:00  43     n/e  n/e  n/e  n/e   563     n/e  ...  n/e  n/e   \n",
      "15  15:00 - 16:00  45     n/e  n/e  n/e  n/e   572     n/e  ...  n/e  n/e   \n",
      "16  16:00 - 17:00  45     n/e  n/e  n/e  n/e   592     n/e  ...  n/e  n/e   \n",
      "17  17:00 - 18:00   -  -  n/e  n/e  n/e  n/e     -  -  n/e  ...  n/e  n/e   \n",
      "18  18:00 - 19:00   -  -  n/e  n/e  n/e  n/e     -  -  n/e  ...  n/e  n/e   \n",
      "19  19:00 - 20:00   -  -  n/e  n/e  n/e  n/e     -  -  n/e  ...  n/e  n/e   \n",
      "20  20:00 - 21:00   -  -  n/e  n/e  n/e  n/e     -  -  n/e  ...  n/e  n/e   \n",
      "21  21:00 - 22:00   -  -  n/e  n/e  n/e  n/e     -  -  n/e  ...  n/e  n/e   \n",
      "22  22:00 - 23:00   -  -  n/e  n/e  n/e  n/e     -  -  n/e  ...  n/e  n/e   \n",
      "23  23:00 - 00:00   -  -  n/e  n/e  n/e  n/e     -  -  n/e  ...  n/e  n/e   \n",
      "\n",
      "      33 34   35 36    37 38    39 40  \n",
      "0      0     133     1120      884     \n",
      "1      0     135     1266      572     \n",
      "2      0     134     1848      484     \n",
      "3      0     135     1840      694     \n",
      "4      0     134     1851      797     \n",
      "5      0     136     1936     1236     \n",
      "6      0     135     1910     1719     \n",
      "7     95     136     1969     1661     \n",
      "8    648     133     1987     1942     \n",
      "9   1558     132     1902     1994     \n",
      "10  2281     135     1904     2061     \n",
      "11  2841     121     1994     2076     \n",
      "12  2856     127     2018     2103     \n",
      "13  2934     133     1995     2190     \n",
      "14  2982     141     1948     2127     \n",
      "15  2835     143     1778     2042     \n",
      "16  2316     143     1739     1968     \n",
      "17     -  -    -  -     -  -     -  -  \n",
      "18     -  -    -  -     -  -     -  -  \n",
      "19     -  -    -  -     -  -     -  -  \n",
      "20     -  -    -  -     -  -     -  -  \n",
      "21     -  -    -  -     -  -     -  -  \n",
      "22     -  -    -  -     -  -     -  -  \n",
      "23     -  -    -  -     -  -     -  -  \n",
      "\n",
      "[24 rows x 41 columns]\n"
     ]
    }
   ],
   "source": [
    "import pandas as pd\n",
    "\n",
    "# Convert the data list into a pandas DataFrame\n",
    "df = pd.DataFrame(data)\n",
    "\n",
    "# Print the DataFrame\n",
    "print(df)"
   ]
  },
  {
   "cell_type": "code",
   "execution_count": null,
   "id": "a00c88a9-0981-44d5-8bf9-56cc777ff93e",
   "metadata": {},
   "outputs": [],
   "source": []
  }
 ],
 "metadata": {
  "kernelspec": {
   "display_name": "Python 3 (Spyder)",
   "language": "python3",
   "name": "python3"
  },
  "language_info": {
   "codemirror_mode": {
    "name": "ipython",
    "version": 3
   },
   "file_extension": ".py",
   "mimetype": "text/x-python",
   "name": "python",
   "nbconvert_exporter": "python",
   "pygments_lexer": "ipython3",
   "version": "3.11.7"
  }
 },
 "nbformat": 4,
 "nbformat_minor": 5
}
