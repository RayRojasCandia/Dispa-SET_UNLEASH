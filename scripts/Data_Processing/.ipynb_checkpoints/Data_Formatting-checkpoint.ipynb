{
 "cells": [
  {
   "cell_type": "code",
   "execution_count": null,
   "id": "961b6e85-e0d3-4e38-8726-dc3f66d021bb",
   "metadata": {},
   "outputs": [],
   "source": []
  },
  {
   "cell_type": "code",
   "execution_count": null,
   "id": "f424dffe-416c-4c86-921e-f22ead1065d4",
   "metadata": {},
   "outputs": [],
   "source": [
    "import csv\n",
    "\n",
    "# Define headers\n",
    "headers = [\"Unit\", \"PowerCapacity\", \"Nunits\", \"Zone\", \"Zone_th\", \"Zone_h2\", \"Technology\", \"Fuel\", \"Efficiency\", \n",
    "          \"MinUpTime\", \"MinDownTime\", \"RampUpRate\", \"RampDownRate\", \"StartUpCost\", \"NoLoadCost_pu\", \"RampingCost\", \n",
    "          \"PartLoadMin\", \"MinEfficiency\", \"StartUpTime\", \"CO2Intensity\", \"CHPType\", \"CHPPowerToHeat\", \"CHPPowerLossFactor\", \n",
    "          \"CHPMaxHeat\", \"COP\", \"Tnominal\", \"coef_COP_a\", \"coef_COP_b\", \"STOCapacity\", \"STOSelfDischarge\", \"STOMaxChargingPower\", \n",
    "          \"STOChargingEfficiency\", \"WaterWithdrawal\", \"WaterConsumption\"]\n",
    "\n",
    "# Specify the filename for the CSV\n",
    "filename = \"power_plant_data.csv\"\n",
    "\n",
    "# Open the CSV file in write mode with newline='' to avoid extra blank lines\n",
    "with open(filename, 'w', newline='') as csvfile:\n",
    "  # Create a CSV writer object\n",
    "  writer = csv.writer(csvfile)\n",
    "  \n",
    "  # Write the header row\n",
    "  writer.writerow(headers)\n",
    "\n",
    "print(f\"CSV file created with headers: {filename}\")\n"
   ]
  }
 ],
 "metadata": {
  "kernelspec": {
   "display_name": "Python 3 (Spyder)",
   "language": "python3",
   "name": "python3"
  },
  "language_info": {
   "codemirror_mode": {
    "name": "ipython",
    "version": 3
   },
   "file_extension": ".py",
   "mimetype": "text/x-python",
   "name": "python",
   "nbconvert_exporter": "python",
   "pygments_lexer": "ipython3",
   "version": "3.11.7"
  }
 },
 "nbformat": 4,
 "nbformat_minor": 5
}
