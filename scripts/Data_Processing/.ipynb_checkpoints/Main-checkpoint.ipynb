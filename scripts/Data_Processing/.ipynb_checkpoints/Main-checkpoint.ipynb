{
 "cells": [
  {
   "cell_type": "markdown",
   "id": "0678bf30-601a-458d-b728-f1157bd7f94c",
   "metadata": {},
   "source": [
    "MAIN"
   ]
  },
  {
   "cell_type": "markdown",
   "id": "8ff2b158-df1b-457a-a80a-53cab45bb6e7",
   "metadata": {},
   "source": [
    "Each part of the following script is used to proccess the Raw data stept by step. \n",
    "Read and follow the instructions carefully."
   ]
  },
  {
   "cell_type": "markdown",
   "id": "1ec99ee3-df4a-47a3-89bc-02b16d1ff5e2",
   "metadata": {},
   "source": [
    "1. Zone Creation"
   ]
  },
  {
   "cell_type": "markdown",
   "id": "0d91f051-1eda-4127-b0d4-b6807fa74c27",
   "metadata": {},
   "source": [
    "    Run this cell to introduce the name of the folder where all the data is goint to be downloaded.\n",
    "       To avvoid future errors it would rather to introduce names without spaces.\n",
    "       For European country names use the ISO 3166-1 standars i.e. AT, BE, BG, CH.... etc.\n",
    "       For the folder path is recommendable keep the Dispa-SET directory, e.g.\n",
    "           /dispa-SET/home/directory/path/RawData/PowerPlants\n",
    "           home/ray/Dispa-SET_Unleash/RawData/PowerPlants"
   ]
  },
  {
   "cell_type": "code",
   "execution_count": 14,
   "id": "1bcefc1c-346c-4940-a86d-b1a1d66e964f",
   "metadata": {},
   "outputs": [
    {
     "name": "stdin",
     "output_type": "stream",
     "text": [
      "Enter the zone folder name:  TEST\n",
      "Enter the power plants folder path:  /home/ray/Dispa-SET_Unleash/RawData/PowerPlants\n"
     ]
    },
    {
     "name": "stdout",
     "output_type": "stream",
     "text": [
      "Folder 'TEST' created at: /home/ray/Dispa-SET_Unleash/RawData/PowerPlants/TEST\n",
      "Zone folder path: /home/ray/Dispa-SET_Unleash/RawData/PowerPlants/TEST\n"
     ]
    }
   ],
   "source": [
    "# Input variables from user\n",
    "zone_folder_name = input(\"Enter the zone folder name: \")\n",
    "power_plants_folder_path = input(\"Enter the power plants folder path: \")\n",
    "\n",
    "# Call the create_folder.py script using %run\n",
    "%run Zone_Folder_Creation.py {zone_folder_name} {power_plants_folder_path}"
   ]
  },
  {
   "cell_type": "markdown",
   "id": "f175816b-5e00-43e1-bd5f-45a895cdcb3f",
   "metadata": {},
   "source": [
    "2. Power Plants Data download"
   ]
  },
  {
   "cell_type": "markdown",
   "id": "f269d0b0-be22-48db-9aa2-a9e1fa2c3181",
   "metadata": {},
   "source": [
    "    Run this cell to download files containers of raw data related power plants units of the zone previously created.\n",
    "    To keep the Dispa-SET directories structure and name of files, is recommended to give the year of the data collected as the downloaded file name. Additionally there may be different power plant data sources for an only country, zone, region, etc, is also recommended to add a numeric suffix to the file name to difference between files e.g.\n",
    "        user_filename = \"20##-##\"\n",
    "        user_filename = \"2020-01\""
   ]
  },
  {
   "cell_type": "code",
   "execution_count": 15,
   "id": "58ce6466-6883-4abe-882b-82cb92f443df",
   "metadata": {},
   "outputs": [
    {
     "name": "stdout",
     "output_type": "stream",
     "text": [
      "Zone folder path: /home/ray/Dispa-SET_Unleash/RawData/PowerPlants/TEST\n"
     ]
    },
    {
     "name": "stdin",
     "output_type": "stream",
     "text": [
      "Enter the file name:  2020-01\n",
      "Enter the download link:  https://opendata.elia.be/api/explore/v2.1/catalog/datasets/ods036/exports/csv?lang=en&timezone=Europe%2FBrussels&use_labels=true&delimiter=%3B\n"
     ]
    },
    {
     "name": "stdout",
     "output_type": "stream",
     "text": [
      "CSV file '/home/ray/Dispa-SET_Unleash/RawData/PowerPlants/TEST/TEST_sources.csv' created with the download link\n",
      "File '2020-01' downloaded and saved at: /home/ray/Dispa-SET_Unleash/RawData/PowerPlants/TEST/2020-01\n"
     ]
    }
   ],
   "source": [
    "# Retrieve zone_folder_path from the output of the first cell (assuming it's stored in a variable named 'zone_folder_path')\n",
    "# If zone_folder_path is stored in a file, you would read it from the file here instead\n",
    "# For example:\n",
    "# with open(\"zone_folder_path.txt\", \"r\") as file:\n",
    "#     zone_folder_path = file.read()\n",
    "\n",
    "# Now you can use zone_folder_path as needed in this cell and subsequent cells\n",
    "print(\"Zone folder path:\", zone_folder_path)\n",
    "\n",
    "# Input file name and download link from user\n",
    "power_plants_file_name = input(\"Enter the file name: \")\n",
    "download_link = input(\"Enter the download link: \")\n",
    "\n",
    "# Call the download_script.py script using %run\n",
    "%run Power_Plants_Data_download.py {power_plants_file_name} {download_link} {zone_folder_name} {zone_folder_path}"
   ]
  }
 ],
 "metadata": {
  "kernelspec": {
   "display_name": "Python 3 (Spyder)",
   "language": "python3",
   "name": "python3"
  },
  "language_info": {
   "codemirror_mode": {
    "name": "ipython",
    "version": 3
   },
   "file_extension": ".py",
   "mimetype": "text/x-python",
   "name": "python",
   "nbconvert_exporter": "python",
   "pygments_lexer": "ipython3",
   "version": "3.11.7"
  }
 },
 "nbformat": 4,
 "nbformat_minor": 5
}
