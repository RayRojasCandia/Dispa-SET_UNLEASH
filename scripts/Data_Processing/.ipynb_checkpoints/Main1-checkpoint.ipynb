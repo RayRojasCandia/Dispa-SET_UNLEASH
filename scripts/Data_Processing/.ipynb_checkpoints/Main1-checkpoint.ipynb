{
 "cells": [
  {
   "cell_type": "code",
   "execution_count": 10,
   "id": "cbdd682e-3cea-437e-93a3-ddfa1da5e705",
   "metadata": {},
   "outputs": [
    {
     "name": "stdin",
     "output_type": "stream",
     "text": [
      "Enter the zone folder name:  1\n",
      "Enter the power plants folder path:  /home/ray/Dispa-SET_Unleash/RawData/PowerPlants\n"
     ]
    },
    {
     "name": "stdout",
     "output_type": "stream",
     "text": [
      "Folder '1' created at: /home/ray/Dispa-SET_Unleash/RawData/PowerPlants\n",
      "Zone folder name: 1\n",
      "Zone folder path: /home/ray/Dispa-SET_Unleash/RawData/PowerPlants/1\n"
     ]
    }
   ],
   "source": [
    "## Input variables from user\n",
    "zone_folder_name = input(\"Enter the zone folder name: \")\n",
    "power_plants_folder_path = input(\"Enter the power plants folder path: \")\n",
    "\n",
    "# Call the create_folder.py script using %run\n",
    "%run Zone_Folder_Creation.py {zone_folder_name} {power_plants_folder_path}"
   ]
  },
  {
   "cell_type": "code",
   "execution_count": 8,
   "id": "d5890446-c2c1-4ff9-925c-05ab54092b60",
   "metadata": {},
   "outputs": [],
   "source": [
    "%run prueba.py {zone_folder_name} {zone_folder_path}"
   ]
  },
  {
   "cell_type": "code",
   "execution_count": 12,
   "id": "f19a212a-e0fb-405a-ac6d-7c1ab333f942",
   "metadata": {},
   "outputs": [
    {
     "name": "stdout",
     "output_type": "stream",
     "text": [
      "Zone folder path: /home/ray/Dispa-SET_Unleash/RawData/PowerPlants/1\n"
     ]
    },
    {
     "name": "stdin",
     "output_type": "stream",
     "text": [
      "Enter the file name:  2\n",
      "Enter the download link:  https://opendata.elia.be/api/explore/v2.1/catalog/datasets/ods036/exports/csv?lang=en&timezone=Europe%2FBrussels&use_labels=true&delimiter=%3B\n"
     ]
    },
    {
     "name": "stdout",
     "output_type": "stream",
     "text": [
      "CSV file '/home/ray/Dispa-SET_Unleash/RawData/PowerPlants/1/1_sources.csv' created with the download link\n",
      "File '2' downloaded and saved at: /home/ray/Dispa-SET_Unleash/RawData/PowerPlants/1/2\n"
     ]
    }
   ],
   "source": [
    "## Retrieve zone_folder_path from the output of the first cell (assuming it's stored in a variable named 'zone_folder_path')\n",
    "# If zone_folder_path is stored in a file, you would read it from the file here instead\n",
    "# For example:\n",
    "# with open(\"zone_folder_path.txt\", \"r\") as file:\n",
    "#     zone_folder_path = file.read()\n",
    "\n",
    "# Now you can use zone_folder_path as needed in this cell and subsequent cells\n",
    "print(\"Zone folder path:\", zone_folder_path)\n",
    "\n",
    "# Input file name and download link from user\n",
    "power_plants_file_name = input(\"Enter the file name: \")\n",
    "download_link = input(\"Enter the download link: \")\n",
    "\n",
    "# Call the download_script.py script using %run\n",
    "%run Power_Plants_Data_Download.py {power_plants_file_name} {download_link} {zone_folder_name} {zone_folder_path}"
   ]
  },
  {
   "cell_type": "code",
   "execution_count": 24,
   "id": "de37e71b-72c5-4772-a34e-326b9cf968d3",
   "metadata": {},
   "outputs": [
    {
     "name": "stdout",
     "output_type": "stream",
     "text": [
      "Zone folder path: /home/ray/Dispa-SET_Unleash/RawData/PowerPlants/TEST2\n"
     ]
    },
    {
     "name": "stdin",
     "output_type": "stream",
     "text": [
      "Enter the file name:  2020\n"
     ]
    },
    {
     "ename": "IsADirectoryError",
     "evalue": "[Errno 21] Is a directory: '/home/ray/Dispa-SET_Unleash/RawData/PowerPlants/TEST2'",
     "output_type": "error",
     "traceback": [
      "Traceback \u001b[0;36m(most recent call last)\u001b[0m:\n",
      "\u001b[0m  File \u001b[1;32m~/Dispa-SET_Unleash/scripts/Data_Processing/Power_Plants_Data_Formating.py:33\u001b[0m\n    create_csv(filename)\u001b[0m\n",
      "\u001b[0;36m  File \u001b[0;32m~/Dispa-SET_Unleash/scripts/Data_Processing/Power_Plants_Data_Formating.py:24\u001b[0;36m in \u001b[0;35mcreate_csv\u001b[0;36m\n\u001b[0;31m    with open(filename, 'w', newline='') as csvfile:\u001b[0;36m\n",
      "\u001b[0;31mIsADirectoryError\u001b[0m\u001b[0;31m:\u001b[0m [Errno 21] Is a directory: '/home/ray/Dispa-SET_Unleash/RawData/PowerPlants/TEST2'\n"
     ]
    }
   ],
   "source": [
    "print(\"Zone folder path:\", zone_folder_path)\n",
    "\n",
    "# Input file name and download link from user\n",
    "power_plants_processed_file_name = input(\"Enter the file name: \")\n",
    "\n",
    "%run Power_Plants_Data_Formating.py {zone_folder_path} {power_plants_processed_file_name}"
   ]
  }
 ],
 "metadata": {
  "kernelspec": {
   "display_name": "Python 3 (Spyder)",
   "language": "python3",
   "name": "python3"
  },
  "language_info": {
   "codemirror_mode": {
    "name": "ipython",
    "version": 3
   },
   "file_extension": ".py",
   "mimetype": "text/x-python",
   "name": "python",
   "nbconvert_exporter": "python",
   "pygments_lexer": "ipython3",
   "version": "3.11.7"
  }
 },
 "nbformat": 4,
 "nbformat_minor": 5
}
