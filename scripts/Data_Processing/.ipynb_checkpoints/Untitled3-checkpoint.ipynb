{
 "cells": [
  {
   "cell_type": "markdown",
   "id": "a8061555-648c-442d-b22a-7eb6fe82cdf1",
   "metadata": {},
   "source": [
    "<div style=\"text-align: center; margin-left: 0em; font-weight: bold; font-size: 20px; font-family: TimesNewRoman;\">\n",
    "    POWER PLANTS DATA PROCESSING - Downloading Notebook\n",
    "</div>"
   ]
  },
  {
   "cell_type": "markdown",
   "id": "beba57f3-6dd9-4cdb-9f84-bcb1fae1f80d",
   "metadata": {},
   "source": [
    "<div style=\"text-align: left; margin-left: 0em; font-weight: unbold; font-size: 16px; font-family: TimesNewRoman;\">\n",
    "- Each part of the following script was used to download and gatter the raw data for the Power Plants Generation Units for all the european countries modelled in the Dispa-SET.\n",
    "<br>\n",
    "- This notebook has been separated of the main data processing notebook ( as a secondary script since the download process, in some cases, may take to much time, so in order to not interrupt the flow of the formatting notebook, this code storages all the needed data to be used by the formatting script in a separated folder and give the corresponding names to the downloaded files, in a way that the main formatting notebook can read and format them.\n",
    "</div>"
   ]
  },
  {
   "cell_type": "code",
   "execution_count": null,
   "id": "a5a87118-0ff5-4c57-9a98-8372b41c85b2",
   "metadata": {},
   "outputs": [],
   "source": []
  },
  {
   "cell_type": "code",
   "execution_count": null,
   "id": "154b9aee-b28e-401a-b418-29686d42e01d",
   "metadata": {},
   "outputs": [],
   "source": []
  },
  {
   "cell_type": "code",
   "execution_count": null,
   "id": "b72237a1-e8cc-4206-b964-2d7bd86e1d96",
   "metadata": {},
   "outputs": [],
   "source": []
  }
 ],
 "metadata": {
  "kernelspec": {
   "display_name": "Python 3 (ipykernel)",
   "language": "python",
   "name": "python3"
  },
  "language_info": {
   "codemirror_mode": {
    "name": "ipython",
    "version": 3
   },
   "file_extension": ".py",
   "mimetype": "text/x-python",
   "name": "python",
   "nbconvert_exporter": "python",
   "pygments_lexer": "ipython3",
   "version": "3.11.7"
  }
 },
 "nbformat": 4,
 "nbformat_minor": 5
}
