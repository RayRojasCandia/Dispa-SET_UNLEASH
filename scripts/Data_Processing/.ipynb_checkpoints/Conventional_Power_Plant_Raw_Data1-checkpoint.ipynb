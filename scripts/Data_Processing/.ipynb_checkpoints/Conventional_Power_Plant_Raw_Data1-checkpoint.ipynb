{
 "cells": [
  {
   "cell_type": "code",
   "execution_count": 1,
   "id": "fca79700-c445-4140-baea-402ea73e8de2",
   "metadata": {},
   "outputs": [
    {
     "name": "stdout",
     "output_type": "stream",
     "text": [
      "File downloaded successfully: /home/ray/Dispa-SET_Unleash/RawData/PowerPlants/ConventionalPowerPlants//downloaded_file.txt\n"
     ]
    }
   ],
   "source": [
    "# Import libraries\n",
    "import requests\n",
    "\n",
    "# Define download directory (modify this path)\n",
    "download_dir = \"/home/ray/Dispa-SET_Unleash/RawData/PowerPlants/ConventionalPowerPlants/\" # Replace with your desired directory\n",
    "\n",
    "# Define the URL of the file you want to download\n",
    "url = \"https://data.open-power-system-data.org/conventional_power_plants/2020-10-01/conventional_power_plants_EU.csv\" # Replace with the actual URL\n",
    "\n",
    "# Send a GET request to the URL\n",
    "response = requests.get(url)\n",
    "\n",
    "# Check if the request was successful\n",
    "if response.status_code == 200:\n",
    "  # Get the filename from the response headers (optional)\n",
    "  filename = response.headers.get('Content-Disposition')\n",
    "  if filename:\n",
    "    filename = filename.split(\"filename=\")[1].strip('\"')\n",
    "  else:\n",
    "    # Use a default filename if not provided\n",
    "    filename = \"downloaded_file.txt\"\n",
    "\n",
    "  # Construct the full path to the downloaded file\n",
    "  full_filepath = f\"{download_dir}/{filename}\"\n",
    "\n",
    "  # Write the downloaded content to a file\n",
    "  with open(full_filepath, 'wb') as f:\n",
    "    f.write(response.content)\n",
    "  \n",
    "  print(f\"File downloaded successfully: {full_filepath}\")\n",
    "else:\n",
    "  print(f\"Error downloading file: {response.status_code}\")\n"
   ]
  }
 ],
 "metadata": {
  "kernelspec": {
   "display_name": "Python 3 (Spyder)",
   "language": "python3",
   "name": "python3"
  },
  "language_info": {
   "codemirror_mode": {
    "name": "ipython",
    "version": 3
   },
   "file_extension": ".py",
   "mimetype": "text/x-python",
   "name": "python",
   "nbconvert_exporter": "python",
   "pygments_lexer": "ipython3",
   "version": "3.10.13"
  }
 },
 "nbformat": 4,
 "nbformat_minor": 5
}
