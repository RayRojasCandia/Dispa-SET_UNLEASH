{
 "cells": [
  {
   "cell_type": "markdown",
   "id": "f4871c11-a560-49a1-a9a5-a0c30049557d",
   "metadata": {},
   "source": [
    "1. DISPA-SET DIRECTORIES STRUCTURE"
   ]
  },
  {
   "cell_type": "markdown",
   "id": "3cf1d5ac-cf36-4c0c-acf2-532e6df1c769",
   "metadata": {},
   "source": [
    "    This segment creates the folders that are going to contain the csv files of the powert plant data collected.\n",
    "    \n",
    "    Notice that in order to keep the previous Dispa-SET directories sctructure is recomended to create a separated folder for each country; state; region; etc wanted to be simulated. e.g. In Next lines it is going to create a unique folder for Belgium country under the name \"BE\" according to the ISO 3166-1 standard. e.g.\n",
    "        \n",
    "            names_line = \"Name1, Name2, Name3,... NameN\"\n",
    "            names_line = \"BE\"\n",
    "            \n",
    "    However for more folders/countries just separe the names by comas:\n",
    "        \n",
    "            names_line = \"Name1, Name2, Name3,... NameN\"\n",
    "            names_line = \"BE, FR, DE, UK.....\"\n",
    "            \n",
    "    Additionally indicate the path where folders are going to be storages. In order to keep the Dispa-SET directories structure, the defaoult path is allready set, just being needed to add the current path to the local dispa-SET repository e.g.\n",
    "    \n",
    "            base_path = \"/Path/to/the/Local/Dispa-SET/Repository/RawData/PowerPlants/\n",
    "            base_path = \"/home/ray/Dispa-SET_Unleash/RawData/PowerPlants\"\n",
    "            "
   ]
  },
  {
   "cell_type": "code",
   "execution_count": 1,
   "id": "4521e66a-400d-4fc8-9e56-98a3c3fc6ecf",
   "metadata": {},
   "outputs": [
    {
     "name": "stdout",
     "output_type": "stream",
     "text": [
      "Folders created for names at: /home/ray/Dispa-SET_Unleash/RawData/PowerPlants/\n"
     ]
    }
   ],
   "source": [
    "# Get the line of names (replace \"Name1, Name2,... NameN with the actual input)\n",
    "names_line = \"BE\"\n",
    "\n",
    "# Specify the base path for folders\n",
    "base_path = \"/home/ray/Dispa-SET_Unleash/RawData/PowerPlants/\"\n",
    "\n",
    "# Split the line into a list of names\n",
    "names = names_line.split(\", \")\n",
    "\n",
    "# Loop through each name and create a folder\n",
    "import os\n",
    "for name in names:\n",
    "  folder_name = name.strip()\n",
    "  # Combine base path and folder name\n",
    "  full_path = os.path.join(base_path, folder_name)\n",
    "  os.makedirs(full_path, exist_ok=True)\n",
    "\n",
    "print(f\"Folders created for names at: {base_path}\")"
   ]
  }
 ],
 "metadata": {
  "kernelspec": {
   "display_name": "Python 3 (Spyder)",
   "language": "python3",
   "name": "python3"
  },
  "language_info": {
   "codemirror_mode": {
    "name": "ipython",
    "version": 3
   },
   "file_extension": ".py",
   "mimetype": "text/x-python",
   "name": "python",
   "nbconvert_exporter": "python",
   "pygments_lexer": "ipython3",
   "version": "3.11.7"
  }
 },
 "nbformat": 4,
 "nbformat_minor": 5
}
