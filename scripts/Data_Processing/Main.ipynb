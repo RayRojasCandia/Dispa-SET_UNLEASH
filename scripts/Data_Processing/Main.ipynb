{
 "cells": [
  {
   "cell_type": "markdown",
   "id": "b8239950-9972-47ba-be2e-d97838368508",
   "metadata": {},
   "source": [
    "                                    POWER PLANTS DATA PROCESSING"
   ]
  },
  {
   "cell_type": "markdown",
   "id": "965cfbd4-2a50-4340-9c88-49a571282023",
   "metadata": {},
   "source": [
    "Each part of the following script was used to proccess the raw data for power plants units of the Dispa-SET_Unleash project. Read instructions carefully to follow all the process until final results stept by step."
   ]
  },
  {
   "cell_type": "markdown",
   "id": "808d1f74-131c-4768-8323-c50bd288a0a0",
   "metadata": {},
   "source": [
    "            1. ZONE AND FOLDER CREATION"
   ]
  },
  {
   "cell_type": "markdown",
   "id": "6bc26dd6-ac20-411d-8df0-38a90e935f15",
   "metadata": {},
   "source": [
    "1.1. Run the following two cell to introduce the name of the folder where all the data is goint to be downloaded.\n",
    "\n",
    "    For European country names use the ISO 3166-1 standars i.e. AT, BE, BG, CH.... etc. to give the zone folder name\n",
    "    For non European countries it would rather to call the zone folder name with the same word of how it is defined in the data to be downloaded and processed. e.g. If it is downloading a csv file with all power plants of Spain but just the units fo Pamplona city are wanted, and in the donwloaded file, Pamplona is refering with the acronim PMPLN; set the zone_file_name variable with the word PMPLN.\n",
    "\n",
    "1.2. For the folder path is recommended keep the Dispa-SET directory structure:\n",
    "\n",
    "    /dispa-SET/home/directory/path/RawData/PowerPlants\n",
    "    e.g.\n",
    "    /home/ray/Dispa-SET_Unleash/RawData/PowerPlants"
   ]
  },
  {
   "cell_type": "code",
   "execution_count": 1,
   "id": "870f02d7-064d-4097-8bb5-0482bca3463a",
   "metadata": {},
   "outputs": [],
   "source": [
    "# Define variables\n",
    "zone_folder_name = \"DE\"  # Replace with the desired folder name\n",
    "zone_folder_path = \"/home/ray/Dispa-SET_Unleash/RawData/PowerPlants\"  # Replace with the desired parent folder path\n",
    "\n",
    "# Call the external Python script with defined variables\n",
    "#%run -i Zone_Folder_Creation_1.py {zone_folder_name} {zone_folder_path}"
   ]
  },
  {
   "cell_type": "code",
   "execution_count": 2,
   "id": "e6a3a60e-92d1-45cd-b2c4-063d6b524e95",
   "metadata": {},
   "outputs": [
    {
     "name": "stdout",
     "output_type": "stream",
     "text": [
      "Folder DE created at: /home/ray/Dispa-SET_Unleash/RawData/PowerPlants\n",
      "zone_folder_name: DE\n",
      "zone_folder_path: /home/ray/Dispa-SET_Unleash/RawData/PowerPlants\n",
      "power_plants_raw_data_folder_path: /home/ray/Dispa-SET_Unleash/RawData/PowerPlants/DE\n"
     ]
    }
   ],
   "source": [
    "import os\n",
    "#import sys\n",
    "\n",
    "def create_folder(folder_name, parent_folder_path):\n",
    "    \"\"\"\n",
    "    Creates a folder with the specified name in the specified parent folder.\n",
    "    \n",
    "    Parameters:\n",
    "    - folder_name: The name of the folder to be created (string)\n",
    "    - parent_folder_path: The path of the parent folder (string)\n",
    "    \n",
    "    Returns:\n",
    "    - folder_path: The path of the folder created (string)\n",
    "    \"\"\"\n",
    "    folder_path = os.path.join(parent_folder_path, folder_name)\n",
    "    os.makedirs(folder_path, exist_ok=True)  # Create folder if it doesn't exist\n",
    "    return folder_path\n",
    "\n",
    "# Input variables from command line arguments\n",
    "#zone_folder_name = sys.argv[1]\n",
    "#zone_folder_path = sys.argv[2]\n",
    "\n",
    "# Call create_folder function with provided arguments\n",
    "power_plants_raw_data_folder_path = create_folder(zone_folder_name, zone_folder_path)\n",
    "\n",
    "# Print the path of the folder created\n",
    "print(f\"Folder {zone_folder_name} created at: {zone_folder_path}\")\n",
    "\n",
    "\n",
    "# Print the values of the input variables\n",
    "print(\"zone_folder_name:\", zone_folder_name)\n",
    "print(\"zone_folder_path:\", zone_folder_path)   \n",
    "print(\"power_plants_raw_data_folder_path:\", power_plants_raw_data_folder_path) "
   ]
  },
  {
   "cell_type": "markdown",
   "id": "a85b23a2-bf25-4ade-9282-ae2b812190a3",
   "metadata": {},
   "source": [
    "- verifiyng variables\n",
    "\n",
    "  This cells are just to confirm all the file names, file paths and other information related to the data being processed.\n",
    "  Also are used to ensure the inputs for next cells in order to avoid to re-enter the same information each time."
   ]
  },
  {
   "cell_type": "code",
   "execution_count": 3,
   "id": "0de74daf-80ce-4414-afcc-8c5ce40af7f6",
   "metadata": {},
   "outputs": [
    {
     "name": "stdout",
     "output_type": "stream",
     "text": [
      "zone_folder_name: DE\n",
      "power_plants_raw_data_folder_path: /home/ray/Dispa-SET_Unleash/RawData/PowerPlants/DE\n",
      "zone_folder_path: /home/ray/Dispa-SET_Unleash/RawData/PowerPlants\n"
     ]
    }
   ],
   "source": [
    "print (f\"zone_folder_name: {zone_folder_name}\\npower_plants_raw_data_folder_path: {power_plants_raw_data_folder_path}\\nzone_folder_path: {zone_folder_path}\")"
   ]
  },
  {
   "cell_type": "markdown",
   "id": "87a9604f-a562-42be-87d4-291f6342672b",
   "metadata": {},
   "source": [
    "            2. POWER PLANTS RAW DATA DOWNLOAD"
   ]
  },
  {
   "cell_type": "markdown",
   "id": "dde6296b-f903-45b0-b26e-7ee0d33c2cb2",
   "metadata": {},
   "source": [
    "2.1. Run the following two cells to download files containers of raw data related power plants units of the zone previously created i.e. BE, UK, CH,... etc.\n",
    "\n",
    "2.2. To keep the Dispa-SET directories structure and file names, is recommended to give the year which the data is referring to as the downloaded file name. Alsom there may be different power plant data sources for an only country, zone, region, etc; so it is also recommended to add a numeric suffix to the file name to difference between files. Aditionally, take account to give the appropiate file extension to the downloaded file name, .csv in this case:\n",
    "\n",
    "    power_plants_raw_data_file_name = \"20##-##.csv\"\n",
    "    e.g.\n",
    "    power_plants_raw_data_file_name = \"2020-01.csv\"\n",
    "\n",
    "2.3. All the scripts related to this MAIN code are desinged to proccess the original files from the following web sources at 2020:\n",
    "\n",
    "    For\n",
    "        BE (Belgium)\n",
    "            conventional and renewable power plants \n",
    "                https://opendata.elia.be/pages/home/\n",
    "    For\n",
    "        DE (Germany)\n",
    "        DK (Denmark)\n",
    "        FR (France)\n",
    "        UK (United Kingdom)\n",
    "        PL (Poland)\n",
    "        CH (Switzerland)\n",
    "        CZ (Czech Republic)\n",
    "        SE (Sweden)\n",
    "            renewable power plants only\n",
    "                https://data.open-power-system-data.org/renewable_power_plants/2020-08-25\n",
    "    For\n",
    "        DE (Germany)\n",
    "        AT (Austria)\n",
    "        CH (Switzerland)\n",
    "        CZ (Czech Republic)\n",
    "        DK (Denmark)\n",
    "        ES (Spain)\n",
    "        FI (Finland)\n",
    "        FR (France)\n",
    "        IT (Italy)\n",
    "        NL (the Netherlands)\n",
    "        NO (Norway)\n",
    "        PL (Poland)\n",
    "        SE (Sweden)\n",
    "        SK (Slovakia)\n",
    "        SI (Slovenia)\n",
    "        UK (United Kingdom)\n",
    "            conventional power plants only\n",
    "                https://data.open-power-system-data.org/conventional_power_plants/2020-10-01"
   ]
  },
  {
   "cell_type": "code",
   "execution_count": 4,
   "id": "ecb954f6-3120-41cd-a2ad-2a1b27a3491c",
   "metadata": {},
   "outputs": [],
   "source": [
    "# Input file name and download link from user\n",
    "power_plants_raw_data_file_name = \"2020-01.csv\"\n",
    "power_plants_raw_data_download_link = \"https://data.open-power-system-data.org/conventional_power_plants/2020-10-01/conventional_power_plants_EU.csv\"\n",
    "\n",
    "# Call the download_script.py script using %run\n",
    "#%run -i Power_Plants_Data_Download_1.py {power_plants_raw_data_download_link} {power_plants_raw_data_folder_path} {power_plants_raw_data_file_name}"
   ]
  },
  {
   "cell_type": "code",
   "execution_count": 5,
   "id": "963cb5b2-9982-4086-8c2e-38dcdf44df03",
   "metadata": {},
   "outputs": [
    {
     "name": "stdout",
     "output_type": "stream",
     "text": [
      "File '2020-01.csv' downloaded and saved at: /home/ray/Dispa-SET_Unleash/RawData/PowerPlants/DE/2020-01.csv\n",
      "power_plants_raw_data_file_path: /home/ray/Dispa-SET_Unleash/RawData/PowerPlants/DE/2020-01.csv\n"
     ]
    }
   ],
   "source": [
    "import os\n",
    "import csv\n",
    "import requests\n",
    "\n",
    "def download_file(url, folder_path, file_name):\n",
    "    \"\"\"\n",
    "    Downloads a file from the given URL and saves it to the specified folder path with the given filename and extension.\n",
    "    \n",
    "    Parameters:\n",
    "    - url: The URL to download the file from (string)\n",
    "    - folder_path: The path of the folder where the file will be saved (string)\n",
    "    - file_name: The name of the file (string)\n",
    "    \n",
    "    Returns:\n",
    "    - downloaded_file_path: The full path of the downloaded file (string)\n",
    "    \"\"\"\n",
    "    downloaded_file_path = os.path.join(folder_path, file_name)\n",
    "    response = requests.get(url)\n",
    "    if response.status_code == 200:\n",
    "        with open(downloaded_file_path, 'wb') as f:\n",
    "            f.write(response.content)\n",
    "        return downloaded_file_path\n",
    "    else:\n",
    "        print(f\"Error downloading file: {response.status_code}\")\n",
    "        return None\n",
    "\n",
    "# Input variables from command line arguments\n",
    "#power_plants_file_name = sys.argv[1]\n",
    "#download_link = sys.argv[2]\n",
    "#zone_folder_name = sys.argv[3]\n",
    "#zone_folder_path = sys.argv[4]\n",
    "\n",
    "# Create folder if it doesn't exist\n",
    "if not os.path.exists(zone_folder_path):\n",
    "    os.makedirs(zone_folder_path)\n",
    "\n",
    "# Download the file\n",
    "downloaded_file_path = download_file(power_plants_raw_data_download_link, power_plants_raw_data_folder_path, power_plants_raw_data_file_name)\n",
    "\n",
    "print(f\"File '{power_plants_raw_data_file_name}' downloaded and saved at: {downloaded_file_path}\")\n",
    "power_plants_raw_data_file_path = downloaded_file_path\n",
    "print(f'power_plants_raw_data_file_path: {power_plants_raw_data_file_path}')"
   ]
  },
  {
   "cell_type": "markdown",
   "id": "6bbc678b-7ffd-4a4c-9cfc-f49de3fa3acb",
   "metadata": {},
   "source": [
    "- verifiyng variables\n",
    "\n",
    "  This cells are just to confirm all the file names, file paths and other information related to the data being processed.\n",
    "  Also are used to ensure the inputs for next cells in order to avoid to re-enter the same information each time."
   ]
  },
  {
   "cell_type": "code",
   "execution_count": 6,
   "id": "6cc3b0bd-0316-422a-9dba-b3c243b07be7",
   "metadata": {},
   "outputs": [
    {
     "name": "stdout",
     "output_type": "stream",
     "text": [
      "zone_folder_name: DE\n",
      "zone_folder_path: /home/ray/Dispa-SET_Unleash/RawData/PowerPlants\n",
      "power_plants_raw_data_folder_path: /home/ray/Dispa-SET_Unleash/RawData/PowerPlants/DE\n",
      "power_plants_raw_data_file_name: 2020-01.csv\n",
      "power_plants_raw_data_download_link: https://data.open-power-system-data.org/conventional_power_plants/2020-10-01/conventional_power_plants_EU.csv\n",
      "power_plants_raw_data_file_path: /home/ray/Dispa-SET_Unleash/RawData/PowerPlants/DE/2020-01.csv\n"
     ]
    }
   ],
   "source": [
    "print (f\"zone_folder_name: {zone_folder_name}\\nzone_folder_path: {zone_folder_path}\\npower_plants_raw_data_folder_path: {power_plants_raw_data_folder_path}\\npower_plants_raw_data_file_name: {power_plants_raw_data_file_name}\\npower_plants_raw_data_download_link: {power_plants_raw_data_download_link}\\npower_plants_raw_data_file_path: {power_plants_raw_data_file_path}\")"
   ]
  },
  {
   "cell_type": "markdown",
   "id": "fda4ecdf-6815-453c-92b9-79c01c2fdb20",
   "metadata": {},
   "source": [
    "- Saving power plants raw data link sources\n",
    "\n",
    "  The next two cells create a .csv file where all the download links used in each download action are written and so to provide a only file where all online sources can be found"
   ]
  },
  {
   "cell_type": "code",
   "execution_count": 7,
   "id": "975464a0-00f2-46bd-925e-61822d1ec58d",
   "metadata": {},
   "outputs": [],
   "source": [
    "power_plants_raw_data_download_link_sources_folder_path = zone_folder_path"
   ]
  },
  {
   "cell_type": "code",
   "execution_count": 8,
   "id": "3f3edea2-eae0-4fdd-accc-b55c5d01a53a",
   "metadata": {},
   "outputs": [
    {
     "name": "stdout",
     "output_type": "stream",
     "text": [
      "A file with the name 'power_plants_raw_data_download_link_sources.csv' already exists in the specified directory. CSV file not created.\n",
      "power_plants_raw_data_download_link_sources_file_name: power_plants_raw_data_download_link_sources.csv\n",
      "power_plants_raw_data_download_link_sources_folder_path: /home/ray/Dispa-SET_Unleash/RawData/PowerPlants\n"
     ]
    }
   ],
   "source": [
    "import pandas as pd\n",
    "import os\n",
    "\n",
    "def create_csv(power_plants_raw_data_download_link_sources_file_name, power_plants_raw_data_download_link_sources_folder_path, sources_file_headers):\n",
    "    # Define file path\n",
    "    file_path = f\"{power_plants_raw_data_download_link_sources_folder_path}/{power_plants_raw_data_download_link_sources_file_name}\"\n",
    "    \n",
    "    # Check if the file already exists\n",
    "    if os.path.exists(file_path):\n",
    "        print(f\"A file with the name '{power_plants_raw_data_download_link_sources_file_name}' already exists in the specified directory. CSV file not created.\")\n",
    "        return\n",
    "    \n",
    "    # Create DataFrame with empty values based on headers\n",
    "    df = pd.DataFrame(columns=sources_file_headers)\n",
    "    \n",
    "    # Write DataFrame to CSV\n",
    "    df.to_csv(file_path, index=False)\n",
    "    print(f\"CSV file '{power_plants_raw_data_download_link_sources_file_name}' created successfully at '{power_plants_raw_data_download_link_sources_folder_path}'.\")\n",
    "\n",
    "# Example usage\n",
    "power_plants_raw_data_download_link_sources_file_name = \"power_plants_raw_data_download_link_sources.csv\"  # Fixed file name\n",
    "#folder_path = input(\"Enter the folder path: \")\n",
    "sources_file_headers = [\"zone_folder_name\", \"zone_folder_path\", \"file_name\", \"download_link\"]\n",
    "\n",
    "create_csv(power_plants_raw_data_download_link_sources_file_name, power_plants_raw_data_download_link_sources_folder_path, sources_file_headers)\n",
    "\n",
    "print(f'power_plants_raw_data_download_link_sources_file_name: {power_plants_raw_data_download_link_sources_file_name}')\n",
    "print(f'power_plants_raw_data_download_link_sources_folder_path: {power_plants_raw_data_download_link_sources_folder_path}')"
   ]
  },
  {
   "cell_type": "markdown",
   "id": "b88cf19c-0c0e-4625-8be3-55870cb9cbfb",
   "metadata": {},
   "source": [
    "- verifiyng variables\n",
    "\n",
    "  This cells are just to confirm all the file names, file paths and other information related to the data being processed.\n",
    "  Also are used to ensure the inputs for next cells in order to avoid to re-enter the same information each time."
   ]
  },
  {
   "cell_type": "code",
   "execution_count": 9,
   "id": "52b1da06-1eea-4d72-8c82-607bbbc38193",
   "metadata": {},
   "outputs": [
    {
     "name": "stdout",
     "output_type": "stream",
     "text": [
      "zone_folder_name: DE\n",
      "zone_folder_path: /home/ray/Dispa-SET_Unleash/RawData/PowerPlants\n",
      "power_plants_raw_data_folder_path: /home/ray/Dispa-SET_Unleash/RawData/PowerPlants/DE\n",
      "power_plants_raw_data_file_name: 2020-01.csv\n",
      "power_plants_raw_data_download_link: https://data.open-power-system-data.org/conventional_power_plants/2020-10-01/conventional_power_plants_EU.csv\n",
      "power_plants_raw_data_file_path: /home/ray/Dispa-SET_Unleash/RawData/PowerPlants/DE/2020-01.csv\n",
      "power_plants_raw_data_download_link_sources_file_name: power_plants_raw_data_download_link_sources.csv\n",
      "power_plants_raw_data_download_link_sources_folder_path: /home/ray/Dispa-SET_Unleash/RawData/PowerPlants\n"
     ]
    }
   ],
   "source": [
    "print (f\"zone_folder_name: {zone_folder_name}\\nzone_folder_path: {zone_folder_path}\\npower_plants_raw_data_folder_path: {power_plants_raw_data_folder_path}\\npower_plants_raw_data_file_name: {power_plants_raw_data_file_name}\\npower_plants_raw_data_download_link: {power_plants_raw_data_download_link}\\npower_plants_raw_data_file_path: {power_plants_raw_data_file_path}\\npower_plants_raw_data_download_link_sources_file_name: {power_plants_raw_data_download_link_sources_file_name}\\npower_plants_raw_data_download_link_sources_folder_path: {power_plants_raw_data_download_link_sources_folder_path}\")"
   ]
  },
  {
   "cell_type": "code",
   "execution_count": 10,
   "id": "a2258f27-7663-4322-800c-96f03fabfcec",
   "metadata": {},
   "outputs": [
    {
     "name": "stdout",
     "output_type": "stream",
     "text": [
      "Existing columns in the CSV file:\n",
      "['zone_folder_name', 'zone_folder_path', 'file_name', 'download_link']\n",
      "Data written to CSV successfully.\n"
     ]
    }
   ],
   "source": [
    "import pandas as pd\n",
    "import os\n",
    "\n",
    "def write_to_csv(file_path, data_dict):\n",
    "    # Read existing CSV file\n",
    "    df = pd.read_csv(file_path)\n",
    "    \n",
    "    # Create a DataFrame for the new row with empty values\n",
    "    new_row = pd.DataFrame([data_dict])\n",
    "    \n",
    "    # Append the new row to the existing DataFrame\n",
    "    df = pd.concat([df, new_row], ignore_index=True)\n",
    "    \n",
    "    # Write the updated DataFrame back to CSV\n",
    "    df.to_csv(file_path, index=False)\n",
    "    print(\"Data written to CSV successfully.\")\n",
    "\n",
    "if __name__ == \"__main__\":\n",
    "    # Input variables\n",
    "    #power_plants_raw_data_download_link_sources_file_name = \"power_plants_raw_data_download_link_sources.csv\"\n",
    "    #power_plants_raw_data_download_link_sources_folder_path = input(\"power_plants_raw_data_download_link_sources_folder_path\")\n",
    "\n",
    "    # Construct the full file path\n",
    "    file_path = os.path.join(power_plants_raw_data_download_link_sources_folder_path, power_plants_raw_data_download_link_sources_file_name)\n",
    "    \n",
    "    # Read the existing CSV file to understand its structure\n",
    "    df = pd.read_csv(file_path)\n",
    "    print(\"Existing columns in the CSV file:\")\n",
    "    print(df.columns.tolist())\n",
    "\n",
    "    # Additional data to be written\n",
    "    data_dict = {\n",
    "        \"zone_folder_name\": zone_folder_name,\n",
    "        \"zone_folder_path\": zone_folder_path,\n",
    "        \"file_name\": power_plants_raw_data_file_name,\n",
    "        \"download_link\": power_plants_raw_data_download_link\n",
    "    }\n",
    "\n",
    "    # Write data to the next empty row in the CSV file\n",
    "    write_to_csv(file_path, data_dict)"
   ]
  },
  {
   "cell_type": "markdown",
   "id": "826d64b3-21aa-428b-8826-7e745b8d8be4",
   "metadata": {},
   "source": [
    "- verifiyng variables\n",
    "\n",
    "  This cells are just to confirm all the file names, file paths and other information related to the data being processed.\n",
    "  Also are used to ensure the inputs for next cells in order to avoid to re-enter the same information each time."
   ]
  },
  {
   "cell_type": "code",
   "execution_count": 11,
   "id": "601451d8-8fdf-4f7c-8a1d-23ffbba367f3",
   "metadata": {},
   "outputs": [
    {
     "name": "stdout",
     "output_type": "stream",
     "text": [
      "zone_folder_name: DE\n",
      "zone_folder_path: /home/ray/Dispa-SET_Unleash/RawData/PowerPlants\n",
      "power_plants_raw_data_folder_path: /home/ray/Dispa-SET_Unleash/RawData/PowerPlants/DE\n",
      "power_plants_raw_data_file_name: 2020-01.csv\n",
      "power_plants_raw_data_download_link: https://data.open-power-system-data.org/conventional_power_plants/2020-10-01/conventional_power_plants_EU.csv\n",
      "power_plants_raw_data_file_path: /home/ray/Dispa-SET_Unleash/RawData/PowerPlants/DE/2020-01.csv\n",
      "power_plants_raw_data_download_link_sources_file_name: power_plants_raw_data_download_link_sources.csv\n",
      "power_plants_raw_data_download_link_sources_folder_path: /home/ray/Dispa-SET_Unleash/RawData/PowerPlants\n"
     ]
    }
   ],
   "source": [
    "print (f\"zone_folder_name: {zone_folder_name}\\nzone_folder_path: {zone_folder_path}\\npower_plants_raw_data_folder_path: {power_plants_raw_data_folder_path}\\npower_plants_raw_data_file_name: {power_plants_raw_data_file_name}\\npower_plants_raw_data_download_link: {power_plants_raw_data_download_link}\\npower_plants_raw_data_file_path: {power_plants_raw_data_file_path}\\npower_plants_raw_data_download_link_sources_file_name: {power_plants_raw_data_download_link_sources_file_name}\\npower_plants_raw_data_download_link_sources_folder_path: {power_plants_raw_data_download_link_sources_folder_path}\")"
   ]
  },
  {
   "cell_type": "markdown",
   "id": "86029cf6-07a3-4b16-b4ed-c0899e3e7ab5",
   "metadata": {},
   "source": [
    "            3. POWER PLANTS DATA FORMATING"
   ]
  },
  {
   "cell_type": "markdown",
   "id": "ba3f8b3d-9000-46aa-8423-6b03c144f026",
   "metadata": {},
   "source": [
    "3.1. Defining variable as the file name of all clean data and the directory where it will be stored. \n",
    "    \n",
    "    It is recommended to give the year which the data is refering to as the name of the power plants clean data file. \n",
    "    Aditionally, take account to give the appropiate file extension to the downloaded file name, .csv in this case:\n",
    "\n",
    "    power_plants_clean_data_file_name = \"20##.csv\"\n",
    "        e.g.\n",
    "    power_plants_clean_data_file_name = \"2020.csv\""
   ]
  },
  {
   "cell_type": "code",
   "execution_count": 12,
   "id": "0481c62b-e1b7-45ee-9476-547c84429fcb",
   "metadata": {},
   "outputs": [],
   "source": [
    "# Define the power plants data file name\n",
    "#power_plants_raw_data_folder_path = \"/home/ray/Dispa-SET_Unleash/RawData/PowerPlants/0\"\n",
    "power_plants_clean_data_file_name = \"2020.csv\"  # Replace with the desired file name\n",
    "# Call the external Python script with defined variables\n",
    "#%run -i Power_Plants_Data_Formating.py {power_plants_raw_data_folder_path} {power_plants_data_file_name} "
   ]
  },
  {
   "cell_type": "markdown",
   "id": "9be4acc6-3c5e-4128-9344-7c8c713b6969",
   "metadata": {},
   "source": [
    "3.2. Creating .csv clean data file with its respective headers."
   ]
  },
  {
   "cell_type": "code",
   "execution_count": 13,
   "id": "9ef94f32-320b-4197-8357-38af94fdc530",
   "metadata": {},
   "outputs": [
    {
     "name": "stdout",
     "output_type": "stream",
     "text": [
      "CSV file '2020.csv' created with headers: , Unit, PowerCapacity, Nunits, Zone, Zone_th, Zone_h2, Technology, Fuel, Efficiency, MinUpTime, MinDownTime, RampUpRate, RampDownRate, StartUpCost, NoLoadCost_pu, RampingCost, PartLoadMin, MinEfficiency, StartUpTime, CO2Intensity, CHPType, CHPPowerToHeat, CHPPowerLossFactor, CHPMaxHeat, COP, Tnominal, coef_COP_a, coef_COP_b, STOCapacity, STOSelfDischarge, STOMaxChargingPower, STOChargingEfficiency, WaterWithdrawal, WaterConsumption, Status, Source\n",
      "CSV file '2020.csv' created with headers: , Unit, PowerCapacity, Nunits, Zone, Zone_th, Zone_h2, Technology, Fuel, Efficiency, MinUpTime, MinDownTime, RampUpRate, RampDownRate, StartUpCost, NoLoadCost_pu, RampingCost, PartLoadMin, MinEfficiency, StartUpTime, CO2Intensity, CHPType, CHPPowerToHeat, CHPPowerLossFactor, CHPMaxHeat, COP, Tnominal, coef_COP_a, coef_COP_b, STOCapacity, STOSelfDischarge, STOMaxChargingPower, STOChargingEfficiency, WaterWithdrawal, WaterConsumption, Status, Source\n",
      "power_plants_clean_data_folder_path: /home/ray/Dispa-SET_Unleash/RawData/PowerPlants/DE\n",
      "power_plants_clean_data_file_path: /home/ray/Dispa-SET_Unleash/RawData/PowerPlants/DE/2020.csv\n"
     ]
    }
   ],
   "source": [
    "import sys\n",
    "import pandas as pd\n",
    "import os\n",
    "\n",
    "def create_csv_file(folder_path, file_name, data=None):\n",
    "  \"\"\"\n",
    "  Creates a CSV file with predefined headers using pandas.\n",
    "\n",
    "  Args:\n",
    "      folder_path (str): The path of the folder where the CSV file will be created.\n",
    "      file_name (str): The name of the CSV file.\n",
    "      data (list of lists or pandas.DataFrame, optional): Data to write to the CSV (default: None).\n",
    "\n",
    "  Returns:\n",
    "      None\n",
    "  \"\"\"\n",
    "\n",
    "  headers = [\n",
    "      \"\", \"Unit\", \"PowerCapacity\", \"Nunits\", \"Zone\", \"Zone_th\", \"Zone_h2\", \"Technology\", \"Fuel\", \"Efficiency\",\n",
    "      \"MinUpTime\", \"MinDownTime\", \"RampUpRate\", \"RampDownRate\", \"StartUpCost\", \"NoLoadCost_pu\", \"RampingCost\",\n",
    "      \"PartLoadMin\", \"MinEfficiency\", \"StartUpTime\", \"CO2Intensity\", \"CHPType\", \"CHPPowerToHeat\",\n",
    "      \"CHPPowerLossFactor\", \"CHPMaxHeat\", \"COP\", \"Tnominal\", \"coef_COP_a\", \"coef_COP_b\", \"STOCapacity\",\n",
    "      \"STOSelfDischarge\", \"STOMaxChargingPower\", \"STOChargingEfficiency\", \"WaterWithdrawal\", \"WaterConsumption\", \"Status\", \"Source\"\n",
    "  ]\n",
    "\n",
    "  # Create empty DataFrame if no data provided\n",
    "  if data is None:\n",
    "      data = []\n",
    "  elif not isinstance(data, (list, pd.DataFrame)):\n",
    "      raise TypeError(\"Data must be a list of lists or a pandas.DataFrame\")\n",
    "\n",
    "  df = pd.DataFrame(data, columns=headers)\n",
    "\n",
    "  # Handle potential directory error and combine path with file name\n",
    "  try:\n",
    "      file_path = os.path.join(folder_path, file_name)\n",
    "  except IsADirectoryError:\n",
    "      print(f\"Error: '{folder_path}' is a directory. Please provide a file name within the directory.\")\n",
    "      return None\n",
    "\n",
    "  # Save DataFrame to CSV file\n",
    "  df.to_csv(file_path, index=False)  # Don't include row index in CSV\n",
    "\n",
    "  print(f\"CSV file '{file_name}' created with headers: {', '.join(headers)}\")\n",
    "  return file_path\n",
    "\n",
    "#power_plants_raw_data_folder_path = \"/home/ray/Dispa-SET_Unleash/RawData/PowerPlants/0\"\n",
    "#power_plants_clean_data_file_name = \"2020.csv\"\n",
    "\n",
    "# Input variables from command line arguments\n",
    "#power_plants_raw_data_folder_path = sys.argv[1]\n",
    "#power_plants_data_file_name = sys.argv[2]\n",
    "\n",
    "\n",
    "create_csv_file(power_plants_raw_data_folder_path, power_plants_clean_data_file_name, data=None)\n",
    "file_path = create_csv_file(power_plants_raw_data_folder_path, power_plants_clean_data_file_name, data=None)\n",
    "\n",
    "power_plants_clean_data_folder_path = power_plants_raw_data_folder_path  # Copy the path to a new variable\n",
    "power_plants_clean_data_file_path = file_path\n",
    "\n",
    "print(\"power_plants_clean_data_folder_path:\", power_plants_clean_data_folder_path)\n",
    "print(\"power_plants_clean_data_file_path:\", power_plants_clean_data_file_path)"
   ]
  },
  {
   "cell_type": "markdown",
   "id": "39de7765-7af1-4d42-927e-cae4ca7da58a",
   "metadata": {},
   "source": [
    "- verifiyng variables\n",
    "\n",
    "  This cells are just to confirm all the file names, file paths and other information related to the data being processed.\n",
    "  Also are used to ensure the inputs for next cells in order to avoid to re-enter the same information each time."
   ]
  },
  {
   "cell_type": "code",
   "execution_count": 14,
   "id": "44feed5d-2a8b-444c-9134-362e32dc1664",
   "metadata": {},
   "outputs": [
    {
     "name": "stdout",
     "output_type": "stream",
     "text": [
      "zone_folder_name: DE\n",
      "zone_folder_path: /home/ray/Dispa-SET_Unleash/RawData/PowerPlants\n",
      "power_plants_raw_data_folder_path: /home/ray/Dispa-SET_Unleash/RawData/PowerPlants/DE\n",
      "power_plants_raw_data_file_name: 2020-01.csv\n",
      "power_plants_raw_data_download_link: https://data.open-power-system-data.org/conventional_power_plants/2020-10-01/conventional_power_plants_EU.csv\n",
      "power_plants_raw_data_file_path: /home/ray/Dispa-SET_Unleash/RawData/PowerPlants/DE/2020-01.csv\n",
      "power_plants_raw_data_download_link_sources_file_name: power_plants_raw_data_download_link_sources.csv\n",
      "power_plants_raw_data_download_link_sources_folder_path: /home/ray/Dispa-SET_Unleash/RawData/PowerPlants\n",
      "power_plants_clean_data_file_name: 2020.csv\n",
      "power_plants_clean_data_folder_path /home/ray/Dispa-SET_Unleash/RawData/PowerPlants/DE\n",
      "power_plants_clean_data_file_path /home/ray/Dispa-SET_Unleash/RawData/PowerPlants/DE/2020.csv\n"
     ]
    }
   ],
   "source": [
    "print (f\"zone_folder_name: {zone_folder_name}\\nzone_folder_path: {zone_folder_path}\\npower_plants_raw_data_folder_path: {power_plants_raw_data_folder_path}\\npower_plants_raw_data_file_name: {power_plants_raw_data_file_name}\\npower_plants_raw_data_download_link: {power_plants_raw_data_download_link}\\npower_plants_raw_data_file_path: {power_plants_raw_data_file_path}\\npower_plants_raw_data_download_link_sources_file_name: {power_plants_raw_data_download_link_sources_file_name}\\npower_plants_raw_data_download_link_sources_folder_path: {power_plants_raw_data_download_link_sources_folder_path}\\npower_plants_clean_data_file_name: {power_plants_clean_data_file_name}\\npower_plants_clean_data_folder_path {power_plants_clean_data_folder_path}\\npower_plants_clean_data_file_path {power_plants_clean_data_file_path}\")"
   ]
  },
  {
   "cell_type": "markdown",
   "id": "db8c7b56-7d79-42f1-bb1f-9b89bb85c6af",
   "metadata": {},
   "source": [
    "3.3. Copying the corresponding data to the power_plants_clean_data_file \n",
    "\n",
    "    This part compares headers of both files power_plants_raw_data_file and power_plants_clean_data_file to select the common ones according to the equivalencies of the power_plants_clean_data_equivalent_headers_file to finally copy all the data of the selected columns."
   ]
  },
  {
   "cell_type": "code",
   "execution_count": 15,
   "id": "c6784de2-fb88-43d4-bcab-6164e565b6f7",
   "metadata": {},
   "outputs": [],
   "source": [
    "power_plants_clean_data_equivalent_headers_file_name = 'power_plants_clean_data_equivalent_headers.csv'\n",
    "power_plants_clean_data_equivalent_headers_file_path = '/home/ray/Dispa-SET_Unleash/RawData/PowerPlants/power_plants_clean_data_equivalent_headers.csv'"
   ]
  },
  {
   "cell_type": "code",
   "execution_count": 16,
   "id": "3a368016-f5b7-4bb6-ab77-65b0f499110b",
   "metadata": {},
   "outputs": [
    {
     "name": "stdout",
     "output_type": "stream",
     "text": [
      "Columns copied successfully.\n"
     ]
    }
   ],
   "source": [
    "import pandas as pd\n",
    "\n",
    "# Read the headers from the raw data file\n",
    "raw_data_headers = pd.read_csv(power_plants_raw_data_file_path, nrows=0).columns.tolist()\n",
    "\n",
    "# Read the equivalent headers file\n",
    "equivalent_headers_df = pd.read_csv(power_plants_clean_data_equivalent_headers_file_path)\n",
    "\n",
    "# Initialize an empty dictionary to store mapping of equivalent headers to dispaset headers\n",
    "equivalent_to_dispaset_mapping = dict(zip(equivalent_headers_df['Equivalent_Headers'], equivalent_headers_df['Dispaset_Headers']))\n",
    "\n",
    "# Read the clean data file to get all existing headers\n",
    "existing_headers_df = pd.read_csv(power_plants_clean_data_file_path, nrows=0)\n",
    "existing_headers = existing_headers_df.columns.tolist()\n",
    "\n",
    "# Read the raw data file\n",
    "raw_data_df = pd.read_csv(power_plants_raw_data_file_path)\n",
    "\n",
    "# Initialize a new DataFrame to store the copied columns along with existing headers\n",
    "clean_data_df = pd.DataFrame()\n",
    "\n",
    "# Iterate over the existing headers in the clean data file\n",
    "for existing_header in existing_headers:\n",
    "    # Check if the existing header exists in the equivalent headers mapping\n",
    "    if existing_header in equivalent_to_dispaset_mapping.values():\n",
    "        # Find the corresponding equivalent header\n",
    "        equivalent_header = next((key for key, value in equivalent_to_dispaset_mapping.items() if value == existing_header), None)\n",
    "        if equivalent_header is not None and equivalent_header in raw_data_df.columns:\n",
    "            # Copy the corresponding column from the raw data file to the clean data DataFrame\n",
    "            clean_data_df[existing_header] = raw_data_df[equivalent_header]\n",
    "        else:\n",
    "            # Handle case where equivalent header is not found or is NaN\n",
    "            clean_data_df[existing_header] = None\n",
    "    else:\n",
    "        # If the existing header doesn't have a corresponding equivalent, copy it as is\n",
    "        clean_data_df[existing_header] = None\n",
    "\n",
    "# Write the clean data DataFrame to the clean data file\n",
    "clean_data_df.to_csv(power_plants_clean_data_file_path, index=False)\n",
    "\n",
    "print(\"Columns copied successfully.\")"
   ]
  },
  {
   "cell_type": "markdown",
   "id": "b6702759-b1fa-48b3-90f7-98a31b8265d7",
   "metadata": {},
   "source": [
    "- verifiyng variables\n",
    "\n",
    "  This cells are just to confirm all the file names, file paths and other information related to the data being processed.\n",
    "  Also are used to ensure the inputs for next cells in order to avoid to re-enter the same information each time."
   ]
  },
  {
   "cell_type": "code",
   "execution_count": 17,
   "id": "e9f011d3-bc96-4677-9159-3d4352d2e13b",
   "metadata": {},
   "outputs": [
    {
     "name": "stdout",
     "output_type": "stream",
     "text": [
      "zone_folder_name: DE\n",
      "zone_folder_path: /home/ray/Dispa-SET_Unleash/RawData/PowerPlants\n",
      "power_plants_raw_data_folder_path: /home/ray/Dispa-SET_Unleash/RawData/PowerPlants/DE\n",
      "power_plants_raw_data_file_name: 2020-01.csv\n",
      "power_plants_raw_data_download_link: https://data.open-power-system-data.org/conventional_power_plants/2020-10-01/conventional_power_plants_EU.csv\n",
      "power_plants_raw_data_file_path: /home/ray/Dispa-SET_Unleash/RawData/PowerPlants/DE/2020-01.csv\n",
      "power_plants_raw_data_download_link_sources_file_name: power_plants_raw_data_download_link_sources.csv\n",
      "power_plants_raw_data_download_link_sources_folder_path: /home/ray/Dispa-SET_Unleash/RawData/PowerPlants\n",
      "power_plants_clean_data_file_name: 2020.csv\n",
      "power_plants_clean_data_folder_path /home/ray/Dispa-SET_Unleash/RawData/PowerPlants/DE\n",
      "power_plants_clean_data_file_path /home/ray/Dispa-SET_Unleash/RawData/PowerPlants/DE/2020.csv\n",
      "power_plants_clean_data_equivalent_headers_file_name: power_plants_clean_data_equivalent_headers.csv\n",
      "power_plants_clean_data_equivalent_headers_file_path: /home/ray/Dispa-SET_Unleash/RawData/PowerPlants/power_plants_clean_data_equivalent_headers.csv\n"
     ]
    }
   ],
   "source": [
    "print (f\"zone_folder_name: {zone_folder_name}\\nzone_folder_path: {zone_folder_path}\\npower_plants_raw_data_folder_path: {power_plants_raw_data_folder_path}\\npower_plants_raw_data_file_name: {power_plants_raw_data_file_name}\\npower_plants_raw_data_download_link: {power_plants_raw_data_download_link}\\npower_plants_raw_data_file_path: {power_plants_raw_data_file_path}\\npower_plants_raw_data_download_link_sources_file_name: {power_plants_raw_data_download_link_sources_file_name}\\npower_plants_raw_data_download_link_sources_folder_path: {power_plants_raw_data_download_link_sources_folder_path}\\npower_plants_clean_data_file_name: {power_plants_clean_data_file_name}\\npower_plants_clean_data_folder_path {power_plants_clean_data_folder_path}\\npower_plants_clean_data_file_path {power_plants_clean_data_file_path}\\npower_plants_clean_data_equivalent_headers_file_name: {power_plants_clean_data_equivalent_headers_file_name}\\npower_plants_clean_data_equivalent_headers_file_path: {power_plants_clean_data_equivalent_headers_file_path}\")"
   ]
  },
  {
   "cell_type": "markdown",
   "id": "ab755144-287e-4e3d-b866-c1a76791a926",
   "metadata": {},
   "source": [
    "3.4. Zone Filter\n",
    "\n",
    "    This part erase all data that does not belongs to the zone/country/region/state/etc. to be modeled.\n",
    "    This stept can be jumped if it would rather to use an a single file where all units of all the zones are placed in however it is recommended to keep the dispa-SET directories structure i.e. storage all the power plants data related to a zone in a separated folder.\n",
    "    Additioanlly, if the name of the zone/country/region to be filtered is not the same of the zone_folder_name variable uncommen the next line and comment and enter the correponding name of the zone wanted to be filtered next comment the subsecuent line."
   ]
  },
  {
   "cell_type": "code",
   "execution_count": 18,
   "id": "7895544d-e5d6-452f-9a1b-ba612fcf6a9e",
   "metadata": {},
   "outputs": [],
   "source": [
    "#zone_name= \"Set the name of zone to be filtered\"\n",
    "zone_name = zone_folder_name"
   ]
  },
  {
   "cell_type": "code",
   "execution_count": 19,
   "id": "d27d4a56-d970-4b30-891e-3e79e2928c38",
   "metadata": {},
   "outputs": [
    {
     "name": "stdout",
     "output_type": "stream",
     "text": [
      "Rows filtered successfully.\n"
     ]
    }
   ],
   "source": [
    "import pandas as pd\n",
    "\n",
    "# Variables\n",
    "#power_plants_clean_data_file_path = \"/home/ray/Dispa-SET_Unleash/RawData/PowerPlants/DE/2020.csv\"\n",
    "#zone_name = zone_folder_name\n",
    "\n",
    "# Read CSV file\n",
    "df = pd.read_csv(power_plants_clean_data_file_path)\n",
    "\n",
    "# Filter rows where the \"Zone\" column matches zone_folder_name\n",
    "filtered_df = df[df[\"Zone\"] == zone_name]\n",
    "\n",
    "# Overwrite the CSV file with the filtered DataFrame\n",
    "filtered_df.to_csv(power_plants_clean_data_file_path, index=False)\n",
    "\n",
    "print(\"Rows filtered successfully.\")"
   ]
  },
  {
   "cell_type": "markdown",
   "id": "0e50ccd7-5d22-4c4b-bc9b-c8ed6bf3241a",
   "metadata": {},
   "source": [
    "- verifiyng variables\n",
    "\n",
    "  This cells are just to confirm all the file names, file paths and other information related to the data being processed.\n",
    "  Also are used to ensure the inputs for next cells in order to avoid to re-enter the same information each time."
   ]
  },
  {
   "cell_type": "code",
   "execution_count": 20,
   "id": "a18e8080-bde2-4475-b07c-5cf1c658b186",
   "metadata": {},
   "outputs": [
    {
     "name": "stdout",
     "output_type": "stream",
     "text": [
      "zone_folder_name: DE\n",
      "zone_folder_path: /home/ray/Dispa-SET_Unleash/RawData/PowerPlants\n",
      "power_plants_raw_data_folder_path: /home/ray/Dispa-SET_Unleash/RawData/PowerPlants/DE\n",
      "power_plants_raw_data_file_name: 2020-01.csv\n",
      "power_plants_raw_data_download_link: https://data.open-power-system-data.org/conventional_power_plants/2020-10-01/conventional_power_plants_EU.csv\n",
      "power_plants_raw_data_file_path: /home/ray/Dispa-SET_Unleash/RawData/PowerPlants/DE/2020-01.csv\n",
      "power_plants_raw_data_download_link_sources_file_name: power_plants_raw_data_download_link_sources.csv\n",
      "power_plants_raw_data_download_link_sources_folder_path: /home/ray/Dispa-SET_Unleash/RawData/PowerPlants\n",
      "power_plants_clean_data_file_name: 2020.csv\n",
      "power_plants_clean_data_folder_path /home/ray/Dispa-SET_Unleash/RawData/PowerPlants/DE\n",
      "power_plants_clean_data_file_path /home/ray/Dispa-SET_Unleash/RawData/PowerPlants/DE/2020.csv\n",
      "power_plants_clean_data_equivalent_headers_file_name: power_plants_clean_data_equivalent_headers.csv\n",
      "power_plants_clean_data_equivalent_headers_file_path: /home/ray/Dispa-SET_Unleash/RawData/PowerPlants/power_plants_clean_data_equivalent_headers.csv\n"
     ]
    }
   ],
   "source": [
    "print (f\"zone_folder_name: {zone_folder_name}\\nzone_folder_path: {zone_folder_path}\\npower_plants_raw_data_folder_path: {power_plants_raw_data_folder_path}\\npower_plants_raw_data_file_name: {power_plants_raw_data_file_name}\\npower_plants_raw_data_download_link: {power_plants_raw_data_download_link}\\npower_plants_raw_data_file_path: {power_plants_raw_data_file_path}\\npower_plants_raw_data_download_link_sources_file_name: {power_plants_raw_data_download_link_sources_file_name}\\npower_plants_raw_data_download_link_sources_folder_path: {power_plants_raw_data_download_link_sources_folder_path}\\npower_plants_clean_data_file_name: {power_plants_clean_data_file_name}\\npower_plants_clean_data_folder_path {power_plants_clean_data_folder_path}\\npower_plants_clean_data_file_path {power_plants_clean_data_file_path}\\npower_plants_clean_data_equivalent_headers_file_name: {power_plants_clean_data_equivalent_headers_file_name}\\npower_plants_clean_data_equivalent_headers_file_path: {power_plants_clean_data_equivalent_headers_file_path}\")"
   ]
  },
  {
   "cell_type": "markdown",
   "id": "6769016b-54f1-4c63-b10d-64688e15e73e",
   "metadata": {},
   "source": [
    "3.5.  Nunits Filter\n",
    "\n",
    "    This part assign a number of 1 to the column called Units of the respective cell does not have any data."
   ]
  },
  {
   "cell_type": "code",
   "execution_count": 21,
   "id": "798c08c7-2c5f-4965-882b-b7d6a9d1b742",
   "metadata": {},
   "outputs": [
    {
     "name": "stdout",
     "output_type": "stream",
     "text": [
      "Empty cells in the 'Nunits' column have been filled with 1.\n"
     ]
    }
   ],
   "source": [
    "import pandas as pd\n",
    "\n",
    "# Variables\n",
    "#power_plants_clean_data_file_path = \"/home/ray/Dispa-SET_Unleash/RawData/PowerPlants/DE/2020.csv\"\n",
    "Header_3 = \"Nunits\"\n",
    "\n",
    "# Read CSV file\n",
    "df = pd.read_csv(power_plants_clean_data_file_path)\n",
    "\n",
    "# Fill empty cells in the \"Nunits\" column with 1\n",
    "df[Header_3] = df[Header_3].fillna(1)\n",
    "\n",
    "# Write the updated DataFrame back to the CSV file\n",
    "df.to_csv(power_plants_clean_data_file_path, index=False)\n",
    "\n",
    "print(\"Empty cells in the 'Nunits' column have been filled with 1.\")"
   ]
  },
  {
   "cell_type": "markdown",
   "id": "0157f6f7-7989-4fd9-aa7b-60b3f724ec7d",
   "metadata": {},
   "source": [
    "- verifiyng variables\n",
    "\n",
    "  This cells are just to confirm all the file names, file paths and other information related to the data being processed.\n",
    "  Also are used to ensure the inputs for next cells in order to avoid to re-enter the same information each time."
   ]
  },
  {
   "cell_type": "code",
   "execution_count": 22,
   "id": "d60f4228-f9de-4ecf-b860-0fa4de7d7cd9",
   "metadata": {},
   "outputs": [
    {
     "name": "stdout",
     "output_type": "stream",
     "text": [
      "zone_folder_name: DE\n",
      "zone_folder_path: /home/ray/Dispa-SET_Unleash/RawData/PowerPlants\n",
      "power_plants_raw_data_folder_path: /home/ray/Dispa-SET_Unleash/RawData/PowerPlants/DE\n",
      "power_plants_raw_data_file_name: 2020-01.csv\n",
      "power_plants_raw_data_download_link: https://data.open-power-system-data.org/conventional_power_plants/2020-10-01/conventional_power_plants_EU.csv\n",
      "power_plants_raw_data_file_path: /home/ray/Dispa-SET_Unleash/RawData/PowerPlants/DE/2020-01.csv\n",
      "power_plants_raw_data_download_link_sources_file_name: power_plants_raw_data_download_link_sources.csv\n",
      "power_plants_raw_data_download_link_sources_folder_path: /home/ray/Dispa-SET_Unleash/RawData/PowerPlants\n",
      "power_plants_clean_data_file_name: 2020.csv\n",
      "power_plants_clean_data_folder_path /home/ray/Dispa-SET_Unleash/RawData/PowerPlants/DE\n",
      "power_plants_clean_data_file_path /home/ray/Dispa-SET_Unleash/RawData/PowerPlants/DE/2020.csv\n",
      "power_plants_clean_data_equivalent_headers_file_name: power_plants_clean_data_equivalent_headers.csv\n",
      "power_plants_clean_data_equivalent_headers_file_path: /home/ray/Dispa-SET_Unleash/RawData/PowerPlants/power_plants_clean_data_equivalent_headers.csv\n"
     ]
    }
   ],
   "source": [
    "print (f\"zone_folder_name: {zone_folder_name}\\nzone_folder_path: {zone_folder_path}\\npower_plants_raw_data_folder_path: {power_plants_raw_data_folder_path}\\npower_plants_raw_data_file_name: {power_plants_raw_data_file_name}\\npower_plants_raw_data_download_link: {power_plants_raw_data_download_link}\\npower_plants_raw_data_file_path: {power_plants_raw_data_file_path}\\npower_plants_raw_data_download_link_sources_file_name: {power_plants_raw_data_download_link_sources_file_name}\\npower_plants_raw_data_download_link_sources_folder_path: {power_plants_raw_data_download_link_sources_folder_path}\\npower_plants_clean_data_file_name: {power_plants_clean_data_file_name}\\npower_plants_clean_data_folder_path {power_plants_clean_data_folder_path}\\npower_plants_clean_data_file_path {power_plants_clean_data_file_path}\\npower_plants_clean_data_equivalent_headers_file_name: {power_plants_clean_data_equivalent_headers_file_name}\\npower_plants_clean_data_equivalent_headers_file_path: {power_plants_clean_data_equivalent_headers_file_path}\")"
   ]
  },
  {
   "cell_type": "markdown",
   "id": "1975ca3c-e928-4213-bdc6-ee69a5ec39e0",
   "metadata": {},
   "source": [
    "3.6.  Unit Filter\n",
    "\n",
    "    This part joint all the units with the same name adding their respective capacity and number of units."
   ]
  },
  {
   "cell_type": "code",
   "execution_count": 23,
   "id": "487b78f1-91de-412e-a1c4-f7528aa1da45",
   "metadata": {},
   "outputs": [
    {
     "name": "stdout",
     "output_type": "stream",
     "text": [
      "Duplicated cells in the 'Unit' column processed successfully.\n"
     ]
    }
   ],
   "source": [
    "import pandas as pd\n",
    "\n",
    "# Variables\n",
    "#power_plants_clean_data_file_path = \"/home/ray/Dispa-SET_Unleash/RawData/PowerPlants/DE/2020.csv\"\n",
    "Header_1 = \"Unit\"\n",
    "Header_2 = \"PowerCapacity\"\n",
    "Header_3 = \"Nunits\"\n",
    "\n",
    "# Read CSV file\n",
    "df = pd.read_csv(power_plants_clean_data_file_path)\n",
    "\n",
    "# Find duplicated cells in the \"Unit\" column\n",
    "duplicated_units = df[df.duplicated(subset=[Header_1], keep=False)]\n",
    "\n",
    "# Process duplicated units\n",
    "for unit in duplicated_units[Header_1].unique():\n",
    "    # Filter rows with the current duplicated unit\n",
    "    unit_rows = df[df[Header_1] == unit]\n",
    "    # Calculate the sum of \"Nunits\" and \"PowerCapacity\"\n",
    "    total_nunits = unit_rows[Header_3].sum()\n",
    "    total_power_capacity = unit_rows[Header_2].sum()\n",
    "    # Put the sum results in the first duplicated row\n",
    "    first_row_index = unit_rows.index[0]\n",
    "    df.at[first_row_index, Header_3] = total_nunits\n",
    "    df.at[first_row_index, Header_2] = total_power_capacity\n",
    "    # Drop other duplicated rows\n",
    "    df.drop(unit_rows.index[1:], inplace=True)\n",
    "\n",
    "# Write the updated DataFrame back to the CSV file\n",
    "df.to_csv(power_plants_clean_data_file_path, index=False)\n",
    "\n",
    "print(\"Duplicated cells in the 'Unit' column processed successfully.\")"
   ]
  },
  {
   "cell_type": "markdown",
   "id": "2397975a-fffa-4c95-844f-de17672c3294",
   "metadata": {},
   "source": [
    "- verifiyng variables\n",
    "\n",
    "  This cells are just to confirm all the file names, file paths and other information related to the data being processed.\n",
    "  Also are used to ensure the inputs for next cells in order to avoid to re-enter the same information each time."
   ]
  },
  {
   "cell_type": "code",
   "execution_count": 24,
   "id": "8600f39d-c2a1-46ee-b024-1837ad5b604c",
   "metadata": {},
   "outputs": [
    {
     "name": "stdout",
     "output_type": "stream",
     "text": [
      "zone_folder_name: DE\n",
      "zone_folder_path: /home/ray/Dispa-SET_Unleash/RawData/PowerPlants\n",
      "power_plants_raw_data_folder_path: /home/ray/Dispa-SET_Unleash/RawData/PowerPlants/DE\n",
      "power_plants_raw_data_file_name: 2020-01.csv\n",
      "power_plants_raw_data_download_link: https://data.open-power-system-data.org/conventional_power_plants/2020-10-01/conventional_power_plants_EU.csv\n",
      "power_plants_raw_data_file_path: /home/ray/Dispa-SET_Unleash/RawData/PowerPlants/DE/2020-01.csv\n",
      "power_plants_raw_data_download_link_sources_file_name: power_plants_raw_data_download_link_sources.csv\n",
      "power_plants_raw_data_download_link_sources_folder_path: /home/ray/Dispa-SET_Unleash/RawData/PowerPlants\n",
      "power_plants_clean_data_file_name: 2020.csv\n",
      "power_plants_clean_data_folder_path /home/ray/Dispa-SET_Unleash/RawData/PowerPlants/DE\n",
      "power_plants_clean_data_file_path /home/ray/Dispa-SET_Unleash/RawData/PowerPlants/DE/2020.csv\n",
      "power_plants_clean_data_equivalent_headers_file_name: power_plants_clean_data_equivalent_headers.csv\n",
      "power_plants_clean_data_equivalent_headers_file_path: /home/ray/Dispa-SET_Unleash/RawData/PowerPlants/power_plants_clean_data_equivalent_headers.csv\n"
     ]
    }
   ],
   "source": [
    "print (f\"zone_folder_name: {zone_folder_name}\\nzone_folder_path: {zone_folder_path}\\npower_plants_raw_data_folder_path: {power_plants_raw_data_folder_path}\\npower_plants_raw_data_file_name: {power_plants_raw_data_file_name}\\npower_plants_raw_data_download_link: {power_plants_raw_data_download_link}\\npower_plants_raw_data_file_path: {power_plants_raw_data_file_path}\\npower_plants_raw_data_download_link_sources_file_name: {power_plants_raw_data_download_link_sources_file_name}\\npower_plants_raw_data_download_link_sources_folder_path: {power_plants_raw_data_download_link_sources_folder_path}\\npower_plants_clean_data_file_name: {power_plants_clean_data_file_name}\\npower_plants_clean_data_folder_path {power_plants_clean_data_folder_path}\\npower_plants_clean_data_file_path {power_plants_clean_data_file_path}\\npower_plants_clean_data_equivalent_headers_file_name: {power_plants_clean_data_equivalent_headers_file_name}\\npower_plants_clean_data_equivalent_headers_file_path: {power_plants_clean_data_equivalent_headers_file_path}\")"
   ]
  },
  {
   "cell_type": "markdown",
   "id": "ffd56336-60f3-4b23-9f4e-0c3422d3c574",
   "metadata": {},
   "source": [
    "3.7 Technology Filter\n",
    "\n",
    "    This part read the current value of the column called \"technology\" of power_plants_clean_data_file and makes a compariton with the contend of the power_plants_all_data_equivalent_Technologies_file and replace all the values of the column by their respective equivalent format needed to dispa-SET.\n",
    "    Additionally it copies to the power_plants_all_data_not_defined_units_file all the rows of the units with not defined technology or other kind of information in that field."
   ]
  },
  {
   "cell_type": "code",
   "execution_count": 25,
   "id": "588da451-f235-4ad3-866e-4c5565f15f3d",
   "metadata": {},
   "outputs": [],
   "source": [
    "power_plants_all_data_equivalent_technologies_file_name = \"power_plants_all_data_equivalent_technologies.csv\"\n",
    "power_plants_all_data_equivalent_technologies_file_path = \"/home/ray/Dispa-SET_Unleash/RawData/PowerPlants/power_plants_all_data_equivalent_technologies.csv\"\n",
    "power_plants_all_data_not_defined_units_file_name = \"power_plants_all_data_not_defined_units.csv\"\n",
    "power_plants_all_data_not_defined_units_file_path = \"/home/ray/Dispa-SET_Unleash/RawData/PowerPlants/power_plants_all_data_not_defined_units.csv\""
   ]
  },
  {
   "cell_type": "code",
   "execution_count": 26,
   "id": "7d22aab1-6c20-4657-89de-7aa412fbf09b",
   "metadata": {},
   "outputs": [
    {
     "name": "stdout",
     "output_type": "stream",
     "text": [
      "power_plants_all_data_equivalent_technologies_file_name: power_plants_all_data_equivalent_technologies.csv\n",
      "power_plants_all_data_equivalent_technologies_file_path: /home/ray/Dispa-SET_Unleash/RawData/PowerPlants/power_plants_all_data_equivalent_technologies.csv\n",
      "power_plants_all_data_not_defined_units_file_name: power_plants_all_data_not_defined_units.csv\n",
      "power_plants_all_data_not_defined_units_file_path: /home/ray/Dispa-SET_Unleash/RawData/PowerPlants/power_plants_all_data_not_defined_units.csv\n"
     ]
    }
   ],
   "source": [
    "print(f\"power_plants_all_data_equivalent_technologies_file_name: {power_plants_all_data_equivalent_technologies_file_name}\")\n",
    "print(f\"power_plants_all_data_equivalent_technologies_file_path: {power_plants_all_data_equivalent_technologies_file_path}\")\n",
    "print(f\"power_plants_all_data_not_defined_units_file_name: {power_plants_all_data_not_defined_units_file_name}\")\n",
    "print(f\"power_plants_all_data_not_defined_units_file_path: {power_plants_all_data_not_defined_units_file_path}\")"
   ]
  },
  {
   "cell_type": "code",
   "execution_count": 27,
   "id": "dbb5cf63-2f1c-42ca-b18c-574ca18d0cb6",
   "metadata": {},
   "outputs": [
    {
     "name": "stdout",
     "output_type": "stream",
     "text": [
      "Rows appended to /home/ray/Dispa-SET_Unleash/RawData/PowerPlants/power_plants_all_data_not_defined_units.csv\n"
     ]
    }
   ],
   "source": [
    "import pandas as pd\n",
    "\n",
    "# Define file paths\n",
    "#power_plants_clean_data_file_path = \"/home/ray/Dispa-SET_Unleash/RawData/PowerPlants/DE/2020.csv\"\n",
    "#power_plants_all_data_equivalent_technologies_file_path = \"/home/ray/Dispa-SET_Unleash/RawData/PowerPlants/power_plants_all_data_equivalent_technologies.csv\"\n",
    "#power_plants_all_data_not_defined_units_file_path = \"/home/ray/Dispa-SET_Unleash/RawData/PowerPlants/power_plants_all_data_not_defined_units.csv\"\n",
    "\n",
    "# Read CSV files\n",
    "clean_data_df = pd.read_csv(power_plants_clean_data_file_path)\n",
    "equivalent_technologies_df = pd.read_csv(power_plants_all_data_equivalent_technologies_file_path)\n",
    "\n",
    "# Create a dictionary mapping Equivalent_Technology to Dispaset_Technology\n",
    "equivalent_technologies_dict = dict(zip(equivalent_technologies_df['Equivalent_Technology'], equivalent_technologies_df['Dispaset_Technology']))\n",
    "\n",
    "# Create a list to store rows not found in the second file\n",
    "not_defined_units = []\n",
    "\n",
    "# Iterate over each value in the 'technology' column of the clean data file\n",
    "for index, technology in enumerate(clean_data_df['Technology']):\n",
    "    # Check if the technology exists in the equivalent technologies dictionary\n",
    "    if technology in equivalent_technologies_dict:\n",
    "        # If found, replace the value in the 'technology' column with the corresponding value from the dictionary\n",
    "        clean_data_df.at[index, 'Technology'] = equivalent_technologies_dict[technology]\n",
    "    else:\n",
    "        # If not found, append the entire row to the list of not defined units\n",
    "        not_defined_units.append(clean_data_df.iloc[index])\n",
    "        \n",
    "# Save not defined units (only if there are any)\n",
    "if not_defined_units:\n",
    "    # Create DataFrame and save only if there are rows\n",
    "    not_defined_df = pd.DataFrame(not_defined_units)\n",
    "    not_defined_df.to_csv(power_plants_all_data_not_defined_units_file_path, mode='a', header=False, index=False)\n",
    "    print(\"Rows appended to\", power_plants_all_data_not_defined_units_file_path)\n",
    "else:\n",
    "    print(\"No rows to save. Skipping writing to\", power_plants_all_data_not_defined_units_file_path)\n",
    "\n",
    "# Remove the rows not found in the second file from the clean data file\n",
    "clean_data_df = clean_data_df[~clean_data_df['Technology'].isin(not_defined_df['Technology'])]\n",
    "\n",
    "# Save the updated clean data file\n",
    "clean_data_df.to_csv(power_plants_clean_data_file_path, index=False)\n"
   ]
  },
  {
   "cell_type": "markdown",
   "id": "d20b16d2-1368-4161-9c24-6dda682a88f2",
   "metadata": {},
   "source": [
    "- verifiyng variables\n",
    "\n",
    "  This cells are just to confirm all the file names, file paths and other information related to the data being processed.\n",
    "  Also are used to ensure the inputs for next cells in order to avoid to re-enter the same information each time."
   ]
  },
  {
   "cell_type": "code",
   "execution_count": 28,
   "id": "36bc925a-6987-4ae2-9446-806bafc76d4c",
   "metadata": {},
   "outputs": [
    {
     "name": "stdout",
     "output_type": "stream",
     "text": [
      "zone_folder_name: DE\n",
      "zone_folder_path: /home/ray/Dispa-SET_Unleash/RawData/PowerPlants\n",
      "power_plants_raw_data_folder_path: /home/ray/Dispa-SET_Unleash/RawData/PowerPlants/DE\n",
      "power_plants_raw_data_file_name: 2020-01.csv\n",
      "power_plants_raw_data_download_link: https://data.open-power-system-data.org/conventional_power_plants/2020-10-01/conventional_power_plants_EU.csv\n",
      "power_plants_raw_data_file_path: /home/ray/Dispa-SET_Unleash/RawData/PowerPlants/DE/2020-01.csv\n",
      "power_plants_raw_data_download_link_sources_file_name: power_plants_raw_data_download_link_sources.csv\n",
      "power_plants_raw_data_download_link_sources_folder_path: /home/ray/Dispa-SET_Unleash/RawData/PowerPlants\n",
      "power_plants_clean_data_file_name: 2020.csv\n",
      "power_plants_clean_data_folder_path /home/ray/Dispa-SET_Unleash/RawData/PowerPlants/DE\n",
      "power_plants_clean_data_file_path /home/ray/Dispa-SET_Unleash/RawData/PowerPlants/DE/2020.csv\n",
      "power_plants_clean_data_equivalent_headers_file_name: power_plants_clean_data_equivalent_headers.csv\n",
      "power_plants_clean_data_equivalent_headers_file_path: /home/ray/Dispa-SET_Unleash/RawData/PowerPlants/power_plants_clean_data_equivalent_headers.csv\n",
      "power_plants_all_data_equivalent_technologies_file_name: power_plants_all_data_equivalent_technologies.csv\n",
      "power_plants_all_data_equivalent_technologies_file_path: /home/ray/Dispa-SET_Unleash/RawData/PowerPlants/power_plants_all_data_equivalent_technologies.csv\n",
      "power_plants_all_data_not_defined_units_file_name: power_plants_all_data_not_defined_units.csv\\mpower_plants_all_data_not_defined_units_file_path: /home/ray/Dispa-SET_Unleash/RawData/PowerPlants/power_plants_all_data_not_defined_units.csv\n"
     ]
    }
   ],
   "source": [
    "print (f\"zone_folder_name: {zone_folder_name}\\nzone_folder_path: {zone_folder_path}\\npower_plants_raw_data_folder_path: {power_plants_raw_data_folder_path}\\npower_plants_raw_data_file_name: {power_plants_raw_data_file_name}\\npower_plants_raw_data_download_link: {power_plants_raw_data_download_link}\\npower_plants_raw_data_file_path: {power_plants_raw_data_file_path}\\npower_plants_raw_data_download_link_sources_file_name: {power_plants_raw_data_download_link_sources_file_name}\\npower_plants_raw_data_download_link_sources_folder_path: {power_plants_raw_data_download_link_sources_folder_path}\\npower_plants_clean_data_file_name: {power_plants_clean_data_file_name}\\npower_plants_clean_data_folder_path {power_plants_clean_data_folder_path}\\npower_plants_clean_data_file_path {power_plants_clean_data_file_path}\\npower_plants_clean_data_equivalent_headers_file_name: {power_plants_clean_data_equivalent_headers_file_name}\\npower_plants_clean_data_equivalent_headers_file_path: {power_plants_clean_data_equivalent_headers_file_path}\\npower_plants_all_data_equivalent_technologies_file_name: {power_plants_all_data_equivalent_technologies_file_name}\\npower_plants_all_data_equivalent_technologies_file_path: {power_plants_all_data_equivalent_technologies_file_path}\\npower_plants_all_data_not_defined_units_file_name: {power_plants_all_data_not_defined_units_file_name}\\mpower_plants_all_data_not_defined_units_file_path: {power_plants_all_data_not_defined_units_file_path}\")"
   ]
  },
  {
   "cell_type": "markdown",
   "id": "e1e8995e-4c79-48d6-9ed6-8baa682e0486",
   "metadata": {},
   "source": [
    "3.8. Fuel Filter\n",
    "\n",
    "    This part read the current value of the column called \"fuel\" of power_plants_clean_data_file and makes a compariton with the contend of the power_plants_all_data_equivalent_fuels_file and replace all the values of the column by their respective equivalent format needed to dispa-SET.\n",
    "    Additionally it copies to the power_plants_all_data_not_defined_units_file all the rows of the units with not defined fuel or other kind of information in that field."
   ]
  },
  {
   "cell_type": "code",
   "execution_count": 29,
   "id": "8b561dcb-eb9b-4774-a49a-90603c365cfd",
   "metadata": {},
   "outputs": [],
   "source": [
    "power_plants_all_data_equivalent_fuels_file_name = \"power_plants_all_data_equivalent_fuels.csv\"\n",
    "power_plants_all_data_equivalent_fuels_file_path = \"/home/ray/Dispa-SET_Unleash/RawData/PowerPlants/power_plants_all_data_equivalent_fuels.csv\""
   ]
  },
  {
   "cell_type": "code",
   "execution_count": 30,
   "id": "4c53079e-6b43-4814-b94d-0a59ac5544cd",
   "metadata": {},
   "outputs": [
    {
     "name": "stdout",
     "output_type": "stream",
     "text": [
      "No rows to save. Skipping writing to /home/ray/Dispa-SET_Unleash/RawData/PowerPlants/power_plants_all_data_not_defined_units.csv\n"
     ]
    }
   ],
   "source": [
    "import pandas as pd\n",
    "\n",
    "# Define file paths\n",
    "#power_plants_clean_data_file_path = \"/home/ray/Dispa-SET_Unleash/RawData/PowerPlants/DE/2020.csv\"\n",
    "#power_plants_all_data_equivalent_technologies_file_path = \"/home/ray/Dispa-SET_Unleash/RawData/PowerPlants/power_plants_all_data_equivalent_technologies.csv\"\n",
    "#power_plants_all_data_not_defined_units_file_path = \"/home/ray/Dispa-SET_Unleash/RawData/PowerPlants/power_plants_all_data_not_defined_units.csv\"\n",
    "\n",
    "# Read CSV files\n",
    "clean_data_df = pd.read_csv(power_plants_clean_data_file_path)\n",
    "equivalent_fuels_df = pd.read_csv(power_plants_all_data_equivalent_fuels_file_path)\n",
    "\n",
    "# Create a dictionary mapping Equivalent_Fuels to Dispaset_Technology\n",
    "equivalent_fuels_dict = dict(zip(equivalent_fuels_df['Equivalent_Fuel'], equivalent_fuels_df['Dispaset_Fuel']))\n",
    "\n",
    "# Create a list to store rows not found in the second file\n",
    "not_defined_units = []\n",
    "\n",
    "# Iterate over each value in the 'Fuel' column of the clean data file\n",
    "for index, fuel in enumerate(clean_data_df['Fuel']):\n",
    "    # Check if the technology exists in the equivalent technologies dictionary\n",
    "    if fuel in equivalent_fuels_dict:\n",
    "        # If found, replace the value in the 'technology' column with the corresponding value from the dictionary\n",
    "        clean_data_df.at[index, 'Fuel'] = equivalent_fuels_dict[fuel]\n",
    "    else:\n",
    "        # If not found, append the entire row to the list of not defined units\n",
    "        not_defined_units.append(clean_data_df.iloc[index])\n",
    "\n",
    "# Save not defined units (only if there are any)\n",
    "if not_defined_units:\n",
    "    # Create DataFrame and save only if there are rows\n",
    "    not_defined_df = pd.DataFrame(not_defined_units)\n",
    "    not_defined_df.to_csv(power_plants_all_data_not_defined_units_file_path, mode='a', header=False, index=False)\n",
    "    print(\"Rows appended to\", power_plants_all_data_not_defined_units_file_path)\n",
    "else:\n",
    "    print(\"No rows to save. Skipping writing to\", power_plants_all_data_not_defined_units_file_path)\n",
    "\n",
    "# Remove the rows not found in the second file from the clean data file\n",
    "clean_data_df = clean_data_df[~clean_data_df['Fuel'].isin(not_defined_df['Fuel'])]\n",
    "\n",
    "# Save the updated clean data file\n",
    "clean_data_df.to_csv(power_plants_clean_data_file_path, index=False)"
   ]
  },
  {
   "cell_type": "markdown",
   "id": "d0ec7a04-fb8e-4c18-9f7d-1c9b76a51b20",
   "metadata": {},
   "source": [
    "- verifiyng variables\n",
    "\n",
    "  This cells are just to confirm all the file names, file paths and other information related to the data being processed.\n",
    "  Also are used to ensure the inputs for next cells in order to avoid to re-enter the same information each time."
   ]
  },
  {
   "cell_type": "code",
   "execution_count": 31,
   "id": "6c003621-75d4-43ba-8fe0-db18dbb7404f",
   "metadata": {},
   "outputs": [
    {
     "name": "stdout",
     "output_type": "stream",
     "text": [
      "zone_folder_name: DE\n",
      "zone_folder_path: /home/ray/Dispa-SET_Unleash/RawData/PowerPlants\n",
      "power_plants_raw_data_folder_path: /home/ray/Dispa-SET_Unleash/RawData/PowerPlants/DE\n",
      "power_plants_raw_data_file_name: 2020-01.csv\n",
      "power_plants_raw_data_download_link: https://data.open-power-system-data.org/conventional_power_plants/2020-10-01/conventional_power_plants_EU.csv\n",
      "power_plants_raw_data_file_path: /home/ray/Dispa-SET_Unleash/RawData/PowerPlants/DE/2020-01.csv\n",
      "power_plants_raw_data_download_link_sources_file_name: power_plants_raw_data_download_link_sources.csv\n",
      "power_plants_raw_data_download_link_sources_folder_path: /home/ray/Dispa-SET_Unleash/RawData/PowerPlants\n",
      "power_plants_clean_data_file_name: 2020.csv\n",
      "power_plants_clean_data_folder_path /home/ray/Dispa-SET_Unleash/RawData/PowerPlants/DE\n",
      "power_plants_clean_data_file_path /home/ray/Dispa-SET_Unleash/RawData/PowerPlants/DE/2020.csv\n",
      "power_plants_clean_data_equivalent_headers_file_name: power_plants_clean_data_equivalent_headers.csv\n",
      "power_plants_clean_data_equivalent_headers_file_path: /home/ray/Dispa-SET_Unleash/RawData/PowerPlants/power_plants_clean_data_equivalent_headers.csv\n",
      "power_plants_all_data_equivalent_technologies_file_name: power_plants_all_data_equivalent_technologies.csv\n",
      "power_plants_all_data_equivalent_technologies_file_path: /home/ray/Dispa-SET_Unleash/RawData/PowerPlants/power_plants_all_data_equivalent_technologies.csv\n",
      "power_plants_all_data_not_defined_units_file_name: power_plants_all_data_not_defined_units.csv\\mpower_plants_all_data_not_defined_units_file_path: /home/ray/Dispa-SET_Unleash/RawData/PowerPlants/power_plants_all_data_not_defined_units.csv\n",
      "power_plants_all_data_equivalent_fuels_file_name power_plants_all_data_equivalent_fuels.csv\n",
      "power_plants_all_data_equivalent_fuels_file_path /home/ray/Dispa-SET_Unleash/RawData/PowerPlants/power_plants_all_data_equivalent_fuels.csv\n"
     ]
    }
   ],
   "source": [
    "print (f\"zone_folder_name: {zone_folder_name}\\nzone_folder_path: {zone_folder_path}\\npower_plants_raw_data_folder_path: {power_plants_raw_data_folder_path}\\npower_plants_raw_data_file_name: {power_plants_raw_data_file_name}\\npower_plants_raw_data_download_link: {power_plants_raw_data_download_link}\\npower_plants_raw_data_file_path: {power_plants_raw_data_file_path}\\npower_plants_raw_data_download_link_sources_file_name: {power_plants_raw_data_download_link_sources_file_name}\\npower_plants_raw_data_download_link_sources_folder_path: {power_plants_raw_data_download_link_sources_folder_path}\\npower_plants_clean_data_file_name: {power_plants_clean_data_file_name}\\npower_plants_clean_data_folder_path {power_plants_clean_data_folder_path}\\npower_plants_clean_data_file_path {power_plants_clean_data_file_path}\\npower_plants_clean_data_equivalent_headers_file_name: {power_plants_clean_data_equivalent_headers_file_name}\\npower_plants_clean_data_equivalent_headers_file_path: {power_plants_clean_data_equivalent_headers_file_path}\\npower_plants_all_data_equivalent_technologies_file_name: {power_plants_all_data_equivalent_technologies_file_name}\\npower_plants_all_data_equivalent_technologies_file_path: {power_plants_all_data_equivalent_technologies_file_path}\\npower_plants_all_data_not_defined_units_file_name: {power_plants_all_data_not_defined_units_file_name}\\mpower_plants_all_data_not_defined_units_file_path: {power_plants_all_data_not_defined_units_file_path}\\npower_plants_all_data_equivalent_fuels_file_name {power_plants_all_data_equivalent_fuels_file_name}\\npower_plants_all_data_equivalent_fuels_file_path {power_plants_all_data_equivalent_fuels_file_path}\")"
   ]
  },
  {
   "cell_type": "markdown",
   "id": "872d707a-4d39-411c-88ca-069ce0ba5302",
   "metadata": {},
   "source": [
    "3.9. CHPType Filter\n",
    "\n",
    "    This part read the current value of the column called \"CHPType\" of power_plants_clean_data_file and makes a compariton with the contend of the power_plants_all_data_equivalent_CHPTypes_file and replace all the values of the column by their respective equivalent format needed to dispa-SET.\n",
    "    Additionally it copies to the power_plants_all_data_not_defined_units_file all the rows of the units with not defined fuel or other kind of information in that field."
   ]
  },
  {
   "cell_type": "code",
   "execution_count": 32,
   "id": "56136348-4302-4e79-99ba-a8726d5c7c6d",
   "metadata": {},
   "outputs": [],
   "source": [
    "power_plants_all_data_equivalent_CHPTypes_file_name = \"power_plants_all_data_equivalent_CHPTypes.csv\"\n",
    "power_plants_all_data_equivalent_CHPTypes_file_path = \"/home/ray/Dispa-SET_Unleash/RawData/PowerPlants/power_plants_all_data_equivalent_CHPTypes.csv\""
   ]
  },
  {
   "cell_type": "code",
   "execution_count": 33,
   "id": "af6228a3-21af-4bf2-8ef1-b05dbbab0e0d",
   "metadata": {},
   "outputs": [
    {
     "name": "stdout",
     "output_type": "stream",
     "text": [
      "Rows appended to /home/ray/Dispa-SET_Unleash/RawData/PowerPlants/power_plants_all_data_not_defined_units.csv\n"
     ]
    }
   ],
   "source": [
    "import pandas as pd\n",
    "\n",
    "# Read CSV files\n",
    "clean_data_df = pd.read_csv(power_plants_clean_data_file_path)\n",
    "equivalent_CHPTypes_df = pd.read_csv(power_plants_all_data_equivalent_CHPTypes_file_path)\n",
    "\n",
    "# Create a dictionary mapping Equivalent_Fuels to Dispaset_Technology\n",
    "equivalent_CHPTypes_dict = dict(zip(equivalent_CHPTypes_df['Equivalent_CHPType'], equivalent_CHPTypes_df['Dispaset_CHPType']))\n",
    "\n",
    "# Create a list to store rows not found in the second file or with \"yes\" value\n",
    "not_defined_units = []\n",
    "\n",
    "# Iterate over each value in the 'CHPType' column of the clean data file\n",
    "for index, CHPType in enumerate(clean_data_df['CHPType']):\n",
    "  # Check if the CHPType exists in the equivalent CHPType dictionary\n",
    "  if CHPType in equivalent_CHPTypes_dict:\n",
    "    # Check for \"yes\" value before updating CHPType\n",
    "    if CHPType == \"yes\":\n",
    "      # If \"yes\", append the entire row to the list of not defined units\n",
    "      not_defined_units.append(clean_data_df.iloc[index])\n",
    "      clean_data_df.at[index, 'CHPType'] = equivalent_CHPTypes_dict[CHPType]\n",
    "    else:\n",
    "      clean_data_df.at[index, 'CHPType'] = equivalent_CHPTypes_dict[CHPType]\n",
    "  #else:\n",
    "    # Handle cases where CHPType is not found in the dictionary\n",
    "    # ... (consider appending the row to not_defined_units or other actions)\n",
    "    #not_defined_units.append(clean_data_df.iloc[index])\n",
    "\n",
    "# Save not defined units (only if there are any)\n",
    "if not_defined_units:\n",
    "    # Create DataFrame and save only if there are rows\n",
    "    not_defined_df = pd.DataFrame(not_defined_units)\n",
    "    not_defined_df.to_csv(power_plants_all_data_not_defined_units_file_path, mode='a', header=False, index=False)\n",
    "    print(\"Rows appended to\", power_plants_all_data_not_defined_units_file_path)\n",
    "else:\n",
    "    print(\"No rows to save. Skipping writing to\", power_plants_all_data_not_defined_units_file_path)\n",
    "\n",
    "# Comment out or modify the following lines if not needed\n",
    "# # Remove rows not found in the second file from the clean data file (optional)\n",
    "# #clean_data_df = clean_data_df[~clean_data_df['Fuel'].isin(not_defined_df['Fuel'])]  # Adjust column names if needed\n",
    "\n",
    "# Save the updated clean data file (optional)\n",
    "clean_data_df.to_csv(power_plants_clean_data_file_path, index=False)"
   ]
  },
  {
   "cell_type": "markdown",
   "id": "cb3b2622-1431-4fa7-b47a-2df2d13b5c79",
   "metadata": {},
   "source": [
    "- verifiyng variables\n",
    "\n",
    "  This cells are just to confirm all the file names, file paths and other information related to the data being processed.\n",
    "  Also are used to ensure the inputs for next cells in order to avoid to re-enter the same information each time."
   ]
  },
  {
   "cell_type": "code",
   "execution_count": 34,
   "id": "ea8add0a-6af2-4b16-9774-eaa7b92d7963",
   "metadata": {},
   "outputs": [
    {
     "name": "stdout",
     "output_type": "stream",
     "text": [
      "zone_folder_name: DE\n",
      "zone_folder_path: /home/ray/Dispa-SET_Unleash/RawData/PowerPlants\n",
      "power_plants_raw_data_folder_path: /home/ray/Dispa-SET_Unleash/RawData/PowerPlants/DE\n",
      "power_plants_raw_data_file_name: 2020-01.csv\n",
      "power_plants_raw_data_download_link: https://data.open-power-system-data.org/conventional_power_plants/2020-10-01/conventional_power_plants_EU.csv\n",
      "power_plants_raw_data_file_path: /home/ray/Dispa-SET_Unleash/RawData/PowerPlants/DE/2020-01.csv\n",
      "power_plants_raw_data_download_link_sources_file_name: power_plants_raw_data_download_link_sources.csv\n",
      "power_plants_raw_data_download_link_sources_folder_path: /home/ray/Dispa-SET_Unleash/RawData/PowerPlants\n",
      "power_plants_clean_data_file_name: 2020.csv\n",
      "power_plants_clean_data_folder_path: /home/ray/Dispa-SET_Unleash/RawData/PowerPlants/DE\n",
      "power_plants_clean_data_file_path: /home/ray/Dispa-SET_Unleash/RawData/PowerPlants/DE/2020.csv\n",
      "power_plants_clean_data_equivalent_headers_file_name: power_plants_clean_data_equivalent_headers.csv\n",
      "power_plants_clean_data_equivalent_headers_file_path: /home/ray/Dispa-SET_Unleash/RawData/PowerPlants/power_plants_clean_data_equivalent_headers.csv\n",
      "power_plants_all_data_equivalent_technologies_file_name: power_plants_all_data_equivalent_technologies.csv\n",
      "power_plants_all_data_equivalent_technologies_file_path: /home/ray/Dispa-SET_Unleash/RawData/PowerPlants/power_plants_all_data_equivalent_technologies.csv\n",
      "power_plants_all_data_not_defined_units_file_name: power_plants_all_data_not_defined_units.csv\n",
      "power_plants_all_data_not_defined_units_file_path: /home/ray/Dispa-SET_Unleash/RawData/PowerPlants/power_plants_all_data_not_defined_units.csv\n",
      "power_plants_all_data_equivalent_fuels_file_name power_plants_all_data_equivalent_fuels.csv\n",
      "power_plants_all_data_equivalent_fuels_file_path /home/ray/Dispa-SET_Unleash/RawData/PowerPlants/power_plants_all_data_equivalent_fuels.csv\n",
      "power_plants_all_data_equivalent_CHPTypes_file_name power_plants_all_data_equivalent_CHPTypes.csv\n",
      "power_plants_all_data_equivalent_CHPTypes_file_path /home/ray/Dispa-SET_Unleash/RawData/PowerPlants/power_plants_all_data_equivalent_CHPTypes.csv\n"
     ]
    }
   ],
   "source": [
    "print (f\"zone_folder_name: {zone_folder_name}\\nzone_folder_path: {zone_folder_path}\\npower_plants_raw_data_folder_path: {power_plants_raw_data_folder_path}\\npower_plants_raw_data_file_name: {power_plants_raw_data_file_name}\\npower_plants_raw_data_download_link: {power_plants_raw_data_download_link}\\npower_plants_raw_data_file_path: {power_plants_raw_data_file_path}\\npower_plants_raw_data_download_link_sources_file_name: {power_plants_raw_data_download_link_sources_file_name}\\npower_plants_raw_data_download_link_sources_folder_path: {power_plants_raw_data_download_link_sources_folder_path}\\npower_plants_clean_data_file_name: {power_plants_clean_data_file_name}\\npower_plants_clean_data_folder_path: {power_plants_clean_data_folder_path}\\npower_plants_clean_data_file_path: {power_plants_clean_data_file_path}\\npower_plants_clean_data_equivalent_headers_file_name: {power_plants_clean_data_equivalent_headers_file_name}\\npower_plants_clean_data_equivalent_headers_file_path: {power_plants_clean_data_equivalent_headers_file_path}\\npower_plants_all_data_equivalent_technologies_file_name: {power_plants_all_data_equivalent_technologies_file_name}\\npower_plants_all_data_equivalent_technologies_file_path: {power_plants_all_data_equivalent_technologies_file_path}\\npower_plants_all_data_not_defined_units_file_name: {power_plants_all_data_not_defined_units_file_name}\\npower_plants_all_data_not_defined_units_file_path: {power_plants_all_data_not_defined_units_file_path}\\npower_plants_all_data_equivalent_fuels_file_name {power_plants_all_data_equivalent_fuels_file_name}\\npower_plants_all_data_equivalent_fuels_file_path {power_plants_all_data_equivalent_fuels_file_path}\\npower_plants_all_data_equivalent_CHPTypes_file_name {power_plants_all_data_equivalent_CHPTypes_file_name}\\npower_plants_all_data_equivalent_CHPTypes_file_path {power_plants_all_data_equivalent_CHPTypes_file_path}\")"
   ]
  },
  {
   "cell_type": "markdown",
   "id": "b6e0e341-8e6a-4d3a-93ff-9b1d8d287433",
   "metadata": {},
   "source": [
    "3.10. Power Capacity filter\n",
    "\n",
    "    This part erase all the units with the Power Capacity field empty or zero value."
   ]
  },
  {
   "cell_type": "code",
   "execution_count": 35,
   "id": "73e18c6c-91da-4ce5-ad8c-1527fe8e8cb4",
   "metadata": {},
   "outputs": [],
   "source": [
    "import pandas as pd\n",
    "\n",
    "def copy_and_remove_rows_with_empty_or_zero(input_file_path, column_name, destination_file_path):\n",
    "    try:\n",
    "        # Read the CSV file\n",
    "        df = pd.read_csv(input_file_path)\n",
    "    except FileNotFoundError:\n",
    "        print(\"Input file not found.\")\n",
    "        return\n",
    "\n",
    "    # Filter rows with empty or zero cells in the selected column\n",
    "    rows_to_copy = df[df[column_name].isna() | (df[column_name] == 0)]\n",
    "\n",
    "    # Write filtered rows to the destination file\n",
    "    with open(destination_file_path, 'a') as file:\n",
    "        for index, row in rows_to_copy.iterrows():\n",
    "            file.write(','.join(map(str, row.tolist())) + '\\n')\n",
    "\n",
    "    # Remove filtered rows from the source DataFrame\n",
    "    df = df[~df[column_name].isna()]\n",
    "    df = df[df[column_name] != 0]\n",
    "\n",
    "    # Overwrite the source CSV file without the removed rows\n",
    "    df.to_csv(input_file_path, index=False)\n",
    "\n",
    "# Example usage:\n",
    "input_file_path = power_plants_clean_data_file_path\n",
    "column_name = \"PowerCapacity\"\n",
    "destination_file_path = power_plants_all_data_not_defined_units_file_path\n",
    "\n",
    "copy_and_remove_rows_with_empty_or_zero(input_file_path, column_name, destination_file_path)\n"
   ]
  },
  {
   "cell_type": "markdown",
   "id": "a416bbfb-0584-47dd-92aa-021bba4586c2",
   "metadata": {},
   "source": [
    "3.11. Effieciency Field"
   ]
  },
  {
   "cell_type": "markdown",
   "id": "a508ed96-f5cb-4289-91d1-20292f518d96",
   "metadata": {},
   "source": [
    "    This part copy the closer value of the Efficiency technical feauture from the already agregated data base using the notebook: EU_Power_Plant_Technical_Data_Base_Gathering.ipynb sellecting in base on the Technology, the fuel and the PowerCapacity features"
   ]
  },
  {
   "cell_type": "code",
   "execution_count": 36,
   "id": "e00d10c1-973b-4940-9f40-b3000eadcb78",
   "metadata": {},
   "outputs": [],
   "source": [
    "EU_Power_Units_Technical_Features_File_name = 'EU_Power_Units_Technical_Features.csv'\n",
    "EU_Power_Units_Technical_Features_File_path = '/home/ray/Dispa-SET_Unleash/RawData/PowerPlants/Dictionaries/EU_Power_Units_Technical_Features/EU_Power_Units_Technical_Features.csv'"
   ]
  },
  {
   "cell_type": "code",
   "execution_count": 37,
   "id": "7f400808-eac9-443f-8dc0-3d123716ed46",
   "metadata": {},
   "outputs": [],
   "source": [
    "import pandas as pd\n",
    "\n",
    "def copy_efficiency_values(first_file_path, second_file_path, common_columns):\n",
    "    # Read CSV files into DataFrames\n",
    "    first_df = pd.read_csv(first_file_path)\n",
    "    second_df = pd.read_csv(second_file_path)\n",
    "\n",
    "    # Iterate over unique values of \"Technology\" in the second file\n",
    "    for technology in second_df['Technology'].unique():\n",
    "        # Filter rows in both files where \"Technology\" matches\n",
    "        first_filtered = first_df[first_df['Technology'] == technology]\n",
    "        second_filtered = second_df[second_df['Technology'] == technology]\n",
    "\n",
    "        # Iterate over unique values of \"Fuel\" in the second file\n",
    "        for fuel in second_filtered['Fuel'].unique():\n",
    "            # Filter rows with matching \"Fuel\" in both files\n",
    "            first_fuel_filtered = first_filtered[first_filtered['Fuel'] == fuel]\n",
    "            second_fuel_filtered = second_filtered[second_filtered['Fuel'] == fuel]\n",
    "\n",
    "            # Iterate over rows in the second file\n",
    "            for index, second_row in second_fuel_filtered.iterrows():\n",
    "                # Find the row in the first file with the closest \"PowerCapacity\" value\n",
    "                closest_row = first_fuel_filtered.iloc[(first_fuel_filtered['PowerCapacity'] - second_row['PowerCapacity']).abs().argsort()[:1]]\n",
    "\n",
    "                # Copy \"Efficiency\" value from the first file to the second file\n",
    "                if not closest_row.empty:\n",
    "                    second_df.at[index, 'Efficiency'] = closest_row['Efficiency'].values[0]\n",
    "\n",
    "    # Write updated DataFrame to the second file\n",
    "    second_df.to_csv(second_file_path, index=False)\n",
    "\n",
    "# Example usage:\n",
    "Power_Units_Technical_Features_File_path = '/home/ray/Dispa-SET_Unleash/RawData/PowerPlants/Dictionaries/EU_Power_Units_Technical_Features/EU_Power_Units_Technical_Features.csv'\n",
    "power_plants_clean_data_file_path = '/home/ray/Dispa-SET_Unleash/RawData/PowerPlants/DE/2020.csv'\n",
    "common_columns = ['PowerCapacity', 'Technology', 'Fuel', 'Efficiency']\n",
    "\n",
    "copy_efficiency_values(Power_Units_Technical_Features_File_path, power_plants_clean_data_file_path, common_columns)\n"
   ]
  },
  {
   "cell_type": "markdown",
   "id": "94f8630a-9e9d-4133-a773-2e89527276f8",
   "metadata": {},
   "source": [
    "    Setting with the value of 1 to all those units which no Efficiecy data was found.    "
   ]
  },
  {
   "cell_type": "code",
   "execution_count": 39,
   "id": "e9b5c7c1-6822-4c53-9387-f08f66bb1c0c",
   "metadata": {},
   "outputs": [],
   "source": [
    "import pandas as pd\n",
    "\n",
    "def fill_empty_efficiency_with_one(file_path):\n",
    "    try:\n",
    "        # Read the CSV file into a DataFrame\n",
    "        df = pd.read_csv(file_path)\n",
    "    except FileNotFoundError:\n",
    "        print(\"File not found.\")\n",
    "        return\n",
    "\n",
    "    # Replace empty cells in the \"Efficiency\" column with 1\n",
    "    df['Efficiency'].fillna(1, inplace=True)\n",
    "\n",
    "    # Write the updated DataFrame back to the CSV file\n",
    "    df.to_csv(file_path, index=False)\n",
    "\n",
    "# Example usage:\n",
    "fill_empty_efficiency_with_one(power_plants_clean_data_file_path)"
   ]
  },
  {
   "cell_type": "markdown",
   "id": "fc041b6a-fc7f-4d98-ac54-234459ddc203",
   "metadata": {},
   "source": [
    "- verifiyng variables\n",
    "\n",
    "  This cells are just to confirm all the file names, file paths and other information related to the data being processed.\n",
    "  Also are used to ensure the inputs for next cells in order to avoid to re-enter the same information each time."
   ]
  },
  {
   "cell_type": "code",
   "execution_count": 40,
   "id": "8c62c324-2a83-4485-8d30-f0998e2dda19",
   "metadata": {},
   "outputs": [
    {
     "name": "stdout",
     "output_type": "stream",
     "text": [
      "zone_folder_name: DE\n",
      "zone_folder_path: /home/ray/Dispa-SET_Unleash/RawData/PowerPlants\n",
      "power_plants_raw_data_folder_path: /home/ray/Dispa-SET_Unleash/RawData/PowerPlants/DE\n",
      "power_plants_raw_data_file_name: 2020-01.csv\n",
      "power_plants_raw_data_download_link: https://data.open-power-system-data.org/conventional_power_plants/2020-10-01/conventional_power_plants_EU.csv\n",
      "power_plants_raw_data_file_path: /home/ray/Dispa-SET_Unleash/RawData/PowerPlants/DE/2020-01.csv\n",
      "power_plants_raw_data_download_link_sources_file_name: power_plants_raw_data_download_link_sources.csv\n",
      "power_plants_raw_data_download_link_sources_folder_path: /home/ray/Dispa-SET_Unleash/RawData/PowerPlants\n",
      "power_plants_clean_data_file_name: 2020.csv\n",
      "power_plants_clean_data_folder_path: /home/ray/Dispa-SET_Unleash/RawData/PowerPlants/DE\n",
      "power_plants_clean_data_file_path: /home/ray/Dispa-SET_Unleash/RawData/PowerPlants/DE/2020.csv\n",
      "power_plants_clean_data_equivalent_headers_file_name: power_plants_clean_data_equivalent_headers.csv\n",
      "power_plants_clean_data_equivalent_headers_file_path: /home/ray/Dispa-SET_Unleash/RawData/PowerPlants/power_plants_clean_data_equivalent_headers.csv\n",
      "power_plants_all_data_equivalent_technologies_file_name: power_plants_all_data_equivalent_technologies.csv\n",
      "power_plants_all_data_equivalent_technologies_file_path: /home/ray/Dispa-SET_Unleash/RawData/PowerPlants/power_plants_all_data_equivalent_technologies.csv\n",
      "power_plants_all_data_not_defined_units_file_name: power_plants_all_data_not_defined_units.csv\n",
      "power_plants_all_data_not_defined_units_file_path: /home/ray/Dispa-SET_Unleash/RawData/PowerPlants/power_plants_all_data_not_defined_units.csv\n",
      "power_plants_all_data_equivalent_fuels_file_name: power_plants_all_data_equivalent_fuels.csv\n",
      "power_plants_all_data_equivalent_fuels_file_path: /home/ray/Dispa-SET_Unleash/RawData/PowerPlants/power_plants_all_data_equivalent_fuels.csv\n",
      "power_plants_all_data_equivalent_CHPTypes_file_name: power_plants_all_data_equivalent_CHPTypes.csv\n",
      "power_plants_all_data_equivalent_CHPTypes_file_path: /home/ray/Dispa-SET_Unleash/RawData/PowerPlants/power_plants_all_data_equivalent_CHPTypes.csv\n",
      "EU_Power_Units_Technical_Features_File_name: EU_Power_Units_Technical_Features.csv\n",
      "EU_Power_Units_Technical_Features_File_path: /home/ray/Dispa-SET_Unleash/RawData/PowerPlants/Dictionaries/EU_Power_Units_Technical_Features/EU_Power_Units_Technical_Features.csv\n"
     ]
    }
   ],
   "source": [
    "print (f\"zone_folder_name: {zone_folder_name}\\nzone_folder_path: {zone_folder_path}\\npower_plants_raw_data_folder_path: {power_plants_raw_data_folder_path}\\npower_plants_raw_data_file_name: {power_plants_raw_data_file_name}\\npower_plants_raw_data_download_link: {power_plants_raw_data_download_link}\\npower_plants_raw_data_file_path: {power_plants_raw_data_file_path}\\npower_plants_raw_data_download_link_sources_file_name: {power_plants_raw_data_download_link_sources_file_name}\\npower_plants_raw_data_download_link_sources_folder_path: {power_plants_raw_data_download_link_sources_folder_path}\\npower_plants_clean_data_file_name: {power_plants_clean_data_file_name}\\npower_plants_clean_data_folder_path: {power_plants_clean_data_folder_path}\\npower_plants_clean_data_file_path: {power_plants_clean_data_file_path}\\npower_plants_clean_data_equivalent_headers_file_name: {power_plants_clean_data_equivalent_headers_file_name}\\npower_plants_clean_data_equivalent_headers_file_path: {power_plants_clean_data_equivalent_headers_file_path}\\npower_plants_all_data_equivalent_technologies_file_name: {power_plants_all_data_equivalent_technologies_file_name}\\npower_plants_all_data_equivalent_technologies_file_path: {power_plants_all_data_equivalent_technologies_file_path}\\npower_plants_all_data_not_defined_units_file_name: {power_plants_all_data_not_defined_units_file_name}\\npower_plants_all_data_not_defined_units_file_path: {power_plants_all_data_not_defined_units_file_path}\\npower_plants_all_data_equivalent_fuels_file_name: {power_plants_all_data_equivalent_fuels_file_name}\\npower_plants_all_data_equivalent_fuels_file_path: {power_plants_all_data_equivalent_fuels_file_path}\\npower_plants_all_data_equivalent_CHPTypes_file_name: {power_plants_all_data_equivalent_CHPTypes_file_name}\\npower_plants_all_data_equivalent_CHPTypes_file_path: {power_plants_all_data_equivalent_CHPTypes_file_path}\\nEU_Power_Units_Technical_Features_File_name: {EU_Power_Units_Technical_Features_File_name}\\nEU_Power_Units_Technical_Features_File_path: {EU_Power_Units_Technical_Features_File_path}\")"
   ]
  },
  {
   "cell_type": "code",
   "execution_count": null,
   "id": "160a0f8f-1bc9-4bd1-b9be-1c37700c1477",
   "metadata": {},
   "outputs": [],
   "source": []
  },
  {
   "cell_type": "markdown",
   "id": "3ac5dd9c-37cf-4e50-a223-e60b413d60b3",
   "metadata": {},
   "source": [
    "3.12. MinUpTime Field"
   ]
  },
  {
   "cell_type": "markdown",
   "id": "5ab157ed-1160-4dbb-911d-aa9a076219f6",
   "metadata": {},
   "source": [
    "3.13. MinDownTime RampUpRate"
   ]
  },
  {
   "cell_type": "markdown",
   "id": "c9949cfb-2e42-4179-bc6c-03f34af564f8",
   "metadata": {},
   "source": [
    "3.14. RampUpRate Field"
   ]
  },
  {
   "cell_type": "markdown",
   "id": "658f45cd-a678-4cc2-89fc-aee544831f0b",
   "metadata": {},
   "source": [
    "3.15. RampDownRate Field"
   ]
  },
  {
   "cell_type": "markdown",
   "id": "411dba73-cec0-478f-80c4-ef3313c0a3b9",
   "metadata": {},
   "source": [
    "3.16. StartUpCost Field"
   ]
  },
  {
   "cell_type": "markdown",
   "id": "41e9c1aa-f924-453b-8be2-69846dcbb2fe",
   "metadata": {},
   "source": [
    "3.17. NoLoadCost_pu Field"
   ]
  },
  {
   "cell_type": "markdown",
   "id": "df0fc198-05e7-4be7-aa22-2f8b1538ffac",
   "metadata": {},
   "source": [
    "3.18. RampingCost Field"
   ]
  },
  {
   "cell_type": "markdown",
   "id": "c987a9bc-e93c-4e08-8086-f3750f5781c3",
   "metadata": {},
   "source": [
    "3.19. PartLoadMin Field"
   ]
  },
  {
   "cell_type": "markdown",
   "id": "afff02fd-6f51-4158-88da-1eb4440ed8cd",
   "metadata": {},
   "source": [
    "3.20. MinEfficiency Field"
   ]
  },
  {
   "cell_type": "markdown",
   "id": "7c843635-dabd-4198-b3cd-0f8c66fe0744",
   "metadata": {},
   "source": [
    "3.14. StartUpTime Field"
   ]
  },
  {
   "cell_type": "markdown",
   "id": "86f58789-8edf-423d-bb84-96bbfe411fcf",
   "metadata": {},
   "source": [
    "3.14. CO2Intensity Field"
   ]
  },
  {
   "cell_type": "markdown",
   "id": "8a170e4a-fd60-43a7-b3b3-21bfa947886d",
   "metadata": {},
   "source": [
    "3.14. RampUpRate Field"
   ]
  },
  {
   "cell_type": "markdown",
   "id": "a961252c-e9e1-46c7-877a-e7d6b5e09b7a",
   "metadata": {},
   "source": [
    "3.14. RampUpRate Field"
   ]
  },
  {
   "cell_type": "code",
   "execution_count": null,
   "id": "2d30183f-2b58-41bb-9c74-48d96c127f35",
   "metadata": {},
   "outputs": [],
   "source": []
  },
  {
   "cell_type": "code",
   "execution_count": null,
   "id": "072c2a52-8e16-4c4e-bfde-1bf33e47d9ba",
   "metadata": {},
   "outputs": [],
   "source": []
  },
  {
   "cell_type": "code",
   "execution_count": null,
   "id": "1d6a668b-94f8-44fc-9feb-7ba7cd3b9b65",
   "metadata": {},
   "outputs": [],
   "source": []
  }
 ],
 "metadata": {
  "kernelspec": {
   "display_name": "Python 3 (Spyder)",
   "language": "python3",
   "name": "python3"
  },
  "language_info": {
   "codemirror_mode": {
    "name": "ipython",
    "version": 3
   },
   "file_extension": ".py",
   "mimetype": "text/x-python",
   "name": "python",
   "nbconvert_exporter": "python",
   "pygments_lexer": "ipython3",
   "version": "3.11.7"
  }
 },
 "nbformat": 4,
 "nbformat_minor": 5
}
