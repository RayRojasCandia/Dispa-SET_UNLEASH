{
 "cells": [
  {
   "cell_type": "markdown",
   "id": "9673ddcf-cd4c-4b95-aab5-ab49b5c49514",
   "metadata": {},
   "source": [
    "<div style=\"text-align: center; margin-left: 0em; font-weight: bold; font-size: 20px; font-family: TimesNewRoman;\">\n",
    "    POWER PLANTS DATA PROCESSING - Main Notebook\n",
    "</div>"
   ]
  },
  {
   "cell_type": "markdown",
   "id": "0755a09a-9ba6-4b6b-b0ee-b17760f50078",
   "metadata": {},
   "source": [
    "<div style=\"text-align: left; margin-left: 0em; font-weight: unbold; font-size: 16px; font-family: TimesNewRoman;\">\n",
    "    Each part of the following script was used to proccess the raw data for power plants units of the Dispa-SET_Unleash project.\n",
    "    <br>\n",
    "    Read explanation text cells to follow and understand all the process until final results were got stept by step.\n",
    "</div>"
   ]
  },
  {
   "cell_type": "markdown",
   "id": "8d6a6e6f-51e4-4464-b909-2a18cb89271e",
   "metadata": {},
   "source": [
    "<div style=\"text-align: left; margin-left: 3.0em; font-weight: bold; font-size: 18px; font-family: TimesNewRoman;\">\n",
    "    1. Notebook Set Up\n",
    "</div>"
   ]
  },
  {
   "cell_type": "markdown",
   "id": "92bb156f-0187-4679-acb0-090bdc623675",
   "metadata": {},
   "source": [
    "<div style=\"text-align: left; margin-left: 0.0em; font-weight: unbold; font-size: 16px; font-family: TimesNewRoman;\">\n",
    "    Importing needed libraries\n",
    "</div>"
   ]
  },
  {
   "cell_type": "code",
   "execution_count": 1,
   "id": "124e1ebd-cfd1-40d0-8571-38d1a5997f88",
   "metadata": {},
   "outputs": [],
   "source": [
    "import os\n",
    "import csv\n",
    "from datetime import datetime\n",
    "import requests\n",
    "import pandas as pd\n",
    "from shutil import move"
   ]
  },
  {
   "cell_type": "markdown",
   "id": "61ef78e5-6ee4-4015-acc5-f9843445c668",
   "metadata": {},
   "source": [
    "<div style=\"text-align: left; margin-left: 3.0em; font-weight: bold; font-size: 18px; font-family: TimesNewRoman;\">\n",
    "    2. Dispa-SET_Unleash Folder Path\n",
    "</div>"
   ]
  },
  {
   "cell_type": "markdown",
   "id": "2b4307bb-12f2-4d63-9131-9f3f7b349e4c",
   "metadata": {},
   "source": [
    "<div style=\"text-align: left; margin-left: 0.0em; font-weight: unbold; font-size: 16px; font-family: TimesNewRoman;\">\n",
    "    Determinning dynamically the zone_folder_path based on the location of the \"Dispa-SET_Unleash\" folder relative to the current working directory. \n",
    "<br>\n",
    "    If the \"Dispa-SET_Unleash\" folder is copied to a different machine or location, the dispaSET_unleash_folder_path variable will automatically adjust accordingly.\n",
    "</div>"
   ]
  },
  {
   "cell_type": "code",
   "execution_count": 2,
   "id": "01352aec-0922-4df8-8203-9aa91494e2ef",
   "metadata": {},
   "outputs": [
    {
     "name": "stdout",
     "output_type": "stream",
     "text": [
      "dispaSET_unleash_folder_name: Dispa-SET_Unleash\n",
      "dispaSET_unleash_folder_path: /home/ray/Dispa-SET_Unleash\n"
     ]
    }
   ],
   "source": [
    "# Get the current working directory\n",
    "current_directory = os.getcwd()\n",
    "\n",
    "# Navigate to the parent directory of \"Dispa-SET_Unleash\"\n",
    "dispaSET_unleash_parent_directory = os.path.dirname(current_directory)\n",
    "\n",
    "# Get the path to the \"Dispa-SET_Unleash\" folder\n",
    "dispaSET_unleash_folder_path = os.path.dirname(dispaSET_unleash_parent_directory)\n",
    "\n",
    "# Construct the dispaSET_unleash_folder_name variable\n",
    "dispaSET_unleash_folder_name = os.path.basename(dispaSET_unleash_folder_path)\n",
    "\n",
    "print(\"dispaSET_unleash_folder_name:\", dispaSET_unleash_folder_name)\n",
    "print(\"dispaSET_unleash_folder_path:\", dispaSET_unleash_folder_path)"
   ]
  },
  {
   "cell_type": "markdown",
   "id": "869cd9cd-255a-4670-ab92-d0f810f53670",
   "metadata": {},
   "source": [
    "<div style=\"text-align: left; margin-left: 3.0em; font-weight: bold; font-size: 18px; font-family: TimesNewRoman;\">\n",
    "    3. Zone(s) Creation\n",
    "</div>"
   ]
  },
  {
   "cell_type": "markdown",
   "id": "80ee6216-cd5b-4646-954d-5dfe0bd77c1c",
   "metadata": {},
   "source": [
    "<div style=\"text-align: left; margin-left: 0.0em; font-weight: unbold; font-size: 16px; font-family: TimesNewRoman;\">\n",
    "    Entering the zone name or names (in case of more than one zone wanted to be modelled) to create the folder where all data related to the corresponding zone are going to be storage\n",
    "</div>\n",
    "<div style=\"text-align: left; margin-left: 1.0em; font-weight: unbold; font-size: 14px; font-family: TimesNewRoman;\">\n",
    "    For European country names use the ISO 3166-1 standars i.e. AT, BE, BG, CH.... etc. to give the zone_name.\n",
    "<br>\n",
    "    For non European countries it would rather to call the zone_name with the same word of how it is defined in the data to be downloaded and processed. e.g. \n",
    "</div>\n",
    "    <div style=\"text-align: left; margin-left: 2.00em; font-weight: unbold; font-size: 14px; font-family: TimesNewRoman;\">\n",
    "        If it is downloading a csv file with all power plants of Spain but just the units fo Pamplona city are wanted, and in the corresponding donwloaded file, Pamplona is refering with the acronim \"PMPLN\"; set the zone_name variable with the word \"PMPLN\".\n",
    "</div>"
   ]
  },
  {
   "cell_type": "code",
   "execution_count": 3,
   "id": "7e6805cf-9138-445d-abfd-17af3532a341",
   "metadata": {},
   "outputs": [],
   "source": [
    "# List of folder names to create\n",
    "zone_names = [\"DE\", \n",
    "              \"DK\", \n",
    "              \"CH\",\n",
    "              \"BE\"]"
   ]
  },
  {
   "cell_type": "code",
   "execution_count": 4,
   "id": "42dc50eb-dbbe-46e2-878c-94249e2e2d68",
   "metadata": {},
   "outputs": [
    {
     "name": "stdout",
     "output_type": "stream",
     "text": [
      "power_plants_raw_data_folder_path: /home/ray/Dispa-SET_Unleash/RawData/PowerPlants/\n",
      "Created zone: /home/ray/Dispa-SET_Unleash/RawData/PowerPlants/DE\n",
      "Created zone: /home/ray/Dispa-SET_Unleash/RawData/PowerPlants/DK\n",
      "Created zone: /home/ray/Dispa-SET_Unleash/RawData/PowerPlants/CH\n",
      "Created zone: /home/ray/Dispa-SET_Unleash/RawData/PowerPlants/BE\n",
      "Created zones:\n",
      "DE: /home/ray/Dispa-SET_Unleash/RawData/PowerPlants/DE\n",
      "DK: /home/ray/Dispa-SET_Unleash/RawData/PowerPlants/DK\n",
      "CH: /home/ray/Dispa-SET_Unleash/RawData/PowerPlants/CH\n",
      "BE: /home/ray/Dispa-SET_Unleash/RawData/PowerPlants/BE\n"
     ]
    },
    {
     "data": {
      "text/plain": [
       "{'DE': '/home/ray/Dispa-SET_Unleash/RawData/PowerPlants/DE',\n",
       " 'DK': '/home/ray/Dispa-SET_Unleash/RawData/PowerPlants/DK',\n",
       " 'CH': '/home/ray/Dispa-SET_Unleash/RawData/PowerPlants/CH',\n",
       " 'BE': '/home/ray/Dispa-SET_Unleash/RawData/PowerPlants/BE'}"
      ]
     },
     "execution_count": 4,
     "metadata": {},
     "output_type": "execute_result"
    }
   ],
   "source": [
    "# Original value of dispaSET_unleash_folder_path\n",
    "#dispaSET_unleash_folder_path = \"/home/ray/Dispa-SET_Unleash\"\n",
    "\n",
    "# Additional string to be appended\n",
    "additional_path = \"/RawData/PowerPlants/\"\n",
    "\n",
    "# Construct the power_plants_raw_data_folder_path variable\n",
    "power_plants_raw_data_folder_path = dispaSET_unleash_folder_path + additional_path\n",
    "print(\"power_plants_raw_data_folder_path:\", power_plants_raw_data_folder_path)\n",
    "\n",
    "# Dictionary to store created zone paths\n",
    "created_zones = {}\n",
    "\n",
    "# Create the zone\n",
    "for zone_name in zone_names:\n",
    "    zone_path = os.path.join(power_plants_raw_data_folder_path, zone_name)\n",
    "    os.makedirs(zone_path, exist_ok=True)\n",
    "    created_zones[zone_name] = zone_path\n",
    "    print(f\"Created zone: {zone_path}\")\n",
    "\n",
    "# Print the created zone paths\n",
    "print(\"Created zones:\")\n",
    "for zone_name, zone_path in created_zones.items():\n",
    "    print(f\"{zone_name}: {zone_path}\")\n",
    "    \n",
    "created_zones"
   ]
  },
  {
   "cell_type": "markdown",
   "id": "164c72ac-b9ce-4476-90af-83967ca3bfe7",
   "metadata": {},
   "source": [
    "<div style=\"text-align: right; margin-left: 3.0em; font-weight: unbold; font-size: 14px; font-family: TimesNewRoman;\">\n",
    "    Tracking Variables. \n",
    "    <br>\n",
    "    <div style=\"text-align: right; margin-left: 1.50em; font-weight: unbold; font-size: 13px; font-family: TimesNewRoman;\">\n",
    "    This cells are just to confirm all the file names, file paths and other information related to the data being processed.\n",
    "    <br>\n",
    "  Also are used to ensure the inputs for next cells in order to avoid to re-enter the same information each time.\n",
    "</div>"
   ]
  },
  {
   "cell_type": "code",
   "execution_count": 5,
   "id": "8cc6e9cc-0d2a-4c82-91c8-745bc5a9aafe",
   "metadata": {},
   "outputs": [
    {
     "name": "stdout",
     "output_type": "stream",
     "text": [
      "dispaSET_unleash_folder_name: Dispa-SET_Unleash\n",
      "dispaSET_unleash_folder_path: /home/ray/Dispa-SET_Unleash\n",
      "power_plants_raw_data_folder_path: /home/ray/Dispa-SET_Unleash/RawData/PowerPlants/\n",
      "zone_names: ['DE', 'DK', 'CH', 'BE']\n",
      "created_zones: {'DE': '/home/ray/Dispa-SET_Unleash/RawData/PowerPlants/DE', 'DK': '/home/ray/Dispa-SET_Unleash/RawData/PowerPlants/DK', 'CH': '/home/ray/Dispa-SET_Unleash/RawData/PowerPlants/CH', 'BE': '/home/ray/Dispa-SET_Unleash/RawData/PowerPlants/BE'}\n"
     ]
    }
   ],
   "source": [
    "print (f\"dispaSET_unleash_folder_name: {dispaSET_unleash_folder_name}\")\n",
    "print (f\"dispaSET_unleash_folder_path: {dispaSET_unleash_folder_path}\")\n",
    "print (f\"power_plants_raw_data_folder_path: {power_plants_raw_data_folder_path}\")\n",
    "print (f\"zone_names: {zone_names}\")\n",
    "print (f\"created_zones: {created_zones}\")"
   ]
  },
  {
   "cell_type": "markdown",
   "id": "2b9d5364-f18b-420e-9634-b2ee4d109781",
   "metadata": {},
   "source": [
    "<div style=\"text-align: left; margin-left: 3.0em; font-weight: bold; font-size: 18px; font-family: TimesNewRoman;\">\n",
    "    4. Download Link Sources\n",
    "</div>"
   ]
  },
  {
   "cell_type": "markdown",
   "id": "65c323d8-ad26-477e-b9a6-a623dac42cca",
   "metadata": {},
   "source": [
    "<div style=\"text-align: left; margin-left: 0.0em; font-weight: unbold; font-size: 16px; font-family: TimesNewRoman;\">\n",
    "    Entering the all the download links of where the raw data is content.\n",
    "    <br>\n",
    "        That list is going to be saved to be used as input for next stages.\n",
    "      <br>\n",
    "</div>\n",
    "    <div style=\"text-align: left; margin-left: 1.0em; font-weight: unbold; font-size: 14px; font-family: TimesNewRoman;\">\n",
    "        Notice that to process the data all the links has to download .csv files.\n",
    "</div>\n",
    "    <div style=\"text-align: left; margin-left: 0.0em; font-weight: unbold; font-size: 16px; font-family: TimesNewRoman;\">\n",
    "    In the other hand, it is important to define which zone is refering the download link sources.\n",
    "</div>\n",
    "    <div style=\"text-align: left; margin-left: 1.0em; font-weight: unbold; font-size: 14px; font-family: TimesNewRoman;\">\n",
    "    If all the downloaded file contents data that belongs to only one zone, epecify it in the variable download_links_zone_related applying the same order than the variable download_links.\n",
    "    <br>\n",
    "    If the downloaded file contents data that refers different zones at the same time, specify it with the word \"General\" in the variable download_links_zone_related using the same order than the variable download_links.\n",
    "</div>\n",
    "    <div style=\"text-align: left; margin-left: 1.0em; font-weight: unbold; font-size: 13px; font-family: TimesNewRoman;\">\n",
    "    Remember that the next filtering stages depend on the correct setting of this step.\n",
    "\n",
    "    <div style=\"text-align: left; margin-left: -2.0em; font-weight: unbold; font-size: 16px; font-family: TimesNewRoman;\">\n",
    "    Additionally indicate the year of all data is referring to.\n",
    "    <br>\n",
    "    <div style=\"text-align: left; margin-left: 1.0em; font-weight: unbold; font-size: 14px; font-family: TimesNewRoman;\">\n",
    "    This is going to be used as the name root under which all next files are going to be created.\n",
    "</div>"
   ]
  },
  {
   "cell_type": "code",
   "execution_count": 6,
   "id": "26f91f27-5f40-472e-b099-e61c224daa8d",
   "metadata": {},
   "outputs": [],
   "source": [
    "# List of the download links:\n",
    "download_links = [\n",
    "    'https://data.open-power-system-data.org/conventional_power_plants/2020-10-01/conventional_power_plants_EU.csv',\n",
    "    'https://data.open-power-system-data.org/renewable_power_plants/2020-08-25/renewable_power_plants_DE.csv',\n",
    "    'https://data.open-power-system-data.org/renewable_power_plants/2020-08-25/renewable_power_plants_DK.csv',\n",
    "    'https://data.open-power-system-data.org/renewable_power_plants/2020-08-25/renewable_power_plants_CH.csv',\n",
    "    'https://opendata.elia.be/api/explore/v2.1/catalog/datasets/ods036/exports/csv?lang=en&timezone=Europe%2FBrussels&use_labels=true&delimiter=%3B'\n",
    "]"
   ]
  },
  {
   "cell_type": "code",
   "execution_count": 7,
   "id": "c431ed5d-3b8a-4914-a379-ad28a0406bcf",
   "metadata": {},
   "outputs": [],
   "source": [
    "# List of zones related to the download links:\n",
    "download_links_zone_related = [\n",
    "    'General',\n",
    "    'DE',\n",
    "    'DK',\n",
    "    'CH',\n",
    "    'BE'\n",
    "]"
   ]
  },
  {
   "cell_type": "code",
   "execution_count": 8,
   "id": "f9dad09d-7a34-46ca-afd8-3d5392ccdcdd",
   "metadata": {},
   "outputs": [],
   "source": [
    "# Year to which data refers to:\n",
    "data_year = '2020'"
   ]
  },
  {
   "cell_type": "code",
   "execution_count": 9,
   "id": "0cd4f487-2c59-4c46-bc9c-5122f296e55f",
   "metadata": {},
   "outputs": [
    {
     "name": "stdout",
     "output_type": "stream",
     "text": [
      "Download links saved to: /home/ray/Dispa-SET_Unleash/RawData/PowerPlants/2020_power_plants_raw_data_sources_20240406_184203/2020_power_plants_raw_data_sources_20240406_184203.csv\n",
      "File path: /home/ray/Dispa-SET_Unleash/RawData/PowerPlants/2020_power_plants_raw_data_sources_20240406_184203/2020_power_plants_raw_data_sources_20240406_184203.csv\n",
      "File name: 2020_power_plants_raw_data_sources_20240406_184203.csv\n"
     ]
    }
   ],
   "source": [
    "def save_download_links_to_csv(links, zones, folder_path, data_year):\n",
    "    # Create the filename using the data year, current date, and time\n",
    "    now = datetime.now()\n",
    "    timestamp = now.strftime(\"%Y%m%d_%H%M%S\")\n",
    "    file_name = f\"{data_year}_power_plants_raw_data_sources_{timestamp}.csv\"\n",
    "    \n",
    "    # Create a folder with the same name as the file (without extension)\n",
    "    folder_name = os.path.splitext(file_name)[0]\n",
    "    folder_path = os.path.join(folder_path, folder_name)\n",
    "    os.makedirs(folder_path, exist_ok=True)\n",
    "    \n",
    "    # Combine the folder path and filename\n",
    "    file_path = os.path.join(folder_path, file_name)\n",
    "    \n",
    "    # Write links to CSV file\n",
    "    with open(file_path, 'w', newline='') as csvfile:\n",
    "        writer = csv.writer(csvfile)\n",
    "        \n",
    "        # Write the header\n",
    "        writer.writerow(['Download_Link_Sources', 'Zone', 'File_Name'])\n",
    "        \n",
    "        # Write the links, zones, and file names\n",
    "        for i, (link, zone) in enumerate(zip(links, zones), start=1):\n",
    "            writer.writerow([link, zone, i])\n",
    "    \n",
    "    print(f\"Download links saved to: {file_path}\")\n",
    "    \n",
    "    return file_path, file_name\n",
    "\n",
    "# Save the download links to a CSV file and get the file path and name\n",
    "power_plants_raw_data_sources_file_path, power_plants_raw_data_sources_file_name = save_download_links_to_csv(download_links, download_links_zone_related, power_plants_raw_data_folder_path, data_year)\n",
    "\n",
    "print(\"File path:\", power_plants_raw_data_sources_file_path)\n",
    "print(\"File name:\", power_plants_raw_data_sources_file_name)"
   ]
  },
  {
   "cell_type": "markdown",
   "id": "a81d8108-9537-49f5-8475-0928b96d36b2",
   "metadata": {},
   "source": [
    "<div style=\"text-align: right; margin-left: 3.0em; font-weight: unbold; font-size: 14px; font-family: TimesNewRoman;\">\n",
    "    Tracking Variables. \n",
    "    <br>\n",
    "    <div style=\"text-align: right; margin-left: 1.50em; font-weight: unbold; font-size: 13px; font-family: TimesNewRoman;\">\n",
    "    This cells are just to confirm all the file names, file paths and other information related to the data being processed.\n",
    "    <br>\n",
    "  Also are used to ensure the inputs for next cells in order to avoid to re-enter the same information each time.\n",
    "</div>"
   ]
  },
  {
   "cell_type": "code",
   "execution_count": 10,
   "id": "33b7ddb5-df65-46de-aad3-042b6b0b1cca",
   "metadata": {},
   "outputs": [
    {
     "name": "stdout",
     "output_type": "stream",
     "text": [
      "dispaSET_unleash_folder_name: Dispa-SET_Unleash\n",
      "dispaSET_unleash_folder_path: /home/ray/Dispa-SET_Unleash\n",
      "power_plants_raw_data_folder_path: /home/ray/Dispa-SET_Unleash/RawData/PowerPlants/\n",
      "zone_names: ['DE', 'DK', 'CH', 'BE']\n",
      "created_zones: {'DE': '/home/ray/Dispa-SET_Unleash/RawData/PowerPlants/DE', 'DK': '/home/ray/Dispa-SET_Unleash/RawData/PowerPlants/DK', 'CH': '/home/ray/Dispa-SET_Unleash/RawData/PowerPlants/CH', 'BE': '/home/ray/Dispa-SET_Unleash/RawData/PowerPlants/BE'}\n",
      "power_plants_raw_data_sources_file_path: /home/ray/Dispa-SET_Unleash/RawData/PowerPlants/2020_power_plants_raw_data_sources_20240406_184203/2020_power_plants_raw_data_sources_20240406_184203.csv\n",
      "power_plants_raw_data_sources_file_name: 2020_power_plants_raw_data_sources_20240406_184203.csv\n",
      "data_year: 2020\n",
      "download_links_zone_related: ['General', 'DE', 'DK', 'CH', 'BE']\n"
     ]
    }
   ],
   "source": [
    "print (f\"dispaSET_unleash_folder_name: {dispaSET_unleash_folder_name}\")\n",
    "print (f\"dispaSET_unleash_folder_path: {dispaSET_unleash_folder_path}\")\n",
    "print (f\"power_plants_raw_data_folder_path: {power_plants_raw_data_folder_path}\")\n",
    "print (f\"zone_names: {zone_names}\")\n",
    "print (f\"created_zones: {created_zones}\")\n",
    "print (f\"power_plants_raw_data_sources_file_path: {power_plants_raw_data_sources_file_path}\")\n",
    "print (f\"power_plants_raw_data_sources_file_name: {power_plants_raw_data_sources_file_name}\")\n",
    "print (f\"data_year: {data_year}\")\n",
    "print (f\"download_links_zone_related: {download_links_zone_related}\")"
   ]
  },
  {
   "cell_type": "markdown",
   "id": "8801c12b-f6f9-4fb4-920a-53541fb3bafd",
   "metadata": {},
   "source": [
    "<div style=\"text-align: left; margin-left: 3.0em; font-weight: bold; font-size: 18px; font-family: TimesNewRoman;\">\n",
    "    5. Power Plants Raw Data Download Files\n",
    "</div>"
   ]
  },
  {
   "cell_type": "markdown",
   "id": "0f5b01bd-b83d-4089-a4c9-a01f9033201d",
   "metadata": {},
   "source": [
    "<div style=\"text-align: left; margin-left: 0.0em; font-weight: unbold; font-size: 16px; font-family: TimesNewRoman;\">\n",
    "    Using the download list given previously to download and save all the power units raw data files inside a folder called as is it specified in the variable power_plants raw_data_sources _file_path.\n",
    "    <br>\n",
    "    All the downloaded files are named under the ordering of the download_links list.\n",
    "    <br>\n",
    "    Additionally, as some files use different kind of column delimiters e.g. \",\"; \";\"; \"/\"; etc. the code verifies and changes this to be acceptable for the next steps \n",
    "</div>"
   ]
  },
  {
   "cell_type": "code",
   "execution_count": 11,
   "id": "01b05f2c-6845-4027-99dd-219f9e0c09c2",
   "metadata": {},
   "outputs": [
    {
     "name": "stdout",
     "output_type": "stream",
     "text": [
      "File '1' downloaded and saved successfully.\n",
      "Detected delimiter for file '1': ','\n",
      "Delimiter changed to comma (,) for file '1'.\n",
      "File '2' downloaded and saved successfully.\n",
      "Detected delimiter for file '2': ','\n"
     ]
    },
    {
     "name": "stderr",
     "output_type": "stream",
     "text": [
      "/tmp/ipykernel_278898/2278969654.py:53: DtypeWarning: Columns (14,19) have mixed types. Specify dtype option on import or set low_memory=False.\n",
      "  df = pd.read_csv(file_path, delimiter=delimiter)\n"
     ]
    },
    {
     "name": "stdout",
     "output_type": "stream",
     "text": [
      "Delimiter changed to comma (,) for file '2'.\n",
      "File '3' downloaded and saved successfully.\n",
      "Detected delimiter for file '3': ','\n",
      "Delimiter changed to comma (,) for file '3'.\n",
      "File '4' downloaded and saved successfully.\n",
      "Detected delimiter for file '4': ','\n",
      "Delimiter changed to comma (,) for file '4'.\n",
      "File '5' downloaded and saved successfully.\n",
      "Detected delimiter for file '5': ';'\n",
      "Delimiter changed to comma (,) for file '5'.\n"
     ]
    }
   ],
   "source": [
    "def detect_delimiter(file_path):\n",
    "    \"\"\"\n",
    "    Detects the delimiter used in a CSV file.\n",
    "\n",
    "    Parameters:\n",
    "    - file_path: The path to the CSV file.\n",
    "\n",
    "    Returns:\n",
    "    - The detected delimiter character.\n",
    "    \"\"\"\n",
    "    # Common delimiters to test\n",
    "    delimiters = [',', ';', '\\t']\n",
    "\n",
    "    with open(file_path, 'r', newline='') as file:\n",
    "        # Read the first few lines of the file to detect the delimiter\n",
    "        sample_data = file.read(1024)\n",
    "        for delimiter in delimiters:\n",
    "            if delimiter in sample_data:\n",
    "                return delimiter\n",
    "\n",
    "    # Default to comma if no delimiter is detected\n",
    "    return ','\n",
    "\n",
    "def download_files_from_csv(csv_file_path):\n",
    "    # Create a folder to save downloaded files\n",
    "    download_folder = os.path.dirname(csv_file_path)\n",
    "    \n",
    "    # Open and read the CSV file\n",
    "    with open(csv_file_path, 'r', newline='') as csvfile:\n",
    "        reader = csv.DictReader(csvfile)\n",
    "        \n",
    "        # Iterate over each row\n",
    "        for row in reader:\n",
    "            download_link = row['Download_Link_Sources']\n",
    "            file_name = row['File_Name']\n",
    "            \n",
    "            # Download the file from the URL\n",
    "            response = requests.get(download_link)\n",
    "            \n",
    "            # Check if the request was successful\n",
    "            if response.status_code == 200:\n",
    "                # Save the downloaded file\n",
    "                file_path = os.path.join(download_folder, file_name)\n",
    "                with open(file_path, 'wb') as f:\n",
    "                    f.write(response.content)\n",
    "                print(f\"File '{file_name}' downloaded and saved successfully.\")\n",
    "                \n",
    "                # Detect delimiter\n",
    "                delimiter = detect_delimiter(file_path)\n",
    "                print(f\"Detected delimiter for file '{file_name}': '{delimiter}'\")\n",
    "                \n",
    "                # Change delimiter to comma (,) using pandas\n",
    "                df = pd.read_csv(file_path, delimiter=delimiter)\n",
    "                df.to_csv(file_path, index=False)\n",
    "                print(f\"Delimiter changed to comma (,) for file '{file_name}'.\")\n",
    "            else:\n",
    "                print(f\"Failed to download file from '{download_link}'.\")\n",
    "\n",
    "# Path to the recently created CSV file\n",
    "recently_created_csv_file_path = power_plants_raw_data_sources_file_path\n",
    "\n",
    "# Call the function to download files from the CSV\n",
    "download_files_from_csv(recently_created_csv_file_path)"
   ]
  },
  {
   "cell_type": "markdown",
   "id": "b1628f4f-2a1d-4a15-9711-af79cfcb0712",
   "metadata": {},
   "source": [
    "<div style=\"text-align: left; margin-left: 3.0em; font-weight: bold; font-size: 18px; font-family: TimesNewRoman;\">\n",
    "    6. Zone Classification\n",
    "</div>"
   ]
  },
  {
   "cell_type": "markdown",
   "id": "05b79d84-437d-44a6-a899-dd7ecbd0c9e4",
   "metadata": {},
   "source": [
    "<div style=\"text-align: left; margin-left: 0.0em; font-weight: unbold; font-size: 16px; font-family: TimesNewRoman;\">\n",
    "    Filtering the data contained in each downloaded file accordingly the zone previously specified. \n",
    "</div>"
   ]
  },
  {
   "cell_type": "markdown",
   "id": "7033fab2-fa04-4214-8e54-cabc154238b9",
   "metadata": {},
   "source": [
    "<div style=\"text-align: left; margin-left: 3.0em; font-weight: bold; font-size: 17px; font-family: TimesNewRoman;\">\n",
    "    6.1. Zone Definition\n",
    "</div>"
   ]
  },
  {
   "cell_type": "markdown",
   "id": "e87c451a-82cc-4b5c-8de7-9cf8dff9fe41",
   "metadata": {},
   "source": [
    "<div style=\"text-align: left; margin-left: 0.0em; font-weight: unbold; font-size: 16px; font-family: TimesNewRoman;\">\n",
    "    Adding a new column under the name \"Country\" to each downloaded file which have been relationated with a key Zone in the list download_links_zone_related fulfilled previously\n",
    "    <br>\n",
    "    For all those files that have been set with the key \"General\", it is assumed that so file contains data from various zones, so It will be filtered in a different way.\n",
    "</div>"
   ]
  },
  {
   "cell_type": "code",
   "execution_count": 12,
   "id": "260e6277-71d9-4725-932c-72c55f228ded",
   "metadata": {},
   "outputs": [
    {
     "name": "stdout",
     "output_type": "stream",
     "text": [
      "No action needed for 1\n"
     ]
    },
    {
     "name": "stderr",
     "output_type": "stream",
     "text": [
      "/tmp/ipykernel_278898/2741272193.py:17: DtypeWarning: Columns (14,19) have mixed types. Specify dtype option on import or set low_memory=False.\n",
      "  df_csv = pd.read_csv(csv_file_path)\n"
     ]
    },
    {
     "name": "stdout",
     "output_type": "stream",
     "text": [
      "Added 'Country' column to 2 with value 'DE'\n",
      "Added 'Country' column to 3 with value 'DK'\n",
      "Added 'Country' column to 4 with value 'CH'\n",
      "Added 'Country' column to 5 with value 'BE'\n"
     ]
    }
   ],
   "source": [
    "# Read the CSV file specified in power_plants_raw_data_sources_file_path\n",
    "df_sources = pd.read_csv(power_plants_raw_data_sources_file_path)\n",
    "\n",
    "# Iterate over each row in the DataFrame\n",
    "for index, row in df_sources.iterrows():\n",
    "    file_name = str(row['File_Name'])  # Convert to string\n",
    "    zone = row['Zone']\n",
    "    \n",
    "    # Check if the zone is not \"General\"\n",
    "    if zone != \"General\":\n",
    "        # Construct the path to the corresponding CSV file\n",
    "        csv_file_path = os.path.join(os.path.dirname(power_plants_raw_data_sources_file_path), file_name)\n",
    "        \n",
    "        # Check if the CSV file exists\n",
    "        if os.path.exists(csv_file_path):\n",
    "            # Read the CSV file\n",
    "            df_csv = pd.read_csv(csv_file_path)\n",
    "            \n",
    "            # Add a new column \"Country\" with the value from the \"Zone\" column\n",
    "            df_csv['Country'] = zone\n",
    "            \n",
    "            # Write the updated DataFrame back to the CSV file\n",
    "            df_csv.to_csv(csv_file_path, index=False)\n",
    "            \n",
    "            print(f\"Added 'Country' column to {file_name} with value '{zone}'\")\n",
    "        else:\n",
    "            print(f\"CSV file {file_name} does not exist.\")\n",
    "    else:\n",
    "        print(f\"No action needed for {file_name}\")\n"
   ]
  },
  {
   "cell_type": "markdown",
   "id": "cac2bbe1-e14b-440a-91b8-46f8113406a7",
   "metadata": {},
   "source": [
    "<div style=\"text-align: right; margin-left: 3.0em; font-weight: unbold; font-size: 14px; font-family: TimesNewRoman;\">\n",
    "    Tracking Variables. \n",
    "    <br>\n",
    "    <div style=\"text-align: right; margin-left: 1.50em; font-weight: unbold; font-size: 13px; font-family: TimesNewRoman;\">\n",
    "    This cells are just to confirm all the file names, file paths and other information related to the data being processed.\n",
    "    <br>\n",
    "  Also are used to ensure the inputs for next cells in order to avoid to re-enter the same information each time.\n",
    "</div>"
   ]
  },
  {
   "cell_type": "code",
   "execution_count": 13,
   "id": "bf073512-a22b-444f-a888-b83e46e3da37",
   "metadata": {
    "scrolled": true
   },
   "outputs": [
    {
     "name": "stdout",
     "output_type": "stream",
     "text": [
      "dispaSET_unleash_folder_name: Dispa-SET_Unleash\n",
      "dispaSET_unleash_folder_path: /home/ray/Dispa-SET_Unleash\n",
      "power_plants_raw_data_folder_path: /home/ray/Dispa-SET_Unleash/RawData/PowerPlants/\n",
      "zone_names: ['DE', 'DK', 'CH', 'BE']\n",
      "created_zones: {'DE': '/home/ray/Dispa-SET_Unleash/RawData/PowerPlants/DE', 'DK': '/home/ray/Dispa-SET_Unleash/RawData/PowerPlants/DK', 'CH': '/home/ray/Dispa-SET_Unleash/RawData/PowerPlants/CH', 'BE': '/home/ray/Dispa-SET_Unleash/RawData/PowerPlants/BE'}\n",
      "power_plants_raw_data_sources_file_path: /home/ray/Dispa-SET_Unleash/RawData/PowerPlants/2020_power_plants_raw_data_sources_20240406_184203/2020_power_plants_raw_data_sources_20240406_184203.csv\n",
      "power_plants_raw_data_sources_file_name: 2020_power_plants_raw_data_sources_20240406_184203.csv\n",
      "data_year: 2020\n",
      "download_links_zone_related: ['General', 'DE', 'DK', 'CH', 'BE']\n"
     ]
    }
   ],
   "source": [
    "print (f\"dispaSET_unleash_folder_name: {dispaSET_unleash_folder_name}\")\n",
    "print (f\"dispaSET_unleash_folder_path: {dispaSET_unleash_folder_path}\")\n",
    "print (f\"power_plants_raw_data_folder_path: {power_plants_raw_data_folder_path}\")\n",
    "print (f\"zone_names: {zone_names}\")\n",
    "print (f\"created_zones: {created_zones}\")\n",
    "print (f\"power_plants_raw_data_sources_file_path: {power_plants_raw_data_sources_file_path}\")\n",
    "print (f\"power_plants_raw_data_sources_file_name: {power_plants_raw_data_sources_file_name}\")\n",
    "print (f\"data_year: {data_year}\")\n",
    "print (f\"download_links_zone_related: {download_links_zone_related}\")"
   ]
  },
  {
   "cell_type": "markdown",
   "id": "a17f7261-6553-44a9-bec6-8e6e0d1c5857",
   "metadata": {},
   "source": [
    "<div style=\"text-align: left; margin-left: 3.0em; font-weight: bold; font-size: 17px; font-family: TimesNewRoman;\">\n",
    "    6.2. Raw Data File Zone Classification\n",
    "</div>"
   ]
  },
  {
   "cell_type": "markdown",
   "id": "ef588fdb-0222-49e2-b6e9-ae53b4dea77b",
   "metadata": {},
   "source": [
    "<div style=\"text-align: left; margin-left: 0.0em; font-weight: unbold; font-size: 16px; font-family: TimesNewRoman;\">\n",
    "    Moving each downloaded file to its corresponding folder zone accordinlgy the download_links_zone_related list.\n",
    "    <br>\n",
    "    The files relationed to the key \"General\" just will keep their current location.\n",
    "</div>"
   ]
  },
  {
   "cell_type": "code",
   "execution_count": 14,
   "id": "85f79b72-1a42-4370-b385-0c8a81b829c2",
   "metadata": {},
   "outputs": [
    {
     "name": "stdout",
     "output_type": "stream",
     "text": [
      "No 'Country' header found in file '1'. No action needed.\n"
     ]
    },
    {
     "name": "stderr",
     "output_type": "stream",
     "text": [
      "/tmp/ipykernel_278898/52215435.py:15: DtypeWarning: Columns (14,19) have mixed types. Specify dtype option on import or set low_memory=False.\n",
      "  df_csv = pd.read_csv(file_path)\n"
     ]
    },
    {
     "name": "stdout",
     "output_type": "stream",
     "text": [
      "Moved file '2' to '/home/ray/Dispa-SET_Unleash/RawData/PowerPlants/DE'\n",
      "Moved file '3' to '/home/ray/Dispa-SET_Unleash/RawData/PowerPlants/DK'\n",
      "Moved file '4' to '/home/ray/Dispa-SET_Unleash/RawData/PowerPlants/CH'\n",
      "Moved file '5' to '/home/ray/Dispa-SET_Unleash/RawData/PowerPlants/BE'\n"
     ]
    }
   ],
   "source": [
    "# Read the raw data sources file\n",
    "df_sources = pd.read_csv(power_plants_raw_data_sources_file_path)\n",
    "\n",
    "# Create a new column Final_File_Path\n",
    "df_sources['Final_File_Path'] = ''\n",
    "\n",
    "# Iterate over each row in the DataFrame\n",
    "for index, row in df_sources.iterrows():\n",
    "    file_name = str(row['File_Name'])\n",
    "    file_path = os.path.join(os.path.dirname(power_plants_raw_data_sources_file_path), file_name)\n",
    "    \n",
    "    # Check if the file exists\n",
    "    if os.path.exists(file_path):\n",
    "        # Open and read the file\n",
    "        df_csv = pd.read_csv(file_path)\n",
    "        \n",
    "        # Check if the file has the header 'Country'\n",
    "        if 'Country' in df_csv.columns:\n",
    "            # Get the corresponding value of 'Zone'\n",
    "            zone_value = row['Zone']\n",
    "            \n",
    "            # Check if the zone folder exists\n",
    "            if zone_value in zone_names:\n",
    "                # Construct the destination folder path\n",
    "                destination_folder = os.path.join(power_plants_raw_data_folder_path, zone_value)\n",
    "                \n",
    "                # Move the file to the destination folder\n",
    "                destination_file_path = os.path.join(destination_folder, file_name)\n",
    "                move(file_path, destination_file_path)\n",
    "                print(f\"Moved file '{file_name}' to '{destination_folder}'\")\n",
    "                \n",
    "                # Get the current path of the moved file\n",
    "                final_file_path = os.path.abspath(destination_file_path)\n",
    "                df_sources.at[index, 'Final_File_Path'] = final_file_path\n",
    "            else:\n",
    "                print(f\"Destination folder for zone '{zone_value}' does not exist.\")\n",
    "        else:\n",
    "            print(f\"No 'Country' header found in file '{file_name}'. No action needed.\")\n",
    "    else:\n",
    "        print(f\"File '{file_name}' does not exist.\")\n",
    "        \n",
    "    # If file was not moved, update Final_File_Path with current path\n",
    "    if not df_sources.at[index, 'Final_File_Path']:\n",
    "        df_sources.at[index, 'Final_File_Path'] = os.path.abspath(file_path)\n",
    "\n",
    "# Save the DataFrame back to the CSV file\n",
    "df_sources.to_csv(power_plants_raw_data_sources_file_path, index=False)"
   ]
  },
  {
   "cell_type": "markdown",
   "id": "ad649afd-68a7-49a1-9fdd-e7d040490919",
   "metadata": {},
   "source": [
    "<div style=\"text-align: left; margin-left: 0.0em; font-weight: unbold; font-size: 16px; font-family: TimesNewRoman;\">\n",
    "    Extracting a list of all the path of the power plants raw data files.\n",
    "    <br>\n",
    "    This list is gonna be used as reference for future filtration stepts.\n",
    "</div>"
   ]
  },
  {
   "cell_type": "code",
   "execution_count": 15,
   "id": "7d1ae4dd-a2c5-4d49-bbf8-0176e692dfd1",
   "metadata": {
    "scrolled": true
   },
   "outputs": [
    {
     "name": "stdout",
     "output_type": "stream",
     "text": [
      "['/home/ray/Dispa-SET_Unleash/RawData/PowerPlants/2020_power_plants_raw_data_sources_20240406_184203/1', '/home/ray/Dispa-SET_Unleash/RawData/PowerPlants/DE/2', '/home/ray/Dispa-SET_Unleash/RawData/PowerPlants/DK/3', '/home/ray/Dispa-SET_Unleash/RawData/PowerPlants/CH/4', '/home/ray/Dispa-SET_Unleash/RawData/PowerPlants/BE/5']\n"
     ]
    }
   ],
   "source": [
    "# Read the CSV file\n",
    "df = pd.read_csv(power_plants_raw_data_sources_file_path)\n",
    "\n",
    "# Create the list power_plants_raw_data_file_list\n",
    "power_plants_raw_data_file_list = []\n",
    "\n",
    "# Iterate over each row in the DataFrame\n",
    "for index, row in df.iterrows():\n",
    "    # Convert integer values to string for File_Name and Final_File_Path\n",
    "    file_name = str(row['File_Name'])\n",
    "    final_file_path = str(row['Final_File_Path'])\n",
    "    \n",
    "    # Concatenate File_Name and Final_File_Path and append to the list\n",
    "    file_path = os.path.join(file_name, final_file_path)\n",
    "    power_plants_raw_data_file_list.append(file_path)\n",
    "\n",
    "# Print the list\n",
    "print(power_plants_raw_data_file_list)"
   ]
  },
  {
   "cell_type": "code",
   "execution_count": 16,
   "id": "34acf3ec-5d39-4d5d-8ef7-ef7b3a1b8d64",
   "metadata": {},
   "outputs": [],
   "source": [
    "# Iterate over each row in the DataFrame\n",
    "for index, row in df.iterrows():\n",
    "    # Extract the folder path\n",
    "    folder_path = os.path.dirname(row['Final_File_Path'])\n",
    "    \n",
    "    # Update the DataFrame with the folder path\n",
    "    df.at[index, 'Folder_Path'] = folder_path\n",
    "\n",
    "# Save the DataFrame back to the CSV file\n",
    "df.to_csv(power_plants_raw_data_sources_file_path, index=False)\n"
   ]
  },
  {
   "cell_type": "markdown",
   "id": "7357227c-c359-43c6-ae52-e4a453bcfcb1",
   "metadata": {},
   "source": [
    "<div style=\"text-align: right; margin-left: 3.0em; font-weight: unbold; font-size: 14px; font-family: TimesNewRoman;\">\n",
    "    Tracking Variables. \n",
    "    <br>\n",
    "    <div style=\"text-align: right; margin-left: 1.50em; font-weight: unbold; font-size: 13px; font-family: TimesNewRoman;\">\n",
    "    This cells are just to confirm all the file names, file paths and other information related to the data being processed.\n",
    "    <br>\n",
    "  Also are used to ensure the inputs for next cells in order to avoid to re-enter the same information each time.\n",
    "</div>"
   ]
  },
  {
   "cell_type": "code",
   "execution_count": 17,
   "id": "f1d68217-9860-4e6b-86b1-5b7d1a97fe87",
   "metadata": {},
   "outputs": [
    {
     "name": "stdout",
     "output_type": "stream",
     "text": [
      "dispaSET_unleash_folder_name: Dispa-SET_Unleash\n",
      "dispaSET_unleash_folder_path: /home/ray/Dispa-SET_Unleash\n",
      "power_plants_raw_data_folder_path: /home/ray/Dispa-SET_Unleash/RawData/PowerPlants/\n",
      "zone_names: ['DE', 'DK', 'CH', 'BE']\n",
      "created_zones: {'DE': '/home/ray/Dispa-SET_Unleash/RawData/PowerPlants/DE', 'DK': '/home/ray/Dispa-SET_Unleash/RawData/PowerPlants/DK', 'CH': '/home/ray/Dispa-SET_Unleash/RawData/PowerPlants/CH', 'BE': '/home/ray/Dispa-SET_Unleash/RawData/PowerPlants/BE'}\n",
      "power_plants_raw_data_sources_file_path: /home/ray/Dispa-SET_Unleash/RawData/PowerPlants/2020_power_plants_raw_data_sources_20240406_184203/2020_power_plants_raw_data_sources_20240406_184203.csv\n",
      "power_plants_raw_data_sources_file_name: 2020_power_plants_raw_data_sources_20240406_184203.csv\n",
      "data_year: 2020\n",
      "download_links_zone_related: ['General', 'DE', 'DK', 'CH', 'BE']\n",
      "power_plants_raw_data_file_list: ['/home/ray/Dispa-SET_Unleash/RawData/PowerPlants/2020_power_plants_raw_data_sources_20240406_184203/1', '/home/ray/Dispa-SET_Unleash/RawData/PowerPlants/DE/2', '/home/ray/Dispa-SET_Unleash/RawData/PowerPlants/DK/3', '/home/ray/Dispa-SET_Unleash/RawData/PowerPlants/CH/4', '/home/ray/Dispa-SET_Unleash/RawData/PowerPlants/BE/5']\n"
     ]
    }
   ],
   "source": [
    "print (f\"dispaSET_unleash_folder_name: {dispaSET_unleash_folder_name}\")\n",
    "print (f\"dispaSET_unleash_folder_path: {dispaSET_unleash_folder_path}\")\n",
    "print (f\"power_plants_raw_data_folder_path: {power_plants_raw_data_folder_path}\")\n",
    "print (f\"zone_names: {zone_names}\")\n",
    "print (f\"created_zones: {created_zones}\")\n",
    "print (f\"power_plants_raw_data_sources_file_path: {power_plants_raw_data_sources_file_path}\")\n",
    "print (f\"power_plants_raw_data_sources_file_name: {power_plants_raw_data_sources_file_name}\")\n",
    "print (f\"data_year: {data_year}\")\n",
    "print (f\"download_links_zone_related: {download_links_zone_related}\")\n",
    "print (f\"power_plants_raw_data_file_list: {power_plants_raw_data_file_list}\")"
   ]
  },
  {
   "cell_type": "markdown",
   "id": "c48c450b-fe13-4ece-bde0-e6bbe0555e10",
   "metadata": {},
   "source": [
    "<div style=\"text-align: left; margin-left: 3.0em; font-weight: bold; font-size: 18px; font-family: TimesNewRoman;\">\n",
    "    7. Data Formating\n",
    "</div>"
   ]
  },
  {
   "cell_type": "markdown",
   "id": "78730c7a-354d-4431-b90a-5c1d5691da49",
   "metadata": {},
   "source": [
    "<div style=\"text-align: left; margin-left: 3.0em; font-weight: bold; font-size: 17px; font-family: TimesNewRoman;\">\n",
    "    7.1. Clean Data File Creation\n",
    "</div>"
   ]
  },
  {
   "cell_type": "markdown",
   "id": "d7f95902-be45-4c99-b76b-166fa14c69f4",
   "metadata": {},
   "source": [
    "<div style=\"text-align: left; margin-left: 0.0em; font-weight: unbold; font-size: 16px; font-family: TimesNewRoman;\">\n",
    "    Creating for each zone an empty csv file with all the technical features needed for Dispa-SET simulations as headers.\n",
    "    <br>\n",
    "    This file will be named under the value of the variable data year previously specified\n",
    "    <br>\n",
    "    On this csv file all the filtered data in the following steps will be written.\n",
    "</div>"
   ]
  },
  {
   "cell_type": "code",
   "execution_count": 18,
   "id": "ecfaad8c-4ace-4c05-a186-c0945c60cc04",
   "metadata": {},
   "outputs": [
    {
     "name": "stdout",
     "output_type": "stream",
     "text": [
      "Created file '2020.csv' in '/home/ray/Dispa-SET_Unleash/RawData/PowerPlants/2020_power_plants_raw_data_sources_20240406_184203'.\n",
      "Created file '2020.csv' in '/home/ray/Dispa-SET_Unleash/RawData/PowerPlants/DE'.\n",
      "Created file '2020.csv' in '/home/ray/Dispa-SET_Unleash/RawData/PowerPlants/DK'.\n",
      "Created file '2020.csv' in '/home/ray/Dispa-SET_Unleash/RawData/PowerPlants/CH'.\n",
      "Created file '2020.csv' in '/home/ray/Dispa-SET_Unleash/RawData/PowerPlants/BE'.\n"
     ]
    }
   ],
   "source": [
    "# Read the CSV file\n",
    "df = pd.read_csv(power_plants_raw_data_sources_file_path)\n",
    "\n",
    "# Iterate over each row in the DataFrame\n",
    "for index, row in df.iterrows():\n",
    "    # Get the folder path and file name\n",
    "    folder_path = row['Folder_Path']\n",
    "    file_name = f\"{data_year}.csv\"\n",
    "    \n",
    "    # Check if the file already exists in the folder\n",
    "    file_path = os.path.join(folder_path, file_name)\n",
    "    if os.path.exists(file_path):\n",
    "        print(f\"File '{file_name}' already exists in '{folder_path}'.\")\n",
    "        # Update the DataFrame with the existing file name and path\n",
    "        df.at[index, 'Clean_File_Name'] = file_name\n",
    "        df.at[index, 'Final_Clean_File_Path'] = file_path\n",
    "    else:\n",
    "        # Create the new CSV file with the specified headers\n",
    "        headers = [\"\", \"Unit\", \"PowerCapacity\", \"Nunits\", \"Zone\", \"Zone_th\", \"Zone_h2\", \"Technology\", \"Fuel\", \"Efficiency\",\n",
    "                   \"MinUpTime\", \"MinDownTime\", \"RampUpRate\", \"RampDownRate\", \"StartUpCost\", \"NoLoadCost_pu\", \"RampingCost\",\n",
    "                   \"PartLoadMin\", \"MinEfficiency\", \"StartUpTime\", \"CO2Intensity\", \"CHPType\", \"CHPPowerToHeat\",\n",
    "                   \"CHPPowerLossFactor\", \"CHPMaxHeat\", \"COP\", \"Tnominal\", \"coef_COP_a\", \"coef_COP_b\", \"STOCapacity\",\n",
    "                   \"STOSelfDischarge\", \"STOMaxChargingPower\", \"STOChargingEfficiency\", \"WaterWithdrawal\", \"WaterConsumption\", \"Status\", \"Source\",\n",
    "                   \"Company\", \"Lat\", \"Lon\"]\n",
    "        with open(file_path, 'w') as f:\n",
    "            f.write(','.join(headers))\n",
    "        print(f\"Created file '{file_name}' in '{folder_path}'.\")\n",
    "        # Update the DataFrame with the new file name and path\n",
    "        df.at[index, 'Clean_File_Name'] = file_name\n",
    "        df.at[index, 'Final_Clean_File_Path'] = file_path\n",
    "\n",
    "# Create the list of clean data file paths\n",
    "power_plants_clean_data_file_list = df['Final_Clean_File_Path'].tolist()\n",
    "\n",
    "# Remove the header from the list\n",
    "power_plants_clean_data_file_list.pop(0)\n",
    "\n",
    "# Save the DataFrame back to the CSV file\n",
    "df.to_csv(power_plants_raw_data_sources_file_path, index=False)"
   ]
  },
  {
   "cell_type": "code",
   "execution_count": 19,
   "id": "8d1dfd3b-2363-4364-9a09-70243c3780d4",
   "metadata": {
    "scrolled": true
   },
   "outputs": [
    {
     "name": "stdout",
     "output_type": "stream",
     "text": [
      "['/home/ray/Dispa-SET_Unleash/RawData/PowerPlants/2020_power_plants_raw_data_sources_20240406_184203/2020.csv', '/home/ray/Dispa-SET_Unleash/RawData/PowerPlants/DE/2020.csv', '/home/ray/Dispa-SET_Unleash/RawData/PowerPlants/DK/2020.csv', '/home/ray/Dispa-SET_Unleash/RawData/PowerPlants/CH/2020.csv', '/home/ray/Dispa-SET_Unleash/RawData/PowerPlants/BE/2020.csv']\n"
     ]
    }
   ],
   "source": [
    "# Read the CSV file\n",
    "df = pd.read_csv(power_plants_raw_data_sources_file_path)\n",
    "\n",
    "# Create the list power_plants_clean_data_file_list\n",
    "power_plants_clean_data_file_list = []\n",
    "\n",
    "# Iterate over each row in the DataFrame\n",
    "for index, row in df.iterrows():\n",
    "    # Convert integer values to string for File_Name and Final_Clean_File_Path\n",
    "    file_name = str(row['File_Name'])\n",
    "    final_file_path = str(row['Final_Clean_File_Path'])\n",
    "    \n",
    "    # Concatenate File_Name and Final_Clean_File_Path and append to the list\n",
    "    file_path = os.path.join(file_name, final_file_path)\n",
    "    power_plants_clean_data_file_list.append(file_path)\n",
    "\n",
    "# Print the list\n",
    "print(power_plants_clean_data_file_list)"
   ]
  },
  {
   "cell_type": "markdown",
   "id": "cf24a8f4-3a9d-4de2-94a8-6bc312809586",
   "metadata": {},
   "source": [
    "<div style=\"text-align: right; margin-left: 3.0em; font-weight: unbold; font-size: 14px; font-family: TimesNewRoman;\">\n",
    "    Tracking Variables. \n",
    "    <br>\n",
    "    <div style=\"text-align: right; margin-left: 1.50em; font-weight: unbold; font-size: 13px; font-family: TimesNewRoman;\">\n",
    "    This cells are just to confirm all the file names, file paths and other information related to the data being processed.\n",
    "    <br>\n",
    "  Also are used to ensure the inputs for next cells in order to avoid to re-enter the same information each time.\n",
    "</div>"
   ]
  },
  {
   "cell_type": "code",
   "execution_count": 20,
   "id": "753a1d1f-7fda-47fb-89a1-d8e588df4936",
   "metadata": {
    "scrolled": true
   },
   "outputs": [
    {
     "name": "stdout",
     "output_type": "stream",
     "text": [
      "dispaSET_unleash_folder_name: Dispa-SET_Unleash\n",
      "dispaSET_unleash_folder_path: /home/ray/Dispa-SET_Unleash\n",
      "power_plants_raw_data_folder_path: /home/ray/Dispa-SET_Unleash/RawData/PowerPlants/\n",
      "zone_names: ['DE', 'DK', 'CH', 'BE']\n",
      "created_zones: {'DE': '/home/ray/Dispa-SET_Unleash/RawData/PowerPlants/DE', 'DK': '/home/ray/Dispa-SET_Unleash/RawData/PowerPlants/DK', 'CH': '/home/ray/Dispa-SET_Unleash/RawData/PowerPlants/CH', 'BE': '/home/ray/Dispa-SET_Unleash/RawData/PowerPlants/BE'}\n",
      "power_plants_raw_data_sources_file_path: /home/ray/Dispa-SET_Unleash/RawData/PowerPlants/2020_power_plants_raw_data_sources_20240406_184203/2020_power_plants_raw_data_sources_20240406_184203.csv\n",
      "power_plants_raw_data_sources_file_name: 2020_power_plants_raw_data_sources_20240406_184203.csv\n",
      "data_year: 2020\n",
      "download_links_zone_related: ['General', 'DE', 'DK', 'CH', 'BE']\n",
      "power_plants_raw_data_file_list: ['/home/ray/Dispa-SET_Unleash/RawData/PowerPlants/2020_power_plants_raw_data_sources_20240406_184203/1', '/home/ray/Dispa-SET_Unleash/RawData/PowerPlants/DE/2', '/home/ray/Dispa-SET_Unleash/RawData/PowerPlants/DK/3', '/home/ray/Dispa-SET_Unleash/RawData/PowerPlants/CH/4', '/home/ray/Dispa-SET_Unleash/RawData/PowerPlants/BE/5']\n",
      "power_plants_clean_data_file_list: ['/home/ray/Dispa-SET_Unleash/RawData/PowerPlants/2020_power_plants_raw_data_sources_20240406_184203/2020.csv', '/home/ray/Dispa-SET_Unleash/RawData/PowerPlants/DE/2020.csv', '/home/ray/Dispa-SET_Unleash/RawData/PowerPlants/DK/2020.csv', '/home/ray/Dispa-SET_Unleash/RawData/PowerPlants/CH/2020.csv', '/home/ray/Dispa-SET_Unleash/RawData/PowerPlants/BE/2020.csv']\n"
     ]
    }
   ],
   "source": [
    "print (f\"dispaSET_unleash_folder_name: {dispaSET_unleash_folder_name}\")\n",
    "print (f\"dispaSET_unleash_folder_path: {dispaSET_unleash_folder_path}\")\n",
    "print (f\"power_plants_raw_data_folder_path: {power_plants_raw_data_folder_path}\")\n",
    "print (f\"zone_names: {zone_names}\")\n",
    "print (f\"created_zones: {created_zones}\")\n",
    "print (f\"power_plants_raw_data_sources_file_path: {power_plants_raw_data_sources_file_path}\")\n",
    "print (f\"power_plants_raw_data_sources_file_name: {power_plants_raw_data_sources_file_name}\")\n",
    "print (f\"data_year: {data_year}\")\n",
    "print (f\"download_links_zone_related: {download_links_zone_related}\")\n",
    "print (f\"power_plants_raw_data_file_list: {power_plants_raw_data_file_list}\")\n",
    "print (f\"power_plants_clean_data_file_list: {power_plants_clean_data_file_list}\")"
   ]
  },
  {
   "cell_type": "markdown",
   "id": "bd7db60a-0dfe-48ea-af65-c336631a04ba",
   "metadata": {},
   "source": [
    "<div style=\"text-align: left; margin-left: 3.0em; font-weight: bold; font-size: 17px; font-family: TimesNewRoman;\">\n",
    "    7.2. Dictionary Files\n",
    "</div>"
   ]
  },
  {
   "cell_type": "markdown",
   "id": "e8be1e61-9351-409f-9d30-ee934141a702",
   "metadata": {},
   "source": [
    "<div style=\"text-align: left; margin-left: 0.0em; font-weight: unbold; font-size: 16px; font-family: TimesNewRoman;\">\n",
    "    Getting the current paths of all the dictionary files that are going to be used as reference for the next filtering data process.\n",
    "        <br>\n",
    "    The dictionady files are .csv files that contain a small data base of al the technical denomination ussually used for the power units, e.g. 'PowerCapacity', 'Energy Source\", 'Technology' etc.\n",
    "</div>"
   ]
  },
  {
   "cell_type": "code",
   "execution_count": 21,
   "id": "43cb4c0d-ba67-4047-bab5-44d9a2e43c9f",
   "metadata": {},
   "outputs": [
    {
     "name": "stdout",
     "output_type": "stream",
     "text": [
      "power_plants_clean_data_equivalent_headers_file_path: /home/ray/Dispa-SET_Unleash/RawData/PowerPlants/power_plants_clean_data_equivalent_headers.csv\n",
      "power_plants_all_data_equivalent_technologies_file_path: /home/ray/Dispa-SET_Unleash/RawData/PowerPlants/power_plants_all_data_equivalent_technologies.csv\n",
      "power_plants_all_data_equivalent_fuels_file_path: /home/ray/Dispa-SET_Unleash/RawData/PowerPlants/power_plants_all_data_equivalent_fuels.csv\n",
      "power_plants_all_data_equivalent_CHPTypes_file_path: /home/ray/Dispa-SET_Unleash/RawData/PowerPlants/power_plants_all_data_equivalent_CHPTypes.csv\n",
      "EU_Power_Units_Technical_Features_file_path: /home/ray/Dispa-SET_Unleash/RawData/PowerPlants/EU_Power_Units_Technical_Features.csv\n"
     ]
    }
   ],
   "source": [
    "# Given variables\n",
    "dispaSET_unleash_folder_path = \"/home/ray/Dispa-SET_Unleash\"\n",
    "\n",
    "# List of file names\n",
    "file_names = [\n",
    "    \"power_plants_clean_data_equivalent_headers.csv\",\n",
    "    \"power_plants_all_data_equivalent_technologies.csv\",\n",
    "    \"power_plants_all_data_equivalent_fuels.csv\",\n",
    "    \"power_plants_all_data_equivalent_CHPTypes.csv\",\n",
    "    \"EU_Power_Units_Technical_Features.csv\"\n",
    "]\n",
    "\n",
    "# Dictionary to store file paths\n",
    "file_paths = {}\n",
    "\n",
    "# Construct file paths\n",
    "for file_name in file_names:\n",
    "    # Construct the file path\n",
    "    file_path = os.path.join(dispaSET_unleash_folder_path, \"RawData\", \"PowerPlants\", file_name)\n",
    "    \n",
    "    # Store the file path in the dictionary\n",
    "    file_paths[file_name] = file_path\n",
    "\n",
    "# Create variables for each file path\n",
    "for file_name, file_path in file_paths.items():\n",
    "    # Generate variable name with the file name and extension\n",
    "    variable_name = f\"{file_name.split('.')[0]}_file_path\"\n",
    "    \n",
    "    # Set the variable in the global scope\n",
    "    globals()[variable_name] = file_path\n",
    "\n",
    "# Print the variables\n",
    "for file_name, file_path in file_paths.items():\n",
    "    # Generate variable name with the file name and extension\n",
    "    variable_name = f\"{file_name.split('.')[0]}_file_path\"\n",
    "    print(f\"{variable_name}: {globals()[variable_name]}\")"
   ]
  },
  {
   "cell_type": "markdown",
   "id": "e0647c46-3621-4056-8ed3-2287b09ad77f",
   "metadata": {},
   "source": [
    "<div style=\"text-align: right; margin-left: 3.0em; font-weight: unbold; font-size: 14px; font-family: TimesNewRoman;\">\n",
    "    Tracking Variables. \n",
    "    <br>\n",
    "    <div style=\"text-align: right; margin-left: 1.50em; font-weight: unbold; font-size: 13px; font-family: TimesNewRoman;\">\n",
    "    This cells are just to confirm all the file names, file paths and other information related to the data being processed.\n",
    "    <br>\n",
    "  Also are used to ensure the inputs for next cells in order to avoid to re-enter the same information each time.\n",
    "</div>"
   ]
  },
  {
   "cell_type": "code",
   "execution_count": 22,
   "id": "b8a3ab53-7bb8-405a-b9d3-34ce120e1ad2",
   "metadata": {
    "scrolled": true
   },
   "outputs": [
    {
     "name": "stdout",
     "output_type": "stream",
     "text": [
      "dispaSET_unleash_folder_name: Dispa-SET_Unleash\n",
      "dispaSET_unleash_folder_path: /home/ray/Dispa-SET_Unleash\n",
      "power_plants_raw_data_folder_path: /home/ray/Dispa-SET_Unleash/RawData/PowerPlants/\n",
      "zone_names: ['DE', 'DK', 'CH', 'BE']\n",
      "created_zones: {'DE': '/home/ray/Dispa-SET_Unleash/RawData/PowerPlants/DE', 'DK': '/home/ray/Dispa-SET_Unleash/RawData/PowerPlants/DK', 'CH': '/home/ray/Dispa-SET_Unleash/RawData/PowerPlants/CH', 'BE': '/home/ray/Dispa-SET_Unleash/RawData/PowerPlants/BE'}\n",
      "power_plants_raw_data_sources_file_path: /home/ray/Dispa-SET_Unleash/RawData/PowerPlants/2020_power_plants_raw_data_sources_20240406_184203/2020_power_plants_raw_data_sources_20240406_184203.csv\n",
      "power_plants_raw_data_sources_file_name: 2020_power_plants_raw_data_sources_20240406_184203.csv\n",
      "data_year: 2020\n",
      "download_links_zone_related: ['General', 'DE', 'DK', 'CH', 'BE']\n",
      "power_plants_raw_data_file_list: ['/home/ray/Dispa-SET_Unleash/RawData/PowerPlants/2020_power_plants_raw_data_sources_20240406_184203/1', '/home/ray/Dispa-SET_Unleash/RawData/PowerPlants/DE/2', '/home/ray/Dispa-SET_Unleash/RawData/PowerPlants/DK/3', '/home/ray/Dispa-SET_Unleash/RawData/PowerPlants/CH/4', '/home/ray/Dispa-SET_Unleash/RawData/PowerPlants/BE/5']\n",
      "power_plants_clean_data_file_list: ['/home/ray/Dispa-SET_Unleash/RawData/PowerPlants/2020_power_plants_raw_data_sources_20240406_184203/2020.csv', '/home/ray/Dispa-SET_Unleash/RawData/PowerPlants/DE/2020.csv', '/home/ray/Dispa-SET_Unleash/RawData/PowerPlants/DK/2020.csv', '/home/ray/Dispa-SET_Unleash/RawData/PowerPlants/CH/2020.csv', '/home/ray/Dispa-SET_Unleash/RawData/PowerPlants/BE/2020.csv']\n",
      "power_plants_clean_data_equivalent_headers_file_path: /home/ray/Dispa-SET_Unleash/RawData/PowerPlants/power_plants_clean_data_equivalent_headers.csv\n",
      "power_plants_all_data_equivalent_technologies_file_path: /home/ray/Dispa-SET_Unleash/RawData/PowerPlants/power_plants_all_data_equivalent_technologies.csv\n",
      "power_plants_all_data_equivalent_fuels_file_path: /home/ray/Dispa-SET_Unleash/RawData/PowerPlants/power_plants_all_data_equivalent_fuels.csv\n",
      "power_plants_all_data_equivalent_CHPTypes_file_path: /home/ray/Dispa-SET_Unleash/RawData/PowerPlants/power_plants_all_data_equivalent_CHPTypes.csv\n",
      "EU_Power_Units_Technical_Features_file_path: /home/ray/Dispa-SET_Unleash/RawData/PowerPlants/EU_Power_Units_Technical_Features.csv\n"
     ]
    }
   ],
   "source": [
    "print (f\"dispaSET_unleash_folder_name: {dispaSET_unleash_folder_name}\")\n",
    "print (f\"dispaSET_unleash_folder_path: {dispaSET_unleash_folder_path}\")\n",
    "print (f\"power_plants_raw_data_folder_path: {power_plants_raw_data_folder_path}\")\n",
    "print (f\"zone_names: {zone_names}\")\n",
    "print (f\"created_zones: {created_zones}\")\n",
    "print (f\"power_plants_raw_data_sources_file_path: {power_plants_raw_data_sources_file_path}\")\n",
    "print (f\"power_plants_raw_data_sources_file_name: {power_plants_raw_data_sources_file_name}\")\n",
    "print (f\"data_year: {data_year}\")\n",
    "print (f\"download_links_zone_related: {download_links_zone_related}\")\n",
    "print (f\"power_plants_raw_data_file_list: {power_plants_raw_data_file_list}\")\n",
    "print (f\"power_plants_clean_data_file_list: {power_plants_clean_data_file_list}\")\n",
    "print (f\"power_plants_clean_data_equivalent_headers_file_path: {power_plants_clean_data_equivalent_headers_file_path}\")\n",
    "print (f\"power_plants_all_data_equivalent_technologies_file_path: {power_plants_all_data_equivalent_technologies_file_path}\")\n",
    "print (f\"power_plants_all_data_equivalent_fuels_file_path: {power_plants_all_data_equivalent_fuels_file_path}\")\n",
    "print (f\"power_plants_all_data_equivalent_CHPTypes_file_path: {power_plants_all_data_equivalent_CHPTypes_file_path}\")\n",
    "print (f\"EU_Power_Units_Technical_Features_file_path: {EU_Power_Units_Technical_Features_file_path}\")"
   ]
  },
  {
   "cell_type": "markdown",
   "id": "bec3ab42-124b-42cf-9e33-d86e5ec60db3",
   "metadata": {},
   "source": [
    "<div style=\"text-align: left; margin-left: 3.0em; font-weight: bold; font-size: 17px; font-family: TimesNewRoman;\">\n",
    "    7.3. Raw Data Files Zone Classification\n",
    "</div>"
   ]
  },
  {
   "cell_type": "markdown",
   "id": "789fb16d-28a2-45a4-bde4-a2fe5fc22881",
   "metadata": {},
   "source": [
    "<div style=\"text-align: left; margin-left: 0.0em; font-weight: unbold; font-size: 16px; font-family: TimesNewRoman;\">\n",
    "    Copying all the needed columns from the raw data files to the clean data files in base to the order given by the lists power_plants_raw_data_file_list and power_plants_clean_data_file_list.\n",
    "        <br>\n",
    "    This processes is made to each zone calling the function copy_columns_to_clean_data.py\n",
    "</div>"
   ]
  },
  {
   "cell_type": "markdown",
   "id": "ee653ceb-5361-4133-b06f-bcc4eaa24b88",
   "metadata": {},
   "source": [
    "<div style=\"text-align: right; margin-left: 3.0em; font-weight: unbold; font-size: 14px; font-family: TimesNewRoman;\">\n",
    "    Tracking Variables. \n",
    "    <br>\n",
    "    <div style=\"text-align: right; margin-left: 1.50em; font-weight: unbold; font-size: 13px; font-family: TimesNewRoman;\">\n",
    "    This cells are just to confirm all the file names, file paths and other information related to the data being processed.\n",
    "    <br>\n",
    "  Also are used to ensure the inputs for next cells in order to avoid to re-enter the same information each time.\n",
    "</div>"
   ]
  },
  {
   "cell_type": "code",
   "execution_count": 23,
   "id": "1347274b-6d99-4569-97e9-016dfacb0ab8",
   "metadata": {},
   "outputs": [
    {
     "data": {
      "text/plain": [
       "['/home/ray/Dispa-SET_Unleash/RawData/PowerPlants/2020_power_plants_raw_data_sources_20240406_184203/1',\n",
       " '/home/ray/Dispa-SET_Unleash/RawData/PowerPlants/DE/2',\n",
       " '/home/ray/Dispa-SET_Unleash/RawData/PowerPlants/DK/3',\n",
       " '/home/ray/Dispa-SET_Unleash/RawData/PowerPlants/CH/4',\n",
       " '/home/ray/Dispa-SET_Unleash/RawData/PowerPlants/BE/5']"
      ]
     },
     "execution_count": 23,
     "metadata": {},
     "output_type": "execute_result"
    }
   ],
   "source": [
    "power_plants_raw_data_file_list"
   ]
  },
  {
   "cell_type": "code",
   "execution_count": 24,
   "id": "ad2b8535-b904-4555-881e-e51c8b4bcb18",
   "metadata": {},
   "outputs": [
    {
     "data": {
      "text/plain": [
       "['/home/ray/Dispa-SET_Unleash/RawData/PowerPlants/2020_power_plants_raw_data_sources_20240406_184203/2020.csv',\n",
       " '/home/ray/Dispa-SET_Unleash/RawData/PowerPlants/DE/2020.csv',\n",
       " '/home/ray/Dispa-SET_Unleash/RawData/PowerPlants/DK/2020.csv',\n",
       " '/home/ray/Dispa-SET_Unleash/RawData/PowerPlants/CH/2020.csv',\n",
       " '/home/ray/Dispa-SET_Unleash/RawData/PowerPlants/BE/2020.csv']"
      ]
     },
     "execution_count": 24,
     "metadata": {},
     "output_type": "execute_result"
    }
   ],
   "source": [
    "power_plants_clean_data_file_list"
   ]
  },
  {
   "cell_type": "code",
   "execution_count": 25,
   "id": "4d480d94-e558-4c80-b688-b6c5c517a7eb",
   "metadata": {},
   "outputs": [
    {
     "name": "stdout",
     "output_type": "stream",
     "text": [
      "Columns copied successfully.\n",
      "Columns copied successfully.\n",
      "Columns copied successfully.\n",
      "Columns copied successfully.\n",
      "Columns copied successfully.\n"
     ]
    }
   ],
   "source": [
    "from copy_columns_to_clean_data import copy_columns_to_clean_data\n",
    "# Iterate over each pair of files\n",
    "for raw_data_file, clean_data_file in zip(power_plants_raw_data_file_list, power_plants_clean_data_file_list):\n",
    "    # Call the function with appropriate arguments\n",
    "    copy_columns_to_clean_data(raw_data_file, clean_data_file, power_plants_clean_data_equivalent_headers_file_path)"
   ]
  },
  {
   "cell_type": "markdown",
   "id": "8b50ee57-cfbf-41b1-832b-30b5aef8f9ca",
   "metadata": {},
   "source": [
    "<div style=\"text-align: left; margin-left: 3.0em; font-weight: bold; font-size: 17px; font-family: TimesNewRoman;\">\n",
    "    7.4. Units Name Fulfill\n",
    "</div>"
   ]
  },
  {
   "cell_type": "markdown",
   "id": "c51c058e-f972-47d0-850b-1a8dbf92a332",
   "metadata": {},
   "source": [
    "<div style=\"text-align: left; margin-left: 0.0em; font-weight: unbold; font-size: 16px; font-family: TimesNewRoman;\">\n",
    "    Verifying the \"Unit\" field in all the rows of each cleand data file.\n",
    "        <br>\n",
    "     If there is no value, the corresponding latitud and longitud value is going to be used as identifier of the corresponding unit. \n",
    "        <br>\n",
    "    If there is no value in the latitud and longitud fields the corresponding \"Company\" data is going to be taken.\n",
    "    <br>\n",
    "    Finally if there is not any company related data, the \"Unit\" field is going to be performed form the zone name plus an increasing numner.\n",
    "        <br>\n",
    "    This processes is made to each zone calling the function units_name_filfilling.py\n",
    "</div>"
   ]
  },
  {
   "cell_type": "markdown",
   "id": "0713cc8c-a135-460d-9a96-67a4983871ce",
   "metadata": {},
   "source": [
    "<div style=\"text-align: right; margin-left: 3.0em; font-weight: unbold; font-size: 14px; font-family: TimesNewRoman;\">\n",
    "    Tracking Variables. \n",
    "    <br>\n",
    "    <div style=\"text-align: right; margin-left: 1.50em; font-weight: unbold; font-size: 13px; font-family: TimesNewRoman;\">\n",
    "    This cells are just to confirm all the file names, file paths and other information related to the data being processed.\n",
    "    <br>\n",
    "  Also are used to ensure the inputs for next cells in order to avoid to re-enter the same information each time.\n",
    "</div>"
   ]
  },
  {
   "cell_type": "code",
   "execution_count": 26,
   "id": "b85483a8-2534-4ce0-b529-32264b438003",
   "metadata": {},
   "outputs": [
    {
     "data": {
      "text/plain": [
       "['/home/ray/Dispa-SET_Unleash/RawData/PowerPlants/2020_power_plants_raw_data_sources_20240406_184203/2020.csv',\n",
       " '/home/ray/Dispa-SET_Unleash/RawData/PowerPlants/DE/2020.csv',\n",
       " '/home/ray/Dispa-SET_Unleash/RawData/PowerPlants/DK/2020.csv',\n",
       " '/home/ray/Dispa-SET_Unleash/RawData/PowerPlants/CH/2020.csv',\n",
       " '/home/ray/Dispa-SET_Unleash/RawData/PowerPlants/BE/2020.csv']"
      ]
     },
     "execution_count": 26,
     "metadata": {},
     "output_type": "execute_result"
    }
   ],
   "source": [
    "power_plants_clean_data_file_list"
   ]
  },
  {
   "cell_type": "code",
   "execution_count": 27,
   "id": "fdfad990-718e-47de-93d3-e13b981c1f7e",
   "metadata": {
    "scrolled": true
   },
   "outputs": [
    {
     "name": "stdout",
     "output_type": "stream",
     "text": [
      "Unit field filled successfully.\n"
     ]
    },
    {
     "name": "stderr",
     "output_type": "stream",
     "text": [
      "/home/ray/Dispa-SET_Unleash/scripts/Data_Processing/Data_Processing_Functions.py:66: FutureWarning: Setting an item of incompatible dtype is deprecated and will raise in a future error of pandas. Value '48.29242877-8.578018405-DE' has dtype incompatible with float64, please explicitly cast to a compatible dtype first.\n",
      "  df.at[index, 'Unit'] = unit_value\n"
     ]
    },
    {
     "name": "stdout",
     "output_type": "stream",
     "text": [
      "Unit field filled successfully.\n"
     ]
    },
    {
     "name": "stderr",
     "output_type": "stream",
     "text": [
      "/home/ray/Dispa-SET_Unleash/scripts/Data_Processing/Data_Processing_Functions.py:66: FutureWarning: Setting an item of incompatible dtype is deprecated and will raise in a future error of pandas. Value '56.25596186375252-8.28000820432192-DK' has dtype incompatible with float64, please explicitly cast to a compatible dtype first.\n",
      "  df.at[index, 'Unit'] = unit_value\n"
     ]
    },
    {
     "name": "stdout",
     "output_type": "stream",
     "text": [
      "Unit field filled successfully.\n"
     ]
    },
    {
     "name": "stderr",
     "output_type": "stream",
     "text": [
      "/home/ray/Dispa-SET_Unleash/scripts/Data_Processing/Data_Processing_Functions.py:66: FutureWarning: Setting an item of incompatible dtype is deprecated and will raise in a future error of pandas. Value '47.5619-9.0353-CH' has dtype incompatible with float64, please explicitly cast to a compatible dtype first.\n",
      "  df.at[index, 'Unit'] = unit_value\n"
     ]
    },
    {
     "name": "stdout",
     "output_type": "stream",
     "text": [
      "Unit field filled successfully.\n",
      "Unit field filled successfully.\n"
     ]
    }
   ],
   "source": [
    "from Data_Processing_Functions import fill_unit_field\n",
    "\n",
    "# List of file paths\n",
    "#power_plants_clean_data_file_list = ['path_to_file1.csv', 'path_to_file2.csv', 'path_to_file3.csv']\n",
    "\n",
    "# Iterate over each file path\n",
    "for file_path in power_plants_clean_data_file_list:\n",
    "    fill_unit_field(file_path)"
   ]
  },
  {
   "cell_type": "markdown",
   "id": "84a69326-47d5-449a-a0a6-9573bb7ed56d",
   "metadata": {},
   "source": [
    "<div style=\"text-align: left; margin-left: 3.0em; font-weight: bold; font-size: 17px; font-family: TimesNewRoman;\">\n",
    "    7.5. Nunits Fulfill\n",
    "</div>"
   ]
  },
  {
   "cell_type": "markdown",
   "id": "2c52173a-eb81-4793-9ed2-737e17ae28a3",
   "metadata": {},
   "source": [
    "<div style=\"text-align: left; margin-left: 0.0em; font-weight: unbold; font-size: 16px; font-family: TimesNewRoman;\">\n",
    "    Verifying the \"Nunit\" field in all the rows of each cleand data file.\n",
    "        <br>\n",
    "     If there is no value, the field is gonna be filled by 1.\n",
    "        <br>\n",
    "    This processes is made for each zone calling the function fill_nunits_column.py\n",
    "</div>"
   ]
  },
  {
   "cell_type": "markdown",
   "id": "a051f936-0db3-4051-8790-43128c1db12b",
   "metadata": {},
   "source": [
    "<div style=\"text-align: right; margin-left: 3.0em; font-weight: unbold; font-size: 14px; font-family: TimesNewRoman;\">\n",
    "    Tracking Variables. \n",
    "    <br>\n",
    "    <div style=\"text-align: right; margin-left: 1.50em; font-weight: unbold; font-size: 13px; font-family: TimesNewRoman;\">\n",
    "    This cells are just to confirm all the file names, file paths and other information related to the data being processed.\n",
    "    <br>\n",
    "  Also are used to ensure the inputs for next cells in order to avoid to re-enter the same information each time.\n",
    "</div>"
   ]
  },
  {
   "cell_type": "code",
   "execution_count": 28,
   "id": "bbed1c82-1722-4182-bad7-3017f1d97993",
   "metadata": {},
   "outputs": [
    {
     "data": {
      "text/plain": [
       "['/home/ray/Dispa-SET_Unleash/RawData/PowerPlants/2020_power_plants_raw_data_sources_20240406_184203/2020.csv',\n",
       " '/home/ray/Dispa-SET_Unleash/RawData/PowerPlants/DE/2020.csv',\n",
       " '/home/ray/Dispa-SET_Unleash/RawData/PowerPlants/DK/2020.csv',\n",
       " '/home/ray/Dispa-SET_Unleash/RawData/PowerPlants/CH/2020.csv',\n",
       " '/home/ray/Dispa-SET_Unleash/RawData/PowerPlants/BE/2020.csv']"
      ]
     },
     "execution_count": 28,
     "metadata": {},
     "output_type": "execute_result"
    }
   ],
   "source": [
    "power_plants_clean_data_file_list"
   ]
  },
  {
   "cell_type": "code",
   "execution_count": 29,
   "id": "03eb6033-dbf1-4c3e-a60c-41689e740215",
   "metadata": {
    "scrolled": true
   },
   "outputs": [
    {
     "name": "stdout",
     "output_type": "stream",
     "text": [
      "Nunits column processed successfully.\n",
      "Nunits column processed successfully.\n",
      "Nunits column processed successfully.\n",
      "Nunits column processed successfully.\n",
      "Nunits column processed successfully.\n"
     ]
    }
   ],
   "source": [
    "from Data_Processing_Functions import fill_nunits_column\n",
    "\n",
    "# List of file paths\n",
    "#clean_data_file_paths = [\"path/to/your/clean_data1.csv\", \"path/to/your/clean_data2.csv\", ...]\n",
    "\n",
    "# Apply the function to each file\n",
    "for file_path in power_plants_clean_data_file_list:\n",
    "    fill_nunits_column(file_path)"
   ]
  },
  {
   "cell_type": "markdown",
   "id": "4abac9b0-8d7d-4156-8dfe-a8f959f7b748",
   "metadata": {},
   "source": [
    "<div style=\"text-align: left; margin-left: 3.0em; font-weight: bold; font-size: 17px; font-family: TimesNewRoman;\">\n",
    "    7.6. Zone Filter\n",
    "</div>"
   ]
  },
  {
   "cell_type": "markdown",
   "id": "5af55ca0-97d8-4216-8d28-505cd89628f0",
   "metadata": {},
   "source": [
    "<div style=\"text-align: left; margin-left: 0.0em; font-weight: unbold; font-size: 16px; font-family: TimesNewRoman;\">\n",
    "    Verifying the \"Zone\" field in all the rows of each cleand data file.\n",
    "        <br>\n",
    "     If there is no value, the field is gonna be took out from the file.\n",
    "    <br>\n",
    "     Additionally all the eliminated rows are going to be storage in a csv file called power_plants_all_data_not_defined_units.\n",
    "        <br>\n",
    "    This processes is made for each zone calling the function units_name_filter.py\n",
    "</div>"
   ]
  },
  {
   "cell_type": "markdown",
   "id": "e3c7e08e-51e8-4c23-bade-fc542c96ff5c",
   "metadata": {},
   "source": [
    "<div style=\"text-align: right; margin-left: 3.0em; font-weight: unbold; font-size: 14px; font-family: TimesNewRoman;\">\n",
    "    Tracking Variables. \n",
    "    <br>\n",
    "    <div style=\"text-align: right; margin-left: 1.50em; font-weight: unbold; font-size: 13px; font-family: TimesNewRoman;\">\n",
    "    This cells are just to confirm all the file names, file paths and other information related to the data being processed.\n",
    "    <br>\n",
    "  Also are used to ensure the inputs for next cells in order to avoid to re-enter the same information each time.\n",
    "</div>"
   ]
  },
  {
   "cell_type": "code",
   "execution_count": 30,
   "id": "144e4606-1de8-4980-b0ea-33857fae6f4b",
   "metadata": {
    "scrolled": true
   },
   "outputs": [
    {
     "name": "stdout",
     "output_type": "stream",
     "text": [
      "dispaSET_unleash_folder_name: Dispa-SET_Unleash\n",
      "dispaSET_unleash_folder_path: /home/ray/Dispa-SET_Unleash\n",
      "power_plants_raw_data_folder_path: /home/ray/Dispa-SET_Unleash/RawData/PowerPlants/\n",
      "zone_names: ['DE', 'DK', 'CH', 'BE']\n",
      "created_zones: {'DE': '/home/ray/Dispa-SET_Unleash/RawData/PowerPlants/DE', 'DK': '/home/ray/Dispa-SET_Unleash/RawData/PowerPlants/DK', 'CH': '/home/ray/Dispa-SET_Unleash/RawData/PowerPlants/CH', 'BE': '/home/ray/Dispa-SET_Unleash/RawData/PowerPlants/BE'}\n",
      "power_plants_raw_data_sources_file_path: /home/ray/Dispa-SET_Unleash/RawData/PowerPlants/2020_power_plants_raw_data_sources_20240406_184203/2020_power_plants_raw_data_sources_20240406_184203.csv\n",
      "power_plants_raw_data_sources_file_name: 2020_power_plants_raw_data_sources_20240406_184203.csv\n",
      "data_year: 2020\n",
      "download_links_zone_related: ['General', 'DE', 'DK', 'CH', 'BE']\n",
      "power_plants_raw_data_file_list: ['/home/ray/Dispa-SET_Unleash/RawData/PowerPlants/2020_power_plants_raw_data_sources_20240406_184203/1', '/home/ray/Dispa-SET_Unleash/RawData/PowerPlants/DE/2', '/home/ray/Dispa-SET_Unleash/RawData/PowerPlants/DK/3', '/home/ray/Dispa-SET_Unleash/RawData/PowerPlants/CH/4', '/home/ray/Dispa-SET_Unleash/RawData/PowerPlants/BE/5']\n",
      "power_plants_clean_data_file_list: ['/home/ray/Dispa-SET_Unleash/RawData/PowerPlants/2020_power_plants_raw_data_sources_20240406_184203/2020.csv', '/home/ray/Dispa-SET_Unleash/RawData/PowerPlants/DE/2020.csv', '/home/ray/Dispa-SET_Unleash/RawData/PowerPlants/DK/2020.csv', '/home/ray/Dispa-SET_Unleash/RawData/PowerPlants/CH/2020.csv', '/home/ray/Dispa-SET_Unleash/RawData/PowerPlants/BE/2020.csv']\n",
      "power_plants_clean_data_equivalent_headers_file_path: /home/ray/Dispa-SET_Unleash/RawData/PowerPlants/power_plants_clean_data_equivalent_headers.csv\n",
      "power_plants_all_data_equivalent_technologies_file_path: /home/ray/Dispa-SET_Unleash/RawData/PowerPlants/power_plants_all_data_equivalent_technologies.csv\n",
      "power_plants_all_data_equivalent_fuels_file_path: /home/ray/Dispa-SET_Unleash/RawData/PowerPlants/power_plants_all_data_equivalent_fuels.csv\n",
      "power_plants_all_data_equivalent_CHPTypes_file_path: /home/ray/Dispa-SET_Unleash/RawData/PowerPlants/power_plants_all_data_equivalent_CHPTypes.csv\n",
      "EU_Power_Units_Technical_Features_file_path: /home/ray/Dispa-SET_Unleash/RawData/PowerPlants/EU_Power_Units_Technical_Features.csv\n"
     ]
    }
   ],
   "source": [
    "print (f\"dispaSET_unleash_folder_name: {dispaSET_unleash_folder_name}\")\n",
    "print (f\"dispaSET_unleash_folder_path: {dispaSET_unleash_folder_path}\")\n",
    "print (f\"power_plants_raw_data_folder_path: {power_plants_raw_data_folder_path}\")\n",
    "print (f\"zone_names: {zone_names}\")\n",
    "print (f\"created_zones: {created_zones}\")\n",
    "print (f\"power_plants_raw_data_sources_file_path: {power_plants_raw_data_sources_file_path}\")\n",
    "print (f\"power_plants_raw_data_sources_file_name: {power_plants_raw_data_sources_file_name}\")\n",
    "print (f\"data_year: {data_year}\")\n",
    "print (f\"download_links_zone_related: {download_links_zone_related}\")\n",
    "print (f\"power_plants_raw_data_file_list: {power_plants_raw_data_file_list}\")\n",
    "print (f\"power_plants_clean_data_file_list: {power_plants_clean_data_file_list}\")\n",
    "print (f\"power_plants_clean_data_equivalent_headers_file_path: {power_plants_clean_data_equivalent_headers_file_path}\")\n",
    "print (f\"power_plants_all_data_equivalent_technologies_file_path: {power_plants_all_data_equivalent_technologies_file_path}\")\n",
    "print (f\"power_plants_all_data_equivalent_fuels_file_path: {power_plants_all_data_equivalent_fuels_file_path}\")\n",
    "print (f\"power_plants_all_data_equivalent_CHPTypes_file_path: {power_plants_all_data_equivalent_CHPTypes_file_path}\")\n",
    "print (f\"EU_Power_Units_Technical_Features_file_path: {EU_Power_Units_Technical_Features_file_path}\")"
   ]
  },
  {
   "attachments": {},
   "cell_type": "markdown",
   "id": "055745d0-1cd8-4122-bf44-0f0881307eb2",
   "metadata": {},
   "source": [
    "<div style=\"text-align: left; margin-left: 3.0em; font-weight: bold; font-size: 16px; font-family: TimesNewRoman;\">\n",
    "    7.6.1. Not Defined Units File Creation\n",
    "</div>\n",
    "\n",
    "<div style=\"text-align: left; margin-left: 0.0em; font-weight: unbold; font-size: 16px; font-family: TimesNewRoman;\">\n",
    "    Creating a .csv file for each zone where all those units that has some missing data in one of their field are going to be written such as all the units that are took out from the final clean data file for some other reason.\n",
    "\n",
    "</div>"
   ]
  },
  {
   "cell_type": "code",
   "execution_count": 31,
   "id": "75f39925-beac-41eb-934a-23655f3cc5e7",
   "metadata": {},
   "outputs": [
    {
     "name": "stdout",
     "output_type": "stream",
     "text": [
      "CSV file created at /home/ray/Dispa-SET_Unleash/RawData/PowerPlants/2020_power_plants_raw_data_sources_20240406_184203/power_plants_all_data_not_defined_units.csv\n",
      "CSV file created at /home/ray/Dispa-SET_Unleash/RawData/PowerPlants/DE/power_plants_all_data_not_defined_units.csv\n",
      "CSV file created at /home/ray/Dispa-SET_Unleash/RawData/PowerPlants/DK/power_plants_all_data_not_defined_units.csv\n",
      "CSV file created at /home/ray/Dispa-SET_Unleash/RawData/PowerPlants/CH/power_plants_all_data_not_defined_units.csv\n",
      "CSV file created at /home/ray/Dispa-SET_Unleash/RawData/PowerPlants/BE/power_plants_all_data_not_defined_units.csv\n",
      "All CSV files created successfully.\n"
     ]
    }
   ],
   "source": [
    "# Function to create the CSV file with specified headers\n",
    "def create_csv_file(file_path, headers):\n",
    "    with open(file_path, 'w', newline='') as csvfile:\n",
    "        writer = csv.writer(csvfile)\n",
    "        writer.writerow(headers)\n",
    "\n",
    "# Define the headers for the CSV file\n",
    "headers = [\"\", \"Unit\", \"PowerCapacity\", \"Nunits\", \"Zone\", \"Zone_th\", \"Zone_h2\", \"Technology\", \"Fuel\", \"Efficiency\",\n",
    "           \"MinUpTime\", \"MinDownTime\", \"RampUpRate\", \"RampDownRate\", \"StartUpCost\", \"NoLoadCost_pu\", \"RampingCost\",\n",
    "           \"PartLoadMin\", \"MinEfficiency\", \"StartUpTime\", \"CO2Intensity\", \"CHPType\", \"CHPPowerToHeat\",\n",
    "           \"CHPPowerLossFactor\", \"CHPMaxHeat\", \"COP\", \"Tnominal\", \"coef_COP_a\", \"coef_COP_b\", \"STOCapacity\",\n",
    "           \"STOSelfDischarge\", \"STOMaxChargingPower\", \"STOChargingEfficiency\", \"WaterWithdrawal\", \"WaterConsumption\", \"Status\", \"Source\",\n",
    "           \"Company\", \"Lat\", \"Lon\"]\n",
    "\n",
    "# List to store the paths of created CSV files\n",
    "power_plants_all_data_not_defined_units_file_list = []\n",
    "\n",
    "# Read the CSV file and create CSV files in each folder path\n",
    "with open(power_plants_raw_data_sources_file_path, 'r') as csvfile:\n",
    "    reader = csv.DictReader(csvfile)\n",
    "    for row in reader:\n",
    "        folder_path = row['Folder_Path']\n",
    "        file_name = 'power_plants_all_data_not_defined_units.csv'\n",
    "        file_path = os.path.join(folder_path, file_name)\n",
    "        create_csv_file(file_path, headers)\n",
    "        print(f\"CSV file created at {file_path}\")\n",
    "        power_plants_all_data_not_defined_units_file_list.append(file_path)\n",
    "\n",
    "print(\"All CSV files created successfully.\")"
   ]
  },
  {
   "cell_type": "markdown",
   "id": "05728d2e-4f01-4c59-8051-8b88591daa49",
   "metadata": {},
   "source": [
    "<div style=\"text-align: left; margin-left: 3.0em; font-weight: bold; font-size: 16px; font-family: TimesNewRoman;\">\n",
    "    7.6.2. No Zone Data Elimination\n",
    "</div>\n",
    "<div style=\"text-align: left; margin-left: 0.0em; font-weight: unbold; font-size: 16px; font-family: TimesNewRoman;\">\n",
    "    Eliminating all the data that does not have a zone, country, region etc. in its Zone field.\n",
    "</div>"
   ]
  },
  {
   "cell_type": "markdown",
   "id": "3fc73fc3-e4b4-4979-866a-009a03faf654",
   "metadata": {},
   "source": [
    "<div style=\"text-align: right; margin-left: 3.0em; font-weight: unbold; font-size: 14px; font-family: TimesNewRoman;\">\n",
    "    Tracking Variables. \n",
    "    <br>\n",
    "    <div style=\"text-align: right; margin-left: 1.50em; font-weight: unbold; font-size: 13px; font-family: TimesNewRoman;\">\n",
    "    This cells are just to confirm all the file names, file paths and other information related to the data being processed.\n",
    "    <br>\n",
    "  Also are used to ensure the inputs for next cells in order to avoid to re-enter the same information each time.\n",
    "</div>"
   ]
  },
  {
   "cell_type": "code",
   "execution_count": 32,
   "id": "aaf48d85-dde7-42fc-856b-3657050fe430",
   "metadata": {},
   "outputs": [
    {
     "data": {
      "text/plain": [
       "['/home/ray/Dispa-SET_Unleash/RawData/PowerPlants/2020_power_plants_raw_data_sources_20240406_184203/power_plants_all_data_not_defined_units.csv',\n",
       " '/home/ray/Dispa-SET_Unleash/RawData/PowerPlants/DE/power_plants_all_data_not_defined_units.csv',\n",
       " '/home/ray/Dispa-SET_Unleash/RawData/PowerPlants/DK/power_plants_all_data_not_defined_units.csv',\n",
       " '/home/ray/Dispa-SET_Unleash/RawData/PowerPlants/CH/power_plants_all_data_not_defined_units.csv',\n",
       " '/home/ray/Dispa-SET_Unleash/RawData/PowerPlants/BE/power_plants_all_data_not_defined_units.csv']"
      ]
     },
     "execution_count": 32,
     "metadata": {},
     "output_type": "execute_result"
    }
   ],
   "source": [
    "power_plants_all_data_not_defined_units_file_list"
   ]
  },
  {
   "cell_type": "code",
   "execution_count": 33,
   "id": "9aa96616-36dc-4d81-881e-328c288664bf",
   "metadata": {},
   "outputs": [
    {
     "data": {
      "text/plain": [
       "['/home/ray/Dispa-SET_Unleash/RawData/PowerPlants/2020_power_plants_raw_data_sources_20240406_184203/2020.csv',\n",
       " '/home/ray/Dispa-SET_Unleash/RawData/PowerPlants/DE/2020.csv',\n",
       " '/home/ray/Dispa-SET_Unleash/RawData/PowerPlants/DK/2020.csv',\n",
       " '/home/ray/Dispa-SET_Unleash/RawData/PowerPlants/CH/2020.csv',\n",
       " '/home/ray/Dispa-SET_Unleash/RawData/PowerPlants/BE/2020.csv']"
      ]
     },
     "execution_count": 33,
     "metadata": {},
     "output_type": "execute_result"
    }
   ],
   "source": [
    "power_plants_clean_data_file_list"
   ]
  },
  {
   "cell_type": "code",
   "execution_count": 34,
   "id": "107dfc6f-7821-4c9d-95b5-2727650c71de",
   "metadata": {},
   "outputs": [
    {
     "name": "stdout",
     "output_type": "stream",
     "text": [
      "Processed /home/ray/Dispa-SET_Unleash/RawData/PowerPlants/2020_power_plants_raw_data_sources_20240406_184203/2020.csv\n",
      "Processed /home/ray/Dispa-SET_Unleash/RawData/PowerPlants/DE/2020.csv\n",
      "Processed /home/ray/Dispa-SET_Unleash/RawData/PowerPlants/DK/2020.csv\n",
      "Processed /home/ray/Dispa-SET_Unleash/RawData/PowerPlants/CH/2020.csv\n",
      "Processed /home/ray/Dispa-SET_Unleash/RawData/PowerPlants/BE/2020.csv\n"
     ]
    }
   ],
   "source": [
    "from Data_Processing_Functions import move_rows_with_empty_zone\n",
    "\n",
    "# Iterate over each pair of files\n",
    "for clean_data_file, all_data_file in zip(power_plants_clean_data_file_list, power_plants_all_data_not_defined_units_file_list):\n",
    "    # Call the function with appropriate arguments\n",
    "    move_rows_with_empty_zone([clean_data_file], [all_data_file])"
   ]
  },
  {
   "cell_type": "code",
   "execution_count": 35,
   "id": "4e6c9525-b824-4381-a6ad-3e4b215994e7",
   "metadata": {},
   "outputs": [],
   "source": [
    "verification = pd.read_csv('/home/ray/Dispa-SET_Unleash/RawData/PowerPlants/DE/2020.csv')\n"
   ]
  },
  {
   "cell_type": "code",
   "execution_count": 36,
   "id": "c47512e9-c156-4017-8ed6-346c4993a1af",
   "metadata": {},
   "outputs": [
    {
     "data": {
      "text/html": [
       "<div>\n",
       "<style scoped>\n",
       "    .dataframe tbody tr th:only-of-type {\n",
       "        vertical-align: middle;\n",
       "    }\n",
       "\n",
       "    .dataframe tbody tr th {\n",
       "        vertical-align: top;\n",
       "    }\n",
       "\n",
       "    .dataframe thead th {\n",
       "        text-align: right;\n",
       "    }\n",
       "</style>\n",
       "<table border=\"1\" class=\"dataframe\">\n",
       "  <thead>\n",
       "    <tr style=\"text-align: right;\">\n",
       "      <th></th>\n",
       "      <th>Unnamed: 0</th>\n",
       "      <th>Unit</th>\n",
       "      <th>PowerCapacity</th>\n",
       "      <th>Nunits</th>\n",
       "      <th>Zone</th>\n",
       "      <th>Zone_th</th>\n",
       "      <th>Zone_h2</th>\n",
       "      <th>Technology</th>\n",
       "      <th>Fuel</th>\n",
       "      <th>Efficiency</th>\n",
       "      <th>...</th>\n",
       "      <th>STOSelfDischarge</th>\n",
       "      <th>STOMaxChargingPower</th>\n",
       "      <th>STOChargingEfficiency</th>\n",
       "      <th>WaterWithdrawal</th>\n",
       "      <th>WaterConsumption</th>\n",
       "      <th>Status</th>\n",
       "      <th>Source</th>\n",
       "      <th>Company</th>\n",
       "      <th>Lat</th>\n",
       "      <th>Lon</th>\n",
       "    </tr>\n",
       "  </thead>\n",
       "  <tbody>\n",
       "    <tr>\n",
       "      <th>0</th>\n",
       "      <td>NaN</td>\n",
       "      <td>48.29242877-8.578018405-DE</td>\n",
       "      <td>0.080000</td>\n",
       "      <td>1.0</td>\n",
       "      <td>DE</td>\n",
       "      <td>NaN</td>\n",
       "      <td>NaN</td>\n",
       "      <td>Sewage and landfill gas</td>\n",
       "      <td>Bioenergy</td>\n",
       "      <td>NaN</td>\n",
       "      <td>...</td>\n",
       "      <td>NaN</td>\n",
       "      <td>NaN</td>\n",
       "      <td>NaN</td>\n",
       "      <td>NaN</td>\n",
       "      <td>NaN</td>\n",
       "      <td>NaN</td>\n",
       "      <td>NaN</td>\n",
       "      <td>NaN</td>\n",
       "      <td>48.292429</td>\n",
       "      <td>8.578018</td>\n",
       "    </tr>\n",
       "    <tr>\n",
       "      <th>1</th>\n",
       "      <td>NaN</td>\n",
       "      <td>48.96399433-10.88156233-DE</td>\n",
       "      <td>0.015000</td>\n",
       "      <td>1.0</td>\n",
       "      <td>DE</td>\n",
       "      <td>NaN</td>\n",
       "      <td>NaN</td>\n",
       "      <td>Run-of-river</td>\n",
       "      <td>Hydro</td>\n",
       "      <td>NaN</td>\n",
       "      <td>...</td>\n",
       "      <td>NaN</td>\n",
       "      <td>NaN</td>\n",
       "      <td>NaN</td>\n",
       "      <td>NaN</td>\n",
       "      <td>NaN</td>\n",
       "      <td>NaN</td>\n",
       "      <td>NaN</td>\n",
       "      <td>NaN</td>\n",
       "      <td>48.963994</td>\n",
       "      <td>10.881562</td>\n",
       "    </tr>\n",
       "    <tr>\n",
       "      <th>2</th>\n",
       "      <td>NaN</td>\n",
       "      <td>47.84613128-9.664272955-DE</td>\n",
       "      <td>0.055000</td>\n",
       "      <td>1.0</td>\n",
       "      <td>DE</td>\n",
       "      <td>NaN</td>\n",
       "      <td>NaN</td>\n",
       "      <td>Run-of-river</td>\n",
       "      <td>Hydro</td>\n",
       "      <td>NaN</td>\n",
       "      <td>...</td>\n",
       "      <td>NaN</td>\n",
       "      <td>NaN</td>\n",
       "      <td>NaN</td>\n",
       "      <td>NaN</td>\n",
       "      <td>NaN</td>\n",
       "      <td>NaN</td>\n",
       "      <td>NaN</td>\n",
       "      <td>NaN</td>\n",
       "      <td>47.846131</td>\n",
       "      <td>9.664273</td>\n",
       "    </tr>\n",
       "    <tr>\n",
       "      <th>3</th>\n",
       "      <td>NaN</td>\n",
       "      <td>47.84613128-9.664272955-DE</td>\n",
       "      <td>0.120000</td>\n",
       "      <td>1.0</td>\n",
       "      <td>DE</td>\n",
       "      <td>NaN</td>\n",
       "      <td>NaN</td>\n",
       "      <td>Run-of-river</td>\n",
       "      <td>Hydro</td>\n",
       "      <td>NaN</td>\n",
       "      <td>...</td>\n",
       "      <td>NaN</td>\n",
       "      <td>NaN</td>\n",
       "      <td>NaN</td>\n",
       "      <td>NaN</td>\n",
       "      <td>NaN</td>\n",
       "      <td>NaN</td>\n",
       "      <td>NaN</td>\n",
       "      <td>NaN</td>\n",
       "      <td>47.846131</td>\n",
       "      <td>9.664273</td>\n",
       "    </tr>\n",
       "    <tr>\n",
       "      <th>4</th>\n",
       "      <td>NaN</td>\n",
       "      <td>49.35553908-8.775570795-DE</td>\n",
       "      <td>0.044000</td>\n",
       "      <td>1.0</td>\n",
       "      <td>DE</td>\n",
       "      <td>NaN</td>\n",
       "      <td>NaN</td>\n",
       "      <td>Run-of-river</td>\n",
       "      <td>Hydro</td>\n",
       "      <td>NaN</td>\n",
       "      <td>...</td>\n",
       "      <td>NaN</td>\n",
       "      <td>NaN</td>\n",
       "      <td>NaN</td>\n",
       "      <td>NaN</td>\n",
       "      <td>NaN</td>\n",
       "      <td>NaN</td>\n",
       "      <td>NaN</td>\n",
       "      <td>NaN</td>\n",
       "      <td>49.355539</td>\n",
       "      <td>8.775571</td>\n",
       "    </tr>\n",
       "    <tr>\n",
       "      <th>...</th>\n",
       "      <td>...</td>\n",
       "      <td>...</td>\n",
       "      <td>...</td>\n",
       "      <td>...</td>\n",
       "      <td>...</td>\n",
       "      <td>...</td>\n",
       "      <td>...</td>\n",
       "      <td>...</td>\n",
       "      <td>...</td>\n",
       "      <td>...</td>\n",
       "      <td>...</td>\n",
       "      <td>...</td>\n",
       "      <td>...</td>\n",
       "      <td>...</td>\n",
       "      <td>...</td>\n",
       "      <td>...</td>\n",
       "      <td>...</td>\n",
       "      <td>...</td>\n",
       "      <td>...</td>\n",
       "      <td>...</td>\n",
       "      <td>...</td>\n",
       "    </tr>\n",
       "    <tr>\n",
       "      <th>1768740</th>\n",
       "      <td>NaN</td>\n",
       "      <td>48.99530642-9.097915699-DE</td>\n",
       "      <td>0.004640</td>\n",
       "      <td>1.0</td>\n",
       "      <td>DE</td>\n",
       "      <td>NaN</td>\n",
       "      <td>NaN</td>\n",
       "      <td>Photovoltaics</td>\n",
       "      <td>Solar</td>\n",
       "      <td>NaN</td>\n",
       "      <td>...</td>\n",
       "      <td>NaN</td>\n",
       "      <td>NaN</td>\n",
       "      <td>NaN</td>\n",
       "      <td>NaN</td>\n",
       "      <td>NaN</td>\n",
       "      <td>NaN</td>\n",
       "      <td>NaN</td>\n",
       "      <td>NaN</td>\n",
       "      <td>48.995306</td>\n",
       "      <td>9.097916</td>\n",
       "    </tr>\n",
       "    <tr>\n",
       "      <th>1768741</th>\n",
       "      <td>NaN</td>\n",
       "      <td>50.05308711-7.728759356-DE</td>\n",
       "      <td>0.006360</td>\n",
       "      <td>1.0</td>\n",
       "      <td>DE</td>\n",
       "      <td>NaN</td>\n",
       "      <td>NaN</td>\n",
       "      <td>Photovoltaics</td>\n",
       "      <td>Solar</td>\n",
       "      <td>NaN</td>\n",
       "      <td>...</td>\n",
       "      <td>NaN</td>\n",
       "      <td>NaN</td>\n",
       "      <td>NaN</td>\n",
       "      <td>NaN</td>\n",
       "      <td>NaN</td>\n",
       "      <td>NaN</td>\n",
       "      <td>NaN</td>\n",
       "      <td>NaN</td>\n",
       "      <td>50.053087</td>\n",
       "      <td>7.728759</td>\n",
       "    </tr>\n",
       "    <tr>\n",
       "      <th>1768742</th>\n",
       "      <td>NaN</td>\n",
       "      <td>49.14289696-12.40827154-DE</td>\n",
       "      <td>0.008400</td>\n",
       "      <td>1.0</td>\n",
       "      <td>DE</td>\n",
       "      <td>NaN</td>\n",
       "      <td>NaN</td>\n",
       "      <td>Photovoltaics</td>\n",
       "      <td>Solar</td>\n",
       "      <td>NaN</td>\n",
       "      <td>...</td>\n",
       "      <td>NaN</td>\n",
       "      <td>NaN</td>\n",
       "      <td>NaN</td>\n",
       "      <td>NaN</td>\n",
       "      <td>NaN</td>\n",
       "      <td>NaN</td>\n",
       "      <td>NaN</td>\n",
       "      <td>NaN</td>\n",
       "      <td>49.142897</td>\n",
       "      <td>12.408272</td>\n",
       "    </tr>\n",
       "    <tr>\n",
       "      <th>1768743</th>\n",
       "      <td>NaN</td>\n",
       "      <td>48.96359435-12.05432011-DE</td>\n",
       "      <td>0.749835</td>\n",
       "      <td>1.0</td>\n",
       "      <td>DE</td>\n",
       "      <td>NaN</td>\n",
       "      <td>NaN</td>\n",
       "      <td>Photovoltaics ground</td>\n",
       "      <td>Solar</td>\n",
       "      <td>NaN</td>\n",
       "      <td>...</td>\n",
       "      <td>NaN</td>\n",
       "      <td>NaN</td>\n",
       "      <td>NaN</td>\n",
       "      <td>NaN</td>\n",
       "      <td>NaN</td>\n",
       "      <td>NaN</td>\n",
       "      <td>NaN</td>\n",
       "      <td>NaN</td>\n",
       "      <td>48.963594</td>\n",
       "      <td>12.054320</td>\n",
       "    </tr>\n",
       "    <tr>\n",
       "      <th>1768744</th>\n",
       "      <td>NaN</td>\n",
       "      <td>50.79666066-10.29108781-DE</td>\n",
       "      <td>0.749080</td>\n",
       "      <td>1.0</td>\n",
       "      <td>DE</td>\n",
       "      <td>NaN</td>\n",
       "      <td>NaN</td>\n",
       "      <td>Photovoltaics ground</td>\n",
       "      <td>Solar</td>\n",
       "      <td>NaN</td>\n",
       "      <td>...</td>\n",
       "      <td>NaN</td>\n",
       "      <td>NaN</td>\n",
       "      <td>NaN</td>\n",
       "      <td>NaN</td>\n",
       "      <td>NaN</td>\n",
       "      <td>NaN</td>\n",
       "      <td>NaN</td>\n",
       "      <td>NaN</td>\n",
       "      <td>50.796661</td>\n",
       "      <td>10.291088</td>\n",
       "    </tr>\n",
       "  </tbody>\n",
       "</table>\n",
       "<p>1768745 rows × 40 columns</p>\n",
       "</div>"
      ],
      "text/plain": [
       "         Unnamed: 0                        Unit  PowerCapacity  Nunits Zone  \\\n",
       "0               NaN  48.29242877-8.578018405-DE       0.080000     1.0   DE   \n",
       "1               NaN  48.96399433-10.88156233-DE       0.015000     1.0   DE   \n",
       "2               NaN  47.84613128-9.664272955-DE       0.055000     1.0   DE   \n",
       "3               NaN  47.84613128-9.664272955-DE       0.120000     1.0   DE   \n",
       "4               NaN  49.35553908-8.775570795-DE       0.044000     1.0   DE   \n",
       "...             ...                         ...            ...     ...  ...   \n",
       "1768740         NaN  48.99530642-9.097915699-DE       0.004640     1.0   DE   \n",
       "1768741         NaN  50.05308711-7.728759356-DE       0.006360     1.0   DE   \n",
       "1768742         NaN  49.14289696-12.40827154-DE       0.008400     1.0   DE   \n",
       "1768743         NaN  48.96359435-12.05432011-DE       0.749835     1.0   DE   \n",
       "1768744         NaN  50.79666066-10.29108781-DE       0.749080     1.0   DE   \n",
       "\n",
       "         Zone_th  Zone_h2               Technology       Fuel  Efficiency  \\\n",
       "0            NaN      NaN  Sewage and landfill gas  Bioenergy         NaN   \n",
       "1            NaN      NaN             Run-of-river      Hydro         NaN   \n",
       "2            NaN      NaN             Run-of-river      Hydro         NaN   \n",
       "3            NaN      NaN             Run-of-river      Hydro         NaN   \n",
       "4            NaN      NaN             Run-of-river      Hydro         NaN   \n",
       "...          ...      ...                      ...        ...         ...   \n",
       "1768740      NaN      NaN            Photovoltaics      Solar         NaN   \n",
       "1768741      NaN      NaN            Photovoltaics      Solar         NaN   \n",
       "1768742      NaN      NaN            Photovoltaics      Solar         NaN   \n",
       "1768743      NaN      NaN     Photovoltaics ground      Solar         NaN   \n",
       "1768744      NaN      NaN     Photovoltaics ground      Solar         NaN   \n",
       "\n",
       "         ...  STOSelfDischarge  STOMaxChargingPower  STOChargingEfficiency  \\\n",
       "0        ...               NaN                  NaN                    NaN   \n",
       "1        ...               NaN                  NaN                    NaN   \n",
       "2        ...               NaN                  NaN                    NaN   \n",
       "3        ...               NaN                  NaN                    NaN   \n",
       "4        ...               NaN                  NaN                    NaN   \n",
       "...      ...               ...                  ...                    ...   \n",
       "1768740  ...               NaN                  NaN                    NaN   \n",
       "1768741  ...               NaN                  NaN                    NaN   \n",
       "1768742  ...               NaN                  NaN                    NaN   \n",
       "1768743  ...               NaN                  NaN                    NaN   \n",
       "1768744  ...               NaN                  NaN                    NaN   \n",
       "\n",
       "         WaterWithdrawal  WaterConsumption  Status  Source  Company  \\\n",
       "0                    NaN               NaN     NaN     NaN      NaN   \n",
       "1                    NaN               NaN     NaN     NaN      NaN   \n",
       "2                    NaN               NaN     NaN     NaN      NaN   \n",
       "3                    NaN               NaN     NaN     NaN      NaN   \n",
       "4                    NaN               NaN     NaN     NaN      NaN   \n",
       "...                  ...               ...     ...     ...      ...   \n",
       "1768740              NaN               NaN     NaN     NaN      NaN   \n",
       "1768741              NaN               NaN     NaN     NaN      NaN   \n",
       "1768742              NaN               NaN     NaN     NaN      NaN   \n",
       "1768743              NaN               NaN     NaN     NaN      NaN   \n",
       "1768744              NaN               NaN     NaN     NaN      NaN   \n",
       "\n",
       "               Lat        Lon  \n",
       "0        48.292429   8.578018  \n",
       "1        48.963994  10.881562  \n",
       "2        47.846131   9.664273  \n",
       "3        47.846131   9.664273  \n",
       "4        49.355539   8.775571  \n",
       "...            ...        ...  \n",
       "1768740  48.995306   9.097916  \n",
       "1768741  50.053087   7.728759  \n",
       "1768742  49.142897  12.408272  \n",
       "1768743  48.963594  12.054320  \n",
       "1768744  50.796661  10.291088  \n",
       "\n",
       "[1768745 rows x 40 columns]"
      ]
     },
     "execution_count": 36,
     "metadata": {},
     "output_type": "execute_result"
    }
   ],
   "source": [
    "verification"
   ]
  },
  {
   "cell_type": "code",
   "execution_count": 39,
   "id": "d210ee92-384d-4180-8ac9-fd9299bde13e",
   "metadata": {},
   "outputs": [],
   "source": [
    "missing_values = verification['Zone'].isnull()"
   ]
  },
  {
   "cell_type": "code",
   "execution_count": 40,
   "id": "fac048b7-468a-4796-bfab-00dd5ce67bfa",
   "metadata": {},
   "outputs": [
    {
     "data": {
      "text/plain": [
       "0          False\n",
       "1          False\n",
       "2          False\n",
       "3          False\n",
       "4          False\n",
       "           ...  \n",
       "1768740    False\n",
       "1768741    False\n",
       "1768742    False\n",
       "1768743    False\n",
       "1768744    False\n",
       "Name: Zone, Length: 1768745, dtype: bool"
      ]
     },
     "execution_count": 40,
     "metadata": {},
     "output_type": "execute_result"
    }
   ],
   "source": [
    "missing_values"
   ]
  },
  {
   "cell_type": "code",
   "execution_count": null,
   "id": "f6bae99a-7442-433e-aa10-7c827c3d5fd1",
   "metadata": {},
   "outputs": [],
   "source": []
  },
  {
   "cell_type": "code",
   "execution_count": null,
   "id": "ddb3d2c7-7ddd-4b0d-990e-b683eb07e8aa",
   "metadata": {},
   "outputs": [],
   "source": []
  },
  {
   "cell_type": "code",
   "execution_count": null,
   "id": "b1c83423-c558-4511-a58b-9ccafd7e6a44",
   "metadata": {},
   "outputs": [],
   "source": []
  },
  {
   "cell_type": "markdown",
   "id": "c987a9bc-e93c-4e08-8086-f3750f5781c3",
   "metadata": {},
   "source": [
    "3.19. PartLoadMin Field"
   ]
  },
  {
   "cell_type": "markdown",
   "id": "afff02fd-6f51-4158-88da-1eb4440ed8cd",
   "metadata": {},
   "source": [
    "3.20. MinEfficiency Field"
   ]
  },
  {
   "cell_type": "markdown",
   "id": "7c843635-dabd-4198-b3cd-0f8c66fe0744",
   "metadata": {},
   "source": [
    "3.21. StartUpTime Field"
   ]
  },
  {
   "cell_type": "markdown",
   "id": "86f58789-8edf-423d-bb84-96bbfe411fcf",
   "metadata": {},
   "source": [
    "3.22. CO2Intensity Field"
   ]
  },
  {
   "cell_type": "markdown",
   "id": "8a170e4a-fd60-43a7-b3b3-21bfa947886d",
   "metadata": {},
   "source": [
    "3.23. COP Field"
   ]
  },
  {
   "cell_type": "markdown",
   "id": "a961252c-e9e1-46c7-877a-e7d6b5e09b7a",
   "metadata": {},
   "source": [
    "3.24. RampUpRate Field"
   ]
  },
  {
   "cell_type": "markdown",
   "id": "3c520cef-a947-44ea-99af-4f8ed6ecfc72",
   "metadata": {},
   "source": [
    "3.25. Tnominal Field"
   ]
  },
  {
   "cell_type": "markdown",
   "id": "f48542b0-a58d-4504-a905-f03dba142436",
   "metadata": {},
   "source": [
    "3.26. coef_COP_a Field"
   ]
  },
  {
   "cell_type": "markdown",
   "id": "75ae8b74-9230-4ea8-b95f-40f4bc1fea60",
   "metadata": {},
   "source": [
    "3.27. coef_COP_b Field"
   ]
  },
  {
   "cell_type": "markdown",
   "id": "a2302a0d-9280-417c-84a7-8fddfc3328fc",
   "metadata": {},
   "source": [
    "3.28. STOCapacity Field"
   ]
  },
  {
   "cell_type": "markdown",
   "id": "4656b629-633f-452b-9076-339cd331ba88",
   "metadata": {},
   "source": [
    "3.29. STOSelfDischarge Field"
   ]
  },
  {
   "cell_type": "markdown",
   "id": "d1912685-e652-47f0-8610-2ed0ca4f600b",
   "metadata": {},
   "source": [
    "3.30. STOMaxChargingPower Field"
   ]
  },
  {
   "cell_type": "markdown",
   "id": "5129e144-b32e-467f-9f93-184dd30f9c29",
   "metadata": {},
   "source": [
    "3.31. STOChargingEfficiency Field"
   ]
  },
  {
   "cell_type": "markdown",
   "id": "c37d089f-974c-48a0-a6a7-5b6eefdad61e",
   "metadata": {},
   "source": [
    "3.32. WaterWithdrawal Field"
   ]
  },
  {
   "cell_type": "markdown",
   "id": "0c982cfc-2475-4bee-a1b6-0ea668d48839",
   "metadata": {},
   "source": [
    "3.33. WaterConsumption Field"
   ]
  },
  {
   "cell_type": "code",
   "execution_count": null,
   "id": "072c2a52-8e16-4c4e-bfde-1bf33e47d9ba",
   "metadata": {},
   "outputs": [],
   "source": []
  },
  {
   "cell_type": "code",
   "execution_count": null,
   "id": "1d6a668b-94f8-44fc-9feb-7ba7cd3b9b65",
   "metadata": {},
   "outputs": [],
   "source": []
  }
 ],
 "metadata": {
  "kernelspec": {
   "display_name": "Python 3 (ipykernel)",
   "language": "python",
   "name": "python3"
  },
  "language_info": {
   "codemirror_mode": {
    "name": "ipython",
    "version": 3
   },
   "file_extension": ".py",
   "mimetype": "text/x-python",
   "name": "python",
   "nbconvert_exporter": "python",
   "pygments_lexer": "ipython3",
   "version": "3.11.7"
  }
 },
 "nbformat": 4,
 "nbformat_minor": 5
}
