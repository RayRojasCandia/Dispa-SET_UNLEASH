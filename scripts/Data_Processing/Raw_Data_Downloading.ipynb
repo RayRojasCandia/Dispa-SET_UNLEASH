{
 "cells": [
  {
   "cell_type": "markdown",
   "id": "a0f30da9-960c-4e04-b4ee-8ff10e879bb8",
   "metadata": {},
   "source": [
    "RAW DATA DOWNLOADING GENERAL SCRIPT | Files more than 100 MB"
   ]
  },
  {
   "cell_type": "markdown",
   "id": "4dc5fc4c-e1fb-4256-b08c-9b37296d8a65",
   "metadata": {},
   "source": [
    "Importing libraries"
   ]
  },
  {
   "cell_type": "code",
   "execution_count": 1,
   "id": "942c2505-2b68-4054-8712-c304c42bf0a6",
   "metadata": {},
   "outputs": [],
   "source": [
    "import os\n",
    "import requests"
   ]
  },
  {
   "cell_type": "markdown",
   "id": "76449363-6a4f-464f-909f-de54cf3a786f",
   "metadata": {},
   "source": [
    "Defining main funtion"
   ]
  },
  {
   "cell_type": "code",
   "execution_count": 2,
   "id": "23e407f1-bffb-4992-aca9-defcb8728ed2",
   "metadata": {},
   "outputs": [],
   "source": [
    "def download_and_split_file(url, download_dir, user_filename, user_extension):\n",
    "  \"\"\"Downloads the file, splits if larger than 100MB, and adds part suffixes (\"part_x\") before the extension.\"\"\""
   ]
  },
  {
   "cell_type": "markdown",
   "id": "8563d4d0-67fc-4e94-a141-f9fdf0936904",
   "metadata": {},
   "source": [
    "Defining the variables "
   ]
  },
  {
   "cell_type": "code",
   "execution_count": 3,
   "id": "544bf066-1fe3-47d0-a017-af7db4ee23d8",
   "metadata": {},
   "outputs": [],
   "source": [
    "# INTRODUCE THE DESIRED NAME, THE EXTENSION, THE URL LINK AND THE STORAGE DIRECTORY OF THE FILE TO BE DOWNLOADED\n",
    "user_filename = \"RenewablePowerPlants_EU\"\n",
    "user_extension = \".csv\"\n",
    "url = \"https://data.open-power-system-data.org/renewable_power_plants/2020-08-25/renewable_power_plants_EU.csv\"\n",
    "download_dir = \"/home/ray/Dispa-SET_Unleash/RawData/PowerPlants/RenewablePowerPlants_EU\""
   ]
  },
  {
   "cell_type": "markdown",
   "id": "41e04556-3fa3-4955-9036-351e2ec6b393",
   "metadata": {},
   "source": [
    "Sending a GET request to the URL"
   ]
  },
  {
   "cell_type": "code",
   "execution_count": 4,
   "id": "d14d9b8f-4023-4155-b88f-e11aa7b1b240",
   "metadata": {},
   "outputs": [],
   "source": [
    "response = requests.get(url, stream=True)"
   ]
  },
  {
   "cell_type": "markdown",
   "id": "42cfee1d-e615-4ef2-8553-f20d5ec1b688",
   "metadata": {},
   "source": [
    "Checking if the request was successful. Verifying the maximum size of the file to be downloaded. Splitting the file if it overcome the required size. Printing a success or error message"
   ]
  },
  {
   "cell_type": "code",
   "execution_count": null,
   "id": "8048ad40-0905-48a0-b3a0-3c5dc51ee1ef",
   "metadata": {},
   "outputs": [],
   "source": [
    "  if response.status_code == 200:\n",
    "    # Construct filename with part suffix if needed\n",
    "    part_number = 1\n",
    "    filename = f\"{user_filename}_part_{part_number}{user_extension}\"\n",
    "\n",
    "    # Define maximum part size in bytes (100 MB)\n",
    "    max_part_size = 90 * 1024 * 1024\n",
    "\n",
    "    # Download and split the file\n",
    "    downloaded_size = 0\n",
    "    with open(os.path.join(download_dir, filename), 'wb') as f:  # Open with full path\n",
    "      for chunk in response.iter_content(1024):\n",
    "        f.write(chunk)\n",
    "        downloaded_size += len(chunk)\n",
    "\n",
    "        # Check if part size limit is reached or end of file is reached\n",
    "        if downloaded_size >= max_part_size or chunk == b'':\n",
    "          f.close()  # Close the current file\n",
    "\n",
    "          if downloaded_size >= max_part_size:\n",
    "            # Create a new file for the next part\n",
    "            part_number += 1\n",
    "            filename = f\"{user_filename}_part_{part_number}{user_extension}\"\n",
    "            f = open(os.path.join(download_dir, filename), 'wb')\n",
    "            downloaded_size = 0  # Reset downloaded size for next part\n",
    "\n",
    "    print(f\"File downloaded successfully: {os.path.join(download_dir, filename)}\")\n",
    "  else:\n",
    "    print(f\"Error downloading file: {response.status_code}\")"
   ]
  },
  {
   "cell_type": "code",
   "execution_count": null,
   "id": "befdd0ee-ae76-411a-895e-de9d68297e54",
   "metadata": {},
   "outputs": [],
   "source": [
    "download_and_split_file(url, download_dir, user_filename, user_extension)"
   ]
  }
 ],
 "metadata": {
  "kernelspec": {
   "display_name": "Python 3 (Spyder)",
   "language": "python3",
   "name": "python3"
  },
  "language_info": {
   "codemirror_mode": {
    "name": "ipython",
    "version": 3
   },
   "file_extension": ".py",
   "mimetype": "text/x-python",
   "name": "python",
   "nbconvert_exporter": "python",
   "pygments_lexer": "ipython3",
   "version": "3.10.13"
  }
 },
 "nbformat": 4,
 "nbformat_minor": 5
}
