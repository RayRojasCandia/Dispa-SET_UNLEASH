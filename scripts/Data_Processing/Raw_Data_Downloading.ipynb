{
 "cells": [
  {
   "cell_type": "markdown",
   "id": "a0f30da9-960c-4e04-b4ee-8ff10e879bb8",
   "metadata": {},
   "source": [
    "RAW DATA DOWNLOADING GENERAL SCRIPT | SPLIT 90 MB LARGER FILES"
   ]
  },
  {
   "cell_type": "markdown",
   "id": "b3036586-bdc1-4120-82f2-1ed92194f473",
   "metadata": {},
   "source": [
    "The following file permit to download from a portal web changing the url link as variable. Also permit to change the extension of the file modifiying by other desired e.g. .xlsx, .txt. etc. Permit to give an specified name to the file adding the suffix \"_part_1\" for a posterious data management purpouses. Finally permit to give the phat to a .csv file, that has to be previously created, to writedown the link sources. All this modifications can be done at the part of the code called \"Defining the Variables\".\n",
    "Finally for downloaded files larger than 90 MB, the code permit to split the original file into smaller files, because of posterior management purpouses as well, adding the \"_part_2\", \"_part_3\" and so on.\n",
    "*Important to notice the code ovewrite any previous existing file into the set directory if the same has the same name, to avoid problems it is recomended changing the file name each time the code is running."
   ]
  },
  {
   "cell_type": "markdown",
   "id": "4dc5fc4c-e1fb-4256-b08c-9b37296d8a65",
   "metadata": {},
   "source": [
    "Importing libraries"
   ]
  },
  {
   "cell_type": "code",
   "execution_count": 1,
   "id": "942c2505-2b68-4054-8712-c304c42bf0a6",
   "metadata": {},
   "outputs": [],
   "source": [
    "import os\n",
    "import requests\n",
    "import csv"
   ]
  },
  {
   "cell_type": "markdown",
   "id": "76449363-6a4f-464f-909f-de54cf3a786f",
   "metadata": {},
   "source": [
    "Defining main funtion"
   ]
  },
  {
   "cell_type": "code",
   "execution_count": 2,
   "id": "23e407f1-bffb-4992-aca9-defcb8728ed2",
   "metadata": {},
   "outputs": [],
   "source": [
    "def download_and_split_file(url, download_dir, user_filename, user_extension, csv_filepath):\n",
    "  \"\"\"Downloads the file, splits if larger than 100MB, and adds part suffixes (\"part_x\") before the extension.\n",
    "  Also writes filename and url to a CSV.\"\"\""
   ]
  },
  {
   "cell_type": "markdown",
   "id": "8563d4d0-67fc-4e94-a141-f9fdf0936904",
   "metadata": {},
   "source": [
    "Defining the Variables "
   ]
  },
  {
   "cell_type": "code",
   "execution_count": 3,
   "id": "09185eae-66a4-4317-99b8-08df29eaf99d",
   "metadata": {},
   "outputs": [],
   "source": [
    "# INTRODUCE THE DESIRED NAME, THE EXTENSION, THE URL LINK AND THE STORAGE DIRECTORY OF THE FILE TO BE DOWNLOADED. ADDIOTANLLY SPECIFY THE SOURCES FILE PATH\n",
    "user_filename = \"ConventionalPowerPlants_EU\"\n",
    "user_extension = \".csv\"\n",
    "url = \"https://data.open-power-system-data.org/conventional_power_plants/2020-10-01/conventional_power_plants_EU.csv\"\n",
    "csv_filepath = \"/home/ray/Dispa-SET_Unleash/RawData/PowerPlants/Sources.csv\"\n",
    "download_dir = \"/home/ray/Dispa-SET_Unleash/RawData/PowerPlants\""
   ]
  },
  {
   "cell_type": "markdown",
   "id": "5328db68-b054-4b98-9791-321edf5d02a5",
   "metadata": {},
   "source": [
    "Defining maximum file size "
   ]
  },
  {
   "cell_type": "code",
   "execution_count": 4,
   "id": "f259ba07-c4da-4a73-a7aa-397c28dd0876",
   "metadata": {},
   "outputs": [],
   "source": [
    "max_part_size = 90 * 1024 * 1024"
   ]
  },
  {
   "cell_type": "markdown",
   "id": "41e04556-3fa3-4955-9036-351e2ec6b393",
   "metadata": {},
   "source": [
    "Sending a GET request to the URL"
   ]
  },
  {
   "cell_type": "code",
   "execution_count": 5,
   "id": "d14d9b8f-4023-4155-b88f-e11aa7b1b240",
   "metadata": {},
   "outputs": [],
   "source": [
    "response = requests.get(url, stream=True)"
   ]
  },
  {
   "cell_type": "markdown",
   "id": "42cfee1d-e615-4ef2-8553-f20d5ec1b688",
   "metadata": {},
   "source": [
    "Checking if the request was successful. Verifying the maximum size of the file to be downloaded. Splitting the file if it overcome the required size. Writing the link sources. Printing a success or error message"
   ]
  },
  {
   "cell_type": "code",
   "execution_count": 6,
   "id": "8048ad40-0905-48a0-b3a0-3c5dc51ee1ef",
   "metadata": {},
   "outputs": [
    {
     "name": "stdout",
     "output_type": "stream",
     "text": [
      "Filename and URL written to CSV: /home/ray/Dispa-SET_Unleash/RawData/PowerPlants/Sources.csv\n",
      "File downloaded successfully: /home/ray/Dispa-SET_Unleash/RawData/PowerPlants/ConventionalPowerPlants_EU_part_1.csv\n"
     ]
    }
   ],
   "source": [
    "  if response.status_code == 200:\n",
    "    # Construct filename with part suffix if needed\n",
    "    part_number = 1\n",
    "    filename = f\"{user_filename}_part_{part_number}{user_extension}\"\n",
    "\n",
    "    # Download and split the file\n",
    "    downloaded_size = 0\n",
    "    with open(os.path.join(download_dir, filename), 'wb') as f:  # Open with full path\n",
    "      for chunk in response.iter_content(1024):\n",
    "        f.write(chunk)\n",
    "        downloaded_size += len(chunk)\n",
    "\n",
    "        # Check if part size limit is reached or end of file is reached\n",
    "        if downloaded_size >= max_part_size or chunk == b'':\n",
    "          f.close()  # Close the current file\n",
    "\n",
    "          if downloaded_size >= max_part_size:\n",
    "            # Create a new file for the next part\n",
    "            part_number += 1\n",
    "            filename = f\"{user_filename}_part_{part_number}{user_extension}\"\n",
    "            f = open(os.path.join(download_dir, filename), 'wb')\n",
    "            downloaded_size = 0  # Reset downloaded size for next part\n",
    "\n",
    "    # Write filename and url to CSV\n",
    "    try:\n",
    "      # Open in append mode to add a new row\n",
    "      with open(csv_filepath, 'a', newline='') as csvfile:\n",
    "        writer = csv.writer(csvfile)\n",
    "        writer.writerow([user_filename, url])\n",
    "      print(f\"Filename and URL written to CSV: {csv_filepath}\")\n",
    "    except FileNotFoundError:\n",
    "      print(f\"CSV file not found: {csv_filepath}\")\n",
    "\n",
    "    # Print successful download message\n",
    "    print(f\"File downloaded successfully: {os.path.join(download_dir, filename)}\")\n",
    "\n",
    "  else:\n",
    "    print(f\"Error downloading file: {response.status_code}\")"
   ]
  }
 ],
 "metadata": {
  "kernelspec": {
   "display_name": "Python 3 (Spyder)",
   "language": "python3",
   "name": "python3"
  },
  "language_info": {
   "codemirror_mode": {
    "name": "ipython",
    "version": 3
   },
   "file_extension": ".py",
   "mimetype": "text/x-python",
   "name": "python",
   "nbconvert_exporter": "python",
   "pygments_lexer": "ipython3",
   "version": "3.10.13"
  }
 },
 "nbformat": 4,
 "nbformat_minor": 5
}
