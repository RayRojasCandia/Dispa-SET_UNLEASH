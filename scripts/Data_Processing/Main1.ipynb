{
 "cells": [
  {
   "cell_type": "markdown",
   "id": "0678bf30-601a-458d-b728-f1157bd7f94c",
   "metadata": {},
   "source": [
    "POWER PLANTS DATA PROCESING MAIN "
   ]
  },
  {
   "cell_type": "markdown",
   "id": "8ff2b158-df1b-457a-a80a-53cab45bb6e7",
   "metadata": {},
   "source": [
    "Each part of the following script was used to proccess the raw data for power plants units of the Dispa-SET_Unleash project. Read instructions carefully to follow all the process until final results stept by step."
   ]
  },
  {
   "cell_type": "markdown",
   "id": "1ec99ee3-df4a-47a3-89bc-02b16d1ff5e2",
   "metadata": {},
   "source": [
    "1. Zone Creation"
   ]
  },
  {
   "cell_type": "markdown",
   "id": "0d91f051-1eda-4127-b0d4-b6807fa74c27",
   "metadata": {},
   "source": [
    "    1.1. Run this cell to introduce the name of the folder where all the data is goint to be downloaded.\n",
    "  \n",
    "        To avvoid future errors it would rather to introduce names without spaces.\n",
    "        For European country names use the ISO 3166-1 standars i.e. AT, BE, BG, CH.... etc.\n",
    "\n",
    "    1.2. For the folder path is recommended keep the Dispa-SET directory structure:\n",
    "  \n",
    "        /dispa-SET/home/directory/path/RawData/PowerPlants\n",
    "        e.g.\n",
    "        /home/ray/Dispa-SET_Unleash/RawData/PowerPlants"
   ]
  },
  {
   "cell_type": "code",
   "execution_count": 4,
   "id": "273761ee-ea04-4ae6-9a99-c0b383759b0a",
   "metadata": {},
   "outputs": [
    {
     "name": "stdin",
     "output_type": "stream",
     "text": [
      "Enter the zone folder name:  TEST2\n",
      "Enter the power plants folder path:  /home/ray/Dispa-SET_Unleash/RawData/PowerPlants\n"
     ]
    },
    {
     "name": "stdout",
     "output_type": "stream",
     "text": [
      "Folder 'TEST2' created at: /home/ray/Dispa-SET_Unleash/RawData/PowerPlants\n",
      "Zone folder name: TEST2\n",
      "Zone folder path: /home/ray/Dispa-SET_Unleash/RawData/PowerPlants/TEST2\n"
     ]
    }
   ],
   "source": [
    "## Input variables from user\n",
    "zone_folder_name = input(\"Enter the zone folder name: \")\n",
    "power_plants_folder_path = input(\"Enter the power plants folder path: \")\n",
    "\n",
    "# Call the create_folder.py script using %run\n",
    "%run -i Zone_Folder_Creation.py {zone_folder_name} {power_plants_folder_path}"
   ]
  },
  {
   "cell_type": "markdown",
   "id": "f175816b-5e00-43e1-bd5f-45a895cdcb3f",
   "metadata": {},
   "source": [
    "2. Power Plants Data download"
   ]
  },
  {
   "cell_type": "markdown",
   "id": "f269d0b0-be22-48db-9aa2-a9e1fa2c3181",
   "metadata": {},
   "source": [
    "    2.1. Run this cell to download files containers of raw data related power plants units of the zone previously created i.e. BE, UK, CH,... etc.\n",
    "\n",
    "    2.2. To keep the Dispa-SET directories structure and name of files, is recommended to give the year of the data collected as the downloaded file name. Additionally there may be different power plant data sources for an only country, zone, region, etc; so it is also recommended to add a numeric suffix to the file name to difference between files:\n",
    "\n",
    "        user_filename = \"20##-##\"\n",
    "        e.g.\n",
    "        user_filename = \"2020-01\"\n",
    "    \n",
    "    2.3. All the scripts related to this MAIN code are desinged to proccess the original files from the following web sources at 2020:\n",
    "\n",
    "        For\n",
    "            BE (Belgium)\n",
    "                conventional and renewable power plants \n",
    "                    https://opendata.elia.be/pages/home/\n",
    "        For\n",
    "            DE (Germany)\n",
    "            DK (Denmark)\n",
    "            FR (France)\n",
    "            UK (United Kingdom)\n",
    "            PL (Poland)\n",
    "            CH (Switzerland)\n",
    "            CZ (Czech Republic)\n",
    "            SE (Sweden)\n",
    "                renewable power plants only\n",
    "                    https://data.open-power-system-data.org/renewable_power_plants/2020-08-25\n",
    "        For\n",
    "            DE (Germany)\n",
    "            AT (Austria)\n",
    "            CH (Switzerland)\n",
    "            CZ (Czech Republic)\n",
    "            DK (Denmark)\n",
    "            ES (Spain)\n",
    "            FI (Finland)\n",
    "            FR (France)\n",
    "            IT (Italy)\n",
    "            NL (the Netherlands)\n",
    "            NO (Norway)\n",
    "            PL (Poland)\n",
    "            SE (Sweden)\n",
    "            SK (Slovakia)\n",
    "            SI (Slovenia)\n",
    "            UK (United Kingdom)\n",
    "                conventional power plants only\n",
    "                    https://data.open-power-system-data.org/conventional_power_plants/2020-10-01   "
   ]
  },
  {
   "cell_type": "code",
   "execution_count": 5,
   "id": "43f25b98-5aeb-48cf-ac0e-f0a408f30537",
   "metadata": {},
   "outputs": [
    {
     "name": "stdout",
     "output_type": "stream",
     "text": [
      "Zone folder path: /home/ray/Dispa-SET_Unleash/RawData/PowerPlants/TEST2\n"
     ]
    },
    {
     "name": "stdin",
     "output_type": "stream",
     "text": [
      "Enter the file name:  2020-01\n",
      "Enter the download link:  https://opendata.elia.be/api/explore/v2.1/catalog/datasets/ods036/exports/csv?lang=en&timezone=Europe%2FBrussels&use_labels=true&delimiter=%3B\n"
     ]
    },
    {
     "name": "stdout",
     "output_type": "stream",
     "text": [
      "CSV file '/home/ray/Dispa-SET_Unleash/RawData/PowerPlants/TEST2/TEST2_sources.csv' created with the download link\n",
      "File '2020-01' downloaded and saved at: /home/ray/Dispa-SET_Unleash/RawData/PowerPlants/TEST2/2020-01\n"
     ]
    }
   ],
   "source": [
    "## Retrieve zone_folder_path from the output of the first cell (assuming it's stored in a variable named 'zone_folder_path')\n",
    "# If zone_folder_path is stored in a file, you would read it from the file here instead\n",
    "# For example:\n",
    "# with open(\"zone_folder_path.txt\", \"r\") as file:\n",
    "#     zone_folder_path = file.read()\n",
    "\n",
    "# Now you can use zone_folder_path as needed in this cell and subsequent cells\n",
    "print(\"Zone folder path:\", zone_folder_path)\n",
    "\n",
    "# Input file name and download link from user\n",
    "power_plants_file_name = input(\"Enter the file name: \")\n",
    "download_link = input(\"Enter the download link: \")\n",
    "\n",
    "# Call the download_script.py script using %run\n",
    "%run -i Power_Plants_Data_Download.py {power_plants_file_name} {download_link} {zone_folder_name} {zone_folder_path}"
   ]
  },
  {
   "cell_type": "code",
   "execution_count": null,
   "id": "6ed095b7-0c80-4d8b-ac6d-8cbe362e64f5",
   "metadata": {},
   "outputs": [],
   "source": [
    "Power Plants Data Formatting "
   ]
  },
  {
   "cell_type": "markdown",
   "id": "5dd2d47a-2551-4c5e-b65e-e2bd107e189d",
   "metadata": {},
   "source": [
    "2.1. Run this cell to download files containers of raw data related power plants units of the zone previously created i.e. BE, UK, CH,... etc.\n",
    "\n",
    "2.2. To keep the Dispa-SET directories structure and name of files, is recommended to give the year of the data collected as the downloaded file name. Additionally there may be different power plant data sources for an only country, zone, region, etc; so it is also recommended to add a numeric suffix to the file name to difference between files:\n",
    "\n",
    "    user_filename = \"20##-##\"\n",
    "    e.g.\n",
    "    user_filename = \"2020-01\"\n",
    "\n",
    "2.3. All the scripts related to this MAIN code are desinged to proccess the original files from the following web sources at 2020:\n",
    "\n",
    "    For\n",
    "        BE (Belgium)\n",
    "            conventional and renewable power plants \n",
    "                https://opendata.elia.be/pages/home/\n",
    "    For\n",
    "        DE (Germany)\n",
    "        DK (Denmark)\n",
    "        FR (France)\n",
    "        UK (United Kingdom)\n",
    "        PL (Poland)\n",
    "        CH (Switzerland)\n",
    "        CZ (Czech Republic)\n",
    "        SE (Sweden)\n",
    "            renewable power plants only\n",
    "                https://data.open-power-system-data.org/renewable_power_plants/2020-08-25\n",
    "    For\n",
    "        DE (Germany)\n",
    "        AT (Austria)\n",
    "        CH (Switzerland)\n",
    "        CZ (Czech Republic)\n",
    "        DK (Denmark)\n",
    "        ES (Spain)\n",
    "        FI (Finland)\n",
    "        FR (France)\n",
    "        IT (Italy)\n",
    "        NL (the Netherlands)\n",
    "        NO (Norway)\n",
    "        PL (Poland)\n",
    "        SE (Sweden)\n",
    "        SK (Slovakia)\n",
    "        SI (Slovenia)\n",
    "        UK (United Kingdom)\n",
    "            conventional power plants only\n",
    "                https://data.open-power-system-data.org/conventional_power_plants/2020-10-01   "
   ]
  },
  {
   "cell_type": "code",
   "execution_count": null,
   "id": "7033875e-e9cb-4687-afbf-f105f9e5f610",
   "metadata": {},
   "outputs": [],
   "source": [
    "%run Power_Plants_Data_Formating.py {power_plants_file_name}.csv"
   ]
  },
  {
   "cell_type": "code",
   "execution_count": null,
   "id": "3fd78f05-dc82-40ea-8168-96428c710b2c",
   "metadata": {},
   "outputs": [],
   "source": []
  },
  {
   "cell_type": "code",
   "execution_count": null,
   "id": "b126852f-0c1c-42c3-8fcd-12963c21c17b",
   "metadata": {},
   "outputs": [],
   "source": []
  }
 ],
 "metadata": {
  "kernelspec": {
   "display_name": "Python 3 (Spyder)",
   "language": "python3",
   "name": "python3"
  },
  "language_info": {
   "codemirror_mode": {
    "name": "ipython",
    "version": 3
   },
   "file_extension": ".py",
   "mimetype": "text/x-python",
   "name": "python",
   "nbconvert_exporter": "python",
   "pygments_lexer": "ipython3",
   "version": "3.11.7"
  }
 },
 "nbformat": 4,
 "nbformat_minor": 5
}
