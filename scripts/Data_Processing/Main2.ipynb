{
 "cells": [
  {
   "cell_type": "markdown",
   "id": "b8239950-9972-47ba-be2e-d97838368508",
   "metadata": {},
   "source": [
    "                                    POWER PLANTS DATA PROCESSING"
   ]
  },
  {
   "cell_type": "markdown",
   "id": "965cfbd4-2a50-4340-9c88-49a571282023",
   "metadata": {},
   "source": [
    "Each part of the following script was used to proccess the raw data for power plants units of the Dispa-SET_Unleash project. Read instructions carefully to follow all the process until final results stept by step."
   ]
  },
  {
   "cell_type": "markdown",
   "id": "808d1f74-131c-4768-8323-c50bd288a0a0",
   "metadata": {},
   "source": [
    "            1. ZONE AND FOLDER CREATION"
   ]
  },
  {
   "cell_type": "markdown",
   "id": "6bc26dd6-ac20-411d-8df0-38a90e935f15",
   "metadata": {},
   "source": [
    "1.1. Run the following two cell to introduce the name of the folder where all the data is goint to be downloaded.\n",
    "\n",
    "    For European country names use the ISO 3166-1 standars i.e. AT, BE, BG, CH.... etc. to give the zone folder name\n",
    "    For non European countries it would rather to call the zone folder name with the same word of how it is defined in the data to be downloaded and processed. e.g. If it is downloading a csv file with all power plants of Spain but just the units fo Pamplona city are wanted, and in the donwloaded file, Pamplona is refering with the acronim PMPLN; set the zone_file_name variable with the word PMPLN.\n",
    "\n",
    "1.2. For the folder path is recommended keep the Dispa-SET directory structure:\n",
    "\n",
    "    /dispa-SET/home/directory/path/RawData/PowerPlants\n",
    "    e.g.\n",
    "    /home/ray/Dispa-SET_Unleash/RawData/PowerPlants"
   ]
  },
  {
   "cell_type": "code",
   "execution_count": 1,
   "id": "870f02d7-064d-4097-8bb5-0482bca3463a",
   "metadata": {},
   "outputs": [],
   "source": [
    "# Define variables\n",
    "zone_folder_name = \"DE\"  # Replace with the desired folder name\n",
    "zone_folder_path = \"/home/ray/Dispa-SET_Unleash/RawData/PowerPlants\"  # Replace with the desired parent folder path\n",
    "\n",
    "# Call the external Python script with defined variables\n",
    "#%run -i Zone_Folder_Creation_1.py {zone_folder_name} {zone_folder_path}"
   ]
  },
  {
   "cell_type": "code",
   "execution_count": 2,
   "id": "e6a3a60e-92d1-45cd-b2c4-063d6b524e95",
   "metadata": {},
   "outputs": [
    {
     "name": "stdout",
     "output_type": "stream",
     "text": [
      "Folder DE created at: /home/ray/Dispa-SET_Unleash/RawData/PowerPlants\n",
      "zone_folder_name: DE\n",
      "zone_folder_path: /home/ray/Dispa-SET_Unleash/RawData/PowerPlants\n",
      "power_plants_raw_data_folder_path: /home/ray/Dispa-SET_Unleash/RawData/PowerPlants/DE\n"
     ]
    }
   ],
   "source": [
    "import os\n",
    "#import sys\n",
    "\n",
    "def create_folder(folder_name, parent_folder_path):\n",
    "    \"\"\"\n",
    "    Creates a folder with the specified name in the specified parent folder.\n",
    "    \n",
    "    Parameters:\n",
    "    - folder_name: The name of the folder to be created (string)\n",
    "    - parent_folder_path: The path of the parent folder (string)\n",
    "    \n",
    "    Returns:\n",
    "    - folder_path: The path of the folder created (string)\n",
    "    \"\"\"\n",
    "    folder_path = os.path.join(parent_folder_path, folder_name)\n",
    "    os.makedirs(folder_path, exist_ok=True)  # Create folder if it doesn't exist\n",
    "    return folder_path\n",
    "\n",
    "# Input variables from command line arguments\n",
    "#zone_folder_name = sys.argv[1]\n",
    "#zone_folder_path = sys.argv[2]\n",
    "\n",
    "# Call create_folder function with provided arguments\n",
    "power_plants_raw_data_folder_path = create_folder(zone_folder_name, zone_folder_path)\n",
    "\n",
    "# Print the path of the folder created\n",
    "print(f\"Folder {zone_folder_name} created at: {zone_folder_path}\")\n",
    "\n",
    "\n",
    "# Print the values of the input variables\n",
    "print(\"zone_folder_name:\", zone_folder_name)\n",
    "print(\"zone_folder_path:\", zone_folder_path)   \n",
    "print(\"power_plants_raw_data_folder_path:\", power_plants_raw_data_folder_path) "
   ]
  },
  {
   "cell_type": "markdown",
   "id": "a85b23a2-bf25-4ade-9282-ae2b812190a3",
   "metadata": {},
   "source": [
    "- verifiyng variables\n",
    "\n",
    "  This cells are just to confirm all the file names, file paths and other information related to the data being processed.\n",
    "  Also are used to ensure the inputs for next cells in order to avoid to re-enter the same information each time."
   ]
  },
  {
   "cell_type": "code",
   "execution_count": 3,
   "id": "0de74daf-80ce-4414-afcc-8c5ce40af7f6",
   "metadata": {},
   "outputs": [
    {
     "name": "stdout",
     "output_type": "stream",
     "text": [
      "zone_folder_name: DE\n",
      "power_plants_raw_data_folder_path: /home/ray/Dispa-SET_Unleash/RawData/PowerPlants/DE\n",
      "zone_folder_path: /home/ray/Dispa-SET_Unleash/RawData/PowerPlants\n"
     ]
    }
   ],
   "source": [
    "print (f\"zone_folder_name: {zone_folder_name}\\npower_plants_raw_data_folder_path: {power_plants_raw_data_folder_path}\\nzone_folder_path: {zone_folder_path}\")"
   ]
  },
  {
   "cell_type": "markdown",
   "id": "87a9604f-a562-42be-87d4-291f6342672b",
   "metadata": {},
   "source": [
    "            2. POWER PLANTS RAW DATA DOWNLOAD"
   ]
  },
  {
   "cell_type": "markdown",
   "id": "dde6296b-f903-45b0-b26e-7ee0d33c2cb2",
   "metadata": {},
   "source": [
    "2.1. Run the following two cells to download files containers of raw data related power plants units of the zone previously created i.e. BE, UK, CH,... etc.\n",
    "\n",
    "2.2. To keep the Dispa-SET directories structure and file names, is recommended to give the year which the data is referring to as the downloaded file name. Alsom there may be different power plant data sources for an only country, zone, region, etc; so it is also recommended to add a numeric suffix to the file name to difference between files. Aditionally, take account to give the appropiate file extension to the downloaded file name, .csv in this case:\n",
    "\n",
    "    power_plants_raw_data_file_name = \"20##-##.csv\"\n",
    "    e.g.\n",
    "    power_plants_raw_data_file_name = \"2020-01.csv\"\n",
    "\n",
    "2.3. All the scripts related to this MAIN code are desinged to proccess the original files from the following web sources at 2020:\n",
    "\n",
    "    For\n",
    "        BE (Belgium)\n",
    "            conventional and renewable power plants \n",
    "                https://opendata.elia.be/pages/home/\n",
    "    For\n",
    "        DE (Germany)\n",
    "        DK (Denmark)\n",
    "        FR (France)\n",
    "        UK (United Kingdom)\n",
    "        PL (Poland)\n",
    "        CH (Switzerland)\n",
    "        CZ (Czech Republic)\n",
    "        SE (Sweden)\n",
    "            renewable power plants only\n",
    "                https://data.open-power-system-data.org/renewable_power_plants/2020-08-25\n",
    "    For\n",
    "        DE (Germany)\n",
    "        AT (Austria)\n",
    "        CH (Switzerland)\n",
    "        CZ (Czech Republic)\n",
    "        DK (Denmark)\n",
    "        ES (Spain)\n",
    "        FI (Finland)\n",
    "        FR (France)\n",
    "        IT (Italy)\n",
    "        NL (the Netherlands)\n",
    "        NO (Norway)\n",
    "        PL (Poland)\n",
    "        SE (Sweden)\n",
    "        SK (Slovakia)\n",
    "        SI (Slovenia)\n",
    "        UK (United Kingdom)\n",
    "            conventional power plants only\n",
    "                https://data.open-power-system-data.org/conventional_power_plants/2020-10-01"
   ]
  },
  {
   "cell_type": "code",
   "execution_count": 4,
   "id": "ecb954f6-3120-41cd-a2ad-2a1b27a3491c",
   "metadata": {},
   "outputs": [],
   "source": [
    "# Input file name and download link from user\n",
    "power_plants_raw_data_file_name = \"2020-01.csv\"\n",
    "power_plants_raw_data_download_link = \"https://data.open-power-system-data.org/conventional_power_plants/2020-10-01/conventional_power_plants_EU.csv\"\n",
    "\n",
    "# Call the download_script.py script using %run\n",
    "#%run -i Power_Plants_Data_Download_1.py {power_plants_raw_data_download_link} {power_plants_raw_data_folder_path} {power_plants_raw_data_file_name}"
   ]
  },
  {
   "cell_type": "code",
   "execution_count": 5,
   "id": "963cb5b2-9982-4086-8c2e-38dcdf44df03",
   "metadata": {},
   "outputs": [
    {
     "name": "stdout",
     "output_type": "stream",
     "text": [
      "File '2020-01.csv' downloaded and saved at: /home/ray/Dispa-SET_Unleash/RawData/PowerPlants/DE/2020-01.csv\n",
      "power_plants_raw_data_file_path: /home/ray/Dispa-SET_Unleash/RawData/PowerPlants/DE/2020-01.csv\n"
     ]
    }
   ],
   "source": [
    "import os\n",
    "import csv\n",
    "import requests\n",
    "\n",
    "def download_file(url, folder_path, file_name):\n",
    "    \"\"\"\n",
    "    Downloads a file from the given URL and saves it to the specified folder path with the given filename and extension.\n",
    "    \n",
    "    Parameters:\n",
    "    - url: The URL to download the file from (string)\n",
    "    - folder_path: The path of the folder where the file will be saved (string)\n",
    "    - file_name: The name of the file (string)\n",
    "    \n",
    "    Returns:\n",
    "    - downloaded_file_path: The full path of the downloaded file (string)\n",
    "    \"\"\"\n",
    "    downloaded_file_path = os.path.join(folder_path, file_name)\n",
    "    response = requests.get(url)\n",
    "    if response.status_code == 200:\n",
    "        with open(downloaded_file_path, 'wb') as f:\n",
    "            f.write(response.content)\n",
    "        return downloaded_file_path\n",
    "    else:\n",
    "        print(f\"Error downloading file: {response.status_code}\")\n",
    "        return None\n",
    "\n",
    "# Input variables from command line arguments\n",
    "#power_plants_file_name = sys.argv[1]\n",
    "#download_link = sys.argv[2]\n",
    "#zone_folder_name = sys.argv[3]\n",
    "#zone_folder_path = sys.argv[4]\n",
    "\n",
    "# Create folder if it doesn't exist\n",
    "if not os.path.exists(zone_folder_path):\n",
    "    os.makedirs(zone_folder_path)\n",
    "\n",
    "# Download the file\n",
    "downloaded_file_path = download_file(power_plants_raw_data_download_link, power_plants_raw_data_folder_path, power_plants_raw_data_file_name)\n",
    "\n",
    "print(f\"File '{power_plants_raw_data_file_name}' downloaded and saved at: {downloaded_file_path}\")\n",
    "power_plants_raw_data_file_path = downloaded_file_path\n",
    "print(f'power_plants_raw_data_file_path: {power_plants_raw_data_file_path}')"
   ]
  },
  {
   "cell_type": "markdown",
   "id": "6bbc678b-7ffd-4a4c-9cfc-f49de3fa3acb",
   "metadata": {},
   "source": [
    "- verifiyng variables\n",
    "\n",
    "  This cells are just to confirm all the file names, file paths and other information related to the data being processed.\n",
    "  Also are used to ensure the inputs for next cells in order to avoid to re-enter the same information each time."
   ]
  },
  {
   "cell_type": "code",
   "execution_count": 6,
   "id": "6cc3b0bd-0316-422a-9dba-b3c243b07be7",
   "metadata": {},
   "outputs": [
    {
     "name": "stdout",
     "output_type": "stream",
     "text": [
      "zone_folder_name: DE\n",
      "zone_folder_path: /home/ray/Dispa-SET_Unleash/RawData/PowerPlants\n",
      "power_plants_raw_data_folder_path: /home/ray/Dispa-SET_Unleash/RawData/PowerPlants/DE\n",
      "power_plants_raw_data_file_name: 2020-01.csv\n",
      "power_plants_raw_data_download_link: https://data.open-power-system-data.org/conventional_power_plants/2020-10-01/conventional_power_plants_EU.csv\n",
      "power_plants_raw_data_file_path: /home/ray/Dispa-SET_Unleash/RawData/PowerPlants/DE/2020-01.csv\n"
     ]
    }
   ],
   "source": [
    "print (f\"zone_folder_name: {zone_folder_name}\\nzone_folder_path: {zone_folder_path}\\npower_plants_raw_data_folder_path: {power_plants_raw_data_folder_path}\\npower_plants_raw_data_file_name: {power_plants_raw_data_file_name}\\npower_plants_raw_data_download_link: {power_plants_raw_data_download_link}\\npower_plants_raw_data_file_path: {power_plants_raw_data_file_path}\")"
   ]
  },
  {
   "cell_type": "markdown",
   "id": "fda4ecdf-6815-453c-92b9-79c01c2fdb20",
   "metadata": {},
   "source": [
    "- Saving power plants raw data link sources\n",
    "\n",
    "  The next two cells create a .csv file where all the download links used in each download action are written and so to provide a only file where all online sources can be found"
   ]
  },
  {
   "cell_type": "code",
   "execution_count": 7,
   "id": "975464a0-00f2-46bd-925e-61822d1ec58d",
   "metadata": {},
   "outputs": [],
   "source": [
    "power_plants_raw_data_download_link_sources_folder_path = zone_folder_path"
   ]
  },
  {
   "cell_type": "code",
   "execution_count": 8,
   "id": "3f3edea2-eae0-4fdd-accc-b55c5d01a53a",
   "metadata": {},
   "outputs": [
    {
     "name": "stdout",
     "output_type": "stream",
     "text": [
      "A file with the name 'power_plants_raw_data_download_link_sources.csv' already exists in the specified directory. CSV file not created.\n",
      "power_plants_raw_data_download_link_sources_file_name: power_plants_raw_data_download_link_sources.csv\n",
      "power_plants_raw_data_download_link_sources_folder_path: /home/ray/Dispa-SET_Unleash/RawData/PowerPlants\n"
     ]
    }
   ],
   "source": [
    "import pandas as pd\n",
    "import os\n",
    "\n",
    "def create_csv(power_plants_raw_data_download_link_sources_file_name, power_plants_raw_data_download_link_sources_folder_path, sources_file_headers):\n",
    "    # Define file path\n",
    "    file_path = f\"{power_plants_raw_data_download_link_sources_folder_path}/{power_plants_raw_data_download_link_sources_file_name}\"\n",
    "    \n",
    "    # Check if the file already exists\n",
    "    if os.path.exists(file_path):\n",
    "        print(f\"A file with the name '{power_plants_raw_data_download_link_sources_file_name}' already exists in the specified directory. CSV file not created.\")\n",
    "        return\n",
    "    \n",
    "    # Create DataFrame with empty values based on headers\n",
    "    df = pd.DataFrame(columns=sources_file_headers)\n",
    "    \n",
    "    # Write DataFrame to CSV\n",
    "    df.to_csv(file_path, index=False)\n",
    "    print(f\"CSV file '{power_plants_raw_data_download_link_sources_file_name}' created successfully at '{power_plants_raw_data_download_link_sources_folder_path}'.\")\n",
    "\n",
    "# Example usage\n",
    "power_plants_raw_data_download_link_sources_file_name = \"power_plants_raw_data_download_link_sources.csv\"  # Fixed file name\n",
    "#folder_path = input(\"Enter the folder path: \")\n",
    "sources_file_headers = [\"zone_folder_name\", \"zone_folder_path\", \"file_name\", \"download_link\"]\n",
    "\n",
    "create_csv(power_plants_raw_data_download_link_sources_file_name, power_plants_raw_data_download_link_sources_folder_path, sources_file_headers)\n",
    "\n",
    "print(f'power_plants_raw_data_download_link_sources_file_name: {power_plants_raw_data_download_link_sources_file_name}')\n",
    "print(f'power_plants_raw_data_download_link_sources_folder_path: {power_plants_raw_data_download_link_sources_folder_path}')"
   ]
  },
  {
   "cell_type": "markdown",
   "id": "b88cf19c-0c0e-4625-8be3-55870cb9cbfb",
   "metadata": {},
   "source": [
    "- verifiyng variables\n",
    "\n",
    "  This cells are just to confirm all the file names, file paths and other information related to the data being processed.\n",
    "  Also are used to ensure the inputs for next cells in order to avoid to re-enter the same information each time."
   ]
  },
  {
   "cell_type": "code",
   "execution_count": 9,
   "id": "52b1da06-1eea-4d72-8c82-607bbbc38193",
   "metadata": {},
   "outputs": [
    {
     "name": "stdout",
     "output_type": "stream",
     "text": [
      "zone_folder_name: DE\n",
      "zone_folder_path: /home/ray/Dispa-SET_Unleash/RawData/PowerPlants\n",
      "power_plants_raw_data_folder_path: /home/ray/Dispa-SET_Unleash/RawData/PowerPlants/DE\n",
      "power_plants_raw_data_file_name: 2020-01.csv\n",
      "power_plants_raw_data_download_link: https://data.open-power-system-data.org/conventional_power_plants/2020-10-01/conventional_power_plants_EU.csv\n",
      "power_plants_raw_data_file_path: /home/ray/Dispa-SET_Unleash/RawData/PowerPlants/DE/2020-01.csv\n",
      "power_plants_raw_data_download_link_sources_file_name: power_plants_raw_data_download_link_sources.csv\n",
      "power_plants_raw_data_download_link_sources_folder_path: /home/ray/Dispa-SET_Unleash/RawData/PowerPlants\n"
     ]
    }
   ],
   "source": [
    "print (f\"zone_folder_name: {zone_folder_name}\\nzone_folder_path: {zone_folder_path}\\npower_plants_raw_data_folder_path: {power_plants_raw_data_folder_path}\\npower_plants_raw_data_file_name: {power_plants_raw_data_file_name}\\npower_plants_raw_data_download_link: {power_plants_raw_data_download_link}\\npower_plants_raw_data_file_path: {power_plants_raw_data_file_path}\\npower_plants_raw_data_download_link_sources_file_name: {power_plants_raw_data_download_link_sources_file_name}\\npower_plants_raw_data_download_link_sources_folder_path: {power_plants_raw_data_download_link_sources_folder_path}\")"
   ]
  },
  {
   "cell_type": "code",
   "execution_count": 10,
   "id": "a2258f27-7663-4322-800c-96f03fabfcec",
   "metadata": {},
   "outputs": [
    {
     "name": "stdout",
     "output_type": "stream",
     "text": [
      "Existing columns in the CSV file:\n",
      "['zone_folder_name', 'zone_folder_path', 'file_name', 'download_link']\n",
      "Data written to CSV successfully.\n"
     ]
    }
   ],
   "source": [
    "import pandas as pd\n",
    "import os\n",
    "\n",
    "def write_to_csv(file_path, data_dict):\n",
    "    # Read existing CSV file\n",
    "    df = pd.read_csv(file_path)\n",
    "    \n",
    "    # Create a DataFrame for the new row with empty values\n",
    "    new_row = pd.DataFrame([data_dict])\n",
    "    \n",
    "    # Append the new row to the existing DataFrame\n",
    "    df = pd.concat([df, new_row], ignore_index=True)\n",
    "    \n",
    "    # Write the updated DataFrame back to CSV\n",
    "    df.to_csv(file_path, index=False)\n",
    "    print(\"Data written to CSV successfully.\")\n",
    "\n",
    "if __name__ == \"__main__\":\n",
    "    # Input variables\n",
    "    #power_plants_raw_data_download_link_sources_file_name = \"power_plants_raw_data_download_link_sources.csv\"\n",
    "    #power_plants_raw_data_download_link_sources_folder_path = input(\"power_plants_raw_data_download_link_sources_folder_path\")\n",
    "\n",
    "    # Construct the full file path\n",
    "    file_path = os.path.join(power_plants_raw_data_download_link_sources_folder_path, power_plants_raw_data_download_link_sources_file_name)\n",
    "    \n",
    "    # Read the existing CSV file to understand its structure\n",
    "    df = pd.read_csv(file_path)\n",
    "    print(\"Existing columns in the CSV file:\")\n",
    "    print(df.columns.tolist())\n",
    "\n",
    "    # Additional data to be written\n",
    "    data_dict = {\n",
    "        \"zone_folder_name\": zone_folder_name,\n",
    "        \"zone_folder_path\": zone_folder_path,\n",
    "        \"file_name\": power_plants_raw_data_file_name,\n",
    "        \"download_link\": power_plants_raw_data_download_link\n",
    "    }\n",
    "\n",
    "    # Write data to the next empty row in the CSV file\n",
    "    write_to_csv(file_path, data_dict)"
   ]
  },
  {
   "cell_type": "markdown",
   "id": "826d64b3-21aa-428b-8826-7e745b8d8be4",
   "metadata": {},
   "source": [
    "- verifiyng variables\n",
    "\n",
    "  This cells are just to confirm all the file names, file paths and other information related to the data being processed.\n",
    "  Also are used to ensure the inputs for next cells in order to avoid to re-enter the same information each time."
   ]
  },
  {
   "cell_type": "code",
   "execution_count": 11,
   "id": "601451d8-8fdf-4f7c-8a1d-23ffbba367f3",
   "metadata": {},
   "outputs": [
    {
     "name": "stdout",
     "output_type": "stream",
     "text": [
      "zone_folder_name: DE\n",
      "zone_folder_path: /home/ray/Dispa-SET_Unleash/RawData/PowerPlants\n",
      "power_plants_raw_data_folder_path: /home/ray/Dispa-SET_Unleash/RawData/PowerPlants/DE\n",
      "power_plants_raw_data_file_name: 2020-01.csv\n",
      "power_plants_raw_data_download_link: https://data.open-power-system-data.org/conventional_power_plants/2020-10-01/conventional_power_plants_EU.csv\n",
      "power_plants_raw_data_file_path: /home/ray/Dispa-SET_Unleash/RawData/PowerPlants/DE/2020-01.csv\n",
      "power_plants_raw_data_download_link_sources_file_name: power_plants_raw_data_download_link_sources.csv\n",
      "power_plants_raw_data_download_link_sources_folder_path: /home/ray/Dispa-SET_Unleash/RawData/PowerPlants\n"
     ]
    }
   ],
   "source": [
    "print (f\"zone_folder_name: {zone_folder_name}\\nzone_folder_path: {zone_folder_path}\\npower_plants_raw_data_folder_path: {power_plants_raw_data_folder_path}\\npower_plants_raw_data_file_name: {power_plants_raw_data_file_name}\\npower_plants_raw_data_download_link: {power_plants_raw_data_download_link}\\npower_plants_raw_data_file_path: {power_plants_raw_data_file_path}\\npower_plants_raw_data_download_link_sources_file_name: {power_plants_raw_data_download_link_sources_file_name}\\npower_plants_raw_data_download_link_sources_folder_path: {power_plants_raw_data_download_link_sources_folder_path}\")"
   ]
  },
  {
   "cell_type": "markdown",
   "id": "86029cf6-07a3-4b16-b4ed-c0899e3e7ab5",
   "metadata": {},
   "source": [
    "            3. POWER PLANTS DATA FORMATING"
   ]
  },
  {
   "cell_type": "markdown",
   "id": "ba3f8b3d-9000-46aa-8423-6b03c144f026",
   "metadata": {},
   "source": [
    "3.1. Defining variable as the file name of all clean data and the directory where it will be stored. \n",
    "    \n",
    "    It is recommended to give the year which the data is refering to as the name of the power plants clean data file. \n",
    "    Aditionally, take account to give the appropiate file extension to the downloaded file name, .csv in this case:\n",
    "\n",
    "    power_plants_clean_data_file_name = \"20##.csv\"\n",
    "        e.g.\n",
    "    power_plants_clean_data_file_name = \"2020.csv\""
   ]
  },
  {
   "cell_type": "code",
   "execution_count": 12,
   "id": "0481c62b-e1b7-45ee-9476-547c84429fcb",
   "metadata": {},
   "outputs": [],
   "source": [
    "# Define the power plants data file name\n",
    "#power_plants_raw_data_folder_path = \"/home/ray/Dispa-SET_Unleash/RawData/PowerPlants/0\"\n",
    "power_plants_clean_data_file_name = \"2020.csv\"  # Replace with the desired file name\n",
    "# Call the external Python script with defined variables\n",
    "#%run -i Power_Plants_Data_Formating.py {power_plants_raw_data_folder_path} {power_plants_data_file_name} "
   ]
  },
  {
   "cell_type": "markdown",
   "id": "9be4acc6-3c5e-4128-9344-7c8c713b6969",
   "metadata": {},
   "source": [
    "3.2. Creating .csv clean data file with its respective headers."
   ]
  },
  {
   "cell_type": "code",
   "execution_count": 13,
   "id": "9ef94f32-320b-4197-8357-38af94fdc530",
   "metadata": {},
   "outputs": [
    {
     "name": "stdout",
     "output_type": "stream",
     "text": [
      "CSV file '2020.csv' created with headers: , Unit, PowerCapacity, Nunits, Zone, Zone_th, Zone_h2, Technology, Fuel, Efficiency, MinUpTime, MinDownTime, RampUpRate, RampDownRate, StartUpCost, NoLoadCost_pu, RampingCost, PartLoadMin, MinEfficiency, StartUpTime, CO2Intensity, CHPType, CHPPowerToHeat, CHPPowerLossFactor, CHPMaxHeat, COP, Tnominal, coef_COP_a, coef_COP_b, STOCapacity, STOSelfDischarge, STOMaxChargingPower, STOChargingEfficiency, WaterWithdrawal, WaterConsumption, Status, Source\n",
      "CSV file '2020.csv' created with headers: , Unit, PowerCapacity, Nunits, Zone, Zone_th, Zone_h2, Technology, Fuel, Efficiency, MinUpTime, MinDownTime, RampUpRate, RampDownRate, StartUpCost, NoLoadCost_pu, RampingCost, PartLoadMin, MinEfficiency, StartUpTime, CO2Intensity, CHPType, CHPPowerToHeat, CHPPowerLossFactor, CHPMaxHeat, COP, Tnominal, coef_COP_a, coef_COP_b, STOCapacity, STOSelfDischarge, STOMaxChargingPower, STOChargingEfficiency, WaterWithdrawal, WaterConsumption, Status, Source\n",
      "power_plants_clean_data_folder_path: /home/ray/Dispa-SET_Unleash/RawData/PowerPlants/DE\n",
      "power_plants_clean_data_file_path: /home/ray/Dispa-SET_Unleash/RawData/PowerPlants/DE/2020.csv\n"
     ]
    }
   ],
   "source": [
    "import sys\n",
    "import pandas as pd\n",
    "import os\n",
    "\n",
    "def create_csv_file(folder_path, file_name, data=None):\n",
    "  \"\"\"\n",
    "  Creates a CSV file with predefined headers using pandas.\n",
    "\n",
    "  Args:\n",
    "      folder_path (str): The path of the folder where the CSV file will be created.\n",
    "      file_name (str): The name of the CSV file.\n",
    "      data (list of lists or pandas.DataFrame, optional): Data to write to the CSV (default: None).\n",
    "\n",
    "  Returns:\n",
    "      None\n",
    "  \"\"\"\n",
    "\n",
    "  headers = [\n",
    "      \"\", \"Unit\", \"PowerCapacity\", \"Nunits\", \"Zone\", \"Zone_th\", \"Zone_h2\", \"Technology\", \"Fuel\", \"Efficiency\",\n",
    "      \"MinUpTime\", \"MinDownTime\", \"RampUpRate\", \"RampDownRate\", \"StartUpCost\", \"NoLoadCost_pu\", \"RampingCost\",\n",
    "      \"PartLoadMin\", \"MinEfficiency\", \"StartUpTime\", \"CO2Intensity\", \"CHPType\", \"CHPPowerToHeat\",\n",
    "      \"CHPPowerLossFactor\", \"CHPMaxHeat\", \"COP\", \"Tnominal\", \"coef_COP_a\", \"coef_COP_b\", \"STOCapacity\",\n",
    "      \"STOSelfDischarge\", \"STOMaxChargingPower\", \"STOChargingEfficiency\", \"WaterWithdrawal\", \"WaterConsumption\", \"Status\", \"Source\"\n",
    "  ]\n",
    "\n",
    "  # Create empty DataFrame if no data provided\n",
    "  if data is None:\n",
    "      data = []\n",
    "  elif not isinstance(data, (list, pd.DataFrame)):\n",
    "      raise TypeError(\"Data must be a list of lists or a pandas.DataFrame\")\n",
    "\n",
    "  df = pd.DataFrame(data, columns=headers)\n",
    "\n",
    "  # Handle potential directory error and combine path with file name\n",
    "  try:\n",
    "      file_path = os.path.join(folder_path, file_name)\n",
    "  except IsADirectoryError:\n",
    "      print(f\"Error: '{folder_path}' is a directory. Please provide a file name within the directory.\")\n",
    "      return None\n",
    "\n",
    "  # Save DataFrame to CSV file\n",
    "  df.to_csv(file_path, index=False)  # Don't include row index in CSV\n",
    "\n",
    "  print(f\"CSV file '{file_name}' created with headers: {', '.join(headers)}\")\n",
    "  return file_path\n",
    "\n",
    "#power_plants_raw_data_folder_path = \"/home/ray/Dispa-SET_Unleash/RawData/PowerPlants/0\"\n",
    "#power_plants_clean_data_file_name = \"2020.csv\"\n",
    "\n",
    "# Input variables from command line arguments\n",
    "#power_plants_raw_data_folder_path = sys.argv[1]\n",
    "#power_plants_data_file_name = sys.argv[2]\n",
    "\n",
    "\n",
    "create_csv_file(power_plants_raw_data_folder_path, power_plants_clean_data_file_name, data=None)\n",
    "file_path = create_csv_file(power_plants_raw_data_folder_path, power_plants_clean_data_file_name, data=None)\n",
    "\n",
    "power_plants_clean_data_folder_path = power_plants_raw_data_folder_path  # Copy the path to a new variable\n",
    "power_plants_clean_data_file_path = file_path\n",
    "\n",
    "print(\"power_plants_clean_data_folder_path:\", power_plants_clean_data_folder_path)\n",
    "print(\"power_plants_clean_data_file_path:\", power_plants_clean_data_file_path)"
   ]
  },
  {
   "cell_type": "markdown",
   "id": "39de7765-7af1-4d42-927e-cae4ca7da58a",
   "metadata": {},
   "source": [
    "- verifiyng variables\n",
    "\n",
    "  This cells are just to confirm all the file names, file paths and other information related to the data being processed.\n",
    "  Also are used to ensure the inputs for next cells in order to avoid to re-enter the same information each time."
   ]
  },
  {
   "cell_type": "code",
   "execution_count": 14,
   "id": "44feed5d-2a8b-444c-9134-362e32dc1664",
   "metadata": {},
   "outputs": [
    {
     "name": "stdout",
     "output_type": "stream",
     "text": [
      "zone_folder_name: DE\n",
      "zone_folder_path: /home/ray/Dispa-SET_Unleash/RawData/PowerPlants\n",
      "power_plants_raw_data_folder_path: /home/ray/Dispa-SET_Unleash/RawData/PowerPlants/DE\n",
      "power_plants_raw_data_file_name: 2020-01.csv\n",
      "power_plants_raw_data_download_link: https://data.open-power-system-data.org/conventional_power_plants/2020-10-01/conventional_power_plants_EU.csv\n",
      "power_plants_raw_data_file_path: /home/ray/Dispa-SET_Unleash/RawData/PowerPlants/DE/2020-01.csv\n",
      "power_plants_raw_data_download_link_sources_file_name: power_plants_raw_data_download_link_sources.csv\n",
      "power_plants_raw_data_download_link_sources_folder_path: /home/ray/Dispa-SET_Unleash/RawData/PowerPlants\n",
      "power_plants_clean_data_file_name: 2020.csv\n",
      "power_plants_clean_data_folder_path /home/ray/Dispa-SET_Unleash/RawData/PowerPlants/DE\n",
      "power_plants_clean_data_file_path /home/ray/Dispa-SET_Unleash/RawData/PowerPlants/DE/2020.csv\n"
     ]
    }
   ],
   "source": [
    "print (f\"zone_folder_name: {zone_folder_name}\\nzone_folder_path: {zone_folder_path}\\npower_plants_raw_data_folder_path: {power_plants_raw_data_folder_path}\\npower_plants_raw_data_file_name: {power_plants_raw_data_file_name}\\npower_plants_raw_data_download_link: {power_plants_raw_data_download_link}\\npower_plants_raw_data_file_path: {power_plants_raw_data_file_path}\\npower_plants_raw_data_download_link_sources_file_name: {power_plants_raw_data_download_link_sources_file_name}\\npower_plants_raw_data_download_link_sources_folder_path: {power_plants_raw_data_download_link_sources_folder_path}\\npower_plants_clean_data_file_name: {power_plants_clean_data_file_name}\\npower_plants_clean_data_folder_path {power_plants_clean_data_folder_path}\\npower_plants_clean_data_file_path {power_plants_clean_data_file_path}\")"
   ]
  },
  {
   "cell_type": "markdown",
   "id": "db8c7b56-7d79-42f1-bb1f-9b89bb85c6af",
   "metadata": {},
   "source": [
    "3.3. Comparing headers of both files power_plants_raw_data_file and power_plants_clean_data_file to select the common ones.\n",
    "\n",
    "    Once visualized both row headers chose the name of the columns (headers) to identify wich are the relevant data needed to Dispa-SET. "
   ]
  },
  {
   "cell_type": "code",
   "execution_count": 15,
   "id": "7e0b37fb-c035-4155-bd6e-7b3034a5f493",
   "metadata": {},
   "outputs": [
    {
     "name": "stdout",
     "output_type": "stream",
     "text": [
      "Headers for 2020-01.csv\n",
      "name company street postcode city country capacity energy_source technology chp\n",
      "commissioned type lat lon eic_code energy_source_level_1 energy_source_level_2 energy_source_level_3 additional_info comment source\n",
      "Headers for 2020.csv\n",
      "Unnamed: 0 Unit PowerCapacity Nunits Zone Zone_th Zone_h2 Technology Fuel Efficiency MinUpTime MinDownTime RampUpRate RampDownRate StartUpCost NoLoadCost_pu RampingCost PartLoadMin\n",
      "MinEfficiency StartUpTime CO2Intensity CHPType CHPPowerToHeat CHPPowerLossFactor CHPMaxHeat COP Tnominal coef_COP_a coef_COP_b STOCapacity STOSelfDischarge STOMaxChargingPower STOChargingEfficiency WaterWithdrawal WaterConsumption Status Source\n"
     ]
    }
   ],
   "source": [
    "import os\n",
    "import pandas as pd\n",
    "\n",
    "def print_headers_in_rows(folder_path):\n",
    "    \"\"\"\n",
    "    Print the headers of all CSV files in the specified folder in two different rows.\n",
    "    \n",
    "    Parameters:\n",
    "    - folder_path: Path to the folder containing CSV files (string)\n",
    "    \n",
    "    Returns:\n",
    "    - None\n",
    "    \"\"\"\n",
    "    # Get list of CSV files in the folder\n",
    "    files = [file for file in os.listdir(folder_path) if file.endswith(\".csv\")]\n",
    "    \n",
    "    # Loop through each file\n",
    "    for file in files:\n",
    "        file_path = os.path.join(folder_path, file)\n",
    "        # Read header of the CSV file\n",
    "        headers = pd.read_csv(file_path, nrows=1).columns.tolist()\n",
    "        # Print headers in two different rows\n",
    "        print(\"Headers for\", file)\n",
    "        print(\" \".join(headers[:len(headers)//2]))\n",
    "        print(\" \".join(headers[len(headers)//2:]))\n",
    "\n",
    "# Specify the folder containing CSV files\n",
    "folder_path = power_plants_raw_data_folder_path  # Replace with the path to your folder\n",
    "\n",
    "# Print headers in two different rows for CSV files in the folder\n",
    "print_headers_in_rows(folder_path)\n"
   ]
  },
  {
   "cell_type": "markdown",
   "id": "93af4f20-abf3-4e0e-bf4e-f188090c1d4f",
   "metadata": {},
   "source": [
    "3.4. Copying the selected columns from the power plants raw data file to the power plants clean data file. \n",
    "    \n",
    "    Once the desired columns are identified, copy each header into the following cell using the variable \"source_columns\". \n",
    "    Also enter the headers where that data want to be copied in the other file using the variable \"target_colums\""
   ]
  },
  {
   "cell_type": "code",
   "execution_count": 16,
   "id": "ecfa1608-3605-490b-888b-ed66a664427c",
   "metadata": {},
   "outputs": [],
   "source": [
    "# Specify paths and column names\n",
    "power_plants_raw_data_file_headers = [\"name\", \"capacity\", \"country\", \"energy_source\", \"technology\", \"chp\", \"source\"]  # List of columns to copy from the source file\n",
    "power_plants_clean_data_file_headers = [\"Unit\", \"PowerCapacity\", \"Zone\", \"Fuel\", \"Technology\", \"CHPType\", \"Source\"]  # List of columns to copy to in the target file"
   ]
  },
  {
   "cell_type": "code",
   "execution_count": 17,
   "id": "d9eb1388-585a-4dd7-8f2c-094dc8d600a4",
   "metadata": {},
   "outputs": [
    {
     "name": "stdout",
     "output_type": "stream",
     "text": [
      "Columns ['name', 'capacity', 'country', 'energy_source', 'technology', 'chp', 'source'] copied from '/home/ray/Dispa-SET_Unleash/RawData/PowerPlants/DE/2020-01.csv' to '/home/ray/Dispa-SET_Unleash/RawData/PowerPlants/DE/2020.csv'.\n"
     ]
    }
   ],
   "source": [
    "source_columns = power_plants_raw_data_file_headers  # List of columns to copy from the source file\n",
    "target_columns = power_plants_clean_data_file_headers  # List of columns to copy to in the target file\n",
    "source_file = power_plants_raw_data_file_path\n",
    "target_file = power_plants_clean_data_file_path\n",
    "\n",
    "\n",
    "import pandas as pd\n",
    "\n",
    "def copy_columns_between_files(source_file, source_columns, target_file, target_columns):\n",
    "    \"\"\"\n",
    "    Copy columns from one CSV file to another CSV file.\n",
    "    \n",
    "    Parameters:\n",
    "    - source_file: Path to the source CSV file (string)\n",
    "    - source_columns: List of column names to copy from the source file (list of strings)\n",
    "    - target_file: Path to the target CSV file (string)\n",
    "    - target_columns: List of column names to copy to in the target file (list of strings)\n",
    "    \n",
    "    Returns:\n",
    "    - None\n",
    "    \"\"\"\n",
    "    # Read source CSV file\n",
    "    source_df = pd.read_csv(source_file)\n",
    "    \n",
    "    # Read target CSV file\n",
    "    target_df = pd.read_csv(target_file)\n",
    "    \n",
    "    # Copy each specified column from source to target\n",
    "    for source_column, target_column in zip(source_columns, target_columns):\n",
    "        # Check if source column exists in source DataFrame\n",
    "        if source_column not in source_df.columns:\n",
    "            print(f\"Source column '{source_column}' not found in '{source_file}'. Skipping...\")\n",
    "            continue\n",
    "        \n",
    "        # Check if target column exists in target DataFrame\n",
    "        if target_column not in target_df.columns:\n",
    "            print(f\"Target column '{target_column}' not found in '{target_file}'. Skipping...\")\n",
    "            continue\n",
    "        \n",
    "        # Copy values from source column to target column\n",
    "        target_df[target_column] = source_df[source_column]\n",
    "    \n",
    "    # Write updated target DataFrame to CSV file\n",
    "    target_df.to_csv(target_file, index=False)\n",
    "    print(f\"Columns {source_columns} copied from '{source_file}' to '{target_file}'.\")\n",
    "\n",
    "# Copy columns from source file to target file\n",
    "copy_columns_between_files(source_file, source_columns, target_file, target_columns)\n",
    "\n",
    "power_plants_raw_data_file_headers = source_columns"
   ]
  },
  {
   "cell_type": "markdown",
   "id": "b6702759-b1fa-48b3-90f7-98a31b8265d7",
   "metadata": {},
   "source": [
    "- verifiyng variables\n",
    "\n",
    "  This cells are just to confirm all the file names, file paths and other information related to the data being processed.\n",
    "  Also are used to ensure the inputs for next cells in order to avoid to re-enter the same information each time."
   ]
  },
  {
   "cell_type": "code",
   "execution_count": 18,
   "id": "e9f011d3-bc96-4677-9159-3d4352d2e13b",
   "metadata": {},
   "outputs": [
    {
     "name": "stdout",
     "output_type": "stream",
     "text": [
      "zone_folder_name: DE\n",
      "zone_folder_path: /home/ray/Dispa-SET_Unleash/RawData/PowerPlants\n",
      "power_plants_raw_data_folder_path: /home/ray/Dispa-SET_Unleash/RawData/PowerPlants/DE\n",
      "power_plants_raw_data_file_name: 2020-01.csv\n",
      "power_plants_raw_data_download_link: https://data.open-power-system-data.org/conventional_power_plants/2020-10-01/conventional_power_plants_EU.csv\n",
      "power_plants_raw_data_file_path: /home/ray/Dispa-SET_Unleash/RawData/PowerPlants/DE/2020-01.csv\n",
      "power_plants_raw_data_download_link_sources_file_name: power_plants_raw_data_download_link_sources.csv\n",
      "power_plants_raw_data_download_link_sources_folder_path: /home/ray/Dispa-SET_Unleash/RawData/PowerPlants\n",
      "power_plants_clean_data_file_name: 2020.csv\n",
      "power_plants_clean_data_folder_path /home/ray/Dispa-SET_Unleash/RawData/PowerPlants/DE\n",
      "power_plants_clean_data_file_path /home/ray/Dispa-SET_Unleash/RawData/PowerPlants/DE/2020.csv\n"
     ]
    }
   ],
   "source": [
    "print (f\"zone_folder_name: {zone_folder_name}\\nzone_folder_path: {zone_folder_path}\\npower_plants_raw_data_folder_path: {power_plants_raw_data_folder_path}\\npower_plants_raw_data_file_name: {power_plants_raw_data_file_name}\\npower_plants_raw_data_download_link: {power_plants_raw_data_download_link}\\npower_plants_raw_data_file_path: {power_plants_raw_data_file_path}\\npower_plants_raw_data_download_link_sources_file_name: {power_plants_raw_data_download_link_sources_file_name}\\npower_plants_raw_data_download_link_sources_folder_path: {power_plants_raw_data_download_link_sources_folder_path}\\npower_plants_clean_data_file_name: {power_plants_clean_data_file_name}\\npower_plants_clean_data_folder_path {power_plants_clean_data_folder_path}\\npower_plants_clean_data_file_path {power_plants_clean_data_file_path}\")"
   ]
  },
  {
   "cell_type": "markdown",
   "id": "94b72220-e6c0-4d5d-b78b-f8bf22d11c1c",
   "metadata": {},
   "source": [
    "3.5. Copying the selected headers from the power plants raw data file to the power plants equivalent headers table file. \n",
    "\n",
    "    This cell copy automatically the selected headers in the previous cell to an allready created csv file an so agregate a table to be used in future version as a comparing point and so to make automatically the headers comparition stept."
   ]
  },
  {
   "cell_type": "code",
   "execution_count": 19,
   "id": "b975f726-31f8-4cc9-83a5-311ab5e7da04",
   "metadata": {},
   "outputs": [
    {
     "name": "stdout",
     "output_type": "stream",
     "text": [
      "Data appended successfully.\n"
     ]
    }
   ],
   "source": [
    "import pandas as pd\n",
    "import os\n",
    "\n",
    "# Variables\n",
    "power_plants_all_data_equivalent_headers_file_name = 'power_plants_all_data_equivalent_headers.csv'\n",
    "#zone_folder_path = '/home/ray/Dispa-SET_Unleash/RawData/PowerPlants'\n",
    "#power_plants_raw_data_file_headers = ['name', 'capacity', 'country', 'energy_source', 'technology', 'chp', 'source']\n",
    "#power_plants_clean_data_file_headers = ['Unit', 'PowerCapacity', 'Zone', 'Fuel', 'Technology', 'CHPType', 'Source']\n",
    "\n",
    "# Read CSV file\n",
    "file_path = os.path.join(zone_folder_path, power_plants_all_data_equivalent_headers_file_name)\n",
    "existing_df = pd.read_csv(file_path)\n",
    "\n",
    "# Create a new row with None values\n",
    "new_row = [None] * len(existing_df.columns)\n",
    "\n",
    "# Map each header from power_plants_raw_data_file_headers to the corresponding column in the CSV file based on power_plants_clean_data_file_headers\n",
    "column_mapping = dict(zip(power_plants_raw_data_file_headers, power_plants_clean_data_file_headers))\n",
    "for header, col_name in column_mapping.items():\n",
    "    if col_name in existing_df.columns:\n",
    "        new_row[existing_df.columns.get_loc(col_name)] = header\n",
    "\n",
    "# Append the new row to the existing DataFrame\n",
    "existing_df.loc[len(existing_df)] = new_row\n",
    "\n",
    "# Write the updated DataFrame back to the CSV file\n",
    "existing_df.to_csv(file_path, index=False)\n",
    "\n",
    "print(\"Data appended successfully.\")\n",
    "\n",
    "power_plants_all_data_equivalent_headers_file_path = file_path"
   ]
  },
  {
   "cell_type": "markdown",
   "id": "337b106f-ebb6-4951-8b41-33337cf2c84e",
   "metadata": {},
   "source": [
    "- verifiyng variables\n",
    "\n",
    "  This cells are just to confirm all the file names, file paths and other information related to the data being processed.\n",
    "  Also are used to ensure the inputs for next cells in order to avoid to re-enter the same information each time."
   ]
  },
  {
   "cell_type": "code",
   "execution_count": 20,
   "id": "572e9dfd-7f6c-4de6-ae0b-043227f38991",
   "metadata": {},
   "outputs": [
    {
     "name": "stdout",
     "output_type": "stream",
     "text": [
      "zone_folder_name: DE\n",
      "zone_folder_path: /home/ray/Dispa-SET_Unleash/RawData/PowerPlants\n",
      "power_plants_raw_data_folder_path: /home/ray/Dispa-SET_Unleash/RawData/PowerPlants/DE\n",
      "power_plants_raw_data_file_name: 2020-01.csv\n",
      "power_plants_raw_data_download_link: https://data.open-power-system-data.org/conventional_power_plants/2020-10-01/conventional_power_plants_EU.csv\n",
      "power_plants_raw_data_file_path: /home/ray/Dispa-SET_Unleash/RawData/PowerPlants/DE/2020-01.csv\n",
      "power_plants_raw_data_download_link_sources_file_name: power_plants_raw_data_download_link_sources.csv\n",
      "power_plants_raw_data_download_link_sources_folder_path: /home/ray/Dispa-SET_Unleash/RawData/PowerPlants\n",
      "power_plants_clean_data_file_name: 2020.csv\n",
      "power_plants_clean_data_folder_path /home/ray/Dispa-SET_Unleash/RawData/PowerPlants/DE\n",
      "power_plants_clean_data_file_path /home/ray/Dispa-SET_Unleash/RawData/PowerPlants/DE/2020.csv\n",
      "power_plants_raw_data_file_headers: ['name', 'capacity', 'country', 'energy_source', 'technology', 'chp', 'source']\n",
      "power_plants_clean_data_file_headers: ['Unit', 'PowerCapacity', 'Zone', 'Fuel', 'Technology', 'CHPType', 'Source']\n",
      "power_plants_all_data_equivalent_headers_file_name: power_plants_all_data_equivalent_headers.csv\n",
      "power_plants_all_data_equivalent_headers_file_path: /home/ray/Dispa-SET_Unleash/RawData/PowerPlants/power_plants_all_data_equivalent_headers.csv\n"
     ]
    }
   ],
   "source": [
    "print (f\"zone_folder_name: {zone_folder_name}\\nzone_folder_path: {zone_folder_path}\\npower_plants_raw_data_folder_path: {power_plants_raw_data_folder_path}\\npower_plants_raw_data_file_name: {power_plants_raw_data_file_name}\\npower_plants_raw_data_download_link: {power_plants_raw_data_download_link}\\npower_plants_raw_data_file_path: {power_plants_raw_data_file_path}\\npower_plants_raw_data_download_link_sources_file_name: {power_plants_raw_data_download_link_sources_file_name}\\npower_plants_raw_data_download_link_sources_folder_path: {power_plants_raw_data_download_link_sources_folder_path}\\npower_plants_clean_data_file_name: {power_plants_clean_data_file_name}\\npower_plants_clean_data_folder_path {power_plants_clean_data_folder_path}\\npower_plants_clean_data_file_path {power_plants_clean_data_file_path}\\npower_plants_raw_data_file_headers: {power_plants_raw_data_file_headers}\\npower_plants_clean_data_file_headers: {power_plants_clean_data_file_headers}\\npower_plants_all_data_equivalent_headers_file_name: {power_plants_all_data_equivalent_headers_file_name}\\npower_plants_all_data_equivalent_headers_file_path: {power_plants_all_data_equivalent_headers_file_path}\")"
   ]
  },
  {
   "cell_type": "markdown",
   "id": "ab755144-287e-4e3d-b866-c1a76791a926",
   "metadata": {},
   "source": [
    "3.6. Zone Filter\n",
    "\n",
    "    This part erase all data that does not belongs to the zone/country/region/state/etc. to be modeled.\n",
    "    This stept can be jumped if it would rather to use an a single file where all units of all the zones are placed in however it is recommended to keep the dispa-SET directories structure i.e. storage all the power plants data related to a zone in a separated folder.\n",
    "    Additioanlly, if the name of the zone/country/region to be filtered is not the same of the zone_folder_name variable uncommen the next line and comment and enter the correponding name of the zone wanted to be filtered next comment the subsecuent line."
   ]
  },
  {
   "cell_type": "code",
   "execution_count": 21,
   "id": "7895544d-e5d6-452f-9a1b-ba612fcf6a9e",
   "metadata": {},
   "outputs": [],
   "source": [
    "#zone_name= \"Set the name of zone to be filtered\"\n",
    "zone_name = zone_folder_name"
   ]
  },
  {
   "cell_type": "code",
   "execution_count": 22,
   "id": "d27d4a56-d970-4b30-891e-3e79e2928c38",
   "metadata": {},
   "outputs": [
    {
     "name": "stdout",
     "output_type": "stream",
     "text": [
      "Rows filtered successfully.\n"
     ]
    }
   ],
   "source": [
    "import pandas as pd\n",
    "\n",
    "# Variables\n",
    "#power_plants_clean_data_file_path = \"/home/ray/Dispa-SET_Unleash/RawData/PowerPlants/DE/2020.csv\"\n",
    "#zone_name = zone_folder_name\n",
    "\n",
    "# Read CSV file\n",
    "df = pd.read_csv(power_plants_clean_data_file_path)\n",
    "\n",
    "# Filter rows where the \"Zone\" column matches zone_folder_name\n",
    "filtered_df = df[df[\"Zone\"] == zone_name]\n",
    "\n",
    "# Overwrite the CSV file with the filtered DataFrame\n",
    "filtered_df.to_csv(power_plants_clean_data_file_path, index=False)\n",
    "\n",
    "print(\"Rows filtered successfully.\")"
   ]
  },
  {
   "cell_type": "markdown",
   "id": "0e50ccd7-5d22-4c4b-bc9b-c8ed6bf3241a",
   "metadata": {},
   "source": [
    "- verifiyng variables\n",
    "\n",
    "  This cells are just to confirm all the file names, file paths and other information related to the data being processed.\n",
    "  Also are used to ensure the inputs for next cells in order to avoid to re-enter the same information each time."
   ]
  },
  {
   "cell_type": "code",
   "execution_count": 23,
   "id": "f88d0161-5dfb-454b-8e3e-f33a66075726",
   "metadata": {},
   "outputs": [
    {
     "name": "stdout",
     "output_type": "stream",
     "text": [
      "zone_folder_name: DE\n",
      "zone_folder_path: /home/ray/Dispa-SET_Unleash/RawData/PowerPlants\n",
      "power_plants_raw_data_folder_path: /home/ray/Dispa-SET_Unleash/RawData/PowerPlants/DE\n",
      "power_plants_raw_data_file_name: 2020-01.csv\n",
      "power_plants_raw_data_download_link: https://data.open-power-system-data.org/conventional_power_plants/2020-10-01/conventional_power_plants_EU.csv\n",
      "power_plants_raw_data_file_path: /home/ray/Dispa-SET_Unleash/RawData/PowerPlants/DE/2020-01.csv\n",
      "power_plants_raw_data_download_link_sources_file_name: power_plants_raw_data_download_link_sources.csv\n",
      "power_plants_raw_data_download_link_sources_folder_path: /home/ray/Dispa-SET_Unleash/RawData/PowerPlants\n",
      "power_plants_clean_data_file_name: 2020.csv\n",
      "power_plants_clean_data_folder_path /home/ray/Dispa-SET_Unleash/RawData/PowerPlants/DE\n",
      "power_plants_clean_data_file_path /home/ray/Dispa-SET_Unleash/RawData/PowerPlants/DE/2020.csv\n",
      "power_plants_raw_data_file_headers: ['name', 'capacity', 'country', 'energy_source', 'technology', 'chp', 'source']\n",
      "power_plants_clean_data_file_headers: ['Unit', 'PowerCapacity', 'Zone', 'Fuel', 'Technology', 'CHPType', 'Source']\n",
      "power_plants_all_data_equivalent_headers_file_name: power_plants_all_data_equivalent_headers.csv\n",
      "power_plants_all_data_equivalent_headers_file_path: /home/ray/Dispa-SET_Unleash/RawData/PowerPlants/power_plants_all_data_equivalent_headers.csv\n"
     ]
    }
   ],
   "source": [
    "print (f\"zone_folder_name: {zone_folder_name}\\nzone_folder_path: {zone_folder_path}\\npower_plants_raw_data_folder_path: {power_plants_raw_data_folder_path}\\npower_plants_raw_data_file_name: {power_plants_raw_data_file_name}\\npower_plants_raw_data_download_link: {power_plants_raw_data_download_link}\\npower_plants_raw_data_file_path: {power_plants_raw_data_file_path}\\npower_plants_raw_data_download_link_sources_file_name: {power_plants_raw_data_download_link_sources_file_name}\\npower_plants_raw_data_download_link_sources_folder_path: {power_plants_raw_data_download_link_sources_folder_path}\\npower_plants_clean_data_file_name: {power_plants_clean_data_file_name}\\npower_plants_clean_data_folder_path {power_plants_clean_data_folder_path}\\npower_plants_clean_data_file_path {power_plants_clean_data_file_path}\\npower_plants_raw_data_file_headers: {power_plants_raw_data_file_headers}\\npower_plants_clean_data_file_headers: {power_plants_clean_data_file_headers}\\npower_plants_all_data_equivalent_headers_file_name: {power_plants_all_data_equivalent_headers_file_name}\\npower_plants_all_data_equivalent_headers_file_path: {power_plants_all_data_equivalent_headers_file_path}\")"
   ]
  },
  {
   "cell_type": "markdown",
   "id": "6769016b-54f1-4c63-b10d-64688e15e73e",
   "metadata": {},
   "source": [
    "3.6.  Nunits Filter\n",
    "\n",
    "    This part assign a number of 1 to the column called Units of the respective cell does not have any data."
   ]
  },
  {
   "cell_type": "code",
   "execution_count": 24,
   "id": "798c08c7-2c5f-4965-882b-b7d6a9d1b742",
   "metadata": {},
   "outputs": [
    {
     "name": "stdout",
     "output_type": "stream",
     "text": [
      "Empty cells in the 'Nunits' column have been filled with 1.\n"
     ]
    }
   ],
   "source": [
    "import pandas as pd\n",
    "\n",
    "# Variables\n",
    "#power_plants_clean_data_file_path = \"/home/ray/Dispa-SET_Unleash/RawData/PowerPlants/DE/2020.csv\"\n",
    "Header_3 = \"Nunits\"\n",
    "\n",
    "# Read CSV file\n",
    "df = pd.read_csv(power_plants_clean_data_file_path)\n",
    "\n",
    "# Fill empty cells in the \"Nunits\" column with 1\n",
    "df[Header_3] = df[Header_3].fillna(1)\n",
    "\n",
    "# Write the updated DataFrame back to the CSV file\n",
    "df.to_csv(power_plants_clean_data_file_path, index=False)\n",
    "\n",
    "print(\"Empty cells in the 'Nunits' column have been filled with 1.\")"
   ]
  },
  {
   "cell_type": "markdown",
   "id": "0157f6f7-7989-4fd9-aa7b-60b3f724ec7d",
   "metadata": {},
   "source": [
    "- verifiyng variables\n",
    "\n",
    "  This cells are just to confirm all the file names, file paths and other information related to the data being processed.\n",
    "  Also are used to ensure the inputs for next cells in order to avoid to re-enter the same information each time."
   ]
  },
  {
   "cell_type": "code",
   "execution_count": 25,
   "id": "97518506-dc4c-4f99-bca2-0901f469aa56",
   "metadata": {
    "scrolled": true
   },
   "outputs": [
    {
     "name": "stdout",
     "output_type": "stream",
     "text": [
      "zone_folder_name: DE\n",
      "zone_folder_path: /home/ray/Dispa-SET_Unleash/RawData/PowerPlants\n",
      "power_plants_raw_data_folder_path: /home/ray/Dispa-SET_Unleash/RawData/PowerPlants/DE\n",
      "power_plants_raw_data_file_name: 2020-01.csv\n",
      "power_plants_raw_data_download_link: https://data.open-power-system-data.org/conventional_power_plants/2020-10-01/conventional_power_plants_EU.csv\n",
      "power_plants_raw_data_file_path: /home/ray/Dispa-SET_Unleash/RawData/PowerPlants/DE/2020-01.csv\n",
      "power_plants_raw_data_download_link_sources_file_name: power_plants_raw_data_download_link_sources.csv\n",
      "power_plants_raw_data_download_link_sources_folder_path: /home/ray/Dispa-SET_Unleash/RawData/PowerPlants\n",
      "power_plants_clean_data_file_name: 2020.csv\n",
      "power_plants_clean_data_folder_path /home/ray/Dispa-SET_Unleash/RawData/PowerPlants/DE\n",
      "power_plants_clean_data_file_path /home/ray/Dispa-SET_Unleash/RawData/PowerPlants/DE/2020.csv\n",
      "power_plants_raw_data_file_headers: ['name', 'capacity', 'country', 'energy_source', 'technology', 'chp', 'source']\n",
      "power_plants_clean_data_file_headers: ['Unit', 'PowerCapacity', 'Zone', 'Fuel', 'Technology', 'CHPType', 'Source']\n",
      "power_plants_all_data_equivalent_headers_file_name: power_plants_all_data_equivalent_headers.csv\n",
      "power_plants_all_data_equivalent_headers_file_path: /home/ray/Dispa-SET_Unleash/RawData/PowerPlants/power_plants_all_data_equivalent_headers.csv\n"
     ]
    }
   ],
   "source": [
    "print (f\"zone_folder_name: {zone_folder_name}\\nzone_folder_path: {zone_folder_path}\\npower_plants_raw_data_folder_path: {power_plants_raw_data_folder_path}\\npower_plants_raw_data_file_name: {power_plants_raw_data_file_name}\\npower_plants_raw_data_download_link: {power_plants_raw_data_download_link}\\npower_plants_raw_data_file_path: {power_plants_raw_data_file_path}\\npower_plants_raw_data_download_link_sources_file_name: {power_plants_raw_data_download_link_sources_file_name}\\npower_plants_raw_data_download_link_sources_folder_path: {power_plants_raw_data_download_link_sources_folder_path}\\npower_plants_clean_data_file_name: {power_plants_clean_data_file_name}\\npower_plants_clean_data_folder_path {power_plants_clean_data_folder_path}\\npower_plants_clean_data_file_path {power_plants_clean_data_file_path}\\npower_plants_raw_data_file_headers: {power_plants_raw_data_file_headers}\\npower_plants_clean_data_file_headers: {power_plants_clean_data_file_headers}\\npower_plants_all_data_equivalent_headers_file_name: {power_plants_all_data_equivalent_headers_file_name}\\npower_plants_all_data_equivalent_headers_file_path: {power_plants_all_data_equivalent_headers_file_path}\")"
   ]
  },
  {
   "cell_type": "markdown",
   "id": "1975ca3c-e928-4213-bdc6-ee69a5ec39e0",
   "metadata": {},
   "source": [
    "3.6.  Unit Filter\n",
    "\n",
    "    This part joint all the units with the same name adding their respective capacity and number of units."
   ]
  },
  {
   "cell_type": "code",
   "execution_count": 26,
   "id": "487b78f1-91de-412e-a1c4-f7528aa1da45",
   "metadata": {},
   "outputs": [
    {
     "name": "stdout",
     "output_type": "stream",
     "text": [
      "Duplicated cells in the 'Unit' column processed successfully.\n"
     ]
    }
   ],
   "source": [
    "import pandas as pd\n",
    "\n",
    "# Variables\n",
    "#power_plants_clean_data_file_path = \"/home/ray/Dispa-SET_Unleash/RawData/PowerPlants/DE/2020.csv\"\n",
    "Header_1 = \"Unit\"\n",
    "Header_2 = \"PowerCapacity\"\n",
    "Header_3 = \"Nunits\"\n",
    "\n",
    "# Read CSV file\n",
    "df = pd.read_csv(power_plants_clean_data_file_path)\n",
    "\n",
    "# Find duplicated cells in the \"Unit\" column\n",
    "duplicated_units = df[df.duplicated(subset=[Header_1], keep=False)]\n",
    "\n",
    "# Process duplicated units\n",
    "for unit in duplicated_units[Header_1].unique():\n",
    "    # Filter rows with the current duplicated unit\n",
    "    unit_rows = df[df[Header_1] == unit]\n",
    "    # Calculate the sum of \"Nunits\" and \"PowerCapacity\"\n",
    "    total_nunits = unit_rows[Header_3].sum()\n",
    "    total_power_capacity = unit_rows[Header_2].sum()\n",
    "    # Put the sum results in the first duplicated row\n",
    "    first_row_index = unit_rows.index[0]\n",
    "    df.at[first_row_index, Header_3] = total_nunits\n",
    "    df.at[first_row_index, Header_2] = total_power_capacity\n",
    "    # Drop other duplicated rows\n",
    "    df.drop(unit_rows.index[1:], inplace=True)\n",
    "\n",
    "# Write the updated DataFrame back to the CSV file\n",
    "df.to_csv(power_plants_clean_data_file_path, index=False)\n",
    "\n",
    "print(\"Duplicated cells in the 'Unit' column processed successfully.\")"
   ]
  },
  {
   "cell_type": "markdown",
   "id": "2397975a-fffa-4c95-844f-de17672c3294",
   "metadata": {},
   "source": [
    "- verifiyng variables\n",
    "\n",
    "  This cells are just to confirm all the file names, file paths and other information related to the data being processed.\n",
    "  Also are used to ensure the inputs for next cells in order to avoid to re-enter the same information each time."
   ]
  },
  {
   "cell_type": "code",
   "execution_count": 27,
   "id": "c0341b3d-0257-477f-b4c4-66284dc895fa",
   "metadata": {
    "scrolled": true
   },
   "outputs": [
    {
     "name": "stdout",
     "output_type": "stream",
     "text": [
      "zone_folder_name: DE\n",
      "zone_folder_path: /home/ray/Dispa-SET_Unleash/RawData/PowerPlants\n",
      "power_plants_raw_data_folder_path: /home/ray/Dispa-SET_Unleash/RawData/PowerPlants/DE\n",
      "power_plants_raw_data_file_name: 2020-01.csv\n",
      "power_plants_raw_data_download_link: https://data.open-power-system-data.org/conventional_power_plants/2020-10-01/conventional_power_plants_EU.csv\n",
      "power_plants_raw_data_file_path: /home/ray/Dispa-SET_Unleash/RawData/PowerPlants/DE/2020-01.csv\n",
      "power_plants_raw_data_download_link_sources_file_name: power_plants_raw_data_download_link_sources.csv\n",
      "power_plants_raw_data_download_link_sources_folder_path: /home/ray/Dispa-SET_Unleash/RawData/PowerPlants\n",
      "power_plants_clean_data_file_name: 2020.csv\n",
      "power_plants_clean_data_folder_path /home/ray/Dispa-SET_Unleash/RawData/PowerPlants/DE\n",
      "power_plants_clean_data_file_path /home/ray/Dispa-SET_Unleash/RawData/PowerPlants/DE/2020.csv\n",
      "power_plants_raw_data_file_headers: ['name', 'capacity', 'country', 'energy_source', 'technology', 'chp', 'source']\n",
      "power_plants_clean_data_file_headers: ['Unit', 'PowerCapacity', 'Zone', 'Fuel', 'Technology', 'CHPType', 'Source']\n",
      "power_plants_all_data_equivalent_headers_file_name: power_plants_all_data_equivalent_headers.csv\n",
      "power_plants_all_data_equivalent_headers_file_path: /home/ray/Dispa-SET_Unleash/RawData/PowerPlants/power_plants_all_data_equivalent_headers.csv\n"
     ]
    }
   ],
   "source": [
    "print (f\"zone_folder_name: {zone_folder_name}\\nzone_folder_path: {zone_folder_path}\\npower_plants_raw_data_folder_path: {power_plants_raw_data_folder_path}\\npower_plants_raw_data_file_name: {power_plants_raw_data_file_name}\\npower_plants_raw_data_download_link: {power_plants_raw_data_download_link}\\npower_plants_raw_data_file_path: {power_plants_raw_data_file_path}\\npower_plants_raw_data_download_link_sources_file_name: {power_plants_raw_data_download_link_sources_file_name}\\npower_plants_raw_data_download_link_sources_folder_path: {power_plants_raw_data_download_link_sources_folder_path}\\npower_plants_clean_data_file_name: {power_plants_clean_data_file_name}\\npower_plants_clean_data_folder_path {power_plants_clean_data_folder_path}\\npower_plants_clean_data_file_path {power_plants_clean_data_file_path}\\npower_plants_raw_data_file_headers: {power_plants_raw_data_file_headers}\\npower_plants_clean_data_file_headers: {power_plants_clean_data_file_headers}\\npower_plants_all_data_equivalent_headers_file_name: {power_plants_all_data_equivalent_headers_file_name}\\npower_plants_all_data_equivalent_headers_file_path: {power_plants_all_data_equivalent_headers_file_path}\")"
   ]
  },
  {
   "cell_type": "markdown",
   "id": "ffd56336-60f3-4b23-9f4e-0c3422d3c574",
   "metadata": {},
   "source": [
    "3.7 Technology Filter\n",
    "\n",
    "    This part read the current value of the column called \"technology\" of power_plants_clean_data_file and makes a compariton with the contend of the power_plants_all_data_equivalent_technologies_file and replace all the values of the column by their respective equivalent format needed to dispa-SET.\n",
    "    Additionally it copies to the power_plants_all_data_not_defined_units_file all the rows of the units with not defined technology or other kind of information in that field."
   ]
  },
  {
   "cell_type": "code",
   "execution_count": 28,
   "id": "588da451-f235-4ad3-866e-4c5565f15f3d",
   "metadata": {},
   "outputs": [],
   "source": [
    "power_plants_all_data_equivalent_technologies_file_name = \"power_plants_all_data_equivalent_technologies.csv\"\n",
    "power_plants_all_data_equivalent_technologies_file_path = \"/home/ray/Dispa-SET_Unleash/RawData/PowerPlants/power_plants_all_data_equivalent_technologies.csv\"\n",
    "power_plants_all_data_not_defined_units_file_name = \"power_plants_all_data_not_defined_units.csv\"\n",
    "power_plants_all_data_not_defined_units_file_path = \"/home/ray/Dispa-SET_Unleash/RawData/PowerPlants/power_plants_all_data_not_defined_units.csv\""
   ]
  },
  {
   "cell_type": "code",
   "execution_count": 29,
   "id": "7d22aab1-6c20-4657-89de-7aa412fbf09b",
   "metadata": {},
   "outputs": [
    {
     "name": "stdout",
     "output_type": "stream",
     "text": [
      "power_plants_all_data_equivalent_technologies_file_name: power_plants_all_data_equivalent_technologies.csv\n",
      "power_plants_all_data_equivalent_technologies_file_path: /home/ray/Dispa-SET_Unleash/RawData/PowerPlants/power_plants_all_data_equivalent_technologies.csv\n",
      "power_plants_all_data_not_defined_units_file_name: power_plants_all_data_not_defined_units.csv\n",
      "power_plants_all_data_not_defined_units_file_path: /home/ray/Dispa-SET_Unleash/RawData/PowerPlants/power_plants_all_data_not_defined_units.csv\n"
     ]
    }
   ],
   "source": [
    "print(f\"power_plants_all_data_equivalent_technologies_file_name: {power_plants_all_data_equivalent_technologies_file_name}\")\n",
    "print(f\"power_plants_all_data_equivalent_technologies_file_path: {power_plants_all_data_equivalent_technologies_file_path}\")\n",
    "print(f\"power_plants_all_data_not_defined_units_file_name: {power_plants_all_data_not_defined_units_file_name}\")\n",
    "print(f\"power_plants_all_data_not_defined_units_file_path: {power_plants_all_data_not_defined_units_file_path}\")"
   ]
  },
  {
   "cell_type": "code",
   "execution_count": 30,
   "id": "dbb5cf63-2f1c-42ca-b18c-574ca18d0cb6",
   "metadata": {},
   "outputs": [],
   "source": [
    "import pandas as pd\n",
    "\n",
    "# Define file paths\n",
    "#power_plants_clean_data_file_path = \"/home/ray/Dispa-SET_Unleash/RawData/PowerPlants/DE/2020.csv\"\n",
    "#power_plants_all_data_equivalent_technologies_file_path = \"/home/ray/Dispa-SET_Unleash/RawData/PowerPlants/power_plants_all_data_equivalent_technologies.csv\"\n",
    "#power_plants_all_data_not_defined_units_file_path = \"/home/ray/Dispa-SET_Unleash/RawData/PowerPlants/power_plants_all_data_not_defined_units.csv\"\n",
    "\n",
    "# Read CSV files\n",
    "clean_data_df = pd.read_csv(power_plants_clean_data_file_path)\n",
    "equivalent_technologies_df = pd.read_csv(power_plants_all_data_equivalent_technologies_file_path)\n",
    "\n",
    "# Create a dictionary mapping Equivalent_Technology to Dispaset_Technology\n",
    "equivalent_technologies_dict = dict(zip(equivalent_technologies_df['Equivalent_Technology'], equivalent_technologies_df['Dispaset_Technology']))\n",
    "\n",
    "# Create a list to store rows not found in the second file\n",
    "not_defined_units = []\n",
    "\n",
    "# Iterate over each value in the 'technology' column of the clean data file\n",
    "for index, technology in enumerate(clean_data_df['Technology']):\n",
    "    # Check if the technology exists in the equivalent technologies dictionary\n",
    "    if technology in equivalent_technologies_dict:\n",
    "        # If found, replace the value in the 'technology' column with the corresponding value from the dictionary\n",
    "        clean_data_df.at[index, 'Technology'] = equivalent_technologies_dict[technology]\n",
    "    else:\n",
    "        # If not found, append the entire row to the list of not defined units\n",
    "        not_defined_units.append(clean_data_df.iloc[index])\n",
    "\n",
    "# Save the not defined units to the respective file\n",
    "not_defined_df = pd.DataFrame(not_defined_units)\n",
    "not_defined_df.to_csv(power_plants_all_data_not_defined_units_file_path, index=False)\n",
    "\n",
    "# Remove the rows not found in the second file from the clean data file\n",
    "clean_data_df = clean_data_df[~clean_data_df['Technology'].isin(not_defined_df['Technology'])]\n",
    "\n",
    "# Save the updated clean data file\n",
    "clean_data_df.to_csv(power_plants_clean_data_file_path, index=False)\n"
   ]
  },
  {
   "cell_type": "markdown",
   "id": "d20b16d2-1368-4161-9c24-6dda682a88f2",
   "metadata": {},
   "source": [
    "- verifiyng variables\n",
    "\n",
    "  This cells are just to confirm all the file names, file paths and other information related to the data being processed.\n",
    "  Also are used to ensure the inputs for next cells in order to avoid to re-enter the same information each time."
   ]
  },
  {
   "cell_type": "code",
   "execution_count": 31,
   "id": "62a13860-bf45-4574-816f-e2448ecb839a",
   "metadata": {
    "scrolled": true
   },
   "outputs": [
    {
     "name": "stdout",
     "output_type": "stream",
     "text": [
      "zone_folder_name: DE\n",
      "zone_folder_path: /home/ray/Dispa-SET_Unleash/RawData/PowerPlants\n",
      "power_plants_raw_data_folder_path: /home/ray/Dispa-SET_Unleash/RawData/PowerPlants/DE\n",
      "power_plants_raw_data_file_name: 2020-01.csv\n",
      "power_plants_raw_data_download_link: https://data.open-power-system-data.org/conventional_power_plants/2020-10-01/conventional_power_plants_EU.csv\n",
      "power_plants_raw_data_file_path: /home/ray/Dispa-SET_Unleash/RawData/PowerPlants/DE/2020-01.csv\n",
      "power_plants_raw_data_download_link_sources_file_name: power_plants_raw_data_download_link_sources.csv\n",
      "power_plants_raw_data_download_link_sources_folder_path: /home/ray/Dispa-SET_Unleash/RawData/PowerPlants\n",
      "power_plants_clean_data_file_name: 2020.csv\n",
      "power_plants_clean_data_folder_path: /home/ray/Dispa-SET_Unleash/RawData/PowerPlants/DE\n",
      "power_plants_clean_data_file_path: /home/ray/Dispa-SET_Unleash/RawData/PowerPlants/DE/2020.csv\n",
      "power_plants_raw_data_file_headers: ['name', 'capacity', 'country', 'energy_source', 'technology', 'chp', 'source']\n",
      "power_plants_clean_data_file_headers: ['Unit', 'PowerCapacity', 'Zone', 'Fuel', 'Technology', 'CHPType', 'Source']\n",
      "power_plants_all_data_equivalent_headers_file_name: power_plants_all_data_equivalent_headers.csv\n",
      "power_plants_all_data_equivalent_headers_file_path: /home/ray/Dispa-SET_Unleash/RawData/PowerPlants/power_plants_all_data_equivalent_headers.csv\n",
      "power_plants_all_data_equivalent_technologies_file_name: power_plants_all_data_equivalent_technologies.csv\n",
      "power_plants_all_data_equivalent_technologies_file_path: /home/ray/Dispa-SET_Unleash/RawData/PowerPlants/power_plants_all_data_equivalent_technologies.csv\n",
      "power_plants_all_data_not_defined_units_file_name: power_plants_all_data_not_defined_units.csv\n",
      "power_plants_all_data_not_defined_units_file_path: /home/ray/Dispa-SET_Unleash/RawData/PowerPlants/power_plants_all_data_not_defined_units.csv\n"
     ]
    }
   ],
   "source": [
    "print (f\"zone_folder_name: {zone_folder_name}\\nzone_folder_path: {zone_folder_path}\\npower_plants_raw_data_folder_path: {power_plants_raw_data_folder_path}\\npower_plants_raw_data_file_name: {power_plants_raw_data_file_name}\\npower_plants_raw_data_download_link: {power_plants_raw_data_download_link}\\npower_plants_raw_data_file_path: {power_plants_raw_data_file_path}\\npower_plants_raw_data_download_link_sources_file_name: {power_plants_raw_data_download_link_sources_file_name}\\npower_plants_raw_data_download_link_sources_folder_path: {power_plants_raw_data_download_link_sources_folder_path}\\npower_plants_clean_data_file_name: {power_plants_clean_data_file_name}\\npower_plants_clean_data_folder_path: {power_plants_clean_data_folder_path}\\npower_plants_clean_data_file_path: {power_plants_clean_data_file_path}\\npower_plants_raw_data_file_headers: {power_plants_raw_data_file_headers}\\npower_plants_clean_data_file_headers: {power_plants_clean_data_file_headers}\\npower_plants_all_data_equivalent_headers_file_name: {power_plants_all_data_equivalent_headers_file_name}\\npower_plants_all_data_equivalent_headers_file_path: {power_plants_all_data_equivalent_headers_file_path}\\npower_plants_all_data_equivalent_technologies_file_name: {power_plants_all_data_equivalent_technologies_file_name}\\npower_plants_all_data_equivalent_technologies_file_path: {power_plants_all_data_equivalent_technologies_file_path}\\npower_plants_all_data_not_defined_units_file_name: {power_plants_all_data_not_defined_units_file_name}\\npower_plants_all_data_not_defined_units_file_path: {power_plants_all_data_not_defined_units_file_path}\")"
   ]
  },
  {
   "cell_type": "markdown",
   "id": "7fbcd929-f17e-4694-b9a8-ed52d5992dce",
   "metadata": {},
   "source": [
    "3.7 Fuel Filter\n",
    "\n",
    "    This part read the current value of the column called \"fuel\" of power_plants_clean_data_file and makes a compariton with the contend of the power_plants_all_data_equivalent_fuels_file and replace all the values of the column by their respective equivalent format needed to dispa-SET.\n",
    "    Additionally it copies to the power_plants_all_data_not_defined_units_file all the rows of the units with not defined fuel or other kind of information in that field."
   ]
  },
  {
   "cell_type": "code",
   "execution_count": 32,
   "id": "7888a2b4-7d2d-4f69-b73a-1d6658fae68a",
   "metadata": {},
   "outputs": [],
   "source": [
    "power_plants_all_data_equivalent_fuels_file_name = \"power_plants_all_data_equivalent_fuels.csv\"\n",
    "power_plants_all_data_equivalent_fuels_file_path = \"/home/ray/Dispa-SET_Unleash/RawData/PowerPlants/power_plants_all_data_equivalent_fuels.csv\""
   ]
  },
  {
   "cell_type": "code",
   "execution_count": 33,
   "id": "8a91a64a-5625-4dc5-b011-b40ff0042629",
   "metadata": {},
   "outputs": [
    {
     "ename": "KeyError",
     "evalue": "'Fuel'",
     "output_type": "error",
     "traceback": [
      "Traceback \u001b[0;36m(most recent call last)\u001b[0m:\n",
      "\u001b[0m  Cell \u001b[1;32mIn[33], line 33\u001b[0m\n    clean_data_df = clean_data_df[~clean_data_df['Fuel'].isin(not_defined_df['Fuel'])]\u001b[0m\n",
      "\u001b[0m  File \u001b[1;32m~/anaconda3/lib/python3.11/site-packages/pandas/core/frame.py:3893\u001b[0m in \u001b[1;35m__getitem__\u001b[0m\n    indexer = self.columns.get_loc(key)\u001b[0m\n",
      "\u001b[0;36m  File \u001b[0;32m~/anaconda3/lib/python3.11/site-packages/pandas/core/indexes/range.py:418\u001b[0;36m in \u001b[0;35mget_loc\u001b[0;36m\n\u001b[0;31m    raise KeyError(key)\u001b[0;36m\n",
      "\u001b[0;31mKeyError\u001b[0m\u001b[0;31m:\u001b[0m 'Fuel'\n"
     ]
    }
   ],
   "source": [
    "import pandas as pd\n",
    "\n",
    "# Define file paths\n",
    "#power_plants_clean_data_file_path = \"/home/ray/Dispa-SET_Unleash/RawData/PowerPlants/DE/2020.csv\"\n",
    "#power_plants_all_data_equivalent_technologies_file_path = \"/home/ray/Dispa-SET_Unleash/RawData/PowerPlants/power_plants_all_data_equivalent_technologies.csv\"\n",
    "#power_plants_all_data_not_defined_units_file_path = \"/home/ray/Dispa-SET_Unleash/RawData/PowerPlants/power_plants_all_data_not_defined_units.csv\"\n",
    "\n",
    "# Read CSV files\n",
    "clean_data_df = pd.read_csv(power_plants_clean_data_file_path)\n",
    "equivalent_fuels_df = pd.read_csv(power_plants_all_data_equivalent_fuels_file_path)\n",
    "\n",
    "# Create a dictionary mapping Equivalent_Fuels to Dispaset_Technology\n",
    "equivalent_fuels_dict = dict(zip(equivalent_fuels_df['Equivalent_Fuel'], equivalent_fuels_df['Dispaset_Fuel']))\n",
    "\n",
    "# Create a list to store rows not found in the second file\n",
    "not_defined_units = []\n",
    "\n",
    "# Iterate over each value in the 'Fuel' column of the clean data file\n",
    "for index, Fuel in enumerate(clean_data_df['Fuel']):\n",
    "    # Check if the technology exists in the equivalent technologies dictionary\n",
    "    if Fuel in equivalent_fuels_dict:\n",
    "        # If found, replace the value in the 'technology' column with the corresponding value from the dictionary\n",
    "        clean_data_df.at[index, 'Fuel'] = equivalent_fuels_dict[Fuel]\n",
    "    else:\n",
    "        # If not found, append the entire row to the list of not defined units\n",
    "        not_defined_units.append(clean_data_df.iloc[index])\n",
    "\n",
    "# Save the not defined units to the respective file\n",
    "not_defined_df = pd.DataFrame(not_defined_units)\n",
    "not_defined_df.to_csv(power_plants_all_data_not_defined_units_file_path, index=False)\n",
    "\n",
    "# Remove the rows not found in the second file from the clean data file\n",
    "clean_data_df = clean_data_df[~clean_data_df['Fuel'].isin(not_defined_df['Fuel'])]\n",
    "\n",
    "# Save the updated clean data file\n",
    "clean_data_df.to_csv(power_plants_clean_data_file_path, index=False)"
   ]
  },
  {
   "cell_type": "markdown",
   "id": "d810daee-8864-4fc8-8f07-73541255086a",
   "metadata": {},
   "source": [
    "Next spet, filter CHP type"
   ]
  },
  {
   "cell_type": "code",
   "execution_count": null,
   "id": "4c53079e-6b43-4814-b94d-0a59ac5544cd",
   "metadata": {},
   "outputs": [],
   "source": []
  }
 ],
 "metadata": {
  "kernelspec": {
   "display_name": "Python 3 (Spyder)",
   "language": "python3",
   "name": "python3"
  },
  "language_info": {
   "codemirror_mode": {
    "name": "ipython",
    "version": 3
   },
   "file_extension": ".py",
   "mimetype": "text/x-python",
   "name": "python",
   "nbconvert_exporter": "python",
   "pygments_lexer": "ipython3",
   "version": "3.11.7"
  }
 },
 "nbformat": 4,
 "nbformat_minor": 5
}
